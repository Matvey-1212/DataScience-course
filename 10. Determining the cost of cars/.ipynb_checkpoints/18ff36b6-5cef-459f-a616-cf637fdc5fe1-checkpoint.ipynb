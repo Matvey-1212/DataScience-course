{
 "cells": [
  {
   "cell_type": "markdown",
   "metadata": {},
   "source": [
    "# Определение стоимости автомобилей"
   ]
  },
  {
   "cell_type": "markdown",
   "metadata": {},
   "source": [
    "Сервис по продаже автомобилей с пробегом «Не бит, не крашен» разрабатывает приложение для привлечения новых клиентов. В нём можно быстро узнать рыночную стоимость своего автомобиля. В вашем распоряжении исторические данные: технические характеристики, комплектации и цены автомобилей. Вам нужно построить модель для определения стоимости. \n",
    "\n",
    "Заказчику важны:\n",
    "\n",
    "- качество предсказания;\n",
    "- скорость предсказания;\n",
    "- время обучения."
   ]
  },
  {
   "cell_type": "markdown",
   "metadata": {},
   "source": [
    "`autos.csv:`\n",
    "- DateCrawled — дата скачивания анкеты из базы\n",
    "- VehicleType — тип автомобильного кузова\n",
    "- RegistrationYear — год регистрации автомобиля\n",
    "- Gearbox — тип коробки передач\n",
    "- Power — мощность (л. с.)\n",
    "- Model — модель автомобиля\n",
    "- Kilometer — пробег (км)\n",
    "- RegistrationMonth — месяц регистрации автомобиля\n",
    "- FuelType — тип топлива\n",
    "- Brand — марка автомобиля\n",
    "- Repaired — была машина в ремонте или нет\n",
    "- DateCreated — дата создания анкеты\n",
    "- NumberOfPictures — количество фотографий автомобиля\n",
    "- PostalCode — почтовый индекс владельца анкеты (пользователя)\n",
    "- LastSeen — дата последней активности пользователя\n",
    "- Price — цена (евро)"
   ]
  },
  {
   "cell_type": "markdown",
   "metadata": {},
   "source": [
    "## Подготовка данных"
   ]
  },
  {
   "cell_type": "code",
   "execution_count": 1,
   "metadata": {},
   "outputs": [
    {
     "data": {
      "text/html": [
       "<style>.container { width:90% !important; }</style>"
      ],
      "text/plain": [
       "<IPython.core.display.HTML object>"
      ]
     },
     "metadata": {},
     "output_type": "display_data"
    }
   ],
   "source": [
    "from IPython.display import display, HTML\n",
    "display(HTML(\"<style>.container { width:90% !important; }</style>\"))"
   ]
  },
  {
   "cell_type": "code",
   "execution_count": 2,
   "metadata": {},
   "outputs": [
    {
     "name": "stdout",
     "output_type": "stream",
     "text": [
      "Requirement already satisfied: missingno in /opt/conda/lib/python3.9/site-packages (0.5.2)\n",
      "Requirement already satisfied: scipy in /opt/conda/lib/python3.9/site-packages (from missingno) (1.9.1)\n",
      "Requirement already satisfied: numpy in /opt/conda/lib/python3.9/site-packages (from missingno) (1.21.1)\n",
      "Requirement already satisfied: matplotlib in /opt/conda/lib/python3.9/site-packages (from missingno) (3.3.4)\n",
      "Requirement already satisfied: seaborn in /opt/conda/lib/python3.9/site-packages (from missingno) (0.11.1)\n",
      "Requirement already satisfied: python-dateutil>=2.1 in /opt/conda/lib/python3.9/site-packages (from matplotlib->missingno) (2.8.1)\n",
      "Requirement already satisfied: cycler>=0.10 in /opt/conda/lib/python3.9/site-packages (from matplotlib->missingno) (0.11.0)\n",
      "Requirement already satisfied: pillow>=6.2.0 in /opt/conda/lib/python3.9/site-packages (from matplotlib->missingno) (8.4.0)\n",
      "Requirement already satisfied: pyparsing!=2.0.4,!=2.1.2,!=2.1.6,>=2.0.3 in /opt/conda/lib/python3.9/site-packages (from matplotlib->missingno) (2.4.7)\n",
      "Requirement already satisfied: kiwisolver>=1.0.1 in /opt/conda/lib/python3.9/site-packages (from matplotlib->missingno) (1.4.4)\n",
      "Requirement already satisfied: six>=1.5 in /opt/conda/lib/python3.9/site-packages (from python-dateutil>=2.1->matplotlib->missingno) (1.16.0)\n",
      "Requirement already satisfied: pandas>=0.23 in /opt/conda/lib/python3.9/site-packages (from seaborn->missingno) (1.2.4)\n",
      "Requirement already satisfied: pytz>=2017.3 in /opt/conda/lib/python3.9/site-packages (from pandas>=0.23->seaborn->missingno) (2021.1)\n",
      "Requirement already satisfied: phik in /opt/conda/lib/python3.9/site-packages (0.12.3)\n",
      "Requirement already satisfied: numpy>=1.18.0 in /opt/conda/lib/python3.9/site-packages (from phik) (1.21.1)\n",
      "Requirement already satisfied: joblib>=0.14.1 in /opt/conda/lib/python3.9/site-packages (from phik) (1.1.0)\n",
      "Requirement already satisfied: matplotlib>=2.2.3 in /opt/conda/lib/python3.9/site-packages (from phik) (3.3.4)\n",
      "Requirement already satisfied: scipy>=1.5.2 in /opt/conda/lib/python3.9/site-packages (from phik) (1.9.1)\n",
      "Requirement already satisfied: pandas>=0.25.1 in /opt/conda/lib/python3.9/site-packages (from phik) (1.2.4)\n",
      "Requirement already satisfied: pillow>=6.2.0 in /opt/conda/lib/python3.9/site-packages (from matplotlib>=2.2.3->phik) (8.4.0)\n",
      "Requirement already satisfied: python-dateutil>=2.1 in /opt/conda/lib/python3.9/site-packages (from matplotlib>=2.2.3->phik) (2.8.1)\n",
      "Requirement already satisfied: cycler>=0.10 in /opt/conda/lib/python3.9/site-packages (from matplotlib>=2.2.3->phik) (0.11.0)\n",
      "Requirement already satisfied: kiwisolver>=1.0.1 in /opt/conda/lib/python3.9/site-packages (from matplotlib>=2.2.3->phik) (1.4.4)\n",
      "Requirement already satisfied: pyparsing!=2.0.4,!=2.1.2,!=2.1.6,>=2.0.3 in /opt/conda/lib/python3.9/site-packages (from matplotlib>=2.2.3->phik) (2.4.7)\n",
      "Requirement already satisfied: pytz>=2017.3 in /opt/conda/lib/python3.9/site-packages (from pandas>=0.25.1->phik) (2021.1)\n",
      "Requirement already satisfied: six>=1.5 in /opt/conda/lib/python3.9/site-packages (from python-dateutil>=2.1->matplotlib>=2.2.3->phik) (1.16.0)\n",
      "Requirement already satisfied: sweetviz in /opt/conda/lib/python3.9/site-packages (2.2.1)\n",
      "Requirement already satisfied: numpy>=1.16.0 in /opt/conda/lib/python3.9/site-packages (from sweetviz) (1.21.1)\n",
      "Requirement already satisfied: importlib-resources>=1.2.0 in /opt/conda/lib/python3.9/site-packages (from sweetviz) (6.0.1)\n",
      "Requirement already satisfied: pandas!=1.0.0,!=1.0.1,!=1.0.2,>=0.25.3 in /opt/conda/lib/python3.9/site-packages (from sweetviz) (1.2.4)\n",
      "Requirement already satisfied: matplotlib>=3.1.3 in /opt/conda/lib/python3.9/site-packages (from sweetviz) (3.3.4)\n",
      "Requirement already satisfied: scipy>=1.3.2 in /opt/conda/lib/python3.9/site-packages (from sweetviz) (1.9.1)\n",
      "Requirement already satisfied: jinja2>=2.11.1 in /opt/conda/lib/python3.9/site-packages (from sweetviz) (3.0.1)\n",
      "Requirement already satisfied: tqdm>=4.43.0 in /opt/conda/lib/python3.9/site-packages (from sweetviz) (4.61.2)\n",
      "Requirement already satisfied: zipp>=3.1.0 in /opt/conda/lib/python3.9/site-packages (from importlib-resources>=1.2.0->sweetviz) (3.5.0)\n",
      "Requirement already satisfied: MarkupSafe>=2.0 in /opt/conda/lib/python3.9/site-packages (from jinja2>=2.11.1->sweetviz) (2.1.1)\n",
      "Requirement already satisfied: kiwisolver>=1.0.1 in /opt/conda/lib/python3.9/site-packages (from matplotlib>=3.1.3->sweetviz) (1.4.4)\n",
      "Requirement already satisfied: pyparsing!=2.0.4,!=2.1.2,!=2.1.6,>=2.0.3 in /opt/conda/lib/python3.9/site-packages (from matplotlib>=3.1.3->sweetviz) (2.4.7)\n",
      "Requirement already satisfied: cycler>=0.10 in /opt/conda/lib/python3.9/site-packages (from matplotlib>=3.1.3->sweetviz) (0.11.0)\n",
      "Requirement already satisfied: pillow>=6.2.0 in /opt/conda/lib/python3.9/site-packages (from matplotlib>=3.1.3->sweetviz) (8.4.0)\n",
      "Requirement already satisfied: python-dateutil>=2.1 in /opt/conda/lib/python3.9/site-packages (from matplotlib>=3.1.3->sweetviz) (2.8.1)\n",
      "Requirement already satisfied: pytz>=2017.3 in /opt/conda/lib/python3.9/site-packages (from pandas!=1.0.0,!=1.0.1,!=1.0.2,>=0.25.3->sweetviz) (2021.1)\n",
      "Requirement already satisfied: six>=1.5 in /opt/conda/lib/python3.9/site-packages (from python-dateutil>=2.1->matplotlib>=3.1.3->sweetviz) (1.16.0)\n",
      "Requirement already satisfied: ydata-profiling in /opt/conda/lib/python3.9/site-packages (4.5.1)\n",
      "Requirement already satisfied: typeguard<3,>=2.13.2 in /opt/conda/lib/python3.9/site-packages (from ydata-profiling) (2.13.3)\n",
      "Requirement already satisfied: visions[type_image_path]==0.7.5 in /opt/conda/lib/python3.9/site-packages (from ydata-profiling) (0.7.5)\n",
      "Requirement already satisfied: PyYAML<6.1,>=5.0.0 in /opt/conda/lib/python3.9/site-packages (from ydata-profiling) (6.0)\n",
      "Requirement already satisfied: pandas!=1.4.0,<2.1,>1.1 in /opt/conda/lib/python3.9/site-packages (from ydata-profiling) (1.2.4)\n",
      "Requirement already satisfied: pydantic<2,>=1.8.1 in /opt/conda/lib/python3.9/site-packages (from ydata-profiling) (1.8.2)\n",
      "Requirement already satisfied: imagehash==4.3.1 in /opt/conda/lib/python3.9/site-packages (from ydata-profiling) (4.3.1)\n",
      "Requirement already satisfied: matplotlib<4,>=3.2 in /opt/conda/lib/python3.9/site-packages (from ydata-profiling) (3.3.4)\n",
      "Requirement already satisfied: wordcloud>=1.9.1 in /opt/conda/lib/python3.9/site-packages (from ydata-profiling) (1.9.2)\n",
      "Requirement already satisfied: numpy<1.24,>=1.16.0 in /opt/conda/lib/python3.9/site-packages (from ydata-profiling) (1.21.1)\n",
      "Requirement already satisfied: dacite>=1.8 in /opt/conda/lib/python3.9/site-packages (from ydata-profiling) (1.8.1)\n",
      "Requirement already satisfied: phik<0.13,>=0.11.1 in /opt/conda/lib/python3.9/site-packages (from ydata-profiling) (0.12.3)\n",
      "Requirement already satisfied: scipy<1.12,>=1.4.1 in /opt/conda/lib/python3.9/site-packages (from ydata-profiling) (1.9.1)\n",
      "Requirement already satisfied: tqdm<5,>=4.48.2 in /opt/conda/lib/python3.9/site-packages (from ydata-profiling) (4.61.2)\n",
      "Requirement already satisfied: multimethod<2,>=1.4 in /opt/conda/lib/python3.9/site-packages (from ydata-profiling) (1.9.1)\n",
      "Requirement already satisfied: jinja2<3.2,>=2.11.1 in /opt/conda/lib/python3.9/site-packages (from ydata-profiling) (3.0.1)\n",
      "Requirement already satisfied: requests<3,>=2.24.0 in /opt/conda/lib/python3.9/site-packages (from ydata-profiling) (2.25.1)\n",
      "Requirement already satisfied: seaborn<0.13,>=0.10.1 in /opt/conda/lib/python3.9/site-packages (from ydata-profiling) (0.11.1)\n",
      "Requirement already satisfied: htmlmin==0.1.12 in /opt/conda/lib/python3.9/site-packages (from ydata-profiling) (0.1.12)\n",
      "Requirement already satisfied: statsmodels<1,>=0.13.2 in /opt/conda/lib/python3.9/site-packages (from ydata-profiling) (0.13.2)\n",
      "Requirement already satisfied: pillow in /opt/conda/lib/python3.9/site-packages (from imagehash==4.3.1->ydata-profiling) (8.4.0)\n",
      "Requirement already satisfied: PyWavelets in /opt/conda/lib/python3.9/site-packages (from imagehash==4.3.1->ydata-profiling) (1.4.1)\n",
      "Requirement already satisfied: tangled-up-in-unicode>=0.0.4 in /opt/conda/lib/python3.9/site-packages (from visions[type_image_path]==0.7.5->ydata-profiling) (0.2.0)\n",
      "Requirement already satisfied: networkx>=2.4 in /opt/conda/lib/python3.9/site-packages (from visions[type_image_path]==0.7.5->ydata-profiling) (3.1)\n",
      "Requirement already satisfied: attrs>=19.3.0 in /opt/conda/lib/python3.9/site-packages (from visions[type_image_path]==0.7.5->ydata-profiling) (21.2.0)\n",
      "Requirement already satisfied: MarkupSafe>=2.0 in /opt/conda/lib/python3.9/site-packages (from jinja2<3.2,>=2.11.1->ydata-profiling) (2.1.1)\n",
      "Requirement already satisfied: kiwisolver>=1.0.1 in /opt/conda/lib/python3.9/site-packages (from matplotlib<4,>=3.2->ydata-profiling) (1.4.4)\n",
      "Requirement already satisfied: cycler>=0.10 in /opt/conda/lib/python3.9/site-packages (from matplotlib<4,>=3.2->ydata-profiling) (0.11.0)\n",
      "Requirement already satisfied: pyparsing!=2.0.4,!=2.1.2,!=2.1.6,>=2.0.3 in /opt/conda/lib/python3.9/site-packages (from matplotlib<4,>=3.2->ydata-profiling) (2.4.7)\n",
      "Requirement already satisfied: python-dateutil>=2.1 in /opt/conda/lib/python3.9/site-packages (from matplotlib<4,>=3.2->ydata-profiling) (2.8.1)\n",
      "Requirement already satisfied: pytz>=2017.3 in /opt/conda/lib/python3.9/site-packages (from pandas!=1.4.0,<2.1,>1.1->ydata-profiling) (2021.1)\n",
      "Requirement already satisfied: joblib>=0.14.1 in /opt/conda/lib/python3.9/site-packages (from phik<0.13,>=0.11.1->ydata-profiling) (1.1.0)\n",
      "Requirement already satisfied: typing-extensions>=3.7.4.3 in /opt/conda/lib/python3.9/site-packages (from pydantic<2,>=1.8.1->ydata-profiling) (4.3.0)\n",
      "Requirement already satisfied: six>=1.5 in /opt/conda/lib/python3.9/site-packages (from python-dateutil>=2.1->matplotlib<4,>=3.2->ydata-profiling) (1.16.0)\n",
      "Requirement already satisfied: chardet<5,>=3.0.2 in /opt/conda/lib/python3.9/site-packages (from requests<3,>=2.24.0->ydata-profiling) (4.0.0)\n",
      "Requirement already satisfied: certifi>=2017.4.17 in /opt/conda/lib/python3.9/site-packages (from requests<3,>=2.24.0->ydata-profiling) (2022.6.15)\n",
      "Requirement already satisfied: urllib3<1.27,>=1.21.1 in /opt/conda/lib/python3.9/site-packages (from requests<3,>=2.24.0->ydata-profiling) (1.26.6)\n",
      "Requirement already satisfied: idna<3,>=2.5 in /opt/conda/lib/python3.9/site-packages (from requests<3,>=2.24.0->ydata-profiling) (2.10)\n",
      "Requirement already satisfied: patsy>=0.5.2 in /opt/conda/lib/python3.9/site-packages (from statsmodels<1,>=0.13.2->ydata-profiling) (0.5.2)\n",
      "Requirement already satisfied: packaging>=21.3 in /opt/conda/lib/python3.9/site-packages (from statsmodels<1,>=0.13.2->ydata-profiling) (21.3)\n"
     ]
    }
   ],
   "source": [
    "!pip install missingno\n",
    "!pip install phik\n",
    "!pip install sweetviz\n",
    "!pip install ydata-profiling"
   ]
  },
  {
   "cell_type": "code",
   "execution_count": 3,
   "metadata": {},
   "outputs": [],
   "source": [
    "import pandas as pd\n",
    "import numpy as np\n",
    "import missingno as msno\n",
    "import matplotlib.pyplot as plt\n",
    "import seaborn as sns\n",
    "import datetime\n",
    "import time\n",
    "from phik import resources, report\n",
    "import sweetviz as sv\n",
    "from ydata_profiling import ProfileReport\n",
    "\n",
    "\n",
    "from sklearn.metrics import mean_absolute_error, mean_squared_error,r2_score, make_scorer\n",
    "from sklearn.pipeline import Pipeline\n",
    "from sklearn.compose import ColumnTransformer,make_column_selector\n",
    "from sklearn.preprocessing import StandardScaler, OneHotEncoder,FunctionTransformer\n",
    "\n",
    "from sklearn.model_selection import GridSearchCV,cross_validate,KFold,train_test_split,RandomizedSearchCV\n",
    "from sklearn.linear_model import LinearRegression, ElasticNet\n",
    "from sklearn.ensemble import RandomForestRegressor\n",
    "\n",
    "from catboost import CatBoostRegressor\n",
    "\n",
    "import lightgbm as lgb\n",
    "\n",
    "from scipy.stats import spearmanr, kendalltau"
   ]
  },
  {
   "cell_type": "markdown",
   "metadata": {},
   "source": [
    "### Изучим данные"
   ]
  },
  {
   "cell_type": "code",
   "execution_count": 4,
   "metadata": {
    "scrolled": false
   },
   "outputs": [],
   "source": [
    "try:\n",
    "    auto = pd.read_csv('autos.csv', parse_dates = ['DateCrawled','DateCreated','LastSeen'])\n",
    "except:\n",
    "    auto = pd.read_csv('/datasets/autos.csv', parse_dates = ['DateCrawled','DateCreated','LastSeen'])"
   ]
  },
  {
   "cell_type": "markdown",
   "metadata": {},
   "source": [
    "исправим названия столбцов"
   ]
  },
  {
   "cell_type": "code",
   "execution_count": 5,
   "metadata": {},
   "outputs": [],
   "source": [
    "auto.columns = ['date_crawled','price','vehicle_type',\n",
    "                'registration_year','gearbox','power',\n",
    "                'model','kilometer','registration_month',\n",
    "                'fuel_type','brand','repaired',\n",
    "                'date_created', 'number_of_pictures', 'postal_code','last_seen']"
   ]
  },
  {
   "cell_type": "code",
   "execution_count": 6,
   "metadata": {
    "scrolled": true
   },
   "outputs": [
    {
     "data": {
      "text/html": [
       "<div>\n",
       "<style scoped>\n",
       "    .dataframe tbody tr th:only-of-type {\n",
       "        vertical-align: middle;\n",
       "    }\n",
       "\n",
       "    .dataframe tbody tr th {\n",
       "        vertical-align: top;\n",
       "    }\n",
       "\n",
       "    .dataframe thead th {\n",
       "        text-align: right;\n",
       "    }\n",
       "</style>\n",
       "<table border=\"1\" class=\"dataframe\">\n",
       "  <thead>\n",
       "    <tr style=\"text-align: right;\">\n",
       "      <th></th>\n",
       "      <th>date_crawled</th>\n",
       "      <th>price</th>\n",
       "      <th>vehicle_type</th>\n",
       "      <th>registration_year</th>\n",
       "      <th>gearbox</th>\n",
       "      <th>power</th>\n",
       "      <th>model</th>\n",
       "      <th>kilometer</th>\n",
       "      <th>registration_month</th>\n",
       "      <th>fuel_type</th>\n",
       "      <th>brand</th>\n",
       "      <th>repaired</th>\n",
       "      <th>date_created</th>\n",
       "      <th>number_of_pictures</th>\n",
       "      <th>postal_code</th>\n",
       "      <th>last_seen</th>\n",
       "    </tr>\n",
       "  </thead>\n",
       "  <tbody>\n",
       "    <tr>\n",
       "      <th>0</th>\n",
       "      <td>2016-03-24 11:52:17</td>\n",
       "      <td>480</td>\n",
       "      <td>NaN</td>\n",
       "      <td>1993</td>\n",
       "      <td>manual</td>\n",
       "      <td>0</td>\n",
       "      <td>golf</td>\n",
       "      <td>150000</td>\n",
       "      <td>0</td>\n",
       "      <td>petrol</td>\n",
       "      <td>volkswagen</td>\n",
       "      <td>NaN</td>\n",
       "      <td>2016-03-24</td>\n",
       "      <td>0</td>\n",
       "      <td>70435</td>\n",
       "      <td>2016-04-07 03:16:57</td>\n",
       "    </tr>\n",
       "    <tr>\n",
       "      <th>1</th>\n",
       "      <td>2016-03-24 10:58:45</td>\n",
       "      <td>18300</td>\n",
       "      <td>coupe</td>\n",
       "      <td>2011</td>\n",
       "      <td>manual</td>\n",
       "      <td>190</td>\n",
       "      <td>NaN</td>\n",
       "      <td>125000</td>\n",
       "      <td>5</td>\n",
       "      <td>gasoline</td>\n",
       "      <td>audi</td>\n",
       "      <td>yes</td>\n",
       "      <td>2016-03-24</td>\n",
       "      <td>0</td>\n",
       "      <td>66954</td>\n",
       "      <td>2016-04-07 01:46:50</td>\n",
       "    </tr>\n",
       "    <tr>\n",
       "      <th>2</th>\n",
       "      <td>2016-03-14 12:52:21</td>\n",
       "      <td>9800</td>\n",
       "      <td>suv</td>\n",
       "      <td>2004</td>\n",
       "      <td>auto</td>\n",
       "      <td>163</td>\n",
       "      <td>grand</td>\n",
       "      <td>125000</td>\n",
       "      <td>8</td>\n",
       "      <td>gasoline</td>\n",
       "      <td>jeep</td>\n",
       "      <td>NaN</td>\n",
       "      <td>2016-03-14</td>\n",
       "      <td>0</td>\n",
       "      <td>90480</td>\n",
       "      <td>2016-04-05 12:47:46</td>\n",
       "    </tr>\n",
       "    <tr>\n",
       "      <th>3</th>\n",
       "      <td>2016-03-17 16:54:04</td>\n",
       "      <td>1500</td>\n",
       "      <td>small</td>\n",
       "      <td>2001</td>\n",
       "      <td>manual</td>\n",
       "      <td>75</td>\n",
       "      <td>golf</td>\n",
       "      <td>150000</td>\n",
       "      <td>6</td>\n",
       "      <td>petrol</td>\n",
       "      <td>volkswagen</td>\n",
       "      <td>no</td>\n",
       "      <td>2016-03-17</td>\n",
       "      <td>0</td>\n",
       "      <td>91074</td>\n",
       "      <td>2016-03-17 17:40:17</td>\n",
       "    </tr>\n",
       "    <tr>\n",
       "      <th>4</th>\n",
       "      <td>2016-03-31 17:25:20</td>\n",
       "      <td>3600</td>\n",
       "      <td>small</td>\n",
       "      <td>2008</td>\n",
       "      <td>manual</td>\n",
       "      <td>69</td>\n",
       "      <td>fabia</td>\n",
       "      <td>90000</td>\n",
       "      <td>7</td>\n",
       "      <td>gasoline</td>\n",
       "      <td>skoda</td>\n",
       "      <td>no</td>\n",
       "      <td>2016-03-31</td>\n",
       "      <td>0</td>\n",
       "      <td>60437</td>\n",
       "      <td>2016-04-06 10:17:21</td>\n",
       "    </tr>\n",
       "  </tbody>\n",
       "</table>\n",
       "</div>"
      ],
      "text/plain": [
       "         date_crawled  price vehicle_type  registration_year gearbox  power  \\\n",
       "0 2016-03-24 11:52:17    480          NaN               1993  manual      0   \n",
       "1 2016-03-24 10:58:45  18300        coupe               2011  manual    190   \n",
       "2 2016-03-14 12:52:21   9800          suv               2004    auto    163   \n",
       "3 2016-03-17 16:54:04   1500        small               2001  manual     75   \n",
       "4 2016-03-31 17:25:20   3600        small               2008  manual     69   \n",
       "\n",
       "   model  kilometer  registration_month fuel_type       brand repaired  \\\n",
       "0   golf     150000                   0    petrol  volkswagen      NaN   \n",
       "1    NaN     125000                   5  gasoline        audi      yes   \n",
       "2  grand     125000                   8  gasoline        jeep      NaN   \n",
       "3   golf     150000                   6    petrol  volkswagen       no   \n",
       "4  fabia      90000                   7  gasoline       skoda       no   \n",
       "\n",
       "  date_created  number_of_pictures  postal_code           last_seen  \n",
       "0   2016-03-24                   0        70435 2016-04-07 03:16:57  \n",
       "1   2016-03-24                   0        66954 2016-04-07 01:46:50  \n",
       "2   2016-03-14                   0        90480 2016-04-05 12:47:46  \n",
       "3   2016-03-17                   0        91074 2016-03-17 17:40:17  \n",
       "4   2016-03-31                   0        60437 2016-04-06 10:17:21  "
      ]
     },
     "execution_count": 6,
     "metadata": {},
     "output_type": "execute_result"
    }
   ],
   "source": [
    "auto.head()"
   ]
  },
  {
   "cell_type": "code",
   "execution_count": 7,
   "metadata": {
    "scrolled": false
   },
   "outputs": [
    {
     "name": "stdout",
     "output_type": "stream",
     "text": [
      "<class 'pandas.core.frame.DataFrame'>\n",
      "RangeIndex: 354369 entries, 0 to 354368\n",
      "Data columns (total 16 columns):\n",
      " #   Column              Non-Null Count   Dtype         \n",
      "---  ------              --------------   -----         \n",
      " 0   date_crawled        354369 non-null  datetime64[ns]\n",
      " 1   price               354369 non-null  int64         \n",
      " 2   vehicle_type        316879 non-null  object        \n",
      " 3   registration_year   354369 non-null  int64         \n",
      " 4   gearbox             334536 non-null  object        \n",
      " 5   power               354369 non-null  int64         \n",
      " 6   model               334664 non-null  object        \n",
      " 7   kilometer           354369 non-null  int64         \n",
      " 8   registration_month  354369 non-null  int64         \n",
      " 9   fuel_type           321474 non-null  object        \n",
      " 10  brand               354369 non-null  object        \n",
      " 11  repaired            283215 non-null  object        \n",
      " 12  date_created        354369 non-null  datetime64[ns]\n",
      " 13  number_of_pictures  354369 non-null  int64         \n",
      " 14  postal_code         354369 non-null  int64         \n",
      " 15  last_seen           354369 non-null  datetime64[ns]\n",
      "dtypes: datetime64[ns](3), int64(7), object(6)\n",
      "memory usage: 43.3+ MB\n"
     ]
    }
   ],
   "source": [
    "auto.info()"
   ]
  },
  {
   "cell_type": "code",
   "execution_count": 8,
   "metadata": {
    "scrolled": true
   },
   "outputs": [
    {
     "data": {
      "text/html": [
       "<div>\n",
       "<style scoped>\n",
       "    .dataframe tbody tr th:only-of-type {\n",
       "        vertical-align: middle;\n",
       "    }\n",
       "\n",
       "    .dataframe tbody tr th {\n",
       "        vertical-align: top;\n",
       "    }\n",
       "\n",
       "    .dataframe thead th {\n",
       "        text-align: right;\n",
       "    }\n",
       "</style>\n",
       "<table border=\"1\" class=\"dataframe\">\n",
       "  <thead>\n",
       "    <tr style=\"text-align: right;\">\n",
       "      <th></th>\n",
       "      <th>price</th>\n",
       "      <th>registration_year</th>\n",
       "      <th>power</th>\n",
       "      <th>kilometer</th>\n",
       "      <th>registration_month</th>\n",
       "      <th>number_of_pictures</th>\n",
       "      <th>postal_code</th>\n",
       "    </tr>\n",
       "  </thead>\n",
       "  <tbody>\n",
       "    <tr>\n",
       "      <th>count</th>\n",
       "      <td>354369.000000</td>\n",
       "      <td>354369.000000</td>\n",
       "      <td>354369.000000</td>\n",
       "      <td>354369.000000</td>\n",
       "      <td>354369.000000</td>\n",
       "      <td>354369.0</td>\n",
       "      <td>354369.000000</td>\n",
       "    </tr>\n",
       "    <tr>\n",
       "      <th>mean</th>\n",
       "      <td>4416.656776</td>\n",
       "      <td>2004.234448</td>\n",
       "      <td>110.094337</td>\n",
       "      <td>128211.172535</td>\n",
       "      <td>5.714645</td>\n",
       "      <td>0.0</td>\n",
       "      <td>50508.689087</td>\n",
       "    </tr>\n",
       "    <tr>\n",
       "      <th>std</th>\n",
       "      <td>4514.158514</td>\n",
       "      <td>90.227958</td>\n",
       "      <td>189.850405</td>\n",
       "      <td>37905.341530</td>\n",
       "      <td>3.726421</td>\n",
       "      <td>0.0</td>\n",
       "      <td>25783.096248</td>\n",
       "    </tr>\n",
       "    <tr>\n",
       "      <th>min</th>\n",
       "      <td>0.000000</td>\n",
       "      <td>1000.000000</td>\n",
       "      <td>0.000000</td>\n",
       "      <td>5000.000000</td>\n",
       "      <td>0.000000</td>\n",
       "      <td>0.0</td>\n",
       "      <td>1067.000000</td>\n",
       "    </tr>\n",
       "    <tr>\n",
       "      <th>25%</th>\n",
       "      <td>1050.000000</td>\n",
       "      <td>1999.000000</td>\n",
       "      <td>69.000000</td>\n",
       "      <td>125000.000000</td>\n",
       "      <td>3.000000</td>\n",
       "      <td>0.0</td>\n",
       "      <td>30165.000000</td>\n",
       "    </tr>\n",
       "    <tr>\n",
       "      <th>50%</th>\n",
       "      <td>2700.000000</td>\n",
       "      <td>2003.000000</td>\n",
       "      <td>105.000000</td>\n",
       "      <td>150000.000000</td>\n",
       "      <td>6.000000</td>\n",
       "      <td>0.0</td>\n",
       "      <td>49413.000000</td>\n",
       "    </tr>\n",
       "    <tr>\n",
       "      <th>75%</th>\n",
       "      <td>6400.000000</td>\n",
       "      <td>2008.000000</td>\n",
       "      <td>143.000000</td>\n",
       "      <td>150000.000000</td>\n",
       "      <td>9.000000</td>\n",
       "      <td>0.0</td>\n",
       "      <td>71083.000000</td>\n",
       "    </tr>\n",
       "    <tr>\n",
       "      <th>max</th>\n",
       "      <td>20000.000000</td>\n",
       "      <td>9999.000000</td>\n",
       "      <td>20000.000000</td>\n",
       "      <td>150000.000000</td>\n",
       "      <td>12.000000</td>\n",
       "      <td>0.0</td>\n",
       "      <td>99998.000000</td>\n",
       "    </tr>\n",
       "  </tbody>\n",
       "</table>\n",
       "</div>"
      ],
      "text/plain": [
       "               price  registration_year          power      kilometer  \\\n",
       "count  354369.000000      354369.000000  354369.000000  354369.000000   \n",
       "mean     4416.656776        2004.234448     110.094337  128211.172535   \n",
       "std      4514.158514          90.227958     189.850405   37905.341530   \n",
       "min         0.000000        1000.000000       0.000000    5000.000000   \n",
       "25%      1050.000000        1999.000000      69.000000  125000.000000   \n",
       "50%      2700.000000        2003.000000     105.000000  150000.000000   \n",
       "75%      6400.000000        2008.000000     143.000000  150000.000000   \n",
       "max     20000.000000        9999.000000   20000.000000  150000.000000   \n",
       "\n",
       "       registration_month  number_of_pictures    postal_code  \n",
       "count       354369.000000            354369.0  354369.000000  \n",
       "mean             5.714645                 0.0   50508.689087  \n",
       "std              3.726421                 0.0   25783.096248  \n",
       "min              0.000000                 0.0    1067.000000  \n",
       "25%              3.000000                 0.0   30165.000000  \n",
       "50%              6.000000                 0.0   49413.000000  \n",
       "75%              9.000000                 0.0   71083.000000  \n",
       "max             12.000000                 0.0   99998.000000  "
      ]
     },
     "execution_count": 8,
     "metadata": {},
     "output_type": "execute_result"
    }
   ],
   "source": [
    "auto.describe()"
   ]
  },
  {
   "cell_type": "markdown",
   "metadata": {},
   "source": [
    "Сразу видно, что в столбце `number_of_pictures` содержаться только нули.\n",
    "\n",
    "Он не несет никакой пользы, потому сразу удалим его"
   ]
  },
  {
   "cell_type": "code",
   "execution_count": 9,
   "metadata": {},
   "outputs": [],
   "source": [
    "auto = auto.drop(['number_of_pictures'], axis=1)"
   ]
  },
  {
   "cell_type": "markdown",
   "metadata": {},
   "source": [
    "Визуализируем пропуски"
   ]
  },
  {
   "cell_type": "code",
   "execution_count": 10,
   "metadata": {
    "scrolled": false
   },
   "outputs": [
    {
     "data": {
      "image/png": "[encoded data removed]",
      "text/plain": [
       "<Figure size 1800x720 with 2 Axes>"
      ]
     },
     "metadata": {
      "needs_background": "light"
     },
     "output_type": "display_data"
    }
   ],
   "source": [
    "msno.matrix(auto,labels=True);"
   ]
  },
  {
   "cell_type": "code",
   "execution_count": 11,
   "metadata": {
    "scrolled": false
   },
   "outputs": [
    {
     "data": {
      "text/plain": [
       "date_crawled              0\n",
       "price                     0\n",
       "vehicle_type          37490\n",
       "registration_year         0\n",
       "gearbox               19833\n",
       "power                     0\n",
       "model                 19705\n",
       "kilometer                 0\n",
       "registration_month        0\n",
       "fuel_type             32895\n",
       "brand                     0\n",
       "repaired              71154\n",
       "date_created              0\n",
       "postal_code               0\n",
       "last_seen                 0\n",
       "dtype: int64"
      ]
     },
     "execution_count": 11,
     "metadata": {},
     "output_type": "execute_result"
    }
   ],
   "source": [
    "auto.isna().sum()"
   ]
  },
  {
   "cell_type": "markdown",
   "metadata": {},
   "source": [
    "Посмотрим на дубликаты по всем столбцам:"
   ]
  },
  {
   "cell_type": "code",
   "execution_count": 12,
   "metadata": {},
   "outputs": [
    {
     "data": {
      "text/plain": [
       "4"
      ]
     },
     "execution_count": 12,
     "metadata": {},
     "output_type": "execute_result"
    }
   ],
   "source": [
    "auto.duplicated().sum()"
   ]
  },
  {
   "cell_type": "markdown",
   "metadata": {},
   "source": [
    "не так много, однако стоит учесть факт, что вероятны случаи дублирования анкет одних и тех же машин\n",
    "\n",
    "Посмотрим на дубликаты по всем столбцам кроме `last_seen`, `date_created`, `postal_code`. Случайное совпадение по всем остальным столбцам крайне мало.\n",
    "\n",
    "Так же уберем из рассмотрения `date_crawled`, который никак не связан с информацией об автомобилях."
   ]
  },
  {
   "cell_type": "code",
   "execution_count": 13,
   "metadata": {
    "scrolled": true
   },
   "outputs": [
    {
     "name": "stdout",
     "output_type": "stream",
     "text": [
      "duplicates: 27543, 7.77%\n"
     ]
    }
   ],
   "source": [
    "duplicates = auto.duplicated(subset=[ 'price', 'vehicle_type', 'registration_year', 'gearbox',\n",
    "       'power', 'model', 'kilometer', 'registration_month', 'fuel_type',\n",
    "       'brand', 'repaired']).sum()\n",
    "print(f'duplicates: {duplicates}, {duplicates/auto.shape[0] * 100 :.2f}%')"
   ]
  },
  {
   "cell_type": "markdown",
   "metadata": {},
   "source": [
    "Дублируются 7.7%\n",
    "\n",
    "Удалим их."
   ]
  },
  {
   "cell_type": "code",
   "execution_count": 14,
   "metadata": {},
   "outputs": [],
   "source": [
    "auto = auto.drop_duplicates(subset=[ 'price', 'vehicle_type', 'registration_year', 'gearbox',\n",
    "       'power', 'model', 'kilometer', 'registration_month', 'fuel_type',\n",
    "       'brand', 'repaired'])"
   ]
  },
  {
   "cell_type": "markdown",
   "metadata": {},
   "source": [
    "<div style=\"border: 3px solid blue; border-radius: 5px; padding: 10px;\">\n",
    "Вывод:\n",
    "    \n",
    "1) в данных много пропусков\n",
    "    \n",
    "2) были изменены названия столбцов\n",
    "    \n",
    "3) были удалены дублиаты (7.7%)\n",
    "    \n",
    "4) был удален столбец `number_of_pictures`, так как содержит только нули\n",
    "    "
   ]
  },
  {
   "cell_type": "markdown",
   "metadata": {},
   "source": [
    "### Определим неинформативные столбцы"
   ]
  },
  {
   "cell_type": "markdown",
   "metadata": {},
   "source": [
    "**Неинформативные столбцы:**\n",
    "- date_crawled — дата скачивания анкеты из базы\n",
    "- postal_code — почтовый индекс владельца анкеты (пользователя)\n",
    "- last_seen — дата последней активности пользователя\n",
    "\n",
    "Эти столбцы не несут никакой полезной информации. Удалим их"
   ]
  },
  {
   "cell_type": "markdown",
   "metadata": {},
   "source": [
    "`power` и `kilometr` однозначно содержат полезную информацию.\n",
    "\n",
    "Для проверки остальных, посмотрим на корреляцию Пирсона"
   ]
  },
  {
   "cell_type": "code",
   "execution_count": 15,
   "metadata": {
    "scrolled": false
   },
   "outputs": [
    {
     "data": {
      "image/png": "[encoded data removed]",
      "text/plain": [
       "<Figure size 432x288 with 2 Axes>"
      ]
     },
     "metadata": {
      "needs_background": "light"
     },
     "output_type": "display_data"
    }
   ],
   "source": [
    "sns.heatmap(auto.drop(['postal_code'],axis=1).corr(), annot=True, cmap='coolwarm', fmt='.2f', linewidths=0.5, square=True);"
   ]
  },
  {
   "cell_type": "code",
   "execution_count": 16,
   "metadata": {},
   "outputs": [
    {
     "name": "stdout",
     "output_type": "stream",
     "text": [
      "interval columns not set, guessing: ['price', 'registration_year', 'power', 'kilometer', 'registration_month', 'postal_code']\n"
     ]
    }
   ],
   "source": [
    "phik_matrix = auto.drop(['date_crawled','last_seen'],axis=1).phik_matrix()"
   ]
  },
  {
   "cell_type": "code",
   "execution_count": 17,
   "metadata": {
    "scrolled": false
   },
   "outputs": [
    {
     "data": {
      "image/png": "[encoded data removed]",
      "text/plain": [
       "<Figure size 720x576 with 2 Axes>"
      ]
     },
     "metadata": {
      "needs_background": "light"
     },
     "output_type": "display_data"
    }
   ],
   "source": [
    "fig, ax = plt.subplots(figsize=(10, 8))\n",
    "sns.heatmap(phik_matrix, annot=True ,cmap='coolwarm', fmt='.2f', linewidths=0.5, ax=ax);"
   ]
  },
  {
   "cell_type": "markdown",
   "metadata": {},
   "source": [
    "На удивление `registration_year` и `power` показали самую низкую корреляцию с ценой "
   ]
  },
  {
   "cell_type": "markdown",
   "metadata": {},
   "source": [
    "**Числовые столбцы, которые нужно проверить:**\n",
    "- registration_year — год регистрации автомобиля\n",
    "- registration_month — месяц регистрации автомобиля. Дата регистрации может быть важна(сколько автомобилю лет), однако точная точная дата вероятно будет лишней информацией\n",
    "- date_created — дата создания анкеты. Возможно на цену автомобиля может влиять сколько времени автомобиль продается\n",
    "\n"
   ]
  },
  {
   "cell_type": "markdown",
   "metadata": {},
   "source": [
    "Корреляция методом Пирсона может не показать сложные зависимости между столбцами. \n",
    "\n",
    "Поэтому посмотрим на нелинейную зависимость:"
   ]
  },
  {
   "cell_type": "code",
   "execution_count": 18,
   "metadata": {},
   "outputs": [],
   "source": [
    "def nonlinear_corr(x,y):\n",
    "    spearman_corr,_ = spearmanr(x, y)\n",
    "    print(f\"Spearman's correlation: {spearman_corr:.2f}\")\n",
    "    kendall_corr,_ = kendalltau(x, y)\n",
    "    print(f\"Kendall's tau: {kendall_corr:.2f}\")"
   ]
  },
  {
   "cell_type": "code",
   "execution_count": 19,
   "metadata": {
    "scrolled": true
   },
   "outputs": [
    {
     "name": "stdout",
     "output_type": "stream",
     "text": [
      "Spearman's correlation: 0.54\n",
      "Kendall's tau: 0.42\n"
     ]
    }
   ],
   "source": [
    "nonlinear_corr(auto['registration_year'],auto['price'])"
   ]
  },
  {
   "cell_type": "code",
   "execution_count": 20,
   "metadata": {
    "scrolled": true
   },
   "outputs": [
    {
     "name": "stdout",
     "output_type": "stream",
     "text": [
      "Spearman's correlation: 0.15\n",
      "Kendall's tau: 0.11\n"
     ]
    }
   ],
   "source": [
    "nonlinear_corr(auto['registration_month'],auto['price'])"
   ]
  },
  {
   "cell_type": "markdown",
   "metadata": {},
   "source": [
    "`registration_year`  показал высокую корреляцию.\n",
    "\n",
    "`registration_month` показал низкую корреляцию методами Спирмана и Кендала. Удалим его"
   ]
  },
  {
   "cell_type": "markdown",
   "metadata": {},
   "source": [
    "взглянем на визуализацию плотности `date_created` по `price`"
   ]
  },
  {
   "cell_type": "code",
   "execution_count": 21,
   "metadata": {
    "scrolled": false
   },
   "outputs": [
    {
     "data": {
      "image/png": "[encoded data removed]",
      "text/plain": [
       "<Figure size 432x288 with 1 Axes>"
      ]
     },
     "metadata": {
      "needs_background": "light"
     },
     "output_type": "display_data"
    }
   ],
   "source": [
    "sns.kdeplot(x = (np.datetime64('now') - auto['date_created'].iloc[::300]).dt.days, \n",
    "            y = auto['price'].iloc[::300], cmap='Blues', shade=True)\n",
    "plt.show()"
   ]
  },
  {
   "cell_type": "markdown",
   "metadata": {},
   "source": [
    "На графике не видно зависимости между ценой и тем, сколько объявление находится на сайте. Видно, что большое количество объявлений находится в одном ценовом диапазоне.\n",
    "\n",
    "Из-за смешения графика, так же можно предположить о наличии выбросов, в следующих пунктах проверим это.\n",
    "\n",
    "Удалим столбец `date_created`"
   ]
  },
  {
   "cell_type": "markdown",
   "metadata": {},
   "source": [
    "**посмотрим на зависимость года регистрации автомобиля от даты создания анкеты**"
   ]
  },
  {
   "cell_type": "code",
   "execution_count": 22,
   "metadata": {},
   "outputs": [
    {
     "data": {
      "image/png": "[encoded data removed]",
      "text/plain": [
       "<Figure size 1080x504 with 1 Axes>"
      ]
     },
     "metadata": {
      "needs_background": "light"
     },
     "output_type": "display_data"
    }
   ],
   "source": [
    "fig, ax = plt.subplots(figsize=(15, 7))\n",
    "ax.scatter(auto['date_created'],auto['registration_year']);"
   ]
  },
  {
   "cell_type": "markdown",
   "metadata": {},
   "source": [
    "Видно, что выбросы появляются в определенный промежуток времени. Это может говорить об каких изменениях в форме заполнения данных при регистрации анккеты."
   ]
  },
  {
   "cell_type": "code",
   "execution_count": 23,
   "metadata": {},
   "outputs": [
    {
     "data": {
      "image/png": "[encoded data removed]",
      "text/plain": [
       "<Figure size 1080x504 with 1 Axes>"
      ]
     },
     "metadata": {
      "needs_background": "light"
     },
     "output_type": "display_data"
    }
   ],
   "source": [
    "fig, ax = plt.subplots(figsize=(15, 7))\n",
    "ax.scatter(auto['date_crawled'],auto['registration_year']);"
   ]
  },
  {
   "cell_type": "markdown",
   "metadata": {},
   "source": [
    "#### Удаляем неинформативные столбцы"
   ]
  },
  {
   "cell_type": "code",
   "execution_count": 24,
   "metadata": {},
   "outputs": [],
   "source": [
    "auto = auto.drop(['date_crawled','postal_code','last_seen'],axis=1)"
   ]
  },
  {
   "cell_type": "code",
   "execution_count": 25,
   "metadata": {},
   "outputs": [],
   "source": [
    "auto = auto.drop(['registration_month'],axis=1)"
   ]
  },
  {
   "cell_type": "code",
   "execution_count": 26,
   "metadata": {},
   "outputs": [],
   "source": [
    "auto = auto.drop(['date_created'],axis=1)"
   ]
  },
  {
   "cell_type": "markdown",
   "metadata": {},
   "source": [
    "Посмотрим на оставшиеся данные:"
   ]
  },
  {
   "cell_type": "code",
   "execution_count": 27,
   "metadata": {
    "scrolled": false
   },
   "outputs": [
    {
     "name": "stdout",
     "output_type": "stream",
     "text": [
      "<class 'pandas.core.frame.DataFrame'>\n",
      "Int64Index: 326826 entries, 0 to 354368\n",
      "Data columns (total 10 columns):\n",
      " #   Column             Non-Null Count   Dtype \n",
      "---  ------             --------------   ----- \n",
      " 0   price              326826 non-null  int64 \n",
      " 1   vehicle_type       291577 non-null  object\n",
      " 2   registration_year  326826 non-null  int64 \n",
      " 3   gearbox            309248 non-null  object\n",
      " 4   power              326826 non-null  int64 \n",
      " 5   model              308294 non-null  object\n",
      " 6   kilometer          326826 non-null  int64 \n",
      " 7   fuel_type          295704 non-null  object\n",
      " 8   brand              326826 non-null  object\n",
      " 9   repaired           260399 non-null  object\n",
      "dtypes: int64(4), object(6)\n",
      "memory usage: 27.4+ MB\n"
     ]
    }
   ],
   "source": [
    "auto.info()"
   ]
  },
  {
   "cell_type": "markdown",
   "metadata": {},
   "source": [
    "<div style=\"border: 3px solid blue; border-radius: 5px; padding: 10px;\">\n",
    "    \n",
    "Вывод:\n",
    "    \n",
    "1) числовые столбцы не связаны между собой\n",
    "    \n",
    "2) были удалены столбцы `date_crawled`, `postal_code`, `last_seen`,`registration_month`,`date_created` из-за неинформативности\n",
    "    "
   ]
  },
  {
   "cell_type": "markdown",
   "metadata": {},
   "source": [
    "### Замена пропусков, удалений выбросов и аномалий"
   ]
  },
  {
   "cell_type": "markdown",
   "metadata": {},
   "source": [
    "#### Количественные переменные"
   ]
  },
  {
   "cell_type": "markdown",
   "metadata": {},
   "source": [
    "- price              \n",
    "\n",
    "- registration_year  \n",
    "\n",
    "- power              \n",
    "\n",
    "- kilometer          \n"
   ]
  },
  {
   "cell_type": "code",
   "execution_count": 28,
   "metadata": {},
   "outputs": [],
   "source": [
    "def plot_info(df, column, bins= 10,figsize = (15,7)):\n",
    "    print(df[column].describe())\n",
    "    plt.figure(figsize=figsize)\n",
    "    plt.subplot(2, 1, 1)  \n",
    "    sns.boxplot(data=df[column], orient='h')\n",
    "    plt.title('Boxplot')\n",
    "\n",
    "    plt.subplot(2, 1, 2)  \n",
    "    sns.histplot(data=df[column],kde=True, bins=bins, color='blue', alpha=0.7)\n",
    "    plt.title('Histogram')\n",
    "\n",
    "    plt.tight_layout()\n",
    "    plt.show()\n",
    "\n"
   ]
  },
  {
   "cell_type": "code",
   "execution_count": 29,
   "metadata": {},
   "outputs": [],
   "source": [
    "num_list = ['price','registration_year','power','kilometer']"
   ]
  },
  {
   "cell_type": "markdown",
   "metadata": {},
   "source": [
    "`registration_year`"
   ]
  },
  {
   "cell_type": "code",
   "execution_count": 30,
   "metadata": {},
   "outputs": [
    {
     "name": "stdout",
     "output_type": "stream",
     "text": [
      "count    326826.000000\n",
      "mean       2004.230985\n",
      "std          91.120018\n",
      "min        1000.000000\n",
      "25%        1999.000000\n",
      "50%        2003.000000\n",
      "75%        2008.000000\n",
      "max        9999.000000\n",
      "Name: registration_year, dtype: float64\n"
     ]
    },
    {
     "data": {
      "image/png": "[encoded data removed]",
      "text/plain": [
       "<Figure size 1080x504 with 2 Axes>"
      ]
     },
     "metadata": {
      "needs_background": "light"
     },
     "output_type": "display_data"
    }
   ],
   "source": [
    "plot_info(auto, 'registration_year',bins=30)"
   ]
  },
  {
   "cell_type": "markdown",
   "metadata": {},
   "source": [
    "Видны явные аномалии, например 10000 год..."
   ]
  },
  {
   "cell_type": "code",
   "execution_count": 31,
   "metadata": {},
   "outputs": [],
   "source": [
    "current_year = datetime.datetime.now().year"
   ]
  },
  {
   "cell_type": "code",
   "execution_count": 32,
   "metadata": {
    "scrolled": false
   },
   "outputs": [
    {
     "data": {
      "text/html": [
       "<div>\n",
       "<style scoped>\n",
       "    .dataframe tbody tr th:only-of-type {\n",
       "        vertical-align: middle;\n",
       "    }\n",
       "\n",
       "    .dataframe tbody tr th {\n",
       "        vertical-align: top;\n",
       "    }\n",
       "\n",
       "    .dataframe thead th {\n",
       "        text-align: right;\n",
       "    }\n",
       "</style>\n",
       "<table border=\"1\" class=\"dataframe\">\n",
       "  <thead>\n",
       "    <tr style=\"text-align: right;\">\n",
       "      <th></th>\n",
       "      <th>price</th>\n",
       "      <th>vehicle_type</th>\n",
       "      <th>registration_year</th>\n",
       "      <th>gearbox</th>\n",
       "      <th>power</th>\n",
       "      <th>model</th>\n",
       "      <th>kilometer</th>\n",
       "      <th>fuel_type</th>\n",
       "      <th>brand</th>\n",
       "      <th>repaired</th>\n",
       "    </tr>\n",
       "  </thead>\n",
       "  <tbody>\n",
       "    <tr>\n",
       "      <th>12946</th>\n",
       "      <td>49</td>\n",
       "      <td>NaN</td>\n",
       "      <td>5000</td>\n",
       "      <td>NaN</td>\n",
       "      <td>0</td>\n",
       "      <td>golf</td>\n",
       "      <td>5000</td>\n",
       "      <td>NaN</td>\n",
       "      <td>volkswagen</td>\n",
       "      <td>NaN</td>\n",
       "    </tr>\n",
       "    <tr>\n",
       "      <th>15147</th>\n",
       "      <td>0</td>\n",
       "      <td>NaN</td>\n",
       "      <td>9999</td>\n",
       "      <td>NaN</td>\n",
       "      <td>0</td>\n",
       "      <td>NaN</td>\n",
       "      <td>10000</td>\n",
       "      <td>NaN</td>\n",
       "      <td>sonstige_autos</td>\n",
       "      <td>NaN</td>\n",
       "    </tr>\n",
       "    <tr>\n",
       "      <th>15870</th>\n",
       "      <td>1700</td>\n",
       "      <td>NaN</td>\n",
       "      <td>3200</td>\n",
       "      <td>NaN</td>\n",
       "      <td>0</td>\n",
       "      <td>NaN</td>\n",
       "      <td>5000</td>\n",
       "      <td>NaN</td>\n",
       "      <td>sonstige_autos</td>\n",
       "      <td>NaN</td>\n",
       "    </tr>\n",
       "    <tr>\n",
       "      <th>17271</th>\n",
       "      <td>700</td>\n",
       "      <td>NaN</td>\n",
       "      <td>9999</td>\n",
       "      <td>NaN</td>\n",
       "      <td>0</td>\n",
       "      <td>other</td>\n",
       "      <td>10000</td>\n",
       "      <td>NaN</td>\n",
       "      <td>opel</td>\n",
       "      <td>NaN</td>\n",
       "    </tr>\n",
       "    <tr>\n",
       "      <th>17346</th>\n",
       "      <td>6500</td>\n",
       "      <td>NaN</td>\n",
       "      <td>8888</td>\n",
       "      <td>NaN</td>\n",
       "      <td>0</td>\n",
       "      <td>NaN</td>\n",
       "      <td>10000</td>\n",
       "      <td>NaN</td>\n",
       "      <td>sonstige_autos</td>\n",
       "      <td>NaN</td>\n",
       "    </tr>\n",
       "    <tr>\n",
       "      <th>...</th>\n",
       "      <td>...</td>\n",
       "      <td>...</td>\n",
       "      <td>...</td>\n",
       "      <td>...</td>\n",
       "      <td>...</td>\n",
       "      <td>...</td>\n",
       "      <td>...</td>\n",
       "      <td>...</td>\n",
       "      <td>...</td>\n",
       "      <td>...</td>\n",
       "    </tr>\n",
       "    <tr>\n",
       "      <th>334967</th>\n",
       "      <td>12000</td>\n",
       "      <td>NaN</td>\n",
       "      <td>4000</td>\n",
       "      <td>NaN</td>\n",
       "      <td>500</td>\n",
       "      <td>golf</td>\n",
       "      <td>5000</td>\n",
       "      <td>NaN</td>\n",
       "      <td>volkswagen</td>\n",
       "      <td>no</td>\n",
       "    </tr>\n",
       "    <tr>\n",
       "      <th>335727</th>\n",
       "      <td>0</td>\n",
       "      <td>NaN</td>\n",
       "      <td>7500</td>\n",
       "      <td>manual</td>\n",
       "      <td>0</td>\n",
       "      <td>other</td>\n",
       "      <td>10000</td>\n",
       "      <td>petrol</td>\n",
       "      <td>mini</td>\n",
       "      <td>no</td>\n",
       "    </tr>\n",
       "    <tr>\n",
       "      <th>338829</th>\n",
       "      <td>50</td>\n",
       "      <td>NaN</td>\n",
       "      <td>3000</td>\n",
       "      <td>NaN</td>\n",
       "      <td>3000</td>\n",
       "      <td>golf</td>\n",
       "      <td>100000</td>\n",
       "      <td>NaN</td>\n",
       "      <td>volkswagen</td>\n",
       "      <td>yes</td>\n",
       "    </tr>\n",
       "    <tr>\n",
       "      <th>340548</th>\n",
       "      <td>0</td>\n",
       "      <td>NaN</td>\n",
       "      <td>3500</td>\n",
       "      <td>manual</td>\n",
       "      <td>75</td>\n",
       "      <td>NaN</td>\n",
       "      <td>5000</td>\n",
       "      <td>petrol</td>\n",
       "      <td>sonstige_autos</td>\n",
       "      <td>NaN</td>\n",
       "    </tr>\n",
       "    <tr>\n",
       "      <th>341791</th>\n",
       "      <td>1</td>\n",
       "      <td>NaN</td>\n",
       "      <td>3000</td>\n",
       "      <td>NaN</td>\n",
       "      <td>0</td>\n",
       "      <td>zafira</td>\n",
       "      <td>5000</td>\n",
       "      <td>NaN</td>\n",
       "      <td>opel</td>\n",
       "      <td>NaN</td>\n",
       "    </tr>\n",
       "  </tbody>\n",
       "</table>\n",
       "<p>100 rows × 10 columns</p>\n",
       "</div>"
      ],
      "text/plain": [
       "        price vehicle_type  registration_year gearbox  power   model  \\\n",
       "12946      49          NaN               5000     NaN      0    golf   \n",
       "15147       0          NaN               9999     NaN      0     NaN   \n",
       "15870    1700          NaN               3200     NaN      0     NaN   \n",
       "17271     700          NaN               9999     NaN      0   other   \n",
       "17346    6500          NaN               8888     NaN      0     NaN   \n",
       "...       ...          ...                ...     ...    ...     ...   \n",
       "334967  12000          NaN               4000     NaN    500    golf   \n",
       "335727      0          NaN               7500  manual      0   other   \n",
       "338829     50          NaN               3000     NaN   3000    golf   \n",
       "340548      0          NaN               3500  manual     75     NaN   \n",
       "341791      1          NaN               3000     NaN      0  zafira   \n",
       "\n",
       "        kilometer fuel_type           brand repaired  \n",
       "12946        5000       NaN      volkswagen      NaN  \n",
       "15147       10000       NaN  sonstige_autos      NaN  \n",
       "15870        5000       NaN  sonstige_autos      NaN  \n",
       "17271       10000       NaN            opel      NaN  \n",
       "17346       10000       NaN  sonstige_autos      NaN  \n",
       "...           ...       ...             ...      ...  \n",
       "334967       5000       NaN      volkswagen       no  \n",
       "335727      10000    petrol            mini       no  \n",
       "338829     100000       NaN      volkswagen      yes  \n",
       "340548       5000    petrol  sonstige_autos      NaN  \n",
       "341791       5000       NaN            opel      NaN  \n",
       "\n",
       "[100 rows x 10 columns]"
      ]
     },
     "execution_count": 32,
     "metadata": {},
     "output_type": "execute_result"
    }
   ],
   "source": [
    "auto[(auto['registration_year'] > current_year)]"
   ]
  },
  {
   "cell_type": "markdown",
   "metadata": {},
   "source": [
    "С годами больше 2023 все просто, это либо ошибка при заполнении данных автомобиля, либо ошибка сбора данных.\n",
    "\n",
    "Это явные аномалии и их нужно удалить"
   ]
  },
  {
   "cell_type": "code",
   "execution_count": 33,
   "metadata": {},
   "outputs": [],
   "source": [
    "auto_temp = auto.query('registration_year <= @current_year')"
   ]
  },
  {
   "cell_type": "markdown",
   "metadata": {},
   "source": [
    "Остались аномалии меньше 2023. С большим запасом удалим записи до 1908 года(первый конвер, Форд) и посмотрим на оставшиеся."
   ]
  },
  {
   "cell_type": "code",
   "execution_count": 34,
   "metadata": {},
   "outputs": [],
   "source": [
    "auto_temp = auto_temp.query('registration_year >= 1908')"
   ]
  },
  {
   "cell_type": "markdown",
   "metadata": {},
   "source": [
    "посмотрим на записи меньше чем 25% перцентиль минус 1.5 х МКР"
   ]
  },
  {
   "cell_type": "code",
   "execution_count": 35,
   "metadata": {},
   "outputs": [
    {
     "data": {
      "text/plain": [
       "1985.5"
      ]
     },
     "execution_count": 35,
     "metadata": {},
     "output_type": "execute_result"
    }
   ],
   "source": [
    "anomaly_coef = (auto_temp['registration_year'].quantile(0.75) - auto_temp['registration_year'].quantile(0.25))\n",
    "auto_temp['registration_year'].quantile(0.25) - anomaly_coef*1.5"
   ]
  },
  {
   "cell_type": "code",
   "execution_count": 36,
   "metadata": {
    "scrolled": false
   },
   "outputs": [
    {
     "data": {
      "text/html": [
       "<div>\n",
       "<style scoped>\n",
       "    .dataframe tbody tr th:only-of-type {\n",
       "        vertical-align: middle;\n",
       "    }\n",
       "\n",
       "    .dataframe tbody tr th {\n",
       "        vertical-align: top;\n",
       "    }\n",
       "\n",
       "    .dataframe thead th {\n",
       "        text-align: right;\n",
       "    }\n",
       "</style>\n",
       "<table border=\"1\" class=\"dataframe\">\n",
       "  <thead>\n",
       "    <tr style=\"text-align: right;\">\n",
       "      <th></th>\n",
       "      <th>price</th>\n",
       "      <th>vehicle_type</th>\n",
       "      <th>registration_year</th>\n",
       "      <th>gearbox</th>\n",
       "      <th>power</th>\n",
       "      <th>model</th>\n",
       "      <th>kilometer</th>\n",
       "      <th>fuel_type</th>\n",
       "      <th>brand</th>\n",
       "      <th>repaired</th>\n",
       "    </tr>\n",
       "  </thead>\n",
       "  <tbody>\n",
       "    <tr>\n",
       "      <th>15</th>\n",
       "      <td>450</td>\n",
       "      <td>small</td>\n",
       "      <td>1910</td>\n",
       "      <td>NaN</td>\n",
       "      <td>0</td>\n",
       "      <td>ka</td>\n",
       "      <td>5000</td>\n",
       "      <td>petrol</td>\n",
       "      <td>ford</td>\n",
       "      <td>NaN</td>\n",
       "    </tr>\n",
       "    <tr>\n",
       "      <th>630</th>\n",
       "      <td>12000</td>\n",
       "      <td>sedan</td>\n",
       "      <td>1969</td>\n",
       "      <td>manual</td>\n",
       "      <td>140</td>\n",
       "      <td>s_klasse</td>\n",
       "      <td>80000</td>\n",
       "      <td>petrol</td>\n",
       "      <td>mercedes_benz</td>\n",
       "      <td>no</td>\n",
       "    </tr>\n",
       "    <tr>\n",
       "      <th>650</th>\n",
       "      <td>15000</td>\n",
       "      <td>coupe</td>\n",
       "      <td>1971</td>\n",
       "      <td>NaN</td>\n",
       "      <td>0</td>\n",
       "      <td>NaN</td>\n",
       "      <td>5000</td>\n",
       "      <td>NaN</td>\n",
       "      <td>sonstige_autos</td>\n",
       "      <td>no</td>\n",
       "    </tr>\n",
       "    <tr>\n",
       "      <th>981</th>\n",
       "      <td>2900</td>\n",
       "      <td>sedan</td>\n",
       "      <td>1971</td>\n",
       "      <td>auto</td>\n",
       "      <td>90</td>\n",
       "      <td>other</td>\n",
       "      <td>90000</td>\n",
       "      <td>petrol</td>\n",
       "      <td>opel</td>\n",
       "      <td>no</td>\n",
       "    </tr>\n",
       "    <tr>\n",
       "      <th>1235</th>\n",
       "      <td>4450</td>\n",
       "      <td>small</td>\n",
       "      <td>1971</td>\n",
       "      <td>manual</td>\n",
       "      <td>23</td>\n",
       "      <td>500</td>\n",
       "      <td>70000</td>\n",
       "      <td>petrol</td>\n",
       "      <td>fiat</td>\n",
       "      <td>no</td>\n",
       "    </tr>\n",
       "    <tr>\n",
       "      <th>...</th>\n",
       "      <td>...</td>\n",
       "      <td>...</td>\n",
       "      <td>...</td>\n",
       "      <td>...</td>\n",
       "      <td>...</td>\n",
       "      <td>...</td>\n",
       "      <td>...</td>\n",
       "      <td>...</td>\n",
       "      <td>...</td>\n",
       "      <td>...</td>\n",
       "    </tr>\n",
       "    <tr>\n",
       "      <th>353912</th>\n",
       "      <td>800</td>\n",
       "      <td>NaN</td>\n",
       "      <td>1970</td>\n",
       "      <td>NaN</td>\n",
       "      <td>0</td>\n",
       "      <td>other</td>\n",
       "      <td>150000</td>\n",
       "      <td>NaN</td>\n",
       "      <td>trabant</td>\n",
       "      <td>NaN</td>\n",
       "    </tr>\n",
       "    <tr>\n",
       "      <th>353961</th>\n",
       "      <td>200</td>\n",
       "      <td>NaN</td>\n",
       "      <td>1910</td>\n",
       "      <td>NaN</td>\n",
       "      <td>0</td>\n",
       "      <td>NaN</td>\n",
       "      <td>5000</td>\n",
       "      <td>petrol</td>\n",
       "      <td>sonstige_autos</td>\n",
       "      <td>NaN</td>\n",
       "    </tr>\n",
       "    <tr>\n",
       "      <th>354037</th>\n",
       "      <td>10500</td>\n",
       "      <td>convertible</td>\n",
       "      <td>1968</td>\n",
       "      <td>manual</td>\n",
       "      <td>54</td>\n",
       "      <td>other</td>\n",
       "      <td>20000</td>\n",
       "      <td>NaN</td>\n",
       "      <td>renault</td>\n",
       "      <td>no</td>\n",
       "    </tr>\n",
       "    <tr>\n",
       "      <th>354063</th>\n",
       "      <td>0</td>\n",
       "      <td>NaN</td>\n",
       "      <td>1970</td>\n",
       "      <td>NaN</td>\n",
       "      <td>0</td>\n",
       "      <td>sl</td>\n",
       "      <td>150000</td>\n",
       "      <td>NaN</td>\n",
       "      <td>mercedes_benz</td>\n",
       "      <td>NaN</td>\n",
       "    </tr>\n",
       "    <tr>\n",
       "      <th>354316</th>\n",
       "      <td>3300</td>\n",
       "      <td>coupe</td>\n",
       "      <td>1957</td>\n",
       "      <td>manual</td>\n",
       "      <td>40</td>\n",
       "      <td>other</td>\n",
       "      <td>100000</td>\n",
       "      <td>petrol</td>\n",
       "      <td>trabant</td>\n",
       "      <td>no</td>\n",
       "    </tr>\n",
       "  </tbody>\n",
       "</table>\n",
       "<p>1697 rows × 10 columns</p>\n",
       "</div>"
      ],
      "text/plain": [
       "        price vehicle_type  registration_year gearbox  power     model  \\\n",
       "15        450        small               1910     NaN      0        ka   \n",
       "630     12000        sedan               1969  manual    140  s_klasse   \n",
       "650     15000        coupe               1971     NaN      0       NaN   \n",
       "981      2900        sedan               1971    auto     90     other   \n",
       "1235     4450        small               1971  manual     23       500   \n",
       "...       ...          ...                ...     ...    ...       ...   \n",
       "353912    800          NaN               1970     NaN      0     other   \n",
       "353961    200          NaN               1910     NaN      0       NaN   \n",
       "354037  10500  convertible               1968  manual     54     other   \n",
       "354063      0          NaN               1970     NaN      0        sl   \n",
       "354316   3300        coupe               1957  manual     40     other   \n",
       "\n",
       "        kilometer fuel_type           brand repaired  \n",
       "15           5000    petrol            ford      NaN  \n",
       "630         80000    petrol   mercedes_benz       no  \n",
       "650          5000       NaN  sonstige_autos       no  \n",
       "981         90000    petrol            opel       no  \n",
       "1235        70000    petrol            fiat       no  \n",
       "...           ...       ...             ...      ...  \n",
       "353912     150000       NaN         trabant      NaN  \n",
       "353961       5000    petrol  sonstige_autos      NaN  \n",
       "354037      20000       NaN         renault       no  \n",
       "354063     150000       NaN   mercedes_benz      NaN  \n",
       "354316     100000    petrol         trabant       no  \n",
       "\n",
       "[1697 rows x 10 columns]"
      ]
     },
     "execution_count": 36,
     "metadata": {},
     "output_type": "execute_result"
    }
   ],
   "source": [
    "auto_temp[(auto_temp['registration_year'] < auto_temp['registration_year'].quantile(0.25) - anomaly_coef*3)]"
   ]
  },
  {
   "cell_type": "markdown",
   "metadata": {},
   "source": [
    "С одной стороны, удалить данные меньше $25\\%-1.5*MHK = 1985.5$ будет некорректным, так как в данных присутствуют раритетные машины и при обучении модель не будет о них знать. \n",
    "С другой, количество записей, которые можно отнести к раритетным мало по сравнению со всеми данными. Также стоит учесть факт, что стоимость раритетных авто может сильно отличаться в зависимости от разных факторов, не связанных с имеющимися данными.\n",
    "\n",
    "Исходя из выше перечисленного, было решено удалить записи меньше **1980** года."
   ]
  },
  {
   "cell_type": "code",
   "execution_count": 37,
   "metadata": {},
   "outputs": [
    {
     "name": "stdout",
     "output_type": "stream",
     "text": [
      "1.04%\n"
     ]
    }
   ],
   "source": [
    "auto_temp = auto.query('registration_year >= 1980 and registration_year <= @current_year')\n",
    "print(f'{(1- auto_temp.shape[0]/auto.shape[0]) * 100:.2f}%')\n",
    "auto = auto_temp"
   ]
  },
  {
   "cell_type": "markdown",
   "metadata": {},
   "source": [
    "___\n",
    "`price`"
   ]
  },
  {
   "cell_type": "code",
   "execution_count": 38,
   "metadata": {
    "scrolled": false
   },
   "outputs": [
    {
     "name": "stdout",
     "output_type": "stream",
     "text": [
      "count    323411.000000\n",
      "mean       4379.770237\n",
      "std        4498.025821\n",
      "min           0.000000\n",
      "25%        1000.000000\n",
      "50%        2699.000000\n",
      "75%        6300.000000\n",
      "max       20000.000000\n",
      "Name: price, dtype: float64\n"
     ]
    },
    {
     "data": {
      "image/png": "[encoded data removed]",
      "text/plain": [
       "<Figure size 1080x504 with 2 Axes>"
      ]
     },
     "metadata": {
      "needs_background": "light"
     },
     "output_type": "display_data"
    }
   ],
   "source": [
    "plot_info(auto, 'price',bins=100)"
   ]
  },
  {
   "cell_type": "markdown",
   "metadata": {},
   "source": [
    "По условию сказано, что цена в евро. Но если посмотреть на распределение цены, возникает вопрос в корректности данных - слишком много дешевых машин."
   ]
  },
  {
   "cell_type": "code",
   "execution_count": 39,
   "metadata": {
    "scrolled": false
   },
   "outputs": [
    {
     "data": {
      "image/png": "[encoded data removed]",
      "text/plain": [
       "<Figure size 432x288 with 1 Axes>"
      ]
     },
     "metadata": {
      "needs_background": "light"
     },
     "output_type": "display_data"
    }
   ],
   "source": [
    "auto.query('price < 1000')['price'].hist(bins=30);"
   ]
  },
  {
   "cell_type": "markdown",
   "metadata": {},
   "source": [
    "Нулевая цена - аномалия. Но цена до 1000 так же вызывает много вопросов.\n",
    "\n",
    "Удалим записи меньше 200 евро"
   ]
  },
  {
   "cell_type": "code",
   "execution_count": 40,
   "metadata": {
    "scrolled": true
   },
   "outputs": [
    {
     "name": "stdout",
     "output_type": "stream",
     "text": [
      "5.32%\n"
     ]
    }
   ],
   "source": [
    "auto_temp = auto.query('price > 200')\n",
    "print(f'{(1 - auto_temp.shape[0]/auto.shape[0]) * 100:.2f}%')\n",
    "auto = auto_temp"
   ]
  },
  {
   "cell_type": "markdown",
   "metadata": {},
   "source": [
    "___\n",
    "`power`"
   ]
  },
  {
   "cell_type": "code",
   "execution_count": 41,
   "metadata": {
    "scrolled": false
   },
   "outputs": [
    {
     "name": "stdout",
     "output_type": "stream",
     "text": [
      "count    306198.000000\n",
      "mean        112.741429\n",
      "std         191.526292\n",
      "min           0.000000\n",
      "25%          74.000000\n",
      "50%         105.000000\n",
      "75%         143.000000\n",
      "max       20000.000000\n",
      "Name: power, dtype: float64\n"
     ]
    },
    {
     "data": {
      "image/png": "[encoded data removed]",
      "text/plain": [
       "<Figure size 1080x504 with 2 Axes>"
      ]
     },
     "metadata": {
      "needs_background": "light"
     },
     "output_type": "display_data"
    }
   ],
   "source": [
    "plot_info(auto, 'power',bins=30)"
   ]
  },
  {
   "cell_type": "markdown",
   "metadata": {},
   "source": [
    "В столбце `power` также видны аномалии. Мощность двигателя 0 и 20000 л.с."
   ]
  },
  {
   "cell_type": "code",
   "execution_count": 42,
   "metadata": {
    "scrolled": false
   },
   "outputs": [
    {
     "data": {
      "image/png": "[encoded data removed]",
      "text/plain": [
       "<Figure size 432x288 with 1 Axes>"
      ]
     },
     "metadata": {
      "needs_background": "light"
     },
     "output_type": "display_data"
    }
   ],
   "source": [
    "auto.query('power < 69')['power'].hist(bins=30);"
   ]
  },
  {
   "cell_type": "markdown",
   "metadata": {},
   "source": [
    "Видно 35к записей с мощностью 0. Можно предположить человеческий фактор: либо это параметр был случайно не указан при заполнении данных, либо намеренно, что означает поломку автомобиля. \n",
    "\n",
    "По данным из интернета, самым мощным серийным электрическим автомобилем в мире является **Lotus Evija** - 2000 л.с.\n",
    "\n",
    "Потому при дальнейшем рассмотрении аномалий будем учитывать промежуток больше 0 и меньше 2000"
   ]
  },
  {
   "cell_type": "code",
   "execution_count": 43,
   "metadata": {},
   "outputs": [],
   "source": [
    "auto_temp = auto.query('power >0 and power < 2000')"
   ]
  },
  {
   "cell_type": "markdown",
   "metadata": {},
   "source": [
    "Посмотрим на "
   ]
  },
  {
   "cell_type": "code",
   "execution_count": 44,
   "metadata": {},
   "outputs": [
    {
     "data": {
      "text/plain": [
       "11.408318844456334"
      ]
     },
     "execution_count": 44,
     "metadata": {},
     "output_type": "execute_result"
    }
   ],
   "source": [
    "auto.query('power == 0 and repaired == \"yes\"').shape[0]/auto.query('power == 0').shape[0] * 100"
   ]
  },
  {
   "cell_type": "code",
   "execution_count": 45,
   "metadata": {},
   "outputs": [
    {
     "data": {
      "text/plain": [
       "39.715126387588604"
      ]
     },
     "execution_count": 45,
     "metadata": {},
     "output_type": "execute_result"
    }
   ],
   "source": [
    "auto.query('power == 0 and repaired == \"no\"').shape[0]/auto.query('power == 0').shape[0] * 100"
   ]
  },
  {
   "cell_type": "markdown",
   "metadata": {},
   "source": [
    "Посмотрим на 75% перцентиль плюс 1.5 х МКР"
   ]
  },
  {
   "cell_type": "code",
   "execution_count": 46,
   "metadata": {},
   "outputs": [
    {
     "data": {
      "text/plain": [
       "255.0"
      ]
     },
     "execution_count": 46,
     "metadata": {},
     "output_type": "execute_result"
    }
   ],
   "source": [
    "anomaly_coef = (auto_temp['power'].quantile(0.75) - auto_temp['power'].quantile(0.25))\n",
    "auto_temp['power'].quantile(0.75) + anomaly_coef*1.5"
   ]
  },
  {
   "cell_type": "markdown",
   "metadata": {},
   "source": [
    "Однако на российских дорогах есть автомобили с 500-800 л.с., потому верхней границей возьмем 800л.с."
   ]
  },
  {
   "cell_type": "markdown",
   "metadata": {},
   "source": [
    "Теперь рассмотрим слишком малую мощность. Найдем 25% квантиль мощности по каждой модели"
   ]
  },
  {
   "cell_type": "code",
   "execution_count": 47,
   "metadata": {
    "scrolled": false
   },
   "outputs": [
    {
     "data": {
      "text/plain": [
       "power    26.0\n",
       "dtype: float64"
      ]
     },
     "execution_count": 47,
     "metadata": {},
     "output_type": "execute_result"
    }
   ],
   "source": [
    "model_groups = auto_temp.groupby('model')[['power']]\n",
    "model_groups.quantile(0.25).min()"
   ]
  },
  {
   "cell_type": "code",
   "execution_count": 48,
   "metadata": {},
   "outputs": [
    {
     "name": "stdout",
     "output_type": "stream",
     "text": [
      "9.97%\n"
     ]
    }
   ],
   "source": [
    "auto_temp = auto.query('power >= 26 and power < 800').reset_index(drop=True)\n",
    "print(f'{(1 - auto_temp.shape[0]/auto.shape[0]) * 100:.2f}%')\n",
    "auto = auto_temp"
   ]
  },
  {
   "cell_type": "code",
   "execution_count": 49,
   "metadata": {},
   "outputs": [],
   "source": [
    "del auto_temp"
   ]
  },
  {
   "cell_type": "code",
   "execution_count": 50,
   "metadata": {
    "scrolled": false
   },
   "outputs": [
    {
     "name": "stdout",
     "output_type": "stream",
     "text": [
      "count    275665.000000\n",
      "mean        121.129784\n",
      "std          53.782709\n",
      "min          26.000000\n",
      "25%          80.000000\n",
      "50%         113.000000\n",
      "75%         150.000000\n",
      "max         776.000000\n",
      "Name: power, dtype: float64\n"
     ]
    },
    {
     "data": {
      "image/png": "[encoded data removed]",
      "text/plain": [
       "<Figure size 1080x504 with 2 Axes>"
      ]
     },
     "metadata": {
      "needs_background": "light"
     },
     "output_type": "display_data"
    }
   ],
   "source": [
    "plot_info(auto, 'power',bins=100)"
   ]
  },
  {
   "cell_type": "markdown",
   "metadata": {},
   "source": [
    "___\n",
    "`kilometer`"
   ]
  },
  {
   "cell_type": "code",
   "execution_count": 51,
   "metadata": {
    "scrolled": false
   },
   "outputs": [
    {
     "name": "stdout",
     "output_type": "stream",
     "text": [
      "count    275665.000000\n",
      "mean     128638.038924\n",
      "std       36425.168274\n",
      "min        5000.000000\n",
      "25%      125000.000000\n",
      "50%      150000.000000\n",
      "75%      150000.000000\n",
      "max      150000.000000\n",
      "Name: kilometer, dtype: float64\n"
     ]
    },
    {
     "data": {
      "image/png": "[encoded data removed]",
      "text/plain": [
       "<Figure size 1080x504 with 2 Axes>"
      ]
     },
     "metadata": {
      "needs_background": "light"
     },
     "output_type": "display_data"
    }
   ],
   "source": [
    "plot_info(auto, 'kilometer',bins=30)"
   ]
  },
  {
   "cell_type": "markdown",
   "metadata": {},
   "source": [
    "`kilometer` не содержит явных аномалий и выбросов. \n",
    "\n",
    "Однако могут вызвать сомненияя данные на графике boxplot. Слева много совпадающих значений, но это может быть связано с тем, что при продаже машины владельцы огругляют километраж до \"красивого\" числа."
   ]
  },
  {
   "cell_type": "markdown",
   "metadata": {},
   "source": [
    "#### Категориальные переменные"
   ]
  },
  {
   "cell_type": "markdown",
   "metadata": {},
   "source": [
    "Пропуски есть только в категориальных переменных. Сначала рассмотрим их:"
   ]
  },
  {
   "cell_type": "code",
   "execution_count": 52,
   "metadata": {
    "scrolled": true
   },
   "outputs": [
    {
     "data": {
      "text/plain": [
       "price                    0\n",
       "vehicle_type         19403\n",
       "registration_year        0\n",
       "gearbox               5399\n",
       "power                    0\n",
       "model                10896\n",
       "kilometer                0\n",
       "fuel_type            18030\n",
       "brand                    0\n",
       "repaired             42313\n",
       "dtype: int64"
      ]
     },
     "execution_count": 52,
     "metadata": {},
     "output_type": "execute_result"
    }
   ],
   "source": [
    "auto.isna().sum()"
   ]
  },
  {
   "cell_type": "markdown",
   "metadata": {},
   "source": [
    "Столбцы для рассмотрения:\n",
    "- `vehicle_type`\n",
    "- `gearbox`     \n",
    "- `model`       \n",
    "- `fuel_type`   \n",
    "- `brand`       \n",
    "- `repaired `   "
   ]
  },
  {
   "cell_type": "code",
   "execution_count": 53,
   "metadata": {
    "scrolled": true
   },
   "outputs": [
    {
     "name": "stdout",
     "output_type": "stream",
     "text": [
      "vehicle_type: 7.04%\n",
      "gearbox: 1.96%\n",
      "model: 3.95%\n",
      "fuel_type: 6.54%\n",
      "brand: 0.00%\n",
      "repaired: 15.35%\n"
     ]
    }
   ],
   "source": [
    "cat_list = ['vehicle_type','gearbox','model','fuel_type','brand','repaired']\n",
    "shape = auto.shape[0]\n",
    "for cat in cat_list:\n",
    "    print(f'{cat}: {auto[cat].isna().sum()/shape * 100 :.2f}%')"
   ]
  },
  {
   "cell_type": "markdown",
   "metadata": {},
   "source": [
    "Максимальное количество пропусков `repaired` - 15%, слишком много, чтобы удалять"
   ]
  },
  {
   "cell_type": "code",
   "execution_count": 54,
   "metadata": {},
   "outputs": [
    {
     "name": "stdout",
     "output_type": "stream",
     "text": [
      "vehicle_type - 8\n",
      "gearbox - 2\n",
      "model - 248\n",
      "fuel_type - 7\n",
      "brand - 40\n",
      "repaired - 2\n"
     ]
    }
   ],
   "source": [
    "for cat in cat_list:\n",
    "    print(f'{cat} - {auto[cat].nunique()}')"
   ]
  },
  {
   "cell_type": "code",
   "execution_count": 55,
   "metadata": {},
   "outputs": [
    {
     "data": {
      "text/plain": [
       "sedan          74571\n",
       "small          61725\n",
       "wagon          53644\n",
       "bus            24195\n",
       "convertible    16996\n",
       "coupe          13068\n",
       "suv             9862\n",
       "other           2201\n",
       "Name: vehicle_type, dtype: int64"
      ]
     },
     "execution_count": 55,
     "metadata": {},
     "output_type": "execute_result"
    }
   ],
   "source": [
    "auto['vehicle_type'].value_counts()"
   ]
  },
  {
   "cell_type": "code",
   "execution_count": 56,
   "metadata": {},
   "outputs": [
    {
     "data": {
      "text/plain": [
       "manual    215783\n",
       "auto       54483\n",
       "Name: gearbox, dtype: int64"
      ]
     },
     "execution_count": 56,
     "metadata": {},
     "output_type": "execute_result"
    }
   ],
   "source": [
    "auto['gearbox'].value_counts()"
   ]
  },
  {
   "cell_type": "code",
   "execution_count": 57,
   "metadata": {
    "scrolled": true
   },
   "outputs": [
    {
     "data": {
      "text/plain": [
       "golf                  23243\n",
       "other                 18389\n",
       "3er                   16119\n",
       "polo                   9706\n",
       "corsa                  8944\n",
       "                      ...  \n",
       "i3                        5\n",
       "kalina                    4\n",
       "rangerover                3\n",
       "serie_2                   3\n",
       "range_rover_evoque        1\n",
       "Name: model, Length: 248, dtype: int64"
      ]
     },
     "execution_count": 57,
     "metadata": {},
     "output_type": "execute_result"
    }
   ],
   "source": [
    "auto['model'].value_counts()"
   ]
  },
  {
   "cell_type": "code",
   "execution_count": 58,
   "metadata": {
    "scrolled": false
   },
   "outputs": [
    {
     "data": {
      "text/plain": [
       "petrol      171280\n",
       "gasoline     81197\n",
       "lpg           4395\n",
       "cng            458\n",
       "hybrid         199\n",
       "other           67\n",
       "electric        39\n",
       "Name: fuel_type, dtype: int64"
      ]
     },
     "execution_count": 58,
     "metadata": {},
     "output_type": "execute_result"
    }
   ],
   "source": [
    "auto['fuel_type'].value_counts()"
   ]
  },
  {
   "cell_type": "code",
   "execution_count": 59,
   "metadata": {},
   "outputs": [
    {
     "data": {
      "text/plain": [
       "petrol      252477\n",
       "lpg           4395\n",
       "cng            458\n",
       "hybrid         199\n",
       "other           67\n",
       "electric        39\n",
       "Name: fuel_type, dtype: int64"
      ]
     },
     "execution_count": 59,
     "metadata": {},
     "output_type": "execute_result"
    }
   ],
   "source": [
    "auto['fuel_type'].replace('gasoline','petrol',inplace=True)\n",
    "auto['fuel_type'].value_counts()"
   ]
  },
  {
   "cell_type": "code",
   "execution_count": 60,
   "metadata": {},
   "outputs": [
    {
     "data": {
      "text/plain": [
       "volkswagen        59674\n",
       "bmw               29984\n",
       "opel              29834\n",
       "mercedes_benz     25643\n",
       "audi              24035\n",
       "ford              18890\n",
       "renault           13042\n",
       "peugeot            8746\n",
       "fiat               7002\n",
       "seat               5576\n",
       "skoda              4640\n",
       "mazda              4483\n",
       "smart              4311\n",
       "citroen            4033\n",
       "toyota             3871\n",
       "nissan             3788\n",
       "hyundai            2954\n",
       "mini               2794\n",
       "volvo              2568\n",
       "mitsubishi         2379\n",
       "honda              2325\n",
       "kia                1994\n",
       "alfa_romeo         1851\n",
       "suzuki             1842\n",
       "chevrolet          1349\n",
       "sonstige_autos     1258\n",
       "chrysler           1099\n",
       "dacia               763\n",
       "subaru              603\n",
       "daihatsu            565\n",
       "porsche             559\n",
       "jeep                541\n",
       "saab                439\n",
       "land_rover          421\n",
       "jaguar              404\n",
       "daewoo              381\n",
       "lancia              346\n",
       "rover               337\n",
       "trabant             207\n",
       "lada                134\n",
       "Name: brand, dtype: int64"
      ]
     },
     "execution_count": 60,
     "metadata": {},
     "output_type": "execute_result"
    }
   ],
   "source": [
    "auto['brand'].value_counts()"
   ]
  },
  {
   "cell_type": "code",
   "execution_count": 61,
   "metadata": {
    "scrolled": true
   },
   "outputs": [
    {
     "data": {
      "text/plain": [
       "no     207254\n",
       "yes     26098\n",
       "Name: repaired, dtype: int64"
      ]
     },
     "execution_count": 61,
     "metadata": {},
     "output_type": "execute_result"
    }
   ],
   "source": [
    "auto['repaired'].value_counts()"
   ]
  },
  {
   "cell_type": "markdown",
   "metadata": {},
   "source": [
    "Приведем тип данных `object` к `categoy`"
   ]
  },
  {
   "cell_type": "code",
   "execution_count": 62,
   "metadata": {
    "scrolled": true
   },
   "outputs": [
    {
     "data": {
      "text/plain": [
       "no     207254\n",
       "yes     26098\n",
       "Name: repaired, dtype: int64"
      ]
     },
     "execution_count": 62,
     "metadata": {},
     "output_type": "execute_result"
    }
   ],
   "source": [
    "auto['repaired'].value_counts()"
   ]
  },
  {
   "cell_type": "markdown",
   "metadata": {},
   "source": [
    "Поставим вместо пропусков заглушку `unknown`"
   ]
  },
  {
   "cell_type": "code",
   "execution_count": 63,
   "metadata": {},
   "outputs": [],
   "source": [
    "auto = auto.fillna('unknown').reset_index(drop=True).copy()"
   ]
  },
  {
   "cell_type": "markdown",
   "metadata": {},
   "source": [
    "Взглянем еще раз на `registration_year`"
   ]
  },
  {
   "cell_type": "code",
   "execution_count": 64,
   "metadata": {
    "scrolled": false
   },
   "outputs": [
    {
     "name": "stdout",
     "output_type": "stream",
     "text": [
      "count    275665.000000\n",
      "mean       2003.603559\n",
      "std           6.361864\n",
      "min        1980.000000\n",
      "25%        1999.000000\n",
      "50%        2003.000000\n",
      "75%        2008.000000\n",
      "max        2019.000000\n",
      "Name: registration_year, dtype: float64\n"
     ]
    },
    {
     "data": {
      "image/png": "[encoded data removed]",
      "text/plain": [
       "<Figure size 1080x504 with 2 Axes>"
      ]
     },
     "metadata": {
      "needs_background": "light"
     },
     "output_type": "display_data"
    }
   ],
   "source": [
    "plot_info(auto, 'registration_year',bins=30)"
   ]
  },
  {
   "cell_type": "markdown",
   "metadata": {},
   "source": [
    "Переведем в категории"
   ]
  },
  {
   "cell_type": "code",
   "execution_count": 65,
   "metadata": {
    "scrolled": true
   },
   "outputs": [
    {
     "data": {
      "text/plain": [
       "count    275665.000000\n",
       "mean         16.396441\n",
       "std           6.361864\n",
       "min           1.000000\n",
       "25%          12.000000\n",
       "50%          17.000000\n",
       "75%          21.000000\n",
       "max          40.000000\n",
       "Name: registration_year, dtype: float64"
      ]
     },
     "execution_count": 65,
     "metadata": {},
     "output_type": "execute_result"
    }
   ],
   "source": [
    "(2020 - auto['registration_year']).describe()"
   ]
  },
  {
   "cell_type": "markdown",
   "metadata": {},
   "source": [
    "Введем условные обозначения:\n",
    "\n",
    "- A (0-3)\n",
    "- B (4-10)\n",
    "- C (11-20)\n",
    "- D (21-30)\n",
    "- E (31-40)"
   ]
  },
  {
   "cell_type": "code",
   "execution_count": 66,
   "metadata": {},
   "outputs": [],
   "source": [
    "def year_to_cat(val):\n",
    "    if val <= 3:\n",
    "        return 'A'\n",
    "    elif val <= 10:\n",
    "        return 'B'\n",
    "    elif val <= 20:\n",
    "        return 'C'\n",
    "    elif val <= 30:\n",
    "        return 'D'\n",
    "    elif val <= 40:\n",
    "        return 'E'\n",
    "    \n"
   ]
  },
  {
   "cell_type": "code",
   "execution_count": 67,
   "metadata": {},
   "outputs": [],
   "source": [
    "auto['registration_year_cat'] = (2020 - auto['registration_year']).apply(year_to_cat)"
   ]
  },
  {
   "cell_type": "markdown",
   "metadata": {},
   "source": [
    "Переведем категориальные переменные в category"
   ]
  },
  {
   "cell_type": "code",
   "execution_count": 68,
   "metadata": {},
   "outputs": [],
   "source": [
    "cat_list.append('registration_year_cat')"
   ]
  },
  {
   "cell_type": "code",
   "execution_count": 69,
   "metadata": {},
   "outputs": [],
   "source": [
    "auto[cat_list] = auto[cat_list].astype('category')"
   ]
  },
  {
   "cell_type": "code",
   "execution_count": 70,
   "metadata": {
    "scrolled": true
   },
   "outputs": [
    {
     "data": {
      "text/plain": [
       "price                    0\n",
       "vehicle_type             0\n",
       "registration_year        0\n",
       "gearbox                  0\n",
       "power                    0\n",
       "model                    0\n",
       "kilometer                0\n",
       "fuel_type                0\n",
       "brand                    0\n",
       "repaired                 0\n",
       "registration_year_cat    0\n",
       "dtype: int64"
      ]
     },
     "execution_count": 70,
     "metadata": {},
     "output_type": "execute_result"
    }
   ],
   "source": [
    "auto.isna().sum()"
   ]
  },
  {
   "cell_type": "markdown",
   "metadata": {},
   "source": [
    "<div style=\"border: 3px solid blue; border-radius: 5px; padding: 10px;\">\n",
    "Вывод:\n",
    "    \n",
    "1) была сделана проверка на аномалии и выбросы в `price`,`registration_year`,`power`,`kilometer`:\n",
    "    \n",
    "- в `registration_year` находились аномальные года (1000г или 9999г). Были оставлены года в с 1980 по 2023\n",
    "    \n",
    "- в `price` был выброс в районе нуля, были оставлены записи больше 200 евро. Также было отмечено, что цены не соотвествуют реальным.\n",
    "     \n",
    "- в `power` находились аномальные значения (0 или 20000л.с.). Были оставлены записи больше 26л.с. и меньше 800л.с.\n",
    "    \n",
    "- в `kilometer` не было обнаружено аномалий и выбросов\n",
    "    \n",
    "    \n",
    "2) были заполнены пропуски в категориальных переменных `vehicle_type`,`gearbox`,`model`,`fuel_type`,`brand`,`repaired`:\n",
    "    - пропуски были заменены на заглушки `unknown`\n",
    "    - была создана копия датасета без заглушек\n",
    "    "
   ]
  },
  {
   "cell_type": "markdown",
   "metadata": {},
   "source": [
    "## Обучение моделей"
   ]
  },
  {
   "cell_type": "code",
   "execution_count": 73,
   "metadata": {},
   "outputs": [],
   "source": [
    "def print_all_metrics(true, pred, mode=''):\n",
    "    rmse = mean_squared_error(true,pred,squared = False)\n",
    "    mae = mean_absolute_error(true,pred)\n",
    "    r2 = r2_score(true,pred)\n",
    "    print()\n",
    "    print(f'Metrics {mode+\":\" if mode == \"\" else \" on \"+mode +\":\"}')\n",
    "    print(\"----------------------------------------------------------\")\n",
    "    print(f'RMSE _____: {rmse:.4f}')\n",
    "    print(f'MAE ______: {mae:.4f}')\n",
    "    print(f'R2 _______: {r2:.4f}')\n",
    "    print()"
   ]
  },
  {
   "cell_type": "markdown",
   "metadata": {},
   "source": [
    "Напишем обертку для моделей для удобного подсчета времени обучения и предсказания"
   ]
  },
  {
   "cell_type": "code",
   "execution_count": 74,
   "metadata": {},
   "outputs": [],
   "source": [
    "class Wrapper():\n",
    "    def __init__(self, model, pipe = None):\n",
    "        self.model = model\n",
    "        self.fit_time = None\n",
    "        self.predict_time = None\n",
    "        self.pipe = pipe\n",
    "\n",
    "    def fit(self, X, y):\n",
    "        X_copy = X.copy()\n",
    "        if self.pipe is not None:\n",
    "            for step in pipe.steps:\n",
    "                step[1].fit(X_copy,y)\n",
    "                X_copy = step[1].transform(X_copy)\n",
    "                \n",
    "        start_time = time.time()\n",
    "        self.model.fit(X_copy,y)\n",
    "        self.fit_time = time.time() - start_time\n",
    "        return self.model\n",
    "    \n",
    "    def predict(self, X):\n",
    "        X_copy = X.copy()\n",
    "        if self.pipe is not None:\n",
    "            for step in pipe.steps:\n",
    "                X_copy = step[1].transform(X_copy)\n",
    "        start_time = time.time()\n",
    "        predict = self.model.predict(X_copy)\n",
    "        self.predict_time = time.time() - start_time\n",
    "        return predict\n",
    "    \n",
    "    def test(self, X, y, table, name = None):\n",
    "        self.fit(X, y)\n",
    "        predict = self.predict(X)\n",
    "        rmse = mean_squared_error(y,predict,squared = False)\n",
    "        mae = mean_absolute_error(y,predict)\n",
    "        r2 = r2_score(y,predict)\n",
    "\n",
    "        table.loc[len(table)] = [name, mae, r2, rmse, self.fit_time, self.predict_time]\n",
    "        print()\n",
    "        print(f'Metrics :')\n",
    "        print(\"----------------------------------------------------------\")\n",
    "        print(f'fit time __: {self.fit_time:.4f}')\n",
    "        print(f'pred time _: {self.predict_time:.4f}')\n",
    "        print(f'RMSE ______: {rmse:.4f}')\n",
    "        print(f'MAE _______: {mae:.4f}')\n",
    "        print(f'R2 ________: {r2:.4f}')\n",
    "        print()\n"
   ]
  },
  {
   "cell_type": "code",
   "execution_count": 75,
   "metadata": {},
   "outputs": [],
   "source": [
    "random_seed = 42"
   ]
  },
  {
   "cell_type": "code",
   "execution_count": 76,
   "metadata": {},
   "outputs": [],
   "source": [
    "metrics = pd.DataFrame(columns=['model',\n",
    "                                  'mae_train',\n",
    "                                  'r2_train',\n",
    "                                  'rmse_train',\n",
    "                                  'fit_time',\n",
    "                                  'prediction_time'])"
   ]
  },
  {
   "cell_type": "markdown",
   "metadata": {},
   "source": [
    "### CatBoost, LightGBM без обработки пропусков и категориальных переменных"
   ]
  },
  {
   "cell_type": "markdown",
   "metadata": {},
   "source": [
    "Определим числовые и категориальные столбцы"
   ]
  },
  {
   "cell_type": "code",
   "execution_count": 77,
   "metadata": {},
   "outputs": [],
   "source": [
    "numeric_features = ['registration_year','power','kilometer']\n",
    "categorical_features = ['vehicle_type','gearbox','model','fuel_type','brand','repaired','registration_year_cat']"
   ]
  },
  {
   "cell_type": "markdown",
   "metadata": {},
   "source": [
    "**Разделим на признаки и таргет**"
   ]
  },
  {
   "cell_type": "code",
   "execution_count": 78,
   "metadata": {},
   "outputs": [],
   "source": [
    "X = auto.drop(['price','registration_year'],axis=1)\n",
    "y = auto['price']"
   ]
  },
  {
   "cell_type": "markdown",
   "metadata": {},
   "source": [
    "**Разделим на обучающую и тестовую выборки**"
   ]
  },
  {
   "cell_type": "code",
   "execution_count": 79,
   "metadata": {},
   "outputs": [],
   "source": [
    "X_train, X_test, y_train, y_test = train_test_split(X, y, test_size=0.2, random_state=random_seed)\n",
    "\n",
    "X_train = pd.DataFrame(X_train, columns=X.columns)\n",
    "X_test = pd.DataFrame(X_test, columns=X.columns)"
   ]
  },
  {
   "cell_type": "markdown",
   "metadata": {},
   "source": [
    "#### CatBoost"
   ]
  },
  {
   "cell_type": "code",
   "execution_count": 80,
   "metadata": {
    "scrolled": true
   },
   "outputs": [
    {
     "name": "stdout",
     "output_type": "stream",
     "text": [
      "Best Parameters: {'n_estimators': 200, 'max_depth': 4, 'learning_rate': 1}\n",
      "Best RMSE: 2003.0386641821415\n"
     ]
    }
   ],
   "source": [
    "cat_params = {\n",
    "    'random_state':random_seed,\n",
    "    'verbose': 0,\n",
    "    'cat_features': [0, 1, 3,5,6,7,8]\n",
    "}\n",
    "\n",
    "param_distributions = {\n",
    "    'max_depth': range(2,10),\n",
    "    'learning_rate': [0.01, 0.1, 1],\n",
    "    'n_estimators': [50, 100, 200],\n",
    "}\n",
    "model = CatBoostRegressor(**cat_params)\n",
    "\n",
    "grid_search = RandomizedSearchCV(estimator=model, param_distributions=param_distributions, \n",
    "                                 scoring='neg_mean_squared_error', cv=3, n_jobs=-1)\n",
    "cat_model = grid_search.fit(X_train, y_train)\n",
    "\n",
    "best_params = grid_search.best_params_\n",
    "best_score = np.sqrt(-grid_search.best_score_)\n",
    "print(\"Best Parameters:\", best_params)\n",
    "print(\"Best RMSE:\", best_score)\n",
    "cat_params.update(best_params)"
   ]
  },
  {
   "cell_type": "code",
   "execution_count": 81,
   "metadata": {
    "scrolled": false
   },
   "outputs": [
    {
     "name": "stdout",
     "output_type": "stream",
     "text": [
      "\n",
      "Metrics :\n",
      "----------------------------------------------------------\n",
      "fit time __: 30.7083\n",
      "pred time _: 0.3787\n",
      "RMSE ______: 1959.2694\n",
      "MAE _______: 1330.6915\n",
      "R2 ________: 0.8161\n",
      "\n"
     ]
    }
   ],
   "source": [
    "cat_model = Wrapper(CatBoostRegressor(**cat_params))\n",
    "cat_model.test(X_train,y_train,metrics,'cat')"
   ]
  },
  {
   "cell_type": "markdown",
   "metadata": {},
   "source": [
    "#### LightGBM"
   ]
  },
  {
   "cell_type": "code",
   "execution_count": 82,
   "metadata": {
    "scrolled": true
   },
   "outputs": [
    {
     "name": "stdout",
     "output_type": "stream",
     "text": [
      "[LightGBM] [Warning] No further splits with positive gain, best gain: -inf\n",
      "[LightGBM] [Warning] No further splits with positive gain, best gain: -inf\n",
      "[LightGBM] [Warning] No further splits with positive gain, best gain: -inf\n",
      "[LightGBM] [Warning] No further splits with positive gain, best gain: -inf\n",
      "[LightGBM] [Warning] No further splits with positive gain, best gain: -inf\n",
      "[LightGBM] [Warning] No further splits with positive gain, best gain: -inf\n",
      "[LightGBM] [Warning] No further splits with positive gain, best gain: -inf\n",
      "[LightGBM] [Warning] No further splits with positive gain, best gain: -inf\n",
      "[LightGBM] [Warning] No further splits with positive gain, best gain: -inf\n",
      "[LightGBM] [Warning] No further splits with positive gain, best gain: -inf\n",
      "[LightGBM] [Warning] No further splits with positive gain, best gain: -inf\n",
      "[LightGBM] [Warning] No further splits with positive gain, best gain: -inf\n",
      "[LightGBM] [Warning] No further splits with positive gain, best gain: -inf\n",
      "[LightGBM] [Warning] No further splits with positive gain, best gain: -inf\n",
      "[LightGBM] [Warning] No further splits with positive gain, best gain: -inf\n",
      "[LightGBM] [Warning] No further splits with positive gain, best gain: -inf\n",
      "[LightGBM] [Warning] No further splits with positive gain, best gain: -inf\n",
      "[LightGBM] [Warning] No further splits with positive gain, best gain: -inf\n",
      "[LightGBM] [Warning] No further splits with positive gain, best gain: -inf\n",
      "[LightGBM] [Warning] No further splits with positive gain, best gain: -inf\n",
      "[LightGBM] [Warning] No further splits with positive gain, best gain: -inf\n",
      "[LightGBM] [Warning] No further splits with positive gain, best gain: -inf\n",
      "[LightGBM] [Warning] No further splits with positive gain, best gain: -inf\n",
      "[LightGBM] [Warning] No further splits with positive gain, best gain: -inf\n",
      "[LightGBM] [Warning] No further splits with positive gain, best gain: -inf\n",
      "[LightGBM] [Warning] No further splits with positive gain, best gain: -inf\n",
      "[LightGBM] [Warning] No further splits with positive gain, best gain: -inf\n",
      "[LightGBM] [Warning] No further splits with positive gain, best gain: -inf\n",
      "[LightGBM] [Warning] No further splits with positive gain, best gain: -inf\n",
      "[LightGBM] [Warning] No further splits with positive gain, best gain: -inf\n",
      "[LightGBM] [Warning] No further splits with positive gain, best gain: -inf\n",
      "[LightGBM] [Warning] No further splits with positive gain, best gain: -inf\n",
      "[LightGBM] [Warning] No further splits with positive gain, best gain: -inf\n",
      "[LightGBM] [Warning] No further splits with positive gain, best gain: -inf\n",
      "[LightGBM] [Warning] No further splits with positive gain, best gain: -inf\n",
      "[LightGBM] [Warning] No further splits with positive gain, best gain: -inf\n",
      "[LightGBM] [Warning] No further splits with positive gain, best gain: -inf\n",
      "[LightGBM] [Warning] No further splits with positive gain, best gain: -inf\n",
      "[LightGBM] [Warning] No further splits with positive gain, best gain: -inf\n",
      "[LightGBM] [Warning] No further splits with positive gain, best gain: -inf\n",
      "[LightGBM] [Warning] No further splits with positive gain, best gain: -inf\n",
      "[LightGBM] [Warning] No further splits with positive gain, best gain: -inf\n",
      "[LightGBM] [Warning] No further splits with positive gain, best gain: -inf\n",
      "[LightGBM] [Warning] No further splits with positive gain, best gain: -inf\n",
      "[LightGBM] [Warning] No further splits with positive gain, best gain: -inf\n",
      "[LightGBM] [Warning] No further splits with positive gain, best gain: -inf\n",
      "[LightGBM] [Warning] No further splits with positive gain, best gain: -inf\n",
      "[LightGBM] [Warning] No further splits with positive gain, best gain: -inf\n",
      "[LightGBM] [Warning] No further splits with positive gain, best gain: -inf\n",
      "[LightGBM] [Warning] No further splits with positive gain, best gain: -inf\n",
      "[LightGBM] [Warning] No further splits with positive gain, best gain: -inf\n",
      "[LightGBM] [Warning] No further splits with positive gain, best gain: -inf\n",
      "[LightGBM] [Warning] No further splits with positive gain, best gain: -inf\n",
      "[LightGBM] [Warning] No further splits with positive gain, best gain: -inf\n",
      "[LightGBM] [Warning] No further splits with positive gain, best gain: -inf\n",
      "[LightGBM] [Warning] No further splits with positive gain, best gain: -inf\n",
      "[LightGBM] [Warning] No further splits with positive gain, best gain: -inf\n",
      "[LightGBM] [Warning] No further splits with positive gain, best gain: -inf\n",
      "[LightGBM] [Warning] No further splits with positive gain, best gain: -inf\n",
      "[LightGBM] [Warning] No further splits with positive gain, best gain: -inf\n",
      "[LightGBM] [Warning] No further splits with positive gain, best gain: -inf\n",
      "[LightGBM] [Warning] No further splits with positive gain, best gain: -inf\n",
      "[LightGBM] [Warning] No further splits with positive gain, best gain: -inf\n",
      "[LightGBM] [Warning] No further splits with positive gain, best gain: -inf\n",
      "[LightGBM] [Warning] No further splits with positive gain, best gain: -inf\n",
      "[LightGBM] [Warning] No further splits with positive gain, best gain: -inf\n",
      "[LightGBM] [Warning] No further splits with positive gain, best gain: -inf\n",
      "[LightGBM] [Warning] No further splits with positive gain, best gain: -inf\n",
      "[LightGBM] [Warning] No further splits with positive gain, best gain: -inf\n",
      "[LightGBM] [Warning] No further splits with positive gain, best gain: -inf\n",
      "[LightGBM] [Warning] No further splits with positive gain, best gain: -inf\n",
      "[LightGBM] [Warning] No further splits with positive gain, best gain: -inf\n",
      "[LightGBM] [Warning] No further splits with positive gain, best gain: -inf\n",
      "[LightGBM] [Warning] No further splits with positive gain, best gain: -inf\n",
      "[LightGBM] [Warning] No further splits with positive gain, best gain: -inf\n",
      "[LightGBM] [Warning] No further splits with positive gain, best gain: -inf\n",
      "[LightGBM] [Warning] No further splits with positive gain, best gain: -inf\n",
      "[LightGBM] [Warning] No further splits with positive gain, best gain: -inf\n",
      "[LightGBM] [Warning] No further splits with positive gain, best gain: -inf\n",
      "[LightGBM] [Warning] No further splits with positive gain, best gain: -inf\n",
      "[LightGBM] [Warning] No further splits with positive gain, best gain: -inf\n",
      "[LightGBM] [Warning] No further splits with positive gain, best gain: -inf\n",
      "[LightGBM] [Warning] No further splits with positive gain, best gain: -inf\n",
      "[LightGBM] [Warning] No further splits with positive gain, best gain: -inf\n",
      "[LightGBM] [Warning] No further splits with positive gain, best gain: -inf\n",
      "[LightGBM] [Warning] No further splits with positive gain, best gain: -inf\n",
      "[LightGBM] [Warning] No further splits with positive gain, best gain: -inf\n",
      "[LightGBM] [Warning] No further splits with positive gain, best gain: -inf\n",
      "[LightGBM] [Warning] No further splits with positive gain, best gain: -inf\n",
      "[LightGBM] [Warning] No further splits with positive gain, best gain: -inf\n",
      "[LightGBM] [Warning] No further splits with positive gain, best gain: -inf\n",
      "[LightGBM] [Warning] No further splits with positive gain, best gain: -inf\n",
      "[LightGBM] [Warning] No further splits with positive gain, best gain: -inf\n",
      "[LightGBM] [Warning] No further splits with positive gain, best gain: -inf\n",
      "[LightGBM] [Warning] No further splits with positive gain, best gain: -inf\n",
      "[LightGBM] [Warning] No further splits with positive gain, best gain: -inf\n",
      "[LightGBM] [Warning] No further splits with positive gain, best gain: -inf\n",
      "[LightGBM] [Warning] No further splits with positive gain, best gain: -inf\n",
      "[LightGBM] [Warning] No further splits with positive gain, best gain: -inf\n",
      "[LightGBM] [Warning] No further splits with positive gain, best gain: -inf\n",
      "[LightGBM] [Warning] No further splits with positive gain, best gain: -inf\n",
      "[LightGBM] [Warning] No further splits with positive gain, best gain: -inf\n",
      "[LightGBM] [Warning] No further splits with positive gain, best gain: -inf\n",
      "[LightGBM] [Warning] No further splits with positive gain, best gain: -inf\n",
      "[LightGBM] [Warning] No further splits with positive gain, best gain: -inf\n",
      "[LightGBM] [Warning] No further splits with positive gain, best gain: -inf\n",
      "[LightGBM] [Warning] No further splits with positive gain, best gain: -inf\n",
      "[LightGBM] [Warning] No further splits with positive gain, best gain: -inf\n",
      "[LightGBM] [Warning] No further splits with positive gain, best gain: -inf\n",
      "[LightGBM] [Warning] No further splits with positive gain, best gain: -inf\n",
      "[LightGBM] [Warning] No further splits with positive gain, best gain: -inf\n",
      "[LightGBM] [Warning] No further splits with positive gain, best gain: -inf\n",
      "[LightGBM] [Warning] No further splits with positive gain, best gain: -inf\n",
      "[LightGBM] [Warning] No further splits with positive gain, best gain: -inf\n",
      "[LightGBM] [Warning] No further splits with positive gain, best gain: -inf\n",
      "[LightGBM] [Warning] No further splits with positive gain, best gain: -inf\n",
      "[LightGBM] [Warning] No further splits with positive gain, best gain: -inf\n",
      "[LightGBM] [Warning] No further splits with positive gain, best gain: -inf\n",
      "[LightGBM] [Warning] No further splits with positive gain, best gain: -inf\n",
      "[LightGBM] [Warning] No further splits with positive gain, best gain: -inf\n",
      "[LightGBM] [Warning] No further splits with positive gain, best gain: -inf\n",
      "[LightGBM] [Warning] No further splits with positive gain, best gain: -inf\n",
      "[LightGBM] [Warning] No further splits with positive gain, best gain: -inf\n",
      "[LightGBM] [Warning] No further splits with positive gain, best gain: -inf\n",
      "[LightGBM] [Warning] No further splits with positive gain, best gain: -inf\n",
      "[LightGBM] [Warning] No further splits with positive gain, best gain: -inf\n",
      "[LightGBM] [Warning] No further splits with positive gain, best gain: -inf\n",
      "[LightGBM] [Warning] No further splits with positive gain, best gain: -inf\n",
      "[LightGBM] [Warning] No further splits with positive gain, best gain: -inf\n",
      "[LightGBM] [Warning] No further splits with positive gain, best gain: -inf\n",
      "[LightGBM] [Warning] No further splits with positive gain, best gain: -inf\n",
      "[LightGBM] [Warning] No further splits with positive gain, best gain: -inf\n",
      "[LightGBM] [Warning] No further splits with positive gain, best gain: -inf\n",
      "[LightGBM] [Warning] No further splits with positive gain, best gain: -inf\n",
      "[LightGBM] [Warning] No further splits with positive gain, best gain: -inf\n",
      "[LightGBM] [Warning] No further splits with positive gain, best gain: -inf\n",
      "[LightGBM] [Warning] No further splits with positive gain, best gain: -inf\n",
      "[LightGBM] [Warning] No further splits with positive gain, best gain: -inf\n",
      "[LightGBM] [Warning] No further splits with positive gain, best gain: -inf\n",
      "[LightGBM] [Warning] No further splits with positive gain, best gain: -inf\n",
      "[LightGBM] [Warning] No further splits with positive gain, best gain: -inf\n",
      "[LightGBM] [Warning] No further splits with positive gain, best gain: -inf\n",
      "[LightGBM] [Warning] No further splits with positive gain, best gain: -inf\n",
      "[LightGBM] [Warning] No further splits with positive gain, best gain: -inf\n",
      "[LightGBM] [Warning] No further splits with positive gain, best gain: -inf\n",
      "[LightGBM] [Warning] No further splits with positive gain, best gain: -inf\n",
      "[LightGBM] [Warning] No further splits with positive gain, best gain: -inf\n",
      "[LightGBM] [Warning] No further splits with positive gain, best gain: -inf\n",
      "[LightGBM] [Warning] No further splits with positive gain, best gain: -inf\n",
      "[LightGBM] [Warning] No further splits with positive gain, best gain: -inf\n",
      "[LightGBM] [Warning] No further splits with positive gain, best gain: -inf\n",
      "[LightGBM] [Warning] No further splits with positive gain, best gain: -inf\n",
      "[LightGBM] [Warning] No further splits with positive gain, best gain: -inf\n",
      "[LightGBM] [Warning] No further splits with positive gain, best gain: -inf\n",
      "[LightGBM] [Warning] No further splits with positive gain, best gain: -inf\n",
      "[LightGBM] [Warning] No further splits with positive gain, best gain: -inf\n",
      "[LightGBM] [Warning] No further splits with positive gain, best gain: -inf\n",
      "[LightGBM] [Warning] No further splits with positive gain, best gain: -inf\n",
      "[LightGBM] [Warning] No further splits with positive gain, best gain: -inf\n",
      "[LightGBM] [Warning] No further splits with positive gain, best gain: -inf\n",
      "[LightGBM] [Warning] No further splits with positive gain, best gain: -inf\n",
      "[LightGBM] [Warning] No further splits with positive gain, best gain: -inf\n",
      "[LightGBM] [Warning] No further splits with positive gain, best gain: -inf\n",
      "[LightGBM] [Warning] No further splits with positive gain, best gain: -inf\n",
      "[LightGBM] [Warning] No further splits with positive gain, best gain: -inf\n",
      "[LightGBM] [Warning] No further splits with positive gain, best gain: -inf\n",
      "[LightGBM] [Warning] No further splits with positive gain, best gain: -inf\n",
      "[LightGBM] [Warning] No further splits with positive gain, best gain: -inf\n",
      "[LightGBM] [Warning] No further splits with positive gain, best gain: -inf\n",
      "[LightGBM] [Warning] No further splits with positive gain, best gain: -inf\n",
      "[LightGBM] [Warning] No further splits with positive gain, best gain: -inf\n",
      "[LightGBM] [Warning] No further splits with positive gain, best gain: -inf\n",
      "[LightGBM] [Warning] No further splits with positive gain, best gain: -inf\n",
      "[LightGBM] [Warning] No further splits with positive gain, best gain: -inf\n",
      "[LightGBM] [Warning] No further splits with positive gain, best gain: -inf\n",
      "[LightGBM] [Warning] No further splits with positive gain, best gain: -inf\n",
      "[LightGBM] [Warning] No further splits with positive gain, best gain: -inf\n",
      "[LightGBM] [Warning] No further splits with positive gain, best gain: -inf\n",
      "[LightGBM] [Warning] No further splits with positive gain, best gain: -inf\n",
      "[LightGBM] [Warning] No further splits with positive gain, best gain: -inf\n",
      "[LightGBM] [Warning] No further splits with positive gain, best gain: -inf\n",
      "[LightGBM] [Warning] No further splits with positive gain, best gain: -inf\n",
      "[LightGBM] [Warning] No further splits with positive gain, best gain: -inf\n",
      "[LightGBM] [Warning] No further splits with positive gain, best gain: -inf\n",
      "[LightGBM] [Warning] No further splits with positive gain, best gain: -inf\n",
      "[LightGBM] [Warning] No further splits with positive gain, best gain: -inf\n",
      "[LightGBM] [Warning] No further splits with positive gain, best gain: -inf\n",
      "[LightGBM] [Warning] No further splits with positive gain, best gain: -inf\n",
      "[LightGBM] [Warning] No further splits with positive gain, best gain: -inf\n",
      "[LightGBM] [Warning] No further splits with positive gain, best gain: -inf\n",
      "[LightGBM] [Warning] No further splits with positive gain, best gain: -inf\n",
      "[LightGBM] [Warning] No further splits with positive gain, best gain: -inf\n",
      "[LightGBM] [Warning] No further splits with positive gain, best gain: -inf\n",
      "[LightGBM] [Warning] No further splits with positive gain, best gain: -inf\n",
      "[LightGBM] [Warning] No further splits with positive gain, best gain: -inf\n",
      "[LightGBM] [Warning] No further splits with positive gain, best gain: -inf\n",
      "[LightGBM] [Warning] No further splits with positive gain, best gain: -inf\n",
      "[LightGBM] [Warning] No further splits with positive gain, best gain: -inf\n",
      "[LightGBM] [Warning] No further splits with positive gain, best gain: -inf\n",
      "[LightGBM] [Warning] No further splits with positive gain, best gain: -inf\n",
      "[LightGBM] [Warning] No further splits with positive gain, best gain: -inf\n",
      "[LightGBM] [Warning] No further splits with positive gain, best gain: -inf\n",
      "[LightGBM] [Warning] No further splits with positive gain, best gain: -inf\n",
      "[LightGBM] [Warning] No further splits with positive gain, best gain: -inf\n",
      "[LightGBM] [Warning] No further splits with positive gain, best gain: -inf\n",
      "[LightGBM] [Warning] No further splits with positive gain, best gain: -inf\n",
      "[LightGBM] [Warning] No further splits with positive gain, best gain: -inf\n",
      "[LightGBM] [Warning] No further splits with positive gain, best gain: -inf\n",
      "[LightGBM] [Warning] No further splits with positive gain, best gain: -inf\n",
      "[LightGBM] [Warning] No further splits with positive gain, best gain: -inf\n",
      "[LightGBM] [Warning] No further splits with positive gain, best gain: -inf\n",
      "[LightGBM] [Warning] No further splits with positive gain, best gain: -inf\n",
      "[LightGBM] [Warning] No further splits with positive gain, best gain: -inf\n",
      "[LightGBM] [Warning] No further splits with positive gain, best gain: -inf\n",
      "[LightGBM] [Warning] No further splits with positive gain, best gain: -inf\n",
      "[LightGBM] [Warning] No further splits with positive gain, best gain: -inf\n",
      "[LightGBM] [Warning] No further splits with positive gain, best gain: -inf\n",
      "[LightGBM] [Warning] No further splits with positive gain, best gain: -inf\n",
      "[LightGBM] [Warning] No further splits with positive gain, best gain: -inf\n",
      "[LightGBM] [Warning] No further splits with positive gain, best gain: -inf\n",
      "[LightGBM] [Warning] No further splits with positive gain, best gain: -inf\n",
      "[LightGBM] [Warning] No further splits with positive gain, best gain: -inf\n",
      "[LightGBM] [Warning] No further splits with positive gain, best gain: -inf\n",
      "[LightGBM] [Warning] No further splits with positive gain, best gain: -inf\n",
      "[LightGBM] [Warning] No further splits with positive gain, best gain: -inf\n",
      "[LightGBM] [Warning] No further splits with positive gain, best gain: -inf\n",
      "[LightGBM] [Warning] No further splits with positive gain, best gain: -inf\n",
      "[LightGBM] [Warning] No further splits with positive gain, best gain: -inf\n",
      "[LightGBM] [Warning] No further splits with positive gain, best gain: -inf\n",
      "[LightGBM] [Warning] No further splits with positive gain, best gain: -inf\n",
      "[LightGBM] [Warning] No further splits with positive gain, best gain: -inf\n",
      "[LightGBM] [Warning] No further splits with positive gain, best gain: -inf\n",
      "[LightGBM] [Warning] No further splits with positive gain, best gain: -inf\n",
      "[LightGBM] [Warning] No further splits with positive gain, best gain: -inf\n",
      "[LightGBM] [Warning] No further splits with positive gain, best gain: -inf\n",
      "[LightGBM] [Warning] No further splits with positive gain, best gain: -inf\n",
      "[LightGBM] [Warning] No further splits with positive gain, best gain: -inf\n",
      "[LightGBM] [Warning] No further splits with positive gain, best gain: -inf\n",
      "[LightGBM] [Warning] No further splits with positive gain, best gain: -inf\n",
      "[LightGBM] [Warning] No further splits with positive gain, best gain: -inf\n",
      "[LightGBM] [Warning] No further splits with positive gain, best gain: -inf\n",
      "[LightGBM] [Warning] No further splits with positive gain, best gain: -inf\n",
      "[LightGBM] [Warning] No further splits with positive gain, best gain: -inf\n",
      "[LightGBM] [Warning] No further splits with positive gain, best gain: -inf\n",
      "[LightGBM] [Warning] No further splits with positive gain, best gain: -inf\n",
      "[LightGBM] [Warning] No further splits with positive gain, best gain: -inf\n",
      "[LightGBM] [Warning] No further splits with positive gain, best gain: -inf\n",
      "[LightGBM] [Warning] No further splits with positive gain, best gain: -inf\n",
      "[LightGBM] [Warning] No further splits with positive gain, best gain: -inf\n",
      "[LightGBM] [Warning] No further splits with positive gain, best gain: -inf\n",
      "[LightGBM] [Warning] No further splits with positive gain, best gain: -inf\n",
      "[LightGBM] [Warning] No further splits with positive gain, best gain: -inf\n",
      "[LightGBM] [Warning] No further splits with positive gain, best gain: -inf\n",
      "[LightGBM] [Warning] No further splits with positive gain, best gain: -inf\n",
      "[LightGBM] [Warning] No further splits with positive gain, best gain: -inf\n",
      "[LightGBM] [Warning] No further splits with positive gain, best gain: -inf\n",
      "[LightGBM] [Warning] No further splits with positive gain, best gain: -inf\n",
      "[LightGBM] [Warning] No further splits with positive gain, best gain: -inf\n",
      "[LightGBM] [Warning] No further splits with positive gain, best gain: -inf\n",
      "[LightGBM] [Warning] No further splits with positive gain, best gain: -inf\n",
      "[LightGBM] [Warning] No further splits with positive gain, best gain: -inf\n",
      "[LightGBM] [Warning] No further splits with positive gain, best gain: -inf\n",
      "[LightGBM] [Warning] No further splits with positive gain, best gain: -inf\n",
      "[LightGBM] [Warning] No further splits with positive gain, best gain: -inf\n",
      "[LightGBM] [Warning] No further splits with positive gain, best gain: -inf\n",
      "[LightGBM] [Warning] No further splits with positive gain, best gain: -inf\n",
      "[LightGBM] [Warning] No further splits with positive gain, best gain: -inf\n",
      "[LightGBM] [Warning] No further splits with positive gain, best gain: -inf\n",
      "[LightGBM] [Warning] No further splits with positive gain, best gain: -inf\n",
      "[LightGBM] [Warning] No further splits with positive gain, best gain: -inf\n",
      "[LightGBM] [Warning] No further splits with positive gain, best gain: -inf\n",
      "[LightGBM] [Warning] No further splits with positive gain, best gain: -inf\n",
      "[LightGBM] [Warning] No further splits with positive gain, best gain: -inf\n",
      "[LightGBM] [Warning] No further splits with positive gain, best gain: -inf\n",
      "[LightGBM] [Warning] No further splits with positive gain, best gain: -inf\n",
      "[LightGBM] [Warning] No further splits with positive gain, best gain: -inf\n",
      "[LightGBM] [Warning] No further splits with positive gain, best gain: -inf\n",
      "[LightGBM] [Warning] No further splits with positive gain, best gain: -inf\n",
      "[LightGBM] [Warning] No further splits with positive gain, best gain: -inf\n",
      "[LightGBM] [Warning] No further splits with positive gain, best gain: -inf\n",
      "[LightGBM] [Warning] No further splits with positive gain, best gain: -inf\n",
      "[LightGBM] [Warning] No further splits with positive gain, best gain: -inf\n",
      "[LightGBM] [Warning] No further splits with positive gain, best gain: -inf\n",
      "[LightGBM] [Warning] No further splits with positive gain, best gain: -inf\n",
      "[LightGBM] [Warning] No further splits with positive gain, best gain: -inf\n",
      "[LightGBM] [Warning] No further splits with positive gain, best gain: -inf\n",
      "[LightGBM] [Warning] No further splits with positive gain, best gain: -inf\n",
      "[LightGBM] [Warning] No further splits with positive gain, best gain: -inf\n",
      "[LightGBM] [Warning] No further splits with positive gain, best gain: -inf\n",
      "[LightGBM] [Warning] No further splits with positive gain, best gain: -inf\n",
      "[LightGBM] [Warning] No further splits with positive gain, best gain: -inf\n",
      "[LightGBM] [Warning] No further splits with positive gain, best gain: -inf\n",
      "[LightGBM] [Warning] No further splits with positive gain, best gain: -inf\n",
      "[LightGBM] [Warning] No further splits with positive gain, best gain: -inf\n",
      "[LightGBM] [Warning] No further splits with positive gain, best gain: -inf\n",
      "[LightGBM] [Warning] No further splits with positive gain, best gain: -inf\n",
      "[LightGBM] [Warning] No further splits with positive gain, best gain: -inf\n",
      "[LightGBM] [Warning] No further splits with positive gain, best gain: -inf\n",
      "[LightGBM] [Warning] No further splits with positive gain, best gain: -inf\n",
      "[LightGBM] [Warning] No further splits with positive gain, best gain: -inf\n",
      "[LightGBM] [Warning] No further splits with positive gain, best gain: -inf\n",
      "[LightGBM] [Warning] No further splits with positive gain, best gain: -inf\n",
      "[LightGBM] [Warning] No further splits with positive gain, best gain: -inf\n",
      "[LightGBM] [Warning] No further splits with positive gain, best gain: -inf\n",
      "[LightGBM] [Warning] No further splits with positive gain, best gain: -inf\n",
      "[LightGBM] [Warning] No further splits with positive gain, best gain: -inf\n",
      "[LightGBM] [Warning] No further splits with positive gain, best gain: -inf\n",
      "[LightGBM] [Warning] No further splits with positive gain, best gain: -inf\n",
      "[LightGBM] [Warning] No further splits with positive gain, best gain: -inf\n",
      "[LightGBM] [Warning] No further splits with positive gain, best gain: -inf\n",
      "[LightGBM] [Warning] No further splits with positive gain, best gain: -inf\n",
      "[LightGBM] [Warning] No further splits with positive gain, best gain: -inf\n",
      "[LightGBM] [Warning] No further splits with positive gain, best gain: -inf\n",
      "[LightGBM] [Warning] No further splits with positive gain, best gain: -inf\n",
      "[LightGBM] [Warning] No further splits with positive gain, best gain: -inf\n",
      "[LightGBM] [Warning] No further splits with positive gain, best gain: -inf\n",
      "[LightGBM] [Warning] No further splits with positive gain, best gain: -inf\n",
      "[LightGBM] [Warning] No further splits with positive gain, best gain: -inf\n",
      "[LightGBM] [Warning] No further splits with positive gain, best gain: -inf\n",
      "[LightGBM] [Warning] No further splits with positive gain, best gain: -inf\n",
      "[LightGBM] [Warning] No further splits with positive gain, best gain: -inf\n",
      "[LightGBM] [Warning] No further splits with positive gain, best gain: -inf\n",
      "[LightGBM] [Warning] No further splits with positive gain, best gain: -inf\n",
      "[LightGBM] [Warning] No further splits with positive gain, best gain: -inf\n",
      "[LightGBM] [Warning] No further splits with positive gain, best gain: -inf\n",
      "[LightGBM] [Warning] No further splits with positive gain, best gain: -inf\n",
      "[LightGBM] [Warning] No further splits with positive gain, best gain: -inf\n",
      "[LightGBM] [Warning] No further splits with positive gain, best gain: -inf\n",
      "[LightGBM] [Warning] No further splits with positive gain, best gain: -inf\n",
      "[LightGBM] [Warning] No further splits with positive gain, best gain: -inf\n",
      "[LightGBM] [Warning] No further splits with positive gain, best gain: -inf\n",
      "[LightGBM] [Warning] No further splits with positive gain, best gain: -inf\n",
      "[LightGBM] [Warning] No further splits with positive gain, best gain: -inf\n",
      "[LightGBM] [Warning] No further splits with positive gain, best gain: -inf\n",
      "[LightGBM] [Warning] No further splits with positive gain, best gain: -inf\n",
      "[LightGBM] [Warning] No further splits with positive gain, best gain: -inf\n",
      "[LightGBM] [Warning] No further splits with positive gain, best gain: -inf\n",
      "[LightGBM] [Warning] No further splits with positive gain, best gain: -inf\n",
      "[LightGBM] [Warning] No further splits with positive gain, best gain: -inf\n",
      "[LightGBM] [Warning] No further splits with positive gain, best gain: -inf\n",
      "[LightGBM] [Warning] No further splits with positive gain, best gain: -inf\n",
      "[LightGBM] [Warning] No further splits with positive gain, best gain: -inf\n",
      "[LightGBM] [Warning] No further splits with positive gain, best gain: -inf\n",
      "[LightGBM] [Warning] No further splits with positive gain, best gain: -inf\n",
      "[LightGBM] [Warning] No further splits with positive gain, best gain: -inf\n",
      "[LightGBM] [Warning] No further splits with positive gain, best gain: -inf\n",
      "[LightGBM] [Warning] No further splits with positive gain, best gain: -inf\n",
      "[LightGBM] [Warning] No further splits with positive gain, best gain: -inf\n",
      "[LightGBM] [Warning] No further splits with positive gain, best gain: -inf\n",
      "[LightGBM] [Warning] No further splits with positive gain, best gain: -inf\n",
      "[LightGBM] [Warning] No further splits with positive gain, best gain: -inf\n",
      "[LightGBM] [Warning] No further splits with positive gain, best gain: -inf\n",
      "[LightGBM] [Warning] No further splits with positive gain, best gain: -inf\n",
      "[LightGBM] [Warning] No further splits with positive gain, best gain: -inf\n",
      "[LightGBM] [Warning] No further splits with positive gain, best gain: -inf\n",
      "[LightGBM] [Warning] No further splits with positive gain, best gain: -inf\n",
      "[LightGBM] [Warning] No further splits with positive gain, best gain: -inf\n",
      "[LightGBM] [Warning] No further splits with positive gain, best gain: -inf\n",
      "[LightGBM] [Warning] No further splits with positive gain, best gain: -inf\n",
      "[LightGBM] [Warning] No further splits with positive gain, best gain: -inf\n",
      "[LightGBM] [Warning] No further splits with positive gain, best gain: -inf\n",
      "[LightGBM] [Warning] No further splits with positive gain, best gain: -inf\n",
      "[LightGBM] [Warning] No further splits with positive gain, best gain: -inf\n",
      "[LightGBM] [Warning] No further splits with positive gain, best gain: -inf\n",
      "[LightGBM] [Warning] No further splits with positive gain, best gain: -inf\n",
      "[LightGBM] [Warning] No further splits with positive gain, best gain: -inf\n",
      "[LightGBM] [Warning] No further splits with positive gain, best gain: -inf\n",
      "[LightGBM] [Warning] No further splits with positive gain, best gain: -inf\n",
      "[LightGBM] [Warning] No further splits with positive gain, best gain: -inf\n",
      "[LightGBM] [Warning] No further splits with positive gain, best gain: -inf\n",
      "[LightGBM] [Warning] No further splits with positive gain, best gain: -inf\n",
      "[LightGBM] [Warning] No further splits with positive gain, best gain: -inf\n",
      "[LightGBM] [Warning] No further splits with positive gain, best gain: -inf\n",
      "[LightGBM] [Warning] No further splits with positive gain, best gain: -inf\n",
      "[LightGBM] [Warning] No further splits with positive gain, best gain: -inf\n",
      "[LightGBM] [Warning] No further splits with positive gain, best gain: -inf\n",
      "[LightGBM] [Warning] No further splits with positive gain, best gain: -inf\n",
      "[LightGBM] [Warning] No further splits with positive gain, best gain: -inf\n",
      "[LightGBM] [Warning] No further splits with positive gain, best gain: -inf\n",
      "[LightGBM] [Warning] No further splits with positive gain, best gain: -inf\n",
      "[LightGBM] [Warning] No further splits with positive gain, best gain: -inf\n",
      "[LightGBM] [Warning] No further splits with positive gain, best gain: -inf\n",
      "[LightGBM] [Warning] No further splits with positive gain, best gain: -inf\n",
      "[LightGBM] [Warning] No further splits with positive gain, best gain: -inf\n",
      "[LightGBM] [Warning] No further splits with positive gain, best gain: -inf\n",
      "[LightGBM] [Warning] No further splits with positive gain, best gain: -inf\n",
      "[LightGBM] [Warning] No further splits with positive gain, best gain: -inf\n",
      "[LightGBM] [Warning] No further splits with positive gain, best gain: -inf\n",
      "[LightGBM] [Warning] No further splits with positive gain, best gain: -inf\n",
      "[LightGBM] [Warning] No further splits with positive gain, best gain: -inf\n",
      "[LightGBM] [Warning] No further splits with positive gain, best gain: -inf\n",
      "[LightGBM] [Warning] No further splits with positive gain, best gain: -inf\n",
      "[LightGBM] [Warning] No further splits with positive gain, best gain: -inf\n",
      "[LightGBM] [Warning] No further splits with positive gain, best gain: -inf\n",
      "[LightGBM] [Warning] No further splits with positive gain, best gain: -inf\n",
      "[LightGBM] [Warning] No further splits with positive gain, best gain: -inf\n",
      "[LightGBM] [Warning] No further splits with positive gain, best gain: -inf\n",
      "[LightGBM] [Warning] No further splits with positive gain, best gain: -inf\n",
      "[LightGBM] [Warning] No further splits with positive gain, best gain: -inf\n",
      "[LightGBM] [Warning] No further splits with positive gain, best gain: -inf\n",
      "[LightGBM] [Warning] No further splits with positive gain, best gain: -inf\n",
      "[LightGBM] [Warning] No further splits with positive gain, best gain: -inf\n",
      "[LightGBM] [Warning] No further splits with positive gain, best gain: -inf\n",
      "[LightGBM] [Warning] No further splits with positive gain, best gain: -inf\n",
      "[LightGBM] [Warning] No further splits with positive gain, best gain: -inf\n",
      "[LightGBM] [Warning] No further splits with positive gain, best gain: -inf\n",
      "[LightGBM] [Warning] No further splits with positive gain, best gain: -inf\n",
      "[LightGBM] [Warning] No further splits with positive gain, best gain: -inf\n",
      "[LightGBM] [Warning] No further splits with positive gain, best gain: -inf\n",
      "[LightGBM] [Warning] No further splits with positive gain, best gain: -inf\n",
      "[LightGBM] [Warning] No further splits with positive gain, best gain: -inf\n",
      "[LightGBM] [Warning] No further splits with positive gain, best gain: -inf\n",
      "[LightGBM] [Warning] No further splits with positive gain, best gain: -inf\n",
      "[LightGBM] [Warning] No further splits with positive gain, best gain: -inf\n",
      "[LightGBM] [Warning] No further splits with positive gain, best gain: -inf\n",
      "[LightGBM] [Warning] No further splits with positive gain, best gain: -inf\n",
      "[LightGBM] [Warning] No further splits with positive gain, best gain: -inf\n",
      "[LightGBM] [Warning] No further splits with positive gain, best gain: -inf\n",
      "[LightGBM] [Warning] No further splits with positive gain, best gain: -inf\n",
      "[LightGBM] [Warning] No further splits with positive gain, best gain: -inf\n",
      "[LightGBM] [Warning] No further splits with positive gain, best gain: -inf\n",
      "[LightGBM] [Warning] No further splits with positive gain, best gain: -inf\n",
      "[LightGBM] [Warning] No further splits with positive gain, best gain: -inf\n",
      "[LightGBM] [Warning] No further splits with positive gain, best gain: -inf\n",
      "[LightGBM] [Warning] No further splits with positive gain, best gain: -inf\n",
      "[LightGBM] [Warning] No further splits with positive gain, best gain: -inf\n",
      "[LightGBM] [Warning] No further splits with positive gain, best gain: -inf\n",
      "[LightGBM] [Warning] No further splits with positive gain, best gain: -inf\n",
      "[LightGBM] [Warning] No further splits with positive gain, best gain: -inf\n",
      "[LightGBM] [Warning] No further splits with positive gain, best gain: -inf\n",
      "[LightGBM] [Warning] No further splits with positive gain, best gain: -inf\n",
      "[LightGBM] [Warning] No further splits with positive gain, best gain: -inf\n",
      "[LightGBM] [Warning] No further splits with positive gain, best gain: -inf\n",
      "[LightGBM] [Warning] No further splits with positive gain, best gain: -inf\n",
      "[LightGBM] [Warning] No further splits with positive gain, best gain: -inf\n",
      "[LightGBM] [Warning] No further splits with positive gain, best gain: -inf\n",
      "[LightGBM] [Warning] No further splits with positive gain, best gain: -inf\n",
      "Best Parameters: {'num_leaves': 30, 'n_estimators': 200, 'max_depth': 4, 'learning_rate': 0.1}\n",
      "Best RMSE: 1994.5541553925718\n"
     ]
    }
   ],
   "source": [
    "lgb_params = {\n",
    "    'random_state':random_seed,\n",
    "    'force_row_wise': True,\n",
    "    'objective': 'regression',\n",
    "    'metric': 'rmse',\n",
    "    'boosting_type': 'gbdt',\n",
    "    'verbose': 0,\n",
    "}\n",
    "\n",
    "param_distributions = {\n",
    "    'max_depth': range(2,10),\n",
    "    'learning_rate': [0.01, 0.1, 1],\n",
    "    'n_estimators': [50, 100, 200],\n",
    "    'num_leaves': [10,20,30],\n",
    "}\n",
    "model = lgb.LGBMRegressor(**lgb_params)\n",
    "\n",
    "grid_search = RandomizedSearchCV(estimator=model, param_distributions=param_distributions, scoring='neg_mean_squared_error', cv=3, n_jobs=-1)\n",
    "lgb_model = grid_search.fit(X_train, y_train)\n",
    "\n",
    "best_params = grid_search.best_params_\n",
    "best_score = np.sqrt(-grid_search.best_score_)\n",
    "print(\"Best Parameters:\", best_params)\n",
    "print(\"Best RMSE:\", best_score)\n",
    "lgb_params.update(best_params)"
   ]
  },
  {
   "cell_type": "code",
   "execution_count": 83,
   "metadata": {},
   "outputs": [
    {
     "name": "stdout",
     "output_type": "stream",
     "text": [
      "[LightGBM] [Warning] No further splits with positive gain, best gain: -inf\n",
      "[LightGBM] [Warning] No further splits with positive gain, best gain: -inf\n",
      "[LightGBM] [Warning] No further splits with positive gain, best gain: -inf\n",
      "[LightGBM] [Warning] No further splits with positive gain, best gain: -inf\n",
      "[LightGBM] [Warning] No further splits with positive gain, best gain: -inf\n",
      "[LightGBM] [Warning] No further splits with positive gain, best gain: -inf\n",
      "[LightGBM] [Warning] No further splits with positive gain, best gain: -inf\n",
      "[LightGBM] [Warning] No further splits with positive gain, best gain: -inf\n",
      "[LightGBM] [Warning] No further splits with positive gain, best gain: -inf\n",
      "[LightGBM] [Warning] No further splits with positive gain, best gain: -inf\n",
      "[LightGBM] [Warning] No further splits with positive gain, best gain: -inf\n",
      "[LightGBM] [Warning] No further splits with positive gain, best gain: -inf\n",
      "[LightGBM] [Warning] No further splits with positive gain, best gain: -inf\n",
      "[LightGBM] [Warning] No further splits with positive gain, best gain: -inf\n",
      "[LightGBM] [Warning] No further splits with positive gain, best gain: -inf\n",
      "[LightGBM] [Warning] No further splits with positive gain, best gain: -inf\n",
      "[LightGBM] [Warning] No further splits with positive gain, best gain: -inf\n",
      "[LightGBM] [Warning] No further splits with positive gain, best gain: -inf\n",
      "[LightGBM] [Warning] No further splits with positive gain, best gain: -inf\n",
      "[LightGBM] [Warning] No further splits with positive gain, best gain: -inf\n",
      "[LightGBM] [Warning] No further splits with positive gain, best gain: -inf\n",
      "[LightGBM] [Warning] No further splits with positive gain, best gain: -inf\n",
      "[LightGBM] [Warning] No further splits with positive gain, best gain: -inf\n",
      "[LightGBM] [Warning] No further splits with positive gain, best gain: -inf\n",
      "[LightGBM] [Warning] No further splits with positive gain, best gain: -inf\n",
      "[LightGBM] [Warning] No further splits with positive gain, best gain: -inf\n",
      "[LightGBM] [Warning] No further splits with positive gain, best gain: -inf\n",
      "[LightGBM] [Warning] No further splits with positive gain, best gain: -inf\n",
      "[LightGBM] [Warning] No further splits with positive gain, best gain: -inf\n",
      "[LightGBM] [Warning] No further splits with positive gain, best gain: -inf\n",
      "[LightGBM] [Warning] No further splits with positive gain, best gain: -inf\n",
      "[LightGBM] [Warning] No further splits with positive gain, best gain: -inf\n",
      "[LightGBM] [Warning] No further splits with positive gain, best gain: -inf\n",
      "[LightGBM] [Warning] No further splits with positive gain, best gain: -inf\n",
      "[LightGBM] [Warning] No further splits with positive gain, best gain: -inf\n",
      "[LightGBM] [Warning] No further splits with positive gain, best gain: -inf\n",
      "[LightGBM] [Warning] No further splits with positive gain, best gain: -inf\n",
      "[LightGBM] [Warning] No further splits with positive gain, best gain: -inf\n",
      "[LightGBM] [Warning] No further splits with positive gain, best gain: -inf\n",
      "[LightGBM] [Warning] No further splits with positive gain, best gain: -inf\n",
      "[LightGBM] [Warning] No further splits with positive gain, best gain: -inf\n",
      "[LightGBM] [Warning] No further splits with positive gain, best gain: -inf\n",
      "[LightGBM] [Warning] No further splits with positive gain, best gain: -inf\n",
      "[LightGBM] [Warning] No further splits with positive gain, best gain: -inf\n",
      "[LightGBM] [Warning] No further splits with positive gain, best gain: -inf\n",
      "[LightGBM] [Warning] No further splits with positive gain, best gain: -inf\n",
      "[LightGBM] [Warning] No further splits with positive gain, best gain: -inf\n",
      "\n",
      "Metrics :\n",
      "----------------------------------------------------------\n",
      "fit time __: 6.3919\n",
      "pred time _: 2.9011\n",
      "RMSE ______: 1958.7079\n",
      "MAE _______: 1326.9721\n",
      "R2 ________: 0.8162\n",
      "\n"
     ]
    }
   ],
   "source": [
    "lgb_model = Wrapper(lgb.LGBMRegressor(**lgb_params))\n",
    "lgb_model.test(X_train,y_train,metrics,'lgb')"
   ]
  },
  {
   "cell_type": "markdown",
   "metadata": {},
   "source": [
    "#### Кодирование категориальных переменных"
   ]
  },
  {
   "cell_type": "code",
   "execution_count": 84,
   "metadata": {},
   "outputs": [],
   "source": [
    "class m_estimate_encoder():\n",
    "    def __init__(self, cat_features = None):\n",
    "        self.cat_features = cat_features\n",
    "        self.encoding_map = None\n",
    "        self.__isFitted = False\n",
    "    \n",
    "    def fit(self, X, y, cat_features = None, m = 1):\n",
    "        \n",
    "        if(X.shape[0] != y.shape[0]):\n",
    "            raise ValueError(f'Shape missmatch between X({X.shape[0]}) and y({y.shape[0]})')\n",
    "        if cat_features is not None:\n",
    "            self.cat_features = cat_features\n",
    "        if self.cat_features is None:\n",
    "            try:\n",
    "                self.cat_features = X.columns\n",
    "            except:\n",
    "                raise ValueError(f'Only pandas table is suitable for X and y. Your input X = {type(X)} and y = {type(y)}')\n",
    "        \n",
    "        self.encoding_map = {}\n",
    "        \n",
    "        prior_mean = y.mean()\n",
    "        \n",
    "        for feature in self.cat_features:\n",
    "            category_set = {}\n",
    "            for category in X[feature].unique():\n",
    "\n",
    "                N = X[X[feature] == category].shape[0]\n",
    "\n",
    "                mean = y[X[feature] == category].mean()\n",
    "\n",
    "                try:\n",
    "                    encoding = ((N * prior_mean) + (m * mean)) / (N + m)\n",
    "                except ZeroDivisionError:\n",
    "                    raise ValueError(f'N = {N} and m = {m}. (N+m) should not be equal 0.')\n",
    "                    \n",
    "                category_set[category] = encoding\n",
    "            self.encoding_map[feature] = category_set\n",
    "                \n",
    "        self.__isFitted = True\n",
    "        return self\n",
    "        \n",
    "    def transform(self, X, y = None):\n",
    "        if not self.__isFitted:\n",
    "            raise ValueError(f'First you need to fit')\n",
    "        X_copy = X.copy()\n",
    "        \n",
    "        for feature in self.cat_features:\n",
    "            X_copy[feature] = X_copy[feature].map(self.encoding_map[feature]).astype('float')\n",
    "        return X_copy"
   ]
  },
  {
   "cell_type": "markdown",
   "metadata": {},
   "source": [
    "#### LinearRegression"
   ]
  },
  {
   "cell_type": "code",
   "execution_count": 85,
   "metadata": {
    "scrolled": true
   },
   "outputs": [
    {
     "name": "stdout",
     "output_type": "stream",
     "text": [
      "\n",
      "Metrics :\n",
      "----------------------------------------------------------\n",
      "fit time __: 0.0359\n",
      "pred time _: 0.0026\n",
      "RMSE ______: 2956.2889\n",
      "MAE _______: 2171.9736\n",
      "R2 ________: 0.5814\n",
      "\n"
     ]
    }
   ],
   "source": [
    "reg_params = {}\n",
    "\n",
    "pipe = Pipeline(steps=[\n",
    "    ('encoder', m_estimate_encoder(categorical_features)),\n",
    "    ('transformer', StandardScaler()),\n",
    "])\n",
    "\n",
    "reg_model = Wrapper(LinearRegression(**reg_params),pipe=pipe)\n",
    "reg_model.test(X_train,y_train,metrics,'reg')"
   ]
  },
  {
   "cell_type": "markdown",
   "metadata": {},
   "source": [
    "___"
   ]
  },
  {
   "cell_type": "markdown",
   "metadata": {},
   "source": [
    "<div style=\"border: 3px solid blue; border-radius: 5px; padding: 10px;\">\n",
    "    \n",
    "**Вывод:**\n",
    "    \n",
    "Было обучено несколько моделей:\n",
    "- CatBoost\n",
    "- LightGBM\n",
    "- LinearRegression\n"
   ]
  },
  {
   "cell_type": "markdown",
   "metadata": {},
   "source": [
    "## Анализ моделей"
   ]
  },
  {
   "cell_type": "markdown",
   "metadata": {},
   "source": [
    "### Сравним метрики"
   ]
  },
  {
   "cell_type": "code",
   "execution_count": 86,
   "metadata": {
    "scrolled": true
   },
   "outputs": [
    {
     "data": {
      "text/html": [
       "<style  type=\"text/css\" >\n",
       "#T_d99d5_row0_col3,#T_d99d5_row1_col1,#T_d99d5_row1_col4,#T_d99d5_row2_col0,#T_d99d5_row2_col2{\n",
       "            background-color:  coral;\n",
       "        }#T_d99d5_row1_col0,#T_d99d5_row1_col2,#T_d99d5_row2_col1,#T_d99d5_row2_col3,#T_d99d5_row2_col4{\n",
       "            background-color:  yellowgreen;\n",
       "        }</style><table id=\"T_d99d5_\" ><thead>    <tr>        <th class=\"blank level0\" ></th>        <th class=\"col_heading level0 col0\" >mae_train</th>        <th class=\"col_heading level0 col1\" >r2_train</th>        <th class=\"col_heading level0 col2\" >rmse_train</th>        <th class=\"col_heading level0 col3\" >fit_time</th>        <th class=\"col_heading level0 col4\" >prediction_time</th>    </tr>    <tr>        <th class=\"index_name level0\" >model</th>        <th class=\"blank\" ></th>        <th class=\"blank\" ></th>        <th class=\"blank\" ></th>        <th class=\"blank\" ></th>        <th class=\"blank\" ></th>    </tr></thead><tbody>\n",
       "                <tr>\n",
       "                        <th id=\"T_d99d5_level0_row0\" class=\"row_heading level0 row0\" >cat</th>\n",
       "                        <td id=\"T_d99d5_row0_col0\" class=\"data row0 col0\" >1330.691522</td>\n",
       "                        <td id=\"T_d99d5_row0_col1\" class=\"data row0 col1\" >0.816135</td>\n",
       "                        <td id=\"T_d99d5_row0_col2\" class=\"data row0 col2\" >1959.269354</td>\n",
       "                        <td id=\"T_d99d5_row0_col3\" class=\"data row0 col3\" >30.708286</td>\n",
       "                        <td id=\"T_d99d5_row0_col4\" class=\"data row0 col4\" >0.378692</td>\n",
       "            </tr>\n",
       "            <tr>\n",
       "                        <th id=\"T_d99d5_level0_row1\" class=\"row_heading level0 row1\" >lgb</th>\n",
       "                        <td id=\"T_d99d5_row1_col0\" class=\"data row1 col0\" >1326.972057</td>\n",
       "                        <td id=\"T_d99d5_row1_col1\" class=\"data row1 col1\" >0.816240</td>\n",
       "                        <td id=\"T_d99d5_row1_col2\" class=\"data row1 col2\" >1958.707910</td>\n",
       "                        <td id=\"T_d99d5_row1_col3\" class=\"data row1 col3\" >6.391942</td>\n",
       "                        <td id=\"T_d99d5_row1_col4\" class=\"data row1 col4\" >2.901080</td>\n",
       "            </tr>\n",
       "            <tr>\n",
       "                        <th id=\"T_d99d5_level0_row2\" class=\"row_heading level0 row2\" >reg</th>\n",
       "                        <td id=\"T_d99d5_row2_col0\" class=\"data row2 col0\" >2171.973600</td>\n",
       "                        <td id=\"T_d99d5_row2_col1\" class=\"data row2 col1\" >0.581395</td>\n",
       "                        <td id=\"T_d99d5_row2_col2\" class=\"data row2 col2\" >2956.288894</td>\n",
       "                        <td id=\"T_d99d5_row2_col3\" class=\"data row2 col3\" >0.035880</td>\n",
       "                        <td id=\"T_d99d5_row2_col4\" class=\"data row2 col4\" >0.002637</td>\n",
       "            </tr>\n",
       "    </tbody></table>"
      ],
      "text/plain": [
       "<pandas.io.formats.style.Styler at 0x7f385e1500d0>"
      ]
     },
     "execution_count": 86,
     "metadata": {},
     "output_type": "execute_result"
    }
   ],
   "source": [
    "(metrics.set_index('model')\n",
    " .style\n",
    " .highlight_max(color='coral')\n",
    " .highlight_min(color='yellowgreen')\n",
    ")"
   ]
  },
  {
   "cell_type": "markdown",
   "metadata": {},
   "source": [
    "<div style=\"border: 3px solid blue; border-radius: 5px; padding: 10px;\">\n",
    "    \n",
    "**Вывод:**\n",
    "\n",
    "По неизвестным причинам все показатели сильно упали после запуска не на локальной машине, а в юпитере практикума ( изменения были внесены до и не повлияли на результат). Вероятнее всего это связано с малыми мощностями, которые выделены под юпитер практикума\n",
    "    \n",
    "Было решено выбрать модель LightGBM\n",
    "\n"
   ]
  },
  {
   "cell_type": "markdown",
   "metadata": {},
   "source": [
    "### Тестирование модели"
   ]
  },
  {
   "cell_type": "code",
   "execution_count": 90,
   "metadata": {
    "scrolled": false
   },
   "outputs": [
    {
     "name": "stdout",
     "output_type": "stream",
     "text": [
      "\n",
      "Metrics :\n",
      "----------------------------------------------------------\n",
      "RMSE _____: 1999.4155\n",
      "MAE ______: 1348.0002\n",
      "R2 _______: 0.8103\n",
      "\n"
     ]
    }
   ],
   "source": [
    "final_model = lgb_model.model\n",
    "print_all_metrics(y_test, final_model.predict(X_test))"
   ]
  },
  {
   "cell_type": "markdown",
   "metadata": {},
   "source": [
    "**Сравним с константной моделью**"
   ]
  },
  {
   "cell_type": "code",
   "execution_count": 88,
   "metadata": {
    "scrolled": false
   },
   "outputs": [
    {
     "name": "stdout",
     "output_type": "stream",
     "text": [
      "\n",
      "Metrics :\n",
      "----------------------------------------------------------\n",
      "RMSE _____: 4590.0962\n",
      "MAE ______: 3615.6497\n",
      "R2 _______: 0.0000\n",
      "\n"
     ]
    }
   ],
   "source": [
    "mean_target = np.mean(y_test)\n",
    "y_pred = np.full_like(y_test, mean_target)\n",
    "print_all_metrics(y_pred,y_test)"
   ]
  },
  {
   "cell_type": "markdown",
   "metadata": {},
   "source": [
    "#### Посмотрим на важности признаков"
   ]
  },
  {
   "cell_type": "code",
   "execution_count": 89,
   "metadata": {},
   "outputs": [
    {
     "data": {
      "image/png": "[encoded data removed]",
      "text/plain": [
       "<Figure size 864x432 with 1 Axes>"
      ]
     },
     "metadata": {
      "needs_background": "light"
     },
     "output_type": "display_data"
    }
   ],
   "source": [
    "feature_importance = final_model.get_feature_importance(type='FeatureImportance')\n",
    "feature_names = final_model.feature_names_\n",
    "feature_importance_dict = dict(zip(feature_names, feature_importance))\n",
    "sorted_feature_importance = sorted(feature_importance_dict.items(), key=lambda x: x[1], reverse=True)\n",
    "sorted_feature_names, sorted_feature_values = zip(*sorted_feature_importance)\n",
    "\n",
    "plt.figure(figsize=(12, 6))\n",
    "plt.barh(range(len(sorted_feature_names)), sorted_feature_values, align='center')\n",
    "plt.yticks(range(len(sorted_feature_names)), sorted_feature_names)\n",
    "plt.xlabel('Важность признаков, %')\n",
    "plt.ylabel('Признаки')\n",
    "plt.title('Важность признаков в модели CatBoost')\n",
    "plt.gca().invert_yaxis()\n",
    "plt.show()"
   ]
  },
  {
   "cell_type": "markdown",
   "metadata": {},
   "source": [
    "___"
   ]
  },
  {
   "cell_type": "markdown",
   "metadata": {},
   "source": [
    "<div style=\"border: 3px solid blue; border-radius: 5px; padding: 10px;\">\n",
    "    \n",
    "**Вывод:**\n",
    "    \n",
    "Результат работы CatBoost:\n",
    "- RMSE - 1999.4155 on test\n",
    "    \n",
    "Сравнение с константной моделью говорит, что модель хорошо справляется с задачей \n",
    "    \n",
    "Наибольшая важность у признаков: год регистрации и мощность двигателя\n"
   ]
  },
  {
   "cell_type": "markdown",
   "metadata": {},
   "source": [
    "___"
   ]
  },
  {
   "cell_type": "markdown",
   "metadata": {},
   "source": [
    "## Вывод"
   ]
  },
  {
   "cell_type": "markdown",
   "metadata": {},
   "source": [
    "Было сделано:\n",
    "\n",
    "- Была проведена преподготовка данных:\n",
    "    - удаление дубликатов\n",
    "    - поиск и удаление выбросов и аномалий\n",
    "    - поиск удаление неинформативных столбцов\n",
    "    - замена пропусков на заглушку в категориальных данных\n",
    "- Был проведен подбор моделей и гиперпараметров:\n",
    "    - LightGBM\n",
    "    - CatBoost\n",
    "    - LinearRegression\n",
    "- Было произведено сравнение с константной моделью\n",
    "\n",
    "Наилучший результат показала модель **LightGBM**"
   ]
  },
  {
   "cell_type": "markdown",
   "metadata": {},
   "source": [
    "## Чек-лист проверки"
   ]
  },
  {
   "cell_type": "markdown",
   "metadata": {},
   "source": [
    "Поставьте 'x' в выполненных пунктах. Далее нажмите Shift+Enter."
   ]
  },
  {
   "cell_type": "markdown",
   "metadata": {},
   "source": [
    "- [x]  Jupyter Notebook открыт\n",
    "- [x]  Весь код выполняется без ошибок\n",
    "- [x]  Ячейки с кодом расположены в порядке исполнения\n",
    "- [x]  Выполнена загрузка и подготовка данных\n",
    "- [x]  Выполнено обучение моделей\n",
    "- [x]  Есть анализ скорости работы и качества моделей"
   ]
  },
  {
   "cell_type": "code",
   "execution_count": null,
   "metadata": {},
   "outputs": [],
   "source": []
  }
 ],
 "metadata": {
  "ExecuteTimeLog": [
   {
    "duration": 59,
    "start_time": "2023-09-10T21:28:25.391Z"
   },
   {
    "duration": 2404,
    "start_time": "2023-09-10T21:28:25.452Z"
   },
   {
    "duration": 453,
    "start_time": "2023-09-10T21:28:27.858Z"
   },
   {
    "duration": 0,
    "start_time": "2023-09-10T21:28:28.315Z"
   },
   {
    "duration": 0,
    "start_time": "2023-09-10T21:28:28.317Z"
   },
   {
    "duration": 0,
    "start_time": "2023-09-10T21:28:28.318Z"
   },
   {
    "duration": 0,
    "start_time": "2023-09-10T21:28:28.319Z"
   },
   {
    "duration": 0,
    "start_time": "2023-09-10T21:28:28.321Z"
   },
   {
    "duration": 0,
    "start_time": "2023-09-10T21:28:28.322Z"
   },
   {
    "duration": 0,
    "start_time": "2023-09-10T21:28:28.324Z"
   },
   {
    "duration": 0,
    "start_time": "2023-09-10T21:28:28.325Z"
   },
   {
    "duration": 0,
    "start_time": "2023-09-10T21:28:28.326Z"
   },
   {
    "duration": 0,
    "start_time": "2023-09-10T21:28:28.344Z"
   },
   {
    "duration": 0,
    "start_time": "2023-09-10T21:28:28.346Z"
   },
   {
    "duration": 0,
    "start_time": "2023-09-10T21:28:28.347Z"
   },
   {
    "duration": 0,
    "start_time": "2023-09-10T21:28:28.348Z"
   },
   {
    "duration": 0,
    "start_time": "2023-09-10T21:28:28.350Z"
   },
   {
    "duration": 0,
    "start_time": "2023-09-10T21:28:28.351Z"
   },
   {
    "duration": 0,
    "start_time": "2023-09-10T21:28:28.353Z"
   },
   {
    "duration": 0,
    "start_time": "2023-09-10T21:28:28.354Z"
   },
   {
    "duration": 0,
    "start_time": "2023-09-10T21:28:28.355Z"
   },
   {
    "duration": 0,
    "start_time": "2023-09-10T21:28:28.356Z"
   },
   {
    "duration": 0,
    "start_time": "2023-09-10T21:28:28.358Z"
   },
   {
    "duration": 0,
    "start_time": "2023-09-10T21:28:28.359Z"
   },
   {
    "duration": 0,
    "start_time": "2023-09-10T21:28:28.360Z"
   },
   {
    "duration": 0,
    "start_time": "2023-09-10T21:28:28.362Z"
   },
   {
    "duration": 0,
    "start_time": "2023-09-10T21:28:28.363Z"
   },
   {
    "duration": 0,
    "start_time": "2023-09-10T21:28:28.364Z"
   },
   {
    "duration": 0,
    "start_time": "2023-09-10T21:28:28.366Z"
   },
   {
    "duration": 0,
    "start_time": "2023-09-10T21:28:28.367Z"
   },
   {
    "duration": 0,
    "start_time": "2023-09-10T21:28:28.368Z"
   },
   {
    "duration": 0,
    "start_time": "2023-09-10T21:28:28.369Z"
   },
   {
    "duration": 0,
    "start_time": "2023-09-10T21:28:28.370Z"
   },
   {
    "duration": 0,
    "start_time": "2023-09-10T21:28:28.371Z"
   },
   {
    "duration": 0,
    "start_time": "2023-09-10T21:28:28.372Z"
   },
   {
    "duration": 0,
    "start_time": "2023-09-10T21:28:28.373Z"
   },
   {
    "duration": 0,
    "start_time": "2023-09-10T21:28:28.374Z"
   },
   {
    "duration": 0,
    "start_time": "2023-09-10T21:28:28.375Z"
   },
   {
    "duration": 0,
    "start_time": "2023-09-10T21:28:28.376Z"
   },
   {
    "duration": 0,
    "start_time": "2023-09-10T21:28:28.377Z"
   },
   {
    "duration": 0,
    "start_time": "2023-09-10T21:28:28.378Z"
   },
   {
    "duration": 0,
    "start_time": "2023-09-10T21:28:28.379Z"
   },
   {
    "duration": 0,
    "start_time": "2023-09-10T21:28:28.381Z"
   },
   {
    "duration": 0,
    "start_time": "2023-09-10T21:28:28.381Z"
   },
   {
    "duration": 0,
    "start_time": "2023-09-10T21:28:28.382Z"
   },
   {
    "duration": 0,
    "start_time": "2023-09-10T21:28:28.385Z"
   },
   {
    "duration": 0,
    "start_time": "2023-09-10T21:28:28.444Z"
   },
   {
    "duration": 0,
    "start_time": "2023-09-10T21:28:28.446Z"
   },
   {
    "duration": 0,
    "start_time": "2023-09-10T21:28:28.447Z"
   },
   {
    "duration": 0,
    "start_time": "2023-09-10T21:28:28.449Z"
   },
   {
    "duration": 0,
    "start_time": "2023-09-10T21:28:28.450Z"
   },
   {
    "duration": 0,
    "start_time": "2023-09-10T21:28:28.452Z"
   },
   {
    "duration": 0,
    "start_time": "2023-09-10T21:28:28.453Z"
   },
   {
    "duration": 0,
    "start_time": "2023-09-10T21:28:28.454Z"
   },
   {
    "duration": 0,
    "start_time": "2023-09-10T21:28:28.456Z"
   },
   {
    "duration": 0,
    "start_time": "2023-09-10T21:28:28.457Z"
   },
   {
    "duration": 0,
    "start_time": "2023-09-10T21:28:28.458Z"
   },
   {
    "duration": 0,
    "start_time": "2023-09-10T21:28:28.460Z"
   },
   {
    "duration": 0,
    "start_time": "2023-09-10T21:28:28.461Z"
   },
   {
    "duration": 0,
    "start_time": "2023-09-10T21:28:28.462Z"
   },
   {
    "duration": 0,
    "start_time": "2023-09-10T21:28:28.464Z"
   },
   {
    "duration": 0,
    "start_time": "2023-09-10T21:28:28.465Z"
   },
   {
    "duration": 0,
    "start_time": "2023-09-10T21:28:28.466Z"
   },
   {
    "duration": 0,
    "start_time": "2023-09-10T21:28:28.467Z"
   },
   {
    "duration": 0,
    "start_time": "2023-09-10T21:28:28.468Z"
   },
   {
    "duration": 0,
    "start_time": "2023-09-10T21:28:28.470Z"
   },
   {
    "duration": 0,
    "start_time": "2023-09-10T21:28:28.471Z"
   },
   {
    "duration": 0,
    "start_time": "2023-09-10T21:28:28.473Z"
   },
   {
    "duration": 0,
    "start_time": "2023-09-10T21:28:28.474Z"
   },
   {
    "duration": 0,
    "start_time": "2023-09-10T21:28:28.475Z"
   },
   {
    "duration": 0,
    "start_time": "2023-09-10T21:28:28.477Z"
   },
   {
    "duration": 0,
    "start_time": "2023-09-10T21:28:28.478Z"
   },
   {
    "duration": 0,
    "start_time": "2023-09-10T21:28:28.479Z"
   },
   {
    "duration": 2515,
    "start_time": "2023-09-10T21:28:58.877Z"
   },
   {
    "duration": 54,
    "start_time": "2023-09-10T21:29:12.955Z"
   },
   {
    "duration": 2078,
    "start_time": "2023-09-10T21:29:13.010Z"
   },
   {
    "duration": 1468,
    "start_time": "2023-09-10T21:29:15.090Z"
   },
   {
    "duration": 2991,
    "start_time": "2023-09-10T21:29:16.559Z"
   },
   {
    "duration": 3,
    "start_time": "2023-09-10T21:29:19.553Z"
   },
   {
    "duration": 19,
    "start_time": "2023-09-10T21:29:19.557Z"
   },
   {
    "duration": 107,
    "start_time": "2023-09-10T21:29:19.578Z"
   },
   {
    "duration": 135,
    "start_time": "2023-09-10T21:29:19.687Z"
   },
   {
    "duration": 36,
    "start_time": "2023-09-10T21:29:19.824Z"
   },
   {
    "duration": 1888,
    "start_time": "2023-09-10T21:29:19.862Z"
   },
   {
    "duration": 104,
    "start_time": "2023-09-10T21:29:21.752Z"
   },
   {
    "duration": 289,
    "start_time": "2023-09-10T21:29:21.858Z"
   },
   {
    "duration": 186,
    "start_time": "2023-09-10T21:29:22.149Z"
   },
   {
    "duration": 258,
    "start_time": "2023-09-10T21:29:22.344Z"
   },
   {
    "duration": 381,
    "start_time": "2023-09-10T21:29:22.603Z"
   },
   {
    "duration": 3,
    "start_time": "2023-09-10T21:29:22.986Z"
   },
   {
    "duration": 125,
    "start_time": "2023-09-10T21:29:22.990Z"
   },
   {
    "duration": 105,
    "start_time": "2023-09-10T21:29:23.116Z"
   },
   {
    "duration": 599,
    "start_time": "2023-09-10T21:29:23.222Z"
   },
   {
    "duration": 27,
    "start_time": "2023-09-10T21:29:23.822Z"
   },
   {
    "duration": 17,
    "start_time": "2023-09-10T21:29:23.850Z"
   },
   {
    "duration": 16,
    "start_time": "2023-09-10T21:29:23.868Z"
   },
   {
    "duration": 91,
    "start_time": "2023-09-10T21:29:23.885Z"
   },
   {
    "duration": 4,
    "start_time": "2023-09-10T21:29:23.978Z"
   },
   {
    "duration": 9,
    "start_time": "2023-09-10T21:29:23.983Z"
   },
   {
    "duration": 1677,
    "start_time": "2023-09-10T21:29:23.993Z"
   },
   {
    "duration": 2,
    "start_time": "2023-09-10T21:29:25.672Z"
   },
   {
    "duration": 25,
    "start_time": "2023-09-10T21:29:25.675Z"
   },
   {
    "duration": 22,
    "start_time": "2023-09-10T21:29:25.701Z"
   },
   {
    "duration": 41,
    "start_time": "2023-09-10T21:29:25.725Z"
   },
   {
    "duration": 124,
    "start_time": "2023-09-10T21:29:25.768Z"
   },
   {
    "duration": 21,
    "start_time": "2023-09-10T21:29:25.894Z"
   },
   {
    "duration": 26,
    "start_time": "2023-09-10T21:29:25.917Z"
   },
   {
    "duration": 1723,
    "start_time": "2023-09-10T21:29:25.945Z"
   },
   {
    "duration": 159,
    "start_time": "2023-09-10T21:29:27.670Z"
   },
   {
    "duration": 27,
    "start_time": "2023-09-10T21:29:27.832Z"
   },
   {
    "duration": 1535,
    "start_time": "2023-09-10T21:29:27.861Z"
   },
   {
    "duration": 152,
    "start_time": "2023-09-10T21:29:29.397Z"
   },
   {
    "duration": 20,
    "start_time": "2023-09-10T21:29:29.551Z"
   },
   {
    "duration": 18,
    "start_time": "2023-09-10T21:29:29.572Z"
   },
   {
    "duration": 86,
    "start_time": "2023-09-10T21:29:29.594Z"
   },
   {
    "duration": 63,
    "start_time": "2023-09-10T21:29:29.682Z"
   },
   {
    "duration": 3,
    "start_time": "2023-09-10T21:29:29.747Z"
   },
   {
    "duration": 1586,
    "start_time": "2023-09-10T21:29:29.751Z"
   },
   {
    "duration": 1667,
    "start_time": "2023-09-10T21:29:31.338Z"
   },
   {
    "duration": 71,
    "start_time": "2023-09-10T21:29:33.006Z"
   },
   {
    "duration": 80,
    "start_time": "2023-09-10T21:29:33.079Z"
   },
   {
    "duration": 154,
    "start_time": "2023-09-10T21:29:33.160Z"
   },
   {
    "duration": 35,
    "start_time": "2023-09-10T21:29:33.316Z"
   },
   {
    "duration": 30,
    "start_time": "2023-09-10T21:29:33.353Z"
   },
   {
    "duration": 35,
    "start_time": "2023-09-10T21:29:33.385Z"
   },
   {
    "duration": 39,
    "start_time": "2023-09-10T21:29:33.422Z"
   },
   {
    "duration": 43,
    "start_time": "2023-09-10T21:29:33.463Z"
   },
   {
    "duration": 32,
    "start_time": "2023-09-10T21:29:33.508Z"
   },
   {
    "duration": 28,
    "start_time": "2023-09-10T21:29:33.541Z"
   },
   {
    "duration": 100,
    "start_time": "2023-09-10T21:29:33.570Z"
   },
   {
    "duration": 139,
    "start_time": "2023-09-10T21:29:33.671Z"
   },
   {
    "duration": 9,
    "start_time": "2023-09-10T21:29:33.812Z"
   },
   {
    "duration": 4,
    "start_time": "2023-09-10T21:29:33.823Z"
   },
   {
    "duration": 30,
    "start_time": "2023-09-10T21:29:33.829Z"
   },
   {
    "duration": 4,
    "start_time": "2023-09-10T21:29:33.861Z"
   },
   {
    "duration": 8,
    "start_time": "2023-09-10T21:29:33.867Z"
   },
   {
    "duration": 31,
    "start_time": "2023-09-10T21:29:33.876Z"
   },
   {
    "duration": 707103,
    "start_time": "2023-09-10T21:29:33.908Z"
   },
   {
    "duration": 44311,
    "start_time": "2023-09-10T21:41:21.013Z"
   },
   {
    "duration": 450423,
    "start_time": "2023-09-10T21:42:05.325Z"
   },
   {
    "duration": 10497,
    "start_time": "2023-09-10T21:49:35.750Z"
   },
   {
    "duration": 8,
    "start_time": "2023-09-10T21:49:46.248Z"
   },
   {
    "duration": 902,
    "start_time": "2023-09-10T21:49:46.258Z"
   },
   {
    "duration": 99,
    "start_time": "2023-09-10T21:49:47.246Z"
   },
   {
    "duration": 51898,
    "start_time": "2023-09-10T21:49:47.347Z"
   },
   {
    "duration": 141,
    "start_time": "2023-09-10T21:50:39.249Z"
   },
   {
    "duration": 8,
    "start_time": "2023-09-10T21:50:39.391Z"
   },
   {
    "duration": 5,
    "start_time": "2023-09-10T21:57:25.733Z"
   },
   {
    "duration": 3,
    "start_time": "2023-09-10T21:57:31.297Z"
   },
   {
    "duration": 3,
    "start_time": "2023-09-10T21:57:34.561Z"
   },
   {
    "duration": 5754,
    "start_time": "2023-09-12T18:31:16.952Z"
   },
   {
    "duration": 1585,
    "start_time": "2023-09-12T18:31:28.035Z"
   },
   {
    "duration": 11,
    "start_time": "2023-09-12T18:32:44.117Z"
   },
   {
    "duration": 1345,
    "start_time": "2023-09-12T18:32:58.005Z"
   },
   {
    "duration": 38620,
    "start_time": "2023-09-12T18:33:11.153Z"
   },
   {
    "duration": 45,
    "start_time": "2023-09-12T19:40:47.457Z"
   },
   {
    "duration": 74,
    "start_time": "2023-09-12T19:40:59.121Z"
   },
   {
    "duration": 4305,
    "start_time": "2023-09-12T19:40:59.197Z"
   },
   {
    "duration": 1535,
    "start_time": "2023-09-12T19:41:03.504Z"
   },
   {
    "duration": 1310,
    "start_time": "2023-09-12T19:41:05.041Z"
   },
   {
    "duration": 3,
    "start_time": "2023-09-12T19:41:06.354Z"
   },
   {
    "duration": 25,
    "start_time": "2023-09-12T19:41:06.359Z"
   },
   {
    "duration": 114,
    "start_time": "2023-09-12T19:41:06.386Z"
   },
   {
    "duration": 93,
    "start_time": "2023-09-12T19:41:06.501Z"
   },
   {
    "duration": 30,
    "start_time": "2023-09-12T19:41:06.595Z"
   },
   {
    "duration": 1822,
    "start_time": "2023-09-12T19:41:06.627Z"
   },
   {
    "duration": 104,
    "start_time": "2023-09-12T19:41:08.450Z"
   },
   {
    "duration": 288,
    "start_time": "2023-09-12T19:41:08.555Z"
   },
   {
    "duration": 174,
    "start_time": "2023-09-12T19:41:08.845Z"
   },
   {
    "duration": 230,
    "start_time": "2023-09-12T19:41:09.022Z"
   },
   {
    "duration": 370,
    "start_time": "2023-09-12T19:43:57.117Z"
   },
   {
    "duration": 42684,
    "start_time": "2023-09-12T19:43:59.887Z"
   },
   {
    "duration": 570,
    "start_time": "2023-09-12T19:45:13.278Z"
   },
   {
    "duration": 359,
    "start_time": "2023-09-12T19:45:28.430Z"
   },
   {
    "duration": 516,
    "start_time": "2023-09-12T19:45:39.075Z"
   },
   {
    "duration": 389,
    "start_time": "2023-09-12T19:45:47.867Z"
   },
   {
    "duration": 7793,
    "start_time": "2023-09-12T19:45:53.001Z"
   },
   {
    "duration": 10527,
    "start_time": "2023-09-12T19:46:30.224Z"
   },
   {
    "duration": 9422,
    "start_time": "2023-09-12T19:46:54.331Z"
   },
   {
    "duration": 1144,
    "start_time": "2023-09-12T19:47:03.755Z"
   },
   {
    "duration": 1100,
    "start_time": "2023-09-12T19:47:10.838Z"
   },
   {
    "duration": 356,
    "start_time": "2023-09-12T19:47:16.490Z"
   },
   {
    "duration": 1186,
    "start_time": "2023-09-12T19:49:06.768Z"
   },
   {
    "duration": 95,
    "start_time": "2023-09-13T09:23:39.725Z"
   },
   {
    "duration": 6778,
    "start_time": "2023-09-13T09:23:39.823Z"
   },
   {
    "duration": 1944,
    "start_time": "2023-09-13T09:23:46.604Z"
   },
   {
    "duration": 3559,
    "start_time": "2023-09-13T09:23:48.551Z"
   },
   {
    "duration": 4,
    "start_time": "2023-09-13T09:23:52.113Z"
   },
   {
    "duration": 56,
    "start_time": "2023-09-13T09:23:52.120Z"
   },
   {
    "duration": 140,
    "start_time": "2023-09-13T09:23:52.179Z"
   },
   {
    "duration": 117,
    "start_time": "2023-09-13T09:23:52.322Z"
   },
   {
    "duration": 38,
    "start_time": "2023-09-13T09:23:52.442Z"
   },
   {
    "duration": 2195,
    "start_time": "2023-09-13T09:23:52.482Z"
   },
   {
    "duration": 129,
    "start_time": "2023-09-13T09:23:54.679Z"
   },
   {
    "duration": 382,
    "start_time": "2023-09-13T09:23:54.810Z"
   },
   {
    "duration": 218,
    "start_time": "2023-09-13T09:23:55.194Z"
   },
   {
    "duration": 292,
    "start_time": "2023-09-13T09:23:55.415Z"
   },
   {
    "duration": 562,
    "start_time": "2023-09-13T09:23:55.710Z"
   },
   {
    "duration": 10287,
    "start_time": "2023-09-13T09:23:56.274Z"
   },
   {
    "duration": 1422,
    "start_time": "2023-09-13T09:24:06.563Z"
   },
   {
    "duration": 4,
    "start_time": "2023-09-13T09:24:07.988Z"
   },
   {
    "duration": 166,
    "start_time": "2023-09-13T09:24:07.995Z"
   },
   {
    "duration": 143,
    "start_time": "2023-09-13T09:24:08.163Z"
   },
   {
    "duration": 748,
    "start_time": "2023-09-13T09:24:13.496Z"
   },
   {
    "duration": 124,
    "start_time": "2023-09-13T09:24:18.668Z"
   },
   {
    "duration": 636,
    "start_time": "2023-09-13T09:24:23.798Z"
   },
   {
    "duration": 15,
    "start_time": "2023-09-13T09:24:41.441Z"
   },
   {
    "duration": 124,
    "start_time": "2023-09-13T09:24:47.917Z"
   },
   {
    "duration": 111,
    "start_time": "2023-09-13T09:24:52.094Z"
   },
   {
    "duration": 357,
    "start_time": "2023-09-13T09:25:22.877Z"
   },
   {
    "duration": 831,
    "start_time": "2023-09-13T09:25:35.492Z"
   },
   {
    "duration": 734,
    "start_time": "2023-09-13T09:26:01.433Z"
   },
   {
    "duration": 17,
    "start_time": "2023-09-13T10:06:01.843Z"
   },
   {
    "duration": 14,
    "start_time": "2023-09-13T10:06:15.527Z"
   },
   {
    "duration": 1917,
    "start_time": "2023-09-13T10:09:49.110Z"
   },
   {
    "duration": 728,
    "start_time": "2023-09-13T10:09:59.814Z"
   },
   {
    "duration": 864,
    "start_time": "2023-09-13T10:10:08.547Z"
   },
   {
    "duration": 727,
    "start_time": "2023-09-13T10:10:21.762Z"
   },
   {
    "duration": 714,
    "start_time": "2023-09-13T10:10:43.164Z"
   },
   {
    "duration": 137,
    "start_time": "2023-09-13T10:11:11.129Z"
   },
   {
    "duration": 752,
    "start_time": "2023-09-13T10:11:20.288Z"
   },
   {
    "duration": 846,
    "start_time": "2023-09-13T10:11:34.104Z"
   },
   {
    "duration": 744,
    "start_time": "2023-09-13T10:11:44.001Z"
   },
   {
    "duration": 80,
    "start_time": "2023-09-13T12:45:42.192Z"
   },
   {
    "duration": 72,
    "start_time": "2023-09-13T12:45:51.561Z"
   },
   {
    "duration": 6207,
    "start_time": "2023-09-13T12:45:51.634Z"
   },
   {
    "duration": 1804,
    "start_time": "2023-09-13T12:45:57.843Z"
   },
   {
    "duration": 1421,
    "start_time": "2023-09-13T12:45:59.649Z"
   },
   {
    "duration": 3,
    "start_time": "2023-09-13T12:46:01.072Z"
   },
   {
    "duration": 56,
    "start_time": "2023-09-13T12:46:01.078Z"
   },
   {
    "duration": 142,
    "start_time": "2023-09-13T12:46:01.136Z"
   },
   {
    "duration": 131,
    "start_time": "2023-09-13T12:46:01.279Z"
   },
   {
    "duration": 28,
    "start_time": "2023-09-13T12:46:01.412Z"
   },
   {
    "duration": 1930,
    "start_time": "2023-09-13T12:46:01.450Z"
   },
   {
    "duration": 116,
    "start_time": "2023-09-13T12:46:03.382Z"
   },
   {
    "duration": 285,
    "start_time": "2023-09-13T12:46:03.499Z"
   },
   {
    "duration": 176,
    "start_time": "2023-09-13T12:46:03.786Z"
   },
   {
    "duration": 230,
    "start_time": "2023-09-13T12:46:03.965Z"
   },
   {
    "duration": 519,
    "start_time": "2023-09-13T12:46:04.197Z"
   },
   {
    "duration": 8955,
    "start_time": "2023-09-13T12:46:04.717Z"
   },
   {
    "duration": 1225,
    "start_time": "2023-09-13T12:46:13.675Z"
   },
   {
    "duration": 3,
    "start_time": "2023-09-13T12:46:14.902Z"
   },
   {
    "duration": 135,
    "start_time": "2023-09-13T12:46:14.906Z"
   },
   {
    "duration": 121,
    "start_time": "2023-09-13T12:46:15.043Z"
   },
   {
    "duration": 654,
    "start_time": "2023-09-13T12:46:15.167Z"
   },
   {
    "duration": 831,
    "start_time": "2023-09-13T12:46:27.313Z"
   },
   {
    "duration": 10,
    "start_time": "2023-09-13T12:47:58.495Z"
   },
   {
    "duration": 10,
    "start_time": "2023-09-13T12:48:14.669Z"
   },
   {
    "duration": 9,
    "start_time": "2023-09-13T12:49:34.822Z"
   },
   {
    "duration": 8,
    "start_time": "2023-09-13T12:50:04.569Z"
   },
   {
    "duration": 8,
    "start_time": "2023-09-13T12:50:09.948Z"
   },
   {
    "duration": 728,
    "start_time": "2023-09-13T12:51:17.934Z"
   },
   {
    "duration": 702,
    "start_time": "2023-09-13T12:54:59.506Z"
   },
   {
    "duration": 699,
    "start_time": "2023-09-13T12:55:45.192Z"
   },
   {
    "duration": 715,
    "start_time": "2023-09-13T12:55:49.404Z"
   },
   {
    "duration": 22,
    "start_time": "2023-09-13T13:09:07.861Z"
   },
   {
    "duration": 22,
    "start_time": "2023-09-13T13:09:30.425Z"
   },
   {
    "duration": 2452,
    "start_time": "2023-09-13T13:09:45.437Z"
   },
   {
    "duration": 5,
    "start_time": "2023-09-13T13:10:23.169Z"
   },
   {
    "duration": 133,
    "start_time": "2023-09-13T13:10:43.996Z"
   },
   {
    "duration": 13,
    "start_time": "2023-09-13T13:10:47.017Z"
   },
   {
    "duration": 41,
    "start_time": "2023-09-13T13:10:51.061Z"
   },
   {
    "duration": 11,
    "start_time": "2023-09-13T13:11:34.366Z"
   },
   {
    "duration": 109,
    "start_time": "2023-09-13T13:11:50.006Z"
   },
   {
    "duration": 2,
    "start_time": "2023-09-13T13:11:57.747Z"
   },
   {
    "duration": 11,
    "start_time": "2023-09-13T13:12:04.118Z"
   },
   {
    "duration": 35,
    "start_time": "2023-09-13T13:12:21.355Z"
   },
   {
    "duration": 28,
    "start_time": "2023-09-13T13:12:49.229Z"
   },
   {
    "duration": 15,
    "start_time": "2023-09-13T13:12:54.762Z"
   },
   {
    "duration": 17,
    "start_time": "2023-09-13T13:12:59.060Z"
   },
   {
    "duration": 21,
    "start_time": "2023-09-13T13:13:09.246Z"
   },
   {
    "duration": 29,
    "start_time": "2023-09-13T13:13:44.775Z"
   },
   {
    "duration": 35,
    "start_time": "2023-09-13T13:13:56.054Z"
   },
   {
    "duration": 16,
    "start_time": "2023-09-13T13:14:58.002Z"
   },
   {
    "duration": 9,
    "start_time": "2023-09-13T13:15:50.062Z"
   },
   {
    "duration": 10,
    "start_time": "2023-09-13T13:15:52.238Z"
   },
   {
    "duration": 33,
    "start_time": "2023-09-13T13:15:56.315Z"
   },
   {
    "duration": 72,
    "start_time": "2023-09-13T20:55:01.405Z"
   },
   {
    "duration": 6113,
    "start_time": "2023-09-13T20:55:01.478Z"
   },
   {
    "duration": 1666,
    "start_time": "2023-09-13T20:55:07.593Z"
   },
   {
    "duration": 3213,
    "start_time": "2023-09-13T20:55:09.261Z"
   },
   {
    "duration": 3,
    "start_time": "2023-09-13T20:55:12.476Z"
   },
   {
    "duration": 25,
    "start_time": "2023-09-13T20:55:12.481Z"
   },
   {
    "duration": 101,
    "start_time": "2023-09-13T20:55:12.508Z"
   },
   {
    "duration": 100,
    "start_time": "2023-09-13T20:55:12.611Z"
   },
   {
    "duration": 38,
    "start_time": "2023-09-13T20:55:12.713Z"
   },
   {
    "duration": 2168,
    "start_time": "2023-09-13T20:55:12.753Z"
   },
   {
    "duration": 146,
    "start_time": "2023-09-13T20:55:14.930Z"
   },
   {
    "duration": 356,
    "start_time": "2023-09-13T20:55:15.078Z"
   },
   {
    "duration": 196,
    "start_time": "2023-09-13T20:55:15.436Z"
   },
   {
    "duration": 282,
    "start_time": "2023-09-13T20:55:15.635Z"
   },
   {
    "duration": 423,
    "start_time": "2023-09-13T20:55:15.919Z"
   },
   {
    "duration": 9832,
    "start_time": "2023-09-13T20:55:16.344Z"
   },
   {
    "duration": 1424,
    "start_time": "2023-09-13T20:55:26.178Z"
   },
   {
    "duration": 5,
    "start_time": "2023-09-13T20:55:27.604Z"
   },
   {
    "duration": 126,
    "start_time": "2023-09-13T20:55:27.611Z"
   },
   {
    "duration": 125,
    "start_time": "2023-09-13T20:55:27.739Z"
   },
   {
    "duration": 735,
    "start_time": "2023-09-13T20:55:27.866Z"
   },
   {
    "duration": 846,
    "start_time": "2023-09-13T20:55:28.603Z"
   },
   {
    "duration": 857,
    "start_time": "2023-09-13T20:55:29.451Z"
   },
   {
    "duration": 19,
    "start_time": "2023-09-13T20:55:30.310Z"
   },
   {
    "duration": 28,
    "start_time": "2023-09-13T20:55:30.331Z"
   },
   {
    "duration": 35,
    "start_time": "2023-09-13T20:55:30.360Z"
   },
   {
    "duration": 116,
    "start_time": "2023-09-13T20:55:30.397Z"
   },
   {
    "duration": 37,
    "start_time": "2023-09-13T20:55:30.515Z"
   },
   {
    "duration": 52,
    "start_time": "2023-09-13T20:55:30.554Z"
   },
   {
    "duration": 1820,
    "start_time": "2023-09-13T20:55:30.608Z"
   },
   {
    "duration": 3,
    "start_time": "2023-09-13T20:55:32.430Z"
   },
   {
    "duration": 39,
    "start_time": "2023-09-13T20:55:32.435Z"
   },
   {
    "duration": 23,
    "start_time": "2023-09-13T20:55:32.476Z"
   },
   {
    "duration": 58,
    "start_time": "2023-09-13T20:55:32.501Z"
   },
   {
    "duration": 21,
    "start_time": "2023-09-13T20:55:32.562Z"
   },
   {
    "duration": 27,
    "start_time": "2023-09-13T20:55:32.586Z"
   },
   {
    "duration": 59,
    "start_time": "2023-09-13T20:55:32.615Z"
   },
   {
    "duration": 2140,
    "start_time": "2023-09-13T20:55:32.675Z"
   },
   {
    "duration": 170,
    "start_time": "2023-09-13T20:55:34.817Z"
   },
   {
    "duration": 23,
    "start_time": "2023-09-13T20:55:34.989Z"
   },
   {
    "duration": 1827,
    "start_time": "2023-09-13T20:55:35.017Z"
   },
   {
    "duration": 194,
    "start_time": "2023-09-13T20:55:36.847Z"
   },
   {
    "duration": 28,
    "start_time": "2023-09-13T20:55:37.044Z"
   },
   {
    "duration": 4,
    "start_time": "2023-09-13T20:55:37.074Z"
   },
   {
    "duration": 29,
    "start_time": "2023-09-13T20:55:37.080Z"
   },
   {
    "duration": 48,
    "start_time": "2023-09-13T20:55:37.111Z"
   },
   {
    "duration": 17,
    "start_time": "2023-09-13T20:55:37.161Z"
   },
   {
    "duration": 18,
    "start_time": "2023-09-13T21:01:59.084Z"
   },
   {
    "duration": 14,
    "start_time": "2023-09-13T21:16:06.011Z"
   },
   {
    "duration": 138,
    "start_time": "2023-09-13T21:16:25.548Z"
   },
   {
    "duration": 21,
    "start_time": "2023-09-13T21:16:29.562Z"
   },
   {
    "duration": 39,
    "start_time": "2023-09-13T21:16:49.558Z"
   },
   {
    "duration": 8311,
    "start_time": "2023-09-13T21:19:29.689Z"
   },
   {
    "duration": 242,
    "start_time": "2023-09-13T21:19:47.863Z"
   },
   {
    "duration": 15942,
    "start_time": "2023-09-13T21:20:18.623Z"
   },
   {
    "duration": 3,
    "start_time": "2023-09-13T21:23:24.090Z"
   },
   {
    "duration": 21270,
    "start_time": "2023-09-13T21:24:45.480Z"
   },
   {
    "duration": 920,
    "start_time": "2023-09-13T21:26:41.219Z"
   },
   {
    "duration": 17801,
    "start_time": "2023-09-13T21:28:46.702Z"
   },
   {
    "duration": 18473,
    "start_time": "2023-09-13T21:29:50.742Z"
   },
   {
    "duration": 3,
    "start_time": "2023-09-13T21:30:24.172Z"
   },
   {
    "duration": 2,
    "start_time": "2023-09-13T21:31:53.042Z"
   },
   {
    "duration": 15967,
    "start_time": "2023-09-13T21:31:56.135Z"
   },
   {
    "duration": 2,
    "start_time": "2023-09-13T21:32:38.811Z"
   },
   {
    "duration": 62,
    "start_time": "2023-09-13T21:35:28.817Z"
   },
   {
    "duration": 9403,
    "start_time": "2023-09-13T21:35:28.881Z"
   },
   {
    "duration": 5,
    "start_time": "2023-09-13T21:35:38.286Z"
   },
   {
    "duration": 1016,
    "start_time": "2023-09-13T21:35:38.293Z"
   },
   {
    "duration": 3,
    "start_time": "2023-09-13T21:35:39.311Z"
   },
   {
    "duration": 28,
    "start_time": "2023-09-13T21:35:39.315Z"
   },
   {
    "duration": 103,
    "start_time": "2023-09-13T21:35:39.344Z"
   },
   {
    "duration": 79,
    "start_time": "2023-09-13T21:35:39.449Z"
   },
   {
    "duration": 36,
    "start_time": "2023-09-13T21:35:39.529Z"
   },
   {
    "duration": 2052,
    "start_time": "2023-09-13T21:35:39.567Z"
   },
   {
    "duration": 106,
    "start_time": "2023-09-13T21:35:41.620Z"
   },
   {
    "duration": 287,
    "start_time": "2023-09-13T21:35:41.727Z"
   },
   {
    "duration": 212,
    "start_time": "2023-09-13T21:35:42.016Z"
   },
   {
    "duration": 207,
    "start_time": "2023-09-13T21:35:42.231Z"
   },
   {
    "duration": 429,
    "start_time": "2023-09-13T21:35:42.440Z"
   },
   {
    "duration": 9043,
    "start_time": "2023-09-13T21:35:42.870Z"
   },
   {
    "duration": 1216,
    "start_time": "2023-09-13T21:35:51.915Z"
   },
   {
    "duration": 3,
    "start_time": "2023-09-13T21:35:53.132Z"
   },
   {
    "duration": 115,
    "start_time": "2023-09-13T21:35:53.145Z"
   },
   {
    "duration": 118,
    "start_time": "2023-09-13T21:35:53.262Z"
   },
   {
    "duration": 616,
    "start_time": "2023-09-13T21:35:53.382Z"
   },
   {
    "duration": 711,
    "start_time": "2023-09-13T21:35:54.000Z"
   },
   {
    "duration": 685,
    "start_time": "2023-09-13T21:35:54.713Z"
   },
   {
    "duration": 22,
    "start_time": "2023-09-13T21:35:55.400Z"
   },
   {
    "duration": 33,
    "start_time": "2023-09-13T21:35:55.423Z"
   },
   {
    "duration": 17,
    "start_time": "2023-09-13T21:35:55.459Z"
   },
   {
    "duration": 110,
    "start_time": "2023-09-13T21:35:55.478Z"
   },
   {
    "duration": 4,
    "start_time": "2023-09-13T21:35:55.590Z"
   },
   {
    "duration": 4,
    "start_time": "2023-09-13T21:35:55.596Z"
   },
   {
    "duration": 1995,
    "start_time": "2023-09-13T21:35:55.602Z"
   },
   {
    "duration": 2,
    "start_time": "2023-09-13T21:35:57.599Z"
   },
   {
    "duration": 16,
    "start_time": "2023-09-13T21:35:57.603Z"
   },
   {
    "duration": 36,
    "start_time": "2023-09-13T21:35:57.622Z"
   },
   {
    "duration": 22,
    "start_time": "2023-09-13T21:35:57.659Z"
   },
   {
    "duration": 16,
    "start_time": "2023-09-13T21:35:57.683Z"
   },
   {
    "duration": 19,
    "start_time": "2023-09-13T21:35:57.700Z"
   },
   {
    "duration": 52,
    "start_time": "2023-09-13T21:35:57.720Z"
   },
   {
    "duration": 1873,
    "start_time": "2023-09-13T21:35:57.773Z"
   },
   {
    "duration": 157,
    "start_time": "2023-09-13T21:35:59.649Z"
   },
   {
    "duration": 22,
    "start_time": "2023-09-13T21:35:59.808Z"
   },
   {
    "duration": 1826,
    "start_time": "2023-09-13T21:35:59.847Z"
   },
   {
    "duration": 178,
    "start_time": "2023-09-13T21:36:01.675Z"
   },
   {
    "duration": 25,
    "start_time": "2023-09-13T21:36:01.855Z"
   },
   {
    "duration": 25,
    "start_time": "2023-09-13T21:36:01.882Z"
   },
   {
    "duration": 55,
    "start_time": "2023-09-13T21:36:01.908Z"
   },
   {
    "duration": 17,
    "start_time": "2023-09-13T21:36:01.966Z"
   },
   {
    "duration": 92,
    "start_time": "2023-09-13T21:36:01.984Z"
   },
   {
    "duration": 28,
    "start_time": "2023-09-13T21:36:02.078Z"
   },
   {
    "duration": 3,
    "start_time": "2023-09-13T21:36:02.107Z"
   },
   {
    "duration": 1677,
    "start_time": "2023-09-13T21:36:02.112Z"
   },
   {
    "duration": 1715,
    "start_time": "2023-09-13T21:36:03.791Z"
   },
   {
    "duration": 74,
    "start_time": "2023-09-13T21:36:05.507Z"
   },
   {
    "duration": 81,
    "start_time": "2023-09-13T21:36:05.583Z"
   },
   {
    "duration": 155,
    "start_time": "2023-09-13T21:36:05.668Z"
   },
   {
    "duration": 35,
    "start_time": "2023-09-13T21:36:05.824Z"
   },
   {
    "duration": 42,
    "start_time": "2023-09-13T21:36:05.861Z"
   },
   {
    "duration": 30,
    "start_time": "2023-09-13T21:36:05.904Z"
   },
   {
    "duration": 42,
    "start_time": "2023-09-13T21:36:05.936Z"
   },
   {
    "duration": 36,
    "start_time": "2023-09-13T21:36:05.980Z"
   },
   {
    "duration": 56,
    "start_time": "2023-09-13T21:36:06.017Z"
   },
   {
    "duration": 28,
    "start_time": "2023-09-13T21:36:06.075Z"
   },
   {
    "duration": 41,
    "start_time": "2023-09-13T21:36:06.105Z"
   },
   {
    "duration": 106,
    "start_time": "2023-09-13T21:36:06.147Z"
   },
   {
    "duration": 155,
    "start_time": "2023-09-13T21:36:06.255Z"
   },
   {
    "duration": 9,
    "start_time": "2023-09-13T21:36:06.411Z"
   },
   {
    "duration": 2,
    "start_time": "2023-09-13T21:36:06.421Z"
   },
   {
    "duration": 6,
    "start_time": "2023-09-13T21:36:06.424Z"
   },
   {
    "duration": 16,
    "start_time": "2023-09-13T21:36:06.431Z"
   },
   {
    "duration": 8,
    "start_time": "2023-09-13T21:36:06.449Z"
   },
   {
    "duration": 5,
    "start_time": "2023-09-13T21:36:06.458Z"
   },
   {
    "duration": 18,
    "start_time": "2023-09-13T21:36:06.465Z"
   },
   {
    "duration": 27,
    "start_time": "2023-09-13T21:36:06.485Z"
   },
   {
    "duration": 8,
    "start_time": "2023-09-13T21:36:19.262Z"
   },
   {
    "duration": 1061,
    "start_time": "2023-09-13T21:36:25.791Z"
   },
   {
    "duration": 5364,
    "start_time": "2023-09-13T21:36:39.265Z"
   },
   {
    "duration": 328085,
    "start_time": "2023-09-13T21:36:49.325Z"
   },
   {
    "duration": 60,
    "start_time": "2023-09-14T10:27:54.126Z"
   },
   {
    "duration": 24250,
    "start_time": "2023-09-14T10:27:54.188Z"
   },
   {
    "duration": 2509,
    "start_time": "2023-09-14T10:28:18.441Z"
   },
   {
    "duration": 3027,
    "start_time": "2023-09-14T10:28:20.953Z"
   },
   {
    "duration": 3,
    "start_time": "2023-09-14T10:28:23.982Z"
   },
   {
    "duration": 30,
    "start_time": "2023-09-14T10:28:23.986Z"
   },
   {
    "duration": 137,
    "start_time": "2023-09-14T10:28:24.018Z"
   },
   {
    "duration": 109,
    "start_time": "2023-09-14T10:28:24.158Z"
   },
   {
    "duration": 28,
    "start_time": "2023-09-14T10:28:24.269Z"
   },
   {
    "duration": 1963,
    "start_time": "2023-09-14T10:28:24.300Z"
   },
   {
    "duration": 112,
    "start_time": "2023-09-14T10:28:26.265Z"
   },
   {
    "duration": 283,
    "start_time": "2023-09-14T10:28:26.378Z"
   },
   {
    "duration": 182,
    "start_time": "2023-09-14T10:28:26.663Z"
   },
   {
    "duration": 245,
    "start_time": "2023-09-14T10:28:26.846Z"
   },
   {
    "duration": 397,
    "start_time": "2023-09-14T10:28:27.093Z"
   },
   {
    "duration": 9004,
    "start_time": "2023-09-14T10:28:27.492Z"
   },
   {
    "duration": 1257,
    "start_time": "2023-09-14T10:28:36.497Z"
   },
   {
    "duration": 4,
    "start_time": "2023-09-14T10:28:37.755Z"
   },
   {
    "duration": 107,
    "start_time": "2023-09-14T10:28:37.760Z"
   },
   {
    "duration": 106,
    "start_time": "2023-09-14T10:28:37.869Z"
   },
   {
    "duration": 618,
    "start_time": "2023-09-14T10:28:37.977Z"
   },
   {
    "duration": 749,
    "start_time": "2023-09-14T10:28:38.597Z"
   },
   {
    "duration": 658,
    "start_time": "2023-09-14T10:28:39.348Z"
   },
   {
    "duration": 18,
    "start_time": "2023-09-14T10:28:40.008Z"
   },
   {
    "duration": 42,
    "start_time": "2023-09-14T10:28:40.028Z"
   },
   {
    "duration": 45,
    "start_time": "2023-09-14T10:28:40.072Z"
   },
   {
    "duration": 86,
    "start_time": "2023-09-14T10:28:40.119Z"
   },
   {
    "duration": 9,
    "start_time": "2023-09-14T10:28:40.210Z"
   },
   {
    "duration": 19,
    "start_time": "2023-09-14T10:28:40.220Z"
   },
   {
    "duration": 1754,
    "start_time": "2023-09-14T10:28:40.241Z"
   },
   {
    "duration": 3,
    "start_time": "2023-09-14T10:28:41.998Z"
   },
   {
    "duration": 33,
    "start_time": "2023-09-14T10:28:42.002Z"
   },
   {
    "duration": 23,
    "start_time": "2023-09-14T10:28:42.037Z"
   },
   {
    "duration": 26,
    "start_time": "2023-09-14T10:28:42.062Z"
   },
   {
    "duration": 18,
    "start_time": "2023-09-14T10:28:42.090Z"
   },
   {
    "duration": 54,
    "start_time": "2023-09-14T10:28:42.110Z"
   },
   {
    "duration": 26,
    "start_time": "2023-09-14T10:28:42.166Z"
   },
   {
    "duration": 1874,
    "start_time": "2023-09-14T10:28:42.193Z"
   },
   {
    "duration": 192,
    "start_time": "2023-09-14T10:28:44.070Z"
   },
   {
    "duration": 27,
    "start_time": "2023-09-14T10:28:44.264Z"
   },
   {
    "duration": 1636,
    "start_time": "2023-09-14T10:28:44.293Z"
   },
   {
    "duration": 149,
    "start_time": "2023-09-14T10:28:45.932Z"
   },
   {
    "duration": 328,
    "start_time": "2023-09-14T10:28:46.082Z"
   },
   {
    "duration": 23,
    "start_time": "2023-09-14T10:28:46.411Z"
   },
   {
    "duration": 26,
    "start_time": "2023-09-14T10:28:46.435Z"
   },
   {
    "duration": 15,
    "start_time": "2023-09-14T10:28:46.462Z"
   },
   {
    "duration": 75,
    "start_time": "2023-09-14T10:28:46.478Z"
   },
   {
    "duration": 46,
    "start_time": "2023-09-14T10:28:46.555Z"
   },
   {
    "duration": 3,
    "start_time": "2023-09-14T10:28:46.602Z"
   },
   {
    "duration": 1631,
    "start_time": "2023-09-14T10:28:46.606Z"
   },
   {
    "duration": 1782,
    "start_time": "2023-09-14T10:28:48.238Z"
   },
   {
    "duration": 75,
    "start_time": "2023-09-14T10:28:50.022Z"
   },
   {
    "duration": 83,
    "start_time": "2023-09-14T10:28:50.099Z"
   },
   {
    "duration": 176,
    "start_time": "2023-09-14T10:28:50.184Z"
   },
   {
    "duration": 30,
    "start_time": "2023-09-14T10:28:50.362Z"
   },
   {
    "duration": 44,
    "start_time": "2023-09-14T10:28:50.394Z"
   },
   {
    "duration": 78,
    "start_time": "2023-09-14T10:28:50.440Z"
   },
   {
    "duration": 62,
    "start_time": "2023-09-14T10:28:50.519Z"
   },
   {
    "duration": 91,
    "start_time": "2023-09-14T10:28:50.582Z"
   },
   {
    "duration": 45,
    "start_time": "2023-09-14T10:28:50.675Z"
   },
   {
    "duration": 53,
    "start_time": "2023-09-14T10:28:50.723Z"
   },
   {
    "duration": 49,
    "start_time": "2023-09-14T10:28:50.778Z"
   },
   {
    "duration": 124,
    "start_time": "2023-09-14T10:28:50.829Z"
   },
   {
    "duration": 145,
    "start_time": "2023-09-14T10:28:50.955Z"
   },
   {
    "duration": 9,
    "start_time": "2023-09-14T10:28:51.102Z"
   },
   {
    "duration": 50,
    "start_time": "2023-09-14T10:28:51.113Z"
   },
   {
    "duration": 13,
    "start_time": "2023-09-14T10:28:51.165Z"
   },
   {
    "duration": 15,
    "start_time": "2023-09-14T10:28:51.180Z"
   },
   {
    "duration": 29,
    "start_time": "2023-09-14T10:28:51.197Z"
   },
   {
    "duration": 7,
    "start_time": "2023-09-14T10:28:51.228Z"
   },
   {
    "duration": 16,
    "start_time": "2023-09-14T10:28:51.236Z"
   },
   {
    "duration": 57,
    "start_time": "2023-09-14T10:28:51.254Z"
   },
   {
    "duration": 705675,
    "start_time": "2023-09-14T10:28:59.467Z"
   },
   {
    "duration": 62,
    "start_time": "2023-09-14T18:27:32.730Z"
   },
   {
    "duration": 25451,
    "start_time": "2023-09-14T18:27:32.794Z"
   },
   {
    "duration": 2533,
    "start_time": "2023-09-14T18:27:58.248Z"
   },
   {
    "duration": 1391,
    "start_time": "2023-09-14T18:28:00.783Z"
   },
   {
    "duration": 3,
    "start_time": "2023-09-14T18:28:02.176Z"
   },
   {
    "duration": 181,
    "start_time": "2023-09-14T18:28:02.180Z"
   },
   {
    "duration": 123,
    "start_time": "2023-09-14T18:28:02.363Z"
   },
   {
    "duration": 104,
    "start_time": "2023-09-14T18:28:02.488Z"
   },
   {
    "duration": 34,
    "start_time": "2023-09-14T18:28:02.593Z"
   },
   {
    "duration": 1897,
    "start_time": "2023-09-14T18:28:02.629Z"
   },
   {
    "duration": 100,
    "start_time": "2023-09-14T18:28:04.527Z"
   },
   {
    "duration": 308,
    "start_time": "2023-09-14T18:28:04.629Z"
   },
   {
    "duration": 186,
    "start_time": "2023-09-14T18:28:04.938Z"
   },
   {
    "duration": 228,
    "start_time": "2023-09-14T18:28:05.128Z"
   },
   {
    "duration": 422,
    "start_time": "2023-09-14T18:28:05.357Z"
   },
   {
    "duration": 8909,
    "start_time": "2023-09-14T18:28:05.781Z"
   },
   {
    "duration": 1365,
    "start_time": "2023-09-14T18:28:14.691Z"
   },
   {
    "duration": 5,
    "start_time": "2023-09-14T18:28:16.058Z"
   },
   {
    "duration": 176,
    "start_time": "2023-09-14T18:28:16.064Z"
   },
   {
    "duration": 121,
    "start_time": "2023-09-14T18:28:16.242Z"
   },
   {
    "duration": 685,
    "start_time": "2023-09-14T18:28:16.365Z"
   },
   {
    "duration": 763,
    "start_time": "2023-09-14T18:28:17.052Z"
   },
   {
    "duration": 684,
    "start_time": "2023-09-14T18:28:17.817Z"
   },
   {
    "duration": 29,
    "start_time": "2023-09-14T18:28:18.503Z"
   },
   {
    "duration": 18,
    "start_time": "2023-09-14T18:28:18.534Z"
   },
   {
    "duration": 20,
    "start_time": "2023-09-14T18:28:18.553Z"
   },
   {
    "duration": 101,
    "start_time": "2023-09-14T18:28:18.575Z"
   },
   {
    "duration": 5,
    "start_time": "2023-09-14T18:28:18.677Z"
   },
   {
    "duration": 15,
    "start_time": "2023-09-14T18:28:18.683Z"
   },
   {
    "duration": 1820,
    "start_time": "2023-09-14T18:28:18.699Z"
   },
   {
    "duration": 3,
    "start_time": "2023-09-14T18:28:20.523Z"
   },
   {
    "duration": 600,
    "start_time": "2023-09-14T18:28:20.528Z"
   },
   {
    "duration": 22,
    "start_time": "2023-09-14T18:28:21.130Z"
   },
   {
    "duration": 22,
    "start_time": "2023-09-14T18:28:21.154Z"
   },
   {
    "duration": 18,
    "start_time": "2023-09-14T18:28:21.178Z"
   },
   {
    "duration": 47,
    "start_time": "2023-09-14T18:28:21.197Z"
   },
   {
    "duration": 26,
    "start_time": "2023-09-14T18:28:21.246Z"
   },
   {
    "duration": 1896,
    "start_time": "2023-09-14T18:28:21.274Z"
   },
   {
    "duration": 161,
    "start_time": "2023-09-14T18:28:23.171Z"
   },
   {
    "duration": 22,
    "start_time": "2023-09-14T18:28:23.333Z"
   },
   {
    "duration": 1625,
    "start_time": "2023-09-14T18:28:23.360Z"
   },
   {
    "duration": 181,
    "start_time": "2023-09-14T18:28:24.986Z"
   },
   {
    "duration": 20,
    "start_time": "2023-09-14T18:28:25.169Z"
   },
   {
    "duration": 41,
    "start_time": "2023-09-14T18:28:25.191Z"
   },
   {
    "duration": 27,
    "start_time": "2023-09-14T18:28:25.234Z"
   },
   {
    "duration": 63,
    "start_time": "2023-09-14T18:28:25.264Z"
   },
   {
    "duration": 122,
    "start_time": "2023-09-14T18:28:25.329Z"
   },
   {
    "duration": 65,
    "start_time": "2023-09-14T18:28:25.452Z"
   },
   {
    "duration": 20,
    "start_time": "2023-09-14T18:28:25.518Z"
   },
   {
    "duration": 1941,
    "start_time": "2023-09-14T18:28:25.540Z"
   },
   {
    "duration": 1860,
    "start_time": "2023-09-14T18:28:27.483Z"
   },
   {
    "duration": 84,
    "start_time": "2023-09-14T18:28:29.345Z"
   },
   {
    "duration": 74,
    "start_time": "2023-09-14T18:28:29.430Z"
   },
   {
    "duration": 176,
    "start_time": "2023-09-14T18:28:29.506Z"
   },
   {
    "duration": 29,
    "start_time": "2023-09-14T18:28:29.684Z"
   },
   {
    "duration": 178,
    "start_time": "2023-09-14T18:28:29.724Z"
   },
   {
    "duration": 36,
    "start_time": "2023-09-14T18:28:29.903Z"
   },
   {
    "duration": 41,
    "start_time": "2023-09-14T18:28:29.941Z"
   },
   {
    "duration": 87,
    "start_time": "2023-09-14T18:28:29.983Z"
   },
   {
    "duration": 121,
    "start_time": "2023-09-14T18:28:30.072Z"
   },
   {
    "duration": 229,
    "start_time": "2023-09-14T18:28:30.196Z"
   },
   {
    "duration": 128,
    "start_time": "2023-09-14T18:28:30.427Z"
   },
   {
    "duration": 167,
    "start_time": "2023-09-14T18:28:30.558Z"
   },
   {
    "duration": 1634,
    "start_time": "2023-09-14T18:28:30.726Z"
   },
   {
    "duration": 16,
    "start_time": "2023-09-14T18:28:32.363Z"
   },
   {
    "duration": 148,
    "start_time": "2023-09-14T18:28:32.381Z"
   },
   {
    "duration": 322,
    "start_time": "2023-09-14T18:28:32.530Z"
   },
   {
    "duration": 223,
    "start_time": "2023-09-14T18:28:32.854Z"
   },
   {
    "duration": 73,
    "start_time": "2023-09-14T18:28:33.079Z"
   },
   {
    "duration": 290,
    "start_time": "2023-09-14T18:28:33.154Z"
   },
   {
    "duration": 181,
    "start_time": "2023-09-14T18:28:33.446Z"
   },
   {
    "duration": 39,
    "start_time": "2023-09-14T18:28:33.628Z"
   },
   {
    "duration": 44,
    "start_time": "2023-09-14T18:28:33.669Z"
   },
   {
    "duration": 79,
    "start_time": "2023-09-14T18:28:33.714Z"
   },
   {
    "duration": 136,
    "start_time": "2023-09-14T18:28:33.795Z"
   },
   {
    "duration": 41,
    "start_time": "2023-09-14T18:28:33.933Z"
   },
   {
    "duration": 37,
    "start_time": "2023-09-14T18:28:33.975Z"
   },
   {
    "duration": 44,
    "start_time": "2023-09-14T18:28:34.014Z"
   },
   {
    "duration": 11177,
    "start_time": "2023-09-14T18:28:34.060Z"
   },
   {
    "duration": 0,
    "start_time": "2023-09-14T18:28:45.239Z"
   },
   {
    "duration": 0,
    "start_time": "2023-09-14T18:28:45.241Z"
   },
   {
    "duration": 0,
    "start_time": "2023-09-14T18:28:45.242Z"
   },
   {
    "duration": 0,
    "start_time": "2023-09-14T18:28:45.244Z"
   },
   {
    "duration": 0,
    "start_time": "2023-09-14T18:28:45.245Z"
   },
   {
    "duration": 0,
    "start_time": "2023-09-14T18:28:45.247Z"
   },
   {
    "duration": 0,
    "start_time": "2023-09-14T18:28:45.248Z"
   },
   {
    "duration": 0,
    "start_time": "2023-09-14T18:28:45.249Z"
   },
   {
    "duration": 0,
    "start_time": "2023-09-14T18:28:45.251Z"
   },
   {
    "duration": 36,
    "start_time": "2023-09-14T18:34:29.050Z"
   },
   {
    "duration": 43,
    "start_time": "2023-09-14T18:35:25.820Z"
   },
   {
    "duration": 1056099,
    "start_time": "2023-09-14T18:35:27.314Z"
   },
   {
    "duration": 13893,
    "start_time": "2023-09-14T18:53:03.414Z"
   },
   {
    "duration": 1261,
    "start_time": "2023-09-14T18:53:17.309Z"
   },
   {
    "duration": 0,
    "start_time": "2023-09-14T18:53:18.572Z"
   },
   {
    "duration": 0,
    "start_time": "2023-09-14T18:53:18.573Z"
   },
   {
    "duration": 0,
    "start_time": "2023-09-14T18:53:18.574Z"
   },
   {
    "duration": 0,
    "start_time": "2023-09-14T18:53:18.575Z"
   },
   {
    "duration": 0,
    "start_time": "2023-09-14T18:53:18.577Z"
   },
   {
    "duration": 0,
    "start_time": "2023-09-14T18:53:18.577Z"
   },
   {
    "duration": 0,
    "start_time": "2023-09-14T18:53:18.579Z"
   },
   {
    "duration": 3,
    "start_time": "2023-09-14T18:59:53.893Z"
   },
   {
    "duration": 24,
    "start_time": "2023-09-14T18:59:56.103Z"
   },
   {
    "duration": 9,
    "start_time": "2023-09-14T18:59:58.741Z"
   },
   {
    "duration": 1330,
    "start_time": "2023-09-14T19:00:05.934Z"
   },
   {
    "duration": 5,
    "start_time": "2023-09-14T19:00:24.835Z"
   },
   {
    "duration": 6,
    "start_time": "2023-09-14T19:00:26.992Z"
   },
   {
    "duration": 33,
    "start_time": "2023-09-14T19:00:28.702Z"
   },
   {
    "duration": 2419821,
    "start_time": "2023-09-14T19:00:31.318Z"
   },
   {
    "duration": 52304,
    "start_time": "2023-09-14T19:40:51.144Z"
   },
   {
    "duration": 7,
    "start_time": "2023-09-14T19:41:43.449Z"
   },
   {
    "duration": 1079,
    "start_time": "2023-09-14T19:41:43.458Z"
   },
   {
    "duration": 118,
    "start_time": "2023-09-14T19:41:44.539Z"
   },
   {
    "duration": 90,
    "start_time": "2023-09-14T19:41:44.658Z"
   },
   {
    "duration": 6,
    "start_time": "2023-09-14T19:41:44.750Z"
   },
   {
    "duration": 186,
    "start_time": "2023-09-14T19:41:44.757Z"
   },
   {
    "duration": 4,
    "start_time": "2023-09-14T19:54:12.498Z"
   },
   {
    "duration": 904,
    "start_time": "2023-09-14T19:55:02.734Z"
   },
   {
    "duration": 14987,
    "start_time": "2023-09-14T19:55:04.889Z"
   },
   {
    "duration": 64463,
    "start_time": "2023-09-14T19:55:19.877Z"
   },
   {
    "duration": 30,
    "start_time": "2023-09-14T19:57:21.208Z"
   },
   {
    "duration": 58,
    "start_time": "2023-09-14T20:01:02.750Z"
   },
   {
    "duration": 9639,
    "start_time": "2023-09-14T20:01:02.809Z"
   },
   {
    "duration": 2199,
    "start_time": "2023-09-14T20:01:12.450Z"
   },
   {
    "duration": 1263,
    "start_time": "2023-09-14T20:01:14.651Z"
   },
   {
    "duration": 3,
    "start_time": "2023-09-14T20:01:15.916Z"
   },
   {
    "duration": 59,
    "start_time": "2023-09-14T20:01:15.923Z"
   },
   {
    "duration": 101,
    "start_time": "2023-09-14T20:01:15.983Z"
   },
   {
    "duration": 100,
    "start_time": "2023-09-14T20:01:16.086Z"
   },
   {
    "duration": 23,
    "start_time": "2023-09-14T20:01:16.187Z"
   },
   {
    "duration": 1986,
    "start_time": "2023-09-14T20:01:16.212Z"
   },
   {
    "duration": 101,
    "start_time": "2023-09-14T20:01:18.200Z"
   },
   {
    "duration": 323,
    "start_time": "2023-09-14T20:01:18.303Z"
   },
   {
    "duration": 199,
    "start_time": "2023-09-14T20:01:18.638Z"
   },
   {
    "duration": 256,
    "start_time": "2023-09-14T20:01:18.842Z"
   },
   {
    "duration": 415,
    "start_time": "2023-09-14T20:01:19.099Z"
   },
   {
    "duration": 9476,
    "start_time": "2023-09-14T20:01:19.516Z"
   },
   {
    "duration": 1436,
    "start_time": "2023-09-14T20:01:28.994Z"
   },
   {
    "duration": 9,
    "start_time": "2023-09-14T20:01:30.435Z"
   },
   {
    "duration": 247,
    "start_time": "2023-09-14T20:01:30.449Z"
   },
   {
    "duration": 118,
    "start_time": "2023-09-14T20:01:30.697Z"
   },
   {
    "duration": 743,
    "start_time": "2023-09-14T20:01:30.817Z"
   },
   {
    "duration": 829,
    "start_time": "2023-09-14T20:01:31.562Z"
   },
   {
    "duration": 746,
    "start_time": "2023-09-14T20:01:32.393Z"
   },
   {
    "duration": 19,
    "start_time": "2023-09-14T20:01:33.141Z"
   },
   {
    "duration": 17,
    "start_time": "2023-09-14T20:01:33.162Z"
   },
   {
    "duration": 27,
    "start_time": "2023-09-14T20:01:33.181Z"
   },
   {
    "duration": 103,
    "start_time": "2023-09-14T20:01:33.210Z"
   },
   {
    "duration": 12,
    "start_time": "2023-09-14T20:01:33.315Z"
   },
   {
    "duration": 23,
    "start_time": "2023-09-14T20:01:33.334Z"
   },
   {
    "duration": 1827,
    "start_time": "2023-09-14T20:01:33.358Z"
   },
   {
    "duration": 3,
    "start_time": "2023-09-14T20:01:35.187Z"
   },
   {
    "duration": 66,
    "start_time": "2023-09-14T20:01:35.191Z"
   },
   {
    "duration": 46,
    "start_time": "2023-09-14T20:01:35.259Z"
   },
   {
    "duration": 64,
    "start_time": "2023-09-14T20:01:35.307Z"
   },
   {
    "duration": 19,
    "start_time": "2023-09-14T20:01:35.374Z"
   },
   {
    "duration": 48,
    "start_time": "2023-09-14T20:01:35.394Z"
   },
   {
    "duration": 53,
    "start_time": "2023-09-14T20:01:35.444Z"
   },
   {
    "duration": 1995,
    "start_time": "2023-09-14T20:01:35.499Z"
   },
   {
    "duration": 340,
    "start_time": "2023-09-14T20:01:37.496Z"
   },
   {
    "duration": 22,
    "start_time": "2023-09-14T20:01:37.838Z"
   },
   {
    "duration": 1828,
    "start_time": "2023-09-14T20:01:37.865Z"
   },
   {
    "duration": 183,
    "start_time": "2023-09-14T20:01:39.695Z"
   },
   {
    "duration": 19,
    "start_time": "2023-09-14T20:01:39.880Z"
   },
   {
    "duration": 42,
    "start_time": "2023-09-14T20:01:39.901Z"
   },
   {
    "duration": 38,
    "start_time": "2023-09-14T20:01:39.944Z"
   },
   {
    "duration": 15,
    "start_time": "2023-09-14T20:01:39.984Z"
   },
   {
    "duration": 92,
    "start_time": "2023-09-14T20:01:40.001Z"
   },
   {
    "duration": 100,
    "start_time": "2023-09-14T20:01:40.095Z"
   },
   {
    "duration": 3,
    "start_time": "2023-09-14T20:01:40.196Z"
   },
   {
    "duration": 1979,
    "start_time": "2023-09-14T20:01:40.200Z"
   },
   {
    "duration": 1664,
    "start_time": "2023-09-14T20:01:42.181Z"
   },
   {
    "duration": 81,
    "start_time": "2023-09-14T20:01:43.847Z"
   },
   {
    "duration": 78,
    "start_time": "2023-09-14T20:01:43.937Z"
   },
   {
    "duration": 182,
    "start_time": "2023-09-14T20:01:44.017Z"
   },
   {
    "duration": 44,
    "start_time": "2023-09-14T20:01:44.201Z"
   },
   {
    "duration": 67,
    "start_time": "2023-09-14T20:01:44.247Z"
   },
   {
    "duration": 70,
    "start_time": "2023-09-14T20:01:44.316Z"
   },
   {
    "duration": 213,
    "start_time": "2023-09-14T20:01:44.388Z"
   },
   {
    "duration": 78,
    "start_time": "2023-09-14T20:01:44.603Z"
   },
   {
    "duration": 81,
    "start_time": "2023-09-14T20:01:44.683Z"
   },
   {
    "duration": 90,
    "start_time": "2023-09-14T20:01:44.765Z"
   },
   {
    "duration": 94,
    "start_time": "2023-09-14T20:01:44.856Z"
   },
   {
    "duration": 125,
    "start_time": "2023-09-14T20:01:44.952Z"
   },
   {
    "duration": 1614,
    "start_time": "2023-09-14T20:01:45.079Z"
   },
   {
    "duration": 14,
    "start_time": "2023-09-14T20:01:46.695Z"
   },
   {
    "duration": 71,
    "start_time": "2023-09-14T20:01:46.710Z"
   },
   {
    "duration": 110,
    "start_time": "2023-09-14T20:01:46.783Z"
   },
   {
    "duration": 3,
    "start_time": "2023-09-14T20:01:46.895Z"
   },
   {
    "duration": 237,
    "start_time": "2023-09-14T20:01:46.900Z"
   },
   {
    "duration": 9,
    "start_time": "2023-09-14T20:01:47.139Z"
   },
   {
    "duration": 5,
    "start_time": "2023-09-14T20:01:47.150Z"
   },
   {
    "duration": 8,
    "start_time": "2023-09-14T20:01:47.157Z"
   },
   {
    "duration": 8,
    "start_time": "2023-09-14T20:01:47.166Z"
   },
   {
    "duration": 21,
    "start_time": "2023-09-14T20:01:47.176Z"
   },
   {
    "duration": 83,
    "start_time": "2023-09-14T20:01:47.199Z"
   },
   {
    "duration": 113,
    "start_time": "2023-09-14T20:01:47.284Z"
   },
   {
    "duration": 22,
    "start_time": "2023-09-14T20:01:47.399Z"
   },
   {
    "duration": 129,
    "start_time": "2023-09-14T20:01:47.423Z"
   },
   {
    "duration": 53,
    "start_time": "2023-09-14T20:01:47.554Z"
   },
   {
    "duration": 451986,
    "start_time": "2023-09-14T20:01:47.609Z"
   },
   {
    "duration": 11483,
    "start_time": "2023-09-14T20:09:19.596Z"
   },
   {
    "duration": 1364751,
    "start_time": "2023-09-14T20:09:31.081Z"
   },
   {
    "duration": 22205,
    "start_time": "2023-09-14T20:32:15.838Z"
   },
   {
    "duration": 7,
    "start_time": "2023-09-14T20:32:38.045Z"
   },
   {
    "duration": 992,
    "start_time": "2023-09-14T20:32:38.054Z"
   },
   {
    "duration": 54,
    "start_time": "2023-09-14T20:32:39.125Z"
   },
   {
    "duration": 86,
    "start_time": "2023-09-14T20:32:39.181Z"
   },
   {
    "duration": 7,
    "start_time": "2023-09-14T20:32:39.269Z"
   },
   {
    "duration": 188,
    "start_time": "2023-09-14T20:32:39.278Z"
   },
   {
    "duration": 196,
    "start_time": "2023-09-14T20:40:00.222Z"
   },
   {
    "duration": 2634086,
    "start_time": "2023-09-14T20:40:25.822Z"
   },
   {
    "duration": 0,
    "start_time": "2023-09-14T21:24:19.910Z"
   },
   {
    "duration": 14,
    "start_time": "2023-09-14T21:24:31.666Z"
   },
   {
    "duration": 22245,
    "start_time": "2023-09-14T21:24:42.686Z"
   },
   {
    "duration": 79,
    "start_time": "2023-09-14T21:25:13.199Z"
   },
   {
    "duration": 9259,
    "start_time": "2023-09-14T21:25:13.280Z"
   },
   {
    "duration": 2274,
    "start_time": "2023-09-14T21:25:22.541Z"
   },
   {
    "duration": 1092,
    "start_time": "2023-09-14T21:25:24.817Z"
   },
   {
    "duration": 4,
    "start_time": "2023-09-14T21:25:25.912Z"
   },
   {
    "duration": 125,
    "start_time": "2023-09-14T21:25:25.923Z"
   },
   {
    "duration": 100,
    "start_time": "2023-09-14T21:25:26.049Z"
   },
   {
    "duration": 93,
    "start_time": "2023-09-14T21:25:26.150Z"
   },
   {
    "duration": 29,
    "start_time": "2023-09-14T21:25:26.244Z"
   },
   {
    "duration": 1785,
    "start_time": "2023-09-14T21:25:26.274Z"
   },
   {
    "duration": 100,
    "start_time": "2023-09-14T21:25:28.061Z"
   },
   {
    "duration": 294,
    "start_time": "2023-09-14T21:25:28.163Z"
   },
   {
    "duration": 183,
    "start_time": "2023-09-14T21:25:28.458Z"
   },
   {
    "duration": 246,
    "start_time": "2023-09-14T21:25:28.643Z"
   },
   {
    "duration": 406,
    "start_time": "2023-09-14T21:25:28.892Z"
   },
   {
    "duration": 8943,
    "start_time": "2023-09-14T21:25:29.299Z"
   },
   {
    "duration": 1403,
    "start_time": "2023-09-14T21:25:38.243Z"
   },
   {
    "duration": 3,
    "start_time": "2023-09-14T21:25:39.648Z"
   },
   {
    "duration": 118,
    "start_time": "2023-09-14T21:25:39.653Z"
   },
   {
    "duration": 107,
    "start_time": "2023-09-14T21:25:39.772Z"
   },
   {
    "duration": 655,
    "start_time": "2023-09-14T21:25:39.880Z"
   },
   {
    "duration": 807,
    "start_time": "2023-09-14T21:25:40.537Z"
   },
   {
    "duration": 687,
    "start_time": "2023-09-14T21:25:41.346Z"
   },
   {
    "duration": 18,
    "start_time": "2023-09-14T21:25:42.035Z"
   },
   {
    "duration": 156,
    "start_time": "2023-09-14T21:25:42.055Z"
   },
   {
    "duration": 18,
    "start_time": "2023-09-14T21:25:42.213Z"
   },
   {
    "duration": 96,
    "start_time": "2023-09-14T21:25:42.233Z"
   },
   {
    "duration": 8,
    "start_time": "2023-09-14T21:25:42.331Z"
   },
   {
    "duration": 10,
    "start_time": "2023-09-14T21:25:42.340Z"
   },
   {
    "duration": 1734,
    "start_time": "2023-09-14T21:25:42.352Z"
   },
   {
    "duration": 3,
    "start_time": "2023-09-14T21:25:44.087Z"
   },
   {
    "duration": 55,
    "start_time": "2023-09-14T21:25:44.091Z"
   },
   {
    "duration": 49,
    "start_time": "2023-09-14T21:25:44.148Z"
   },
   {
    "duration": 27,
    "start_time": "2023-09-14T21:25:44.199Z"
   },
   {
    "duration": 19,
    "start_time": "2023-09-14T21:25:44.227Z"
   },
   {
    "duration": 36,
    "start_time": "2023-09-14T21:25:44.247Z"
   },
   {
    "duration": 44,
    "start_time": "2023-09-14T21:25:44.285Z"
   },
   {
    "duration": 1866,
    "start_time": "2023-09-14T21:25:44.330Z"
   },
   {
    "duration": 295,
    "start_time": "2023-09-14T21:25:46.198Z"
   },
   {
    "duration": 30,
    "start_time": "2023-09-14T21:25:46.495Z"
   },
   {
    "duration": 1559,
    "start_time": "2023-09-14T21:25:46.530Z"
   },
   {
    "duration": 164,
    "start_time": "2023-09-14T21:25:48.090Z"
   },
   {
    "duration": 20,
    "start_time": "2023-09-14T21:25:48.257Z"
   },
   {
    "duration": 38,
    "start_time": "2023-09-14T21:25:48.279Z"
   },
   {
    "duration": 59,
    "start_time": "2023-09-14T21:25:48.318Z"
   },
   {
    "duration": 142,
    "start_time": "2023-09-14T21:25:48.378Z"
   },
   {
    "duration": 78,
    "start_time": "2023-09-14T21:25:48.522Z"
   },
   {
    "duration": 46,
    "start_time": "2023-09-14T21:25:48.602Z"
   },
   {
    "duration": 3,
    "start_time": "2023-09-14T21:25:48.650Z"
   },
   {
    "duration": 1691,
    "start_time": "2023-09-14T21:25:48.654Z"
   },
   {
    "duration": 1583,
    "start_time": "2023-09-14T21:25:50.347Z"
   },
   {
    "duration": 68,
    "start_time": "2023-09-14T21:25:51.931Z"
   },
   {
    "duration": 83,
    "start_time": "2023-09-14T21:25:52.000Z"
   },
   {
    "duration": 167,
    "start_time": "2023-09-14T21:25:52.085Z"
   },
   {
    "duration": 32,
    "start_time": "2023-09-14T21:25:52.254Z"
   },
   {
    "duration": 61,
    "start_time": "2023-09-14T21:25:52.288Z"
   },
   {
    "duration": 62,
    "start_time": "2023-09-14T21:25:52.350Z"
   },
   {
    "duration": 33,
    "start_time": "2023-09-14T21:25:52.414Z"
   },
   {
    "duration": 80,
    "start_time": "2023-09-14T21:25:52.449Z"
   },
   {
    "duration": 30,
    "start_time": "2023-09-14T21:25:52.531Z"
   },
   {
    "duration": 43,
    "start_time": "2023-09-14T21:25:52.562Z"
   },
   {
    "duration": 33,
    "start_time": "2023-09-14T21:25:52.607Z"
   },
   {
    "duration": 127,
    "start_time": "2023-09-14T21:25:52.642Z"
   },
   {
    "duration": 1501,
    "start_time": "2023-09-14T21:25:52.771Z"
   },
   {
    "duration": 16,
    "start_time": "2023-09-14T21:25:54.274Z"
   },
   {
    "duration": 4,
    "start_time": "2023-09-14T21:25:54.291Z"
   },
   {
    "duration": 75,
    "start_time": "2023-09-14T21:25:54.296Z"
   },
   {
    "duration": 2,
    "start_time": "2023-09-14T21:25:54.373Z"
   },
   {
    "duration": 202,
    "start_time": "2023-09-14T21:25:54.377Z"
   },
   {
    "duration": 10,
    "start_time": "2023-09-14T21:25:54.580Z"
   },
   {
    "duration": 2,
    "start_time": "2023-09-14T21:25:54.592Z"
   },
   {
    "duration": 4,
    "start_time": "2023-09-14T21:25:54.595Z"
   },
   {
    "duration": 10,
    "start_time": "2023-09-14T21:25:54.600Z"
   },
   {
    "duration": 19,
    "start_time": "2023-09-14T21:25:54.611Z"
   },
   {
    "duration": 24,
    "start_time": "2023-09-14T21:25:54.631Z"
   },
   {
    "duration": 27,
    "start_time": "2023-09-14T21:25:54.657Z"
   },
   {
    "duration": 12,
    "start_time": "2023-09-14T21:25:54.686Z"
   },
   {
    "duration": 21,
    "start_time": "2023-09-14T21:25:54.699Z"
   },
   {
    "duration": 40,
    "start_time": "2023-09-14T21:25:54.722Z"
   },
   {
    "duration": 287789,
    "start_time": "2023-09-14T21:25:54.764Z"
   },
   {
    "duration": 47632,
    "start_time": "2023-09-14T21:30:42.555Z"
   },
   {
    "duration": 132441,
    "start_time": "2023-09-14T21:31:30.189Z"
   },
   {
    "duration": 11897,
    "start_time": "2023-09-14T21:33:42.632Z"
   },
   {
    "duration": 7,
    "start_time": "2023-09-14T21:33:54.531Z"
   },
   {
    "duration": 986,
    "start_time": "2023-09-14T21:33:54.539Z"
   },
   {
    "duration": 37,
    "start_time": "2023-09-14T21:33:55.527Z"
   },
   {
    "duration": 136,
    "start_time": "2023-09-14T21:33:55.566Z"
   },
   {
    "duration": 6,
    "start_time": "2023-09-14T21:33:55.704Z"
   },
   {
    "duration": 214,
    "start_time": "2023-09-14T21:33:55.712Z"
   },
   {
    "duration": 49,
    "start_time": "2023-09-14T21:34:11.663Z"
   },
   {
    "duration": 9203,
    "start_time": "2023-09-14T21:34:11.713Z"
   },
   {
    "duration": 2183,
    "start_time": "2023-09-14T21:34:20.917Z"
   },
   {
    "duration": 1065,
    "start_time": "2023-09-14T21:34:23.102Z"
   },
   {
    "duration": 4,
    "start_time": "2023-09-14T21:34:24.169Z"
   },
   {
    "duration": 106,
    "start_time": "2023-09-14T21:34:24.174Z"
   },
   {
    "duration": 122,
    "start_time": "2023-09-14T21:34:24.282Z"
   },
   {
    "duration": 91,
    "start_time": "2023-09-14T21:34:24.405Z"
   },
   {
    "duration": 39,
    "start_time": "2023-09-14T21:34:24.497Z"
   },
   {
    "duration": 1900,
    "start_time": "2023-09-14T21:34:24.538Z"
   },
   {
    "duration": 100,
    "start_time": "2023-09-14T21:34:26.439Z"
   },
   {
    "duration": 289,
    "start_time": "2023-09-14T21:34:26.541Z"
   },
   {
    "duration": 189,
    "start_time": "2023-09-14T21:34:26.832Z"
   },
   {
    "duration": 236,
    "start_time": "2023-09-14T21:34:27.025Z"
   },
   {
    "duration": 398,
    "start_time": "2023-09-14T21:34:27.262Z"
   },
   {
    "duration": 8878,
    "start_time": "2023-09-14T21:34:27.661Z"
   },
   {
    "duration": 1273,
    "start_time": "2023-09-14T21:34:36.541Z"
   },
   {
    "duration": 3,
    "start_time": "2023-09-14T21:34:37.815Z"
   },
   {
    "duration": 108,
    "start_time": "2023-09-14T21:34:37.820Z"
   },
   {
    "duration": 110,
    "start_time": "2023-09-14T21:34:37.930Z"
   },
   {
    "duration": 641,
    "start_time": "2023-09-14T21:34:38.042Z"
   },
   {
    "duration": 846,
    "start_time": "2023-09-14T21:34:38.685Z"
   },
   {
    "duration": 693,
    "start_time": "2023-09-14T21:34:39.533Z"
   },
   {
    "duration": 20,
    "start_time": "2023-09-14T21:34:40.227Z"
   },
   {
    "duration": 18,
    "start_time": "2023-09-14T21:34:40.249Z"
   },
   {
    "duration": 19,
    "start_time": "2023-09-14T21:34:40.270Z"
   },
   {
    "duration": 133,
    "start_time": "2023-09-14T21:34:40.291Z"
   },
   {
    "duration": 4,
    "start_time": "2023-09-14T21:34:40.425Z"
   },
   {
    "duration": 12,
    "start_time": "2023-09-14T21:34:40.431Z"
   },
   {
    "duration": 1620,
    "start_time": "2023-09-14T21:34:40.445Z"
   },
   {
    "duration": 3,
    "start_time": "2023-09-14T21:34:42.067Z"
   },
   {
    "duration": 23,
    "start_time": "2023-09-14T21:34:42.071Z"
   },
   {
    "duration": 32,
    "start_time": "2023-09-14T21:34:42.096Z"
   },
   {
    "duration": 28,
    "start_time": "2023-09-14T21:34:42.129Z"
   },
   {
    "duration": 19,
    "start_time": "2023-09-14T21:34:42.158Z"
   },
   {
    "duration": 50,
    "start_time": "2023-09-14T21:34:42.179Z"
   },
   {
    "duration": 27,
    "start_time": "2023-09-14T21:34:42.232Z"
   },
   {
    "duration": 1881,
    "start_time": "2023-09-14T21:34:42.261Z"
   },
   {
    "duration": 294,
    "start_time": "2023-09-14T21:34:44.144Z"
   },
   {
    "duration": 23,
    "start_time": "2023-09-14T21:34:44.439Z"
   },
   {
    "duration": 1702,
    "start_time": "2023-09-14T21:34:44.467Z"
   },
   {
    "duration": 167,
    "start_time": "2023-09-14T21:34:46.171Z"
   },
   {
    "duration": 19,
    "start_time": "2023-09-14T21:34:46.340Z"
   },
   {
    "duration": 125,
    "start_time": "2023-09-14T21:34:46.361Z"
   },
   {
    "duration": 91,
    "start_time": "2023-09-14T21:34:46.488Z"
   },
   {
    "duration": 67,
    "start_time": "2023-09-14T21:34:46.581Z"
   },
   {
    "duration": 119,
    "start_time": "2023-09-14T21:34:46.650Z"
   },
   {
    "duration": 77,
    "start_time": "2023-09-14T21:34:46.771Z"
   },
   {
    "duration": 3,
    "start_time": "2023-09-14T21:34:46.849Z"
   },
   {
    "duration": 1771,
    "start_time": "2023-09-14T21:34:46.853Z"
   },
   {
    "duration": 1629,
    "start_time": "2023-09-14T21:34:48.625Z"
   },
   {
    "duration": 97,
    "start_time": "2023-09-14T21:34:50.255Z"
   },
   {
    "duration": 137,
    "start_time": "2023-09-14T21:34:50.355Z"
   },
   {
    "duration": 159,
    "start_time": "2023-09-14T21:34:50.494Z"
   },
   {
    "duration": 29,
    "start_time": "2023-09-14T21:34:50.654Z"
   },
   {
    "duration": 53,
    "start_time": "2023-09-14T21:34:50.685Z"
   },
   {
    "duration": 49,
    "start_time": "2023-09-14T21:34:50.739Z"
   },
   {
    "duration": 109,
    "start_time": "2023-09-14T21:34:50.789Z"
   },
   {
    "duration": 39,
    "start_time": "2023-09-14T21:34:50.900Z"
   },
   {
    "duration": 30,
    "start_time": "2023-09-14T21:34:50.941Z"
   },
   {
    "duration": 60,
    "start_time": "2023-09-14T21:34:50.972Z"
   },
   {
    "duration": 38,
    "start_time": "2023-09-14T21:34:51.034Z"
   },
   {
    "duration": 155,
    "start_time": "2023-09-14T21:34:51.073Z"
   },
   {
    "duration": 2,
    "start_time": "2023-09-14T21:34:51.230Z"
   },
   {
    "duration": 202,
    "start_time": "2023-09-14T21:34:51.234Z"
   },
   {
    "duration": 9,
    "start_time": "2023-09-14T21:34:51.438Z"
   },
   {
    "duration": 6,
    "start_time": "2023-09-14T21:34:51.448Z"
   },
   {
    "duration": 14,
    "start_time": "2023-09-14T21:34:51.455Z"
   },
   {
    "duration": 32,
    "start_time": "2023-09-14T21:34:51.471Z"
   },
   {
    "duration": 21,
    "start_time": "2023-09-14T21:34:51.504Z"
   },
   {
    "duration": 32,
    "start_time": "2023-09-14T21:34:51.526Z"
   },
   {
    "duration": 10,
    "start_time": "2023-09-14T21:34:51.560Z"
   },
   {
    "duration": 17,
    "start_time": "2023-09-14T21:34:51.572Z"
   },
   {
    "duration": 13,
    "start_time": "2023-09-14T21:34:51.591Z"
   },
   {
    "duration": 49,
    "start_time": "2023-09-14T21:34:51.606Z"
   },
   {
    "duration": 9125,
    "start_time": "2023-09-14T21:34:51.656Z"
   },
   {
    "duration": 0,
    "start_time": "2023-09-14T21:35:00.783Z"
   },
   {
    "duration": 0,
    "start_time": "2023-09-14T21:35:00.784Z"
   },
   {
    "duration": 0,
    "start_time": "2023-09-14T21:35:00.784Z"
   },
   {
    "duration": 0,
    "start_time": "2023-09-14T21:35:00.785Z"
   },
   {
    "duration": 0,
    "start_time": "2023-09-14T21:35:00.786Z"
   },
   {
    "duration": 0,
    "start_time": "2023-09-14T21:35:00.787Z"
   },
   {
    "duration": 0,
    "start_time": "2023-09-14T21:35:00.788Z"
   },
   {
    "duration": 0,
    "start_time": "2023-09-14T21:35:00.789Z"
   },
   {
    "duration": 0,
    "start_time": "2023-09-14T21:35:00.791Z"
   },
   {
    "duration": 54,
    "start_time": "2023-09-14T21:36:54.862Z"
   },
   {
    "duration": 9108,
    "start_time": "2023-09-14T21:36:54.918Z"
   },
   {
    "duration": 2226,
    "start_time": "2023-09-14T21:37:04.027Z"
   },
   {
    "duration": 1051,
    "start_time": "2023-09-14T21:37:06.254Z"
   },
   {
    "duration": 3,
    "start_time": "2023-09-14T21:37:07.307Z"
   },
   {
    "duration": 208,
    "start_time": "2023-09-14T21:37:07.312Z"
   },
   {
    "duration": 187,
    "start_time": "2023-09-14T21:37:07.521Z"
   },
   {
    "duration": 90,
    "start_time": "2023-09-14T21:37:07.709Z"
   },
   {
    "duration": 35,
    "start_time": "2023-09-14T21:37:07.801Z"
   },
   {
    "duration": 1815,
    "start_time": "2023-09-14T21:37:07.837Z"
   },
   {
    "duration": 98,
    "start_time": "2023-09-14T21:37:09.653Z"
   },
   {
    "duration": 294,
    "start_time": "2023-09-14T21:37:09.753Z"
   },
   {
    "duration": 559,
    "start_time": "2023-09-14T21:37:10.049Z"
   },
   {
    "duration": 525,
    "start_time": "2023-09-14T21:37:10.610Z"
   },
   {
    "duration": 530,
    "start_time": "2023-09-14T21:37:11.137Z"
   },
   {
    "duration": 8596,
    "start_time": "2023-09-14T21:37:11.669Z"
   },
   {
    "duration": 1303,
    "start_time": "2023-09-14T21:37:20.267Z"
   },
   {
    "duration": 4,
    "start_time": "2023-09-14T21:37:21.572Z"
   },
   {
    "duration": 135,
    "start_time": "2023-09-14T21:37:21.578Z"
   },
   {
    "duration": 109,
    "start_time": "2023-09-14T21:37:21.715Z"
   },
   {
    "duration": 631,
    "start_time": "2023-09-14T21:37:21.826Z"
   },
   {
    "duration": 778,
    "start_time": "2023-09-14T21:37:22.459Z"
   },
   {
    "duration": 672,
    "start_time": "2023-09-14T21:37:23.239Z"
   },
   {
    "duration": 22,
    "start_time": "2023-09-14T21:37:23.913Z"
   },
   {
    "duration": 24,
    "start_time": "2023-09-14T21:37:23.937Z"
   },
   {
    "duration": 17,
    "start_time": "2023-09-14T21:37:23.962Z"
   },
   {
    "duration": 101,
    "start_time": "2023-09-14T21:37:23.980Z"
   },
   {
    "duration": 4,
    "start_time": "2023-09-14T21:37:24.082Z"
   },
   {
    "duration": 10,
    "start_time": "2023-09-14T21:37:24.087Z"
   },
   {
    "duration": 1682,
    "start_time": "2023-09-14T21:37:24.098Z"
   },
   {
    "duration": 3,
    "start_time": "2023-09-14T21:37:25.782Z"
   },
   {
    "duration": 49,
    "start_time": "2023-09-14T21:37:25.787Z"
   },
   {
    "duration": 22,
    "start_time": "2023-09-14T21:37:25.838Z"
   },
   {
    "duration": 30,
    "start_time": "2023-09-14T21:37:25.863Z"
   },
   {
    "duration": 39,
    "start_time": "2023-09-14T21:37:25.896Z"
   },
   {
    "duration": 22,
    "start_time": "2023-09-14T21:37:25.936Z"
   },
   {
    "duration": 26,
    "start_time": "2023-09-14T21:37:25.960Z"
   },
   {
    "duration": 1890,
    "start_time": "2023-09-14T21:37:25.988Z"
   },
   {
    "duration": 280,
    "start_time": "2023-09-14T21:37:27.880Z"
   },
   {
    "duration": 23,
    "start_time": "2023-09-14T21:37:28.161Z"
   },
   {
    "duration": 1640,
    "start_time": "2023-09-14T21:37:28.188Z"
   },
   {
    "duration": 157,
    "start_time": "2023-09-14T21:37:29.830Z"
   },
   {
    "duration": 19,
    "start_time": "2023-09-14T21:37:29.989Z"
   },
   {
    "duration": 34,
    "start_time": "2023-09-14T21:37:30.009Z"
   },
   {
    "duration": 39,
    "start_time": "2023-09-14T21:37:30.045Z"
   },
   {
    "duration": 17,
    "start_time": "2023-09-14T21:37:30.086Z"
   },
   {
    "duration": 73,
    "start_time": "2023-09-14T21:37:30.104Z"
   },
   {
    "duration": 49,
    "start_time": "2023-09-14T21:37:30.179Z"
   },
   {
    "duration": 2,
    "start_time": "2023-09-14T21:37:30.230Z"
   },
   {
    "duration": 1609,
    "start_time": "2023-09-14T21:37:30.234Z"
   },
   {
    "duration": 1621,
    "start_time": "2023-09-14T21:37:31.845Z"
   },
   {
    "duration": 75,
    "start_time": "2023-09-14T21:37:33.468Z"
   },
   {
    "duration": 82,
    "start_time": "2023-09-14T21:37:33.545Z"
   },
   {
    "duration": 162,
    "start_time": "2023-09-14T21:37:33.629Z"
   },
   {
    "duration": 35,
    "start_time": "2023-09-14T21:37:33.793Z"
   },
   {
    "duration": 37,
    "start_time": "2023-09-14T21:37:33.830Z"
   },
   {
    "duration": 46,
    "start_time": "2023-09-14T21:37:33.869Z"
   },
   {
    "duration": 38,
    "start_time": "2023-09-14T21:37:33.917Z"
   },
   {
    "duration": 62,
    "start_time": "2023-09-14T21:37:33.956Z"
   },
   {
    "duration": 30,
    "start_time": "2023-09-14T21:37:34.020Z"
   },
   {
    "duration": 28,
    "start_time": "2023-09-14T21:37:34.052Z"
   },
   {
    "duration": 44,
    "start_time": "2023-09-14T21:37:34.082Z"
   },
   {
    "duration": 102,
    "start_time": "2023-09-14T21:37:34.128Z"
   },
   {
    "duration": 1553,
    "start_time": "2023-09-14T21:37:34.232Z"
   },
   {
    "duration": 18,
    "start_time": "2023-09-14T21:37:35.787Z"
   },
   {
    "duration": 19,
    "start_time": "2023-09-14T21:37:35.807Z"
   },
   {
    "duration": 93,
    "start_time": "2023-09-14T21:37:35.828Z"
   },
   {
    "duration": 3,
    "start_time": "2023-09-14T21:37:35.923Z"
   },
   {
    "duration": 171,
    "start_time": "2023-09-14T21:37:35.928Z"
   },
   {
    "duration": 10,
    "start_time": "2023-09-14T21:37:36.101Z"
   },
   {
    "duration": 2,
    "start_time": "2023-09-14T21:37:36.123Z"
   },
   {
    "duration": 29,
    "start_time": "2023-09-14T21:37:36.127Z"
   },
   {
    "duration": 7,
    "start_time": "2023-09-14T21:37:36.158Z"
   },
   {
    "duration": 12,
    "start_time": "2023-09-14T21:37:36.166Z"
   },
   {
    "duration": 20,
    "start_time": "2023-09-14T21:37:36.179Z"
   },
   {
    "duration": 15,
    "start_time": "2023-09-14T21:37:36.201Z"
   },
   {
    "duration": 8,
    "start_time": "2023-09-14T21:37:36.218Z"
   },
   {
    "duration": 22,
    "start_time": "2023-09-14T21:37:36.227Z"
   },
   {
    "duration": 55,
    "start_time": "2023-09-14T21:37:36.251Z"
   },
   {
    "duration": 243780,
    "start_time": "2023-09-14T21:37:36.308Z"
   },
   {
    "duration": 31102,
    "start_time": "2023-09-14T21:41:40.090Z"
   },
   {
    "duration": 134741,
    "start_time": "2023-09-14T21:42:11.194Z"
   },
   {
    "duration": 9309,
    "start_time": "2023-09-14T21:44:25.936Z"
   },
   {
    "duration": 8,
    "start_time": "2023-09-14T21:44:35.246Z"
   },
   {
    "duration": 970,
    "start_time": "2023-09-14T21:44:35.256Z"
   },
   {
    "duration": 135,
    "start_time": "2023-09-14T21:44:36.228Z"
   },
   {
    "duration": 137,
    "start_time": "2023-09-14T21:44:36.365Z"
   },
   {
    "duration": 25,
    "start_time": "2023-09-14T21:44:36.504Z"
   },
   {
    "duration": 214,
    "start_time": "2023-09-14T21:44:36.531Z"
   },
   {
    "duration": 726,
    "start_time": "2023-09-14T21:53:08.507Z"
   }
  ],
  "kernelspec": {
   "display_name": "Python 3 (ipykernel)",
   "language": "python",
   "name": "python3"
  },
  "language_info": {
   "codemirror_mode": {
    "name": "ipython",
    "version": 3
   },
   "file_extension": ".py",
   "mimetype": "text/x-python",
   "name": "python",
   "nbconvert_exporter": "python",
   "pygments_lexer": "ipython3",
   "version": "3.8.5"
  },
  "toc": {
   "base_numbering": 1,
   "nav_menu": {},
   "number_sections": true,
   "sideBar": true,
   "skip_h1_title": true,
   "title_cell": "Table of Contents",
   "title_sidebar": "Contents",
   "toc_cell": false,
   "toc_position": {},
   "toc_section_display": true,
   "toc_window_display": false
  }
 },
 "nbformat": 4,
 "nbformat_minor": 2
}
