{
 "cells": [
  {
   "cell_type": "markdown",
   "id": "cd1fb955",
   "metadata": {},
   "source": [
    "# Исследование данных о пользователях сервиса аренды самокатов"
   ]
  },
  {
   "cell_type": "markdown",
   "id": "32102822",
   "metadata": {},
   "source": [
    "В данной работе проанализированы данные о пользователях сервиса аренды самокатов.\n",
    "\n",
    "**Используемые данные:**\n",
    "\n",
    "- **users_go.csv**\n",
    "\n",
    "    - `user_id`\tуникальный идентификатор пользователя\n",
    "\n",
    "    - `name`\tимя пользователя\n",
    "\n",
    "    - `age`\tвозраст\n",
    "\n",
    "    - `city`\tгород\n",
    "\n",
    "    - `subscription_type`\tтип подписки (`free`, `ultra`)\n",
    "\n",
    "\n",
    "- **rides_go.csv**\n",
    "    - `user_id`\tуникальный идентификатор пользователя\n",
    "\n",
    "    - `distance`\tрасстояние, которое пользователь проехал в текущей сессии (в метрах)\n",
    "\n",
    "    - `duration`\tпродолжительность сессии (в минутах) — время с того момента, как пользователь нажал кнопку «Начать поездку» до момента, как он нажал кнопку «Завершить поездку»\n",
    "\n",
    "    - `date`\tдата совершения поездки\n",
    "\n",
    "- **subscriptions_go.csv**\n",
    "    - `subscription_type`\tтип подписки\n",
    "\n",
    "    - `minute_price`\tстоимость одной минуты поездки по данной подписке\n",
    "\n",
    "    - `start_ride_price`\tстоимость начала поездки\n",
    "\n",
    "    - `subscription_fee`\tстоимость ежемесячного платежа\n",
    "\n",
    "**План работы:**\n",
    "- Предобработка данных(преобразование типов, удаление дубликатов и аномалий, добавление полезных столбцов)\n",
    "\n",
    "- Анализ следующих параметров:\n",
    "    - частота встречаемости городов\n",
    "    - соотношение пользователей с подпиской и без подписки\n",
    "    - возраст пользователей\n",
    "    - расстояние, которое пользователь преодолел за одну поездку\n",
    "    - продолжительность поездок\n",
    "- Агрегация данных, для дальнейшего анализа\n",
    "\n",
    "- Подсчет выручки с каждого пользователя за каждый месяц с учетом типа подписки\n",
    "\n",
    "- Проверка гипотез, нужных для сервиса"
   ]
  },
  {
   "cell_type": "code",
   "execution_count": 67,
   "id": "56b9fecf",
   "metadata": {},
   "outputs": [],
   "source": [
    "import pandas as pd\n",
    "import numpy as np\n",
    "import matplotlib.pyplot as plt\n",
    "from scipy import stats as st\n",
    "from scipy.stats import binom"
   ]
  },
  {
   "cell_type": "markdown",
   "id": "a3b3a4ec",
   "metadata": {},
   "source": [
    "#### Шаг 1. Загрузка данных"
   ]
  },
  {
   "cell_type": "code",
   "execution_count": 68,
   "id": "12af7a6c",
   "metadata": {},
   "outputs": [],
   "source": [
    "try:\n",
    "    \n",
    "    users = pd.read_csv('users_go.csv')\n",
    "    rides = pd.read_csv('rides_go.csv')\n",
    "    subscriptions = pd.read_csv('subscriptions_go.csv')\n",
    "    \n",
    "except:\n",
    "    \n",
    "    users = pd.read_csv('/datasets/users_go.csv')\n",
    "    rides = pd.read_csv('/datasets/rides_go.csv')\n",
    "    subscriptions = pd.read_csv('/datasets/subscriptions_go.csv')    "
   ]
  },
  {
   "cell_type": "markdown",
   "id": "1df578b4",
   "metadata": {},
   "source": [
    "Выведем общую информацию по таблицам"
   ]
  },
  {
   "cell_type": "code",
   "execution_count": 69,
   "id": "f6168a9f",
   "metadata": {
    "scrolled": false
   },
   "outputs": [
    {
     "data": {
      "text/html": [
       "<div>\n",
       "<style scoped>\n",
       "    .dataframe tbody tr th:only-of-type {\n",
       "        vertical-align: middle;\n",
       "    }\n",
       "\n",
       "    .dataframe tbody tr th {\n",
       "        vertical-align: top;\n",
       "    }\n",
       "\n",
       "    .dataframe thead th {\n",
       "        text-align: right;\n",
       "    }\n",
       "</style>\n",
       "<table border=\"1\" class=\"dataframe\">\n",
       "  <thead>\n",
       "    <tr style=\"text-align: right;\">\n",
       "      <th></th>\n",
       "      <th>user_id</th>\n",
       "      <th>name</th>\n",
       "      <th>age</th>\n",
       "      <th>city</th>\n",
       "      <th>subscription_type</th>\n",
       "    </tr>\n",
       "  </thead>\n",
       "  <tbody>\n",
       "    <tr>\n",
       "      <th>0</th>\n",
       "      <td>1</td>\n",
       "      <td>Кира</td>\n",
       "      <td>22</td>\n",
       "      <td>Тюмень</td>\n",
       "      <td>ultra</td>\n",
       "    </tr>\n",
       "    <tr>\n",
       "      <th>1</th>\n",
       "      <td>2</td>\n",
       "      <td>Станислав</td>\n",
       "      <td>31</td>\n",
       "      <td>Омск</td>\n",
       "      <td>ultra</td>\n",
       "    </tr>\n",
       "    <tr>\n",
       "      <th>2</th>\n",
       "      <td>3</td>\n",
       "      <td>Алексей</td>\n",
       "      <td>20</td>\n",
       "      <td>Москва</td>\n",
       "      <td>ultra</td>\n",
       "    </tr>\n",
       "    <tr>\n",
       "      <th>3</th>\n",
       "      <td>4</td>\n",
       "      <td>Константин</td>\n",
       "      <td>26</td>\n",
       "      <td>Ростов-на-Дону</td>\n",
       "      <td>ultra</td>\n",
       "    </tr>\n",
       "    <tr>\n",
       "      <th>4</th>\n",
       "      <td>5</td>\n",
       "      <td>Адель</td>\n",
       "      <td>28</td>\n",
       "      <td>Омск</td>\n",
       "      <td>ultra</td>\n",
       "    </tr>\n",
       "  </tbody>\n",
       "</table>\n",
       "</div>"
      ],
      "text/plain": [
       "   user_id        name  age            city subscription_type\n",
       "0        1        Кира   22          Тюмень             ultra\n",
       "1        2   Станислав   31            Омск             ultra\n",
       "2        3     Алексей   20          Москва             ultra\n",
       "3        4  Константин   26  Ростов-на-Дону             ultra\n",
       "4        5       Адель   28            Омск             ultra"
      ]
     },
     "metadata": {},
     "output_type": "display_data"
    },
    {
     "name": "stdout",
     "output_type": "stream",
     "text": [
      "<class 'pandas.core.frame.DataFrame'>\n",
      "RangeIndex: 1565 entries, 0 to 1564\n",
      "Data columns (total 5 columns):\n",
      " #   Column             Non-Null Count  Dtype \n",
      "---  ------             --------------  ----- \n",
      " 0   user_id            1565 non-null   int64 \n",
      " 1   name               1565 non-null   object\n",
      " 2   age                1565 non-null   int64 \n",
      " 3   city               1565 non-null   object\n",
      " 4   subscription_type  1565 non-null   object\n",
      "dtypes: int64(2), object(3)\n",
      "memory usage: 61.3+ KB\n"
     ]
    }
   ],
   "source": [
    "display(users.head())\n",
    "users.info()"
   ]
  },
  {
   "cell_type": "code",
   "execution_count": 70,
   "id": "9d626c34",
   "metadata": {
    "scrolled": false
   },
   "outputs": [
    {
     "data": {
      "text/html": [
       "<div>\n",
       "<style scoped>\n",
       "    .dataframe tbody tr th:only-of-type {\n",
       "        vertical-align: middle;\n",
       "    }\n",
       "\n",
       "    .dataframe tbody tr th {\n",
       "        vertical-align: top;\n",
       "    }\n",
       "\n",
       "    .dataframe thead th {\n",
       "        text-align: right;\n",
       "    }\n",
       "</style>\n",
       "<table border=\"1\" class=\"dataframe\">\n",
       "  <thead>\n",
       "    <tr style=\"text-align: right;\">\n",
       "      <th></th>\n",
       "      <th>user_id</th>\n",
       "      <th>distance</th>\n",
       "      <th>duration</th>\n",
       "      <th>date</th>\n",
       "    </tr>\n",
       "  </thead>\n",
       "  <tbody>\n",
       "    <tr>\n",
       "      <th>0</th>\n",
       "      <td>1</td>\n",
       "      <td>4409.919140</td>\n",
       "      <td>25.599769</td>\n",
       "      <td>2021-01-01</td>\n",
       "    </tr>\n",
       "    <tr>\n",
       "      <th>1</th>\n",
       "      <td>1</td>\n",
       "      <td>2617.592153</td>\n",
       "      <td>15.816871</td>\n",
       "      <td>2021-01-18</td>\n",
       "    </tr>\n",
       "    <tr>\n",
       "      <th>2</th>\n",
       "      <td>1</td>\n",
       "      <td>754.159807</td>\n",
       "      <td>6.232113</td>\n",
       "      <td>2021-04-20</td>\n",
       "    </tr>\n",
       "    <tr>\n",
       "      <th>3</th>\n",
       "      <td>1</td>\n",
       "      <td>2694.783254</td>\n",
       "      <td>18.511000</td>\n",
       "      <td>2021-08-11</td>\n",
       "    </tr>\n",
       "    <tr>\n",
       "      <th>4</th>\n",
       "      <td>1</td>\n",
       "      <td>4028.687306</td>\n",
       "      <td>26.265803</td>\n",
       "      <td>2021-08-28</td>\n",
       "    </tr>\n",
       "  </tbody>\n",
       "</table>\n",
       "</div>"
      ],
      "text/plain": [
       "   user_id     distance   duration        date\n",
       "0        1  4409.919140  25.599769  2021-01-01\n",
       "1        1  2617.592153  15.816871  2021-01-18\n",
       "2        1   754.159807   6.232113  2021-04-20\n",
       "3        1  2694.783254  18.511000  2021-08-11\n",
       "4        1  4028.687306  26.265803  2021-08-28"
      ]
     },
     "metadata": {},
     "output_type": "display_data"
    },
    {
     "name": "stdout",
     "output_type": "stream",
     "text": [
      "<class 'pandas.core.frame.DataFrame'>\n",
      "RangeIndex: 18068 entries, 0 to 18067\n",
      "Data columns (total 4 columns):\n",
      " #   Column    Non-Null Count  Dtype  \n",
      "---  ------    --------------  -----  \n",
      " 0   user_id   18068 non-null  int64  \n",
      " 1   distance  18068 non-null  float64\n",
      " 2   duration  18068 non-null  float64\n",
      " 3   date      18068 non-null  object \n",
      "dtypes: float64(2), int64(1), object(1)\n",
      "memory usage: 564.8+ KB\n"
     ]
    }
   ],
   "source": [
    "display(rides.head())\n",
    "rides.info()"
   ]
  },
  {
   "cell_type": "code",
   "execution_count": 71,
   "id": "da3f3e63",
   "metadata": {},
   "outputs": [
    {
     "data": {
      "text/html": [
       "<div>\n",
       "<style scoped>\n",
       "    .dataframe tbody tr th:only-of-type {\n",
       "        vertical-align: middle;\n",
       "    }\n",
       "\n",
       "    .dataframe tbody tr th {\n",
       "        vertical-align: top;\n",
       "    }\n",
       "\n",
       "    .dataframe thead th {\n",
       "        text-align: right;\n",
       "    }\n",
       "</style>\n",
       "<table border=\"1\" class=\"dataframe\">\n",
       "  <thead>\n",
       "    <tr style=\"text-align: right;\">\n",
       "      <th></th>\n",
       "      <th>subscription_type</th>\n",
       "      <th>minute_price</th>\n",
       "      <th>start_ride_price</th>\n",
       "      <th>subscription_fee</th>\n",
       "    </tr>\n",
       "  </thead>\n",
       "  <tbody>\n",
       "    <tr>\n",
       "      <th>0</th>\n",
       "      <td>free</td>\n",
       "      <td>8</td>\n",
       "      <td>50</td>\n",
       "      <td>0</td>\n",
       "    </tr>\n",
       "    <tr>\n",
       "      <th>1</th>\n",
       "      <td>ultra</td>\n",
       "      <td>6</td>\n",
       "      <td>0</td>\n",
       "      <td>199</td>\n",
       "    </tr>\n",
       "  </tbody>\n",
       "</table>\n",
       "</div>"
      ],
      "text/plain": [
       "  subscription_type  minute_price  start_ride_price  subscription_fee\n",
       "0              free             8                50                 0\n",
       "1             ultra             6                 0               199"
      ]
     },
     "metadata": {},
     "output_type": "display_data"
    },
    {
     "name": "stdout",
     "output_type": "stream",
     "text": [
      "<class 'pandas.core.frame.DataFrame'>\n",
      "RangeIndex: 2 entries, 0 to 1\n",
      "Data columns (total 4 columns):\n",
      " #   Column             Non-Null Count  Dtype \n",
      "---  ------             --------------  ----- \n",
      " 0   subscription_type  2 non-null      object\n",
      " 1   minute_price       2 non-null      int64 \n",
      " 2   start_ride_price   2 non-null      int64 \n",
      " 3   subscription_fee   2 non-null      int64 \n",
      "dtypes: int64(3), object(1)\n",
      "memory usage: 192.0+ bytes\n"
     ]
    }
   ],
   "source": [
    "display(subscriptions.head())\n",
    "subscriptions.info()"
   ]
  },
  {
   "cell_type": "markdown",
   "id": "50cd52ff",
   "metadata": {},
   "source": [
    "<div style=\"border: 3px solid blue; border-radius: 5px; padding: 10px;\">\n",
    "Вывод:\n",
    "    \n",
    "    На первый взгляд данные хорошие, пропусков нет. Нужно сделать приведение типов object->datetime и object->category"
   ]
  },
  {
   "cell_type": "markdown",
   "id": "3d28cd4f",
   "metadata": {},
   "source": [
    "#### Шаг 2. Предобработка данных"
   ]
  },
  {
   "cell_type": "markdown",
   "id": "b912ae02",
   "metadata": {},
   "source": [
    "Изменим тип данных на datetime"
   ]
  },
  {
   "cell_type": "code",
   "execution_count": 72,
   "id": "2774920c",
   "metadata": {},
   "outputs": [],
   "source": [
    "rides.date = pd.to_datetime(rides.date,format='%Y-%m-%d')"
   ]
  },
  {
   "cell_type": "markdown",
   "id": "9f32372e",
   "metadata": {},
   "source": [
    "так же изменим тип данных в колонках, содержащих тип тарифа на *category*"
   ]
  },
  {
   "cell_type": "code",
   "execution_count": 73,
   "id": "44f114f1",
   "metadata": {},
   "outputs": [],
   "source": [
    "subscriptions['subscription_type'] = subscriptions['subscription_type'].astype('category')\n",
    "users['subscription_type'] = users['subscription_type'].astype('category')"
   ]
  },
  {
   "cell_type": "markdown",
   "id": "5e28ae13",
   "metadata": {},
   "source": [
    "Проверим изменения"
   ]
  },
  {
   "cell_type": "code",
   "execution_count": 74,
   "id": "d075a1ba",
   "metadata": {
    "scrolled": false
   },
   "outputs": [
    {
     "name": "stdout",
     "output_type": "stream",
     "text": [
      "<class 'pandas.core.frame.DataFrame'>\n",
      "RangeIndex: 18068 entries, 0 to 18067\n",
      "Data columns (total 4 columns):\n",
      " #   Column    Non-Null Count  Dtype         \n",
      "---  ------    --------------  -----         \n",
      " 0   user_id   18068 non-null  int64         \n",
      " 1   distance  18068 non-null  float64       \n",
      " 2   duration  18068 non-null  float64       \n",
      " 3   date      18068 non-null  datetime64[ns]\n",
      "dtypes: datetime64[ns](1), float64(2), int64(1)\n",
      "memory usage: 564.8 KB\n",
      "None\n",
      "<class 'pandas.core.frame.DataFrame'>\n",
      "RangeIndex: 2 entries, 0 to 1\n",
      "Data columns (total 4 columns):\n",
      " #   Column             Non-Null Count  Dtype   \n",
      "---  ------             --------------  -----   \n",
      " 0   subscription_type  2 non-null      category\n",
      " 1   minute_price       2 non-null      int64   \n",
      " 2   start_ride_price   2 non-null      int64   \n",
      " 3   subscription_fee   2 non-null      int64   \n",
      "dtypes: category(1), int64(3)\n",
      "memory usage: 302.0 bytes\n",
      "None\n",
      "<class 'pandas.core.frame.DataFrame'>\n",
      "RangeIndex: 1565 entries, 0 to 1564\n",
      "Data columns (total 5 columns):\n",
      " #   Column             Non-Null Count  Dtype   \n",
      "---  ------             --------------  -----   \n",
      " 0   user_id            1565 non-null   int64   \n",
      " 1   name               1565 non-null   object  \n",
      " 2   age                1565 non-null   int64   \n",
      " 3   city               1565 non-null   object  \n",
      " 4   subscription_type  1565 non-null   category\n",
      "dtypes: category(1), int64(2), object(2)\n",
      "memory usage: 50.7+ KB\n"
     ]
    }
   ],
   "source": [
    "print(rides.info())\n",
    "print(subscriptions.info())\n",
    "users.info()"
   ]
  },
  {
   "cell_type": "markdown",
   "id": "369e228c",
   "metadata": {},
   "source": [
    "Добавим столбец с номером месяца"
   ]
  },
  {
   "cell_type": "code",
   "execution_count": 75,
   "id": "ba14da69",
   "metadata": {
    "scrolled": true
   },
   "outputs": [
    {
     "data": {
      "text/html": [
       "<div>\n",
       "<style scoped>\n",
       "    .dataframe tbody tr th:only-of-type {\n",
       "        vertical-align: middle;\n",
       "    }\n",
       "\n",
       "    .dataframe tbody tr th {\n",
       "        vertical-align: top;\n",
       "    }\n",
       "\n",
       "    .dataframe thead th {\n",
       "        text-align: right;\n",
       "    }\n",
       "</style>\n",
       "<table border=\"1\" class=\"dataframe\">\n",
       "  <thead>\n",
       "    <tr style=\"text-align: right;\">\n",
       "      <th></th>\n",
       "      <th>user_id</th>\n",
       "      <th>distance</th>\n",
       "      <th>duration</th>\n",
       "      <th>date</th>\n",
       "      <th>month</th>\n",
       "    </tr>\n",
       "  </thead>\n",
       "  <tbody>\n",
       "    <tr>\n",
       "      <th>0</th>\n",
       "      <td>1</td>\n",
       "      <td>4409.919140</td>\n",
       "      <td>25.599769</td>\n",
       "      <td>2021-01-01</td>\n",
       "      <td>1</td>\n",
       "    </tr>\n",
       "    <tr>\n",
       "      <th>1</th>\n",
       "      <td>1</td>\n",
       "      <td>2617.592153</td>\n",
       "      <td>15.816871</td>\n",
       "      <td>2021-01-18</td>\n",
       "      <td>1</td>\n",
       "    </tr>\n",
       "    <tr>\n",
       "      <th>2</th>\n",
       "      <td>1</td>\n",
       "      <td>754.159807</td>\n",
       "      <td>6.232113</td>\n",
       "      <td>2021-04-20</td>\n",
       "      <td>4</td>\n",
       "    </tr>\n",
       "    <tr>\n",
       "      <th>3</th>\n",
       "      <td>1</td>\n",
       "      <td>2694.783254</td>\n",
       "      <td>18.511000</td>\n",
       "      <td>2021-08-11</td>\n",
       "      <td>8</td>\n",
       "    </tr>\n",
       "    <tr>\n",
       "      <th>4</th>\n",
       "      <td>1</td>\n",
       "      <td>4028.687306</td>\n",
       "      <td>26.265803</td>\n",
       "      <td>2021-08-28</td>\n",
       "      <td>8</td>\n",
       "    </tr>\n",
       "  </tbody>\n",
       "</table>\n",
       "</div>"
      ],
      "text/plain": [
       "   user_id     distance   duration       date  month\n",
       "0        1  4409.919140  25.599769 2021-01-01      1\n",
       "1        1  2617.592153  15.816871 2021-01-18      1\n",
       "2        1   754.159807   6.232113 2021-04-20      4\n",
       "3        1  2694.783254  18.511000 2021-08-11      8\n",
       "4        1  4028.687306  26.265803 2021-08-28      8"
      ]
     },
     "execution_count": 75,
     "metadata": {},
     "output_type": "execute_result"
    }
   ],
   "source": [
    "rides['month'] = rides.date.dt.month\n",
    "rides.head()"
   ]
  },
  {
   "cell_type": "markdown",
   "id": "1c744d4d",
   "metadata": {
    "scrolled": true
   },
   "source": [
    "Посмотрим за какой промежуток времени данные"
   ]
  },
  {
   "cell_type": "code",
   "execution_count": 76,
   "id": "f7b840cf",
   "metadata": {
    "scrolled": false
   },
   "outputs": [
    {
     "name": "stdout",
     "output_type": "stream",
     "text": [
      "2021-12-30 00:00:00\n",
      "2021-01-01 00:00:00\n"
     ]
    }
   ],
   "source": [
    "print(rides['date'].max())\n",
    "print(rides['date'].min())"
   ]
  },
  {
   "cell_type": "markdown",
   "id": "a5585b7e",
   "metadata": {},
   "source": [
    "данные предоставлены за 2021 год"
   ]
  },
  {
   "cell_type": "markdown",
   "id": "f3e4b772",
   "metadata": {},
   "source": [
    "Проверим на наличие пропусков"
   ]
  },
  {
   "cell_type": "code",
   "execution_count": 77,
   "id": "7328e087",
   "metadata": {
    "scrolled": false
   },
   "outputs": [
    {
     "data": {
      "text/plain": [
       "subscription_type    0\n",
       "minute_price         0\n",
       "start_ride_price     0\n",
       "subscription_fee     0\n",
       "dtype: int64"
      ]
     },
     "execution_count": 77,
     "metadata": {},
     "output_type": "execute_result"
    }
   ],
   "source": [
    "users.isna().sum()\n",
    "rides.isna().sum()\n",
    "subscriptions.isna().sum()"
   ]
  },
  {
   "cell_type": "markdown",
   "id": "4e6fdc9b",
   "metadata": {},
   "source": [
    "Проверим на наличие дубликатов"
   ]
  },
  {
   "cell_type": "code",
   "execution_count": 78,
   "id": "3e7b4b45",
   "metadata": {
    "scrolled": true
   },
   "outputs": [
    {
     "name": "stdout",
     "output_type": "stream",
     "text": [
      "31\n",
      "0\n"
     ]
    }
   ],
   "source": [
    "print(users.duplicated().sum())\n",
    "print(rides.duplicated().sum())"
   ]
  },
  {
   "cell_type": "markdown",
   "id": "6926efac",
   "metadata": {},
   "source": [
    "Уберем полные дубликаты из users"
   ]
  },
  {
   "cell_type": "code",
   "execution_count": 79,
   "id": "7900cbd7",
   "metadata": {},
   "outputs": [],
   "source": [
    "users = users.drop_duplicates()"
   ]
  },
  {
   "cell_type": "code",
   "execution_count": 80,
   "id": "98738036",
   "metadata": {
    "scrolled": false
   },
   "outputs": [
    {
     "data": {
      "text/plain": [
       "0"
      ]
     },
     "execution_count": 80,
     "metadata": {},
     "output_type": "execute_result"
    }
   ],
   "source": [
    "users.duplicated().sum()"
   ]
  },
  {
   "cell_type": "markdown",
   "id": "d8264e45",
   "metadata": {},
   "source": [
    "Проверим на неполные дубликаты таблицу rides. Таблицу users проверять не нужно, так как там вполне возможны дубликаты по имени, возрасту и городу"
   ]
  },
  {
   "cell_type": "code",
   "execution_count": 81,
   "id": "f60acb52",
   "metadata": {
    "scrolled": true
   },
   "outputs": [
    {
     "data": {
      "text/plain": [
       "0"
      ]
     },
     "execution_count": 81,
     "metadata": {},
     "output_type": "execute_result"
    }
   ],
   "source": [
    "rides.duplicated(subset=['distance','duration','date']).sum()"
   ]
  },
  {
   "cell_type": "markdown",
   "id": "e24823aa",
   "metadata": {},
   "source": [
    " Посмотрим на наличие аномалий по параметрам age, duration и distance"
   ]
  },
  {
   "cell_type": "code",
   "execution_count": 82,
   "id": "a524b015",
   "metadata": {
    "scrolled": false
   },
   "outputs": [
    {
     "data": {
      "image/png": "[encoded data removed]",
      "text/plain": [
       "<Figure size 432x288 with 1 Axes>"
      ]
     },
     "metadata": {
      "needs_background": "light"
     },
     "output_type": "display_data"
    }
   ],
   "source": [
    "users['age'].hist(bins=30,edgecolor='black');"
   ]
  },
  {
   "cell_type": "code",
   "execution_count": 83,
   "id": "3c02eb04",
   "metadata": {
    "scrolled": false
   },
   "outputs": [
    {
     "data": {
      "image/png": "[encoded data removed]",
      "text/plain": [
       "<Figure size 432x288 with 1 Axes>"
      ]
     },
     "metadata": {
      "needs_background": "light"
     },
     "output_type": "display_data"
    }
   ],
   "source": [
    "rides['distance'].hist(bins=100,edgecolor='black');"
   ]
  },
  {
   "cell_type": "code",
   "execution_count": 84,
   "id": "17c53bd8",
   "metadata": {
    "scrolled": false
   },
   "outputs": [
    {
     "data": {
      "image/png": "[encoded data removed]",
      "text/plain": [
       "<Figure size 432x288 with 1 Axes>"
      ]
     },
     "metadata": {
      "needs_background": "light"
     },
     "output_type": "display_data"
    }
   ],
   "source": [
    "rides['duration'].hist(bins=100,edgecolor='black');"
   ]
  },
  {
   "cell_type": "markdown",
   "id": "8a1fb95f",
   "metadata": {},
   "source": [
    "Посмотрим на аномалию около нуля в таблице rides в колонке duration"
   ]
  },
  {
   "cell_type": "code",
   "execution_count": 85,
   "id": "94459a73",
   "metadata": {
    "scrolled": false
   },
   "outputs": [
    {
     "data": {
      "text/html": [
       "<div>\n",
       "<style scoped>\n",
       "    .dataframe tbody tr th:only-of-type {\n",
       "        vertical-align: middle;\n",
       "    }\n",
       "\n",
       "    .dataframe tbody tr th {\n",
       "        vertical-align: top;\n",
       "    }\n",
       "\n",
       "    .dataframe thead th {\n",
       "        text-align: right;\n",
       "    }\n",
       "</style>\n",
       "<table border=\"1\" class=\"dataframe\">\n",
       "  <thead>\n",
       "    <tr style=\"text-align: right;\">\n",
       "      <th></th>\n",
       "      <th>user_id</th>\n",
       "      <th>distance</th>\n",
       "      <th>duration</th>\n",
       "      <th>date</th>\n",
       "      <th>month</th>\n",
       "    </tr>\n",
       "  </thead>\n",
       "  <tbody>\n",
       "    <tr>\n",
       "      <th>6531</th>\n",
       "      <td>701</td>\n",
       "      <td>4196.445201</td>\n",
       "      <td>0.5</td>\n",
       "      <td>2021-08-31</td>\n",
       "      <td>8</td>\n",
       "    </tr>\n",
       "    <tr>\n",
       "      <th>6570</th>\n",
       "      <td>704</td>\n",
       "      <td>4830.824371</td>\n",
       "      <td>0.5</td>\n",
       "      <td>2021-10-14</td>\n",
       "      <td>10</td>\n",
       "    </tr>\n",
       "    <tr>\n",
       "      <th>6680</th>\n",
       "      <td>712</td>\n",
       "      <td>4684.004397</td>\n",
       "      <td>0.5</td>\n",
       "      <td>2021-03-04</td>\n",
       "      <td>3</td>\n",
       "    </tr>\n",
       "    <tr>\n",
       "      <th>6695</th>\n",
       "      <td>713</td>\n",
       "      <td>5215.642710</td>\n",
       "      <td>0.5</td>\n",
       "      <td>2021-02-25</td>\n",
       "      <td>2</td>\n",
       "    </tr>\n",
       "    <tr>\n",
       "      <th>6768</th>\n",
       "      <td>718</td>\n",
       "      <td>5197.436649</td>\n",
       "      <td>0.5</td>\n",
       "      <td>2021-02-11</td>\n",
       "      <td>2</td>\n",
       "    </tr>\n",
       "    <tr>\n",
       "      <th>...</th>\n",
       "      <td>...</td>\n",
       "      <td>...</td>\n",
       "      <td>...</td>\n",
       "      <td>...</td>\n",
       "      <td>...</td>\n",
       "    </tr>\n",
       "    <tr>\n",
       "      <th>17004</th>\n",
       "      <td>1460</td>\n",
       "      <td>5531.335845</td>\n",
       "      <td>0.5</td>\n",
       "      <td>2021-01-19</td>\n",
       "      <td>1</td>\n",
       "    </tr>\n",
       "    <tr>\n",
       "      <th>17242</th>\n",
       "      <td>1477</td>\n",
       "      <td>6724.932981</td>\n",
       "      <td>0.5</td>\n",
       "      <td>2021-01-12</td>\n",
       "      <td>1</td>\n",
       "    </tr>\n",
       "    <tr>\n",
       "      <th>17314</th>\n",
       "      <td>1483</td>\n",
       "      <td>4445.481070</td>\n",
       "      <td>0.5</td>\n",
       "      <td>2021-03-06</td>\n",
       "      <td>3</td>\n",
       "    </tr>\n",
       "    <tr>\n",
       "      <th>17505</th>\n",
       "      <td>1496</td>\n",
       "      <td>5722.551787</td>\n",
       "      <td>0.5</td>\n",
       "      <td>2021-02-14</td>\n",
       "      <td>2</td>\n",
       "    </tr>\n",
       "    <tr>\n",
       "      <th>17909</th>\n",
       "      <td>1524</td>\n",
       "      <td>4103.998874</td>\n",
       "      <td>0.5</td>\n",
       "      <td>2021-06-18</td>\n",
       "      <td>6</td>\n",
       "    </tr>\n",
       "  </tbody>\n",
       "</table>\n",
       "<p>95 rows × 5 columns</p>\n",
       "</div>"
      ],
      "text/plain": [
       "       user_id     distance  duration       date  month\n",
       "6531       701  4196.445201       0.5 2021-08-31      8\n",
       "6570       704  4830.824371       0.5 2021-10-14     10\n",
       "6680       712  4684.004397       0.5 2021-03-04      3\n",
       "6695       713  5215.642710       0.5 2021-02-25      2\n",
       "6768       718  5197.436649       0.5 2021-02-11      2\n",
       "...        ...          ...       ...        ...    ...\n",
       "17004     1460  5531.335845       0.5 2021-01-19      1\n",
       "17242     1477  6724.932981       0.5 2021-01-12      1\n",
       "17314     1483  4445.481070       0.5 2021-03-06      3\n",
       "17505     1496  5722.551787       0.5 2021-02-14      2\n",
       "17909     1524  4103.998874       0.5 2021-06-18      6\n",
       "\n",
       "[95 rows x 5 columns]"
      ]
     },
     "execution_count": 85,
     "metadata": {},
     "output_type": "execute_result"
    }
   ],
   "source": [
    "rides.query('duration < 2')"
   ]
  },
  {
   "cell_type": "code",
   "execution_count": 86,
   "id": "51a6cce8",
   "metadata": {
    "scrolled": false
   },
   "outputs": [
    {
     "data": {
      "image/png": "[encoded data removed]",
      "text/plain": [
       "<Figure size 432x288 with 1 Axes>"
      ]
     },
     "metadata": {
      "needs_background": "light"
     },
     "output_type": "display_data"
    }
   ],
   "source": [
    "rides.query('duration < 2')['distance'].hist(bins=100,edgecolor='black');"
   ]
  },
  {
   "cell_type": "markdown",
   "id": "c82b2338",
   "metadata": {},
   "source": [
    "Заметим, что те поездки, которые длились меньше 1 минуты, по расстоянию были более 4 км, такое невозможно.\n",
    "Такое сложно объяснить, возможна ошибка при сборе данных или при загрузке.\n",
    "Такие данные лучше удалить"
   ]
  },
  {
   "cell_type": "code",
   "execution_count": 87,
   "id": "731fab7c",
   "metadata": {},
   "outputs": [],
   "source": [
    "rides = rides.query('duration >= 2').copy()"
   ]
  },
  {
   "cell_type": "code",
   "execution_count": 88,
   "id": "16d8499d",
   "metadata": {
    "scrolled": false
   },
   "outputs": [
    {
     "data": {
      "image/png": "[encoded data removed]",
      "text/plain": [
       "<Figure size 432x288 with 1 Axes>"
      ]
     },
     "metadata": {
      "needs_background": "light"
     },
     "output_type": "display_data"
    }
   ],
   "source": [
    "rides['duration'].hist(bins=100,edgecolor='black');"
   ]
  },
  {
   "cell_type": "markdown",
   "id": "35c3c0fa",
   "metadata": {},
   "source": [
    "<div style=\"border: 3px solid blue; border-radius: 5px; padding: 10px;\">\n",
    "Вывод:\n",
    "    \n",
    "    1) Были преобразованы типы колонки date в таблице rides к типу datetime и тип данных колонок subscription_type к category\n",
    "    2) Был добавлен столбец союержащий номер месяца в таблицу rides\n",
    "    3) Были убраны полные дубликаты из таблицы users\n",
    "    4) Удалены аномалии из таблицы rides"
   ]
  },
  {
   "cell_type": "markdown",
   "id": "f066ef02",
   "metadata": {},
   "source": [
    "#### Шаг 3. Исследовательский анализ данных"
   ]
  },
  {
   "cell_type": "markdown",
   "id": "4ec157a3",
   "metadata": {},
   "source": [
    "##### Частота встречаемости городов"
   ]
  },
  {
   "cell_type": "markdown",
   "id": "8c2a2678",
   "metadata": {},
   "source": [
    "количество пользователей по городам"
   ]
  },
  {
   "cell_type": "code",
   "execution_count": 89,
   "id": "cf78418c",
   "metadata": {
    "scrolled": false
   },
   "outputs": [
    {
     "data": {
      "text/plain": [
       "Пятигорск         219\n",
       "Екатеринбург      204\n",
       "Ростов-на-Дону    198\n",
       "Краснодар         193\n",
       "Сочи              189\n",
       "Омск              183\n",
       "Тюмень            180\n",
       "Москва            168\n",
       "Name: city, dtype: int64"
      ]
     },
     "execution_count": 89,
     "metadata": {},
     "output_type": "execute_result"
    }
   ],
   "source": [
    "users['city'].value_counts()"
   ]
  },
  {
   "cell_type": "code",
   "execution_count": 90,
   "id": "74fb31ee",
   "metadata": {},
   "outputs": [
    {
     "data": {
      "text/plain": [
       "count      8.000000\n",
       "mean     191.750000\n",
       "std       15.672998\n",
       "min      168.000000\n",
       "25%      182.250000\n",
       "50%      191.000000\n",
       "75%      199.500000\n",
       "max      219.000000\n",
       "Name: city, dtype: float64"
      ]
     },
     "execution_count": 90,
     "metadata": {},
     "output_type": "execute_result"
    }
   ],
   "source": [
    "users['city'].value_counts().describe()"
   ]
  },
  {
   "cell_type": "code",
   "execution_count": 91,
   "id": "f3310d91",
   "metadata": {
    "scrolled": false
   },
   "outputs": [
    {
     "data": {
      "image/png": "[encoded data removed]",
      "text/plain": [
       "<Figure size 576x360 with 1 Axes>"
      ]
     },
     "metadata": {
      "needs_background": "light"
     },
     "output_type": "display_data"
    }
   ],
   "source": [
    "ax = users['city'].value_counts().sort_values().plot(kind='barh', figsize=(8, 5), fontsize=12)\n",
    "ax.set_title('Количество пользоватеей по городам');\n",
    "ax.set_xlabel('количество пользователей');"
   ]
  },
  {
   "cell_type": "markdown",
   "id": "2f9d484e",
   "metadata": {},
   "source": [
    "- среднее количество 192\n",
    "\n",
    "- минимальное 168\n",
    "\n",
    "- максимальное 219"
   ]
  },
  {
   "cell_type": "markdown",
   "id": "ae5493c7",
   "metadata": {},
   "source": [
    "Официальные данные о населении городов:\n",
    "\n",
    "- Пятигорск - 146 267 \n",
    "\n",
    "- Екатеринбург - 1 588 665\n",
    "\n",
    "- Ростов-на-Дону - 1 142 162\n",
    "\n",
    "- Краснодар - 1 099 344\n",
    "\n",
    "- Сочи - 466 078\n",
    "\n",
    "- Омск - 1 125 655 \n",
    "\n",
    "- Тюмень - 855 618\n",
    "\n",
    "- Москва - 12 655 050"
   ]
  },
  {
   "cell_type": "code",
   "execution_count": 92,
   "id": "347b3ada",
   "metadata": {},
   "outputs": [
    {
     "data": {
      "image/png": "[encoded data removed]",
      "text/plain": [
       "<Figure size 576x360 with 1 Axes>"
      ]
     },
     "metadata": {
      "needs_background": "light"
     },
     "output_type": "display_data"
    }
   ],
   "source": [
    "population = [146267, 1588665, 1142162, 1099344, 466078, 1125655, 855618, 12655050]\n",
    "popularity = users['city'].value_counts().to_frame()\n",
    "popularity['population'] = population\n",
    "popularity['city'] = popularity['city']/popularity['population']\n",
    "ax = popularity['city'].plot(kind='barh', figsize=(8, 5), fontsize=12)\n",
    "ax.set_title('доля пользователй от населения городов');\n",
    "ax.set_xlabel('доля пользователей', fontsize=12);"
   ]
  },
  {
   "cell_type": "markdown",
   "id": "9ac56945",
   "metadata": {},
   "source": [
    "<div style=\"border: 3px solid blue; border-radius: 5px; padding: 10px;\">\n",
    "Вывод:\n",
    "    \n",
    "    Количество пользователей по городам примерно одинаковое, но учитывая население городов, можно заметить, что в Пятигорске \n",
    "    сервисом пользуется ибольший процент жителей, а в мск - меньший\n",
    "\n"
   ]
  },
  {
   "cell_type": "markdown",
   "id": "a71f73a1",
   "metadata": {},
   "source": [
    " ##### Соотношение пользователей с подпиской и без"
   ]
  },
  {
   "cell_type": "code",
   "execution_count": 93,
   "id": "83dd5e52",
   "metadata": {
    "scrolled": true
   },
   "outputs": [
    {
     "data": {
      "text/plain": [
       "free     835\n",
       "ultra    699\n",
       "Name: subscription_type, dtype: int64"
      ]
     },
     "execution_count": 93,
     "metadata": {},
     "output_type": "execute_result"
    }
   ],
   "source": [
    "users['subscription_type'].value_counts()"
   ]
  },
  {
   "cell_type": "code",
   "execution_count": 94,
   "id": "26e97306",
   "metadata": {
    "scrolled": false
   },
   "outputs": [
    {
     "data": {
      "image/png": "[encoded data removed]",
      "text/plain": [
       "<Figure size 360x360 with 1 Axes>"
      ]
     },
     "metadata": {},
     "output_type": "display_data"
    }
   ],
   "source": [
    "ax = users['subscription_type'].value_counts().plot(kind='pie', figsize=(5, 5), fontsize=12,rot=0,autopct='%1.1f%%');\n",
    "ax.set_title('Количество пользователей по типу подписки', fontsize=12);\n",
    "ax.set_ylabel('');"
   ]
  },
  {
   "cell_type": "markdown",
   "id": "0f4a2762",
   "metadata": {},
   "source": [
    "<div style=\"border: 3px solid blue; border-radius: 5px; padding: 10px;\">\n",
    "Вывод:\n",
    "    \n",
    "    Пользователей без подписки больше, но их количество различается не сильно\n",
    "    \n",
    "    - ultra 699 (45.6%)\n",
    "    \n",
    "    - free 835 (54.4%)\n",
    " "
   ]
  },
  {
   "cell_type": "markdown",
   "id": "40571df0",
   "metadata": {},
   "source": [
    "#### возраст пользователей"
   ]
  },
  {
   "cell_type": "code",
   "execution_count": 95,
   "id": "84ea64fe",
   "metadata": {
    "scrolled": false
   },
   "outputs": [
    {
     "name": "stdout",
     "output_type": "stream",
     "text": [
      "count    1534.000000\n",
      "mean       24.903520\n",
      "std         4.572367\n",
      "min        12.000000\n",
      "25%        22.000000\n",
      "50%        25.000000\n",
      "75%        28.000000\n",
      "max        43.000000\n",
      "Name: age, dtype: float64\n"
     ]
    },
    {
     "data": {
      "image/png": "[encoded data removed]",
      "text/plain": [
       "<Figure size 432x288 with 1 Axes>"
      ]
     },
     "metadata": {
      "needs_background": "light"
     },
     "output_type": "display_data"
    }
   ],
   "source": [
    "print(users['age'].describe())\n",
    "ax = users['age'].hist(bins=15,edgecolor='black');\n",
    "ax.set_title('Распределение по возрасту');\n",
    "ax.set_ylabel('количество пользователей', fontsize=12);\n",
    "ax.set_xlabel('возраст', fontsize=12);"
   ]
  },
  {
   "cell_type": "code",
   "execution_count": 96,
   "id": "56c27f8a",
   "metadata": {},
   "outputs": [
    {
     "name": "stdout",
     "output_type": "stream",
     "text": [
      "Процент пользователей возрастом 20-30 лет: 77%\n"
     ]
    }
   ],
   "source": [
    "print('Процент пользователей возрастом 20-30 лет: ',\n",
    "      round(users.query('age <= 30 and age >= 20').shape[0]/users.shape[0]*100),'%', sep='')"
   ]
  },
  {
   "cell_type": "markdown",
   "id": "5aff77b2",
   "metadata": {},
   "source": [
    "<div style=\"border: 3px solid blue; border-radius: 5px; padding: 10px;\">\n",
    "Вывод:\n",
    "    \n",
    "    Средний возраст пользователей - 25 лет\n",
    "    Процент пользователей возрастом 20-30 лет: 77%\n",
    " "
   ]
  },
  {
   "cell_type": "markdown",
   "id": "f17fdb7b",
   "metadata": {},
   "source": [
    "##### Расстояние, которое пользователь преодолел за одну поездку"
   ]
  },
  {
   "cell_type": "code",
   "execution_count": 97,
   "id": "cb7b170f",
   "metadata": {},
   "outputs": [
    {
     "data": {
      "text/html": [
       "<div>\n",
       "<style scoped>\n",
       "    .dataframe tbody tr th:only-of-type {\n",
       "        vertical-align: middle;\n",
       "    }\n",
       "\n",
       "    .dataframe tbody tr th {\n",
       "        vertical-align: top;\n",
       "    }\n",
       "\n",
       "    .dataframe thead th {\n",
       "        text-align: right;\n",
       "    }\n",
       "</style>\n",
       "<table border=\"1\" class=\"dataframe\">\n",
       "  <thead>\n",
       "    <tr style=\"text-align: right;\">\n",
       "      <th></th>\n",
       "      <th>user_id</th>\n",
       "      <th>distance</th>\n",
       "      <th>duration</th>\n",
       "      <th>date</th>\n",
       "      <th>month</th>\n",
       "    </tr>\n",
       "  </thead>\n",
       "  <tbody>\n",
       "    <tr>\n",
       "      <th>0</th>\n",
       "      <td>1</td>\n",
       "      <td>4409.919140</td>\n",
       "      <td>25.599769</td>\n",
       "      <td>2021-01-01</td>\n",
       "      <td>1</td>\n",
       "    </tr>\n",
       "    <tr>\n",
       "      <th>1</th>\n",
       "      <td>1</td>\n",
       "      <td>2617.592153</td>\n",
       "      <td>15.816871</td>\n",
       "      <td>2021-01-18</td>\n",
       "      <td>1</td>\n",
       "    </tr>\n",
       "    <tr>\n",
       "      <th>2</th>\n",
       "      <td>1</td>\n",
       "      <td>754.159807</td>\n",
       "      <td>6.232113</td>\n",
       "      <td>2021-04-20</td>\n",
       "      <td>4</td>\n",
       "    </tr>\n",
       "    <tr>\n",
       "      <th>3</th>\n",
       "      <td>1</td>\n",
       "      <td>2694.783254</td>\n",
       "      <td>18.511000</td>\n",
       "      <td>2021-08-11</td>\n",
       "      <td>8</td>\n",
       "    </tr>\n",
       "    <tr>\n",
       "      <th>4</th>\n",
       "      <td>1</td>\n",
       "      <td>4028.687306</td>\n",
       "      <td>26.265803</td>\n",
       "      <td>2021-08-28</td>\n",
       "      <td>8</td>\n",
       "    </tr>\n",
       "  </tbody>\n",
       "</table>\n",
       "</div>"
      ],
      "text/plain": [
       "   user_id     distance   duration       date  month\n",
       "0        1  4409.919140  25.599769 2021-01-01      1\n",
       "1        1  2617.592153  15.816871 2021-01-18      1\n",
       "2        1   754.159807   6.232113 2021-04-20      4\n",
       "3        1  2694.783254  18.511000 2021-08-11      8\n",
       "4        1  4028.687306  26.265803 2021-08-28      8"
      ]
     },
     "execution_count": 97,
     "metadata": {},
     "output_type": "execute_result"
    }
   ],
   "source": [
    "rides.head()"
   ]
  },
  {
   "cell_type": "code",
   "execution_count": 98,
   "id": "bf45f6c7",
   "metadata": {
    "scrolled": false
   },
   "outputs": [
    {
     "name": "stdout",
     "output_type": "stream",
     "text": [
      "count    17973.000000\n",
      "mean      3059.863833\n",
      "std       1108.814612\n",
      "min          0.855683\n",
      "25%       2538.839628\n",
      "50%       3129.029255\n",
      "75%       3762.636244\n",
      "max       7066.003772\n",
      "Name: distance, dtype: float64\n"
     ]
    },
    {
     "data": {
      "image/png": "[encoded data removed]",
      "text/plain": [
       "<Figure size 432x288 with 1 Axes>"
      ]
     },
     "metadata": {
      "needs_background": "light"
     },
     "output_type": "display_data"
    }
   ],
   "source": [
    "print(rides['distance'].describe())\n",
    "ax = rides['distance'].hist(bins=60,edgecolor='black');\n",
    "ax.set_title('Распределение по расстоянию поездки');\n",
    "ax.set_ylabel('количество пользователей', fontsize=12);\n",
    "ax.set_xlabel('расстояние, м', fontsize=12);"
   ]
  },
  {
   "cell_type": "code",
   "execution_count": 99,
   "id": "65d4f98c",
   "metadata": {
    "scrolled": false
   },
   "outputs": [
    {
     "data": {
      "image/png": "[encoded data removed]",
      "text/plain": [
       "<Figure size 360x360 with 1 Axes>"
      ]
     },
     "metadata": {
      "needs_background": "light"
     },
     "output_type": "display_data"
    }
   ],
   "source": [
    "ax = rides.groupby('month')['distance'].mean().plot(kind='barh', figsize=(5, 5), fontsize=12,rot=0);\n",
    "ax.set_title('Средняя дистанция поездок по месяцам');\n",
    "ax.set_xlabel('расстояние', fontsize=12);\n",
    "ax.set_ylabel('номер месяца', fontsize=12);"
   ]
  },
  {
   "cell_type": "code",
   "execution_count": 100,
   "id": "d2ed84df",
   "metadata": {},
   "outputs": [
    {
     "data": {
      "image/png": "[encoded data removed]",
      "text/plain": [
       "<Figure size 360x360 with 1 Axes>"
      ]
     },
     "metadata": {
      "needs_background": "light"
     },
     "output_type": "display_data"
    }
   ],
   "source": [
    "ax = (users.merge(rides, on='user_id')\n",
    "      .groupby('city')['distance'].mean()\n",
    "      .plot(kind='barh', figsize=(5, 5), fontsize=12,rot=0)\n",
    "     )\n",
    "ax.set_title('Средняя дистанция поездок по городам');\n",
    "ax.set_xlabel('расстояние', fontsize=12);\n",
    "ax.set_ylabel('');"
   ]
  },
  {
   "cell_type": "markdown",
   "id": "923f222c",
   "metadata": {},
   "source": [
    "<div style=\"border: 3px solid blue; border-radius: 5px; padding: 10px;\">\n",
    "Вывод:\n",
    "    \n",
    "    Среднее растояние за поездку - 3060 м.\n",
    "    \n",
    "    Однако стоит отметить небольшое увеличение количества поездок на расстоянии 0-1000 метров. Скорее всего это вызвано несколькими причинами, например - люди хотят опробовать новый вид транспорта, потому совершают первые поездки, чтобы просто покататься, а не добраться из А в Б.\n",
    "    Так же странно, что средняя дистанция поездок почти не зависит от времени года и города."
   ]
  },
  {
   "cell_type": "markdown",
   "id": "ce78fc1d",
   "metadata": {},
   "source": [
    "#### Продолжительность поездок"
   ]
  },
  {
   "cell_type": "code",
   "execution_count": 101,
   "id": "b846ae25",
   "metadata": {
    "scrolled": false
   },
   "outputs": [
    {
     "name": "stdout",
     "output_type": "stream",
     "text": [
      "count    17973.000000\n",
      "mean        17.896480\n",
      "std          5.975424\n",
      "min          2.035632\n",
      "25%         13.670439\n",
      "50%         17.714122\n",
      "75%         21.747016\n",
      "max         40.823963\n",
      "Name: duration, dtype: float64\n"
     ]
    },
    {
     "data": {
      "image/png": "[encoded data removed]",
      "text/plain": [
       "<Figure size 432x288 with 1 Axes>"
      ]
     },
     "metadata": {
      "needs_background": "light"
     },
     "output_type": "display_data"
    }
   ],
   "source": [
    "print(rides['duration'].describe())\n",
    "rides['duration'].hist(bins=100,edgecolor='black');\n",
    "plt.title('Распределение по продолжительности поездки');"
   ]
  },
  {
   "cell_type": "code",
   "execution_count": 102,
   "id": "7ed95b9b",
   "metadata": {
    "scrolled": false
   },
   "outputs": [
    {
     "data": {
      "image/png": "[encoded data removed]",
      "text/plain": [
       "<Figure size 360x360 with 1 Axes>"
      ]
     },
     "metadata": {
      "needs_background": "light"
     },
     "output_type": "display_data"
    }
   ],
   "source": [
    "ax = rides.groupby('month')['duration'].mean().plot(kind='barh', figsize=(5, 5), fontsize=12,rot=0);\n",
    "ax.set_title('Среднее время поездок по месяцам');\n",
    "ax.set_xlabel('время, мин', fontsize=12);\n",
    "ax.set_ylabel('номер месяца', fontsize=12);"
   ]
  },
  {
   "cell_type": "code",
   "execution_count": 103,
   "id": "2c4b1247",
   "metadata": {},
   "outputs": [
    {
     "data": {
      "image/png": "[encoded data removed]",
      "text/plain": [
       "<Figure size 360x360 with 1 Axes>"
      ]
     },
     "metadata": {
      "needs_background": "light"
     },
     "output_type": "display_data"
    }
   ],
   "source": [
    "ax = (users.merge(rides, on='user_id')\n",
    "      .groupby('city')['duration'].mean()\n",
    "      .plot(kind='barh', figsize=(5, 5), fontsize=12,rot=0)\n",
    "     )\n",
    "ax.set_title('Средняя дистанция поездок по городам');\n",
    "ax.set_xlabel('время, мин', fontsize=12);\n",
    "ax.set_ylabel('');"
   ]
  },
  {
   "cell_type": "markdown",
   "id": "40da2f67",
   "metadata": {},
   "source": [
    "<div style=\"border: 3px solid blue; border-radius: 5px; padding: 10px;\">\n",
    "Вывод:\n",
    "    \n",
    "    Среднее время за поездку - 18 мин.\n",
    "    Среднее время так же не зависит от времени года и города"
   ]
  },
  {
   "cell_type": "markdown",
   "id": "c8e40936",
   "metadata": {},
   "source": [
    "#### Шаг 4. Объединение данных"
   ]
  },
  {
   "cell_type": "code",
   "execution_count": 104,
   "id": "bcab5205",
   "metadata": {
    "scrolled": false
   },
   "outputs": [
    {
     "data": {
      "text/html": [
       "<div>\n",
       "<style scoped>\n",
       "    .dataframe tbody tr th:only-of-type {\n",
       "        vertical-align: middle;\n",
       "    }\n",
       "\n",
       "    .dataframe tbody tr th {\n",
       "        vertical-align: top;\n",
       "    }\n",
       "\n",
       "    .dataframe thead th {\n",
       "        text-align: right;\n",
       "    }\n",
       "</style>\n",
       "<table border=\"1\" class=\"dataframe\">\n",
       "  <thead>\n",
       "    <tr style=\"text-align: right;\">\n",
       "      <th></th>\n",
       "      <th>user_id</th>\n",
       "      <th>name</th>\n",
       "      <th>age</th>\n",
       "      <th>city</th>\n",
       "      <th>subscription_type</th>\n",
       "      <th>distance</th>\n",
       "      <th>duration</th>\n",
       "      <th>date</th>\n",
       "      <th>month</th>\n",
       "      <th>minute_price</th>\n",
       "      <th>start_ride_price</th>\n",
       "      <th>subscription_fee</th>\n",
       "    </tr>\n",
       "  </thead>\n",
       "  <tbody>\n",
       "    <tr>\n",
       "      <th>0</th>\n",
       "      <td>1</td>\n",
       "      <td>Кира</td>\n",
       "      <td>22</td>\n",
       "      <td>Тюмень</td>\n",
       "      <td>ultra</td>\n",
       "      <td>4409.919140</td>\n",
       "      <td>25.599769</td>\n",
       "      <td>2021-01-01</td>\n",
       "      <td>1</td>\n",
       "      <td>6</td>\n",
       "      <td>0</td>\n",
       "      <td>199</td>\n",
       "    </tr>\n",
       "    <tr>\n",
       "      <th>1</th>\n",
       "      <td>1</td>\n",
       "      <td>Кира</td>\n",
       "      <td>22</td>\n",
       "      <td>Тюмень</td>\n",
       "      <td>ultra</td>\n",
       "      <td>2617.592153</td>\n",
       "      <td>15.816871</td>\n",
       "      <td>2021-01-18</td>\n",
       "      <td>1</td>\n",
       "      <td>6</td>\n",
       "      <td>0</td>\n",
       "      <td>199</td>\n",
       "    </tr>\n",
       "    <tr>\n",
       "      <th>2</th>\n",
       "      <td>1</td>\n",
       "      <td>Кира</td>\n",
       "      <td>22</td>\n",
       "      <td>Тюмень</td>\n",
       "      <td>ultra</td>\n",
       "      <td>754.159807</td>\n",
       "      <td>6.232113</td>\n",
       "      <td>2021-04-20</td>\n",
       "      <td>4</td>\n",
       "      <td>6</td>\n",
       "      <td>0</td>\n",
       "      <td>199</td>\n",
       "    </tr>\n",
       "    <tr>\n",
       "      <th>3</th>\n",
       "      <td>1</td>\n",
       "      <td>Кира</td>\n",
       "      <td>22</td>\n",
       "      <td>Тюмень</td>\n",
       "      <td>ultra</td>\n",
       "      <td>2694.783254</td>\n",
       "      <td>18.511000</td>\n",
       "      <td>2021-08-11</td>\n",
       "      <td>8</td>\n",
       "      <td>6</td>\n",
       "      <td>0</td>\n",
       "      <td>199</td>\n",
       "    </tr>\n",
       "    <tr>\n",
       "      <th>4</th>\n",
       "      <td>1</td>\n",
       "      <td>Кира</td>\n",
       "      <td>22</td>\n",
       "      <td>Тюмень</td>\n",
       "      <td>ultra</td>\n",
       "      <td>4028.687306</td>\n",
       "      <td>26.265803</td>\n",
       "      <td>2021-08-28</td>\n",
       "      <td>8</td>\n",
       "      <td>6</td>\n",
       "      <td>0</td>\n",
       "      <td>199</td>\n",
       "    </tr>\n",
       "  </tbody>\n",
       "</table>\n",
       "</div>"
      ],
      "text/plain": [
       "   user_id  name  age    city subscription_type     distance   duration  \\\n",
       "0        1  Кира   22  Тюмень             ultra  4409.919140  25.599769   \n",
       "1        1  Кира   22  Тюмень             ultra  2617.592153  15.816871   \n",
       "2        1  Кира   22  Тюмень             ultra   754.159807   6.232113   \n",
       "3        1  Кира   22  Тюмень             ultra  2694.783254  18.511000   \n",
       "4        1  Кира   22  Тюмень             ultra  4028.687306  26.265803   \n",
       "\n",
       "        date  month  minute_price  start_ride_price  subscription_fee  \n",
       "0 2021-01-01      1             6                 0               199  \n",
       "1 2021-01-18      1             6                 0               199  \n",
       "2 2021-04-20      4             6                 0               199  \n",
       "3 2021-08-11      8             6                 0               199  \n",
       "4 2021-08-28      8             6                 0               199  "
      ]
     },
     "execution_count": 104,
     "metadata": {},
     "output_type": "execute_result"
    }
   ],
   "source": [
    "merged_data = users.merge(rides, on='user_id').merge(subscriptions, on='subscription_type')\n",
    "merged_data.head()"
   ]
  },
  {
   "cell_type": "markdown",
   "id": "058673a3",
   "metadata": {},
   "source": [
    "Проверим на количество записей"
   ]
  },
  {
   "cell_type": "code",
   "execution_count": 105,
   "id": "ae816aaf",
   "metadata": {},
   "outputs": [
    {
     "data": {
      "text/plain": [
       "(17973, 5)"
      ]
     },
     "execution_count": 105,
     "metadata": {},
     "output_type": "execute_result"
    }
   ],
   "source": [
    "rides.shape"
   ]
  },
  {
   "cell_type": "code",
   "execution_count": 106,
   "id": "7b28f85f",
   "metadata": {
    "scrolled": true
   },
   "outputs": [
    {
     "data": {
      "text/plain": [
       "(17973, 12)"
      ]
     },
     "execution_count": 106,
     "metadata": {},
     "output_type": "execute_result"
    }
   ],
   "source": [
    "merged_data.shape"
   ]
  },
  {
   "cell_type": "markdown",
   "id": "6333d8d5",
   "metadata": {},
   "source": [
    "Создаем две новых таблицы - пользователи с подпиской(ultra) и без(free)"
   ]
  },
  {
   "cell_type": "code",
   "execution_count": 107,
   "id": "cbb54e88",
   "metadata": {},
   "outputs": [],
   "source": [
    "ultra_subs = merged_data[merged_data['subscription_type'] == 'ultra']\n",
    "free_subs = merged_data[merged_data['subscription_type'] == 'free']"
   ]
  },
  {
   "cell_type": "code",
   "execution_count": 108,
   "id": "559ba1bc",
   "metadata": {
    "scrolled": false
   },
   "outputs": [
    {
     "data": {
      "text/html": [
       "<div>\n",
       "<style scoped>\n",
       "    .dataframe tbody tr th:only-of-type {\n",
       "        vertical-align: middle;\n",
       "    }\n",
       "\n",
       "    .dataframe tbody tr th {\n",
       "        vertical-align: top;\n",
       "    }\n",
       "\n",
       "    .dataframe thead th {\n",
       "        text-align: right;\n",
       "    }\n",
       "</style>\n",
       "<table border=\"1\" class=\"dataframe\">\n",
       "  <thead>\n",
       "    <tr style=\"text-align: right;\">\n",
       "      <th></th>\n",
       "      <th>user_id</th>\n",
       "      <th>name</th>\n",
       "      <th>age</th>\n",
       "      <th>city</th>\n",
       "      <th>subscription_type</th>\n",
       "      <th>distance</th>\n",
       "      <th>duration</th>\n",
       "      <th>date</th>\n",
       "      <th>month</th>\n",
       "      <th>minute_price</th>\n",
       "      <th>start_ride_price</th>\n",
       "      <th>subscription_fee</th>\n",
       "    </tr>\n",
       "  </thead>\n",
       "  <tbody>\n",
       "    <tr>\n",
       "      <th>0</th>\n",
       "      <td>1</td>\n",
       "      <td>Кира</td>\n",
       "      <td>22</td>\n",
       "      <td>Тюмень</td>\n",
       "      <td>ultra</td>\n",
       "      <td>4409.919140</td>\n",
       "      <td>25.599769</td>\n",
       "      <td>2021-01-01</td>\n",
       "      <td>1</td>\n",
       "      <td>6</td>\n",
       "      <td>0</td>\n",
       "      <td>199</td>\n",
       "    </tr>\n",
       "    <tr>\n",
       "      <th>1</th>\n",
       "      <td>1</td>\n",
       "      <td>Кира</td>\n",
       "      <td>22</td>\n",
       "      <td>Тюмень</td>\n",
       "      <td>ultra</td>\n",
       "      <td>2617.592153</td>\n",
       "      <td>15.816871</td>\n",
       "      <td>2021-01-18</td>\n",
       "      <td>1</td>\n",
       "      <td>6</td>\n",
       "      <td>0</td>\n",
       "      <td>199</td>\n",
       "    </tr>\n",
       "    <tr>\n",
       "      <th>2</th>\n",
       "      <td>1</td>\n",
       "      <td>Кира</td>\n",
       "      <td>22</td>\n",
       "      <td>Тюмень</td>\n",
       "      <td>ultra</td>\n",
       "      <td>754.159807</td>\n",
       "      <td>6.232113</td>\n",
       "      <td>2021-04-20</td>\n",
       "      <td>4</td>\n",
       "      <td>6</td>\n",
       "      <td>0</td>\n",
       "      <td>199</td>\n",
       "    </tr>\n",
       "    <tr>\n",
       "      <th>3</th>\n",
       "      <td>1</td>\n",
       "      <td>Кира</td>\n",
       "      <td>22</td>\n",
       "      <td>Тюмень</td>\n",
       "      <td>ultra</td>\n",
       "      <td>2694.783254</td>\n",
       "      <td>18.511000</td>\n",
       "      <td>2021-08-11</td>\n",
       "      <td>8</td>\n",
       "      <td>6</td>\n",
       "      <td>0</td>\n",
       "      <td>199</td>\n",
       "    </tr>\n",
       "    <tr>\n",
       "      <th>4</th>\n",
       "      <td>1</td>\n",
       "      <td>Кира</td>\n",
       "      <td>22</td>\n",
       "      <td>Тюмень</td>\n",
       "      <td>ultra</td>\n",
       "      <td>4028.687306</td>\n",
       "      <td>26.265803</td>\n",
       "      <td>2021-08-28</td>\n",
       "      <td>8</td>\n",
       "      <td>6</td>\n",
       "      <td>0</td>\n",
       "      <td>199</td>\n",
       "    </tr>\n",
       "  </tbody>\n",
       "</table>\n",
       "</div>"
      ],
      "text/plain": [
       "   user_id  name  age    city subscription_type     distance   duration  \\\n",
       "0        1  Кира   22  Тюмень             ultra  4409.919140  25.599769   \n",
       "1        1  Кира   22  Тюмень             ultra  2617.592153  15.816871   \n",
       "2        1  Кира   22  Тюмень             ultra   754.159807   6.232113   \n",
       "3        1  Кира   22  Тюмень             ultra  2694.783254  18.511000   \n",
       "4        1  Кира   22  Тюмень             ultra  4028.687306  26.265803   \n",
       "\n",
       "        date  month  minute_price  start_ride_price  subscription_fee  \n",
       "0 2021-01-01      1             6                 0               199  \n",
       "1 2021-01-18      1             6                 0               199  \n",
       "2 2021-04-20      4             6                 0               199  \n",
       "3 2021-08-11      8             6                 0               199  \n",
       "4 2021-08-28      8             6                 0               199  "
      ]
     },
     "metadata": {},
     "output_type": "display_data"
    },
    {
     "data": {
      "text/html": [
       "<div>\n",
       "<style scoped>\n",
       "    .dataframe tbody tr th:only-of-type {\n",
       "        vertical-align: middle;\n",
       "    }\n",
       "\n",
       "    .dataframe tbody tr th {\n",
       "        vertical-align: top;\n",
       "    }\n",
       "\n",
       "    .dataframe thead th {\n",
       "        text-align: right;\n",
       "    }\n",
       "</style>\n",
       "<table border=\"1\" class=\"dataframe\">\n",
       "  <thead>\n",
       "    <tr style=\"text-align: right;\">\n",
       "      <th></th>\n",
       "      <th>user_id</th>\n",
       "      <th>name</th>\n",
       "      <th>age</th>\n",
       "      <th>city</th>\n",
       "      <th>subscription_type</th>\n",
       "      <th>distance</th>\n",
       "      <th>duration</th>\n",
       "      <th>date</th>\n",
       "      <th>month</th>\n",
       "      <th>minute_price</th>\n",
       "      <th>start_ride_price</th>\n",
       "      <th>subscription_fee</th>\n",
       "    </tr>\n",
       "  </thead>\n",
       "  <tbody>\n",
       "    <tr>\n",
       "      <th>6500</th>\n",
       "      <td>700</td>\n",
       "      <td>Айдар</td>\n",
       "      <td>22</td>\n",
       "      <td>Омск</td>\n",
       "      <td>free</td>\n",
       "      <td>2515.690719</td>\n",
       "      <td>14.944286</td>\n",
       "      <td>2021-01-02</td>\n",
       "      <td>1</td>\n",
       "      <td>8</td>\n",
       "      <td>50</td>\n",
       "      <td>0</td>\n",
       "    </tr>\n",
       "    <tr>\n",
       "      <th>6501</th>\n",
       "      <td>700</td>\n",
       "      <td>Айдар</td>\n",
       "      <td>22</td>\n",
       "      <td>Омск</td>\n",
       "      <td>free</td>\n",
       "      <td>846.932642</td>\n",
       "      <td>16.234663</td>\n",
       "      <td>2021-02-01</td>\n",
       "      <td>2</td>\n",
       "      <td>8</td>\n",
       "      <td>50</td>\n",
       "      <td>0</td>\n",
       "    </tr>\n",
       "    <tr>\n",
       "      <th>6502</th>\n",
       "      <td>700</td>\n",
       "      <td>Айдар</td>\n",
       "      <td>22</td>\n",
       "      <td>Омск</td>\n",
       "      <td>free</td>\n",
       "      <td>4004.434142</td>\n",
       "      <td>20.016628</td>\n",
       "      <td>2021-02-04</td>\n",
       "      <td>2</td>\n",
       "      <td>8</td>\n",
       "      <td>50</td>\n",
       "      <td>0</td>\n",
       "    </tr>\n",
       "    <tr>\n",
       "      <th>6503</th>\n",
       "      <td>700</td>\n",
       "      <td>Айдар</td>\n",
       "      <td>22</td>\n",
       "      <td>Омск</td>\n",
       "      <td>free</td>\n",
       "      <td>1205.911290</td>\n",
       "      <td>9.782872</td>\n",
       "      <td>2021-02-10</td>\n",
       "      <td>2</td>\n",
       "      <td>8</td>\n",
       "      <td>50</td>\n",
       "      <td>0</td>\n",
       "    </tr>\n",
       "    <tr>\n",
       "      <th>6504</th>\n",
       "      <td>700</td>\n",
       "      <td>Айдар</td>\n",
       "      <td>22</td>\n",
       "      <td>Омск</td>\n",
       "      <td>free</td>\n",
       "      <td>3047.379435</td>\n",
       "      <td>17.427673</td>\n",
       "      <td>2021-02-14</td>\n",
       "      <td>2</td>\n",
       "      <td>8</td>\n",
       "      <td>50</td>\n",
       "      <td>0</td>\n",
       "    </tr>\n",
       "  </tbody>\n",
       "</table>\n",
       "</div>"
      ],
      "text/plain": [
       "      user_id   name  age  city subscription_type     distance   duration  \\\n",
       "6500      700  Айдар   22  Омск              free  2515.690719  14.944286   \n",
       "6501      700  Айдар   22  Омск              free   846.932642  16.234663   \n",
       "6502      700  Айдар   22  Омск              free  4004.434142  20.016628   \n",
       "6503      700  Айдар   22  Омск              free  1205.911290   9.782872   \n",
       "6504      700  Айдар   22  Омск              free  3047.379435  17.427673   \n",
       "\n",
       "           date  month  minute_price  start_ride_price  subscription_fee  \n",
       "6500 2021-01-02      1             8                50                 0  \n",
       "6501 2021-02-01      2             8                50                 0  \n",
       "6502 2021-02-04      2             8                50                 0  \n",
       "6503 2021-02-10      2             8                50                 0  \n",
       "6504 2021-02-14      2             8                50                 0  "
      ]
     },
     "execution_count": 108,
     "metadata": {},
     "output_type": "execute_result"
    }
   ],
   "source": [
    "display(ultra_subs.head())\n",
    "free_subs.head()"
   ]
  },
  {
   "cell_type": "markdown",
   "id": "81934281",
   "metadata": {},
   "source": [
    "Визуализируем информацию о расстоянии и времени поездок"
   ]
  },
  {
   "cell_type": "code",
   "execution_count": 109,
   "id": "75dd0791",
   "metadata": {
    "scrolled": false
   },
   "outputs": [
    {
     "data": {
      "image/png": "[encoded data removed]",
      "text/plain": [
       "<Figure size 1080x360 with 3 Axes>"
      ]
     },
     "metadata": {
      "needs_background": "light"
     },
     "output_type": "display_data"
    }
   ],
   "source": [
    "fig, axs = plt.subplots(ncols=3, figsize=(15,5),gridspec_kw={'wspace': 0.2})\n",
    "free_subs['duration'].hist( bins=60, label='free',ax=axs[0],color='#9EA1D4')\n",
    "ultra_subs['duration'].hist( bins=60, label='ultra',ax=axs[0],color='#FD8A8A')\n",
    "axs[0].legend()\n",
    "axs[0].set_title('по времени поездки по подписке и без')\n",
    "free_subs['distance'].hist( bins=60, label='free',ax=axs[1],color='#9EA1D4')\n",
    "ultra_subs['distance'].hist( bins=60, label='ultra',ax=axs[1],color='#FD8A8A')\n",
    "axs[1].legend()\n",
    "axs[1].set_title('по расстоянию по подписке и без')\n",
    "merged_data['subscription_type'].value_counts().plot(kind='bar',rot=0,ax=axs[2],color=['#9EA1D4', '#FD8A8A'])\n",
    "axs[2].set_title('количество поездок с подпиской и без');"
   ]
  },
  {
   "cell_type": "code",
   "execution_count": 110,
   "id": "9aa2ea22",
   "metadata": {},
   "outputs": [
    {
     "name": "stdout",
     "output_type": "stream",
     "text": [
      "Процент поездок без подписки: 64%\n",
      "Процент поездок с подпиской: 36%\n"
     ]
    }
   ],
   "source": [
    "print('Процент поездок без подписки: ',\n",
    "      round(free_subs.shape[0]/merged_data.shape[0] * 100),'%', sep='')\n",
    "print('Процент поездок с подпиской: ',\n",
    "      round(ultra_subs.shape[0]/merged_data.shape[0] * 100),'%', sep='')"
   ]
  },
  {
   "cell_type": "code",
   "execution_count": 111,
   "id": "cc86d66c",
   "metadata": {},
   "outputs": [
    {
     "name": "stdout",
     "output_type": "stream",
     "text": [
      "Процент пользователей с подпиской: 46%\n",
      "Процент пользователей без подписки: 54%\n"
     ]
    }
   ],
   "source": [
    "print('Процент пользователей с подпиской: ',\n",
    "      round(users['subscription_type'].value_counts()['ultra']/users.shape[0] * 100),'%', sep='')\n",
    "print('Процент пользователей без подписки: ',\n",
    "      round(users['subscription_type'].value_counts()['free']/users.shape[0] * 100),'%', sep='')"
   ]
  },
  {
   "cell_type": "markdown",
   "id": "512c04c7",
   "metadata": {},
   "source": [
    "<div style=\"border: 3px solid blue; border-radius: 5px; padding: 10px;\">\n",
    "Вывод:\n",
    "    \n",
    "    Графики времени и расстояния довольно схожи по форме для пользоваателей с подпиской и без.\n",
    "    Однако видно, что пользователи с подпиской совершают гораздо меньшее количество поездкок.\n",
    "   "
   ]
  },
  {
   "cell_type": "markdown",
   "id": "64a85ba6",
   "metadata": {},
   "source": [
    "#### Шаг 5. Подсчёт выручки"
   ]
  },
  {
   "cell_type": "markdown",
   "id": "bdbe330c",
   "metadata": {},
   "source": [
    "Создадим новую табличку, хранящую выручку по месяцам"
   ]
  },
  {
   "cell_type": "code",
   "execution_count": 112,
   "id": "b24ad103",
   "metadata": {
    "scrolled": true
   },
   "outputs": [
    {
     "data": {
      "text/html": [
       "<div>\n",
       "<style scoped>\n",
       "    .dataframe tbody tr th:only-of-type {\n",
       "        vertical-align: middle;\n",
       "    }\n",
       "\n",
       "    .dataframe tbody tr th {\n",
       "        vertical-align: top;\n",
       "    }\n",
       "\n",
       "    .dataframe thead th {\n",
       "        text-align: right;\n",
       "    }\n",
       "</style>\n",
       "<table border=\"1\" class=\"dataframe\">\n",
       "  <thead>\n",
       "    <tr style=\"text-align: right;\">\n",
       "      <th></th>\n",
       "      <th>user_id</th>\n",
       "      <th>month</th>\n",
       "      <th>distance</th>\n",
       "      <th>duration</th>\n",
       "      <th>minute_price</th>\n",
       "      <th>count</th>\n",
       "      <th>start_ride_price</th>\n",
       "      <th>subscription_fee</th>\n",
       "      <th>subscription_type</th>\n",
       "    </tr>\n",
       "  </thead>\n",
       "  <tbody>\n",
       "    <tr>\n",
       "      <th>0</th>\n",
       "      <td>1</td>\n",
       "      <td>1</td>\n",
       "      <td>7027.511294</td>\n",
       "      <td>42.0</td>\n",
       "      <td>6</td>\n",
       "      <td>2</td>\n",
       "      <td>0</td>\n",
       "      <td>199</td>\n",
       "      <td>ultra</td>\n",
       "    </tr>\n",
       "    <tr>\n",
       "      <th>1</th>\n",
       "      <td>1</td>\n",
       "      <td>4</td>\n",
       "      <td>754.159807</td>\n",
       "      <td>7.0</td>\n",
       "      <td>6</td>\n",
       "      <td>1</td>\n",
       "      <td>0</td>\n",
       "      <td>199</td>\n",
       "      <td>ultra</td>\n",
       "    </tr>\n",
       "    <tr>\n",
       "      <th>2</th>\n",
       "      <td>1</td>\n",
       "      <td>8</td>\n",
       "      <td>6723.470560</td>\n",
       "      <td>46.0</td>\n",
       "      <td>6</td>\n",
       "      <td>2</td>\n",
       "      <td>0</td>\n",
       "      <td>199</td>\n",
       "      <td>ultra</td>\n",
       "    </tr>\n",
       "    <tr>\n",
       "      <th>3</th>\n",
       "      <td>1</td>\n",
       "      <td>10</td>\n",
       "      <td>5809.911100</td>\n",
       "      <td>32.0</td>\n",
       "      <td>6</td>\n",
       "      <td>2</td>\n",
       "      <td>0</td>\n",
       "      <td>199</td>\n",
       "      <td>ultra</td>\n",
       "    </tr>\n",
       "    <tr>\n",
       "      <th>4</th>\n",
       "      <td>1</td>\n",
       "      <td>11</td>\n",
       "      <td>7003.499363</td>\n",
       "      <td>56.0</td>\n",
       "      <td>6</td>\n",
       "      <td>3</td>\n",
       "      <td>0</td>\n",
       "      <td>199</td>\n",
       "      <td>ultra</td>\n",
       "    </tr>\n",
       "  </tbody>\n",
       "</table>\n",
       "</div>"
      ],
      "text/plain": [
       "   user_id  month     distance  duration  minute_price  count  \\\n",
       "0        1      1  7027.511294      42.0             6      2   \n",
       "1        1      4   754.159807       7.0             6      1   \n",
       "2        1      8  6723.470560      46.0             6      2   \n",
       "3        1     10  5809.911100      32.0             6      2   \n",
       "4        1     11  7003.499363      56.0             6      3   \n",
       "\n",
       "   start_ride_price  subscription_fee subscription_type  \n",
       "0                 0               199             ultra  \n",
       "1                 0               199             ultra  \n",
       "2                 0               199             ultra  \n",
       "3                 0               199             ultra  \n",
       "4                 0               199             ultra  "
      ]
     },
     "execution_count": 112,
     "metadata": {},
     "output_type": "execute_result"
    }
   ],
   "source": [
    "merged_data['duration'] = np.ceil(merged_data['duration'])\n",
    "revenue = merged_data.pivot_table( \n",
    "                        index=['user_id','month'],\n",
    "                        aggfunc={'distance': 'sum', \n",
    "                                 'duration': 'sum',\n",
    "                                 'name':'count',\n",
    "                                 'subscription_type':'first',\n",
    "                                 'minute_price':'first',\n",
    "                                 'start_ride_price':'first',\n",
    "                                 'subscription_fee':'first'})\n",
    "revenue.columns = ['distance','duration','minute_price','count','start_ride_price',\n",
    "                   'subscription_fee','subscription_type']\n",
    "revenue = revenue.reset_index()\n",
    "# revenue['duration'] = np.ceil(revenue['duration'])\n",
    "revenue.head()"
   ]
  },
  {
   "cell_type": "markdown",
   "id": "66da5e10",
   "metadata": {},
   "source": [
    "Считаем выручку"
   ]
  },
  {
   "cell_type": "code",
   "execution_count": 113,
   "id": "3d9e2363",
   "metadata": {
    "scrolled": true
   },
   "outputs": [
    {
     "data": {
      "text/html": [
       "<div>\n",
       "<style scoped>\n",
       "    .dataframe tbody tr th:only-of-type {\n",
       "        vertical-align: middle;\n",
       "    }\n",
       "\n",
       "    .dataframe tbody tr th {\n",
       "        vertical-align: top;\n",
       "    }\n",
       "\n",
       "    .dataframe thead th {\n",
       "        text-align: right;\n",
       "    }\n",
       "</style>\n",
       "<table border=\"1\" class=\"dataframe\">\n",
       "  <thead>\n",
       "    <tr style=\"text-align: right;\">\n",
       "      <th></th>\n",
       "      <th>user_id</th>\n",
       "      <th>month</th>\n",
       "      <th>distance</th>\n",
       "      <th>duration</th>\n",
       "      <th>minute_price</th>\n",
       "      <th>count</th>\n",
       "      <th>start_ride_price</th>\n",
       "      <th>subscription_fee</th>\n",
       "      <th>subscription_type</th>\n",
       "      <th>revenue</th>\n",
       "    </tr>\n",
       "  </thead>\n",
       "  <tbody>\n",
       "    <tr>\n",
       "      <th>0</th>\n",
       "      <td>1</td>\n",
       "      <td>1</td>\n",
       "      <td>7027.511294</td>\n",
       "      <td>42.0</td>\n",
       "      <td>6</td>\n",
       "      <td>2</td>\n",
       "      <td>0</td>\n",
       "      <td>199</td>\n",
       "      <td>ultra</td>\n",
       "      <td>451.0</td>\n",
       "    </tr>\n",
       "    <tr>\n",
       "      <th>1</th>\n",
       "      <td>1</td>\n",
       "      <td>4</td>\n",
       "      <td>754.159807</td>\n",
       "      <td>7.0</td>\n",
       "      <td>6</td>\n",
       "      <td>1</td>\n",
       "      <td>0</td>\n",
       "      <td>199</td>\n",
       "      <td>ultra</td>\n",
       "      <td>241.0</td>\n",
       "    </tr>\n",
       "    <tr>\n",
       "      <th>2</th>\n",
       "      <td>1</td>\n",
       "      <td>8</td>\n",
       "      <td>6723.470560</td>\n",
       "      <td>46.0</td>\n",
       "      <td>6</td>\n",
       "      <td>2</td>\n",
       "      <td>0</td>\n",
       "      <td>199</td>\n",
       "      <td>ultra</td>\n",
       "      <td>475.0</td>\n",
       "    </tr>\n",
       "    <tr>\n",
       "      <th>3</th>\n",
       "      <td>1</td>\n",
       "      <td>10</td>\n",
       "      <td>5809.911100</td>\n",
       "      <td>32.0</td>\n",
       "      <td>6</td>\n",
       "      <td>2</td>\n",
       "      <td>0</td>\n",
       "      <td>199</td>\n",
       "      <td>ultra</td>\n",
       "      <td>391.0</td>\n",
       "    </tr>\n",
       "    <tr>\n",
       "      <th>4</th>\n",
       "      <td>1</td>\n",
       "      <td>11</td>\n",
       "      <td>7003.499363</td>\n",
       "      <td>56.0</td>\n",
       "      <td>6</td>\n",
       "      <td>3</td>\n",
       "      <td>0</td>\n",
       "      <td>199</td>\n",
       "      <td>ultra</td>\n",
       "      <td>535.0</td>\n",
       "    </tr>\n",
       "  </tbody>\n",
       "</table>\n",
       "</div>"
      ],
      "text/plain": [
       "   user_id  month     distance  duration  minute_price  count  \\\n",
       "0        1      1  7027.511294      42.0             6      2   \n",
       "1        1      4   754.159807       7.0             6      1   \n",
       "2        1      8  6723.470560      46.0             6      2   \n",
       "3        1     10  5809.911100      32.0             6      2   \n",
       "4        1     11  7003.499363      56.0             6      3   \n",
       "\n",
       "   start_ride_price  subscription_fee subscription_type  revenue  \n",
       "0                 0               199             ultra    451.0  \n",
       "1                 0               199             ultra    241.0  \n",
       "2                 0               199             ultra    475.0  \n",
       "3                 0               199             ultra    391.0  \n",
       "4                 0               199             ultra    535.0  "
      ]
     },
     "execution_count": 113,
     "metadata": {},
     "output_type": "execute_result"
    }
   ],
   "source": [
    "revenue['revenue'] = (\n",
    "    revenue['start_ride_price'] * revenue['count'] \n",
    "    + revenue['minute_price'] * revenue['duration'] \n",
    "    + revenue['subscription_fee']\n",
    ")\n",
    "revenue.head()"
   ]
  },
  {
   "cell_type": "markdown",
   "id": "532f4f14",
   "metadata": {},
   "source": [
    "Создадим таблички с выручкой по подписчикам, это понадобиться на следующих шагах"
   ]
  },
  {
   "cell_type": "code",
   "execution_count": 114,
   "id": "e7b4e456",
   "metadata": {
    "scrolled": true
   },
   "outputs": [],
   "source": [
    "ultra_revenue = revenue.query('subscription_type == \"ultra\"').reset_index(drop=True)\n",
    "free_revenue = revenue.query('subscription_type == \"free\"').reset_index(drop=True)"
   ]
  },
  {
   "cell_type": "code",
   "execution_count": 115,
   "id": "9c36fdb0",
   "metadata": {},
   "outputs": [
    {
     "data": {
      "text/html": [
       "<div>\n",
       "<style scoped>\n",
       "    .dataframe tbody tr th:only-of-type {\n",
       "        vertical-align: middle;\n",
       "    }\n",
       "\n",
       "    .dataframe tbody tr th {\n",
       "        vertical-align: top;\n",
       "    }\n",
       "\n",
       "    .dataframe thead th {\n",
       "        text-align: right;\n",
       "    }\n",
       "</style>\n",
       "<table border=\"1\" class=\"dataframe\">\n",
       "  <thead>\n",
       "    <tr style=\"text-align: right;\">\n",
       "      <th></th>\n",
       "      <th>user_id</th>\n",
       "      <th>month</th>\n",
       "      <th>distance</th>\n",
       "      <th>duration</th>\n",
       "      <th>minute_price</th>\n",
       "      <th>count</th>\n",
       "      <th>start_ride_price</th>\n",
       "      <th>subscription_fee</th>\n",
       "      <th>subscription_type</th>\n",
       "      <th>revenue</th>\n",
       "    </tr>\n",
       "  </thead>\n",
       "  <tbody>\n",
       "    <tr>\n",
       "      <th>0</th>\n",
       "      <td>1</td>\n",
       "      <td>1</td>\n",
       "      <td>7027.511294</td>\n",
       "      <td>42.0</td>\n",
       "      <td>6</td>\n",
       "      <td>2</td>\n",
       "      <td>0</td>\n",
       "      <td>199</td>\n",
       "      <td>ultra</td>\n",
       "      <td>451.0</td>\n",
       "    </tr>\n",
       "    <tr>\n",
       "      <th>1</th>\n",
       "      <td>1</td>\n",
       "      <td>4</td>\n",
       "      <td>754.159807</td>\n",
       "      <td>7.0</td>\n",
       "      <td>6</td>\n",
       "      <td>1</td>\n",
       "      <td>0</td>\n",
       "      <td>199</td>\n",
       "      <td>ultra</td>\n",
       "      <td>241.0</td>\n",
       "    </tr>\n",
       "    <tr>\n",
       "      <th>2</th>\n",
       "      <td>1</td>\n",
       "      <td>8</td>\n",
       "      <td>6723.470560</td>\n",
       "      <td>46.0</td>\n",
       "      <td>6</td>\n",
       "      <td>2</td>\n",
       "      <td>0</td>\n",
       "      <td>199</td>\n",
       "      <td>ultra</td>\n",
       "      <td>475.0</td>\n",
       "    </tr>\n",
       "    <tr>\n",
       "      <th>3</th>\n",
       "      <td>1</td>\n",
       "      <td>10</td>\n",
       "      <td>5809.911100</td>\n",
       "      <td>32.0</td>\n",
       "      <td>6</td>\n",
       "      <td>2</td>\n",
       "      <td>0</td>\n",
       "      <td>199</td>\n",
       "      <td>ultra</td>\n",
       "      <td>391.0</td>\n",
       "    </tr>\n",
       "    <tr>\n",
       "      <th>4</th>\n",
       "      <td>1</td>\n",
       "      <td>11</td>\n",
       "      <td>7003.499363</td>\n",
       "      <td>56.0</td>\n",
       "      <td>6</td>\n",
       "      <td>3</td>\n",
       "      <td>0</td>\n",
       "      <td>199</td>\n",
       "      <td>ultra</td>\n",
       "      <td>535.0</td>\n",
       "    </tr>\n",
       "  </tbody>\n",
       "</table>\n",
       "</div>"
      ],
      "text/plain": [
       "   user_id  month     distance  duration  minute_price  count  \\\n",
       "0        1      1  7027.511294      42.0             6      2   \n",
       "1        1      4   754.159807       7.0             6      1   \n",
       "2        1      8  6723.470560      46.0             6      2   \n",
       "3        1     10  5809.911100      32.0             6      2   \n",
       "4        1     11  7003.499363      56.0             6      3   \n",
       "\n",
       "   start_ride_price  subscription_fee subscription_type  revenue  \n",
       "0                 0               199             ultra    451.0  \n",
       "1                 0               199             ultra    241.0  \n",
       "2                 0               199             ultra    475.0  \n",
       "3                 0               199             ultra    391.0  \n",
       "4                 0               199             ultra    535.0  "
      ]
     },
     "metadata": {},
     "output_type": "display_data"
    },
    {
     "data": {
      "text/html": [
       "<div>\n",
       "<style scoped>\n",
       "    .dataframe tbody tr th:only-of-type {\n",
       "        vertical-align: middle;\n",
       "    }\n",
       "\n",
       "    .dataframe tbody tr th {\n",
       "        vertical-align: top;\n",
       "    }\n",
       "\n",
       "    .dataframe thead th {\n",
       "        text-align: right;\n",
       "    }\n",
       "</style>\n",
       "<table border=\"1\" class=\"dataframe\">\n",
       "  <thead>\n",
       "    <tr style=\"text-align: right;\">\n",
       "      <th></th>\n",
       "      <th>user_id</th>\n",
       "      <th>month</th>\n",
       "      <th>distance</th>\n",
       "      <th>duration</th>\n",
       "      <th>minute_price</th>\n",
       "      <th>count</th>\n",
       "      <th>start_ride_price</th>\n",
       "      <th>subscription_fee</th>\n",
       "      <th>subscription_type</th>\n",
       "      <th>revenue</th>\n",
       "    </tr>\n",
       "  </thead>\n",
       "  <tbody>\n",
       "    <tr>\n",
       "      <th>0</th>\n",
       "      <td>700</td>\n",
       "      <td>1</td>\n",
       "      <td>2515.690719</td>\n",
       "      <td>15.0</td>\n",
       "      <td>8</td>\n",
       "      <td>1</td>\n",
       "      <td>50</td>\n",
       "      <td>0</td>\n",
       "      <td>free</td>\n",
       "      <td>170.0</td>\n",
       "    </tr>\n",
       "    <tr>\n",
       "      <th>1</th>\n",
       "      <td>700</td>\n",
       "      <td>2</td>\n",
       "      <td>13446.659764</td>\n",
       "      <td>89.0</td>\n",
       "      <td>8</td>\n",
       "      <td>5</td>\n",
       "      <td>50</td>\n",
       "      <td>0</td>\n",
       "      <td>free</td>\n",
       "      <td>962.0</td>\n",
       "    </tr>\n",
       "    <tr>\n",
       "      <th>2</th>\n",
       "      <td>700</td>\n",
       "      <td>3</td>\n",
       "      <td>3798.334905</td>\n",
       "      <td>19.0</td>\n",
       "      <td>8</td>\n",
       "      <td>1</td>\n",
       "      <td>50</td>\n",
       "      <td>0</td>\n",
       "      <td>free</td>\n",
       "      <td>202.0</td>\n",
       "    </tr>\n",
       "    <tr>\n",
       "      <th>3</th>\n",
       "      <td>700</td>\n",
       "      <td>4</td>\n",
       "      <td>2984.551206</td>\n",
       "      <td>16.0</td>\n",
       "      <td>8</td>\n",
       "      <td>1</td>\n",
       "      <td>50</td>\n",
       "      <td>0</td>\n",
       "      <td>free</td>\n",
       "      <td>178.0</td>\n",
       "    </tr>\n",
       "    <tr>\n",
       "      <th>4</th>\n",
       "      <td>700</td>\n",
       "      <td>6</td>\n",
       "      <td>5927.650988</td>\n",
       "      <td>29.0</td>\n",
       "      <td>8</td>\n",
       "      <td>2</td>\n",
       "      <td>50</td>\n",
       "      <td>0</td>\n",
       "      <td>free</td>\n",
       "      <td>332.0</td>\n",
       "    </tr>\n",
       "  </tbody>\n",
       "</table>\n",
       "</div>"
      ],
      "text/plain": [
       "   user_id  month      distance  duration  minute_price  count  \\\n",
       "0      700      1   2515.690719      15.0             8      1   \n",
       "1      700      2  13446.659764      89.0             8      5   \n",
       "2      700      3   3798.334905      19.0             8      1   \n",
       "3      700      4   2984.551206      16.0             8      1   \n",
       "4      700      6   5927.650988      29.0             8      2   \n",
       "\n",
       "   start_ride_price  subscription_fee subscription_type  revenue  \n",
       "0                50                 0              free    170.0  \n",
       "1                50                 0              free    962.0  \n",
       "2                50                 0              free    202.0  \n",
       "3                50                 0              free    178.0  \n",
       "4                50                 0              free    332.0  "
      ]
     },
     "execution_count": 115,
     "metadata": {},
     "output_type": "execute_result"
    }
   ],
   "source": [
    "display(ultra_revenue.head())\n",
    "free_revenue.head()"
   ]
  },
  {
   "cell_type": "markdown",
   "id": "0f0ff12f",
   "metadata": {},
   "source": [
    "#### Шаг 6. Проверка гипотез"
   ]
  },
  {
   "cell_type": "markdown",
   "id": "bccc6cca",
   "metadata": {},
   "source": [
    "Важно понять, тратят ли пользователи с подпиской больше времени на поездки? Если да, то пользователи с подпиской могут быть «выгоднее» для компании. Проверьте гипотезу. Используйте исходные данные о продолжительности каждой сессии — отдельно для подписчиков и тех, у кого нет подписки."
   ]
  },
  {
   "cell_type": "markdown",
   "id": "fb7844aa",
   "metadata": {},
   "source": [
    "Нулевая гипотеза:\n",
    "\n",
    "- среднее время поездки для пользователей с подпиской и без равно\n",
    "\n",
    "Альтернативная гипотеза:\n",
    "\n",
    "- среднее время поездки для пользователей с подпиской больше чем у пользователей без подписки"
   ]
  },
  {
   "cell_type": "markdown",
   "id": "32289e55",
   "metadata": {},
   "source": [
    "Посмотрим на стандартное отклонение и дисперсию"
   ]
  },
  {
   "cell_type": "code",
   "execution_count": 117,
   "id": "cd21d8f9",
   "metadata": {},
   "outputs": [
    {
     "name": "stdout",
     "output_type": "stream",
     "text": [
      "5.572048329261366\n"
     ]
    },
    {
     "data": {
      "text/plain": [
       "6.162608726726466"
      ]
     },
     "execution_count": 117,
     "metadata": {},
     "output_type": "execute_result"
    }
   ],
   "source": [
    "print(ultra_subs['duration'].std())\n",
    "free_subs['duration'].std()"
   ]
  },
  {
   "cell_type": "code",
   "execution_count": 118,
   "id": "d5f34cfe",
   "metadata": {},
   "outputs": [
    {
     "name": "stdout",
     "output_type": "stream",
     "text": [
      "31.047722583624388\n"
     ]
    },
    {
     "data": {
      "text/plain": [
       "37.977746318725195"
      ]
     },
     "execution_count": 118,
     "metadata": {},
     "output_type": "execute_result"
    }
   ],
   "source": [
    "print(np.var(ultra_subs['duration'], ddof=1))\n",
    "np.var(free_subs['duration'], ddof=1)"
   ]
  },
  {
   "cell_type": "markdown",
   "id": "85f3c556",
   "metadata": {},
   "source": [
    "Стандартные отклонения и дисперсии различаются, учтем это при проверке гипотезы"
   ]
  },
  {
   "cell_type": "code",
   "execution_count": 119,
   "id": "7582e793",
   "metadata": {
    "scrolled": true
   },
   "outputs": [
    {
     "name": "stdout",
     "output_type": "stream",
     "text": [
      "p-значение: 1.6162210195311063e-29\n",
      "Отвергаем нулевую гипотезу: среднее время поездки для пользователей с подпиской и без равно\n"
     ]
    }
   ],
   "source": [
    "alpha = .05\n",
    "\n",
    "result = st.ttest_ind(\n",
    "    ultra_subs['duration'], \n",
    "    free_subs['duration'], \n",
    "    equal_var=False,\n",
    "    alternative='greater')\n",
    "    \n",
    "print('p-значение:', result.pvalue)\n",
    "    \n",
    "if (result.pvalue < alpha):\n",
    "    print(\"Отвергаем нулевую гипотезу: среднее время поездки для пользователей с подпиской и без равно\")\n",
    "else:\n",
    "    print(\"Не отвергаем нулевую гипотезу: среднее время поездки для пользователей с подпиской больше чем у пользователей без подписки\")"
   ]
  },
  {
   "cell_type": "code",
   "execution_count": 120,
   "id": "f9c627f8",
   "metadata": {},
   "outputs": [
    {
     "name": "stdout",
     "output_type": "stream",
     "text": [
      "Среднее время поездки ultra:  18.54198516280583\n",
      "Среднее время поездки free:  17.530771268800226\n"
     ]
    }
   ],
   "source": [
    "print('Среднее время поездки ultra: ',ultra_subs['duration'].mean())\n",
    "print('Среднее время поездки free: ',free_subs['duration'].mean())"
   ]
  },
  {
   "cell_type": "markdown",
   "id": "de386d6b",
   "metadata": {},
   "source": [
    "<div style=\"border: 3px solid blue; border-radius: 5px; padding: 10px;\">\n",
    "Вывод:\n",
    "    \n",
    "    Основываясь на полученных результатах, можно отвергнуть нулевую гипотезу, среднее время поездки для пользователей с подпиской и без - равно. \n",
    "    Так как тест был односторонний, то можно сказать, что среднее время поездки пользователей с подпиской больше"
   ]
  },
  {
   "cell_type": "markdown",
   "id": "50016944",
   "metadata": {},
   "source": [
    "___"
   ]
  },
  {
   "cell_type": "markdown",
   "id": "e3ec1978",
   "metadata": {},
   "source": [
    "Расстояние одной поездки в 3130 метров — оптимальное с точки зрения износа самоката. Можно ли сказать, что расстояние, которое проезжают пользователи с подпиской за одну поездку, не превышает 3130 метров? Проверьте гипотезу и сделайте выводы."
   ]
  },
  {
   "cell_type": "markdown",
   "id": "b85434a4",
   "metadata": {},
   "source": [
    "Нулевая гипотеза:\n",
    "\n",
    "- среднее расстояние поездки пользователей с подпиской - 3130м\n",
    "\n",
    "Альтернативная гипотеза:\n",
    "\n",
    "- среднее расстояние поездки пользователей с подпиской превышает 3130м"
   ]
  },
  {
   "cell_type": "code",
   "execution_count": 121,
   "id": "3b849cf7",
   "metadata": {
    "scrolled": false
   },
   "outputs": [
    {
     "name": "stdout",
     "output_type": "stream",
     "text": [
      "p-значение: 0.9195368847849785\n",
      "Не отвергаем нулевую гипотезу: нет достаточных доказательств,что среднее расстояние поездок пользователей с подпиской больше 3130\n"
     ]
    }
   ],
   "source": [
    "test_m = 3130 \n",
    "\n",
    "result = st.ttest_1samp(ultra_subs['distance'], test_m, alternative='greater')\n",
    "\n",
    "alpha = 0.05  \n",
    "print('p-значение:', result.pvalue)\n",
    "if result.pvalue < alpha:\n",
    "    print(\"Отвергаем нулевую гипотезу: среднее расстояние поездок пользователей с подпиской больше\", test_m)\n",
    "else:\n",
    "    print(\"Не отвергаем нулевую гипотезу: нет достаточных доказательств,\\\n",
    "что среднее расстояние поездок пользователей с подпиской больше\", \n",
    "          test_m)"
   ]
  },
  {
   "cell_type": "code",
   "execution_count": 122,
   "id": "c5ea72d3",
   "metadata": {},
   "outputs": [
    {
     "name": "stdout",
     "output_type": "stream",
     "text": [
      "Среднее расстояние поездки ultra:  3115.4453880370247\n"
     ]
    }
   ],
   "source": [
    "print('Среднее расстояние поездки ultra: ',ultra_subs['distance'].mean())"
   ]
  },
  {
   "cell_type": "markdown",
   "id": "0fe509e0",
   "metadata": {},
   "source": [
    "<div style=\"border: 3px solid blue; border-radius: 5px; padding: 10px;\">\n",
    "Вывод:\n",
    "    \n",
    "    Основываясь на полученных результатах, нельзя отвргнуть нулевую гипотезу. \n",
    "    То есть нельзя утверждать, что среднее расстояние поездки пользователей с подпиской меньше 3130 метров"
   ]
  },
  {
   "cell_type": "markdown",
   "id": "61327e41",
   "metadata": {},
   "source": [
    "___"
   ]
  },
  {
   "cell_type": "markdown",
   "id": "02c01900",
   "metadata": {},
   "source": [
    " Проверьте гипотезу о том, будет ли помесячная выручка от пользователей с подпиской по месяцам выше, чем выручка от пользователей без подписки. Сделайте вывод."
   ]
  },
  {
   "cell_type": "markdown",
   "id": "84aff3a4",
   "metadata": {},
   "source": [
    "Нулевая гипотеза:\n",
    "\n",
    "- средняя выручка по месяцам от пользователей с подпиской равна выручке от пользователей без\n",
    "\n",
    "Альтернативная гипотеза:\n",
    "\n",
    "- средняя выручка по месяцам от пользователей с подпиской выше чем у пользователей без"
   ]
  },
  {
   "cell_type": "markdown",
   "id": "31093c23",
   "metadata": {},
   "source": [
    "Посмотрим на стандартное отклонение и дисперсию"
   ]
  },
  {
   "cell_type": "code",
   "execution_count": 123,
   "id": "2a0d09cc",
   "metadata": {
    "scrolled": true
   },
   "outputs": [
    {
     "name": "stdout",
     "output_type": "stream",
     "text": [
      "88.26273694686297\n"
     ]
    },
    {
     "data": {
      "text/plain": [
       "183.2684188935208"
      ]
     },
     "execution_count": 123,
     "metadata": {},
     "output_type": "execute_result"
    }
   ],
   "source": [
    "print(ultra_revenue['revenue'].std())\n",
    "free_revenue['revenue'].std()"
   ]
  },
  {
   "cell_type": "markdown",
   "id": "cf662ac0",
   "metadata": {},
   "source": [
    "Стандартные отклонения и дисперсии различаются, учтем это при проверке гипотезы"
   ]
  },
  {
   "cell_type": "code",
   "execution_count": 124,
   "id": "7ecd3637",
   "metadata": {},
   "outputs": [
    {
     "name": "stdout",
     "output_type": "stream",
     "text": [
      "7790.31073335113\n"
     ]
    },
    {
     "data": {
      "text/plain": [
       "33587.31336373101"
      ]
     },
     "execution_count": 124,
     "metadata": {},
     "output_type": "execute_result"
    }
   ],
   "source": [
    "print(np.var(ultra_revenue['revenue'], ddof=1))\n",
    "np.var(free_revenue['revenue'], ddof=1)"
   ]
  },
  {
   "cell_type": "code",
   "execution_count": 125,
   "id": "2b327772",
   "metadata": {
    "scrolled": false
   },
   "outputs": [
    {
     "name": "stdout",
     "output_type": "stream",
     "text": [
      "p-значение: 2.4970242872858465e-38\n",
      "Отвергаем нулевую гипотезу: средняя выручка по месяцам от пользователей с подпиской выше чем у пользователей без\n"
     ]
    }
   ],
   "source": [
    "alpha = .05\n",
    "\n",
    "result = st.ttest_ind(\n",
    "    ultra_revenue['revenue'], \n",
    "    free_revenue['revenue'], \n",
    "    equal_var=False,\n",
    "    alternative='greater')\n",
    "    \n",
    "print('p-значение:', result.pvalue)\n",
    "    \n",
    "if (result.pvalue < alpha):\n",
    "    print(\"Отвергаем нулевую гипотезу: средняя выручка по месяцам от пользователей с \\\n",
    "подпиской выше чем у пользователей без\")\n",
    "else:\n",
    "    print(\"Не получилось отвергнуть нулевую гипотезу: нет достаточных доказательств,\\\n",
    "что средняя выручка по месяцам от пользователей с подпиской выше чем у пользователей без\")"
   ]
  },
  {
   "cell_type": "code",
   "execution_count": 126,
   "id": "7cf0aded",
   "metadata": {},
   "outputs": [
    {
     "name": "stdout",
     "output_type": "stream",
     "text": [
      "Средня выручка ultra:  362.7921906022502\n",
      "Средня выручка free:  329.3326437121324\n"
     ]
    }
   ],
   "source": [
    "print('Средня выручка ultra: ',ultra_revenue['revenue'].mean())\n",
    "print('Средня выручка free: ',free_revenue['revenue'].mean())"
   ]
  },
  {
   "cell_type": "markdown",
   "id": "566f82c8",
   "metadata": {},
   "source": [
    "<div style=\"border: 3px solid blue; border-radius: 5px; padding: 10px;\">\n",
    "Вывод:\n",
    "    \n",
    "    Основываясь на полученных результатах, можно отвергнуть нулевую гипотезу.\n",
    "    Так как тест был односторонний, то можно сказать, что средняя выручка по месяцам от пользователей с подпиской выше чем \n",
    "    у пользователей без"
   ]
  },
  {
   "cell_type": "markdown",
   "id": "53db8611",
   "metadata": {},
   "source": [
    "___"
   ]
  },
  {
   "cell_type": "markdown",
   "id": "f459050b",
   "metadata": {},
   "source": [
    " Представьте такую ситуацию: техническая команда сервиса обновила сервера, с которыми взаимодействует мобильное приложение. Она надеется, что из-за этого количество обращений в техподдержку значимо снизилось. Некоторый файл содержит для каждого пользователя данные о количестве обращений до обновления и после него. Какой тест вам понадобился бы для проверки этой гипотезы?"
   ]
  },
  {
   "cell_type": "markdown",
   "id": "26196664",
   "metadata": {},
   "source": [
    "Ответ:\n",
    "\n",
    "Нулевая гипотеза:\n",
    "\n",
    "- количество обращений **до** изменений и **после** - равно\n",
    "\n",
    "Альтернативная гипотеза:\n",
    "\n",
    "- количество обращений **после** изменений меньше, чем **до** изменений\n",
    "\n",
    "Так как проверка гипотезы происходит на зависимых выборках (для конкретного пользователя есть данные о количестве обращений до обновления и после), понадобится односторонний тест для двух зависимых выборок:\n",
    "\n",
    "`stats.ttest_rel(after, before, alternative='less')`\n",
    "\n",
    "где:\n",
    "\n",
    "`after` - выборка по пользователям после обновления\n",
    "\n",
    "`before` - выборка по пользователям до обновлений\n",
    "\n",
    "`alternative = 'less'` - альтернативная гипотеза говорит о том, что среднее по `after` меньше чем в `before`"
   ]
  },
  {
   "cell_type": "markdown",
   "id": "d5ff7664",
   "metadata": {},
   "source": [
    "#### Шаг 7. Распределения"
   ]
  },
  {
   "cell_type": "markdown",
   "id": "200eb895",
   "metadata": {},
   "source": [
    "Отделу маркетинга GoFast поставили задачу: нужно провести акцию с раздачей промокодов на один бесплатный месяц подписки, в рамках которой как минимум 100 существующих клиентов должны продлить эту подписку. То есть по завершении периода действия подписки пользователь может либо отказаться от неё, либо продлить, совершив соотвествующий платёж. \n",
    "\n",
    "Эта акция уже проводилась ранее и по итогу выяснилось, что после бесплатного пробного периода подписку продлевают \n",
    "10% пользователей. Выясните, какое минимальное количество промокодов нужно разослать, чтобы вероятность не выполнить план была примерно 5 %. Подберите параметры распределения, описывающего эту ситуацию, постройте график распределения и сформулируйте ответ на вопрос о количестве промокодов."
   ]
  },
  {
   "cell_type": "code",
   "execution_count": 128,
   "id": "089e1777",
   "metadata": {
    "scrolled": false
   },
   "outputs": [
    {
     "data": {
      "image/png": "[encoded data removed]",
      "text/plain": [
       "<Figure size 432x288 with 1 Axes>"
      ]
     },
     "metadata": {
      "needs_background": "light"
     },
     "output_type": "display_data"
    }
   ],
   "source": [
    "p = 1/10\n",
    "n = 300\n",
    "distr = []\n",
    "\n",
    "for k in range(0, n + 1):\n",
    "    current_value = binom.pmf(k, n, p)\n",
    "    distr.append(current_value)\n",
    "    \n",
    "plt.bar(range(0, n + 1), distr);"
   ]
  },
  {
   "cell_type": "markdown",
   "id": "f26420b8",
   "metadata": {},
   "source": [
    "Подберем количество нужное количество промокодов"
   ]
  },
  {
   "cell_type": "code",
   "execution_count": 129,
   "id": "9d853b08",
   "metadata": {
    "scrolled": true
   },
   "outputs": [
    {
     "name": "stdout",
     "output_type": "stream",
     "text": [
      "0.04954795210203071\n",
      "1172\n"
     ]
    }
   ],
   "source": [
    "p = 1/10\n",
    "k = 100\n",
    "for i in range(1,5000):\n",
    "    cdf = binom.cdf(k, i, p)\n",
    "    if cdf <= 0.05:\n",
    "        print(cdf)\n",
    "        print(i)\n",
    "        break"
   ]
  },
  {
   "cell_type": "markdown",
   "id": "2aa5d62f",
   "metadata": {},
   "source": [
    "<div style=\"border: 3px solid blue; border-radius: 5px; padding: 10px;\">\n",
    "Вывод:\n",
    "    \n",
    "    Для успешного проведения акции нужно разослать не меньше 1172 промокодов"
   ]
  },
  {
   "cell_type": "markdown",
   "id": "f640272a",
   "metadata": {},
   "source": [
    "___"
   ]
  },
  {
   "cell_type": "markdown",
   "id": "062fa34e",
   "metadata": {},
   "source": [
    "Отдел маркетинга рассылает клиентам push-уведомления в мобильном приложении. Клиенты могут открыть его или не открывать. Известно, что уведомления открывают около 40 % получивших клиентов. Отдел планирует разослать 1 млн уведомлений. С помощью аппроксимации постройте примерный график распределения и оцените вероятность того, что уведомление откроют не более \n",
    "399,5 тыс. пользователей."
   ]
  },
  {
   "cell_type": "markdown",
   "id": "9b37a892",
   "metadata": {},
   "source": [
    "проверим, подходит ли апроксимация нормальным распределением"
   ]
  },
  {
   "cell_type": "code",
   "execution_count": 130,
   "id": "b2000db4",
   "metadata": {},
   "outputs": [
    {
     "name": "stdout",
     "output_type": "stream",
     "text": [
      "Условие выполняется\n"
     ]
    }
   ],
   "source": [
    "p = 4/10\n",
    "n = 10**6\n",
    "mu = n * p\n",
    "sigma = (n * p * (1 - p))**(0.5)\n",
    "if (mu - (3 * sigma) >= 0) and ((mu + (3 * sigma) <= n)):\n",
    "    print('Условие выполняется')\n",
    "else:\n",
    "    print('Условие не выполняется')"
   ]
  },
  {
   "cell_type": "code",
   "execution_count": 131,
   "id": "81f42a50",
   "metadata": {
    "scrolled": true
   },
   "outputs": [
    {
     "name": "stdout",
     "output_type": "stream",
     "text": [
      "Вероятность - 0.15371708296369768\n"
     ]
    }
   ],
   "source": [
    "distr = st.norm(mu, sigma) \n",
    "y_1 = 399500\n",
    "result = distr.cdf(y_1)\n",
    "print('Вероятность -',result)"
   ]
  },
  {
   "cell_type": "markdown",
   "id": "a43255bb",
   "metadata": {},
   "source": [
    "Построим график"
   ]
  },
  {
   "cell_type": "code",
   "execution_count": 132,
   "id": "07af1c21",
   "metadata": {},
   "outputs": [
    {
     "data": {
      "image/png": "[encoded data removed]",
      "text/plain": [
       "<Figure size 432x288 with 1 Axes>"
      ]
     },
     "metadata": {
      "needs_background": "light"
     },
     "output_type": "display_data"
    }
   ],
   "source": [
    "x = np.linspace(mu - 3*sigma, mu + 3*sigma, 100)\n",
    "y = (1/(sigma * np.sqrt(2*np.pi))) * np.exp(-(x - mu)**2 / (2*sigma**2))\n",
    "plt.plot(x, y)\n",
    "plt.fill_between(x, y, where=(x <= y_1), color='skyblue', alpha=0.5)\n",
    "\n",
    "plt.xlabel('Колво пользователей')\n",
    "plt.ylabel('Плотность вероятности')\n",
    "plt.title('График нормального распределения')\n",
    "\n",
    "plt.show()"
   ]
  },
  {
   "cell_type": "markdown",
   "id": "adc3c33b",
   "metadata": {},
   "source": [
    "<div style=\"border: 3px solid blue; border-radius: 5px; padding: 10px;\">\n",
    "Вывод:\n",
    "    \n",
    "    Вероятность, что уведомления откроет не более 399,5тыс клиентов - 15%"
   ]
  },
  {
   "cell_type": "markdown",
   "id": "0ffdb359",
   "metadata": {},
   "source": [
    "#### Общий вывод"
   ]
  },
  {
   "cell_type": "markdown",
   "id": "00d54be7",
   "metadata": {},
   "source": [
    "Были проанализированы данные о пользователях сервиса аренды самокатов.\n",
    "\n",
    "Было сделано следующее:\n",
    "\n",
    "- Предобработка данных: приведение типов, удаление пропусков, добавление столбца с месяцами, обработка аномалий\n",
    "\n",
    "- Просмотрены разные параметры и получены выводы:\n",
    "    - Количество пользователей в городах, где есть сервис примерно одинаково, однако по процентному соотношению по населению в городе на первом месте **Пятигорск**, а на последнем **Москва**\n",
    "    - Пользователей с подпиской и без - 45.6% и 54.4% соответственно\n",
    "    - Среднийий возраст пользователей - 25 лет. Процент пользователей возрастом 20-30 лет: 77%\n",
    "    - Среднее растояние за поездку - 3060 м., однако есть небольшое увеличение количества поездкок длинной 0-1000 метров. Среднее не меняется от времени года или города\n",
    "    - Среднее время за поездку - 18 мин. Среднее не меняется от времени года или города\n",
    "    - Распределения по времени и расстоянии поездок у пользователей с подпиской и без схожи. Однако пользователи с подписки совершают гораздно меньше поездкок, чем пользователи без - 36% и 64% соответственно\n",
    "- Были соданы дополнительные таблички, хранящие выручку с пользователей с подпиской и без\n",
    "- Были проверены некоторые гипоезы\n",
    "- Была проведена работа с биномиальным и нормальными распредлениями:\n",
    "    - чтобы акция с рассылкй промокодов прошла успешно, нужно отправить не меньше 1172 промокодов\n",
    "    - вероятность того, что из 1 млн пользователей уведомления открыли только 399.5 тыс - 15%\n"
   ]
  },
  {
   "cell_type": "code",
   "execution_count": null,
   "id": "b9d83613",
   "metadata": {},
   "outputs": [],
   "source": []
  }
 ],
 "metadata": {
  "ExecuteTimeLog": [
   {
    "duration": 405,
    "start_time": "2023-05-26T19:22:10.843Z"
   },
   {
    "duration": 200,
    "start_time": "2023-05-26T19:22:54.525Z"
   },
   {
    "duration": 16,
    "start_time": "2023-05-26T19:23:22.109Z"
   },
   {
    "duration": 9,
    "start_time": "2023-05-26T19:23:30.622Z"
   },
   {
    "duration": 8,
    "start_time": "2023-05-26T19:23:39.009Z"
   },
   {
    "duration": 20,
    "start_time": "2023-05-26T19:24:19.257Z"
   },
   {
    "duration": 19,
    "start_time": "2023-05-26T19:24:37.645Z"
   },
   {
    "duration": 21,
    "start_time": "2023-05-26T19:24:53.707Z"
   },
   {
    "duration": 98,
    "start_time": "2023-05-26T19:27:00.324Z"
   },
   {
    "duration": 17,
    "start_time": "2023-05-26T19:27:29.701Z"
   },
   {
    "duration": 10,
    "start_time": "2023-05-26T19:27:40.612Z"
   },
   {
    "duration": 488,
    "start_time": "2023-05-26T19:27:45.536Z"
   },
   {
    "duration": 10,
    "start_time": "2023-05-26T19:27:54.111Z"
   },
   {
    "duration": 19,
    "start_time": "2023-05-26T19:28:07.407Z"
   },
   {
    "duration": 4,
    "start_time": "2023-05-26T19:30:41.125Z"
   },
   {
    "duration": 4,
    "start_time": "2023-05-26T19:30:51.738Z"
   },
   {
    "duration": 13,
    "start_time": "2023-05-26T19:31:01.644Z"
   },
   {
    "duration": 9,
    "start_time": "2023-05-26T19:31:51.428Z"
   },
   {
    "duration": 13,
    "start_time": "2023-05-26T19:32:17.001Z"
   },
   {
    "duration": 11,
    "start_time": "2023-05-26T19:32:56.707Z"
   },
   {
    "duration": 7,
    "start_time": "2023-05-26T19:33:04.044Z"
   },
   {
    "duration": 5,
    "start_time": "2023-05-26T19:37:47.314Z"
   },
   {
    "duration": 7,
    "start_time": "2023-05-26T19:37:52.817Z"
   },
   {
    "duration": 9,
    "start_time": "2023-05-26T19:38:32.146Z"
   },
   {
    "duration": 8,
    "start_time": "2023-05-26T19:39:19.217Z"
   },
   {
    "duration": 70,
    "start_time": "2023-05-26T19:39:45.308Z"
   },
   {
    "duration": 14,
    "start_time": "2023-05-26T19:39:59.084Z"
   },
   {
    "duration": 518,
    "start_time": "2023-05-26T19:42:47.603Z"
   },
   {
    "duration": 122,
    "start_time": "2023-05-26T19:42:51.330Z"
   },
   {
    "duration": 125,
    "start_time": "2023-05-26T19:46:22.246Z"
   },
   {
    "duration": 149,
    "start_time": "2023-05-26T19:46:25.907Z"
   },
   {
    "duration": 5,
    "start_time": "2023-05-26T19:46:49.738Z"
   },
   {
    "duration": 11,
    "start_time": "2023-05-26T19:47:44.211Z"
   },
   {
    "duration": 184,
    "start_time": "2023-05-26T19:47:59.927Z"
   },
   {
    "duration": 130,
    "start_time": "2023-05-26T19:48:04.678Z"
   },
   {
    "duration": 114,
    "start_time": "2023-05-26T19:48:08.530Z"
   },
   {
    "duration": 115,
    "start_time": "2023-05-26T19:48:10.721Z"
   },
   {
    "duration": 175,
    "start_time": "2023-05-26T19:48:55.378Z"
   },
   {
    "duration": 21,
    "start_time": "2023-05-26T19:50:00.625Z"
   },
   {
    "duration": 200,
    "start_time": "2023-05-26T19:50:42.718Z"
   },
   {
    "duration": 143,
    "start_time": "2023-05-26T19:50:49.581Z"
   },
   {
    "duration": 127,
    "start_time": "2023-05-26T19:51:00.110Z"
   },
   {
    "duration": 580,
    "start_time": "2023-05-26T19:53:20.383Z"
   },
   {
    "duration": 88,
    "start_time": "2023-05-26T19:55:06.849Z"
   },
   {
    "duration": 117,
    "start_time": "2023-05-26T19:55:11.027Z"
   },
   {
    "duration": 131,
    "start_time": "2023-05-26T20:01:31.919Z"
   },
   {
    "duration": 119,
    "start_time": "2023-05-26T20:02:31.126Z"
   },
   {
    "duration": 118,
    "start_time": "2023-05-26T20:02:52.841Z"
   },
   {
    "duration": 119,
    "start_time": "2023-05-26T20:04:05.023Z"
   },
   {
    "duration": 118,
    "start_time": "2023-05-26T20:04:09.604Z"
   },
   {
    "duration": 126,
    "start_time": "2023-05-26T20:04:23.524Z"
   },
   {
    "duration": 187,
    "start_time": "2023-05-26T20:04:29.869Z"
   },
   {
    "duration": 125,
    "start_time": "2023-05-26T20:04:48.920Z"
   },
   {
    "duration": 158,
    "start_time": "2023-05-26T20:06:06.499Z"
   },
   {
    "duration": 139,
    "start_time": "2023-05-26T20:06:25.365Z"
   },
   {
    "duration": 116,
    "start_time": "2023-05-26T20:09:11.806Z"
   },
   {
    "duration": 157,
    "start_time": "2023-05-26T20:09:18.566Z"
   },
   {
    "duration": 156,
    "start_time": "2023-05-26T20:30:18.371Z"
   },
   {
    "duration": 237,
    "start_time": "2023-05-26T20:30:26.437Z"
   },
   {
    "duration": 183,
    "start_time": "2023-05-26T20:30:37.063Z"
   },
   {
    "duration": 283,
    "start_time": "2023-05-26T20:30:48.760Z"
   },
   {
    "duration": 131,
    "start_time": "2023-05-26T20:30:56.524Z"
   },
   {
    "duration": 160,
    "start_time": "2023-05-26T20:31:50.074Z"
   },
   {
    "duration": 219,
    "start_time": "2023-05-26T20:32:00.926Z"
   },
   {
    "duration": 261,
    "start_time": "2023-05-26T20:32:25.983Z"
   },
   {
    "duration": 8,
    "start_time": "2023-05-26T20:36:45.121Z"
   },
   {
    "duration": 15,
    "start_time": "2023-05-26T20:36:57.491Z"
   },
   {
    "duration": 20,
    "start_time": "2023-05-26T20:38:18.224Z"
   },
   {
    "duration": 5,
    "start_time": "2023-05-26T21:13:13.060Z"
   },
   {
    "duration": 20,
    "start_time": "2023-05-26T21:14:07.428Z"
   },
   {
    "duration": 34,
    "start_time": "2023-05-26T21:14:36.105Z"
   },
   {
    "duration": 22,
    "start_time": "2023-05-26T21:14:59.038Z"
   },
   {
    "duration": 381,
    "start_time": "2023-05-26T21:15:15.287Z"
   },
   {
    "duration": 64,
    "start_time": "2023-05-26T21:15:15.670Z"
   },
   {
    "duration": 21,
    "start_time": "2023-05-26T21:15:15.735Z"
   },
   {
    "duration": 19,
    "start_time": "2023-05-26T21:15:15.758Z"
   },
   {
    "duration": 12,
    "start_time": "2023-05-26T21:15:15.779Z"
   },
   {
    "duration": 29,
    "start_time": "2023-05-26T21:15:15.792Z"
   },
   {
    "duration": 8,
    "start_time": "2023-05-26T21:15:15.822Z"
   },
   {
    "duration": 23,
    "start_time": "2023-05-26T21:15:15.832Z"
   },
   {
    "duration": 8,
    "start_time": "2023-05-26T21:15:15.856Z"
   },
   {
    "duration": 7,
    "start_time": "2023-05-26T21:15:15.866Z"
   },
   {
    "duration": 20,
    "start_time": "2023-05-26T21:15:15.874Z"
   },
   {
    "duration": 21,
    "start_time": "2023-05-26T21:15:15.896Z"
   },
   {
    "duration": 16,
    "start_time": "2023-05-26T21:15:15.918Z"
   },
   {
    "duration": 20,
    "start_time": "2023-05-26T21:15:15.937Z"
   },
   {
    "duration": 25,
    "start_time": "2023-05-26T21:15:15.958Z"
   },
   {
    "duration": 17,
    "start_time": "2023-05-26T21:15:15.985Z"
   },
   {
    "duration": 358,
    "start_time": "2023-05-26T21:15:16.004Z"
   },
   {
    "duration": 10,
    "start_time": "2023-05-26T21:15:16.364Z"
   },
   {
    "duration": 126,
    "start_time": "2023-05-26T21:15:16.384Z"
   },
   {
    "duration": 112,
    "start_time": "2023-05-26T21:15:16.511Z"
   },
   {
    "duration": 214,
    "start_time": "2023-05-26T21:15:16.624Z"
   },
   {
    "duration": 253,
    "start_time": "2023-05-26T21:15:16.839Z"
   },
   {
    "duration": 21,
    "start_time": "2023-05-26T21:15:17.093Z"
   },
   {
    "duration": 1315,
    "start_time": "2023-05-26T21:15:17.115Z"
   },
   {
    "duration": 14,
    "start_time": "2023-05-26T21:15:40.942Z"
   },
   {
    "duration": 4,
    "start_time": "2023-05-26T21:15:47.357Z"
   },
   {
    "duration": 6,
    "start_time": "2023-05-26T21:16:07.534Z"
   },
   {
    "duration": 20,
    "start_time": "2023-05-26T21:16:29.238Z"
   },
   {
    "duration": 234,
    "start_time": "2023-05-26T21:29:32.264Z"
   },
   {
    "duration": 197,
    "start_time": "2023-05-26T21:29:51.389Z"
   },
   {
    "duration": 325,
    "start_time": "2023-05-26T21:30:16.997Z"
   },
   {
    "duration": 335,
    "start_time": "2023-05-26T21:30:29.512Z"
   },
   {
    "duration": 10,
    "start_time": "2023-05-26T21:32:13.489Z"
   },
   {
    "duration": 3,
    "start_time": "2023-05-26T21:32:42.581Z"
   },
   {
    "duration": 335,
    "start_time": "2023-05-26T21:32:56.899Z"
   },
   {
    "duration": 277,
    "start_time": "2023-05-26T21:33:00.689Z"
   },
   {
    "duration": 294,
    "start_time": "2023-05-26T21:33:14.785Z"
   },
   {
    "duration": 439,
    "start_time": "2023-05-26T21:33:26.797Z"
   },
   {
    "duration": 348,
    "start_time": "2023-05-26T21:33:29.958Z"
   },
   {
    "duration": 352,
    "start_time": "2023-05-26T21:33:48.084Z"
   },
   {
    "duration": 156,
    "start_time": "2023-05-26T21:35:27.202Z"
   },
   {
    "duration": 328,
    "start_time": "2023-05-26T21:36:05.342Z"
   },
   {
    "duration": 496,
    "start_time": "2023-05-26T21:37:26.546Z"
   },
   {
    "duration": 374,
    "start_time": "2023-05-26T21:38:25.105Z"
   },
   {
    "duration": 464,
    "start_time": "2023-05-26T21:38:37.813Z"
   },
   {
    "duration": 530,
    "start_time": "2023-05-26T21:40:06.997Z"
   },
   {
    "duration": 594,
    "start_time": "2023-05-26T21:40:50.789Z"
   },
   {
    "duration": 706,
    "start_time": "2023-05-26T21:40:56.534Z"
   },
   {
    "duration": 459,
    "start_time": "2023-05-26T21:41:07.086Z"
   },
   {
    "duration": 493,
    "start_time": "2023-05-26T21:41:45.747Z"
   },
   {
    "duration": 535,
    "start_time": "2023-05-26T21:42:11.290Z"
   },
   {
    "duration": 438,
    "start_time": "2023-05-26T21:42:17.843Z"
   },
   {
    "duration": 438,
    "start_time": "2023-05-26T21:42:26.491Z"
   },
   {
    "duration": 568,
    "start_time": "2023-05-26T21:42:45.295Z"
   },
   {
    "duration": 451,
    "start_time": "2023-05-26T21:43:18.399Z"
   },
   {
    "duration": 54,
    "start_time": "2023-05-26T21:43:21.424Z"
   },
   {
    "duration": 608,
    "start_time": "2023-05-26T21:43:25.998Z"
   },
   {
    "duration": 491,
    "start_time": "2023-05-26T21:50:28.033Z"
   },
   {
    "duration": 494,
    "start_time": "2023-05-26T21:50:39.656Z"
   },
   {
    "duration": 635,
    "start_time": "2023-05-26T21:50:46.536Z"
   },
   {
    "duration": 488,
    "start_time": "2023-05-26T21:51:11.014Z"
   },
   {
    "duration": 531,
    "start_time": "2023-05-26T21:52:05.188Z"
   },
   {
    "duration": 646,
    "start_time": "2023-05-26T21:52:14.488Z"
   },
   {
    "duration": 484,
    "start_time": "2023-05-26T21:52:18.694Z"
   },
   {
    "duration": 479,
    "start_time": "2023-05-26T21:52:36.051Z"
   },
   {
    "duration": 623,
    "start_time": "2023-05-26T21:52:48.239Z"
   },
   {
    "duration": 502,
    "start_time": "2023-05-26T21:53:23.087Z"
   },
   {
    "duration": 527,
    "start_time": "2023-05-26T21:53:40.641Z"
   },
   {
    "duration": 649,
    "start_time": "2023-05-26T21:53:47.300Z"
   },
   {
    "duration": 485,
    "start_time": "2023-05-26T21:54:38.426Z"
   },
   {
    "duration": 478,
    "start_time": "2023-05-26T21:55:44.888Z"
   },
   {
    "duration": 642,
    "start_time": "2023-05-26T21:55:57.784Z"
   },
   {
    "duration": 518,
    "start_time": "2023-05-26T21:56:04.399Z"
   },
   {
    "duration": 626,
    "start_time": "2023-05-26T21:56:07.935Z"
   },
   {
    "duration": 489,
    "start_time": "2023-05-26T21:56:20.899Z"
   },
   {
    "duration": 489,
    "start_time": "2023-05-26T21:56:30.455Z"
   },
   {
    "duration": 482,
    "start_time": "2023-05-26T21:56:39.439Z"
   },
   {
    "duration": 651,
    "start_time": "2023-05-26T21:56:57.445Z"
   },
   {
    "duration": 548,
    "start_time": "2023-05-26T21:57:04.313Z"
   },
   {
    "duration": 495,
    "start_time": "2023-05-26T21:57:09.394Z"
   },
   {
    "duration": 960,
    "start_time": "2023-05-26T21:57:45.926Z"
   },
   {
    "duration": 958,
    "start_time": "2023-05-26T21:58:10.254Z"
   },
   {
    "duration": 757,
    "start_time": "2023-05-26T21:58:41.513Z"
   },
   {
    "duration": 936,
    "start_time": "2023-05-26T21:58:59.825Z"
   },
   {
    "duration": 812,
    "start_time": "2023-05-26T21:59:05.409Z"
   },
   {
    "duration": 762,
    "start_time": "2023-05-26T21:59:24.904Z"
   },
   {
    "duration": 654,
    "start_time": "2023-05-26T21:59:30.100Z"
   },
   {
    "duration": 863,
    "start_time": "2023-05-26T21:59:34.243Z"
   },
   {
    "duration": 633,
    "start_time": "2023-05-26T21:59:45.781Z"
   },
   {
    "duration": 5,
    "start_time": "2023-05-26T22:25:15.642Z"
   },
   {
    "duration": 3,
    "start_time": "2023-05-26T22:25:26.989Z"
   },
   {
    "duration": 5,
    "start_time": "2023-05-26T22:25:32.624Z"
   },
   {
    "duration": 15,
    "start_time": "2023-05-26T22:27:02.096Z"
   },
   {
    "duration": 25,
    "start_time": "2023-05-26T22:30:43.215Z"
   },
   {
    "duration": 31,
    "start_time": "2023-05-26T22:32:49.626Z"
   },
   {
    "duration": 248,
    "start_time": "2023-05-26T22:34:28.833Z"
   },
   {
    "duration": 49,
    "start_time": "2023-05-26T22:34:38.638Z"
   },
   {
    "duration": 18,
    "start_time": "2023-05-26T22:34:43.308Z"
   },
   {
    "duration": 33,
    "start_time": "2023-05-26T22:35:27.222Z"
   },
   {
    "duration": 68,
    "start_time": "2023-05-26T22:35:45.018Z"
   },
   {
    "duration": 28,
    "start_time": "2023-05-26T22:35:48.517Z"
   },
   {
    "duration": 25,
    "start_time": "2023-05-26T22:38:45.727Z"
   },
   {
    "duration": 48,
    "start_time": "2023-05-27T09:01:19.368Z"
   },
   {
    "duration": 906,
    "start_time": "2023-05-27T09:01:35.146Z"
   },
   {
    "duration": 187,
    "start_time": "2023-05-27T09:01:36.055Z"
   },
   {
    "duration": 29,
    "start_time": "2023-05-27T09:01:36.243Z"
   },
   {
    "duration": 30,
    "start_time": "2023-05-27T09:01:36.275Z"
   },
   {
    "duration": 26,
    "start_time": "2023-05-27T09:01:36.307Z"
   },
   {
    "duration": 37,
    "start_time": "2023-05-27T09:01:36.334Z"
   },
   {
    "duration": 21,
    "start_time": "2023-05-27T09:01:36.373Z"
   },
   {
    "duration": 49,
    "start_time": "2023-05-27T09:01:36.396Z"
   },
   {
    "duration": 26,
    "start_time": "2023-05-27T09:01:36.448Z"
   },
   {
    "duration": 12,
    "start_time": "2023-05-27T09:01:36.477Z"
   },
   {
    "duration": 24,
    "start_time": "2023-05-27T09:01:36.491Z"
   },
   {
    "duration": 28,
    "start_time": "2023-05-27T09:01:36.525Z"
   },
   {
    "duration": 17,
    "start_time": "2023-05-27T09:01:36.555Z"
   },
   {
    "duration": 29,
    "start_time": "2023-05-27T09:01:36.574Z"
   },
   {
    "duration": 17,
    "start_time": "2023-05-27T09:01:36.605Z"
   },
   {
    "duration": 21,
    "start_time": "2023-05-27T09:01:36.624Z"
   },
   {
    "duration": 160,
    "start_time": "2023-05-27T09:01:36.647Z"
   },
   {
    "duration": 15,
    "start_time": "2023-05-27T09:01:36.809Z"
   },
   {
    "duration": 135,
    "start_time": "2023-05-27T09:01:36.826Z"
   },
   {
    "duration": 153,
    "start_time": "2023-05-27T09:01:36.963Z"
   },
   {
    "duration": 336,
    "start_time": "2023-05-27T09:01:37.124Z"
   },
   {
    "duration": 288,
    "start_time": "2023-05-27T09:01:37.462Z"
   },
   {
    "duration": 36,
    "start_time": "2023-05-27T09:01:37.752Z"
   },
   {
    "duration": 34,
    "start_time": "2023-05-27T09:01:37.791Z"
   },
   {
    "duration": 35,
    "start_time": "2023-05-27T09:01:37.827Z"
   },
   {
    "duration": 804,
    "start_time": "2023-05-27T09:01:37.863Z"
   },
   {
    "duration": 6,
    "start_time": "2023-05-27T09:01:38.670Z"
   },
   {
    "duration": 56,
    "start_time": "2023-05-27T09:01:38.678Z"
   },
   {
    "duration": 33,
    "start_time": "2023-05-27T09:01:38.736Z"
   },
   {
    "duration": 51,
    "start_time": "2023-05-27T09:01:38.771Z"
   },
   {
    "duration": 3,
    "start_time": "2023-05-27T09:08:15.662Z"
   },
   {
    "duration": 4,
    "start_time": "2023-05-27T09:12:17.455Z"
   },
   {
    "duration": 724,
    "start_time": "2023-05-27T09:12:28.434Z"
   },
   {
    "duration": 796,
    "start_time": "2023-05-27T09:12:35.962Z"
   },
   {
    "duration": 5,
    "start_time": "2023-05-27T09:13:46.337Z"
   },
   {
    "duration": 1012,
    "start_time": "2023-05-27T09:13:47.111Z"
   },
   {
    "duration": 4,
    "start_time": "2023-05-27T09:13:54.014Z"
   },
   {
    "duration": 795,
    "start_time": "2023-05-27T09:13:57.706Z"
   },
   {
    "duration": 3,
    "start_time": "2023-05-27T09:14:21.453Z"
   },
   {
    "duration": 795,
    "start_time": "2023-05-27T09:14:22.890Z"
   },
   {
    "duration": 3,
    "start_time": "2023-05-27T09:14:55.105Z"
   },
   {
    "duration": 96,
    "start_time": "2023-05-27T09:14:55.577Z"
   },
   {
    "duration": 6,
    "start_time": "2023-05-27T09:15:02.236Z"
   },
   {
    "duration": 2036,
    "start_time": "2023-05-27T09:15:02.762Z"
   },
   {
    "duration": 641,
    "start_time": "2023-05-27T09:15:43.413Z"
   },
   {
    "duration": 6,
    "start_time": "2023-05-27T09:16:07.439Z"
   },
   {
    "duration": 3,
    "start_time": "2023-05-27T09:16:38.197Z"
   },
   {
    "duration": 624,
    "start_time": "2023-05-27T09:16:38.888Z"
   },
   {
    "duration": 4,
    "start_time": "2023-05-27T09:17:47.638Z"
   },
   {
    "duration": 1672,
    "start_time": "2023-05-27T09:17:48.713Z"
   },
   {
    "duration": 6,
    "start_time": "2023-05-27T09:18:46.863Z"
   },
   {
    "duration": 8,
    "start_time": "2023-05-27T09:19:02.765Z"
   },
   {
    "duration": 146,
    "start_time": "2023-05-27T09:19:14.953Z"
   },
   {
    "duration": 4,
    "start_time": "2023-05-27T09:19:52.097Z"
   },
   {
    "duration": 955,
    "start_time": "2023-05-27T09:19:52.638Z"
   },
   {
    "duration": 28,
    "start_time": "2023-05-27T09:32:55.446Z"
   },
   {
    "duration": 28,
    "start_time": "2023-05-27T09:35:56.599Z"
   },
   {
    "duration": 3,
    "start_time": "2023-05-27T09:36:03.628Z"
   },
   {
    "duration": 7381,
    "start_time": "2023-05-27T09:36:04.355Z"
   },
   {
    "duration": 4,
    "start_time": "2023-05-27T09:37:05.316Z"
   },
   {
    "duration": 13,
    "start_time": "2023-05-27T09:37:05.666Z"
   },
   {
    "duration": 4,
    "start_time": "2023-05-27T09:37:32.994Z"
   },
   {
    "duration": 7887,
    "start_time": "2023-05-27T09:37:33.348Z"
   },
   {
    "duration": 10,
    "start_time": "2023-05-27T09:38:00.263Z"
   },
   {
    "duration": 4,
    "start_time": "2023-05-27T09:44:08.900Z"
   },
   {
    "duration": 20,
    "start_time": "2023-05-27T09:44:09.296Z"
   },
   {
    "duration": 3,
    "start_time": "2023-05-27T09:44:18.908Z"
   },
   {
    "duration": 3,
    "start_time": "2023-05-27T09:44:22.500Z"
   },
   {
    "duration": 9089,
    "start_time": "2023-05-27T09:44:22.896Z"
   },
   {
    "duration": 13,
    "start_time": "2023-05-27T09:44:34.504Z"
   },
   {
    "duration": 1335,
    "start_time": "2023-05-30T13:32:02.754Z"
   },
   {
    "duration": 167,
    "start_time": "2023-05-30T13:32:04.091Z"
   },
   {
    "duration": 0,
    "start_time": "2023-05-30T13:32:04.261Z"
   },
   {
    "duration": 0,
    "start_time": "2023-05-30T13:32:04.262Z"
   },
   {
    "duration": 1,
    "start_time": "2023-05-30T13:32:04.263Z"
   },
   {
    "duration": 0,
    "start_time": "2023-05-30T13:32:04.264Z"
   },
   {
    "duration": 0,
    "start_time": "2023-05-30T13:32:04.265Z"
   },
   {
    "duration": 0,
    "start_time": "2023-05-30T13:32:04.266Z"
   },
   {
    "duration": 0,
    "start_time": "2023-05-30T13:32:04.267Z"
   },
   {
    "duration": 0,
    "start_time": "2023-05-30T13:32:04.268Z"
   },
   {
    "duration": 0,
    "start_time": "2023-05-30T13:32:04.269Z"
   },
   {
    "duration": 0,
    "start_time": "2023-05-30T13:32:04.270Z"
   },
   {
    "duration": 0,
    "start_time": "2023-05-30T13:32:04.271Z"
   },
   {
    "duration": 0,
    "start_time": "2023-05-30T13:32:04.272Z"
   },
   {
    "duration": 0,
    "start_time": "2023-05-30T13:32:04.273Z"
   },
   {
    "duration": 0,
    "start_time": "2023-05-30T13:32:04.274Z"
   },
   {
    "duration": 0,
    "start_time": "2023-05-30T13:32:04.276Z"
   },
   {
    "duration": 0,
    "start_time": "2023-05-30T13:32:04.277Z"
   },
   {
    "duration": 0,
    "start_time": "2023-05-30T13:32:04.278Z"
   },
   {
    "duration": 0,
    "start_time": "2023-05-30T13:32:04.280Z"
   },
   {
    "duration": 0,
    "start_time": "2023-05-30T13:32:04.280Z"
   },
   {
    "duration": 0,
    "start_time": "2023-05-30T13:32:04.281Z"
   },
   {
    "duration": 0,
    "start_time": "2023-05-30T13:32:04.283Z"
   },
   {
    "duration": 0,
    "start_time": "2023-05-30T13:32:04.283Z"
   },
   {
    "duration": 0,
    "start_time": "2023-05-30T13:32:04.284Z"
   },
   {
    "duration": 0,
    "start_time": "2023-05-30T13:32:04.285Z"
   },
   {
    "duration": 0,
    "start_time": "2023-05-30T13:32:04.287Z"
   },
   {
    "duration": 0,
    "start_time": "2023-05-30T13:32:04.287Z"
   },
   {
    "duration": 0,
    "start_time": "2023-05-30T13:32:04.289Z"
   },
   {
    "duration": 0,
    "start_time": "2023-05-30T13:32:04.329Z"
   },
   {
    "duration": 1,
    "start_time": "2023-05-30T13:32:04.334Z"
   },
   {
    "duration": 0,
    "start_time": "2023-05-30T13:32:04.336Z"
   },
   {
    "duration": 0,
    "start_time": "2023-05-30T13:32:04.337Z"
   },
   {
    "duration": 0,
    "start_time": "2023-05-30T13:32:04.338Z"
   },
   {
    "duration": 0,
    "start_time": "2023-05-30T13:32:04.339Z"
   },
   {
    "duration": 0,
    "start_time": "2023-05-30T13:32:04.339Z"
   },
   {
    "duration": 0,
    "start_time": "2023-05-30T13:32:04.340Z"
   },
   {
    "duration": 0,
    "start_time": "2023-05-30T13:32:04.342Z"
   },
   {
    "duration": 0,
    "start_time": "2023-05-30T13:32:04.343Z"
   },
   {
    "duration": 0,
    "start_time": "2023-05-30T13:32:04.345Z"
   },
   {
    "duration": 0,
    "start_time": "2023-05-30T13:32:04.347Z"
   },
   {
    "duration": 0,
    "start_time": "2023-05-30T13:32:04.349Z"
   },
   {
    "duration": 0,
    "start_time": "2023-05-30T13:32:04.350Z"
   },
   {
    "duration": 0,
    "start_time": "2023-05-30T13:32:04.352Z"
   },
   {
    "duration": 0,
    "start_time": "2023-05-30T13:32:04.354Z"
   },
   {
    "duration": 0,
    "start_time": "2023-05-30T13:32:04.355Z"
   },
   {
    "duration": 0,
    "start_time": "2023-05-30T13:32:04.357Z"
   },
   {
    "duration": 0,
    "start_time": "2023-05-30T13:32:04.358Z"
   },
   {
    "duration": 0,
    "start_time": "2023-05-30T13:32:04.360Z"
   },
   {
    "duration": 0,
    "start_time": "2023-05-30T13:32:04.362Z"
   },
   {
    "duration": 0,
    "start_time": "2023-05-30T13:32:04.363Z"
   },
   {
    "duration": 0,
    "start_time": "2023-05-30T13:32:04.363Z"
   },
   {
    "duration": 0,
    "start_time": "2023-05-30T13:32:04.364Z"
   },
   {
    "duration": 0,
    "start_time": "2023-05-30T13:32:04.367Z"
   },
   {
    "duration": 0,
    "start_time": "2023-05-30T13:32:04.370Z"
   },
   {
    "duration": 0,
    "start_time": "2023-05-30T13:32:04.371Z"
   },
   {
    "duration": 0,
    "start_time": "2023-05-30T13:32:04.372Z"
   },
   {
    "duration": 130,
    "start_time": "2023-05-30T13:36:11.160Z"
   },
   {
    "duration": 667,
    "start_time": "2023-05-30T13:36:15.672Z"
   },
   {
    "duration": 131,
    "start_time": "2023-05-30T13:36:16.342Z"
   },
   {
    "duration": 19,
    "start_time": "2023-05-30T13:36:16.474Z"
   },
   {
    "duration": 14,
    "start_time": "2023-05-30T13:36:16.495Z"
   },
   {
    "duration": 18,
    "start_time": "2023-05-30T13:36:16.511Z"
   },
   {
    "duration": 22,
    "start_time": "2023-05-30T13:36:16.531Z"
   },
   {
    "duration": 21,
    "start_time": "2023-05-30T13:36:16.555Z"
   },
   {
    "duration": 39,
    "start_time": "2023-05-30T13:36:16.577Z"
   },
   {
    "duration": 15,
    "start_time": "2023-05-30T13:36:16.617Z"
   },
   {
    "duration": 20,
    "start_time": "2023-05-30T13:36:16.633Z"
   },
   {
    "duration": 6,
    "start_time": "2023-05-30T13:36:16.655Z"
   },
   {
    "duration": 17,
    "start_time": "2023-05-30T13:36:16.663Z"
   },
   {
    "duration": 6,
    "start_time": "2023-05-30T13:36:16.682Z"
   },
   {
    "duration": 8,
    "start_time": "2023-05-30T13:36:16.690Z"
   },
   {
    "duration": 6,
    "start_time": "2023-05-30T13:36:16.699Z"
   },
   {
    "duration": 23,
    "start_time": "2023-05-30T13:36:16.706Z"
   },
   {
    "duration": 10,
    "start_time": "2023-05-30T13:36:16.730Z"
   },
   {
    "duration": 199,
    "start_time": "2023-05-30T13:36:16.742Z"
   },
   {
    "duration": 174,
    "start_time": "2023-05-30T13:36:16.943Z"
   },
   {
    "duration": 10,
    "start_time": "2023-05-30T13:36:17.125Z"
   },
   {
    "duration": 129,
    "start_time": "2023-05-30T13:36:17.143Z"
   },
   {
    "duration": 8,
    "start_time": "2023-05-30T13:36:17.275Z"
   },
   {
    "duration": 176,
    "start_time": "2023-05-30T13:36:17.285Z"
   },
   {
    "duration": 7,
    "start_time": "2023-05-30T13:36:17.463Z"
   },
   {
    "duration": 13,
    "start_time": "2023-05-30T13:36:17.472Z"
   },
   {
    "duration": 293,
    "start_time": "2023-05-30T13:36:17.487Z"
   },
   {
    "duration": 173,
    "start_time": "2023-05-30T13:36:17.782Z"
   },
   {
    "duration": 265,
    "start_time": "2023-05-30T13:36:17.957Z"
   },
   {
    "duration": 173,
    "start_time": "2023-05-30T13:36:18.225Z"
   },
   {
    "duration": 32,
    "start_time": "2023-05-30T13:36:18.401Z"
   },
   {
    "duration": 11,
    "start_time": "2023-05-30T13:36:18.435Z"
   },
   {
    "duration": 24,
    "start_time": "2023-05-30T13:36:18.448Z"
   },
   {
    "duration": 821,
    "start_time": "2023-05-30T13:36:18.474Z"
   },
   {
    "duration": 5,
    "start_time": "2023-05-30T13:36:19.296Z"
   },
   {
    "duration": 12,
    "start_time": "2023-05-30T13:36:19.302Z"
   },
   {
    "duration": 10,
    "start_time": "2023-05-30T13:36:19.316Z"
   },
   {
    "duration": 37,
    "start_time": "2023-05-30T13:36:19.328Z"
   },
   {
    "duration": 120,
    "start_time": "2023-05-30T13:36:19.367Z"
   },
   {
    "duration": 27,
    "start_time": "2023-05-30T13:36:19.489Z"
   },
   {
    "duration": 39,
    "start_time": "2023-05-30T13:36:19.525Z"
   },
   {
    "duration": 3,
    "start_time": "2023-05-30T13:36:19.569Z"
   },
   {
    "duration": 19766,
    "start_time": "2023-05-30T13:36:19.574Z"
   },
   {
    "duration": 24,
    "start_time": "2023-05-30T13:36:39.342Z"
   },
   {
    "duration": 884,
    "start_time": "2023-05-30T13:36:39.367Z"
   },
   {
    "duration": 6,
    "start_time": "2023-05-30T13:36:40.255Z"
   },
   {
    "duration": 23,
    "start_time": "2023-05-30T13:36:40.262Z"
   },
   {
    "duration": 16,
    "start_time": "2023-05-30T13:36:40.286Z"
   },
   {
    "duration": 46,
    "start_time": "2023-05-30T13:36:40.303Z"
   },
   {
    "duration": 17,
    "start_time": "2023-05-30T13:36:40.350Z"
   },
   {
    "duration": 24,
    "start_time": "2023-05-30T13:36:40.368Z"
   },
   {
    "duration": 12,
    "start_time": "2023-05-30T13:36:40.393Z"
   },
   {
    "duration": 28,
    "start_time": "2023-05-30T13:36:40.406Z"
   },
   {
    "duration": 585,
    "start_time": "2023-05-30T13:36:40.436Z"
   },
   {
    "duration": 151,
    "start_time": "2023-05-30T13:36:41.024Z"
   },
   {
    "duration": 4,
    "start_time": "2023-05-30T13:36:41.176Z"
   },
   {
    "duration": 34,
    "start_time": "2023-05-30T13:36:41.181Z"
   },
   {
    "duration": 185,
    "start_time": "2023-05-30T13:36:41.217Z"
   },
   {
    "duration": 19,
    "start_time": "2023-05-30T13:42:40.363Z"
   },
   {
    "duration": 266,
    "start_time": "2023-05-30T13:47:31.318Z"
   },
   {
    "duration": 4,
    "start_time": "2023-05-30T13:47:48.391Z"
   },
   {
    "duration": 4,
    "start_time": "2023-05-30T13:47:55.694Z"
   },
   {
    "duration": 29,
    "start_time": "2023-05-30T13:53:22.524Z"
   },
   {
    "duration": 641,
    "start_time": "2023-05-30T14:03:41.330Z"
   },
   {
    "duration": 376,
    "start_time": "2023-05-30T14:03:41.972Z"
   },
   {
    "duration": 19,
    "start_time": "2023-05-30T14:03:42.350Z"
   },
   {
    "duration": 18,
    "start_time": "2023-05-30T14:03:42.370Z"
   },
   {
    "duration": 13,
    "start_time": "2023-05-30T14:03:42.390Z"
   },
   {
    "duration": 6,
    "start_time": "2023-05-30T14:03:42.405Z"
   },
   {
    "duration": 14,
    "start_time": "2023-05-30T14:03:42.413Z"
   },
   {
    "duration": 25,
    "start_time": "2023-05-30T14:03:42.429Z"
   },
   {
    "duration": 13,
    "start_time": "2023-05-30T14:03:42.456Z"
   },
   {
    "duration": 11,
    "start_time": "2023-05-30T14:03:42.471Z"
   },
   {
    "duration": 41,
    "start_time": "2023-05-30T14:03:42.484Z"
   },
   {
    "duration": 6,
    "start_time": "2023-05-30T14:03:42.527Z"
   },
   {
    "duration": 9,
    "start_time": "2023-05-30T14:03:42.535Z"
   },
   {
    "duration": 10,
    "start_time": "2023-05-30T14:03:42.547Z"
   },
   {
    "duration": 7,
    "start_time": "2023-05-30T14:03:42.558Z"
   },
   {
    "duration": 26,
    "start_time": "2023-05-30T14:03:42.566Z"
   },
   {
    "duration": 50,
    "start_time": "2023-05-30T14:03:42.594Z"
   },
   {
    "duration": 150,
    "start_time": "2023-05-30T14:03:42.645Z"
   },
   {
    "duration": 161,
    "start_time": "2023-05-30T14:03:42.797Z"
   },
   {
    "duration": 5,
    "start_time": "2023-05-30T14:03:42.960Z"
   },
   {
    "duration": 115,
    "start_time": "2023-05-30T14:03:42.967Z"
   },
   {
    "duration": 7,
    "start_time": "2023-05-30T14:03:43.084Z"
   },
   {
    "duration": 164,
    "start_time": "2023-05-30T14:03:43.093Z"
   },
   {
    "duration": 7,
    "start_time": "2023-05-30T14:03:43.259Z"
   },
   {
    "duration": 15,
    "start_time": "2023-05-30T14:03:43.267Z"
   },
   {
    "duration": 288,
    "start_time": "2023-05-30T14:03:43.283Z"
   },
   {
    "duration": 153,
    "start_time": "2023-05-30T14:03:43.572Z"
   },
   {
    "duration": 237,
    "start_time": "2023-05-30T14:03:43.726Z"
   },
   {
    "duration": 161,
    "start_time": "2023-05-30T14:03:43.964Z"
   },
   {
    "duration": 24,
    "start_time": "2023-05-30T14:03:44.126Z"
   },
   {
    "duration": 14,
    "start_time": "2023-05-30T14:03:44.152Z"
   },
   {
    "duration": 25,
    "start_time": "2023-05-30T14:03:44.167Z"
   },
   {
    "duration": 708,
    "start_time": "2023-05-30T14:03:44.194Z"
   },
   {
    "duration": 5,
    "start_time": "2023-05-30T14:03:44.904Z"
   },
   {
    "duration": 17,
    "start_time": "2023-05-30T14:03:44.910Z"
   },
   {
    "duration": 5,
    "start_time": "2023-05-30T14:03:44.929Z"
   },
   {
    "duration": 36,
    "start_time": "2023-05-30T14:03:44.936Z"
   },
   {
    "duration": 125,
    "start_time": "2023-05-30T14:03:44.975Z"
   },
   {
    "duration": 40,
    "start_time": "2023-05-30T14:03:45.102Z"
   },
   {
    "duration": 25,
    "start_time": "2023-05-30T14:03:45.143Z"
   },
   {
    "duration": 3,
    "start_time": "2023-05-30T14:03:45.172Z"
   },
   {
    "duration": 18121,
    "start_time": "2023-05-30T14:03:45.177Z"
   },
   {
    "duration": 30,
    "start_time": "2023-05-30T14:04:03.300Z"
   },
   {
    "duration": 22,
    "start_time": "2023-05-30T14:04:03.332Z"
   },
   {
    "duration": 430,
    "start_time": "2023-05-30T14:04:03.356Z"
   },
   {
    "duration": 6,
    "start_time": "2023-05-30T14:04:03.788Z"
   },
   {
    "duration": 13,
    "start_time": "2023-05-30T14:04:03.795Z"
   },
   {
    "duration": 20,
    "start_time": "2023-05-30T14:04:03.809Z"
   },
   {
    "duration": 14,
    "start_time": "2023-05-30T14:04:03.830Z"
   },
   {
    "duration": 7,
    "start_time": "2023-05-30T14:04:03.846Z"
   },
   {
    "duration": 21,
    "start_time": "2023-05-30T14:04:03.855Z"
   },
   {
    "duration": 23,
    "start_time": "2023-05-30T14:04:03.879Z"
   },
   {
    "duration": 24,
    "start_time": "2023-05-30T14:04:03.904Z"
   },
   {
    "duration": 515,
    "start_time": "2023-05-30T14:04:03.931Z"
   },
   {
    "duration": 141,
    "start_time": "2023-05-30T14:04:04.448Z"
   },
   {
    "duration": 4,
    "start_time": "2023-05-30T14:04:04.591Z"
   },
   {
    "duration": 29,
    "start_time": "2023-05-30T14:04:04.597Z"
   },
   {
    "duration": 144,
    "start_time": "2023-05-30T14:04:04.627Z"
   },
   {
    "duration": 631,
    "start_time": "2023-05-30T16:33:58.947Z"
   },
   {
    "duration": 101,
    "start_time": "2023-05-30T16:33:59.580Z"
   },
   {
    "duration": 18,
    "start_time": "2023-05-30T16:33:59.684Z"
   },
   {
    "duration": 16,
    "start_time": "2023-05-30T16:33:59.703Z"
   },
   {
    "duration": 14,
    "start_time": "2023-05-30T16:33:59.721Z"
   },
   {
    "duration": 47,
    "start_time": "2023-05-30T16:33:59.736Z"
   },
   {
    "duration": 7,
    "start_time": "2023-05-30T16:33:59.784Z"
   },
   {
    "duration": 31,
    "start_time": "2023-05-30T16:33:59.793Z"
   },
   {
    "duration": 13,
    "start_time": "2023-05-30T16:33:59.828Z"
   },
   {
    "duration": 45,
    "start_time": "2023-05-30T16:33:59.843Z"
   },
   {
    "duration": 7,
    "start_time": "2023-05-30T16:33:59.890Z"
   },
   {
    "duration": 11,
    "start_time": "2023-05-30T16:33:59.899Z"
   },
   {
    "duration": 7,
    "start_time": "2023-05-30T16:33:59.912Z"
   },
   {
    "duration": 8,
    "start_time": "2023-05-30T16:33:59.922Z"
   },
   {
    "duration": 48,
    "start_time": "2023-05-30T16:33:59.932Z"
   },
   {
    "duration": 6,
    "start_time": "2023-05-30T16:33:59.981Z"
   },
   {
    "duration": 11,
    "start_time": "2023-05-30T16:33:59.988Z"
   },
   {
    "duration": 179,
    "start_time": "2023-05-30T16:34:00.000Z"
   },
   {
    "duration": 182,
    "start_time": "2023-05-30T16:34:00.181Z"
   },
   {
    "duration": 18,
    "start_time": "2023-05-30T16:34:00.365Z"
   },
   {
    "duration": 135,
    "start_time": "2023-05-30T16:34:00.385Z"
   },
   {
    "duration": 9,
    "start_time": "2023-05-30T16:34:00.523Z"
   },
   {
    "duration": 156,
    "start_time": "2023-05-30T16:34:00.533Z"
   },
   {
    "duration": 7,
    "start_time": "2023-05-30T16:34:00.691Z"
   },
   {
    "duration": 32,
    "start_time": "2023-05-30T16:34:00.699Z"
   },
   {
    "duration": 289,
    "start_time": "2023-05-30T16:34:00.733Z"
   },
   {
    "duration": 160,
    "start_time": "2023-05-30T16:34:01.025Z"
   },
   {
    "duration": 249,
    "start_time": "2023-05-30T16:34:01.186Z"
   },
   {
    "duration": 190,
    "start_time": "2023-05-30T16:34:01.436Z"
   },
   {
    "duration": 25,
    "start_time": "2023-05-30T16:34:01.628Z"
   },
   {
    "duration": 28,
    "start_time": "2023-05-30T16:34:01.655Z"
   },
   {
    "duration": 35,
    "start_time": "2023-05-30T16:34:01.685Z"
   },
   {
    "duration": 764,
    "start_time": "2023-05-30T16:34:01.722Z"
   },
   {
    "duration": 5,
    "start_time": "2023-05-30T16:34:02.487Z"
   },
   {
    "duration": 28,
    "start_time": "2023-05-30T16:34:02.493Z"
   },
   {
    "duration": 14,
    "start_time": "2023-05-30T16:34:02.523Z"
   },
   {
    "duration": 52,
    "start_time": "2023-05-30T16:34:02.538Z"
   },
   {
    "duration": 116,
    "start_time": "2023-05-30T16:34:02.592Z"
   },
   {
    "duration": 24,
    "start_time": "2023-05-30T16:34:02.710Z"
   },
   {
    "duration": 45,
    "start_time": "2023-05-30T16:34:02.736Z"
   },
   {
    "duration": 4,
    "start_time": "2023-05-30T16:34:02.783Z"
   },
   {
    "duration": 18075,
    "start_time": "2023-05-30T16:34:02.789Z"
   },
   {
    "duration": 33,
    "start_time": "2023-05-30T16:34:20.865Z"
   },
   {
    "duration": 24,
    "start_time": "2023-05-30T16:34:20.900Z"
   },
   {
    "duration": 473,
    "start_time": "2023-05-30T16:34:20.925Z"
   },
   {
    "duration": 7,
    "start_time": "2023-05-30T16:34:21.400Z"
   },
   {
    "duration": 8,
    "start_time": "2023-05-30T16:34:21.409Z"
   },
   {
    "duration": 6,
    "start_time": "2023-05-30T16:34:21.420Z"
   },
   {
    "duration": 7,
    "start_time": "2023-05-30T16:34:21.428Z"
   },
   {
    "duration": 42,
    "start_time": "2023-05-30T16:34:21.436Z"
   },
   {
    "duration": 8,
    "start_time": "2023-05-30T16:34:21.480Z"
   },
   {
    "duration": 12,
    "start_time": "2023-05-30T16:34:21.489Z"
   },
   {
    "duration": 15,
    "start_time": "2023-05-30T16:34:21.502Z"
   },
   {
    "duration": 562,
    "start_time": "2023-05-30T16:34:21.519Z"
   },
   {
    "duration": 146,
    "start_time": "2023-05-30T16:34:22.083Z"
   },
   {
    "duration": 4,
    "start_time": "2023-05-30T16:34:22.231Z"
   },
   {
    "duration": 6,
    "start_time": "2023-05-30T16:34:22.237Z"
   },
   {
    "duration": 205,
    "start_time": "2023-05-30T16:34:22.245Z"
   },
   {
    "duration": 224,
    "start_time": "2023-05-30T16:34:44.058Z"
   },
   {
    "duration": 140,
    "start_time": "2023-05-30T16:36:02.684Z"
   },
   {
    "duration": 152,
    "start_time": "2023-05-30T16:37:00.458Z"
   },
   {
    "duration": 146,
    "start_time": "2023-05-30T16:37:05.150Z"
   },
   {
    "duration": 221,
    "start_time": "2023-05-30T16:38:52.667Z"
   },
   {
    "duration": 135,
    "start_time": "2023-05-30T16:39:25.114Z"
   },
   {
    "duration": 152,
    "start_time": "2023-05-30T16:40:18.763Z"
   },
   {
    "duration": 145,
    "start_time": "2023-05-30T16:40:27.964Z"
   },
   {
    "duration": 74,
    "start_time": "2023-05-30T16:41:11.445Z"
   },
   {
    "duration": 158,
    "start_time": "2023-05-30T16:41:15.978Z"
   },
   {
    "duration": 698,
    "start_time": "2023-05-30T17:01:03.166Z"
   },
   {
    "duration": 139,
    "start_time": "2023-05-30T17:01:03.866Z"
   },
   {
    "duration": 28,
    "start_time": "2023-05-30T17:01:04.007Z"
   },
   {
    "duration": 23,
    "start_time": "2023-05-30T17:01:04.038Z"
   },
   {
    "duration": 30,
    "start_time": "2023-05-30T17:01:04.063Z"
   },
   {
    "duration": 11,
    "start_time": "2023-05-30T17:01:04.095Z"
   },
   {
    "duration": 18,
    "start_time": "2023-05-30T17:01:04.107Z"
   },
   {
    "duration": 42,
    "start_time": "2023-05-30T17:01:04.126Z"
   },
   {
    "duration": 14,
    "start_time": "2023-05-30T17:01:04.170Z"
   },
   {
    "duration": 8,
    "start_time": "2023-05-30T17:01:04.186Z"
   },
   {
    "duration": 11,
    "start_time": "2023-05-30T17:01:04.196Z"
   },
   {
    "duration": 17,
    "start_time": "2023-05-30T17:01:04.209Z"
   },
   {
    "duration": 11,
    "start_time": "2023-05-30T17:01:04.228Z"
   },
   {
    "duration": 19,
    "start_time": "2023-05-30T17:01:04.240Z"
   },
   {
    "duration": 20,
    "start_time": "2023-05-30T17:01:04.261Z"
   },
   {
    "duration": 11,
    "start_time": "2023-05-30T17:01:04.283Z"
   },
   {
    "duration": 21,
    "start_time": "2023-05-30T17:01:04.295Z"
   },
   {
    "duration": 14,
    "start_time": "2023-05-30T17:01:04.318Z"
   },
   {
    "duration": 167,
    "start_time": "2023-05-30T17:01:04.333Z"
   },
   {
    "duration": 162,
    "start_time": "2023-05-30T17:01:04.502Z"
   },
   {
    "duration": 16,
    "start_time": "2023-05-30T17:01:04.666Z"
   },
   {
    "duration": 133,
    "start_time": "2023-05-30T17:01:04.683Z"
   },
   {
    "duration": 9,
    "start_time": "2023-05-30T17:01:04.818Z"
   },
   {
    "duration": 176,
    "start_time": "2023-05-30T17:01:04.828Z"
   },
   {
    "duration": 7,
    "start_time": "2023-05-30T17:01:05.006Z"
   },
   {
    "duration": 25,
    "start_time": "2023-05-30T17:01:05.015Z"
   },
   {
    "duration": 305,
    "start_time": "2023-05-30T17:01:05.042Z"
   },
   {
    "duration": 170,
    "start_time": "2023-05-30T17:01:05.351Z"
   },
   {
    "duration": 319,
    "start_time": "2023-05-30T17:01:05.523Z"
   },
   {
    "duration": 158,
    "start_time": "2023-05-30T17:01:05.845Z"
   },
   {
    "duration": 27,
    "start_time": "2023-05-30T17:01:06.005Z"
   },
   {
    "duration": 10,
    "start_time": "2023-05-30T17:01:06.034Z"
   },
   {
    "duration": 43,
    "start_time": "2023-05-30T17:01:06.046Z"
   },
   {
    "duration": 755,
    "start_time": "2023-05-30T17:01:06.091Z"
   },
   {
    "duration": 5,
    "start_time": "2023-05-30T17:01:06.848Z"
   },
   {
    "duration": 24,
    "start_time": "2023-05-30T17:01:06.855Z"
   },
   {
    "duration": 42,
    "start_time": "2023-05-30T17:01:06.881Z"
   },
   {
    "duration": 138,
    "start_time": "2023-05-30T17:01:06.925Z"
   },
   {
    "duration": 43,
    "start_time": "2023-05-30T17:01:07.065Z"
   },
   {
    "duration": 39,
    "start_time": "2023-05-30T17:01:07.110Z"
   },
   {
    "duration": 4,
    "start_time": "2023-05-30T17:01:07.151Z"
   },
   {
    "duration": 18526,
    "start_time": "2023-05-30T17:01:07.156Z"
   },
   {
    "duration": 23,
    "start_time": "2023-05-30T17:01:25.684Z"
   },
   {
    "duration": 20,
    "start_time": "2023-05-30T17:01:25.708Z"
   },
   {
    "duration": 422,
    "start_time": "2023-05-30T17:01:25.730Z"
   },
   {
    "duration": 6,
    "start_time": "2023-05-30T17:01:26.154Z"
   },
   {
    "duration": 19,
    "start_time": "2023-05-30T17:01:26.161Z"
   },
   {
    "duration": 5,
    "start_time": "2023-05-30T17:01:26.181Z"
   },
   {
    "duration": 8,
    "start_time": "2023-05-30T17:01:26.188Z"
   },
   {
    "duration": 7,
    "start_time": "2023-05-30T17:01:26.198Z"
   },
   {
    "duration": 8,
    "start_time": "2023-05-30T17:01:26.206Z"
   },
   {
    "duration": 7,
    "start_time": "2023-05-30T17:01:26.216Z"
   },
   {
    "duration": 9,
    "start_time": "2023-05-30T17:01:26.225Z"
   },
   {
    "duration": 642,
    "start_time": "2023-05-30T17:01:26.236Z"
   },
   {
    "duration": 153,
    "start_time": "2023-05-30T17:01:26.879Z"
   },
   {
    "duration": 4,
    "start_time": "2023-05-30T17:01:27.034Z"
   },
   {
    "duration": 23,
    "start_time": "2023-05-30T17:01:27.040Z"
   },
   {
    "duration": 157,
    "start_time": "2023-05-30T17:01:27.064Z"
   },
   {
    "duration": 11,
    "start_time": "2023-05-30T17:02:05.909Z"
   },
   {
    "duration": 178,
    "start_time": "2023-05-30T17:08:49.450Z"
   },
   {
    "duration": 89,
    "start_time": "2023-05-30T17:10:10.570Z"
   },
   {
    "duration": 83,
    "start_time": "2023-05-30T17:11:20.774Z"
   },
   {
    "duration": 154,
    "start_time": "2023-05-30T17:11:52.807Z"
   },
   {
    "duration": 145,
    "start_time": "2023-05-30T17:11:58.647Z"
   },
   {
    "duration": 156,
    "start_time": "2023-05-30T17:12:11.359Z"
   },
   {
    "duration": 156,
    "start_time": "2023-05-30T17:12:41.808Z"
   },
   {
    "duration": 94,
    "start_time": "2023-05-30T17:12:52.373Z"
   },
   {
    "duration": 75,
    "start_time": "2023-05-30T17:13:01.124Z"
   },
   {
    "duration": 129,
    "start_time": "2023-05-30T17:13:45.144Z"
   },
   {
    "duration": 140,
    "start_time": "2023-05-30T17:14:14.849Z"
   },
   {
    "duration": 172,
    "start_time": "2023-05-30T17:14:33.879Z"
   },
   {
    "duration": 76,
    "start_time": "2023-05-30T17:14:39.601Z"
   },
   {
    "duration": 146,
    "start_time": "2023-05-30T17:14:45.367Z"
   },
   {
    "duration": 257,
    "start_time": "2023-05-30T17:14:48.686Z"
   },
   {
    "duration": 15,
    "start_time": "2023-05-30T17:15:58.585Z"
   },
   {
    "duration": 245,
    "start_time": "2023-05-30T17:19:15.184Z"
   },
   {
    "duration": 17,
    "start_time": "2023-05-30T17:19:32.794Z"
   },
   {
    "duration": 252,
    "start_time": "2023-05-30T17:19:35.175Z"
   },
   {
    "duration": 237,
    "start_time": "2023-05-30T17:20:47.053Z"
   },
   {
    "duration": 239,
    "start_time": "2023-05-30T17:20:56.428Z"
   },
   {
    "duration": 121,
    "start_time": "2023-05-30T17:27:02.096Z"
   },
   {
    "duration": 164,
    "start_time": "2023-05-30T17:27:07.046Z"
   },
   {
    "duration": 275,
    "start_time": "2023-05-30T17:27:26.843Z"
   },
   {
    "duration": 186,
    "start_time": "2023-05-30T17:27:31.063Z"
   },
   {
    "duration": 182,
    "start_time": "2023-05-30T17:27:50.957Z"
   },
   {
    "duration": 265,
    "start_time": "2023-05-30T17:28:56.145Z"
   },
   {
    "duration": 234,
    "start_time": "2023-05-30T17:29:01.064Z"
   },
   {
    "duration": 22,
    "start_time": "2023-05-30T17:29:25.321Z"
   },
   {
    "duration": 270,
    "start_time": "2023-05-30T17:29:27.801Z"
   },
   {
    "duration": 19,
    "start_time": "2023-05-30T17:32:12.215Z"
   },
   {
    "duration": 324,
    "start_time": "2023-05-30T17:32:30.437Z"
   },
   {
    "duration": 242,
    "start_time": "2023-05-30T17:32:36.100Z"
   },
   {
    "duration": 233,
    "start_time": "2023-05-30T17:32:44.579Z"
   },
   {
    "duration": 252,
    "start_time": "2023-05-30T17:32:48.980Z"
   },
   {
    "duration": 19,
    "start_time": "2023-05-30T17:32:57.106Z"
   },
   {
    "duration": 229,
    "start_time": "2023-05-30T17:32:58.110Z"
   },
   {
    "duration": 7,
    "start_time": "2023-05-30T17:33:21.807Z"
   },
   {
    "duration": 428,
    "start_time": "2023-05-30T17:33:37.339Z"
   },
   {
    "duration": 151,
    "start_time": "2023-05-30T17:34:00.714Z"
   },
   {
    "duration": 198,
    "start_time": "2023-05-30T17:34:53.062Z"
   },
   {
    "duration": 149,
    "start_time": "2023-05-30T17:37:27.592Z"
   },
   {
    "duration": 143,
    "start_time": "2023-05-30T17:39:06.203Z"
   },
   {
    "duration": 145,
    "start_time": "2023-05-30T17:39:13.312Z"
   },
   {
    "duration": 145,
    "start_time": "2023-05-30T17:39:18.033Z"
   },
   {
    "duration": 164,
    "start_time": "2023-05-30T17:39:26.227Z"
   },
   {
    "duration": 175,
    "start_time": "2023-05-30T17:39:56.549Z"
   },
   {
    "duration": 154,
    "start_time": "2023-05-30T17:40:04.354Z"
   },
   {
    "duration": 257,
    "start_time": "2023-05-30T17:40:08.937Z"
   },
   {
    "duration": 172,
    "start_time": "2023-05-30T17:40:17.706Z"
   },
   {
    "duration": 269,
    "start_time": "2023-05-30T17:42:26.496Z"
   },
   {
    "duration": 167,
    "start_time": "2023-05-30T17:42:31.345Z"
   },
   {
    "duration": 159,
    "start_time": "2023-05-30T17:42:47.258Z"
   },
   {
    "duration": 165,
    "start_time": "2023-05-30T17:45:19.531Z"
   },
   {
    "duration": 161,
    "start_time": "2023-05-30T17:45:23.919Z"
   },
   {
    "duration": 147,
    "start_time": "2023-05-30T17:45:30.554Z"
   },
   {
    "duration": 162,
    "start_time": "2023-05-30T17:45:50.579Z"
   },
   {
    "duration": 151,
    "start_time": "2023-05-30T17:46:01.345Z"
   },
   {
    "duration": 250,
    "start_time": "2023-05-30T17:46:08.748Z"
   },
   {
    "duration": 4,
    "start_time": "2023-05-30T17:47:55.549Z"
   },
   {
    "duration": 4,
    "start_time": "2023-05-30T17:48:05.202Z"
   },
   {
    "duration": 9,
    "start_time": "2023-05-30T17:49:07.138Z"
   },
   {
    "duration": 24,
    "start_time": "2023-05-30T17:49:45.054Z"
   },
   {
    "duration": 5,
    "start_time": "2023-05-30T17:49:48.100Z"
   },
   {
    "duration": 4,
    "start_time": "2023-05-30T17:49:48.538Z"
   },
   {
    "duration": 34,
    "start_time": "2023-05-30T17:51:19.331Z"
   },
   {
    "duration": 5,
    "start_time": "2023-05-30T17:51:21.826Z"
   },
   {
    "duration": 5,
    "start_time": "2023-05-30T17:51:22.343Z"
   },
   {
    "duration": 384,
    "start_time": "2023-05-30T17:52:30.412Z"
   },
   {
    "duration": 792,
    "start_time": "2023-05-30T17:52:33.906Z"
   },
   {
    "duration": 955,
    "start_time": "2023-05-30T17:52:47.058Z"
   },
   {
    "duration": 819,
    "start_time": "2023-05-30T17:53:05.199Z"
   },
   {
    "duration": 758,
    "start_time": "2023-05-30T17:53:38.685Z"
   },
   {
    "duration": 8,
    "start_time": "2023-05-30T17:53:46.332Z"
   },
   {
    "duration": 29,
    "start_time": "2023-05-30T17:53:48.491Z"
   },
   {
    "duration": 924,
    "start_time": "2023-05-30T17:53:49.759Z"
   },
   {
    "duration": 4,
    "start_time": "2023-05-30T17:53:57.915Z"
   },
   {
    "duration": 7,
    "start_time": "2023-05-30T17:53:58.694Z"
   },
   {
    "duration": 39,
    "start_time": "2023-05-30T17:56:57.600Z"
   },
   {
    "duration": 688,
    "start_time": "2023-05-31T15:25:10.829Z"
   },
   {
    "duration": 107,
    "start_time": "2023-05-31T15:25:11.519Z"
   },
   {
    "duration": 20,
    "start_time": "2023-05-31T15:25:11.628Z"
   },
   {
    "duration": 19,
    "start_time": "2023-05-31T15:25:11.650Z"
   },
   {
    "duration": 15,
    "start_time": "2023-05-31T15:25:11.671Z"
   },
   {
    "duration": 37,
    "start_time": "2023-05-31T15:25:11.688Z"
   },
   {
    "duration": 24,
    "start_time": "2023-05-31T15:25:11.727Z"
   },
   {
    "duration": 28,
    "start_time": "2023-05-31T15:25:11.753Z"
   },
   {
    "duration": 11,
    "start_time": "2023-05-31T15:25:11.782Z"
   },
   {
    "duration": 5,
    "start_time": "2023-05-31T15:25:11.797Z"
   },
   {
    "duration": 10,
    "start_time": "2023-05-31T15:25:11.817Z"
   },
   {
    "duration": 11,
    "start_time": "2023-05-31T15:25:11.829Z"
   },
   {
    "duration": 6,
    "start_time": "2023-05-31T15:25:11.842Z"
   },
   {
    "duration": 7,
    "start_time": "2023-05-31T15:25:11.850Z"
   },
   {
    "duration": 11,
    "start_time": "2023-05-31T15:25:11.859Z"
   },
   {
    "duration": 207,
    "start_time": "2023-05-31T15:25:11.872Z"
   },
   {
    "duration": 228,
    "start_time": "2023-05-31T15:25:12.082Z"
   },
   {
    "duration": 268,
    "start_time": "2023-05-31T15:25:12.312Z"
   },
   {
    "duration": 23,
    "start_time": "2023-05-31T15:25:12.582Z"
   },
   {
    "duration": 310,
    "start_time": "2023-05-31T15:25:12.606Z"
   },
   {
    "duration": 7,
    "start_time": "2023-05-31T15:25:12.918Z"
   },
   {
    "duration": 236,
    "start_time": "2023-05-31T15:25:12.927Z"
   },
   {
    "duration": 6,
    "start_time": "2023-05-31T15:25:13.164Z"
   },
   {
    "duration": 18,
    "start_time": "2023-05-31T15:25:13.172Z"
   },
   {
    "duration": 154,
    "start_time": "2023-05-31T15:25:13.192Z"
   },
   {
    "duration": 180,
    "start_time": "2023-05-31T15:25:13.347Z"
   },
   {
    "duration": 7,
    "start_time": "2023-05-31T15:25:13.529Z"
   },
   {
    "duration": 94,
    "start_time": "2023-05-31T15:25:13.541Z"
   },
   {
    "duration": 162,
    "start_time": "2023-05-31T15:25:13.637Z"
   },
   {
    "duration": 19,
    "start_time": "2023-05-31T15:25:13.801Z"
   },
   {
    "duration": 19,
    "start_time": "2023-05-31T15:25:13.822Z"
   },
   {
    "duration": 220,
    "start_time": "2023-05-31T15:25:13.843Z"
   },
   {
    "duration": 227,
    "start_time": "2023-05-31T15:25:14.065Z"
   },
   {
    "duration": 157,
    "start_time": "2023-05-31T15:25:14.294Z"
   },
   {
    "duration": 334,
    "start_time": "2023-05-31T15:25:14.457Z"
   },
   {
    "duration": 161,
    "start_time": "2023-05-31T15:25:14.793Z"
   },
   {
    "duration": 164,
    "start_time": "2023-05-31T15:25:14.956Z"
   },
   {
    "duration": 37,
    "start_time": "2023-05-31T15:25:15.123Z"
   },
   {
    "duration": 5,
    "start_time": "2023-05-31T15:25:15.162Z"
   },
   {
    "duration": 6,
    "start_time": "2023-05-31T15:25:15.169Z"
   },
   {
    "duration": 18,
    "start_time": "2023-05-31T15:25:15.177Z"
   },
   {
    "duration": 47,
    "start_time": "2023-05-31T15:25:15.197Z"
   },
   {
    "duration": 695,
    "start_time": "2023-05-31T15:25:15.246Z"
   },
   {
    "duration": 6,
    "start_time": "2023-05-31T15:25:15.943Z"
   },
   {
    "duration": 17,
    "start_time": "2023-05-31T15:25:15.951Z"
   },
   {
    "duration": 983,
    "start_time": "2023-05-31T15:25:15.970Z"
   },
   {
    "duration": 14,
    "start_time": "2023-05-31T15:25:16.955Z"
   },
   {
    "duration": 17,
    "start_time": "2023-05-31T15:25:16.971Z"
   },
   {
    "duration": 43,
    "start_time": "2023-05-31T15:25:16.990Z"
   },
   {
    "duration": 476,
    "start_time": "2023-05-31T15:25:17.036Z"
   },
   {
    "duration": 6,
    "start_time": "2023-05-31T15:25:17.514Z"
   },
   {
    "duration": 12,
    "start_time": "2023-05-31T15:25:17.522Z"
   },
   {
    "duration": 11,
    "start_time": "2023-05-31T15:25:17.537Z"
   },
   {
    "duration": 5,
    "start_time": "2023-05-31T15:25:17.550Z"
   },
   {
    "duration": 12,
    "start_time": "2023-05-31T15:25:17.558Z"
   },
   {
    "duration": 6,
    "start_time": "2023-05-31T15:25:17.572Z"
   },
   {
    "duration": 37,
    "start_time": "2023-05-31T15:25:17.580Z"
   },
   {
    "duration": 8,
    "start_time": "2023-05-31T15:25:17.620Z"
   },
   {
    "duration": 12,
    "start_time": "2023-05-31T15:25:17.629Z"
   },
   {
    "duration": 6,
    "start_time": "2023-05-31T15:25:17.643Z"
   },
   {
    "duration": 8,
    "start_time": "2023-05-31T15:25:17.650Z"
   },
   {
    "duration": 531,
    "start_time": "2023-05-31T15:25:17.660Z"
   },
   {
    "duration": 159,
    "start_time": "2023-05-31T15:25:18.192Z"
   },
   {
    "duration": 5,
    "start_time": "2023-05-31T15:25:18.353Z"
   },
   {
    "duration": 7,
    "start_time": "2023-05-31T15:25:18.360Z"
   },
   {
    "duration": 168,
    "start_time": "2023-05-31T15:25:18.369Z"
   },
   {
    "duration": 7,
    "start_time": "2023-05-31T15:29:07.308Z"
   },
   {
    "duration": 672,
    "start_time": "2023-05-31T15:33:27.772Z"
   },
   {
    "duration": 115,
    "start_time": "2023-05-31T15:33:28.446Z"
   },
   {
    "duration": 22,
    "start_time": "2023-05-31T15:33:28.562Z"
   },
   {
    "duration": 20,
    "start_time": "2023-05-31T15:33:28.586Z"
   },
   {
    "duration": 17,
    "start_time": "2023-05-31T15:33:28.608Z"
   },
   {
    "duration": 9,
    "start_time": "2023-05-31T15:33:28.627Z"
   },
   {
    "duration": 8,
    "start_time": "2023-05-31T15:33:28.638Z"
   },
   {
    "duration": 29,
    "start_time": "2023-05-31T15:33:28.648Z"
   },
   {
    "duration": 12,
    "start_time": "2023-05-31T15:33:28.678Z"
   },
   {
    "duration": 24,
    "start_time": "2023-05-31T15:33:28.693Z"
   },
   {
    "duration": 9,
    "start_time": "2023-05-31T15:33:28.719Z"
   },
   {
    "duration": 9,
    "start_time": "2023-05-31T15:33:28.730Z"
   },
   {
    "duration": 7,
    "start_time": "2023-05-31T15:33:28.741Z"
   },
   {
    "duration": 7,
    "start_time": "2023-05-31T15:33:28.750Z"
   },
   {
    "duration": 7,
    "start_time": "2023-05-31T15:33:28.758Z"
   },
   {
    "duration": 238,
    "start_time": "2023-05-31T15:33:28.767Z"
   },
   {
    "duration": 239,
    "start_time": "2023-05-31T15:33:29.006Z"
   },
   {
    "duration": 269,
    "start_time": "2023-05-31T15:33:29.246Z"
   },
   {
    "duration": 25,
    "start_time": "2023-05-31T15:33:29.517Z"
   },
   {
    "duration": 228,
    "start_time": "2023-05-31T15:33:29.543Z"
   },
   {
    "duration": 7,
    "start_time": "2023-05-31T15:33:29.772Z"
   },
   {
    "duration": 228,
    "start_time": "2023-05-31T15:33:29.781Z"
   },
   {
    "duration": 7,
    "start_time": "2023-05-31T15:33:30.011Z"
   },
   {
    "duration": 12,
    "start_time": "2023-05-31T15:33:30.020Z"
   },
   {
    "duration": 164,
    "start_time": "2023-05-31T15:33:30.033Z"
   },
   {
    "duration": 168,
    "start_time": "2023-05-31T15:33:30.199Z"
   },
   {
    "duration": 8,
    "start_time": "2023-05-31T15:33:30.369Z"
   },
   {
    "duration": 122,
    "start_time": "2023-05-31T15:33:30.383Z"
   },
   {
    "duration": 164,
    "start_time": "2023-05-31T15:33:30.507Z"
   },
   {
    "duration": 8,
    "start_time": "2023-05-31T15:33:30.673Z"
   },
   {
    "duration": 60,
    "start_time": "2023-05-31T15:33:30.683Z"
   },
   {
    "duration": 250,
    "start_time": "2023-05-31T15:33:30.745Z"
   },
   {
    "duration": 257,
    "start_time": "2023-05-31T15:33:30.997Z"
   },
   {
    "duration": 183,
    "start_time": "2023-05-31T15:33:31.257Z"
   },
   {
    "duration": 286,
    "start_time": "2023-05-31T15:33:31.442Z"
   },
   {
    "duration": 168,
    "start_time": "2023-05-31T15:33:31.730Z"
   },
   {
    "duration": 172,
    "start_time": "2023-05-31T15:33:31.900Z"
   },
   {
    "duration": 23,
    "start_time": "2023-05-31T15:33:32.074Z"
   },
   {
    "duration": 6,
    "start_time": "2023-05-31T15:33:32.118Z"
   },
   {
    "duration": 11,
    "start_time": "2023-05-31T15:33:32.126Z"
   },
   {
    "duration": 17,
    "start_time": "2023-05-31T15:33:32.139Z"
   },
   {
    "duration": 32,
    "start_time": "2023-05-31T15:33:32.159Z"
   },
   {
    "duration": 720,
    "start_time": "2023-05-31T15:33:32.193Z"
   },
   {
    "duration": 5,
    "start_time": "2023-05-31T15:33:32.918Z"
   },
   {
    "duration": 23,
    "start_time": "2023-05-31T15:33:32.925Z"
   },
   {
    "duration": 981,
    "start_time": "2023-05-31T15:33:32.952Z"
   },
   {
    "duration": 19,
    "start_time": "2023-05-31T15:33:33.935Z"
   },
   {
    "duration": 12,
    "start_time": "2023-05-31T15:33:33.955Z"
   },
   {
    "duration": 19,
    "start_time": "2023-05-31T15:33:33.969Z"
   },
   {
    "duration": 430,
    "start_time": "2023-05-31T15:33:33.989Z"
   },
   {
    "duration": 7,
    "start_time": "2023-05-31T15:33:34.420Z"
   },
   {
    "duration": 8,
    "start_time": "2023-05-31T15:33:34.429Z"
   },
   {
    "duration": 31,
    "start_time": "2023-05-31T15:33:34.443Z"
   },
   {
    "duration": 35,
    "start_time": "2023-05-31T15:33:34.476Z"
   },
   {
    "duration": 32,
    "start_time": "2023-05-31T15:33:34.514Z"
   },
   {
    "duration": 23,
    "start_time": "2023-05-31T15:33:34.548Z"
   },
   {
    "duration": 37,
    "start_time": "2023-05-31T15:33:34.573Z"
   },
   {
    "duration": 27,
    "start_time": "2023-05-31T15:33:34.611Z"
   },
   {
    "duration": 41,
    "start_time": "2023-05-31T15:33:34.640Z"
   },
   {
    "duration": 36,
    "start_time": "2023-05-31T15:33:34.682Z"
   },
   {
    "duration": 22,
    "start_time": "2023-05-31T15:33:34.720Z"
   },
   {
    "duration": 484,
    "start_time": "2023-05-31T15:33:34.745Z"
   },
   {
    "duration": 145,
    "start_time": "2023-05-31T15:33:35.231Z"
   },
   {
    "duration": 4,
    "start_time": "2023-05-31T15:33:35.378Z"
   },
   {
    "duration": 24,
    "start_time": "2023-05-31T15:33:35.384Z"
   },
   {
    "duration": 138,
    "start_time": "2023-05-31T15:33:35.409Z"
   },
   {
    "duration": 875,
    "start_time": "2023-05-31T15:50:41.912Z"
   },
   {
    "duration": 624,
    "start_time": "2023-05-31T15:50:42.790Z"
   },
   {
    "duration": 23,
    "start_time": "2023-05-31T15:50:43.416Z"
   },
   {
    "duration": 17,
    "start_time": "2023-05-31T15:50:43.440Z"
   },
   {
    "duration": 16,
    "start_time": "2023-05-31T15:50:43.460Z"
   },
   {
    "duration": 11,
    "start_time": "2023-05-31T15:50:43.478Z"
   },
   {
    "duration": 11,
    "start_time": "2023-05-31T15:50:43.490Z"
   },
   {
    "duration": 46,
    "start_time": "2023-05-31T15:50:43.503Z"
   },
   {
    "duration": 14,
    "start_time": "2023-05-31T15:50:43.550Z"
   },
   {
    "duration": 4,
    "start_time": "2023-05-31T15:50:43.566Z"
   },
   {
    "duration": 27,
    "start_time": "2023-05-31T15:50:43.572Z"
   },
   {
    "duration": 38,
    "start_time": "2023-05-31T15:50:43.600Z"
   },
   {
    "duration": 6,
    "start_time": "2023-05-31T15:50:43.640Z"
   },
   {
    "duration": 9,
    "start_time": "2023-05-31T15:50:43.648Z"
   },
   {
    "duration": 19,
    "start_time": "2023-05-31T15:50:43.658Z"
   },
   {
    "duration": 166,
    "start_time": "2023-05-31T15:50:43.679Z"
   },
   {
    "duration": 265,
    "start_time": "2023-05-31T15:50:43.847Z"
   },
   {
    "duration": 295,
    "start_time": "2023-05-31T15:50:44.114Z"
   },
   {
    "duration": 28,
    "start_time": "2023-05-31T15:50:44.411Z"
   },
   {
    "duration": 230,
    "start_time": "2023-05-31T15:50:44.441Z"
   },
   {
    "duration": 6,
    "start_time": "2023-05-31T15:50:44.672Z"
   },
   {
    "duration": 261,
    "start_time": "2023-05-31T15:50:44.679Z"
   },
   {
    "duration": 5,
    "start_time": "2023-05-31T15:50:44.941Z"
   },
   {
    "duration": 10,
    "start_time": "2023-05-31T15:50:44.948Z"
   },
   {
    "duration": 156,
    "start_time": "2023-05-31T15:50:44.959Z"
   },
   {
    "duration": 164,
    "start_time": "2023-05-31T15:50:45.116Z"
   },
   {
    "duration": 6,
    "start_time": "2023-05-31T15:50:45.281Z"
   },
   {
    "duration": 93,
    "start_time": "2023-05-31T15:50:45.288Z"
   },
   {
    "duration": 144,
    "start_time": "2023-05-31T15:50:45.383Z"
   },
   {
    "duration": 8,
    "start_time": "2023-05-31T15:50:45.538Z"
   },
   {
    "duration": 10,
    "start_time": "2023-05-31T15:50:45.547Z"
   },
   {
    "duration": 224,
    "start_time": "2023-05-31T15:50:45.559Z"
   },
   {
    "duration": 255,
    "start_time": "2023-05-31T15:50:45.785Z"
   },
   {
    "duration": 149,
    "start_time": "2023-05-31T15:50:46.041Z"
   },
   {
    "duration": 258,
    "start_time": "2023-05-31T15:50:46.192Z"
   },
   {
    "duration": 155,
    "start_time": "2023-05-31T15:50:46.452Z"
   },
   {
    "duration": 172,
    "start_time": "2023-05-31T15:50:46.609Z"
   },
   {
    "duration": 23,
    "start_time": "2023-05-31T15:50:46.783Z"
   },
   {
    "duration": 4,
    "start_time": "2023-05-31T15:50:46.808Z"
   },
   {
    "duration": 11,
    "start_time": "2023-05-31T15:50:46.832Z"
   },
   {
    "duration": 8,
    "start_time": "2023-05-31T15:50:46.849Z"
   },
   {
    "duration": 27,
    "start_time": "2023-05-31T15:50:46.859Z"
   },
   {
    "duration": 736,
    "start_time": "2023-05-31T15:50:46.887Z"
   },
   {
    "duration": 15,
    "start_time": "2023-05-31T15:50:47.625Z"
   },
   {
    "duration": 7,
    "start_time": "2023-05-31T15:50:47.642Z"
   },
   {
    "duration": 873,
    "start_time": "2023-05-31T15:50:47.650Z"
   },
   {
    "duration": 17,
    "start_time": "2023-05-31T15:50:48.527Z"
   },
   {
    "duration": 17,
    "start_time": "2023-05-31T15:50:48.546Z"
   },
   {
    "duration": 18,
    "start_time": "2023-05-31T15:50:48.564Z"
   },
   {
    "duration": 462,
    "start_time": "2023-05-31T15:50:48.584Z"
   },
   {
    "duration": 8,
    "start_time": "2023-05-31T15:50:49.047Z"
   },
   {
    "duration": 9,
    "start_time": "2023-05-31T15:50:49.056Z"
   },
   {
    "duration": 6,
    "start_time": "2023-05-31T15:50:49.066Z"
   },
   {
    "duration": 8,
    "start_time": "2023-05-31T15:50:49.074Z"
   },
   {
    "duration": 6,
    "start_time": "2023-05-31T15:50:49.083Z"
   },
   {
    "duration": 37,
    "start_time": "2023-05-31T15:50:49.090Z"
   },
   {
    "duration": 12,
    "start_time": "2023-05-31T15:50:49.129Z"
   },
   {
    "duration": 5,
    "start_time": "2023-05-31T15:50:49.143Z"
   },
   {
    "duration": 14,
    "start_time": "2023-05-31T15:50:49.149Z"
   },
   {
    "duration": 29,
    "start_time": "2023-05-31T15:50:49.164Z"
   },
   {
    "duration": 7,
    "start_time": "2023-05-31T15:50:49.195Z"
   },
   {
    "duration": 569,
    "start_time": "2023-05-31T15:50:49.203Z"
   },
   {
    "duration": 182,
    "start_time": "2023-05-31T15:50:49.775Z"
   },
   {
    "duration": 5,
    "start_time": "2023-05-31T15:50:49.959Z"
   },
   {
    "duration": 25,
    "start_time": "2023-05-31T15:50:49.966Z"
   },
   {
    "duration": 154,
    "start_time": "2023-05-31T15:50:49.993Z"
   },
   {
    "duration": 6,
    "start_time": "2023-05-31T15:57:16.162Z"
   },
   {
    "duration": 6,
    "start_time": "2023-05-31T15:57:21.474Z"
   },
   {
    "duration": 4,
    "start_time": "2023-05-31T17:25:26.189Z"
   },
   {
    "duration": 6,
    "start_time": "2023-05-31T17:25:35.725Z"
   },
   {
    "duration": 636,
    "start_time": "2023-05-31T17:26:06.017Z"
   },
   {
    "duration": 138,
    "start_time": "2023-05-31T17:26:06.655Z"
   },
   {
    "duration": 19,
    "start_time": "2023-05-31T17:26:06.795Z"
   },
   {
    "duration": 17,
    "start_time": "2023-05-31T17:26:06.817Z"
   },
   {
    "duration": 19,
    "start_time": "2023-05-31T17:26:06.836Z"
   },
   {
    "duration": 7,
    "start_time": "2023-05-31T17:26:06.857Z"
   },
   {
    "duration": 6,
    "start_time": "2023-05-31T17:26:06.866Z"
   },
   {
    "duration": 26,
    "start_time": "2023-05-31T17:26:06.873Z"
   },
   {
    "duration": 41,
    "start_time": "2023-05-31T17:26:06.900Z"
   },
   {
    "duration": 27,
    "start_time": "2023-05-31T17:26:06.944Z"
   },
   {
    "duration": 32,
    "start_time": "2023-05-31T17:26:06.972Z"
   },
   {
    "duration": 34,
    "start_time": "2023-05-31T17:26:07.006Z"
   },
   {
    "duration": 34,
    "start_time": "2023-05-31T17:26:07.041Z"
   },
   {
    "duration": 13,
    "start_time": "2023-05-31T17:26:07.076Z"
   },
   {
    "duration": 15,
    "start_time": "2023-05-31T17:26:07.091Z"
   },
   {
    "duration": 168,
    "start_time": "2023-05-31T17:26:07.107Z"
   },
   {
    "duration": 251,
    "start_time": "2023-05-31T17:26:07.277Z"
   },
   {
    "duration": 280,
    "start_time": "2023-05-31T17:26:07.530Z"
   },
   {
    "duration": 30,
    "start_time": "2023-05-31T17:26:07.812Z"
   },
   {
    "duration": 246,
    "start_time": "2023-05-31T17:26:07.844Z"
   },
   {
    "duration": 5,
    "start_time": "2023-05-31T17:26:08.092Z"
   },
   {
    "duration": 238,
    "start_time": "2023-05-31T17:26:08.099Z"
   },
   {
    "duration": 6,
    "start_time": "2023-05-31T17:26:08.338Z"
   },
   {
    "duration": 18,
    "start_time": "2023-05-31T17:26:08.346Z"
   },
   {
    "duration": 143,
    "start_time": "2023-05-31T17:26:08.366Z"
   },
   {
    "duration": 155,
    "start_time": "2023-05-31T17:26:08.511Z"
   },
   {
    "duration": 6,
    "start_time": "2023-05-31T17:26:08.668Z"
   },
   {
    "duration": 91,
    "start_time": "2023-05-31T17:26:08.677Z"
   },
   {
    "duration": 171,
    "start_time": "2023-05-31T17:26:08.770Z"
   },
   {
    "duration": 7,
    "start_time": "2023-05-31T17:26:08.942Z"
   },
   {
    "duration": 11,
    "start_time": "2023-05-31T17:26:08.951Z"
   },
   {
    "duration": 220,
    "start_time": "2023-05-31T17:26:08.963Z"
   },
   {
    "duration": 219,
    "start_time": "2023-05-31T17:26:09.185Z"
   },
   {
    "duration": 154,
    "start_time": "2023-05-31T17:26:09.406Z"
   },
   {
    "duration": 330,
    "start_time": "2023-05-31T17:26:09.562Z"
   },
   {
    "duration": 191,
    "start_time": "2023-05-31T17:26:09.894Z"
   },
   {
    "duration": 149,
    "start_time": "2023-05-31T17:26:10.086Z"
   },
   {
    "duration": 22,
    "start_time": "2023-05-31T17:26:10.238Z"
   },
   {
    "duration": 3,
    "start_time": "2023-05-31T17:26:10.262Z"
   },
   {
    "duration": 6,
    "start_time": "2023-05-31T17:26:10.266Z"
   },
   {
    "duration": 7,
    "start_time": "2023-05-31T17:26:10.273Z"
   },
   {
    "duration": 18,
    "start_time": "2023-05-31T17:26:10.282Z"
   },
   {
    "duration": 726,
    "start_time": "2023-05-31T17:26:10.301Z"
   },
   {
    "duration": 13,
    "start_time": "2023-05-31T17:26:11.029Z"
   },
   {
    "duration": 6,
    "start_time": "2023-05-31T17:26:11.043Z"
   },
   {
    "duration": 846,
    "start_time": "2023-05-31T17:26:11.050Z"
   },
   {
    "duration": 12,
    "start_time": "2023-05-31T17:26:11.898Z"
   },
   {
    "duration": 30,
    "start_time": "2023-05-31T17:26:11.911Z"
   },
   {
    "duration": 18,
    "start_time": "2023-05-31T17:26:11.943Z"
   },
   {
    "duration": 401,
    "start_time": "2023-05-31T17:26:11.963Z"
   },
   {
    "duration": 6,
    "start_time": "2023-05-31T17:26:12.366Z"
   },
   {
    "duration": 8,
    "start_time": "2023-05-31T17:26:12.374Z"
   },
   {
    "duration": 5,
    "start_time": "2023-05-31T17:26:12.383Z"
   },
   {
    "duration": 6,
    "start_time": "2023-05-31T17:26:12.389Z"
   },
   {
    "duration": 30,
    "start_time": "2023-05-31T17:26:12.397Z"
   },
   {
    "duration": 5,
    "start_time": "2023-05-31T17:26:12.428Z"
   },
   {
    "duration": 6,
    "start_time": "2023-05-31T17:26:12.442Z"
   },
   {
    "duration": 6,
    "start_time": "2023-05-31T17:26:12.449Z"
   },
   {
    "duration": 6,
    "start_time": "2023-05-31T17:26:12.456Z"
   },
   {
    "duration": 6,
    "start_time": "2023-05-31T17:26:12.463Z"
   },
   {
    "duration": 5,
    "start_time": "2023-05-31T17:26:12.470Z"
   },
   {
    "duration": 565,
    "start_time": "2023-05-31T17:26:12.476Z"
   },
   {
    "duration": 127,
    "start_time": "2023-05-31T17:26:13.043Z"
   },
   {
    "duration": 4,
    "start_time": "2023-05-31T17:26:13.171Z"
   },
   {
    "duration": 17,
    "start_time": "2023-05-31T17:26:13.176Z"
   },
   {
    "duration": 166,
    "start_time": "2023-05-31T17:26:13.195Z"
   },
   {
    "duration": 2,
    "start_time": "2023-06-01T15:34:29.154Z"
   },
   {
    "duration": 123,
    "start_time": "2023-06-01T15:34:29.158Z"
   },
   {
    "duration": 17,
    "start_time": "2023-06-01T15:34:29.283Z"
   },
   {
    "duration": 41,
    "start_time": "2023-06-01T15:34:29.302Z"
   },
   {
    "duration": 21,
    "start_time": "2023-06-01T15:34:29.344Z"
   },
   {
    "duration": 11,
    "start_time": "2023-06-01T15:34:29.367Z"
   },
   {
    "duration": 9,
    "start_time": "2023-06-01T15:34:29.379Z"
   },
   {
    "duration": 24,
    "start_time": "2023-06-01T15:34:29.389Z"
   },
   {
    "duration": 16,
    "start_time": "2023-06-01T15:34:29.414Z"
   },
   {
    "duration": 15,
    "start_time": "2023-06-01T15:34:29.431Z"
   },
   {
    "duration": 16,
    "start_time": "2023-06-01T15:34:29.447Z"
   },
   {
    "duration": 105,
    "start_time": "2023-06-01T15:34:29.465Z"
   },
   {
    "duration": 5,
    "start_time": "2023-06-01T15:34:29.573Z"
   },
   {
    "duration": 6,
    "start_time": "2023-06-01T15:34:29.580Z"
   },
   {
    "duration": 8,
    "start_time": "2023-06-01T15:34:29.588Z"
   },
   {
    "duration": 139,
    "start_time": "2023-06-01T15:34:29.601Z"
   },
   {
    "duration": 205,
    "start_time": "2023-06-01T15:34:29.742Z"
   },
   {
    "duration": 208,
    "start_time": "2023-06-01T15:34:29.949Z"
   },
   {
    "duration": 15,
    "start_time": "2023-06-01T15:34:30.158Z"
   },
   {
    "duration": 223,
    "start_time": "2023-06-01T15:34:30.184Z"
   },
   {
    "duration": 7,
    "start_time": "2023-06-01T15:34:30.409Z"
   },
   {
    "duration": 226,
    "start_time": "2023-06-01T15:34:30.419Z"
   },
   {
    "duration": 6,
    "start_time": "2023-06-01T15:34:30.647Z"
   },
   {
    "duration": 75,
    "start_time": "2023-06-01T15:34:30.654Z"
   },
   {
    "duration": 156,
    "start_time": "2023-06-01T15:34:30.730Z"
   },
   {
    "duration": 150,
    "start_time": "2023-06-01T15:34:30.888Z"
   },
   {
    "duration": 6,
    "start_time": "2023-06-01T15:34:31.040Z"
   },
   {
    "duration": 197,
    "start_time": "2023-06-01T15:34:31.048Z"
   },
   {
    "duration": 141,
    "start_time": "2023-06-01T15:34:31.247Z"
   },
   {
    "duration": 6,
    "start_time": "2023-06-01T15:34:31.390Z"
   },
   {
    "duration": 45,
    "start_time": "2023-06-01T15:34:31.398Z"
   },
   {
    "duration": 209,
    "start_time": "2023-06-01T15:34:31.444Z"
   },
   {
    "duration": 162,
    "start_time": "2023-06-01T15:34:31.655Z"
   },
   {
    "duration": 147,
    "start_time": "2023-06-01T15:34:31.819Z"
   },
   {
    "duration": 247,
    "start_time": "2023-06-01T15:34:31.967Z"
   },
   {
    "duration": 141,
    "start_time": "2023-06-01T15:34:32.216Z"
   },
   {
    "duration": 143,
    "start_time": "2023-06-01T15:34:32.359Z"
   },
   {
    "duration": 22,
    "start_time": "2023-06-01T15:34:32.503Z"
   },
   {
    "duration": 4,
    "start_time": "2023-06-01T15:34:32.527Z"
   },
   {
    "duration": 13,
    "start_time": "2023-06-01T15:34:32.532Z"
   },
   {
    "duration": 22,
    "start_time": "2023-06-01T15:34:32.547Z"
   },
   {
    "duration": 33,
    "start_time": "2023-06-01T15:34:32.571Z"
   },
   {
    "duration": 687,
    "start_time": "2023-06-01T15:34:32.606Z"
   },
   {
    "duration": 4,
    "start_time": "2023-06-01T15:34:33.295Z"
   },
   {
    "duration": 13,
    "start_time": "2023-06-01T15:34:33.301Z"
   },
   {
    "duration": 816,
    "start_time": "2023-06-01T15:34:33.316Z"
   },
   {
    "duration": 11,
    "start_time": "2023-06-01T15:34:34.133Z"
   },
   {
    "duration": 22,
    "start_time": "2023-06-01T15:34:34.145Z"
   },
   {
    "duration": 44,
    "start_time": "2023-06-01T15:34:34.169Z"
   },
   {
    "duration": 12,
    "start_time": "2023-06-01T15:34:34.215Z"
   },
   {
    "duration": 11,
    "start_time": "2023-06-01T15:34:34.228Z"
   },
   {
    "duration": 19,
    "start_time": "2023-06-01T15:34:34.240Z"
   },
   {
    "duration": 17,
    "start_time": "2023-06-01T15:34:34.261Z"
   },
   {
    "duration": 18,
    "start_time": "2023-06-01T15:34:34.280Z"
   },
   {
    "duration": 13,
    "start_time": "2023-06-01T15:34:34.299Z"
   },
   {
    "duration": 17,
    "start_time": "2023-06-01T15:34:34.314Z"
   },
   {
    "duration": 27,
    "start_time": "2023-06-01T15:34:34.332Z"
   },
   {
    "duration": 23,
    "start_time": "2023-06-01T15:34:34.360Z"
   },
   {
    "duration": 33,
    "start_time": "2023-06-01T15:34:34.384Z"
   },
   {
    "duration": 24,
    "start_time": "2023-06-01T15:34:34.419Z"
   },
   {
    "duration": 4,
    "start_time": "2023-06-01T15:34:34.445Z"
   },
   {
    "duration": 425,
    "start_time": "2023-06-01T15:34:34.450Z"
   },
   {
    "duration": 127,
    "start_time": "2023-06-01T15:34:34.876Z"
   },
   {
    "duration": 5,
    "start_time": "2023-06-01T15:34:35.006Z"
   },
   {
    "duration": 22,
    "start_time": "2023-06-01T15:34:35.012Z"
   },
   {
    "duration": 160,
    "start_time": "2023-06-01T15:34:35.035Z"
   }
  ],
  "kernelspec": {
   "display_name": "Python 3 (ipykernel)",
   "language": "python",
   "name": "python3"
  },
  "language_info": {
   "codemirror_mode": {
    "name": "ipython",
    "version": 3
   },
   "file_extension": ".py",
   "mimetype": "text/x-python",
   "name": "python",
   "nbconvert_exporter": "python",
   "pygments_lexer": "ipython3",
   "version": "3.8.5"
  },
  "toc": {
   "base_numbering": 1,
   "nav_menu": {},
   "number_sections": true,
   "sideBar": true,
   "skip_h1_title": true,
   "title_cell": "Table of Contents",
   "title_sidebar": "Contents",
   "toc_cell": false,
   "toc_position": {},
   "toc_section_display": true,
   "toc_window_display": false
  }
 },
 "nbformat": 4,
 "nbformat_minor": 5
}
