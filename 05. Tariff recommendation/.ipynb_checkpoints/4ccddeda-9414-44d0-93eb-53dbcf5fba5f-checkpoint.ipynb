{
 "cells": [
  {
   "cell_type": "markdown",
   "metadata": {},
   "source": [
    "# Рекомендация тарифов"
   ]
  },
  {
   "cell_type": "markdown",
   "metadata": {},
   "source": [
    "В вашем распоряжении данные о поведении клиентов, которые уже перешли на эти тарифы (из проекта курса «Статистический анализ данных»). Нужно построить модель для задачи классификации, которая выберет подходящий тариф. Предобработка данных не понадобится — вы её уже сделали.\n",
    "\n",
    "Постройте модель с максимально большим значением *accuracy*. Чтобы сдать проект успешно, нужно довести долю правильных ответов по крайней мере до 0.75. Проверьте *accuracy* на тестовой выборке самостоятельно."
   ]
  },
  {
   "cell_type": "markdown",
   "metadata": {},
   "source": [
    "Описание данных:\n",
    "- `сalls` — количество звонков\n",
    "\n",
    "- `minutes` — суммарная длительность звонков в минутах\n",
    "\n",
    "- `messages` — количество sms-сообщений\n",
    "\n",
    "- `mb_used` — израсходованный интернет-трафик в Мб\n",
    "\n",
    "- `is_ultra` — каким тарифом пользовался в течение месяца («Ультра» — 1, «Смарт» — 0)"
   ]
  },
  {
   "cell_type": "markdown",
   "metadata": {},
   "source": [
    "План работы"
   ]
  },
  {
   "cell_type": "markdown",
   "metadata": {},
   "source": [
    "- загрузка данных\n",
    "- разбиение датасета\n",
    "- подбор моделей и гиперпараметров\n",
    "- проверка моделей на адекватность"
   ]
  },
  {
   "cell_type": "markdown",
   "metadata": {},
   "source": [
    "## Откройте и изучите файл"
   ]
  },
  {
   "cell_type": "code",
   "execution_count": 1,
   "metadata": {},
   "outputs": [],
   "source": [
    "import pandas as pd\n",
    "import numpy as np\n",
    "import seaborn as sns\n",
    "import matplotlib.pyplot as plt\n",
    "from tqdm.notebook import trange\n",
    "\n",
    "from sklearn.model_selection import train_test_split\n",
    "from sklearn.linear_model import LogisticRegression\n",
    "from sklearn.tree import DecisionTreeClassifier\n",
    "from sklearn.ensemble import GradientBoostingClassifier\n",
    "from sklearn.ensemble import RandomForestClassifier\n",
    "from sklearn.metrics import accuracy_score\n",
    "from sklearn.model_selection import GridSearchCV\n",
    "from sklearn.metrics import confusion_matrix\n",
    "from sklearn.preprocessing import StandardScaler\n",
    "import joblib\n",
    "from sklearn.utils import resample\n",
    "from sklearn.metrics import f1_score\n",
    "from sklearn.metrics import roc_auc_score\n",
    "from sklearn.metrics import roc_curve\n",
    "import os.path"
   ]
  },
  {
   "cell_type": "code",
   "execution_count": 2,
   "metadata": {},
   "outputs": [],
   "source": [
    "if os.path.isfile('/datasets/users_behavior.csv'):\n",
    "    df = pd.read_csv('/datasets/users_behavior.csv')\n",
    "else:\n",
    "    print('Файл не найден')"
   ]
  },
  {
   "cell_type": "code",
   "execution_count": 3,
   "metadata": {},
   "outputs": [
    {
     "data": {
      "text/plain": [
       "(3214, 5)"
      ]
     },
     "execution_count": 3,
     "metadata": {},
     "output_type": "execute_result"
    }
   ],
   "source": [
    "df.shape"
   ]
  },
  {
   "cell_type": "code",
   "execution_count": 4,
   "metadata": {
    "scrolled": false
   },
   "outputs": [
    {
     "name": "stdout",
     "output_type": "stream",
     "text": [
      "<class 'pandas.core.frame.DataFrame'>\n",
      "RangeIndex: 3214 entries, 0 to 3213\n",
      "Data columns (total 5 columns):\n",
      " #   Column    Non-Null Count  Dtype  \n",
      "---  ------    --------------  -----  \n",
      " 0   calls     3214 non-null   float64\n",
      " 1   minutes   3214 non-null   float64\n",
      " 2   messages  3214 non-null   float64\n",
      " 3   mb_used   3214 non-null   float64\n",
      " 4   is_ultra  3214 non-null   int64  \n",
      "dtypes: float64(4), int64(1)\n",
      "memory usage: 125.7 KB\n"
     ]
    }
   ],
   "source": [
    "df.info()"
   ]
  },
  {
   "cell_type": "code",
   "execution_count": 5,
   "metadata": {
    "scrolled": false
   },
   "outputs": [
    {
     "data": {
      "text/html": [
       "<div>\n",
       "<style scoped>\n",
       "    .dataframe tbody tr th:only-of-type {\n",
       "        vertical-align: middle;\n",
       "    }\n",
       "\n",
       "    .dataframe tbody tr th {\n",
       "        vertical-align: top;\n",
       "    }\n",
       "\n",
       "    .dataframe thead th {\n",
       "        text-align: right;\n",
       "    }\n",
       "</style>\n",
       "<table border=\"1\" class=\"dataframe\">\n",
       "  <thead>\n",
       "    <tr style=\"text-align: right;\">\n",
       "      <th></th>\n",
       "      <th>calls</th>\n",
       "      <th>minutes</th>\n",
       "      <th>messages</th>\n",
       "      <th>mb_used</th>\n",
       "      <th>is_ultra</th>\n",
       "    </tr>\n",
       "  </thead>\n",
       "  <tbody>\n",
       "    <tr>\n",
       "      <th>0</th>\n",
       "      <td>40.0</td>\n",
       "      <td>311.90</td>\n",
       "      <td>83.0</td>\n",
       "      <td>19915.42</td>\n",
       "      <td>0</td>\n",
       "    </tr>\n",
       "    <tr>\n",
       "      <th>1</th>\n",
       "      <td>85.0</td>\n",
       "      <td>516.75</td>\n",
       "      <td>56.0</td>\n",
       "      <td>22696.96</td>\n",
       "      <td>0</td>\n",
       "    </tr>\n",
       "    <tr>\n",
       "      <th>2</th>\n",
       "      <td>77.0</td>\n",
       "      <td>467.66</td>\n",
       "      <td>86.0</td>\n",
       "      <td>21060.45</td>\n",
       "      <td>0</td>\n",
       "    </tr>\n",
       "    <tr>\n",
       "      <th>3</th>\n",
       "      <td>106.0</td>\n",
       "      <td>745.53</td>\n",
       "      <td>81.0</td>\n",
       "      <td>8437.39</td>\n",
       "      <td>1</td>\n",
       "    </tr>\n",
       "    <tr>\n",
       "      <th>4</th>\n",
       "      <td>66.0</td>\n",
       "      <td>418.74</td>\n",
       "      <td>1.0</td>\n",
       "      <td>14502.75</td>\n",
       "      <td>0</td>\n",
       "    </tr>\n",
       "  </tbody>\n",
       "</table>\n",
       "</div>"
      ],
      "text/plain": [
       "   calls  minutes  messages   mb_used  is_ultra\n",
       "0   40.0   311.90      83.0  19915.42         0\n",
       "1   85.0   516.75      56.0  22696.96         0\n",
       "2   77.0   467.66      86.0  21060.45         0\n",
       "3  106.0   745.53      81.0   8437.39         1\n",
       "4   66.0   418.74       1.0  14502.75         0"
      ]
     },
     "execution_count": 5,
     "metadata": {},
     "output_type": "execute_result"
    }
   ],
   "source": [
    "df.head()"
   ]
  },
  {
   "cell_type": "markdown",
   "metadata": {},
   "source": [
    " Посмотрим на сводную таблицу по всем столбцам"
   ]
  },
  {
   "cell_type": "code",
   "execution_count": 6,
   "metadata": {
    "scrolled": false
   },
   "outputs": [
    {
     "data": {
      "text/html": [
       "<div>\n",
       "<style scoped>\n",
       "    .dataframe tbody tr th:only-of-type {\n",
       "        vertical-align: middle;\n",
       "    }\n",
       "\n",
       "    .dataframe tbody tr th {\n",
       "        vertical-align: top;\n",
       "    }\n",
       "\n",
       "    .dataframe thead th {\n",
       "        text-align: right;\n",
       "    }\n",
       "</style>\n",
       "<table border=\"1\" class=\"dataframe\">\n",
       "  <thead>\n",
       "    <tr style=\"text-align: right;\">\n",
       "      <th></th>\n",
       "      <th>calls</th>\n",
       "      <th>minutes</th>\n",
       "      <th>messages</th>\n",
       "      <th>mb_used</th>\n",
       "      <th>is_ultra</th>\n",
       "    </tr>\n",
       "  </thead>\n",
       "  <tbody>\n",
       "    <tr>\n",
       "      <th>count</th>\n",
       "      <td>3214.000000</td>\n",
       "      <td>3214.000000</td>\n",
       "      <td>3214.000000</td>\n",
       "      <td>3214.000000</td>\n",
       "      <td>3214.000000</td>\n",
       "    </tr>\n",
       "    <tr>\n",
       "      <th>mean</th>\n",
       "      <td>63.038892</td>\n",
       "      <td>438.208787</td>\n",
       "      <td>38.281269</td>\n",
       "      <td>17207.673836</td>\n",
       "      <td>0.306472</td>\n",
       "    </tr>\n",
       "    <tr>\n",
       "      <th>std</th>\n",
       "      <td>33.236368</td>\n",
       "      <td>234.569872</td>\n",
       "      <td>36.148326</td>\n",
       "      <td>7570.968246</td>\n",
       "      <td>0.461100</td>\n",
       "    </tr>\n",
       "    <tr>\n",
       "      <th>min</th>\n",
       "      <td>0.000000</td>\n",
       "      <td>0.000000</td>\n",
       "      <td>0.000000</td>\n",
       "      <td>0.000000</td>\n",
       "      <td>0.000000</td>\n",
       "    </tr>\n",
       "    <tr>\n",
       "      <th>25%</th>\n",
       "      <td>40.000000</td>\n",
       "      <td>274.575000</td>\n",
       "      <td>9.000000</td>\n",
       "      <td>12491.902500</td>\n",
       "      <td>0.000000</td>\n",
       "    </tr>\n",
       "    <tr>\n",
       "      <th>50%</th>\n",
       "      <td>62.000000</td>\n",
       "      <td>430.600000</td>\n",
       "      <td>30.000000</td>\n",
       "      <td>16943.235000</td>\n",
       "      <td>0.000000</td>\n",
       "    </tr>\n",
       "    <tr>\n",
       "      <th>75%</th>\n",
       "      <td>82.000000</td>\n",
       "      <td>571.927500</td>\n",
       "      <td>57.000000</td>\n",
       "      <td>21424.700000</td>\n",
       "      <td>1.000000</td>\n",
       "    </tr>\n",
       "    <tr>\n",
       "      <th>max</th>\n",
       "      <td>244.000000</td>\n",
       "      <td>1632.060000</td>\n",
       "      <td>224.000000</td>\n",
       "      <td>49745.730000</td>\n",
       "      <td>1.000000</td>\n",
       "    </tr>\n",
       "  </tbody>\n",
       "</table>\n",
       "</div>"
      ],
      "text/plain": [
       "             calls      minutes     messages       mb_used     is_ultra\n",
       "count  3214.000000  3214.000000  3214.000000   3214.000000  3214.000000\n",
       "mean     63.038892   438.208787    38.281269  17207.673836     0.306472\n",
       "std      33.236368   234.569872    36.148326   7570.968246     0.461100\n",
       "min       0.000000     0.000000     0.000000      0.000000     0.000000\n",
       "25%      40.000000   274.575000     9.000000  12491.902500     0.000000\n",
       "50%      62.000000   430.600000    30.000000  16943.235000     0.000000\n",
       "75%      82.000000   571.927500    57.000000  21424.700000     1.000000\n",
       "max     244.000000  1632.060000   224.000000  49745.730000     1.000000"
      ]
     },
     "execution_count": 6,
     "metadata": {},
     "output_type": "execute_result"
    }
   ],
   "source": [
    "df.describe()"
   ]
  },
  {
   "cell_type": "markdown",
   "metadata": {},
   "source": [
    "Посмотрим на наличие пропусков"
   ]
  },
  {
   "cell_type": "code",
   "execution_count": 7,
   "metadata": {
    "scrolled": true
   },
   "outputs": [
    {
     "data": {
      "text/plain": [
       "0"
      ]
     },
     "execution_count": 7,
     "metadata": {},
     "output_type": "execute_result"
    }
   ],
   "source": [
    "df.duplicated().sum().sum()"
   ]
  },
  {
   "cell_type": "markdown",
   "metadata": {},
   "source": [
    "Посмотрим на дизбаланс в датасете"
   ]
  },
  {
   "cell_type": "code",
   "execution_count": 8,
   "metadata": {},
   "outputs": [
    {
     "name": "stdout",
     "output_type": "stream",
     "text": [
      "количество пользователей с тарифом Смарт: 2229\n",
      "количество пользователей с тарифом Ультра: 985\n"
     ]
    }
   ],
   "source": [
    "print('количество пользователей с тарифом Смарт:', df[df['is_ultra']==0]['is_ultra'].count())\n",
    "print('количество пользователей с тарифом Ультра:', df[df['is_ultra']==1]['is_ultra'].count())"
   ]
  },
  {
   "cell_type": "code",
   "execution_count": 9,
   "metadata": {},
   "outputs": [
    {
     "data": {
      "image/png": "[encoded data removed]",
      "text/plain": [
       "<Figure size 432x432 with 1 Axes>"
      ]
     },
     "metadata": {},
     "output_type": "display_data"
    }
   ],
   "source": [
    "value_counts = df['is_ultra'].value_counts()\n",
    "fig, ax = plt.subplots(figsize=(6, 6))\n",
    "ax.pie(value_counts, labels=('Смарт','Ультра'),pctdistance=0.8, autopct='%1.1f%%', wedgeprops=dict(width=0.4)) \n",
    "circle = plt.Circle((0, 0), 0.5, color='white')\n",
    "ax.add_artist(circle)\n",
    "ax.set_title(\"соотношение количества пользователей по тарифам\")\n",
    "plt.show()"
   ]
  },
  {
   "cell_type": "markdown",
   "metadata": {},
   "source": [
    "Данные сильно дизбалансированы в сторону тарифа Смарт. Это приведет к плохому обобщению модели для тарифа Ультра.\n",
    "\n",
    "Для решения проблемы можно:\n",
    "\n",
    "- использовать увеличение данным путеем дублирование меньшего класса\n",
    "\n",
    "- использовать уменьшеение данных путем удаления большего класса\n",
    "\n",
    "В такой ситуации можно дополнить датасет зашумленными данными для тарифа Ультра. \n",
    "\n",
    "В данной работе будем использовать исходные данные"
   ]
  },
  {
   "cell_type": "markdown",
   "metadata": {},
   "source": [
    "Посмотрим на взяаимосвязи между признаками"
   ]
  },
  {
   "cell_type": "markdown",
   "metadata": {},
   "source": [
    "построим матрицу корреляций"
   ]
  },
  {
   "cell_type": "code",
   "execution_count": 10,
   "metadata": {
    "scrolled": true
   },
   "outputs": [
    {
     "data": {
      "text/html": [
       "<div>\n",
       "<style scoped>\n",
       "    .dataframe tbody tr th:only-of-type {\n",
       "        vertical-align: middle;\n",
       "    }\n",
       "\n",
       "    .dataframe tbody tr th {\n",
       "        vertical-align: top;\n",
       "    }\n",
       "\n",
       "    .dataframe thead th {\n",
       "        text-align: right;\n",
       "    }\n",
       "</style>\n",
       "<table border=\"1\" class=\"dataframe\">\n",
       "  <thead>\n",
       "    <tr style=\"text-align: right;\">\n",
       "      <th></th>\n",
       "      <th>calls</th>\n",
       "      <th>minutes</th>\n",
       "      <th>messages</th>\n",
       "      <th>mb_used</th>\n",
       "      <th>is_ultra</th>\n",
       "    </tr>\n",
       "  </thead>\n",
       "  <tbody>\n",
       "    <tr>\n",
       "      <th>calls</th>\n",
       "      <td>1.000000</td>\n",
       "      <td>0.982083</td>\n",
       "      <td>0.177385</td>\n",
       "      <td>0.286442</td>\n",
       "      <td>0.207122</td>\n",
       "    </tr>\n",
       "    <tr>\n",
       "      <th>minutes</th>\n",
       "      <td>0.982083</td>\n",
       "      <td>1.000000</td>\n",
       "      <td>0.173110</td>\n",
       "      <td>0.280967</td>\n",
       "      <td>0.206955</td>\n",
       "    </tr>\n",
       "    <tr>\n",
       "      <th>messages</th>\n",
       "      <td>0.177385</td>\n",
       "      <td>0.173110</td>\n",
       "      <td>1.000000</td>\n",
       "      <td>0.195721</td>\n",
       "      <td>0.203830</td>\n",
       "    </tr>\n",
       "    <tr>\n",
       "      <th>mb_used</th>\n",
       "      <td>0.286442</td>\n",
       "      <td>0.280967</td>\n",
       "      <td>0.195721</td>\n",
       "      <td>1.000000</td>\n",
       "      <td>0.198568</td>\n",
       "    </tr>\n",
       "    <tr>\n",
       "      <th>is_ultra</th>\n",
       "      <td>0.207122</td>\n",
       "      <td>0.206955</td>\n",
       "      <td>0.203830</td>\n",
       "      <td>0.198568</td>\n",
       "      <td>1.000000</td>\n",
       "    </tr>\n",
       "  </tbody>\n",
       "</table>\n",
       "</div>"
      ],
      "text/plain": [
       "             calls   minutes  messages   mb_used  is_ultra\n",
       "calls     1.000000  0.982083  0.177385  0.286442  0.207122\n",
       "minutes   0.982083  1.000000  0.173110  0.280967  0.206955\n",
       "messages  0.177385  0.173110  1.000000  0.195721  0.203830\n",
       "mb_used   0.286442  0.280967  0.195721  1.000000  0.198568\n",
       "is_ultra  0.207122  0.206955  0.203830  0.198568  1.000000"
      ]
     },
     "execution_count": 10,
     "metadata": {},
     "output_type": "execute_result"
    }
   ],
   "source": [
    "df.corr()"
   ]
  },
  {
   "cell_type": "markdown",
   "metadata": {},
   "source": [
    "Видно, что присутствует сильная зависимость между количеством звонков и суммарной длительностью звонков, что логично"
   ]
  },
  {
   "cell_type": "markdown",
   "metadata": {},
   "source": [
    "<div style=\"border: 3px solid blue; border-radius: 5px; padding: 10px;\">    \n",
    "Вывод:\n",
    "    \n",
    "    Данные изучены, пропусков и дубликатов нет. Есть сильный перевес между классами в `is_ultra` в сторону тарифа Смарт\n",
    "    "
   ]
  },
  {
   "cell_type": "markdown",
   "metadata": {},
   "source": [
    "## Разбейте данные на выборки"
   ]
  },
  {
   "cell_type": "code",
   "execution_count": 11,
   "metadata": {},
   "outputs": [],
   "source": [
    "random_seed = 12345"
   ]
  },
  {
   "cell_type": "markdown",
   "metadata": {},
   "source": [
    " Разделим на признаки и таргет"
   ]
  },
  {
   "cell_type": "code",
   "execution_count": 12,
   "metadata": {},
   "outputs": [],
   "source": [
    "X = df.drop(['is_ultra'],axis=1)\n",
    "y = df['is_ultra']"
   ]
  },
  {
   "cell_type": "code",
   "execution_count": 13,
   "metadata": {
    "scrolled": true
   },
   "outputs": [
    {
     "data": {
      "text/html": [
       "<div>\n",
       "<style scoped>\n",
       "    .dataframe tbody tr th:only-of-type {\n",
       "        vertical-align: middle;\n",
       "    }\n",
       "\n",
       "    .dataframe tbody tr th {\n",
       "        vertical-align: top;\n",
       "    }\n",
       "\n",
       "    .dataframe thead th {\n",
       "        text-align: right;\n",
       "    }\n",
       "</style>\n",
       "<table border=\"1\" class=\"dataframe\">\n",
       "  <thead>\n",
       "    <tr style=\"text-align: right;\">\n",
       "      <th></th>\n",
       "      <th>calls</th>\n",
       "      <th>minutes</th>\n",
       "      <th>messages</th>\n",
       "      <th>mb_used</th>\n",
       "    </tr>\n",
       "  </thead>\n",
       "  <tbody>\n",
       "    <tr>\n",
       "      <th>0</th>\n",
       "      <td>40.0</td>\n",
       "      <td>311.90</td>\n",
       "      <td>83.0</td>\n",
       "      <td>19915.42</td>\n",
       "    </tr>\n",
       "    <tr>\n",
       "      <th>1</th>\n",
       "      <td>85.0</td>\n",
       "      <td>516.75</td>\n",
       "      <td>56.0</td>\n",
       "      <td>22696.96</td>\n",
       "    </tr>\n",
       "    <tr>\n",
       "      <th>2</th>\n",
       "      <td>77.0</td>\n",
       "      <td>467.66</td>\n",
       "      <td>86.0</td>\n",
       "      <td>21060.45</td>\n",
       "    </tr>\n",
       "    <tr>\n",
       "      <th>3</th>\n",
       "      <td>106.0</td>\n",
       "      <td>745.53</td>\n",
       "      <td>81.0</td>\n",
       "      <td>8437.39</td>\n",
       "    </tr>\n",
       "    <tr>\n",
       "      <th>4</th>\n",
       "      <td>66.0</td>\n",
       "      <td>418.74</td>\n",
       "      <td>1.0</td>\n",
       "      <td>14502.75</td>\n",
       "    </tr>\n",
       "  </tbody>\n",
       "</table>\n",
       "</div>"
      ],
      "text/plain": [
       "   calls  minutes  messages   mb_used\n",
       "0   40.0   311.90      83.0  19915.42\n",
       "1   85.0   516.75      56.0  22696.96\n",
       "2   77.0   467.66      86.0  21060.45\n",
       "3  106.0   745.53      81.0   8437.39\n",
       "4   66.0   418.74       1.0  14502.75"
      ]
     },
     "execution_count": 13,
     "metadata": {},
     "output_type": "execute_result"
    }
   ],
   "source": [
    "X.head()"
   ]
  },
  {
   "cell_type": "code",
   "execution_count": 14,
   "metadata": {
    "scrolled": false
   },
   "outputs": [
    {
     "data": {
      "text/plain": [
       "0    0\n",
       "1    0\n",
       "2    0\n",
       "3    1\n",
       "4    0\n",
       "Name: is_ultra, dtype: int64"
      ]
     },
     "execution_count": 14,
     "metadata": {},
     "output_type": "execute_result"
    }
   ],
   "source": [
    "y.head()"
   ]
  },
  {
   "cell_type": "markdown",
   "metadata": {},
   "source": [
    " Разделим на обучающую, валидационную и тестовые выборки"
   ]
  },
  {
   "cell_type": "code",
   "execution_count": 15,
   "metadata": {},
   "outputs": [],
   "source": [
    "X_train, X_temp, y_train, y_temp = train_test_split(X, y, test_size=0.3, random_state=random_seed)"
   ]
  },
  {
   "cell_type": "code",
   "execution_count": 16,
   "metadata": {},
   "outputs": [],
   "source": [
    "X_val, X_test, y_val, y_test = train_test_split(X_temp, y_temp, test_size=0.5, random_state=random_seed)"
   ]
  },
  {
   "cell_type": "markdown",
   "metadata": {},
   "source": [
    "стандартизуем данные по обучающей выборке $X_{\\text{scaled}} = \\frac{{X - \\mu}}{{\\sigma}}$, где $\\mu$ - среднее, $\\sigma$ -  стандартное отклонение"
   ]
  },
  {
   "cell_type": "code",
   "execution_count": 17,
   "metadata": {},
   "outputs": [],
   "source": [
    "scaler = StandardScaler()\n",
    "scaler.fit(X_train)\n",
    "X_train = scaler.fit_transform(X_train)\n",
    "X_val = scaler.fit_transform(X_val)\n",
    "X_test = scaler.fit_transform(X_test)"
   ]
  },
  {
   "cell_type": "markdown",
   "metadata": {},
   "source": [
    "<div style=\"border: 3px solid blue; border-radius: 5px; padding: 10px;\">    \n",
    "Вывод:\n",
    "    \n",
    "    Датасет был разбит признаки и таргет, которые были рзабиты на обучающую, валидационную и тестовую выборки \n",
    "    в соотношении 3:1:1 (70%,15%,15%)\n",
    "    \n",
    "    Потом выборки были стандартизованы\n",
    "    "
   ]
  },
  {
   "cell_type": "markdown",
   "metadata": {},
   "source": [
    "## Исследуйте модели"
   ]
  },
  {
   "cell_type": "markdown",
   "metadata": {},
   "source": [
    "#### Логистическая регрессия"
   ]
  },
  {
   "cell_type": "markdown",
   "metadata": {},
   "source": [
    "Зададим модель и обучим ее на обучающих данных"
   ]
  },
  {
   "cell_type": "code",
   "execution_count": 18,
   "metadata": {},
   "outputs": [],
   "source": [
    "logreg_model = LogisticRegression(random_state=random_seed)\n",
    "logreg_model.fit(X_train, y_train);"
   ]
  },
  {
   "cell_type": "code",
   "execution_count": 19,
   "metadata": {
    "scrolled": false
   },
   "outputs": [
    {
     "name": "stdout",
     "output_type": "stream",
     "text": [
      "Accuracy on train: 0.7412183192530013\n",
      "Accuracy on valid: 0.7676348547717843\n"
     ]
    }
   ],
   "source": [
    "accuracy = accuracy_score(y_train, logreg_model.predict(X_train))\n",
    "print(\"Accuracy on train:\", accuracy)\n",
    "\n",
    "accuracy = accuracy_score(y_val, logreg_model.predict(X_val))\n",
    "print(\"Accuracy on valid:\", accuracy)"
   ]
  },
  {
   "cell_type": "markdown",
   "metadata": {},
   "source": [
    "Подберем наилучшие гиперпараметры"
   ]
  },
  {
   "cell_type": "code",
   "execution_count": 20,
   "metadata": {
    "scrolled": true
   },
   "outputs": [
    {
     "data": {
      "application/vnd.jupyter.widget-view+json": {
       "model_id": "0240f7269bbe4aff8a4437ad9cbd941e",
       "version_major": 2,
       "version_minor": 0
      },
      "text/plain": [
       "  0%|          | 0/9 [00:00<?, ?it/s]"
      ]
     },
     "metadata": {},
     "output_type": "display_data"
    },
    {
     "name": "stdout",
     "output_type": "stream",
     "text": [
      "Best Parameters: max_iter = 100, C = 0.2\n",
      "Best Accuracy: 0.7676348547717843\n"
     ]
    }
   ],
   "source": [
    "best_iter = 0\n",
    "best_c = 0\n",
    "best_accuracy = 0\n",
    "for i_iter in trange(100,1000,100):\n",
    "    for c in range(1,20):\n",
    "        logreg_model = LogisticRegression(C = c/10, max_iter=i_iter,random_state=random_seed)\n",
    "        logreg_model.fit(X_train, y_train);\n",
    "        temp_acc = accuracy_score(y_val, logreg_model.predict(X_val))\n",
    "        if(best_accuracy < temp_acc):\n",
    "            best_accuracy = temp_acc\n",
    "            best_iter = i_iter\n",
    "            best_c = c/10\n",
    "print(f'Best Parameters: max_iter = {best_iter}, C = {best_c}')\n",
    "print(\"Best Accuracy:\", best_accuracy)"
   ]
  },
  {
   "cell_type": "code",
   "execution_count": 21,
   "metadata": {},
   "outputs": [
    {
     "name": "stdout",
     "output_type": "stream",
     "text": [
      "Accuracy on valid: 0.7676348547717843\n",
      "f1 on valid: 0.4042553191489362\n",
      "roc_auc on valid: 0.6247740887399736\n"
     ]
    },
    {
     "data": {
      "image/png": "[encoded data removed]",
      "text/plain": [
       "<Figure size 432x432 with 1 Axes>"
      ]
     },
     "metadata": {
      "needs_background": "light"
     },
     "output_type": "display_data"
    }
   ],
   "source": [
    "logreg_model = LogisticRegression(C=0.2,max_iter=100,random_state=random_seed)\n",
    "logreg_model.fit(X_train, y_train);\n",
    "accuracy = accuracy_score(y_val, logreg_model.predict(X_val))\n",
    "f1 = f1_score(y_val, logreg_model.predict(X_val))\n",
    "print(\"Accuracy on valid:\", accuracy)\n",
    "print(\"f1 on valid:\", f1)\n",
    "roc_auc = roc_auc_score(y_val, logreg_model.predict(X_val))\n",
    "print(\"roc_auc on valid:\", roc_auc)\n",
    "\n",
    "fpr, tpr, thresholds = roc_curve(y_val, logreg_model.predict(X_val))\n",
    "plt.figure(figsize=(6, 6))\n",
    "plt.plot(fpr, tpr)\n",
    "plt.xlabel('False Positive Rate')\n",
    "plt.ylabel('True Positive Rate')\n",
    "plt.title('ROC Curve')\n",
    "\n",
    "plt.show()"
   ]
  },
  {
   "cell_type": "markdown",
   "metadata": {},
   "source": [
    "Чем больше кривизна графика ROC, тем модель лучше работает\n",
    "\n",
    "Видно, что модель не очень хорошо работает"
   ]
  },
  {
   "cell_type": "markdown",
   "metadata": {},
   "source": [
    "попробуем другой метод приведения порядка **Логарифмирование**"
   ]
  },
  {
   "cell_type": "code",
   "execution_count": 22,
   "metadata": {
    "scrolled": true
   },
   "outputs": [
    {
     "data": {
      "text/html": [
       "<div>\n",
       "<style scoped>\n",
       "    .dataframe tbody tr th:only-of-type {\n",
       "        vertical-align: middle;\n",
       "    }\n",
       "\n",
       "    .dataframe tbody tr th {\n",
       "        vertical-align: top;\n",
       "    }\n",
       "\n",
       "    .dataframe thead th {\n",
       "        text-align: right;\n",
       "    }\n",
       "</style>\n",
       "<table border=\"1\" class=\"dataframe\">\n",
       "  <thead>\n",
       "    <tr style=\"text-align: right;\">\n",
       "      <th></th>\n",
       "      <th>calls</th>\n",
       "      <th>minutes</th>\n",
       "      <th>messages</th>\n",
       "      <th>mb_used</th>\n",
       "    </tr>\n",
       "  </thead>\n",
       "  <tbody>\n",
       "    <tr>\n",
       "      <th>0</th>\n",
       "      <td>40.0</td>\n",
       "      <td>311.90</td>\n",
       "      <td>83.0</td>\n",
       "      <td>19915.42</td>\n",
       "    </tr>\n",
       "    <tr>\n",
       "      <th>1</th>\n",
       "      <td>85.0</td>\n",
       "      <td>516.75</td>\n",
       "      <td>56.0</td>\n",
       "      <td>22696.96</td>\n",
       "    </tr>\n",
       "    <tr>\n",
       "      <th>2</th>\n",
       "      <td>77.0</td>\n",
       "      <td>467.66</td>\n",
       "      <td>86.0</td>\n",
       "      <td>21060.45</td>\n",
       "    </tr>\n",
       "    <tr>\n",
       "      <th>3</th>\n",
       "      <td>106.0</td>\n",
       "      <td>745.53</td>\n",
       "      <td>81.0</td>\n",
       "      <td>8437.39</td>\n",
       "    </tr>\n",
       "    <tr>\n",
       "      <th>4</th>\n",
       "      <td>66.0</td>\n",
       "      <td>418.74</td>\n",
       "      <td>1.0</td>\n",
       "      <td>14502.75</td>\n",
       "    </tr>\n",
       "  </tbody>\n",
       "</table>\n",
       "</div>"
      ],
      "text/plain": [
       "   calls  minutes  messages   mb_used\n",
       "0   40.0   311.90      83.0  19915.42\n",
       "1   85.0   516.75      56.0  22696.96\n",
       "2   77.0   467.66      86.0  21060.45\n",
       "3  106.0   745.53      81.0   8437.39\n",
       "4   66.0   418.74       1.0  14502.75"
      ]
     },
     "execution_count": 22,
     "metadata": {},
     "output_type": "execute_result"
    }
   ],
   "source": [
    "X.head()"
   ]
  },
  {
   "cell_type": "markdown",
   "metadata": {},
   "source": [
    "Прологарифмируем только столбец `mb_used`"
   ]
  },
  {
   "cell_type": "code",
   "execution_count": 23,
   "metadata": {},
   "outputs": [],
   "source": [
    "X_log = X\n",
    "X_log['mb_used'] = np.log(X_log['mb_used']+1)"
   ]
  },
  {
   "cell_type": "markdown",
   "metadata": {},
   "source": [
    "Зададим новые выборки уже на стандартизированных данных"
   ]
  },
  {
   "cell_type": "code",
   "execution_count": 24,
   "metadata": {},
   "outputs": [],
   "source": [
    "X_train_log, X_temp_log, y_train, y_temp = train_test_split(X_log, y, \n",
    "                                                            test_size=0.3, \n",
    "                                                            random_state=random_seed)\n",
    "X_val_log, X_test_log, y_val, y_test = train_test_split(X_temp_log, y_temp, \n",
    "                                                        test_size=0.5, \n",
    "                                                        random_state=random_seed)"
   ]
  },
  {
   "cell_type": "markdown",
   "metadata": {},
   "source": [
    "Зададим модель и обучим ее на обучающих данных"
   ]
  },
  {
   "cell_type": "code",
   "execution_count": 25,
   "metadata": {},
   "outputs": [],
   "source": [
    "logreg_model_log = LogisticRegression(random_state=random_seed)\n",
    "logreg_model_log.fit(X_train_log, y_train);"
   ]
  },
  {
   "cell_type": "code",
   "execution_count": 26,
   "metadata": {
    "scrolled": false
   },
   "outputs": [
    {
     "name": "stdout",
     "output_type": "stream",
     "text": [
      "Accuracy on train: 0.7389951089373055\n",
      "Accuracy on valid: 0.7531120331950207\n"
     ]
    }
   ],
   "source": [
    "accuracy = accuracy_score(y_train, logreg_model_log.predict(X_train_log))\n",
    "print(\"Accuracy on train:\", accuracy)\n",
    "\n",
    "accuracy = accuracy_score(y_val, logreg_model_log.predict(X_val_log))\n",
    "print(\"Accuracy on valid:\", accuracy)"
   ]
  },
  {
   "cell_type": "markdown",
   "metadata": {},
   "source": [
    "Подберем наилучшие гиперпараметры"
   ]
  },
  {
   "cell_type": "code",
   "execution_count": 27,
   "metadata": {
    "scrolled": false
   },
   "outputs": [
    {
     "data": {
      "application/vnd.jupyter.widget-view+json": {
       "model_id": "17bcbd7094a5448a9c50a6ffb3807532",
       "version_major": 2,
       "version_minor": 0
      },
      "text/plain": [
       "  0%|          | 0/9 [00:00<?, ?it/s]"
      ]
     },
     "metadata": {},
     "output_type": "display_data"
    },
    {
     "name": "stdout",
     "output_type": "stream",
     "text": [
      "Best Parameters: max_iter = 100, C = 0.1\n",
      "Best Accuracy: 0.7531120331950207\n"
     ]
    }
   ],
   "source": [
    "best_iter = 0\n",
    "best_c = 0\n",
    "best_accuracy = 0\n",
    "for i_iter in trange(100,1000,100):\n",
    "    for c in range(1,20):\n",
    "        logreg_model_log = LogisticRegression(C = c/10, max_iter=i_iter, random_state=random_seed)\n",
    "        logreg_model_log.fit(X_train_log, y_train);\n",
    "        temp_acc = accuracy_score(y_val, logreg_model_log.predict(X_val_log))\n",
    "        if(best_accuracy < temp_acc):\n",
    "            best_accuracy = temp_acc\n",
    "            best_iter = i_iter\n",
    "            best_c = c/10\n",
    "print(f'Best Parameters: max_iter = {best_iter}, C = {best_c}')\n",
    "print(\"Best Accuracy:\", best_accuracy)"
   ]
  },
  {
   "cell_type": "code",
   "execution_count": 28,
   "metadata": {
    "scrolled": false
   },
   "outputs": [
    {
     "name": "stdout",
     "output_type": "stream",
     "text": [
      "Accuracy on valid: 0.7531120331950207\n",
      "f1 on valid: 0.335195530726257\n",
      "roc_auc on valid: 0.599055741699665\n"
     ]
    },
    {
     "data": {
      "image/png": "[encoded data removed]",
      "text/plain": [
       "<Figure size 432x432 with 1 Axes>"
      ]
     },
     "metadata": {
      "needs_background": "light"
     },
     "output_type": "display_data"
    }
   ],
   "source": [
    "logreg_model_log = LogisticRegression(C=0.2,max_iter=100,random_state=random_seed)\n",
    "logreg_model_log.fit(X_train_log, y_train);\n",
    "accuracy = accuracy_score(y_val, logreg_model_log.predict(X_val_log))\n",
    "f1 = f1_score(y_val, logreg_model_log.predict(X_val_log))\n",
    "print(\"Accuracy on valid:\", accuracy)\n",
    "print(\"f1 on valid:\", f1)\n",
    "roc_auc = roc_auc_score(y_val, logreg_model_log.predict(X_val_log))\n",
    "print(\"roc_auc on valid:\", roc_auc)\n",
    "\n",
    "fpr, tpr, thresholds = roc_curve(y_val, logreg_model_log.predict(X_val_log))\n",
    "plt.figure(figsize=(6, 6))\n",
    "plt.plot(fpr, tpr)\n",
    "plt.xlabel('False Positive Rate')\n",
    "plt.ylabel('True Positive Rate')\n",
    "plt.title('ROC Curve')\n",
    "plt.show()"
   ]
  },
  {
   "cell_type": "markdown",
   "metadata": {},
   "source": [
    "Чем больше кривизна графика ROC, тем модель лучше работает\n",
    "\n",
    "Видно, что модель не очень хорошо работает"
   ]
  },
  {
   "cell_type": "markdown",
   "metadata": {},
   "source": [
    "<div style=\"border: 3px solid blue; border-radius: 5px; padding: 10px;\">    \n",
    "Вывод:\n",
    "    \n",
    "    Стандартизация показала лучший результат по сравнению с логарифмированием на валидационной выборке \n",
    "    Accuracy: 0.7676348547717843\n",
    "    f1 on valid: 0.4042553191489362\n",
    "    roc_auc on valid: 0.6247740887399736\n",
    "    Подобранные параметры: max_iter = 100, C = 0.2\n",
    "    \n",
    "    метрика f1 маленькая из-за несбалансированности датасета\n",
    "    roc_auc низкий roc_auc говорит, что модель имеет некоторую способность разделять классы, но ее предсказания не являются сильно уверенными или точными."
   ]
  },
  {
   "cell_type": "markdown",
   "metadata": {},
   "source": [
    "#### Дерево решений"
   ]
  },
  {
   "cell_type": "code",
   "execution_count": 20,
   "metadata": {},
   "outputs": [],
   "source": [
    "def train_valid_predict(model):\n",
    "    accuracy = accuracy_score(y_train, model.predict(X_train))\n",
    "    print(\"Accuracy on train:\", accuracy)\n",
    "\n",
    "    accuracy = accuracy_score(y_val, model.predict(X_val))\n",
    "    print(\"Accuracy on valid:\", accuracy)\n",
    "    \n",
    "    f1 = f1_score(y_val, model.predict(X_val))\n",
    "    print(\"f1 on valid:\", f1)\n",
    "    roc_auc = roc_auc_score(y_val, model.predict(X_val))\n",
    "    print(\"roc_auc on valid:\", roc_auc)\n",
    "    \n",
    "    fpr, tpr, thresholds = roc_curve(y_val, model.predict(X_val))\n",
    "    plt.figure(figsize=(6, 6))\n",
    "    plt.plot(fpr, tpr)\n",
    "    plt.xlabel('False Positive Rate')\n",
    "    plt.ylabel('True Positive Rate')\n",
    "    plt.title('ROC Curve')\n",
    "    plt.show()"
   ]
  },
  {
   "cell_type": "code",
   "execution_count": 30,
   "metadata": {},
   "outputs": [],
   "source": [
    "tree_model = DecisionTreeClassifier(random_state=random_seed)\n",
    "tree_model.fit(X_train, y_train);"
   ]
  },
  {
   "cell_type": "code",
   "execution_count": 31,
   "metadata": {},
   "outputs": [
    {
     "name": "stdout",
     "output_type": "stream",
     "text": [
      "Accuracy on train: 1.0\n",
      "Accuracy on valid: 0.7240663900414938\n",
      "f1 on valid: 0.5491525423728814\n",
      "roc_auc on valid: 0.6755102040816326\n"
     ]
    },
    {
     "data": {
      "image/png": "[encoded data removed]",
      "text/plain": [
       "<Figure size 432x432 with 1 Axes>"
      ]
     },
     "metadata": {
      "needs_background": "light"
     },
     "output_type": "display_data"
    }
   ],
   "source": [
    "train_valid_predict(tree_model)"
   ]
  },
  {
   "cell_type": "markdown",
   "metadata": {},
   "source": [
    "модель явно переобучилась"
   ]
  },
  {
   "cell_type": "markdown",
   "metadata": {},
   "source": [
    "Подберем наилучшие гиперпараметры"
   ]
  },
  {
   "cell_type": "code",
   "execution_count": 32,
   "metadata": {
    "scrolled": true
   },
   "outputs": [
    {
     "data": {
      "application/vnd.jupyter.widget-view+json": {
       "model_id": "0d4643b9292e41e084047ff48b26c397",
       "version_major": 2,
       "version_minor": 0
      },
      "text/plain": [
       "  0%|          | 0/8 [00:00<?, ?it/s]"
      ]
     },
     "metadata": {},
     "output_type": "display_data"
    },
    {
     "name": "stdout",
     "output_type": "stream",
     "text": [
      "Best Parameters: max_depth = 6,min_samples_split = 2, min_samples_leaf = 9, criterion = entropy\n",
      "Best Accuracy: 0.7987551867219918\n"
     ]
    }
   ],
   "source": [
    "max_depth = 0\n",
    "min_samples_split = 0\n",
    "min_samples_leaf = 0\n",
    "best_accuracy = 0\n",
    "best_criterion = ''\n",
    "depth_list = [None,1,2,3,4,5,6,7,8,9]\n",
    "\n",
    "for split in trange(2,10):\n",
    "    for depth in depth_list:\n",
    "        for leaf in range(1,10):\n",
    "            for criterion in ['gini', 'entropy']:\n",
    "                tree_model = DecisionTreeClassifier(max_depth = depth, min_samples_split=split,min_samples_leaf=leaf, \n",
    "                                                    criterion = criterion,\n",
    "                                                    random_state=random_seed)\n",
    "                tree_model.fit(X_train, y_train);\n",
    "                temp_acc = accuracy_score(y_val, tree_model.predict(X_val))\n",
    "                if(best_accuracy < temp_acc):\n",
    "                    best_accuracy = temp_acc\n",
    "                    max_depth = depth\n",
    "                    min_samples_split = split\n",
    "                    min_samples_leaf = leaf\n",
    "                    best_criterion = criterion\n",
    "print(f'Best Parameters: max_depth = {max_depth},\\\n",
    "min_samples_split = {min_samples_split}, min_samples_leaf = {min_samples_leaf}, criterion = {best_criterion}')\n",
    "print(\"Best Accuracy:\", best_accuracy)"
   ]
  },
  {
   "cell_type": "code",
   "execution_count": 33,
   "metadata": {
    "scrolled": false
   },
   "outputs": [
    {
     "name": "stdout",
     "output_type": "stream",
     "text": [
      "Accuracy on train: 0.8212538906180524\n",
      "Accuracy on valid: 0.7987551867219918\n",
      "f1 on valid: 0.5402843601895734\n",
      "roc_auc on valid: 0.6834297898263784\n"
     ]
    },
    {
     "data": {
      "image/png": "[encoded data removed]",
      "text/plain": [
       "<Figure size 432x432 with 1 Axes>"
      ]
     },
     "metadata": {
      "needs_background": "light"
     },
     "output_type": "display_data"
    }
   ],
   "source": [
    "tree_model = DecisionTreeClassifier(max_depth=6,criterion = 'entropy',\n",
    "                                    min_samples_leaf= 9,min_samples_split= 2,random_state=random_seed)\n",
    "tree_model.fit(X_train, y_train);\n",
    "train_valid_predict(tree_model)"
   ]
  },
  {
   "cell_type": "markdown",
   "metadata": {},
   "source": [
    "Чем больше кривизна графика ROC, тем модель лучше работает\n",
    "\n",
    "Видно, что модель не очень хорошо работает, но лучше чем логистическая регрессия"
   ]
  },
  {
   "cell_type": "markdown",
   "metadata": {},
   "source": [
    "<div style=\"border: 3px solid blue; border-radius: 5px; padding: 10px;\">    \n",
    "Вывод:\n",
    "    \n",
    "    Подобранные гиперпараметры для дерева решений:\n",
    "    max_depth = 6, min_samples_split = 2, min_samples_leaf = 9\n",
    "    \n",
    "    Качество работы:\n",
    "    Accuracy on train: 0.8212538906180524\n",
    "    Accuracy on valid: 0.7987551867219918\n",
    "    f1 on valid: 0.5402843601895734\n",
    "    roc_auc on valid: 0.6834297898263784"
   ]
  },
  {
   "cell_type": "markdown",
   "metadata": {},
   "source": [
    "#### Случайный лес"
   ]
  },
  {
   "cell_type": "code",
   "execution_count": 18,
   "metadata": {},
   "outputs": [],
   "source": [
    "forest_model = RandomForestClassifier(random_state=random_seed)\n",
    "forest_model.fit(X_train, y_train);"
   ]
  },
  {
   "cell_type": "code",
   "execution_count": 21,
   "metadata": {
    "scrolled": false
   },
   "outputs": [
    {
     "name": "stdout",
     "output_type": "stream",
     "text": [
      "Accuracy on train: 1.0\n",
      "Accuracy on valid: 0.7883817427385892\n",
      "f1 on valid: 0.5920000000000001\n",
      "roc_auc on valid: 0.7084170981825567\n"
     ]
    },
    {
     "data": {
      "image/png": "[encoded data removed]",
      "text/plain": [
       "<Figure size 432x432 with 1 Axes>"
      ]
     },
     "metadata": {
      "needs_background": "light"
     },
     "output_type": "display_data"
    }
   ],
   "source": [
    "train_valid_predict(forest_model)"
   ]
  },
  {
   "cell_type": "markdown",
   "metadata": {},
   "source": [
    "При дефолтном n_estimators = 100 модель переобучается"
   ]
  },
  {
   "cell_type": "markdown",
   "metadata": {},
   "source": [
    "Подберем наилучшие гиперпараметры"
   ]
  },
  {
   "cell_type": "code",
   "execution_count": 22,
   "metadata": {},
   "outputs": [
    {
     "data": {
      "application/vnd.jupyter.widget-view+json": {
       "model_id": "43175a63328542118c4e97d78fe20b8e",
       "version_major": 2,
       "version_minor": 0
      },
      "text/plain": [
       "  0%|          | 0/19 [00:00<?, ?it/s]"
      ]
     },
     "metadata": {},
     "output_type": "display_data"
    },
    {
     "name": "stdout",
     "output_type": "stream",
     "text": [
      "Best Parameters: max_depth = 7,criterion = entropy, n_estimators = 10\n",
      "Best Accuracy: 0.8132780082987552\n"
     ]
    }
   ],
   "source": [
    "max_depth = 0\n",
    "n_estimators = 0\n",
    "best_accuracy = 0\n",
    "best_criterion = ''\n",
    "for est in trange(1,20):\n",
    "    for depth in [None,1,2,3,4,5,6,7,8,9]:\n",
    "        for criterion in ['gini', 'entropy']:\n",
    "            forest_model = RandomForestClassifier(max_depth = depth,\n",
    "                                                criterion = criterion,\n",
    "                                                n_estimators = est,\n",
    "                                                random_state=random_seed)\n",
    "            forest_model.fit(X_train, y_train);\n",
    "            temp_acc = accuracy_score(y_val, forest_model.predict(X_val))\n",
    "            if(best_accuracy < temp_acc):\n",
    "                best_accuracy = temp_acc\n",
    "                n_estimators = est\n",
    "                max_depth = depth\n",
    "                best_criterion = criterion\n",
    "print(f'Best Parameters: max_depth = {max_depth},\\\n",
    "criterion = {best_criterion}, n_estimators = {n_estimators}')\n",
    "print(\"Best Accuracy:\", best_accuracy)"
   ]
  },
  {
   "cell_type": "code",
   "execution_count": 23,
   "metadata": {
    "scrolled": false
   },
   "outputs": [
    {
     "name": "stdout",
     "output_type": "stream",
     "text": [
      "Accuracy on train: 0.8501556247220987\n",
      "Accuracy on valid: 0.8132780082987552\n",
      "f1 on valid: 0.6120689655172413\n",
      "roc_auc on valid: 0.720601076251396\n"
     ]
    },
    {
     "data": {
      "image/png": "[encoded data removed]",
      "text/plain": [
       "<Figure size 432x432 with 1 Axes>"
      ]
     },
     "metadata": {
      "needs_background": "light"
     },
     "output_type": "display_data"
    }
   ],
   "source": [
    "forest_model = RandomForestClassifier(max_depth=7,criterion = 'entropy',\n",
    "                                    n_estimators = 10,random_state=random_seed)\n",
    "forest_model.fit(X_train, y_train);\n",
    "train_valid_predict(forest_model)"
   ]
  },
  {
   "cell_type": "markdown",
   "metadata": {},
   "source": [
    "Чем больше кривизна графика ROC, тем модель лучше работает\n",
    "\n",
    "Видно, что модель не очень хорошо работает, но лучше чем предыдущие модели"
   ]
  },
  {
   "cell_type": "markdown",
   "metadata": {},
   "source": [
    "<div style=\"border: 3px solid blue; border-radius: 5px; padding: 10px;\">    \n",
    "Вывод:\n",
    "    \n",
    "    Подобранные гиперпараметры для случайнгого леса:\n",
    "    max_depth = 7, criterion = entropy, n_estimators = 10\n",
    "    \n",
    "    Качество работы:\n",
    "    Accuracy on train: 0.8501556247220987\n",
    "    Accuracy on valid: 0.8132780082987552\n",
    "    f1 on valid: 0.6120689655172413\n",
    "    roc_auc on valid: 0.720601076251396\n",
    "    \n",
    "    метрика f1 маленькая из-за несбалансированности датасета"
   ]
  },
  {
   "cell_type": "markdown",
   "metadata": {},
   "source": [
    "#### бустинг"
   ]
  },
  {
   "cell_type": "code",
   "execution_count": 24,
   "metadata": {},
   "outputs": [],
   "source": [
    "boost_model = GradientBoostingClassifier(random_state=random_seed)\n",
    "boost_model.fit(X_train, y_train);"
   ]
  },
  {
   "cell_type": "code",
   "execution_count": 25,
   "metadata": {
    "scrolled": false
   },
   "outputs": [
    {
     "name": "stdout",
     "output_type": "stream",
     "text": [
      "Accuracy on train: 0.8563806136060471\n",
      "Accuracy on valid: 0.8029045643153527\n",
      "f1 on valid: 0.602510460251046\n",
      "roc_auc on valid: 0.7150472129150168\n"
     ]
    },
    {
     "data": {
      "image/png": "[encoded data removed]",
      "text/plain": [
       "<Figure size 432x432 with 1 Axes>"
      ]
     },
     "metadata": {
      "needs_background": "light"
     },
     "output_type": "display_data"
    }
   ],
   "source": [
    "train_valid_predict(boost_model)"
   ]
  },
  {
   "cell_type": "markdown",
   "metadata": {},
   "source": [
    "Подберем наилучшие гиперпараметры"
   ]
  },
  {
   "cell_type": "code",
   "execution_count": 26,
   "metadata": {},
   "outputs": [
    {
     "data": {
      "application/vnd.jupyter.widget-view+json": {
       "model_id": "fb1a28ded6cb47e3baaf573b5429eb10",
       "version_major": 2,
       "version_minor": 0
      },
      "text/plain": [
       "  0%|          | 0/19 [00:00<?, ?it/s]"
      ]
     },
     "metadata": {},
     "output_type": "display_data"
    },
    {
     "name": "stdout",
     "output_type": "stream",
     "text": [
      "Best Parameters: max_depth = 1,learning_rate = 1, n_estimators = 18\n",
      "Best Accuracy: 0.8091286307053942\n"
     ]
    }
   ],
   "source": [
    "max_depth = 0\n",
    "n_estimators = 0\n",
    "learning_rate = 0\n",
    "best_accuracy = 0\n",
    "\n",
    "for est in trange(1,20):\n",
    "    for depth in [None,1,2,3,4,5,6,7,8,9]:\n",
    "        for rate in [0.01,0.1,1]:\n",
    "            boost_model = GradientBoostingClassifier(max_depth = depth,\n",
    "                                                learning_rate = rate,\n",
    "                                                n_estimators = est,\n",
    "                                                random_state=random_seed)\n",
    "            boost_model.fit(X_train, y_train);\n",
    "            temp_acc = accuracy_score(y_val, boost_model.predict(X_val))\n",
    "            if(best_accuracy < temp_acc):\n",
    "                best_accuracy = temp_acc\n",
    "                n_estimators = est\n",
    "                max_depth = depth\n",
    "                learning_rate = rate\n",
    "print(f'Best Parameters: max_depth = {max_depth},\\\n",
    "learning_rate = {learning_rate}, n_estimators = {n_estimators}')\n",
    "print(\"Best Accuracy:\", best_accuracy)"
   ]
  },
  {
   "cell_type": "code",
   "execution_count": 27,
   "metadata": {
    "scrolled": false
   },
   "outputs": [
    {
     "name": "stdout",
     "output_type": "stream",
     "text": [
      "Accuracy on train: 0.8154735437972432\n",
      "Accuracy on valid: 0.8091286307053942\n",
      "f1 on valid: 0.603448275862069\n",
      "roc_auc on valid: 0.7157071783937456\n"
     ]
    },
    {
     "data": {
      "image/png": "[encoded data removed]",
      "text/plain": [
       "<Figure size 432x432 with 1 Axes>"
      ]
     },
     "metadata": {
      "needs_background": "light"
     },
     "output_type": "display_data"
    }
   ],
   "source": [
    "boost_model = GradientBoostingClassifier(max_depth=1,learning_rate = 1,\n",
    "                                    n_estimators = 18,random_state=random_seed)\n",
    "boost_model.fit(X_train, y_train);\n",
    "train_valid_predict(boost_model)"
   ]
  },
  {
   "cell_type": "markdown",
   "metadata": {},
   "source": [
    "Чем больше кривизна графика ROC, тем модель лучше работает\n",
    "\n",
    "Видно, что модель не очень хорошо работает, но на уровне со случайным лесом"
   ]
  },
  {
   "cell_type": "markdown",
   "metadata": {},
   "source": [
    "<div style=\"border: 3px solid blue; border-radius: 5px; padding: 10px;\">    \n",
    "Вывод:\n",
    "    \n",
    "    Подобранные гиперпараметры для бустинга:\n",
    "    max_depth = 1, learning_rate = 1, n_estimators = 18\n",
    "    \n",
    "    Качество работы:\n",
    "    Accuracy on train: 0.8154735437972432\n",
    "    Accuracy on valid: 0.8091286307053942\n",
    "    f1 on valid: 0.603448275862069\n",
    "    roc_auc on valid: 0.7157071783937456\n",
    "    \n",
    "    метрика f1 маленькая из-за несбалансированности датасета"
   ]
  },
  {
   "cell_type": "markdown",
   "metadata": {},
   "source": [
    "___"
   ]
  },
  {
   "cell_type": "markdown",
   "metadata": {},
   "source": [
    "Общий вывод по выбору модели:"
   ]
  },
  {
   "cell_type": "markdown",
   "metadata": {},
   "source": [
    "<div style=\"border: 3px solid blue; border-radius: 5px; padding: 10px;\">    \n",
    "<p>Наилучший результат на валидации с небольшим отрывом показал случайный лес: \n",
    "<p>Accuracy on valid: 0.8132780082987552\n",
    "<p>f1 on valid: 0.6120689655172413\n",
    "    \n",
    "<p>Сводка по другим моделям:\n",
    "<ul>\n",
    "  <li>Логистическая регрессия - 0.7676348547717843</li>\n",
    "  <li>Дерево решений - 0.7987551867219918</li>\n",
    "  <li>бустинг - 0.8091286307053942</li>\n",
    "</ul>\n",
    "    \n",
    "<p> Вероятнее всего, модели имеют никзое качество из-за того что в датасете дизбаланс по классам"
   ]
  },
  {
   "cell_type": "markdown",
   "metadata": {},
   "source": [
    "## Проверьте модель на тестовой выборке"
   ]
  },
  {
   "cell_type": "code",
   "execution_count": 28,
   "metadata": {},
   "outputs": [],
   "source": [
    "def test_predict(model, X, Y):\n",
    "    print(model)\n",
    "    accuracy = accuracy_score(Y, model.predict(X))\n",
    "    print(\"Accuracy on test:\", accuracy)"
   ]
  },
  {
   "cell_type": "code",
   "execution_count": 29,
   "metadata": {},
   "outputs": [
    {
     "name": "stdout",
     "output_type": "stream",
     "text": [
      "RandomForestClassifier(criterion='entropy', max_depth=7, n_estimators=10,\n",
      "                       random_state=12345)\n",
      "Accuracy on test: 0.7991718426501035\n"
     ]
    }
   ],
   "source": [
    "test_predict(forest_model,X_test,y_test)"
   ]
  },
  {
   "cell_type": "markdown",
   "metadata": {},
   "source": [
    "<div style=\"border: 3px solid blue; border-radius: 5px; padding: 10px;\">    \n",
    "    Вывод:\n",
    "    \n",
    "<p>Наилучший результат по тестовой выборке показал случайный лес: \n",
    "<p>Accuracy on test: 0.7950310559006211\n",
    "    \n"
   ]
  },
  {
   "cell_type": "markdown",
   "metadata": {},
   "source": [
    "## (бонус) Проверьте модели на адекватность"
   ]
  },
  {
   "cell_type": "code",
   "execution_count": 30,
   "metadata": {},
   "outputs": [
    {
     "data": {
      "text/plain": [
       "array([[312,  24],\n",
       "       [ 73,  74]])"
      ]
     },
     "execution_count": 30,
     "metadata": {},
     "output_type": "execute_result"
    }
   ],
   "source": [
    "cm = confusion_matrix(y_test, forest_model.predict(X_test))\n",
    "cm"
   ]
  },
  {
   "cell_type": "code",
   "execution_count": 37,
   "metadata": {
    "scrolled": false
   },
   "outputs": [
    {
     "data": {
      "image/png": "[encoded data removed]",
      "text/plain": [
       "<Figure size 864x432 with 2 Axes>"
      ]
     },
     "metadata": {
      "needs_background": "light"
     },
     "output_type": "display_data"
    }
   ],
   "source": [
    "group_names = ['True Neg','False Pos','False Neg','True Pos']\n",
    "\n",
    "fig = plt.figure(figsize=(12, 6))\n",
    "ax1 = fig.add_subplot(2, 2, 1)\n",
    "\n",
    "cm = confusion_matrix(y_test, forest_model.predict(X_test))\n",
    "group_counts = [\"{0:0.0f}\".format(value) for value in cm.flatten()]\n",
    "group_percentages = [\"{0:.2%}\".format(value) for value in cm.flatten()/np.sum(cm)]\n",
    "labels = [f\"{v1}\\n{v2}\\n{v3}\" for v1, v2, v3 in zip(group_names,group_counts,group_percentages)]\n",
    "labels = np.asarray(labels).reshape(2,2)\n",
    "sns.heatmap(cm, annot=labels, fmt='', cmap='Blues',ax=ax1);\n",
    "ax1.set_title('лес')\n",
    "plt.tight_layout()\n",
    "plt.show()"
   ]
  },
  {
   "cell_type": "markdown",
   "metadata": {},
   "source": [
    "Видно, что у всех моделей процент *ложно* отрицательных и *истинно* положительных ответов на одном уровне, а у логистической регрессии  перевес в ложно отрицательных почти в 5 раз"
   ]
  },
  {
   "cell_type": "markdown",
   "metadata": {},
   "source": [
    "Это связано с дизбалансом в датасете. Пользователей тарифа Смарт в разы больше чем Ультра"
   ]
  },
  {
   "cell_type": "code",
   "execution_count": 36,
   "metadata": {
    "scrolled": true
   },
   "outputs": [
    {
     "name": "stdout",
     "output_type": "stream",
     "text": [
      "количество пользователей с тарифом Смарт: 2229\n",
      "количество пользователей с тарифом Ультра: 985\n"
     ]
    }
   ],
   "source": [
    "print('количество пользователей с тарифом Смарт:', df[df['is_ultra']==0]['is_ultra'].count())\n",
    "print('количество пользователей с тарифом Ультра:', df[df['is_ultra']==1]['is_ultra'].count())"
   ]
  },
  {
   "cell_type": "markdown",
   "metadata": {},
   "source": [
    "Пользователей с тарифом Смарт более чем в два раза больше"
   ]
  },
  {
   "cell_type": "markdown",
   "metadata": {},
   "source": [
    "<div style=\"border: 3px solid blue; border-radius: 5px; padding: 10px;\">    \n",
    "Вывод:\n",
    "    \n",
    "    Из-за того, что в данных есть большой перевес в количестве пользователей с тарифом Смарт, модели дают много ложно \n",
    "    отрицательных результатов.\n",
    "    Для улучшения работы моделей нужно уравновесить данные в датасете или дополнить датасет новыми данными. Это позволит не только сократить количесство ложно отрицательных ответов, но и в общем улучшит качество моделей."
   ]
  },
  {
   "cell_type": "markdown",
   "metadata": {},
   "source": [
    "___"
   ]
  },
  {
   "cell_type": "markdown",
   "metadata": {},
   "source": [
    "## Общий вывод"
   ]
  },
  {
   "cell_type": "markdown",
   "metadata": {},
   "source": [
    "Был проведен анализ разных моделей по решению задачи классификации: определение тарифа клиента\n",
    "\n",
    "Было сделано:\n",
    "- загрузка и анализ датасета\n",
    "- разбиение датасета на обучающую, валидационную и тестовую выборки, стандартизация \n",
    "- подбор модели и гиперпараметров:\n",
    "    - были рассмотрены следующие модели с метриками на тестовой выборке:\n",
    "        - Случайный лес - 0.7950310559006211\n",
    "        - Логистическая регрессия - 0.7453416149068323\n",
    "        - Дерево решений - 0.7598343685300207\n",
    "        - Бустинг - 0.7867494824016563\n",
    "    - наилучший результат показал случайны лес `forest_model`:\n",
    "        - Accuracy on train: 0.8501556247220987\n",
    "        - Accuracy on valid: 0.8132780082987552\n",
    "        - f1 on valid: 0.6120689655172413\n",
    "        - roc_auc on valid: 0.720601076251396\n",
    "- оценка модели на адекватность\n",
    "\n",
    "Стоит отметить, что предоставленные данные имеют смещение в количестве пользователей в сторону тарифа Смарт. Это приводит к тому, что модель плохо обобщается на данные пользователей с тарифом Ультра. Из-за этого модель чассто дает ложно отрицательные ответы, что ухадшает работу модели.\n",
    "Для решения этой проблемы стоит уравновесить датасет данными для тарифа Ультра."
   ]
  }
 ],
 "metadata": {
  "ExecuteTimeLog": [
   {
    "duration": 408,
    "start_time": "2023-06-25T12:33:13.286Z"
   },
   {
    "duration": 76,
    "start_time": "2023-06-25T12:33:54.965Z"
   },
   {
    "duration": 12,
    "start_time": "2023-06-25T12:34:10.632Z"
   },
   {
    "duration": 22,
    "start_time": "2023-06-25T13:42:47.859Z"
   },
   {
    "duration": 71,
    "start_time": "2023-06-25T13:47:55.592Z"
   },
   {
    "duration": 4,
    "start_time": "2023-06-25T13:48:01.547Z"
   },
   {
    "duration": 817,
    "start_time": "2023-06-25T13:51:53.763Z"
   },
   {
    "duration": 47,
    "start_time": "2023-06-25T13:52:59.147Z"
   },
   {
    "duration": 8,
    "start_time": "2023-06-25T13:52:59.608Z"
   },
   {
    "duration": 4,
    "start_time": "2023-06-25T13:54:04.291Z"
   },
   {
    "duration": 5,
    "start_time": "2023-06-25T13:54:16.482Z"
   },
   {
    "duration": 5,
    "start_time": "2023-06-25T13:54:17.160Z"
   },
   {
    "duration": 6,
    "start_time": "2023-06-25T13:54:17.826Z"
   },
   {
    "duration": 53,
    "start_time": "2023-06-25T13:57:58.108Z"
   },
   {
    "duration": 4,
    "start_time": "2023-06-25T13:59:11.945Z"
   },
   {
    "duration": 4,
    "start_time": "2023-06-25T13:59:17.797Z"
   },
   {
    "duration": 27,
    "start_time": "2023-06-25T14:00:03.091Z"
   },
   {
    "duration": 17,
    "start_time": "2023-06-25T14:01:41.543Z"
   },
   {
    "duration": 10,
    "start_time": "2023-06-25T14:01:48.215Z"
   },
   {
    "duration": 7,
    "start_time": "2023-06-25T14:02:20.168Z"
   },
   {
    "duration": 3,
    "start_time": "2023-06-25T14:05:46.342Z"
   },
   {
    "duration": 51,
    "start_time": "2023-06-25T14:08:33.223Z"
   },
   {
    "duration": 15,
    "start_time": "2023-06-25T14:09:02.370Z"
   },
   {
    "duration": 5,
    "start_time": "2023-06-25T14:09:11.964Z"
   },
   {
    "duration": 4,
    "start_time": "2023-06-25T14:13:20.664Z"
   },
   {
    "duration": 13,
    "start_time": "2023-06-25T14:54:06.513Z"
   },
   {
    "duration": 10,
    "start_time": "2023-06-25T14:54:20.631Z"
   },
   {
    "duration": 18,
    "start_time": "2023-06-25T14:54:44.366Z"
   },
   {
    "duration": 7,
    "start_time": "2023-06-25T14:57:05.098Z"
   },
   {
    "duration": 12,
    "start_time": "2023-06-25T14:57:44.751Z"
   },
   {
    "duration": 5,
    "start_time": "2023-06-25T15:01:07.060Z"
   },
   {
    "duration": 8,
    "start_time": "2023-06-25T15:02:05.290Z"
   },
   {
    "duration": 7,
    "start_time": "2023-06-25T15:02:20.395Z"
   },
   {
    "duration": 5,
    "start_time": "2023-06-25T15:05:44.123Z"
   },
   {
    "duration": 20,
    "start_time": "2023-06-25T15:07:33.432Z"
   },
   {
    "duration": 12,
    "start_time": "2023-06-25T15:07:35.389Z"
   },
   {
    "duration": 9,
    "start_time": "2023-06-25T15:07:36.152Z"
   },
   {
    "duration": 338,
    "start_time": "2023-06-25T15:09:04.717Z"
   },
   {
    "duration": 364,
    "start_time": "2023-06-25T15:09:35.614Z"
   },
   {
    "duration": 385,
    "start_time": "2023-06-25T15:09:48.292Z"
   },
   {
    "duration": 300,
    "start_time": "2023-06-25T15:10:07.654Z"
   },
   {
    "duration": 376,
    "start_time": "2023-06-25T15:10:17.895Z"
   },
   {
    "duration": 309,
    "start_time": "2023-06-25T15:10:25.196Z"
   },
   {
    "duration": 332,
    "start_time": "2023-06-25T15:10:30.148Z"
   },
   {
    "duration": 293,
    "start_time": "2023-06-25T15:10:35.186Z"
   },
   {
    "duration": 320,
    "start_time": "2023-06-25T15:10:42.951Z"
   },
   {
    "duration": 335,
    "start_time": "2023-06-25T15:10:49.600Z"
   },
   {
    "duration": 306,
    "start_time": "2023-06-25T15:12:01.736Z"
   },
   {
    "duration": 7,
    "start_time": "2023-06-25T15:13:35.590Z"
   },
   {
    "duration": 19,
    "start_time": "2023-06-25T15:13:41.362Z"
   },
   {
    "duration": 8,
    "start_time": "2023-06-25T15:13:51.266Z"
   },
   {
    "duration": 290,
    "start_time": "2023-06-25T15:14:06.004Z"
   },
   {
    "duration": 250,
    "start_time": "2023-06-25T15:14:16.034Z"
   },
   {
    "duration": 342,
    "start_time": "2023-06-25T15:16:20.761Z"
   },
   {
    "duration": 325,
    "start_time": "2023-06-25T15:16:30.510Z"
   },
   {
    "duration": 303,
    "start_time": "2023-06-25T15:16:35.532Z"
   },
   {
    "duration": 321,
    "start_time": "2023-06-25T15:16:45.797Z"
   },
   {
    "duration": 1184,
    "start_time": "2023-06-25T15:18:33.508Z"
   },
   {
    "duration": 31,
    "start_time": "2023-06-25T15:18:34.694Z"
   },
   {
    "duration": 8,
    "start_time": "2023-06-25T15:18:34.727Z"
   },
   {
    "duration": 14,
    "start_time": "2023-06-25T15:18:34.737Z"
   },
   {
    "duration": 19,
    "start_time": "2023-06-25T15:18:34.752Z"
   },
   {
    "duration": 37,
    "start_time": "2023-06-25T15:18:34.779Z"
   },
   {
    "duration": 8,
    "start_time": "2023-06-25T15:18:34.818Z"
   },
   {
    "duration": 27,
    "start_time": "2023-06-25T15:18:34.828Z"
   },
   {
    "duration": 24,
    "start_time": "2023-06-25T15:18:34.857Z"
   },
   {
    "duration": 5,
    "start_time": "2023-06-25T15:18:34.886Z"
   },
   {
    "duration": 8,
    "start_time": "2023-06-25T15:18:34.893Z"
   },
   {
    "duration": 6,
    "start_time": "2023-06-25T15:18:34.903Z"
   },
   {
    "duration": 111,
    "start_time": "2023-06-25T15:18:34.911Z"
   },
   {
    "duration": 0,
    "start_time": "2023-06-25T15:18:35.024Z"
   },
   {
    "duration": 0,
    "start_time": "2023-06-25T15:18:35.025Z"
   },
   {
    "duration": 0,
    "start_time": "2023-06-25T15:18:35.026Z"
   },
   {
    "duration": 0,
    "start_time": "2023-06-25T15:18:35.027Z"
   },
   {
    "duration": 0,
    "start_time": "2023-06-25T15:18:35.028Z"
   },
   {
    "duration": 1356,
    "start_time": "2023-06-25T15:18:41.704Z"
   },
   {
    "duration": 54,
    "start_time": "2023-06-25T15:18:43.064Z"
   },
   {
    "duration": 13,
    "start_time": "2023-06-25T15:18:43.121Z"
   },
   {
    "duration": 25,
    "start_time": "2023-06-25T15:18:43.136Z"
   },
   {
    "duration": 43,
    "start_time": "2023-06-25T15:18:43.164Z"
   },
   {
    "duration": 28,
    "start_time": "2023-06-25T15:18:43.209Z"
   },
   {
    "duration": 8,
    "start_time": "2023-06-25T15:18:43.240Z"
   },
   {
    "duration": 6,
    "start_time": "2023-06-25T15:18:43.250Z"
   },
   {
    "duration": 22,
    "start_time": "2023-06-25T15:18:43.272Z"
   },
   {
    "duration": 7,
    "start_time": "2023-06-25T15:18:43.297Z"
   },
   {
    "duration": 14,
    "start_time": "2023-06-25T15:18:43.306Z"
   },
   {
    "duration": 10,
    "start_time": "2023-06-25T15:18:43.322Z"
   },
   {
    "duration": 9,
    "start_time": "2023-06-25T15:18:43.335Z"
   },
   {
    "duration": 8,
    "start_time": "2023-06-25T15:18:43.346Z"
   },
   {
    "duration": 15,
    "start_time": "2023-06-25T15:18:43.368Z"
   },
   {
    "duration": 9,
    "start_time": "2023-06-25T15:18:43.389Z"
   },
   {
    "duration": 343,
    "start_time": "2023-06-25T15:18:43.400Z"
   },
   {
    "duration": 9,
    "start_time": "2023-06-25T15:19:54.341Z"
   },
   {
    "duration": 8,
    "start_time": "2023-06-25T15:20:11.148Z"
   },
   {
    "duration": 15,
    "start_time": "2023-06-25T15:20:14.146Z"
   },
   {
    "duration": 8,
    "start_time": "2023-06-25T15:20:14.913Z"
   },
   {
    "duration": 404,
    "start_time": "2023-06-25T15:20:16.134Z"
   },
   {
    "duration": 474,
    "start_time": "2023-06-25T15:20:30.610Z"
   },
   {
    "duration": 480,
    "start_time": "2023-06-25T15:20:41.690Z"
   },
   {
    "duration": 502,
    "start_time": "2023-06-25T15:20:44.801Z"
   },
   {
    "duration": 418,
    "start_time": "2023-06-25T15:21:16.898Z"
   },
   {
    "duration": 1494,
    "start_time": "2023-06-25T15:30:22.751Z"
   },
   {
    "duration": 39,
    "start_time": "2023-06-25T15:30:24.249Z"
   },
   {
    "duration": 16,
    "start_time": "2023-06-25T15:30:24.290Z"
   },
   {
    "duration": 16,
    "start_time": "2023-06-25T15:30:24.307Z"
   },
   {
    "duration": 20,
    "start_time": "2023-06-25T15:30:24.326Z"
   },
   {
    "duration": 43,
    "start_time": "2023-06-25T15:30:24.348Z"
   },
   {
    "duration": 15,
    "start_time": "2023-06-25T15:30:24.397Z"
   },
   {
    "duration": 6,
    "start_time": "2023-06-25T15:30:24.414Z"
   },
   {
    "duration": 12,
    "start_time": "2023-06-25T15:30:24.422Z"
   },
   {
    "duration": 12,
    "start_time": "2023-06-25T15:30:24.436Z"
   },
   {
    "duration": 16,
    "start_time": "2023-06-25T15:30:24.470Z"
   },
   {
    "duration": 7,
    "start_time": "2023-06-25T15:30:24.493Z"
   },
   {
    "duration": 21,
    "start_time": "2023-06-25T15:30:24.502Z"
   },
   {
    "duration": 8,
    "start_time": "2023-06-25T15:30:24.527Z"
   },
   {
    "duration": 17,
    "start_time": "2023-06-25T15:30:24.537Z"
   },
   {
    "duration": 10,
    "start_time": "2023-06-25T15:30:24.568Z"
   },
   {
    "duration": 266,
    "start_time": "2023-06-25T15:30:24.580Z"
   },
   {
    "duration": 361,
    "start_time": "2023-06-25T15:30:24.848Z"
   },
   {
    "duration": 15,
    "start_time": "2023-06-25T15:30:49.744Z"
   },
   {
    "duration": 34,
    "start_time": "2023-06-25T15:31:20.841Z"
   },
   {
    "duration": 1356,
    "start_time": "2023-06-25T15:31:53.822Z"
   },
   {
    "duration": 423,
    "start_time": "2023-06-25T15:33:07.448Z"
   },
   {
    "duration": 6,
    "start_time": "2023-06-25T15:35:17.826Z"
   },
   {
    "duration": 18,
    "start_time": "2023-06-25T15:35:52.515Z"
   },
   {
    "duration": 15,
    "start_time": "2023-06-25T15:36:06.748Z"
   },
   {
    "duration": 19,
    "start_time": "2023-06-25T15:37:37.633Z"
   },
   {
    "duration": 23,
    "start_time": "2023-06-25T15:38:18.941Z"
   },
   {
    "duration": 19,
    "start_time": "2023-06-25T15:39:00.346Z"
   },
   {
    "duration": 8,
    "start_time": "2023-06-25T15:39:07.930Z"
   },
   {
    "duration": 14,
    "start_time": "2023-06-25T15:39:34.864Z"
   },
   {
    "duration": 7,
    "start_time": "2023-06-25T15:41:19.837Z"
   },
   {
    "duration": 11,
    "start_time": "2023-06-25T15:41:22.033Z"
   },
   {
    "duration": 52,
    "start_time": "2023-06-25T15:41:24.383Z"
   },
   {
    "duration": 48,
    "start_time": "2023-06-25T15:41:26.059Z"
   },
   {
    "duration": 3360,
    "start_time": "2023-06-25T15:41:41.916Z"
   },
   {
    "duration": 16,
    "start_time": "2023-06-25T15:43:25.022Z"
   },
   {
    "duration": 6,
    "start_time": "2023-06-25T15:43:58.050Z"
   },
   {
    "duration": 10,
    "start_time": "2023-06-25T15:43:59.054Z"
   },
   {
    "duration": 24,
    "start_time": "2023-06-25T15:44:00.036Z"
   },
   {
    "duration": 12,
    "start_time": "2023-06-25T15:44:00.637Z"
   },
   {
    "duration": 3623,
    "start_time": "2023-06-25T15:44:02.929Z"
   },
   {
    "duration": 35229,
    "start_time": "2023-06-25T15:44:15.334Z"
   },
   {
    "duration": 111,
    "start_time": "2023-06-25T15:47:39.423Z"
   },
   {
    "duration": 15,
    "start_time": "2023-06-25T15:52:14.929Z"
   },
   {
    "duration": 10,
    "start_time": "2023-06-25T15:52:15.355Z"
   },
   {
    "duration": 1397,
    "start_time": "2023-06-25T15:55:25.412Z"
   },
   {
    "duration": 1510,
    "start_time": "2023-06-25T15:55:50.279Z"
   },
   {
    "duration": 514,
    "start_time": "2023-06-25T15:58:40.591Z"
   },
   {
    "duration": 1521,
    "start_time": "2023-06-25T15:59:15.421Z"
   },
   {
    "duration": 4,
    "start_time": "2023-06-25T16:00:46.397Z"
   },
   {
    "duration": 11,
    "start_time": "2023-06-25T16:00:58.531Z"
   },
   {
    "duration": 18,
    "start_time": "2023-06-25T16:01:52.205Z"
   },
   {
    "duration": 21,
    "start_time": "2023-06-25T16:02:02.864Z"
   },
   {
    "duration": 28,
    "start_time": "2023-06-25T16:02:18.916Z"
   },
   {
    "duration": 1340,
    "start_time": "2023-06-25T16:02:51.290Z"
   },
   {
    "duration": 1333,
    "start_time": "2023-06-25T16:02:57.358Z"
   },
   {
    "duration": 1307,
    "start_time": "2023-06-25T16:03:03.469Z"
   },
   {
    "duration": 1105,
    "start_time": "2023-06-25T16:03:09.486Z"
   },
   {
    "duration": 1261,
    "start_time": "2023-06-25T16:04:00.593Z"
   },
   {
    "duration": 13,
    "start_time": "2023-06-25T16:04:11.387Z"
   },
   {
    "duration": 1417,
    "start_time": "2023-06-25T16:04:51.326Z"
   },
   {
    "duration": 19,
    "start_time": "2023-06-25T16:08:40.342Z"
   },
   {
    "duration": 25,
    "start_time": "2023-06-25T16:09:05.360Z"
   },
   {
    "duration": 3899,
    "start_time": "2023-06-25T16:09:22.505Z"
   },
   {
    "duration": 14,
    "start_time": "2023-06-25T16:10:18.702Z"
   },
   {
    "duration": 2855,
    "start_time": "2023-06-25T16:38:46.572Z"
   },
   {
    "duration": 3,
    "start_time": "2023-06-25T16:39:54.813Z"
   },
   {
    "duration": 4,
    "start_time": "2023-06-25T16:39:59.816Z"
   },
   {
    "duration": 3,
    "start_time": "2023-06-25T16:40:24.912Z"
   },
   {
    "duration": 4976,
    "start_time": "2023-06-25T16:40:31.754Z"
   },
   {
    "duration": 4801,
    "start_time": "2023-06-25T16:41:34.601Z"
   },
   {
    "duration": 4933,
    "start_time": "2023-06-25T16:41:55.445Z"
   },
   {
    "duration": 4764,
    "start_time": "2023-06-25T16:42:05.439Z"
   },
   {
    "duration": 15,
    "start_time": "2023-06-25T16:42:26.707Z"
   },
   {
    "duration": 14,
    "start_time": "2023-06-25T16:42:37.887Z"
   },
   {
    "duration": 5355,
    "start_time": "2023-06-25T16:43:52.621Z"
   },
   {
    "duration": 18,
    "start_time": "2023-06-25T16:44:17.494Z"
   },
   {
    "duration": 1444,
    "start_time": "2023-06-25T16:46:56.167Z"
   },
   {
    "duration": 33,
    "start_time": "2023-06-25T16:46:57.614Z"
   },
   {
    "duration": 10,
    "start_time": "2023-06-25T16:46:57.649Z"
   },
   {
    "duration": 28,
    "start_time": "2023-06-25T16:46:57.661Z"
   },
   {
    "duration": 31,
    "start_time": "2023-06-25T16:46:57.693Z"
   },
   {
    "duration": 39,
    "start_time": "2023-06-25T16:46:57.726Z"
   },
   {
    "duration": 21,
    "start_time": "2023-06-25T16:46:57.767Z"
   },
   {
    "duration": 4,
    "start_time": "2023-06-25T16:46:57.790Z"
   },
   {
    "duration": 23,
    "start_time": "2023-06-25T16:46:57.796Z"
   },
   {
    "duration": 15,
    "start_time": "2023-06-25T16:46:57.821Z"
   },
   {
    "duration": 14,
    "start_time": "2023-06-25T16:46:57.838Z"
   },
   {
    "duration": 7,
    "start_time": "2023-06-25T16:46:57.854Z"
   },
   {
    "duration": 19,
    "start_time": "2023-06-25T16:46:57.862Z"
   },
   {
    "duration": 13,
    "start_time": "2023-06-25T16:46:57.890Z"
   },
   {
    "duration": 7,
    "start_time": "2023-06-25T16:46:57.906Z"
   },
   {
    "duration": 16,
    "start_time": "2023-06-25T16:46:57.915Z"
   },
   {
    "duration": 24,
    "start_time": "2023-06-25T16:46:57.933Z"
   },
   {
    "duration": 1105,
    "start_time": "2023-06-25T16:46:57.959Z"
   },
   {
    "duration": 22,
    "start_time": "2023-06-25T16:46:59.069Z"
   },
   {
    "duration": 8,
    "start_time": "2023-06-25T16:46:59.093Z"
   },
   {
    "duration": 18,
    "start_time": "2023-06-25T16:46:59.103Z"
   },
   {
    "duration": 35,
    "start_time": "2023-06-25T16:46:59.123Z"
   },
   {
    "duration": 26,
    "start_time": "2023-06-25T16:46:59.160Z"
   },
   {
    "duration": 3149,
    "start_time": "2023-06-25T16:46:59.188Z"
   },
   {
    "duration": 4,
    "start_time": "2023-06-25T16:47:02.339Z"
   },
   {
    "duration": 50,
    "start_time": "2023-06-25T16:47:02.345Z"
   },
   {
    "duration": 48,
    "start_time": "2023-06-25T16:47:02.398Z"
   },
   {
    "duration": 5349,
    "start_time": "2023-06-25T16:47:02.448Z"
   },
   {
    "duration": 20,
    "start_time": "2023-06-25T16:47:07.800Z"
   },
   {
    "duration": 131,
    "start_time": "2023-06-25T16:47:07.822Z"
   },
   {
    "duration": 18,
    "start_time": "2023-06-25T16:58:48.164Z"
   },
   {
    "duration": 4,
    "start_time": "2023-06-25T16:59:02.450Z"
   },
   {
    "duration": 3,
    "start_time": "2023-06-25T16:59:12.399Z"
   },
   {
    "duration": 418,
    "start_time": "2023-06-25T17:00:03.289Z"
   },
   {
    "duration": 8,
    "start_time": "2023-06-25T17:00:06.027Z"
   },
   {
    "duration": 404,
    "start_time": "2023-06-25T17:00:23.289Z"
   },
   {
    "duration": 11,
    "start_time": "2023-06-25T17:00:24.384Z"
   },
   {
    "duration": 65,
    "start_time": "2023-06-25T17:01:03.547Z"
   },
   {
    "duration": 8,
    "start_time": "2023-06-25T17:01:03.614Z"
   },
   {
    "duration": 16,
    "start_time": "2023-06-25T17:01:08.966Z"
   },
   {
    "duration": 10,
    "start_time": "2023-06-25T17:01:09.782Z"
   },
   {
    "duration": 16,
    "start_time": "2023-06-25T17:01:47.070Z"
   },
   {
    "duration": 1242,
    "start_time": "2023-06-25T17:02:14.191Z"
   },
   {
    "duration": 33,
    "start_time": "2023-06-25T17:02:15.435Z"
   },
   {
    "duration": 11,
    "start_time": "2023-06-25T17:02:15.479Z"
   },
   {
    "duration": 32,
    "start_time": "2023-06-25T17:02:15.492Z"
   },
   {
    "duration": 31,
    "start_time": "2023-06-25T17:02:15.528Z"
   },
   {
    "duration": 47,
    "start_time": "2023-06-25T17:02:15.561Z"
   },
   {
    "duration": 10,
    "start_time": "2023-06-25T17:02:15.611Z"
   },
   {
    "duration": 36,
    "start_time": "2023-06-25T17:02:15.623Z"
   },
   {
    "duration": 20,
    "start_time": "2023-06-25T17:02:15.661Z"
   },
   {
    "duration": 40,
    "start_time": "2023-06-25T17:02:15.683Z"
   },
   {
    "duration": 11,
    "start_time": "2023-06-25T17:02:15.726Z"
   },
   {
    "duration": 18,
    "start_time": "2023-06-25T17:02:15.739Z"
   },
   {
    "duration": 10,
    "start_time": "2023-06-25T17:02:15.760Z"
   },
   {
    "duration": 29,
    "start_time": "2023-06-25T17:02:15.774Z"
   },
   {
    "duration": 7,
    "start_time": "2023-06-25T17:02:15.804Z"
   },
   {
    "duration": 33,
    "start_time": "2023-06-25T17:02:15.813Z"
   },
   {
    "duration": 7,
    "start_time": "2023-06-25T17:02:15.848Z"
   },
   {
    "duration": 1080,
    "start_time": "2023-06-25T17:02:15.857Z"
   },
   {
    "duration": 13,
    "start_time": "2023-06-25T17:02:16.940Z"
   },
   {
    "duration": 9,
    "start_time": "2023-06-25T17:02:16.974Z"
   },
   {
    "duration": 11,
    "start_time": "2023-06-25T17:02:16.985Z"
   },
   {
    "duration": 22,
    "start_time": "2023-06-25T17:02:16.998Z"
   },
   {
    "duration": 9,
    "start_time": "2023-06-25T17:02:17.022Z"
   },
   {
    "duration": 3100,
    "start_time": "2023-06-25T17:02:17.033Z"
   },
   {
    "duration": 4,
    "start_time": "2023-06-25T17:02:20.135Z"
   },
   {
    "duration": 46,
    "start_time": "2023-06-25T17:02:20.141Z"
   },
   {
    "duration": 24,
    "start_time": "2023-06-25T17:02:20.189Z"
   },
   {
    "duration": 4976,
    "start_time": "2023-06-25T17:02:20.214Z"
   },
   {
    "duration": 14,
    "start_time": "2023-06-25T17:02:25.192Z"
   },
   {
    "duration": 27,
    "start_time": "2023-06-25T17:02:25.208Z"
   },
   {
    "duration": 50,
    "start_time": "2023-06-25T17:02:25.237Z"
   },
   {
    "duration": 19,
    "start_time": "2023-06-25T17:03:14.472Z"
   },
   {
    "duration": 11,
    "start_time": "2023-06-25T17:03:14.915Z"
   },
   {
    "duration": 411,
    "start_time": "2023-06-25T17:03:19.507Z"
   },
   {
    "duration": 87,
    "start_time": "2023-06-25T17:03:19.923Z"
   },
   {
    "duration": 473,
    "start_time": "2023-06-25T17:03:29.437Z"
   },
   {
    "duration": 74,
    "start_time": "2023-06-25T17:03:29.962Z"
   },
   {
    "duration": 4892,
    "start_time": "2023-06-25T17:05:09.554Z"
   },
   {
    "duration": 5227,
    "start_time": "2023-06-25T17:05:30.209Z"
   },
   {
    "duration": 18,
    "start_time": "2023-06-25T17:05:41.543Z"
   },
   {
    "duration": 17,
    "start_time": "2023-06-25T17:05:51.993Z"
   },
   {
    "duration": 154,
    "start_time": "2023-06-25T17:11:42.063Z"
   },
   {
    "duration": 11010,
    "start_time": "2023-06-25T17:11:59.190Z"
   },
   {
    "duration": 13,
    "start_time": "2023-06-25T17:12:33.919Z"
   },
   {
    "duration": 19,
    "start_time": "2023-06-25T17:12:43.413Z"
   },
   {
    "duration": 0,
    "start_time": "2023-06-25T17:25:13.593Z"
   },
   {
    "duration": 7584,
    "start_time": "2023-06-25T17:25:35.658Z"
   },
   {
    "duration": 125694,
    "start_time": "2023-06-25T17:25:48.415Z"
   },
   {
    "duration": 12471,
    "start_time": "2023-06-25T17:28:33.053Z"
   },
   {
    "duration": 12640,
    "start_time": "2023-06-25T17:35:22.745Z"
   },
   {
    "duration": 12,
    "start_time": "2023-06-25T17:37:07.257Z"
   },
   {
    "duration": 109,
    "start_time": "2023-06-25T17:37:22.922Z"
   },
   {
    "duration": 291,
    "start_time": "2023-06-25T17:54:52.618Z"
   },
   {
    "duration": 11,
    "start_time": "2023-06-25T17:54:53.512Z"
   },
   {
    "duration": 15,
    "start_time": "2023-06-25T17:55:00.059Z"
   },
   {
    "duration": 0,
    "start_time": "2023-06-25T18:01:03.118Z"
   },
   {
    "duration": 1473,
    "start_time": "2023-06-25T18:01:48.130Z"
   },
   {
    "duration": 78,
    "start_time": "2023-06-25T18:01:49.606Z"
   },
   {
    "duration": 12,
    "start_time": "2023-06-25T18:01:49.686Z"
   },
   {
    "duration": 21,
    "start_time": "2023-06-25T18:01:49.700Z"
   },
   {
    "duration": 17,
    "start_time": "2023-06-25T18:01:49.725Z"
   },
   {
    "duration": 44,
    "start_time": "2023-06-25T18:01:49.744Z"
   },
   {
    "duration": 9,
    "start_time": "2023-06-25T18:01:49.790Z"
   },
   {
    "duration": 9,
    "start_time": "2023-06-25T18:01:49.801Z"
   },
   {
    "duration": 14,
    "start_time": "2023-06-25T18:01:49.812Z"
   },
   {
    "duration": 17,
    "start_time": "2023-06-25T18:01:49.828Z"
   },
   {
    "duration": 8,
    "start_time": "2023-06-25T18:01:49.848Z"
   },
   {
    "duration": 14,
    "start_time": "2023-06-25T18:01:49.858Z"
   },
   {
    "duration": 29,
    "start_time": "2023-06-25T18:01:49.874Z"
   },
   {
    "duration": 16,
    "start_time": "2023-06-25T18:01:49.907Z"
   },
   {
    "duration": 21,
    "start_time": "2023-06-25T18:01:49.925Z"
   },
   {
    "duration": 14,
    "start_time": "2023-06-25T18:01:49.948Z"
   },
   {
    "duration": 9,
    "start_time": "2023-06-25T18:01:49.964Z"
   },
   {
    "duration": 1262,
    "start_time": "2023-06-25T18:01:49.975Z"
   },
   {
    "duration": 10,
    "start_time": "2023-06-25T18:01:51.239Z"
   },
   {
    "duration": 41,
    "start_time": "2023-06-25T18:01:51.250Z"
   },
   {
    "duration": 8,
    "start_time": "2023-06-25T18:01:51.295Z"
   },
   {
    "duration": 23,
    "start_time": "2023-06-25T18:01:51.307Z"
   },
   {
    "duration": 8,
    "start_time": "2023-06-25T18:01:51.332Z"
   },
   {
    "duration": 3359,
    "start_time": "2023-06-25T18:01:51.342Z"
   },
   {
    "duration": 4,
    "start_time": "2023-06-25T18:01:54.702Z"
   },
   {
    "duration": 37,
    "start_time": "2023-06-25T18:01:54.708Z"
   },
   {
    "duration": 10,
    "start_time": "2023-06-25T18:01:54.746Z"
   },
   {
    "duration": 11252,
    "start_time": "2023-06-25T18:01:54.758Z"
   },
   {
    "duration": 19,
    "start_time": "2023-06-25T18:02:06.012Z"
   },
   {
    "duration": 441,
    "start_time": "2023-06-25T18:02:06.034Z"
   },
   {
    "duration": 78,
    "start_time": "2023-06-25T18:02:06.479Z"
   },
   {
    "duration": 1112242,
    "start_time": "2023-06-25T18:02:06.558Z"
   },
   {
    "duration": 0,
    "start_time": "2023-06-25T18:20:38.803Z"
   },
   {
    "duration": 0,
    "start_time": "2023-06-25T18:20:38.804Z"
   },
   {
    "duration": 0,
    "start_time": "2023-06-25T18:20:38.806Z"
   },
   {
    "duration": 0,
    "start_time": "2023-06-25T18:20:38.808Z"
   },
   {
    "duration": 0,
    "start_time": "2023-06-25T18:20:38.810Z"
   },
   {
    "duration": 79816,
    "start_time": "2023-06-25T18:20:45.399Z"
   },
   {
    "duration": 13632,
    "start_time": "2023-06-25T18:22:27.505Z"
   },
   {
    "duration": 40956,
    "start_time": "2023-06-25T18:22:53.658Z"
   },
   {
    "duration": 4808,
    "start_time": "2023-06-25T18:28:33.054Z"
   },
   {
    "duration": 267,
    "start_time": "2023-06-25T18:28:39.288Z"
   },
   {
    "duration": 19,
    "start_time": "2023-06-25T18:28:40.086Z"
   },
   {
    "duration": 39790,
    "start_time": "2023-06-25T18:28:42.656Z"
   },
   {
    "duration": 85,
    "start_time": "2023-06-25T18:29:22.448Z"
   },
   {
    "duration": 20,
    "start_time": "2023-06-25T18:30:02.397Z"
   },
   {
    "duration": 77,
    "start_time": "2023-06-25T18:30:14.946Z"
   },
   {
    "duration": 11,
    "start_time": "2023-06-25T18:40:07.564Z"
   },
   {
    "duration": 9,
    "start_time": "2023-06-25T18:40:24.866Z"
   },
   {
    "duration": 12,
    "start_time": "2023-06-25T18:41:00.288Z"
   },
   {
    "duration": 8,
    "start_time": "2023-06-25T18:41:17.153Z"
   },
   {
    "duration": 23,
    "start_time": "2023-06-25T18:42:37.198Z"
   },
   {
    "duration": 27,
    "start_time": "2023-06-25T18:42:48.266Z"
   },
   {
    "duration": 13,
    "start_time": "2023-06-25T18:43:01.492Z"
   },
   {
    "duration": 34,
    "start_time": "2023-06-25T18:43:46.314Z"
   },
   {
    "duration": 7,
    "start_time": "2023-06-25T18:43:53.619Z"
   },
   {
    "duration": 20,
    "start_time": "2023-06-25T18:44:20.160Z"
   },
   {
    "duration": 12,
    "start_time": "2023-06-25T18:44:41.830Z"
   },
   {
    "duration": 8,
    "start_time": "2023-06-25T18:44:42.414Z"
   },
   {
    "duration": 3,
    "start_time": "2023-06-25T18:45:46.018Z"
   },
   {
    "duration": 6,
    "start_time": "2023-06-25T18:45:46.460Z"
   },
   {
    "duration": 8,
    "start_time": "2023-06-25T18:45:46.876Z"
   },
   {
    "duration": 10,
    "start_time": "2023-06-25T18:45:47.310Z"
   },
   {
    "duration": 9,
    "start_time": "2023-06-25T18:45:47.789Z"
   },
   {
    "duration": 73,
    "start_time": "2023-06-25T18:51:22.860Z"
   },
   {
    "duration": 3729,
    "start_time": "2023-06-25T18:52:12.030Z"
   },
   {
    "duration": 17,
    "start_time": "2023-06-25T18:52:30.456Z"
   },
   {
    "duration": 2435,
    "start_time": "2023-06-25T18:53:07.151Z"
   },
   {
    "duration": 10,
    "start_time": "2023-06-25T18:53:11.005Z"
   },
   {
    "duration": 8502,
    "start_time": "2023-06-25T18:55:57.627Z"
   },
   {
    "duration": 89282,
    "start_time": "2023-06-25T18:56:24.970Z"
   },
   {
    "duration": 41896,
    "start_time": "2023-06-25T18:59:20.748Z"
   },
   {
    "duration": 4,
    "start_time": "2023-06-25T19:09:06.427Z"
   },
   {
    "duration": 14,
    "start_time": "2023-06-25T19:10:22.661Z"
   },
   {
    "duration": 10,
    "start_time": "2023-06-25T19:11:05.283Z"
   },
   {
    "duration": 880,
    "start_time": "2023-06-25T19:11:06.602Z"
   },
   {
    "duration": 6,
    "start_time": "2023-06-25T19:11:19.720Z"
   },
   {
    "duration": 5,
    "start_time": "2023-06-25T19:11:25.189Z"
   },
   {
    "duration": 5,
    "start_time": "2023-06-25T19:11:29.824Z"
   },
   {
    "duration": 321,
    "start_time": "2023-06-25T19:11:43.951Z"
   },
   {
    "duration": 159,
    "start_time": "2023-06-25T19:12:45.955Z"
   },
   {
    "duration": 715,
    "start_time": "2023-06-25T19:12:51.927Z"
   },
   {
    "duration": 50,
    "start_time": "2023-06-25T19:13:14.595Z"
   },
   {
    "duration": 716,
    "start_time": "2023-06-25T19:13:44.097Z"
   },
   {
    "duration": 909,
    "start_time": "2023-06-25T19:14:18.624Z"
   },
   {
    "duration": 949,
    "start_time": "2023-06-25T19:15:12.392Z"
   },
   {
    "duration": 521,
    "start_time": "2023-06-25T19:16:24.664Z"
   },
   {
    "duration": 1048,
    "start_time": "2023-06-25T19:16:39.665Z"
   },
   {
    "duration": 916,
    "start_time": "2023-06-25T19:16:55.111Z"
   },
   {
    "duration": 12,
    "start_time": "2023-06-25T19:17:35.081Z"
   },
   {
    "duration": 5,
    "start_time": "2023-06-25T19:21:24.933Z"
   },
   {
    "duration": 87,
    "start_time": "2023-06-25T19:22:06.649Z"
   },
   {
    "duration": 91,
    "start_time": "2023-06-25T19:22:21.051Z"
   },
   {
    "duration": 95,
    "start_time": "2023-06-25T19:22:31.952Z"
   },
   {
    "duration": 12,
    "start_time": "2023-06-25T19:22:47.140Z"
   },
   {
    "duration": 14,
    "start_time": "2023-06-25T19:22:51.959Z"
   },
   {
    "duration": 13,
    "start_time": "2023-06-25T19:22:59.440Z"
   },
   {
    "duration": 12,
    "start_time": "2023-06-25T19:23:06.441Z"
   },
   {
    "duration": 301,
    "start_time": "2023-06-25T19:23:12.162Z"
   },
   {
    "duration": 283,
    "start_time": "2023-06-25T19:23:19.800Z"
   },
   {
    "duration": 955,
    "start_time": "2023-06-25T19:25:05.887Z"
   },
   {
    "duration": 1041,
    "start_time": "2023-06-25T19:25:21.086Z"
   },
   {
    "duration": 734,
    "start_time": "2023-06-25T19:27:05.585Z"
   },
   {
    "duration": 1210,
    "start_time": "2023-06-25T19:27:52.133Z"
   },
   {
    "duration": 1187,
    "start_time": "2023-06-25T19:29:33.388Z"
   },
   {
    "duration": 1300,
    "start_time": "2023-06-25T19:30:05.047Z"
   },
   {
    "duration": 1216,
    "start_time": "2023-06-25T19:30:26.492Z"
   },
   {
    "duration": 1106,
    "start_time": "2023-06-25T19:30:32.353Z"
   },
   {
    "duration": 1402,
    "start_time": "2023-06-25T19:30:42.929Z"
   },
   {
    "duration": 99,
    "start_time": "2023-06-25T19:35:32.606Z"
   },
   {
    "duration": 12,
    "start_time": "2023-06-25T19:36:07.596Z"
   },
   {
    "duration": 28,
    "start_time": "2023-06-25T19:36:29.014Z"
   },
   {
    "duration": 8,
    "start_time": "2023-06-25T19:39:40.355Z"
   },
   {
    "duration": 7,
    "start_time": "2023-06-25T19:39:47.225Z"
   },
   {
    "duration": 8,
    "start_time": "2023-06-25T19:39:58.803Z"
   },
   {
    "duration": 1682,
    "start_time": "2023-06-25T19:45:53.820Z"
   },
   {
    "duration": 32,
    "start_time": "2023-06-25T19:45:55.505Z"
   },
   {
    "duration": 9,
    "start_time": "2023-06-25T19:45:55.539Z"
   },
   {
    "duration": 14,
    "start_time": "2023-06-25T19:45:55.550Z"
   },
   {
    "duration": 41,
    "start_time": "2023-06-25T19:45:55.568Z"
   },
   {
    "duration": 28,
    "start_time": "2023-06-25T19:45:55.611Z"
   },
   {
    "duration": 23,
    "start_time": "2023-06-25T19:45:55.641Z"
   },
   {
    "duration": 9,
    "start_time": "2023-06-25T19:45:55.666Z"
   },
   {
    "duration": 16,
    "start_time": "2023-06-25T19:45:55.680Z"
   },
   {
    "duration": 32,
    "start_time": "2023-06-25T19:45:55.699Z"
   },
   {
    "duration": 19,
    "start_time": "2023-06-25T19:45:55.734Z"
   },
   {
    "duration": 33,
    "start_time": "2023-06-25T19:45:55.755Z"
   },
   {
    "duration": 8,
    "start_time": "2023-06-25T19:45:55.790Z"
   },
   {
    "duration": 12,
    "start_time": "2023-06-25T19:45:55.802Z"
   },
   {
    "duration": 14,
    "start_time": "2023-06-25T19:45:55.816Z"
   },
   {
    "duration": 22,
    "start_time": "2023-06-25T19:45:55.832Z"
   },
   {
    "duration": 8,
    "start_time": "2023-06-25T19:45:55.856Z"
   },
   {
    "duration": 1226,
    "start_time": "2023-06-25T19:45:55.866Z"
   },
   {
    "duration": 13,
    "start_time": "2023-06-25T19:45:57.094Z"
   },
   {
    "duration": 21,
    "start_time": "2023-06-25T19:45:57.109Z"
   },
   {
    "duration": 7,
    "start_time": "2023-06-25T19:45:57.133Z"
   },
   {
    "duration": 31,
    "start_time": "2023-06-25T19:45:57.142Z"
   },
   {
    "duration": 22,
    "start_time": "2023-06-25T19:45:57.183Z"
   },
   {
    "duration": 10,
    "start_time": "2023-06-25T19:45:57.206Z"
   },
   {
    "duration": 3078,
    "start_time": "2023-06-25T19:45:57.218Z"
   },
   {
    "duration": 22,
    "start_time": "2023-06-25T19:46:00.298Z"
   },
   {
    "duration": 21,
    "start_time": "2023-06-25T19:46:00.321Z"
   },
   {
    "duration": 63,
    "start_time": "2023-06-25T19:46:00.344Z"
   },
   {
    "duration": 27,
    "start_time": "2023-06-25T19:46:00.409Z"
   },
   {
    "duration": 11408,
    "start_time": "2023-06-25T19:46:00.438Z"
   },
   {
    "duration": 32,
    "start_time": "2023-06-25T19:46:11.848Z"
   },
   {
    "duration": 425,
    "start_time": "2023-06-25T19:46:11.885Z"
   },
   {
    "duration": 84,
    "start_time": "2023-06-25T19:46:12.312Z"
   },
   {
    "duration": 14039,
    "start_time": "2023-06-25T19:46:12.398Z"
   },
   {
    "duration": 105,
    "start_time": "2023-06-25T19:46:26.440Z"
   },
   {
    "duration": 284,
    "start_time": "2023-06-25T19:46:26.547Z"
   },
   {
    "duration": 19,
    "start_time": "2023-06-25T19:46:26.833Z"
   },
   {
    "duration": 43535,
    "start_time": "2023-06-25T19:46:26.854Z"
   },
   {
    "duration": 105,
    "start_time": "2023-06-25T19:47:10.391Z"
   },
   {
    "duration": 5,
    "start_time": "2023-06-25T19:47:10.498Z"
   },
   {
    "duration": 8,
    "start_time": "2023-06-25T19:47:10.510Z"
   },
   {
    "duration": 22,
    "start_time": "2023-06-25T19:47:10.520Z"
   },
   {
    "duration": 31,
    "start_time": "2023-06-25T19:47:10.544Z"
   },
   {
    "duration": 10,
    "start_time": "2023-06-25T19:47:10.578Z"
   },
   {
    "duration": 12,
    "start_time": "2023-06-25T19:47:10.590Z"
   },
   {
    "duration": 496,
    "start_time": "2023-06-25T19:47:10.604Z"
   },
   {
    "duration": 1609,
    "start_time": "2023-06-25T19:47:11.103Z"
   },
   {
    "duration": 54,
    "start_time": "2023-06-25T19:47:12.715Z"
   },
   {
    "duration": 11,
    "start_time": "2023-06-25T19:47:12.772Z"
   },
   {
    "duration": 155,
    "start_time": "2023-06-25T20:11:44.825Z"
   },
   {
    "duration": 5,
    "start_time": "2023-06-25T20:12:33.229Z"
   },
   {
    "duration": 3,
    "start_time": "2023-06-25T20:13:32.698Z"
   },
   {
    "duration": 3,
    "start_time": "2023-06-25T20:14:15.492Z"
   },
   {
    "duration": 1717,
    "start_time": "2023-06-25T20:22:00.750Z"
   },
   {
    "duration": 35,
    "start_time": "2023-06-25T20:22:02.470Z"
   },
   {
    "duration": 8,
    "start_time": "2023-06-25T20:22:02.507Z"
   },
   {
    "duration": 18,
    "start_time": "2023-06-25T20:22:02.517Z"
   },
   {
    "duration": 22,
    "start_time": "2023-06-25T20:22:02.538Z"
   },
   {
    "duration": 32,
    "start_time": "2023-06-25T20:22:02.562Z"
   },
   {
    "duration": 7,
    "start_time": "2023-06-25T20:22:02.596Z"
   },
   {
    "duration": 19,
    "start_time": "2023-06-25T20:22:02.604Z"
   },
   {
    "duration": 19,
    "start_time": "2023-06-25T20:22:02.625Z"
   },
   {
    "duration": 27,
    "start_time": "2023-06-25T20:22:02.647Z"
   },
   {
    "duration": 6,
    "start_time": "2023-06-25T20:22:02.676Z"
   },
   {
    "duration": 139,
    "start_time": "2023-06-25T20:22:02.685Z"
   },
   {
    "duration": 0,
    "start_time": "2023-06-25T20:22:02.828Z"
   },
   {
    "duration": 0,
    "start_time": "2023-06-25T20:22:02.830Z"
   },
   {
    "duration": 0,
    "start_time": "2023-06-25T20:22:02.831Z"
   },
   {
    "duration": 0,
    "start_time": "2023-06-25T20:22:02.833Z"
   },
   {
    "duration": 0,
    "start_time": "2023-06-25T20:22:02.835Z"
   },
   {
    "duration": 0,
    "start_time": "2023-06-25T20:22:02.836Z"
   },
   {
    "duration": 0,
    "start_time": "2023-06-25T20:22:02.838Z"
   },
   {
    "duration": 0,
    "start_time": "2023-06-25T20:22:02.839Z"
   },
   {
    "duration": 0,
    "start_time": "2023-06-25T20:22:02.868Z"
   },
   {
    "duration": 0,
    "start_time": "2023-06-25T20:22:02.871Z"
   },
   {
    "duration": 0,
    "start_time": "2023-06-25T20:22:02.873Z"
   },
   {
    "duration": 0,
    "start_time": "2023-06-25T20:22:02.879Z"
   },
   {
    "duration": 0,
    "start_time": "2023-06-25T20:22:02.881Z"
   },
   {
    "duration": 0,
    "start_time": "2023-06-25T20:22:02.882Z"
   },
   {
    "duration": 0,
    "start_time": "2023-06-25T20:22:02.883Z"
   },
   {
    "duration": 0,
    "start_time": "2023-06-25T20:22:02.885Z"
   },
   {
    "duration": 0,
    "start_time": "2023-06-25T20:22:02.886Z"
   },
   {
    "duration": 0,
    "start_time": "2023-06-25T20:22:02.888Z"
   },
   {
    "duration": 0,
    "start_time": "2023-06-25T20:22:02.889Z"
   },
   {
    "duration": 0,
    "start_time": "2023-06-25T20:22:02.891Z"
   },
   {
    "duration": 0,
    "start_time": "2023-06-25T20:22:02.891Z"
   },
   {
    "duration": 0,
    "start_time": "2023-06-25T20:22:02.892Z"
   },
   {
    "duration": 0,
    "start_time": "2023-06-25T20:22:02.893Z"
   },
   {
    "duration": 0,
    "start_time": "2023-06-25T20:22:02.894Z"
   },
   {
    "duration": 0,
    "start_time": "2023-06-25T20:22:02.896Z"
   },
   {
    "duration": 0,
    "start_time": "2023-06-25T20:22:02.897Z"
   },
   {
    "duration": 0,
    "start_time": "2023-06-25T20:22:02.898Z"
   },
   {
    "duration": 0,
    "start_time": "2023-06-25T20:22:02.899Z"
   },
   {
    "duration": 0,
    "start_time": "2023-06-25T20:22:02.900Z"
   },
   {
    "duration": 0,
    "start_time": "2023-06-25T20:22:02.901Z"
   },
   {
    "duration": 0,
    "start_time": "2023-06-25T20:22:02.902Z"
   },
   {
    "duration": 0,
    "start_time": "2023-06-25T20:22:02.904Z"
   },
   {
    "duration": 0,
    "start_time": "2023-06-25T20:22:02.905Z"
   },
   {
    "duration": 0,
    "start_time": "2023-06-25T20:22:02.906Z"
   },
   {
    "duration": 0,
    "start_time": "2023-06-25T20:22:02.907Z"
   },
   {
    "duration": 0,
    "start_time": "2023-06-25T20:22:02.908Z"
   },
   {
    "duration": 0,
    "start_time": "2023-06-25T20:22:02.969Z"
   },
   {
    "duration": 0,
    "start_time": "2023-06-25T20:22:02.970Z"
   },
   {
    "duration": 0,
    "start_time": "2023-06-25T20:22:02.971Z"
   },
   {
    "duration": 0,
    "start_time": "2023-06-25T20:22:02.973Z"
   },
   {
    "duration": 0,
    "start_time": "2023-06-25T20:22:02.974Z"
   },
   {
    "duration": 10581,
    "start_time": "2023-06-25T20:23:12.145Z"
   },
   {
    "duration": 29,
    "start_time": "2023-06-25T20:23:32.213Z"
   },
   {
    "duration": 41496,
    "start_time": "2023-06-25T20:25:00.567Z"
   },
   {
    "duration": 2647,
    "start_time": "2023-06-25T20:25:52.703Z"
   },
   {
    "duration": 22,
    "start_time": "2023-06-25T20:26:00.204Z"
   },
   {
    "duration": 1641,
    "start_time": "2023-06-25T20:30:02.403Z"
   },
   {
    "duration": 38,
    "start_time": "2023-06-25T20:30:04.047Z"
   },
   {
    "duration": 8,
    "start_time": "2023-06-25T20:30:04.092Z"
   },
   {
    "duration": 18,
    "start_time": "2023-06-25T20:30:04.103Z"
   },
   {
    "duration": 20,
    "start_time": "2023-06-25T20:30:04.124Z"
   },
   {
    "duration": 49,
    "start_time": "2023-06-25T20:30:04.146Z"
   },
   {
    "duration": 14,
    "start_time": "2023-06-25T20:30:04.201Z"
   },
   {
    "duration": 3,
    "start_time": "2023-06-25T20:30:04.218Z"
   },
   {
    "duration": 7,
    "start_time": "2023-06-25T20:30:04.223Z"
   },
   {
    "duration": 33,
    "start_time": "2023-06-25T20:30:04.237Z"
   },
   {
    "duration": 10,
    "start_time": "2023-06-25T20:30:04.275Z"
   },
   {
    "duration": 13,
    "start_time": "2023-06-25T20:30:04.291Z"
   },
   {
    "duration": 182,
    "start_time": "2023-06-25T20:30:04.310Z"
   },
   {
    "duration": 0,
    "start_time": "2023-06-25T20:30:04.496Z"
   },
   {
    "duration": 0,
    "start_time": "2023-06-25T20:30:04.497Z"
   },
   {
    "duration": 0,
    "start_time": "2023-06-25T20:30:04.499Z"
   },
   {
    "duration": 0,
    "start_time": "2023-06-25T20:30:04.500Z"
   },
   {
    "duration": 0,
    "start_time": "2023-06-25T20:30:04.502Z"
   },
   {
    "duration": 0,
    "start_time": "2023-06-25T20:30:04.503Z"
   },
   {
    "duration": 0,
    "start_time": "2023-06-25T20:30:04.505Z"
   },
   {
    "duration": 0,
    "start_time": "2023-06-25T20:30:04.507Z"
   },
   {
    "duration": 0,
    "start_time": "2023-06-25T20:30:04.508Z"
   },
   {
    "duration": 0,
    "start_time": "2023-06-25T20:30:04.510Z"
   },
   {
    "duration": 0,
    "start_time": "2023-06-25T20:30:04.511Z"
   },
   {
    "duration": 0,
    "start_time": "2023-06-25T20:30:04.513Z"
   },
   {
    "duration": 0,
    "start_time": "2023-06-25T20:30:04.514Z"
   },
   {
    "duration": 0,
    "start_time": "2023-06-25T20:30:04.515Z"
   },
   {
    "duration": 0,
    "start_time": "2023-06-25T20:30:04.517Z"
   },
   {
    "duration": 0,
    "start_time": "2023-06-25T20:30:04.518Z"
   },
   {
    "duration": 0,
    "start_time": "2023-06-25T20:30:04.520Z"
   },
   {
    "duration": 0,
    "start_time": "2023-06-25T20:30:04.521Z"
   },
   {
    "duration": 0,
    "start_time": "2023-06-25T20:30:04.522Z"
   },
   {
    "duration": 0,
    "start_time": "2023-06-25T20:30:04.523Z"
   },
   {
    "duration": 0,
    "start_time": "2023-06-25T20:30:04.568Z"
   },
   {
    "duration": 0,
    "start_time": "2023-06-25T20:30:04.570Z"
   },
   {
    "duration": 0,
    "start_time": "2023-06-25T20:30:04.573Z"
   },
   {
    "duration": 0,
    "start_time": "2023-06-25T20:30:04.574Z"
   },
   {
    "duration": 0,
    "start_time": "2023-06-25T20:30:04.575Z"
   },
   {
    "duration": 0,
    "start_time": "2023-06-25T20:30:04.576Z"
   },
   {
    "duration": 0,
    "start_time": "2023-06-25T20:30:04.578Z"
   },
   {
    "duration": 0,
    "start_time": "2023-06-25T20:30:04.579Z"
   },
   {
    "duration": 0,
    "start_time": "2023-06-25T20:30:04.580Z"
   },
   {
    "duration": 0,
    "start_time": "2023-06-25T20:30:04.581Z"
   },
   {
    "duration": 0,
    "start_time": "2023-06-25T20:30:04.583Z"
   },
   {
    "duration": 0,
    "start_time": "2023-06-25T20:30:04.584Z"
   },
   {
    "duration": 0,
    "start_time": "2023-06-25T20:30:04.586Z"
   },
   {
    "duration": 0,
    "start_time": "2023-06-25T20:30:04.587Z"
   },
   {
    "duration": 0,
    "start_time": "2023-06-25T20:30:04.588Z"
   },
   {
    "duration": 0,
    "start_time": "2023-06-25T20:30:04.590Z"
   },
   {
    "duration": 0,
    "start_time": "2023-06-25T20:30:04.592Z"
   },
   {
    "duration": 0,
    "start_time": "2023-06-25T20:30:04.593Z"
   },
   {
    "duration": 0,
    "start_time": "2023-06-25T20:30:04.595Z"
   },
   {
    "duration": 0,
    "start_time": "2023-06-25T20:30:04.596Z"
   },
   {
    "duration": 6,
    "start_time": "2023-06-25T20:30:24.949Z"
   },
   {
    "duration": 9,
    "start_time": "2023-06-25T20:31:19.445Z"
   },
   {
    "duration": 17,
    "start_time": "2023-06-25T20:31:53.779Z"
   },
   {
    "duration": 16,
    "start_time": "2023-06-25T20:32:24.912Z"
   },
   {
    "duration": 88,
    "start_time": "2023-06-25T20:32:38.742Z"
   },
   {
    "duration": 6,
    "start_time": "2023-06-25T20:32:46.433Z"
   },
   {
    "duration": 7,
    "start_time": "2023-06-25T20:32:54.154Z"
   },
   {
    "duration": 1680,
    "start_time": "2023-06-25T20:33:12.684Z"
   },
   {
    "duration": 34,
    "start_time": "2023-06-25T20:33:14.368Z"
   },
   {
    "duration": 8,
    "start_time": "2023-06-25T20:33:14.405Z"
   },
   {
    "duration": 33,
    "start_time": "2023-06-25T20:33:14.416Z"
   },
   {
    "duration": 44,
    "start_time": "2023-06-25T20:33:14.452Z"
   },
   {
    "duration": 36,
    "start_time": "2023-06-25T20:33:14.498Z"
   },
   {
    "duration": 7,
    "start_time": "2023-06-25T20:33:14.536Z"
   },
   {
    "duration": 11,
    "start_time": "2023-06-25T20:33:14.545Z"
   },
   {
    "duration": 12,
    "start_time": "2023-06-25T20:33:14.558Z"
   },
   {
    "duration": 35,
    "start_time": "2023-06-25T20:33:14.572Z"
   },
   {
    "duration": 22,
    "start_time": "2023-06-25T20:33:14.610Z"
   },
   {
    "duration": 12,
    "start_time": "2023-06-25T20:33:14.634Z"
   },
   {
    "duration": 34,
    "start_time": "2023-06-25T20:33:14.649Z"
   },
   {
    "duration": 18,
    "start_time": "2023-06-25T20:33:14.688Z"
   },
   {
    "duration": 22,
    "start_time": "2023-06-25T20:33:14.709Z"
   },
   {
    "duration": 19,
    "start_time": "2023-06-25T20:33:14.734Z"
   },
   {
    "duration": 41,
    "start_time": "2023-06-25T20:33:14.756Z"
   },
   {
    "duration": 7,
    "start_time": "2023-06-25T20:33:14.799Z"
   },
   {
    "duration": 24,
    "start_time": "2023-06-25T20:33:14.808Z"
   },
   {
    "duration": 25,
    "start_time": "2023-06-25T20:33:14.834Z"
   },
   {
    "duration": 1182,
    "start_time": "2023-06-25T20:33:14.861Z"
   },
   {
    "duration": 27,
    "start_time": "2023-06-25T20:33:16.045Z"
   },
   {
    "duration": 15,
    "start_time": "2023-06-25T20:33:16.075Z"
   },
   {
    "duration": 5,
    "start_time": "2023-06-25T20:33:16.093Z"
   },
   {
    "duration": 17,
    "start_time": "2023-06-25T20:33:16.100Z"
   },
   {
    "duration": 19,
    "start_time": "2023-06-25T20:33:16.119Z"
   },
   {
    "duration": 32,
    "start_time": "2023-06-25T20:33:16.141Z"
   },
   {
    "duration": 3239,
    "start_time": "2023-06-25T20:33:16.175Z"
   },
   {
    "duration": 25,
    "start_time": "2023-06-25T20:33:19.417Z"
   },
   {
    "duration": 5,
    "start_time": "2023-06-25T20:33:19.444Z"
   },
   {
    "duration": 184,
    "start_time": "2023-06-25T20:33:19.452Z"
   },
   {
    "duration": 0,
    "start_time": "2023-06-25T20:33:19.639Z"
   },
   {
    "duration": 0,
    "start_time": "2023-06-25T20:33:19.640Z"
   },
   {
    "duration": 0,
    "start_time": "2023-06-25T20:33:19.641Z"
   },
   {
    "duration": 0,
    "start_time": "2023-06-25T20:33:19.643Z"
   },
   {
    "duration": 0,
    "start_time": "2023-06-25T20:33:19.644Z"
   },
   {
    "duration": 0,
    "start_time": "2023-06-25T20:33:19.645Z"
   },
   {
    "duration": 0,
    "start_time": "2023-06-25T20:33:19.646Z"
   },
   {
    "duration": 0,
    "start_time": "2023-06-25T20:33:19.651Z"
   },
   {
    "duration": 0,
    "start_time": "2023-06-25T20:33:19.652Z"
   },
   {
    "duration": 0,
    "start_time": "2023-06-25T20:33:19.654Z"
   },
   {
    "duration": 0,
    "start_time": "2023-06-25T20:33:19.668Z"
   },
   {
    "duration": 0,
    "start_time": "2023-06-25T20:33:19.668Z"
   },
   {
    "duration": 1,
    "start_time": "2023-06-25T20:33:19.669Z"
   },
   {
    "duration": 0,
    "start_time": "2023-06-25T20:33:19.671Z"
   },
   {
    "duration": 0,
    "start_time": "2023-06-25T20:33:19.672Z"
   },
   {
    "duration": 0,
    "start_time": "2023-06-25T20:33:19.674Z"
   },
   {
    "duration": 0,
    "start_time": "2023-06-25T20:33:19.675Z"
   },
   {
    "duration": 0,
    "start_time": "2023-06-25T20:33:19.676Z"
   },
   {
    "duration": 0,
    "start_time": "2023-06-25T20:33:19.678Z"
   },
   {
    "duration": 0,
    "start_time": "2023-06-25T20:33:19.682Z"
   },
   {
    "duration": 0,
    "start_time": "2023-06-25T20:33:19.684Z"
   },
   {
    "duration": 0,
    "start_time": "2023-06-25T20:33:19.685Z"
   },
   {
    "duration": 0,
    "start_time": "2023-06-25T20:33:19.687Z"
   },
   {
    "duration": 5,
    "start_time": "2023-06-25T20:35:03.973Z"
   },
   {
    "duration": 4,
    "start_time": "2023-06-25T20:35:04.922Z"
   },
   {
    "duration": 1474,
    "start_time": "2023-06-25T20:35:28.203Z"
   },
   {
    "duration": 40,
    "start_time": "2023-06-25T20:35:29.679Z"
   },
   {
    "duration": 8,
    "start_time": "2023-06-25T20:35:29.722Z"
   },
   {
    "duration": 17,
    "start_time": "2023-06-25T20:35:29.732Z"
   },
   {
    "duration": 25,
    "start_time": "2023-06-25T20:35:29.752Z"
   },
   {
    "duration": 75,
    "start_time": "2023-06-25T20:35:29.781Z"
   },
   {
    "duration": 11,
    "start_time": "2023-06-25T20:35:29.857Z"
   },
   {
    "duration": 6,
    "start_time": "2023-06-25T20:35:29.870Z"
   },
   {
    "duration": 5,
    "start_time": "2023-06-25T20:35:29.878Z"
   },
   {
    "duration": 21,
    "start_time": "2023-06-25T20:35:29.884Z"
   },
   {
    "duration": 5,
    "start_time": "2023-06-25T20:35:29.908Z"
   },
   {
    "duration": 13,
    "start_time": "2023-06-25T20:35:29.915Z"
   },
   {
    "duration": 8,
    "start_time": "2023-06-25T20:35:29.930Z"
   },
   {
    "duration": 30,
    "start_time": "2023-06-25T20:35:29.941Z"
   },
   {
    "duration": 14,
    "start_time": "2023-06-25T20:35:29.973Z"
   },
   {
    "duration": 93,
    "start_time": "2023-06-25T20:35:29.993Z"
   },
   {
    "duration": 43,
    "start_time": "2023-06-25T20:35:30.089Z"
   },
   {
    "duration": 61,
    "start_time": "2023-06-25T20:35:30.134Z"
   },
   {
    "duration": 29,
    "start_time": "2023-06-25T20:35:30.197Z"
   },
   {
    "duration": 9,
    "start_time": "2023-06-25T20:35:30.228Z"
   },
   {
    "duration": 1124,
    "start_time": "2023-06-25T20:35:30.238Z"
   },
   {
    "duration": 14,
    "start_time": "2023-06-25T20:35:31.366Z"
   },
   {
    "duration": 125,
    "start_time": "2023-06-25T20:35:31.382Z"
   },
   {
    "duration": 88,
    "start_time": "2023-06-25T20:35:31.509Z"
   },
   {
    "duration": 168,
    "start_time": "2023-06-25T20:35:31.598Z"
   },
   {
    "duration": 49,
    "start_time": "2023-06-25T20:35:31.767Z"
   },
   {
    "duration": 31,
    "start_time": "2023-06-25T20:35:31.818Z"
   },
   {
    "duration": 2796,
    "start_time": "2023-06-25T20:35:31.852Z"
   },
   {
    "duration": 34,
    "start_time": "2023-06-25T20:35:34.650Z"
   },
   {
    "duration": 3,
    "start_time": "2023-06-25T20:35:34.692Z"
   },
   {
    "duration": 136,
    "start_time": "2023-06-25T20:35:34.697Z"
   },
   {
    "duration": 0,
    "start_time": "2023-06-25T20:35:34.836Z"
   },
   {
    "duration": 0,
    "start_time": "2023-06-25T20:35:34.837Z"
   },
   {
    "duration": 0,
    "start_time": "2023-06-25T20:35:34.839Z"
   },
   {
    "duration": 0,
    "start_time": "2023-06-25T20:35:34.840Z"
   },
   {
    "duration": 0,
    "start_time": "2023-06-25T20:35:34.842Z"
   },
   {
    "duration": 0,
    "start_time": "2023-06-25T20:35:34.843Z"
   },
   {
    "duration": 0,
    "start_time": "2023-06-25T20:35:34.845Z"
   },
   {
    "duration": 0,
    "start_time": "2023-06-25T20:35:34.846Z"
   },
   {
    "duration": 0,
    "start_time": "2023-06-25T20:35:34.847Z"
   },
   {
    "duration": 0,
    "start_time": "2023-06-25T20:35:34.871Z"
   },
   {
    "duration": 0,
    "start_time": "2023-06-25T20:35:34.872Z"
   },
   {
    "duration": 0,
    "start_time": "2023-06-25T20:35:34.874Z"
   },
   {
    "duration": 0,
    "start_time": "2023-06-25T20:35:34.875Z"
   },
   {
    "duration": 0,
    "start_time": "2023-06-25T20:35:34.876Z"
   },
   {
    "duration": 0,
    "start_time": "2023-06-25T20:35:34.877Z"
   },
   {
    "duration": 0,
    "start_time": "2023-06-25T20:35:34.878Z"
   },
   {
    "duration": 0,
    "start_time": "2023-06-25T20:35:34.879Z"
   },
   {
    "duration": 0,
    "start_time": "2023-06-25T20:35:34.879Z"
   },
   {
    "duration": 0,
    "start_time": "2023-06-25T20:35:34.880Z"
   },
   {
    "duration": 0,
    "start_time": "2023-06-25T20:35:34.881Z"
   },
   {
    "duration": 0,
    "start_time": "2023-06-25T20:35:34.882Z"
   },
   {
    "duration": 0,
    "start_time": "2023-06-25T20:35:34.883Z"
   },
   {
    "duration": 0,
    "start_time": "2023-06-25T20:35:34.896Z"
   },
   {
    "duration": 5,
    "start_time": "2023-06-25T20:36:14.660Z"
   },
   {
    "duration": 10,
    "start_time": "2023-06-25T20:36:21.846Z"
   },
   {
    "duration": 13,
    "start_time": "2023-06-25T20:36:26.696Z"
   },
   {
    "duration": 13,
    "start_time": "2023-06-25T20:36:48.174Z"
   },
   {
    "duration": 3,
    "start_time": "2023-06-25T20:36:48.611Z"
   },
   {
    "duration": 12,
    "start_time": "2023-06-25T20:36:53.325Z"
   },
   {
    "duration": 7,
    "start_time": "2023-06-25T20:36:54.710Z"
   },
   {
    "duration": 7609,
    "start_time": "2023-06-25T20:36:59.844Z"
   },
   {
    "duration": 17,
    "start_time": "2023-06-25T20:37:18.345Z"
   },
   {
    "duration": 13,
    "start_time": "2023-06-25T20:37:32.955Z"
   },
   {
    "duration": 426,
    "start_time": "2023-06-25T20:37:38.507Z"
   },
   {
    "duration": 67,
    "start_time": "2023-06-25T20:37:39.455Z"
   },
   {
    "duration": 12952,
    "start_time": "2023-06-25T20:37:44.806Z"
   },
   {
    "duration": 283,
    "start_time": "2023-06-25T20:38:09.766Z"
   },
   {
    "duration": 9,
    "start_time": "2023-06-25T20:38:10.208Z"
   },
   {
    "duration": 36706,
    "start_time": "2023-06-25T20:38:14.933Z"
   },
   {
    "duration": 60,
    "start_time": "2023-06-25T20:38:51.650Z"
   },
   {
    "duration": 17,
    "start_time": "2023-06-25T20:39:23.596Z"
   },
   {
    "duration": 5,
    "start_time": "2023-06-25T20:39:33.698Z"
   },
   {
    "duration": 24,
    "start_time": "2023-06-25T20:39:33.704Z"
   },
   {
    "duration": 0,
    "start_time": "2023-06-25T20:39:33.731Z"
   },
   {
    "duration": 0,
    "start_time": "2023-06-25T20:39:33.732Z"
   },
   {
    "duration": 0,
    "start_time": "2023-06-25T20:39:33.734Z"
   },
   {
    "duration": 17,
    "start_time": "2023-06-25T20:39:39.061Z"
   },
   {
    "duration": 8,
    "start_time": "2023-06-25T20:39:39.407Z"
   },
   {
    "duration": 6,
    "start_time": "2023-06-25T20:39:40.302Z"
   },
   {
    "duration": 11,
    "start_time": "2023-06-25T20:39:56.140Z"
   },
   {
    "duration": 327,
    "start_time": "2023-06-25T20:39:58.352Z"
   },
   {
    "duration": 1297,
    "start_time": "2023-06-25T20:40:13.684Z"
   },
   {
    "duration": 16,
    "start_time": "2023-06-25T20:41:38.964Z"
   },
   {
    "duration": 1470,
    "start_time": "2023-06-25T20:41:45.258Z"
   },
   {
    "duration": 32,
    "start_time": "2023-06-25T20:41:46.731Z"
   },
   {
    "duration": 14,
    "start_time": "2023-06-25T20:41:46.765Z"
   },
   {
    "duration": 34,
    "start_time": "2023-06-25T20:41:46.784Z"
   },
   {
    "duration": 15,
    "start_time": "2023-06-25T20:41:46.820Z"
   },
   {
    "duration": 47,
    "start_time": "2023-06-25T20:41:46.837Z"
   },
   {
    "duration": 17,
    "start_time": "2023-06-25T20:41:46.886Z"
   },
   {
    "duration": 8,
    "start_time": "2023-06-25T20:41:46.905Z"
   },
   {
    "duration": 4,
    "start_time": "2023-06-25T20:41:46.915Z"
   },
   {
    "duration": 19,
    "start_time": "2023-06-25T20:41:46.921Z"
   },
   {
    "duration": 18,
    "start_time": "2023-06-25T20:41:46.942Z"
   },
   {
    "duration": 31,
    "start_time": "2023-06-25T20:41:46.961Z"
   },
   {
    "duration": 7,
    "start_time": "2023-06-25T20:41:46.997Z"
   },
   {
    "duration": 22,
    "start_time": "2023-06-25T20:41:47.008Z"
   },
   {
    "duration": 10,
    "start_time": "2023-06-25T20:41:47.032Z"
   },
   {
    "duration": 6,
    "start_time": "2023-06-25T20:41:47.044Z"
   },
   {
    "duration": 16,
    "start_time": "2023-06-25T20:41:47.052Z"
   },
   {
    "duration": 26,
    "start_time": "2023-06-25T20:41:47.073Z"
   },
   {
    "duration": 1072,
    "start_time": "2023-06-25T20:41:47.105Z"
   },
   {
    "duration": 31,
    "start_time": "2023-06-25T20:41:48.184Z"
   },
   {
    "duration": 27,
    "start_time": "2023-06-25T20:41:48.218Z"
   },
   {
    "duration": 10,
    "start_time": "2023-06-25T20:41:48.247Z"
   },
   {
    "duration": 13,
    "start_time": "2023-06-25T20:41:48.259Z"
   },
   {
    "duration": 40,
    "start_time": "2023-06-25T20:41:48.275Z"
   },
   {
    "duration": 13,
    "start_time": "2023-06-25T20:41:48.318Z"
   },
   {
    "duration": 2731,
    "start_time": "2023-06-25T20:41:48.333Z"
   },
   {
    "duration": 48,
    "start_time": "2023-06-25T20:41:51.066Z"
   },
   {
    "duration": 4,
    "start_time": "2023-06-25T20:41:51.116Z"
   },
   {
    "duration": 185,
    "start_time": "2023-06-25T20:41:51.121Z"
   },
   {
    "duration": 0,
    "start_time": "2023-06-25T20:41:51.309Z"
   },
   {
    "duration": 0,
    "start_time": "2023-06-25T20:41:51.311Z"
   },
   {
    "duration": 0,
    "start_time": "2023-06-25T20:41:51.314Z"
   },
   {
    "duration": 0,
    "start_time": "2023-06-25T20:41:51.315Z"
   },
   {
    "duration": 0,
    "start_time": "2023-06-25T20:41:51.317Z"
   },
   {
    "duration": 0,
    "start_time": "2023-06-25T20:41:51.318Z"
   },
   {
    "duration": 0,
    "start_time": "2023-06-25T20:41:51.320Z"
   },
   {
    "duration": 1,
    "start_time": "2023-06-25T20:41:51.321Z"
   },
   {
    "duration": 0,
    "start_time": "2023-06-25T20:41:51.323Z"
   },
   {
    "duration": 0,
    "start_time": "2023-06-25T20:41:51.325Z"
   },
   {
    "duration": 0,
    "start_time": "2023-06-25T20:41:51.326Z"
   },
   {
    "duration": 0,
    "start_time": "2023-06-25T20:41:51.328Z"
   },
   {
    "duration": 0,
    "start_time": "2023-06-25T20:41:51.330Z"
   },
   {
    "duration": 0,
    "start_time": "2023-06-25T20:41:51.331Z"
   },
   {
    "duration": 0,
    "start_time": "2023-06-25T20:41:51.332Z"
   },
   {
    "duration": 0,
    "start_time": "2023-06-25T20:41:51.334Z"
   },
   {
    "duration": 0,
    "start_time": "2023-06-25T20:41:51.372Z"
   },
   {
    "duration": 0,
    "start_time": "2023-06-25T20:41:51.374Z"
   },
   {
    "duration": 0,
    "start_time": "2023-06-25T20:41:51.376Z"
   },
   {
    "duration": 0,
    "start_time": "2023-06-25T20:41:51.376Z"
   },
   {
    "duration": 0,
    "start_time": "2023-06-25T20:41:51.380Z"
   },
   {
    "duration": 0,
    "start_time": "2023-06-25T20:41:51.381Z"
   },
   {
    "duration": 0,
    "start_time": "2023-06-25T20:41:51.382Z"
   },
   {
    "duration": 1505,
    "start_time": "2023-06-25T20:42:50.014Z"
   },
   {
    "duration": 33,
    "start_time": "2023-06-25T20:42:51.521Z"
   },
   {
    "duration": 5,
    "start_time": "2023-06-25T20:42:51.556Z"
   },
   {
    "duration": 29,
    "start_time": "2023-06-25T20:42:51.563Z"
   },
   {
    "duration": 24,
    "start_time": "2023-06-25T20:42:51.597Z"
   },
   {
    "duration": 28,
    "start_time": "2023-06-25T20:42:51.624Z"
   },
   {
    "duration": 21,
    "start_time": "2023-06-25T20:42:51.654Z"
   },
   {
    "duration": 21,
    "start_time": "2023-06-25T20:42:51.677Z"
   },
   {
    "duration": 38,
    "start_time": "2023-06-25T20:42:51.700Z"
   },
   {
    "duration": 7,
    "start_time": "2023-06-25T20:42:51.739Z"
   },
   {
    "duration": 45,
    "start_time": "2023-06-25T20:42:51.748Z"
   },
   {
    "duration": 41,
    "start_time": "2023-06-25T20:42:51.801Z"
   },
   {
    "duration": 35,
    "start_time": "2023-06-25T20:42:51.844Z"
   },
   {
    "duration": 23,
    "start_time": "2023-06-25T20:42:51.892Z"
   },
   {
    "duration": 15,
    "start_time": "2023-06-25T20:42:51.917Z"
   },
   {
    "duration": 17,
    "start_time": "2023-06-25T20:42:51.934Z"
   },
   {
    "duration": 58,
    "start_time": "2023-06-25T20:42:51.953Z"
   },
   {
    "duration": 25,
    "start_time": "2023-06-25T20:42:52.014Z"
   },
   {
    "duration": 1302,
    "start_time": "2023-06-25T20:42:52.041Z"
   },
   {
    "duration": 13,
    "start_time": "2023-06-25T20:42:53.345Z"
   },
   {
    "duration": 41,
    "start_time": "2023-06-25T20:42:53.369Z"
   },
   {
    "duration": 24,
    "start_time": "2023-06-25T20:42:53.412Z"
   },
   {
    "duration": 12,
    "start_time": "2023-06-25T20:42:53.438Z"
   },
   {
    "duration": 43,
    "start_time": "2023-06-25T20:42:53.452Z"
   },
   {
    "duration": 12,
    "start_time": "2023-06-25T20:42:53.497Z"
   },
   {
    "duration": 2706,
    "start_time": "2023-06-25T20:42:53.511Z"
   },
   {
    "duration": 23,
    "start_time": "2023-06-25T20:42:56.219Z"
   },
   {
    "duration": 4,
    "start_time": "2023-06-25T20:42:56.244Z"
   },
   {
    "duration": 21,
    "start_time": "2023-06-25T20:42:56.268Z"
   },
   {
    "duration": 14,
    "start_time": "2023-06-25T20:42:56.296Z"
   },
   {
    "duration": 13752,
    "start_time": "2023-06-25T20:42:56.312Z"
   },
   {
    "duration": 26,
    "start_time": "2023-06-25T20:43:10.065Z"
   },
   {
    "duration": 539,
    "start_time": "2023-06-25T20:43:10.094Z"
   },
   {
    "duration": 86,
    "start_time": "2023-06-25T20:43:10.635Z"
   },
   {
    "duration": 16393,
    "start_time": "2023-06-25T20:43:10.723Z"
   },
   {
    "duration": 104,
    "start_time": "2023-06-25T20:43:27.118Z"
   },
   {
    "duration": 361,
    "start_time": "2023-06-25T20:43:27.224Z"
   },
   {
    "duration": 18,
    "start_time": "2023-06-25T20:43:27.591Z"
   },
   {
    "duration": 46250,
    "start_time": "2023-06-25T20:43:27.611Z"
   },
   {
    "duration": 117,
    "start_time": "2023-06-25T20:44:13.863Z"
   },
   {
    "duration": 5,
    "start_time": "2023-06-25T20:44:13.989Z"
   },
   {
    "duration": 13,
    "start_time": "2023-06-25T20:44:14.000Z"
   },
   {
    "duration": 17,
    "start_time": "2023-06-25T20:44:14.015Z"
   },
   {
    "duration": 14,
    "start_time": "2023-06-25T20:44:14.033Z"
   },
   {
    "duration": 26,
    "start_time": "2023-06-25T20:44:14.050Z"
   },
   {
    "duration": 22,
    "start_time": "2023-06-25T20:44:14.085Z"
   },
   {
    "duration": 369,
    "start_time": "2023-06-25T20:44:14.110Z"
   },
   {
    "duration": 1322,
    "start_time": "2023-06-25T20:44:14.481Z"
   },
   {
    "duration": 28,
    "start_time": "2023-06-25T20:44:15.805Z"
   },
   {
    "duration": 7,
    "start_time": "2023-06-25T20:44:15.834Z"
   },
   {
    "duration": 30,
    "start_time": "2023-06-25T20:44:15.843Z"
   },
   {
    "duration": 7,
    "start_time": "2023-06-25T20:44:15.878Z"
   },
   {
    "duration": 12,
    "start_time": "2023-06-25T20:55:04.729Z"
   },
   {
    "duration": 2701,
    "start_time": "2023-06-25T20:55:33.145Z"
   },
   {
    "duration": 29,
    "start_time": "2023-06-25T20:55:35.848Z"
   },
   {
    "duration": 22,
    "start_time": "2023-06-25T20:55:57.900Z"
   },
   {
    "duration": 16982,
    "start_time": "2023-06-25T20:56:41.750Z"
   },
   {
    "duration": 83,
    "start_time": "2023-06-25T20:57:10.907Z"
   },
   {
    "duration": 4,
    "start_time": "2023-06-25T21:00:27.699Z"
   },
   {
    "duration": 7,
    "start_time": "2023-06-25T21:00:51.852Z"
   },
   {
    "duration": 10,
    "start_time": "2023-06-25T21:00:52.221Z"
   },
   {
    "duration": 15,
    "start_time": "2023-06-25T21:00:52.601Z"
   },
   {
    "duration": 10,
    "start_time": "2023-06-25T21:00:53.046Z"
   },
   {
    "duration": 48,
    "start_time": "2023-06-25T21:01:46.807Z"
   },
   {
    "duration": 7,
    "start_time": "2023-06-25T21:02:03.605Z"
   },
   {
    "duration": 8,
    "start_time": "2023-06-25T21:02:03.930Z"
   },
   {
    "duration": 15,
    "start_time": "2023-06-25T21:02:04.257Z"
   },
   {
    "duration": 10,
    "start_time": "2023-06-25T21:02:04.633Z"
   },
   {
    "duration": 15,
    "start_time": "2023-06-25T21:03:34.806Z"
   },
   {
    "duration": 329,
    "start_time": "2023-06-25T21:03:35.956Z"
   },
   {
    "duration": 1203,
    "start_time": "2023-06-25T21:03:41.112Z"
   },
   {
    "duration": 1283,
    "start_time": "2023-06-25T21:03:59.720Z"
   },
   {
    "duration": 185,
    "start_time": "2023-06-25T21:05:30.706Z"
   },
   {
    "duration": 15,
    "start_time": "2023-06-25T21:05:41.767Z"
   },
   {
    "duration": 1497,
    "start_time": "2023-06-25T21:07:00.866Z"
   },
   {
    "duration": 50,
    "start_time": "2023-06-25T21:07:02.367Z"
   },
   {
    "duration": 8,
    "start_time": "2023-06-25T21:07:02.423Z"
   },
   {
    "duration": 50,
    "start_time": "2023-06-25T21:07:02.433Z"
   },
   {
    "duration": 20,
    "start_time": "2023-06-25T21:07:02.489Z"
   },
   {
    "duration": 25,
    "start_time": "2023-06-25T21:07:02.514Z"
   },
   {
    "duration": 21,
    "start_time": "2023-06-25T21:07:02.541Z"
   },
   {
    "duration": 20,
    "start_time": "2023-06-25T21:07:02.566Z"
   },
   {
    "duration": 5,
    "start_time": "2023-06-25T21:07:02.591Z"
   },
   {
    "duration": 7,
    "start_time": "2023-06-25T21:07:02.599Z"
   },
   {
    "duration": 19,
    "start_time": "2023-06-25T21:07:02.610Z"
   },
   {
    "duration": 9,
    "start_time": "2023-06-25T21:07:02.631Z"
   },
   {
    "duration": 9,
    "start_time": "2023-06-25T21:07:02.642Z"
   },
   {
    "duration": 17,
    "start_time": "2023-06-25T21:07:02.655Z"
   },
   {
    "duration": 17,
    "start_time": "2023-06-25T21:07:02.674Z"
   },
   {
    "duration": 7,
    "start_time": "2023-06-25T21:07:02.694Z"
   },
   {
    "duration": 20,
    "start_time": "2023-06-25T21:07:02.703Z"
   },
   {
    "duration": 9,
    "start_time": "2023-06-25T21:07:02.725Z"
   },
   {
    "duration": 1153,
    "start_time": "2023-06-25T21:07:02.735Z"
   },
   {
    "duration": 18,
    "start_time": "2023-06-25T21:07:03.897Z"
   },
   {
    "duration": 21,
    "start_time": "2023-06-25T21:07:03.917Z"
   },
   {
    "duration": 14,
    "start_time": "2023-06-25T21:07:03.941Z"
   },
   {
    "duration": 20,
    "start_time": "2023-06-25T21:07:03.958Z"
   },
   {
    "duration": 23,
    "start_time": "2023-06-25T21:07:03.980Z"
   },
   {
    "duration": 22,
    "start_time": "2023-06-25T21:07:04.005Z"
   },
   {
    "duration": 2596,
    "start_time": "2023-06-25T21:07:04.029Z"
   },
   {
    "duration": 18,
    "start_time": "2023-06-25T21:07:06.627Z"
   },
   {
    "duration": 24,
    "start_time": "2023-06-25T21:07:06.647Z"
   },
   {
    "duration": 32,
    "start_time": "2023-06-25T21:07:06.673Z"
   },
   {
    "duration": 12,
    "start_time": "2023-06-25T21:07:06.708Z"
   },
   {
    "duration": 13918,
    "start_time": "2023-06-25T21:07:06.722Z"
   },
   {
    "duration": 15,
    "start_time": "2023-06-25T21:07:20.642Z"
   },
   {
    "duration": 665,
    "start_time": "2023-06-25T21:07:20.659Z"
   },
   {
    "duration": 87,
    "start_time": "2023-06-25T21:07:21.325Z"
   },
   {
    "duration": 16783,
    "start_time": "2023-06-25T21:07:21.414Z"
   },
   {
    "duration": 42,
    "start_time": "2023-06-25T21:07:38.199Z"
   },
   {
    "duration": 361,
    "start_time": "2023-06-25T21:07:38.242Z"
   },
   {
    "duration": 15,
    "start_time": "2023-06-25T21:07:38.605Z"
   },
   {
    "duration": 46357,
    "start_time": "2023-06-25T21:07:38.622Z"
   },
   {
    "duration": 95,
    "start_time": "2023-06-25T21:08:24.988Z"
   },
   {
    "duration": 4,
    "start_time": "2023-06-25T21:08:25.088Z"
   },
   {
    "duration": 9,
    "start_time": "2023-06-25T21:08:25.098Z"
   },
   {
    "duration": 8,
    "start_time": "2023-06-25T21:08:25.109Z"
   },
   {
    "duration": 9,
    "start_time": "2023-06-25T21:08:25.119Z"
   },
   {
    "duration": 7,
    "start_time": "2023-06-25T21:08:25.129Z"
   },
   {
    "duration": 9,
    "start_time": "2023-06-25T21:08:25.138Z"
   },
   {
    "duration": 1334,
    "start_time": "2023-06-25T21:08:25.149Z"
   },
   {
    "duration": 10,
    "start_time": "2023-06-25T21:08:26.487Z"
   },
   {
    "duration": 6,
    "start_time": "2023-06-25T21:08:26.499Z"
   },
   {
    "duration": 19,
    "start_time": "2023-06-25T21:08:26.507Z"
   },
   {
    "duration": 1583,
    "start_time": "2023-06-25T21:13:55.016Z"
   },
   {
    "duration": 38,
    "start_time": "2023-06-25T21:13:56.609Z"
   },
   {
    "duration": 6,
    "start_time": "2023-06-25T21:13:56.649Z"
   },
   {
    "duration": 34,
    "start_time": "2023-06-25T21:13:56.657Z"
   },
   {
    "duration": 19,
    "start_time": "2023-06-25T21:13:56.695Z"
   },
   {
    "duration": 36,
    "start_time": "2023-06-25T21:13:56.717Z"
   },
   {
    "duration": 15,
    "start_time": "2023-06-25T21:13:56.756Z"
   },
   {
    "duration": 14,
    "start_time": "2023-06-25T21:13:56.774Z"
   },
   {
    "duration": 9,
    "start_time": "2023-06-25T21:13:56.790Z"
   },
   {
    "duration": 6,
    "start_time": "2023-06-25T21:13:56.802Z"
   },
   {
    "duration": 15,
    "start_time": "2023-06-25T21:13:56.810Z"
   },
   {
    "duration": 9,
    "start_time": "2023-06-25T21:13:56.827Z"
   },
   {
    "duration": 6,
    "start_time": "2023-06-25T21:13:56.839Z"
   },
   {
    "duration": 14,
    "start_time": "2023-06-25T21:13:56.873Z"
   },
   {
    "duration": 34,
    "start_time": "2023-06-25T21:13:56.889Z"
   },
   {
    "duration": 6,
    "start_time": "2023-06-25T21:13:56.925Z"
   },
   {
    "duration": 15,
    "start_time": "2023-06-25T21:13:56.933Z"
   },
   {
    "duration": 33,
    "start_time": "2023-06-25T21:13:56.950Z"
   },
   {
    "duration": 1299,
    "start_time": "2023-06-25T21:13:56.998Z"
   },
   {
    "duration": 18,
    "start_time": "2023-06-25T21:13:58.304Z"
   },
   {
    "duration": 10,
    "start_time": "2023-06-25T21:13:58.325Z"
   },
   {
    "duration": 8,
    "start_time": "2023-06-25T21:13:58.337Z"
   },
   {
    "duration": 15,
    "start_time": "2023-06-25T21:13:58.347Z"
   },
   {
    "duration": 56,
    "start_time": "2023-06-25T21:13:58.364Z"
   },
   {
    "duration": 11,
    "start_time": "2023-06-25T21:13:58.423Z"
   },
   {
    "duration": 2987,
    "start_time": "2023-06-25T21:13:58.436Z"
   },
   {
    "duration": 20,
    "start_time": "2023-06-25T21:14:01.425Z"
   },
   {
    "duration": 36,
    "start_time": "2023-06-25T21:14:01.447Z"
   },
   {
    "duration": 64,
    "start_time": "2023-06-25T21:14:01.485Z"
   },
   {
    "duration": 61,
    "start_time": "2023-06-25T21:14:01.551Z"
   },
   {
    "duration": 15712,
    "start_time": "2023-06-25T21:14:01.619Z"
   },
   {
    "duration": 18,
    "start_time": "2023-06-25T21:14:17.333Z"
   },
   {
    "duration": 580,
    "start_time": "2023-06-25T21:14:17.377Z"
   },
   {
    "duration": 101,
    "start_time": "2023-06-25T21:14:17.959Z"
   },
   {
    "duration": 18001,
    "start_time": "2023-06-25T21:14:18.062Z"
   },
   {
    "duration": 63,
    "start_time": "2023-06-25T21:14:36.066Z"
   },
   {
    "duration": 352,
    "start_time": "2023-06-25T21:14:36.131Z"
   },
   {
    "duration": 17,
    "start_time": "2023-06-25T21:14:36.489Z"
   },
   {
    "duration": 51305,
    "start_time": "2023-06-25T21:14:36.508Z"
   },
   {
    "duration": 99,
    "start_time": "2023-06-25T21:15:27.815Z"
   },
   {
    "duration": 4,
    "start_time": "2023-06-25T21:15:27.923Z"
   },
   {
    "duration": 12,
    "start_time": "2023-06-25T21:15:27.930Z"
   },
   {
    "duration": 8,
    "start_time": "2023-06-25T21:15:27.944Z"
   },
   {
    "duration": 33,
    "start_time": "2023-06-25T21:15:27.954Z"
   },
   {
    "duration": 18,
    "start_time": "2023-06-25T21:15:27.989Z"
   },
   {
    "duration": 11,
    "start_time": "2023-06-25T21:15:28.017Z"
   },
   {
    "duration": 1473,
    "start_time": "2023-06-25T21:15:28.030Z"
   },
   {
    "duration": 11,
    "start_time": "2023-06-25T21:15:29.505Z"
   },
   {
    "duration": 14,
    "start_time": "2023-06-25T21:15:29.519Z"
   },
   {
    "duration": 9,
    "start_time": "2023-06-25T21:15:29.536Z"
   },
   {
    "duration": 51,
    "start_time": "2023-06-25T21:48:09.740Z"
   },
   {
    "duration": 1507,
    "start_time": "2023-06-25T21:48:15.647Z"
   },
   {
    "duration": 31,
    "start_time": "2023-06-25T21:48:17.156Z"
   },
   {
    "duration": 6,
    "start_time": "2023-06-25T21:48:17.188Z"
   },
   {
    "duration": 15,
    "start_time": "2023-06-25T21:48:17.196Z"
   },
   {
    "duration": 17,
    "start_time": "2023-06-25T21:48:17.213Z"
   },
   {
    "duration": 25,
    "start_time": "2023-06-25T21:48:17.232Z"
   },
   {
    "duration": 6,
    "start_time": "2023-06-25T21:48:17.259Z"
   },
   {
    "duration": 8,
    "start_time": "2023-06-25T21:48:17.267Z"
   },
   {
    "duration": 128,
    "start_time": "2023-06-25T21:48:17.277Z"
   },
   {
    "duration": 0,
    "start_time": "2023-06-25T21:48:17.407Z"
   },
   {
    "duration": 0,
    "start_time": "2023-06-25T21:48:17.408Z"
   },
   {
    "duration": 0,
    "start_time": "2023-06-25T21:48:17.410Z"
   },
   {
    "duration": 0,
    "start_time": "2023-06-25T21:48:17.411Z"
   },
   {
    "duration": 0,
    "start_time": "2023-06-25T21:48:17.412Z"
   },
   {
    "duration": 0,
    "start_time": "2023-06-25T21:48:17.413Z"
   },
   {
    "duration": 0,
    "start_time": "2023-06-25T21:48:17.414Z"
   },
   {
    "duration": 0,
    "start_time": "2023-06-25T21:48:17.415Z"
   },
   {
    "duration": 0,
    "start_time": "2023-06-25T21:48:17.416Z"
   },
   {
    "duration": 0,
    "start_time": "2023-06-25T21:48:17.417Z"
   },
   {
    "duration": 0,
    "start_time": "2023-06-25T21:48:17.418Z"
   },
   {
    "duration": 0,
    "start_time": "2023-06-25T21:48:17.419Z"
   },
   {
    "duration": 0,
    "start_time": "2023-06-25T21:48:17.420Z"
   },
   {
    "duration": 0,
    "start_time": "2023-06-25T21:48:17.421Z"
   },
   {
    "duration": 0,
    "start_time": "2023-06-25T21:48:17.422Z"
   },
   {
    "duration": 0,
    "start_time": "2023-06-25T21:48:17.423Z"
   },
   {
    "duration": 0,
    "start_time": "2023-06-25T21:48:17.424Z"
   },
   {
    "duration": 0,
    "start_time": "2023-06-25T21:48:17.425Z"
   },
   {
    "duration": 0,
    "start_time": "2023-06-25T21:48:17.426Z"
   },
   {
    "duration": 0,
    "start_time": "2023-06-25T21:48:17.427Z"
   },
   {
    "duration": 0,
    "start_time": "2023-06-25T21:48:17.428Z"
   },
   {
    "duration": 0,
    "start_time": "2023-06-25T21:48:17.429Z"
   },
   {
    "duration": 0,
    "start_time": "2023-06-25T21:48:17.430Z"
   },
   {
    "duration": 0,
    "start_time": "2023-06-25T21:48:17.431Z"
   },
   {
    "duration": 0,
    "start_time": "2023-06-25T21:48:17.432Z"
   },
   {
    "duration": 0,
    "start_time": "2023-06-25T21:48:17.433Z"
   },
   {
    "duration": 1,
    "start_time": "2023-06-25T21:48:17.434Z"
   },
   {
    "duration": 0,
    "start_time": "2023-06-25T21:48:17.435Z"
   },
   {
    "duration": 0,
    "start_time": "2023-06-25T21:48:17.436Z"
   },
   {
    "duration": 0,
    "start_time": "2023-06-25T21:48:17.437Z"
   },
   {
    "duration": 0,
    "start_time": "2023-06-25T21:48:17.438Z"
   },
   {
    "duration": 0,
    "start_time": "2023-06-25T21:48:17.440Z"
   },
   {
    "duration": 0,
    "start_time": "2023-06-25T21:48:17.441Z"
   },
   {
    "duration": 0,
    "start_time": "2023-06-25T21:48:17.443Z"
   },
   {
    "duration": 0,
    "start_time": "2023-06-25T21:48:17.444Z"
   },
   {
    "duration": 0,
    "start_time": "2023-06-25T21:48:17.445Z"
   },
   {
    "duration": 0,
    "start_time": "2023-06-25T21:48:17.446Z"
   },
   {
    "duration": 0,
    "start_time": "2023-06-25T21:48:17.452Z"
   },
   {
    "duration": 0,
    "start_time": "2023-06-25T21:48:17.453Z"
   },
   {
    "duration": 0,
    "start_time": "2023-06-25T21:48:17.454Z"
   },
   {
    "duration": 0,
    "start_time": "2023-06-25T21:48:17.456Z"
   },
   {
    "duration": 0,
    "start_time": "2023-06-25T21:48:17.457Z"
   },
   {
    "duration": 150,
    "start_time": "2023-06-25T21:48:28.807Z"
   },
   {
    "duration": 0,
    "start_time": "2023-06-25T21:48:28.961Z"
   },
   {
    "duration": 0,
    "start_time": "2023-06-25T21:48:28.962Z"
   },
   {
    "duration": 0,
    "start_time": "2023-06-25T21:48:28.963Z"
   },
   {
    "duration": 1,
    "start_time": "2023-06-25T21:48:28.964Z"
   },
   {
    "duration": 0,
    "start_time": "2023-06-25T21:48:28.966Z"
   },
   {
    "duration": 0,
    "start_time": "2023-06-25T21:48:28.968Z"
   },
   {
    "duration": 0,
    "start_time": "2023-06-25T21:48:28.969Z"
   },
   {
    "duration": 0,
    "start_time": "2023-06-25T21:48:28.971Z"
   },
   {
    "duration": 0,
    "start_time": "2023-06-25T21:48:28.972Z"
   },
   {
    "duration": 0,
    "start_time": "2023-06-25T21:48:28.973Z"
   },
   {
    "duration": 0,
    "start_time": "2023-06-25T21:48:28.974Z"
   },
   {
    "duration": 0,
    "start_time": "2023-06-25T21:48:28.976Z"
   },
   {
    "duration": 0,
    "start_time": "2023-06-25T21:48:28.977Z"
   },
   {
    "duration": 0,
    "start_time": "2023-06-25T21:48:28.979Z"
   },
   {
    "duration": 0,
    "start_time": "2023-06-25T21:48:28.980Z"
   },
   {
    "duration": 0,
    "start_time": "2023-06-25T21:48:28.982Z"
   },
   {
    "duration": 0,
    "start_time": "2023-06-25T21:48:28.984Z"
   },
   {
    "duration": 0,
    "start_time": "2023-06-25T21:48:28.985Z"
   },
   {
    "duration": 0,
    "start_time": "2023-06-25T21:48:28.986Z"
   },
   {
    "duration": 0,
    "start_time": "2023-06-25T21:48:28.988Z"
   },
   {
    "duration": 0,
    "start_time": "2023-06-25T21:48:28.989Z"
   },
   {
    "duration": 0,
    "start_time": "2023-06-25T21:48:28.990Z"
   },
   {
    "duration": 1,
    "start_time": "2023-06-25T21:48:28.991Z"
   },
   {
    "duration": 0,
    "start_time": "2023-06-25T21:48:28.993Z"
   },
   {
    "duration": 0,
    "start_time": "2023-06-25T21:48:28.994Z"
   },
   {
    "duration": 0,
    "start_time": "2023-06-25T21:48:28.995Z"
   },
   {
    "duration": 0,
    "start_time": "2023-06-25T21:48:28.996Z"
   },
   {
    "duration": 0,
    "start_time": "2023-06-25T21:48:28.997Z"
   },
   {
    "duration": 0,
    "start_time": "2023-06-25T21:48:28.998Z"
   },
   {
    "duration": 0,
    "start_time": "2023-06-25T21:48:28.999Z"
   },
   {
    "duration": 0,
    "start_time": "2023-06-25T21:48:29.000Z"
   },
   {
    "duration": 0,
    "start_time": "2023-06-25T21:48:29.000Z"
   },
   {
    "duration": 0,
    "start_time": "2023-06-25T21:48:29.001Z"
   },
   {
    "duration": 0,
    "start_time": "2023-06-25T21:48:29.053Z"
   },
   {
    "duration": 0,
    "start_time": "2023-06-25T21:48:29.054Z"
   },
   {
    "duration": 0,
    "start_time": "2023-06-25T21:48:29.055Z"
   },
   {
    "duration": 0,
    "start_time": "2023-06-25T21:48:29.056Z"
   },
   {
    "duration": 0,
    "start_time": "2023-06-25T21:48:29.057Z"
   },
   {
    "duration": 0,
    "start_time": "2023-06-25T21:48:29.058Z"
   },
   {
    "duration": 0,
    "start_time": "2023-06-25T21:48:29.059Z"
   },
   {
    "duration": 0,
    "start_time": "2023-06-25T21:48:29.060Z"
   },
   {
    "duration": 0,
    "start_time": "2023-06-25T21:48:29.061Z"
   },
   {
    "duration": 14,
    "start_time": "2023-06-25T21:48:48.620Z"
   },
   {
    "duration": 4,
    "start_time": "2023-06-25T21:48:57.103Z"
   },
   {
    "duration": 98,
    "start_time": "2023-06-25T21:52:18.355Z"
   },
   {
    "duration": 2,
    "start_time": "2023-06-25T21:52:30.608Z"
   },
   {
    "duration": 45,
    "start_time": "2023-06-25T21:52:30.613Z"
   },
   {
    "duration": 71,
    "start_time": "2023-06-25T21:52:30.660Z"
   },
   {
    "duration": 43,
    "start_time": "2023-06-25T21:52:30.733Z"
   },
   {
    "duration": 37,
    "start_time": "2023-06-25T21:52:30.778Z"
   },
   {
    "duration": 64,
    "start_time": "2023-06-25T21:52:30.817Z"
   },
   {
    "duration": 45,
    "start_time": "2023-06-25T21:52:30.883Z"
   },
   {
    "duration": 33,
    "start_time": "2023-06-25T21:52:30.930Z"
   },
   {
    "duration": 81,
    "start_time": "2023-06-25T21:52:30.965Z"
   },
   {
    "duration": 46,
    "start_time": "2023-06-25T21:52:31.048Z"
   },
   {
    "duration": 1093,
    "start_time": "2023-06-25T21:52:31.096Z"
   },
   {
    "duration": 11,
    "start_time": "2023-06-25T21:52:32.191Z"
   },
   {
    "duration": 12,
    "start_time": "2023-06-25T21:52:32.204Z"
   },
   {
    "duration": 23,
    "start_time": "2023-06-25T21:52:32.219Z"
   },
   {
    "duration": 28,
    "start_time": "2023-06-25T21:52:32.243Z"
   },
   {
    "duration": 38,
    "start_time": "2023-06-25T21:52:32.273Z"
   },
   {
    "duration": 49,
    "start_time": "2023-06-25T21:52:32.312Z"
   },
   {
    "duration": 19,
    "start_time": "2023-06-25T21:52:32.363Z"
   },
   {
    "duration": 2390,
    "start_time": "2023-06-25T21:52:32.384Z"
   },
   {
    "duration": 20,
    "start_time": "2023-06-25T21:52:34.776Z"
   },
   {
    "duration": 4,
    "start_time": "2023-06-25T21:52:34.798Z"
   },
   {
    "duration": 36,
    "start_time": "2023-06-25T21:52:34.804Z"
   },
   {
    "duration": 11,
    "start_time": "2023-06-25T21:52:34.842Z"
   },
   {
    "duration": 10499,
    "start_time": "2023-06-25T21:52:34.855Z"
   },
   {
    "duration": 17,
    "start_time": "2023-06-25T21:52:45.356Z"
   },
   {
    "duration": 694,
    "start_time": "2023-06-25T21:52:45.376Z"
   },
   {
    "duration": 80,
    "start_time": "2023-06-25T21:52:46.072Z"
   },
   {
    "duration": 12402,
    "start_time": "2023-06-25T21:52:46.154Z"
   },
   {
    "duration": 38,
    "start_time": "2023-06-25T21:52:58.558Z"
   },
   {
    "duration": 272,
    "start_time": "2023-06-25T21:52:58.598Z"
   },
   {
    "duration": 13,
    "start_time": "2023-06-25T21:52:58.872Z"
   },
   {
    "duration": 40058,
    "start_time": "2023-06-25T21:52:58.887Z"
   },
   {
    "duration": 71,
    "start_time": "2023-06-25T21:53:38.947Z"
   },
   {
    "duration": 3,
    "start_time": "2023-06-25T21:53:39.019Z"
   },
   {
    "duration": 79,
    "start_time": "2023-06-25T21:53:39.024Z"
   },
   {
    "duration": 60,
    "start_time": "2023-06-25T21:53:39.105Z"
   },
   {
    "duration": 71,
    "start_time": "2023-06-25T21:53:39.167Z"
   },
   {
    "duration": 20,
    "start_time": "2023-06-25T21:53:39.240Z"
   },
   {
    "duration": 45,
    "start_time": "2023-06-25T21:53:39.262Z"
   },
   {
    "duration": 1238,
    "start_time": "2023-06-25T21:53:39.309Z"
   },
   {
    "duration": 7,
    "start_time": "2023-06-25T21:53:40.551Z"
   },
   {
    "duration": 19,
    "start_time": "2023-06-25T21:53:40.559Z"
   },
   {
    "duration": 8,
    "start_time": "2023-06-25T21:53:40.579Z"
   },
   {
    "duration": 9,
    "start_time": "2023-06-25T21:53:40.589Z"
   },
   {
    "duration": 97,
    "start_time": "2023-06-25T21:56:07.541Z"
   },
   {
    "duration": 5,
    "start_time": "2023-06-25T23:50:57.955Z"
   },
   {
    "duration": 142,
    "start_time": "2023-06-25T23:51:05.436Z"
   },
   {
    "duration": 4,
    "start_time": "2023-06-25T23:51:10.298Z"
   },
   {
    "duration": 68,
    "start_time": "2023-06-25T23:51:11.161Z"
   },
   {
    "duration": 31,
    "start_time": "2023-06-25T23:51:32.511Z"
   },
   {
    "duration": 10,
    "start_time": "2023-06-25T23:56:07.037Z"
   },
   {
    "duration": 109,
    "start_time": "2023-06-26T00:15:40.587Z"
   },
   {
    "duration": 0,
    "start_time": "2023-06-26T00:16:53.609Z"
   },
   {
    "duration": 104,
    "start_time": "2023-06-26T00:18:30.911Z"
   },
   {
    "duration": 99,
    "start_time": "2023-06-26T00:19:11.621Z"
   },
   {
    "duration": 109,
    "start_time": "2023-06-26T00:19:23.600Z"
   },
   {
    "duration": 109,
    "start_time": "2023-06-26T00:19:28.462Z"
   },
   {
    "duration": 109,
    "start_time": "2023-06-26T00:19:35.348Z"
   },
   {
    "duration": 108,
    "start_time": "2023-06-26T00:19:40.401Z"
   },
   {
    "duration": 104,
    "start_time": "2023-06-26T00:19:45.314Z"
   },
   {
    "duration": 117,
    "start_time": "2023-06-26T00:19:53.143Z"
   },
   {
    "duration": 124,
    "start_time": "2023-06-26T00:19:58.099Z"
   },
   {
    "duration": 104,
    "start_time": "2023-06-26T00:20:03.598Z"
   },
   {
    "duration": 103,
    "start_time": "2023-06-26T00:20:14.653Z"
   },
   {
    "duration": 105,
    "start_time": "2023-06-26T00:20:56.641Z"
   },
   {
    "duration": 107,
    "start_time": "2023-06-26T00:22:41.359Z"
   },
   {
    "duration": 105,
    "start_time": "2023-06-26T00:22:46.198Z"
   },
   {
    "duration": 112,
    "start_time": "2023-06-26T00:22:55.757Z"
   },
   {
    "duration": 107,
    "start_time": "2023-06-26T00:23:40.328Z"
   },
   {
    "duration": 110,
    "start_time": "2023-06-26T00:23:52.307Z"
   },
   {
    "duration": 108,
    "start_time": "2023-06-26T00:24:04.396Z"
   },
   {
    "duration": 139,
    "start_time": "2023-06-26T00:25:02.254Z"
   },
   {
    "duration": 117,
    "start_time": "2023-06-26T00:25:48.824Z"
   },
   {
    "duration": 120,
    "start_time": "2023-06-26T00:25:53.739Z"
   },
   {
    "duration": 17,
    "start_time": "2023-06-26T00:33:18.458Z"
   },
   {
    "duration": 314,
    "start_time": "2023-06-26T00:34:42.722Z"
   },
   {
    "duration": 101,
    "start_time": "2023-06-26T00:34:54.008Z"
   },
   {
    "duration": 8,
    "start_time": "2023-06-26T00:35:19.847Z"
   },
   {
    "duration": 9,
    "start_time": "2023-06-26T00:36:14.622Z"
   },
   {
    "duration": 7,
    "start_time": "2023-06-26T00:36:35.197Z"
   },
   {
    "duration": 1106,
    "start_time": "2023-06-26T00:37:04.733Z"
   },
   {
    "duration": 12,
    "start_time": "2023-06-26T00:37:35.429Z"
   },
   {
    "duration": 4,
    "start_time": "2023-06-26T00:38:47.500Z"
   },
   {
    "duration": 13,
    "start_time": "2023-06-26T00:38:48.085Z"
   },
   {
    "duration": 17,
    "start_time": "2023-06-26T00:38:49.301Z"
   },
   {
    "duration": 10,
    "start_time": "2023-06-26T00:38:50.194Z"
   },
   {
    "duration": 2726,
    "start_time": "2023-06-26T00:38:54.898Z"
   },
   {
    "duration": 2765,
    "start_time": "2023-06-26T00:39:07.400Z"
   },
   {
    "duration": 22,
    "start_time": "2023-06-26T00:39:17.799Z"
   },
   {
    "duration": 21,
    "start_time": "2023-06-26T00:39:23.400Z"
   },
   {
    "duration": 23,
    "start_time": "2023-06-26T00:41:57.471Z"
   },
   {
    "duration": 7,
    "start_time": "2023-06-26T00:41:58.146Z"
   },
   {
    "duration": 9413,
    "start_time": "2023-06-26T00:42:03.423Z"
   },
   {
    "duration": 9395,
    "start_time": "2023-06-26T00:42:32.619Z"
   },
   {
    "duration": 14,
    "start_time": "2023-06-26T00:42:47.509Z"
   },
   {
    "duration": 527,
    "start_time": "2023-06-26T00:43:18.230Z"
   },
   {
    "duration": 77,
    "start_time": "2023-06-26T00:43:18.953Z"
   },
   {
    "duration": 14598,
    "start_time": "2023-06-26T00:43:23.706Z"
   },
   {
    "duration": 60,
    "start_time": "2023-06-26T00:43:52.464Z"
   },
   {
    "duration": 334,
    "start_time": "2023-06-26T00:44:27.746Z"
   },
   {
    "duration": 12,
    "start_time": "2023-06-26T00:44:28.744Z"
   },
   {
    "duration": 43372,
    "start_time": "2023-06-26T00:44:31.049Z"
   },
   {
    "duration": 43148,
    "start_time": "2023-06-26T00:47:22.604Z"
   },
   {
    "duration": 11,
    "start_time": "2023-06-26T00:49:15.849Z"
   },
   {
    "duration": 1096,
    "start_time": "2023-06-26T00:49:35.937Z"
   },
   {
    "duration": 33,
    "start_time": "2023-06-26T00:49:52.296Z"
   },
   {
    "duration": 1123,
    "start_time": "2023-06-26T00:50:36.629Z"
   },
   {
    "duration": 1072,
    "start_time": "2023-06-26T00:51:55.658Z"
   },
   {
    "duration": 2732,
    "start_time": "2023-06-26T00:52:55.923Z"
   },
   {
    "duration": 13,
    "start_time": "2023-06-26T00:53:55.700Z"
   },
   {
    "duration": 5,
    "start_time": "2023-06-26T00:54:11.226Z"
   },
   {
    "duration": 14,
    "start_time": "2023-06-26T00:54:20.627Z"
   },
   {
    "duration": 1189,
    "start_time": "2023-06-26T00:54:37.997Z"
   },
   {
    "duration": 2796,
    "start_time": "2023-06-26T00:54:54.133Z"
   },
   {
    "duration": 14,
    "start_time": "2023-06-26T00:55:34.998Z"
   },
   {
    "duration": 9394,
    "start_time": "2023-06-26T00:56:05.900Z"
   },
   {
    "duration": 14538,
    "start_time": "2023-06-26T00:56:33.975Z"
   },
   {
    "duration": 325,
    "start_time": "2023-06-26T00:57:00.921Z"
   },
   {
    "duration": 11,
    "start_time": "2023-06-26T00:57:01.442Z"
   },
   {
    "duration": 43626,
    "start_time": "2023-06-26T00:57:03.966Z"
   },
   {
    "duration": 40,
    "start_time": "2023-06-26T00:57:59.811Z"
   },
   {
    "duration": 126,
    "start_time": "2023-06-26T01:01:43.587Z"
   },
   {
    "duration": 3,
    "start_time": "2023-06-26T01:02:08.430Z"
   },
   {
    "duration": 17,
    "start_time": "2023-06-26T01:02:08.435Z"
   },
   {
    "duration": 8,
    "start_time": "2023-06-26T01:02:09.061Z"
   },
   {
    "duration": 10,
    "start_time": "2023-06-26T01:02:09.633Z"
   },
   {
    "duration": 7,
    "start_time": "2023-06-26T01:02:10.144Z"
   },
   {
    "duration": 10,
    "start_time": "2023-06-26T01:02:48.669Z"
   },
   {
    "duration": 12,
    "start_time": "2023-06-26T01:03:25.339Z"
   },
   {
    "duration": 5,
    "start_time": "2023-06-26T01:03:51.398Z"
   },
   {
    "duration": 1176,
    "start_time": "2023-06-26T01:04:23.062Z"
   },
   {
    "duration": 1163,
    "start_time": "2023-06-26T01:04:45.799Z"
   },
   {
    "duration": 1393,
    "start_time": "2023-06-26T01:05:45.799Z"
   },
   {
    "duration": 33,
    "start_time": "2023-06-26T01:05:47.197Z"
   },
   {
    "duration": 6,
    "start_time": "2023-06-26T01:05:47.231Z"
   },
   {
    "duration": 16,
    "start_time": "2023-06-26T01:05:47.238Z"
   },
   {
    "duration": 38,
    "start_time": "2023-06-26T01:05:47.256Z"
   },
   {
    "duration": 31,
    "start_time": "2023-06-26T01:05:47.297Z"
   },
   {
    "duration": 7,
    "start_time": "2023-06-26T01:05:47.331Z"
   },
   {
    "duration": 13,
    "start_time": "2023-06-26T01:05:47.340Z"
   },
   {
    "duration": 138,
    "start_time": "2023-06-26T01:05:47.355Z"
   },
   {
    "duration": 12,
    "start_time": "2023-06-26T01:05:47.496Z"
   },
   {
    "duration": 11,
    "start_time": "2023-06-26T01:05:47.510Z"
   },
   {
    "duration": 26,
    "start_time": "2023-06-26T01:05:47.522Z"
   },
   {
    "duration": 42,
    "start_time": "2023-06-26T01:05:47.549Z"
   },
   {
    "duration": 8,
    "start_time": "2023-06-26T01:05:47.595Z"
   },
   {
    "duration": 40,
    "start_time": "2023-06-26T01:05:47.604Z"
   },
   {
    "duration": 6,
    "start_time": "2023-06-26T01:05:47.646Z"
   },
   {
    "duration": 41,
    "start_time": "2023-06-26T01:05:47.654Z"
   },
   {
    "duration": 9,
    "start_time": "2023-06-26T01:05:47.698Z"
   },
   {
    "duration": 8,
    "start_time": "2023-06-26T01:05:47.709Z"
   },
   {
    "duration": 1177,
    "start_time": "2023-06-26T01:05:47.718Z"
   },
   {
    "duration": 14,
    "start_time": "2023-06-26T01:05:48.898Z"
   },
   {
    "duration": 11,
    "start_time": "2023-06-26T01:05:48.914Z"
   },
   {
    "duration": 8,
    "start_time": "2023-06-26T01:05:48.927Z"
   },
   {
    "duration": 35,
    "start_time": "2023-06-26T01:05:48.937Z"
   },
   {
    "duration": 27,
    "start_time": "2023-06-26T01:05:48.973Z"
   },
   {
    "duration": 11,
    "start_time": "2023-06-26T01:05:49.003Z"
   },
   {
    "duration": 2482,
    "start_time": "2023-06-26T01:05:49.016Z"
   },
   {
    "duration": 18,
    "start_time": "2023-06-26T01:05:51.503Z"
   },
   {
    "duration": 3,
    "start_time": "2023-06-26T01:05:51.523Z"
   },
   {
    "duration": 24,
    "start_time": "2023-06-26T01:05:51.528Z"
   },
   {
    "duration": 29,
    "start_time": "2023-06-26T01:05:51.554Z"
   },
   {
    "duration": 9509,
    "start_time": "2023-06-26T01:05:51.593Z"
   },
   {
    "duration": 14,
    "start_time": "2023-06-26T01:06:01.104Z"
   },
   {
    "duration": 678,
    "start_time": "2023-06-26T01:06:01.120Z"
   },
   {
    "duration": 91,
    "start_time": "2023-06-26T01:06:01.800Z"
   },
   {
    "duration": 14707,
    "start_time": "2023-06-26T01:06:01.897Z"
   },
   {
    "duration": 70,
    "start_time": "2023-06-26T01:06:16.606Z"
   },
   {
    "duration": 331,
    "start_time": "2023-06-26T01:06:16.677Z"
   },
   {
    "duration": 11,
    "start_time": "2023-06-26T01:06:17.010Z"
   },
   {
    "duration": 42855,
    "start_time": "2023-06-26T01:06:17.022Z"
   },
   {
    "duration": 41,
    "start_time": "2023-06-26T01:06:59.882Z"
   },
   {
    "duration": 4,
    "start_time": "2023-06-26T01:06:59.924Z"
   },
   {
    "duration": 8,
    "start_time": "2023-06-26T01:06:59.929Z"
   },
   {
    "duration": 6,
    "start_time": "2023-06-26T01:06:59.938Z"
   },
   {
    "duration": 22,
    "start_time": "2023-06-26T01:06:59.945Z"
   },
   {
    "duration": 8,
    "start_time": "2023-06-26T01:06:59.968Z"
   },
   {
    "duration": 9,
    "start_time": "2023-06-26T01:06:59.978Z"
   },
   {
    "duration": 1279,
    "start_time": "2023-06-26T01:06:59.989Z"
   },
   {
    "duration": 14,
    "start_time": "2023-06-26T01:07:01.276Z"
   },
   {
    "duration": 36,
    "start_time": "2023-06-26T01:07:01.294Z"
   },
   {
    "duration": 28,
    "start_time": "2023-06-26T01:07:01.332Z"
   },
   {
    "duration": 6,
    "start_time": "2023-06-26T01:07:16.418Z"
   },
   {
    "duration": 131,
    "start_time": "2023-06-26T01:08:21.511Z"
   },
   {
    "duration": 14,
    "start_time": "2023-06-26T01:08:27.632Z"
   },
   {
    "duration": 22,
    "start_time": "2023-06-26T01:10:07.099Z"
   },
   {
    "duration": 4,
    "start_time": "2023-06-26T01:11:33.542Z"
   },
   {
    "duration": 17,
    "start_time": "2023-06-26T01:11:38.522Z"
   },
   {
    "duration": 61,
    "start_time": "2023-06-26T01:12:13.553Z"
   },
   {
    "duration": 39,
    "start_time": "2023-06-26T01:12:33.501Z"
   },
   {
    "duration": 5,
    "start_time": "2023-06-26T01:14:34.127Z"
   },
   {
    "duration": 25,
    "start_time": "2023-06-26T01:15:11.787Z"
   },
   {
    "duration": 41,
    "start_time": "2023-06-26T01:15:25.865Z"
   },
   {
    "duration": 17,
    "start_time": "2023-06-26T01:15:45.813Z"
   },
   {
    "duration": 31,
    "start_time": "2023-06-26T01:16:26.458Z"
   },
   {
    "duration": 4,
    "start_time": "2023-06-26T01:19:30.508Z"
   },
   {
    "duration": 33,
    "start_time": "2023-06-26T01:19:35.459Z"
   },
   {
    "duration": 71,
    "start_time": "2023-06-26T01:19:52.446Z"
   },
   {
    "duration": 41,
    "start_time": "2023-06-26T01:20:04.499Z"
   },
   {
    "duration": 5,
    "start_time": "2023-06-26T01:20:49.410Z"
   },
   {
    "duration": 168,
    "start_time": "2023-06-26T01:21:20.800Z"
   },
   {
    "duration": 164,
    "start_time": "2023-06-26T01:23:47.441Z"
   },
   {
    "duration": 7,
    "start_time": "2023-06-26T01:24:05.000Z"
   },
   {
    "duration": 158,
    "start_time": "2023-06-26T01:24:08.050Z"
   },
   {
    "duration": 148,
    "start_time": "2023-06-26T01:25:08.500Z"
   },
   {
    "duration": 155,
    "start_time": "2023-06-26T01:25:18.450Z"
   },
   {
    "duration": 174,
    "start_time": "2023-06-26T01:25:33.501Z"
   },
   {
    "duration": 156,
    "start_time": "2023-06-26T01:25:38.500Z"
   },
   {
    "duration": 172,
    "start_time": "2023-06-26T01:25:48.931Z"
   },
   {
    "duration": 5,
    "start_time": "2023-06-26T01:25:55.400Z"
   },
   {
    "duration": 163,
    "start_time": "2023-06-26T01:26:02.543Z"
   },
   {
    "duration": 190,
    "start_time": "2023-06-26T01:26:08.124Z"
   },
   {
    "duration": 177,
    "start_time": "2023-06-26T01:26:28.650Z"
   },
   {
    "duration": 1454,
    "start_time": "2023-06-26T01:33:57.602Z"
   },
   {
    "duration": 58,
    "start_time": "2023-06-26T01:33:59.058Z"
   },
   {
    "duration": 6,
    "start_time": "2023-06-26T01:33:59.118Z"
   },
   {
    "duration": 20,
    "start_time": "2023-06-26T01:33:59.126Z"
   },
   {
    "duration": 12,
    "start_time": "2023-06-26T01:33:59.148Z"
   },
   {
    "duration": 37,
    "start_time": "2023-06-26T01:33:59.162Z"
   },
   {
    "duration": 7,
    "start_time": "2023-06-26T01:33:59.202Z"
   },
   {
    "duration": 13,
    "start_time": "2023-06-26T01:33:59.211Z"
   },
   {
    "duration": 131,
    "start_time": "2023-06-26T01:33:59.226Z"
   },
   {
    "duration": 21,
    "start_time": "2023-06-26T01:33:59.359Z"
   },
   {
    "duration": 13,
    "start_time": "2023-06-26T01:33:59.382Z"
   },
   {
    "duration": 6,
    "start_time": "2023-06-26T01:33:59.397Z"
   },
   {
    "duration": 18,
    "start_time": "2023-06-26T01:33:59.404Z"
   },
   {
    "duration": 12,
    "start_time": "2023-06-26T01:33:59.425Z"
   },
   {
    "duration": 6,
    "start_time": "2023-06-26T01:33:59.439Z"
   },
   {
    "duration": 14,
    "start_time": "2023-06-26T01:33:59.447Z"
   },
   {
    "duration": 28,
    "start_time": "2023-06-26T01:33:59.472Z"
   },
   {
    "duration": 13,
    "start_time": "2023-06-26T01:33:59.502Z"
   },
   {
    "duration": 9,
    "start_time": "2023-06-26T01:33:59.517Z"
   },
   {
    "duration": 1179,
    "start_time": "2023-06-26T01:33:59.527Z"
   },
   {
    "duration": 175,
    "start_time": "2023-06-26T01:34:00.708Z"
   },
   {
    "duration": 19,
    "start_time": "2023-06-26T01:34:00.885Z"
   },
   {
    "duration": 27,
    "start_time": "2023-06-26T01:34:00.906Z"
   },
   {
    "duration": 50,
    "start_time": "2023-06-26T01:34:00.935Z"
   },
   {
    "duration": 80,
    "start_time": "2023-06-26T01:34:00.987Z"
   },
   {
    "duration": 43,
    "start_time": "2023-06-26T01:34:01.069Z"
   },
   {
    "duration": 2478,
    "start_time": "2023-06-26T01:34:01.114Z"
   },
   {
    "duration": 178,
    "start_time": "2023-06-26T01:34:03.594Z"
   },
   {
    "duration": 8,
    "start_time": "2023-06-26T01:34:03.781Z"
   },
   {
    "duration": 52,
    "start_time": "2023-06-26T01:34:03.795Z"
   },
   {
    "duration": 204,
    "start_time": "2023-06-26T01:34:03.848Z"
   },
   {
    "duration": 9577,
    "start_time": "2023-06-26T01:34:04.055Z"
   },
   {
    "duration": 182,
    "start_time": "2023-06-26T01:34:13.634Z"
   },
   {
    "duration": 584,
    "start_time": "2023-06-26T01:34:13.818Z"
   },
   {
    "duration": 300,
    "start_time": "2023-06-26T01:34:14.404Z"
   },
   {
    "duration": 14921,
    "start_time": "2023-06-26T01:34:14.706Z"
   },
   {
    "duration": 222,
    "start_time": "2023-06-26T01:34:29.629Z"
   },
   {
    "duration": 349,
    "start_time": "2023-06-26T01:34:29.853Z"
   },
   {
    "duration": 181,
    "start_time": "2023-06-26T01:34:30.203Z"
   },
   {
    "duration": 43064,
    "start_time": "2023-06-26T01:34:30.393Z"
   },
   {
    "duration": 185,
    "start_time": "2023-06-26T01:35:13.461Z"
   },
   {
    "duration": 3,
    "start_time": "2023-06-26T01:35:13.648Z"
   },
   {
    "duration": 19,
    "start_time": "2023-06-26T01:35:13.653Z"
   },
   {
    "duration": 11,
    "start_time": "2023-06-26T01:35:13.674Z"
   },
   {
    "duration": 17,
    "start_time": "2023-06-26T01:35:13.689Z"
   },
   {
    "duration": 10,
    "start_time": "2023-06-26T01:35:13.708Z"
   },
   {
    "duration": 10,
    "start_time": "2023-06-26T01:35:13.719Z"
   },
   {
    "duration": 1161,
    "start_time": "2023-06-26T01:35:13.730Z"
   },
   {
    "duration": 8,
    "start_time": "2023-06-26T01:35:14.893Z"
   },
   {
    "duration": 27,
    "start_time": "2023-06-26T01:35:14.903Z"
   },
   {
    "duration": 5,
    "start_time": "2023-06-26T01:35:14.931Z"
   },
   {
    "duration": 1994,
    "start_time": "2023-06-26T08:00:41.514Z"
   },
   {
    "duration": 70,
    "start_time": "2023-06-26T08:00:43.510Z"
   },
   {
    "duration": 8,
    "start_time": "2023-06-26T08:00:43.582Z"
   },
   {
    "duration": 16,
    "start_time": "2023-06-26T08:00:43.592Z"
   },
   {
    "duration": 55,
    "start_time": "2023-06-26T08:00:43.610Z"
   },
   {
    "duration": 29,
    "start_time": "2023-06-26T08:00:43.666Z"
   },
   {
    "duration": 8,
    "start_time": "2023-06-26T08:00:43.697Z"
   },
   {
    "duration": 11,
    "start_time": "2023-06-26T08:00:43.707Z"
   },
   {
    "duration": 164,
    "start_time": "2023-06-26T08:00:43.719Z"
   },
   {
    "duration": 14,
    "start_time": "2023-06-26T08:00:43.886Z"
   },
   {
    "duration": 5,
    "start_time": "2023-06-26T08:00:43.902Z"
   },
   {
    "duration": 16,
    "start_time": "2023-06-26T08:00:43.909Z"
   },
   {
    "duration": 31,
    "start_time": "2023-06-26T08:00:43.927Z"
   },
   {
    "duration": 9,
    "start_time": "2023-06-26T08:00:43.963Z"
   },
   {
    "duration": 7,
    "start_time": "2023-06-26T08:00:43.974Z"
   },
   {
    "duration": 8,
    "start_time": "2023-06-26T08:00:43.983Z"
   },
   {
    "duration": 25,
    "start_time": "2023-06-26T08:00:43.997Z"
   },
   {
    "duration": 14,
    "start_time": "2023-06-26T08:00:44.024Z"
   },
   {
    "duration": 33,
    "start_time": "2023-06-26T08:00:44.040Z"
   },
   {
    "duration": 1322,
    "start_time": "2023-06-26T08:00:44.076Z"
   },
   {
    "duration": 193,
    "start_time": "2023-06-26T08:00:45.400Z"
   },
   {
    "duration": 15,
    "start_time": "2023-06-26T08:00:45.595Z"
   },
   {
    "duration": 53,
    "start_time": "2023-06-26T08:00:45.612Z"
   },
   {
    "duration": 26,
    "start_time": "2023-06-26T08:00:45.667Z"
   },
   {
    "duration": 41,
    "start_time": "2023-06-26T08:00:45.696Z"
   },
   {
    "duration": 12,
    "start_time": "2023-06-26T08:00:45.743Z"
   },
   {
    "duration": 2760,
    "start_time": "2023-06-26T08:00:45.757Z"
   },
   {
    "duration": 160,
    "start_time": "2023-06-26T08:00:48.518Z"
   },
   {
    "duration": 9,
    "start_time": "2023-06-26T08:00:48.680Z"
   },
   {
    "duration": 21,
    "start_time": "2023-06-26T08:00:48.691Z"
   },
   {
    "duration": 219,
    "start_time": "2023-06-26T08:00:48.714Z"
   },
   {
    "duration": 8202,
    "start_time": "2023-06-26T08:00:48.935Z"
   },
   {
    "duration": 217,
    "start_time": "2023-06-26T08:00:57.139Z"
   },
   {
    "duration": 467,
    "start_time": "2023-06-26T08:00:57.359Z"
   },
   {
    "duration": 272,
    "start_time": "2023-06-26T08:00:57.828Z"
   },
   {
    "duration": 12951,
    "start_time": "2023-06-26T08:00:58.102Z"
   },
   {
    "duration": 209,
    "start_time": "2023-06-26T08:01:11.055Z"
   },
   {
    "duration": 299,
    "start_time": "2023-06-26T08:01:11.267Z"
   },
   {
    "duration": 147,
    "start_time": "2023-06-26T08:01:11.569Z"
   },
   {
    "duration": 1713,
    "start_time": "2023-10-20T15:07:03.368Z"
   },
   {
    "duration": 111,
    "start_time": "2023-10-20T15:07:05.083Z"
   },
   {
    "duration": 6,
    "start_time": "2023-10-20T15:07:05.196Z"
   },
   {
    "duration": 66,
    "start_time": "2023-10-20T15:07:05.204Z"
   },
   {
    "duration": 90,
    "start_time": "2023-10-20T15:07:05.273Z"
   },
   {
    "duration": 37,
    "start_time": "2023-10-20T15:07:05.365Z"
   },
   {
    "duration": 25,
    "start_time": "2023-10-20T15:07:05.404Z"
   },
   {
    "duration": 36,
    "start_time": "2023-10-20T15:07:05.431Z"
   },
   {
    "duration": 116,
    "start_time": "2023-10-20T15:07:05.470Z"
   },
   {
    "duration": 23,
    "start_time": "2023-10-20T15:07:05.588Z"
   },
   {
    "duration": 5,
    "start_time": "2023-10-20T15:07:05.613Z"
   },
   {
    "duration": 27,
    "start_time": "2023-10-20T15:07:05.619Z"
   },
   {
    "duration": 41,
    "start_time": "2023-10-20T15:07:05.648Z"
   },
   {
    "duration": 22,
    "start_time": "2023-10-20T15:07:05.692Z"
   },
   {
    "duration": 46,
    "start_time": "2023-10-20T15:07:05.716Z"
   },
   {
    "duration": 26,
    "start_time": "2023-10-20T15:07:05.764Z"
   },
   {
    "duration": 15,
    "start_time": "2023-10-20T15:07:05.828Z"
   },
   {
    "duration": 433,
    "start_time": "2023-10-20T15:07:21.500Z"
   },
   {
    "duration": 112,
    "start_time": "2023-10-20T15:07:22.422Z"
   },
   {
    "duration": 4,
    "start_time": "2023-10-20T15:08:24.308Z"
   },
   {
    "duration": 243,
    "start_time": "2023-10-20T15:08:28.049Z"
   },
   {
    "duration": 11465,
    "start_time": "2023-10-20T15:08:31.637Z"
   },
   {
    "duration": 172,
    "start_time": "2023-10-20T15:08:45.564Z"
   },
   {
    "duration": 272,
    "start_time": "2023-10-20T15:09:03.729Z"
   },
   {
    "duration": 204,
    "start_time": "2023-10-20T15:09:04.736Z"
   },
   {
    "duration": 39477,
    "start_time": "2023-10-20T15:09:06.859Z"
   },
   {
    "duration": 170,
    "start_time": "2023-10-20T15:09:46.337Z"
   },
   {
    "duration": 4,
    "start_time": "2023-10-20T15:09:46.508Z"
   },
   {
    "duration": 17,
    "start_time": "2023-10-20T15:09:46.514Z"
   },
   {
    "duration": 8,
    "start_time": "2023-10-20T15:09:50.527Z"
   },
   {
    "duration": 649,
    "start_time": "2023-10-20T15:09:52.081Z"
   },
   {
    "duration": 744,
    "start_time": "2023-10-20T15:10:25.135Z"
   },
   {
    "duration": 136,
    "start_time": "2023-10-20T15:10:31.799Z"
   },
   {
    "duration": 127,
    "start_time": "2023-10-20T15:10:36.328Z"
   },
   {
    "duration": 418,
    "start_time": "2023-10-20T15:10:46.837Z"
   },
   {
    "duration": 9,
    "start_time": "2023-10-20T15:10:55.963Z"
   },
   {
    "duration": 369,
    "start_time": "2023-10-20T15:12:54.464Z"
   }
  ],
  "kernelspec": {
   "display_name": "Python 3 (ipykernel)",
   "language": "python",
   "name": "python3"
  },
  "language_info": {
   "codemirror_mode": {
    "name": "ipython",
    "version": 3
   },
   "file_extension": ".py",
   "mimetype": "text/x-python",
   "name": "python",
   "nbconvert_exporter": "python",
   "pygments_lexer": "ipython3",
   "version": "3.8.5"
  },
  "toc": {
   "base_numbering": 1,
   "nav_menu": {},
   "number_sections": true,
   "sideBar": true,
   "skip_h1_title": true,
   "title_cell": "Table of Contents",
   "title_sidebar": "Contents",
   "toc_cell": false,
   "toc_position": {
    "height": "calc(100% - 180px)",
    "left": "10px",
    "top": "150px",
    "width": "275px"
   },
   "toc_section_display": true,
   "toc_window_display": false
  }
 },
 "nbformat": 4,
 "nbformat_minor": 2
}
