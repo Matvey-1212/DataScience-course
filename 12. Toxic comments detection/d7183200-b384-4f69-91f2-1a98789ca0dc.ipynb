{
 "cells": [
  {
   "cell_type": "markdown",
   "metadata": {
    "toc": true
   },
   "source": [
    "<h1>Содержание<span class=\"tocSkip\"></span></h1>\n",
    "<div class=\"toc\"><ul class=\"toc-item\"><li><span><a href=\"#Подготовка\" data-toc-modified-id=\"Подготовка-1\"><span class=\"toc-item-num\">1&nbsp;&nbsp;</span>Подготовка</a></span></li><li><span><a href=\"#Анализ\" data-toc-modified-id=\"Анализ-2\"><span class=\"toc-item-num\">2&nbsp;&nbsp;</span>Анализ</a></span></li><li><span><a href=\"#Обучение\" data-toc-modified-id=\"Обучение-3\"><span class=\"toc-item-num\">3&nbsp;&nbsp;</span>Обучение</a></span><ul class=\"toc-item\"><li><span><a href=\"#PassiveAggressiveClassifier\" data-toc-modified-id=\"PassiveAggressiveClassifier-3.1\"><span class=\"toc-item-num\">3.1&nbsp;&nbsp;</span>PassiveAggressiveClassifier</a></span></li><li><span><a href=\"#Logistic-Regression\" data-toc-modified-id=\"Logistic-Regression-3.2\"><span class=\"toc-item-num\">3.2&nbsp;&nbsp;</span>Logistic Regression</a></span></li><li><span><a href=\"#Random-Forest\" data-toc-modified-id=\"Random-Forest-3.3\"><span class=\"toc-item-num\">3.3&nbsp;&nbsp;</span>Random Forest</a></span></li><li><span><a href=\"#LightGBM\" data-toc-modified-id=\"LightGBM-3.4\"><span class=\"toc-item-num\">3.4&nbsp;&nbsp;</span>LightGBM</a></span></li><li><span><a href=\"#Bert\" data-toc-modified-id=\"Bert-3.5\"><span class=\"toc-item-num\">3.5&nbsp;&nbsp;</span>Bert</a></span></li><li><span><a href=\"#PassiveAggressive-on-BERT\" data-toc-modified-id=\"PassiveAggressive-on-BERT-3.6\"><span class=\"toc-item-num\">3.6&nbsp;&nbsp;</span>PassiveAggressive on BERT</a></span></li></ul></li><li><span><a href=\"#Тестирование\" data-toc-modified-id=\"Тестирование-4\"><span class=\"toc-item-num\">4&nbsp;&nbsp;</span>Тестирование</a></span></li><li><span><a href=\"#Выводы\" data-toc-modified-id=\"Выводы-5\"><span class=\"toc-item-num\">5&nbsp;&nbsp;</span>Выводы</a></span></li><li><span><a href=\"#Чек-лист-проверки\" data-toc-modified-id=\"Чек-лист-проверки-6\"><span class=\"toc-item-num\">6&nbsp;&nbsp;</span>Чек-лист проверки</a></span></li></ul></div>"
   ]
  },
  {
   "cell_type": "markdown",
   "metadata": {},
   "source": [
    "# Проект для «Викишоп»"
   ]
  },
  {
   "cell_type": "markdown",
   "metadata": {},
   "source": [
    "Интернет-магазин «Викишоп» запускает новый сервис. Теперь пользователи могут редактировать и дополнять описания товаров, как в вики-сообществах. То есть клиенты предлагают свои правки и комментируют изменения других. Магазину нужен инструмент, который будет искать токсичные комментарии и отправлять их на модерацию. \n",
    "\n",
    "Обучите модель классифицировать комментарии на позитивные и негативные. В вашем распоряжении набор данных с разметкой о токсичности правок.\n",
    "\n",
    "Постройте модель со значением метрики качества *F1* не меньше 0.75. \n",
    "\n",
    "**Инструкция по выполнению проекта**\n",
    "\n",
    "1. Загрузите и подготовьте данные.\n",
    "2. Обучите разные модели. \n",
    "3. Сделайте выводы.\n",
    "\n",
    "Для выполнения проекта применять *BERT* необязательно, но вы можете попробовать.\n",
    "\n",
    "**Описание данных**\n",
    "\n",
    "Данные находятся в файле `toxic_comments.csv`. Столбец *text* в нём содержит текст комментария, а *toxic* — целевой признак."
   ]
  },
  {
   "cell_type": "code",
   "execution_count": 1,
   "metadata": {},
   "outputs": [
    {
     "data": {
      "text/html": [
       "<style>.container { width:90% !important; }</style>"
      ],
      "text/plain": [
       "<IPython.core.display.HTML object>"
      ]
     },
     "metadata": {},
     "output_type": "display_data"
    }
   ],
   "source": [
    "from IPython.display import display, HTML\n",
    "display(HTML(\"<style>.container { width:90% !important; }</style>\"))"
   ]
  },
  {
   "cell_type": "code",
   "execution_count": 2,
   "metadata": {
    "scrolled": true
   },
   "outputs": [
    {
     "name": "stdout",
     "output_type": "stream",
     "text": [
      "Requirement already satisfied: imbalanced-learn in /opt/conda/lib/python3.9/site-packages (0.11.0)\n",
      "Requirement already satisfied: scikit-learn in /opt/conda/lib/python3.9/site-packages (1.3.1)\n",
      "Requirement already satisfied: tqdm in /opt/conda/lib/python3.9/site-packages (4.66.1)\n",
      "Requirement already satisfied: threadpoolctl>=2.0.0 in /opt/conda/lib/python3.9/site-packages (from imbalanced-learn) (3.1.0)\n",
      "Requirement already satisfied: joblib>=1.1.1 in /opt/conda/lib/python3.9/site-packages (from imbalanced-learn) (1.3.2)\n",
      "Requirement already satisfied: numpy>=1.17.3 in /opt/conda/lib/python3.9/site-packages (from imbalanced-learn) (1.21.1)\n",
      "Requirement already satisfied: scipy>=1.5.0 in /opt/conda/lib/python3.9/site-packages (from imbalanced-learn) (1.9.1)\n",
      "Requirement already satisfied: spacy in /opt/conda/lib/python3.9/site-packages (3.2.0)\n",
      "Requirement already satisfied: pathy>=0.3.5 in /opt/conda/lib/python3.9/site-packages (from spacy) (0.6.2)\n",
      "Requirement already satisfied: catalogue<2.1.0,>=2.0.6 in /opt/conda/lib/python3.9/site-packages (from spacy) (2.0.8)\n",
      "Requirement already satisfied: jinja2 in /opt/conda/lib/python3.9/site-packages (from spacy) (3.0.1)\n",
      "Requirement already satisfied: spacy-loggers<2.0.0,>=1.0.0 in /opt/conda/lib/python3.9/site-packages (from spacy) (1.0.3)\n",
      "Requirement already satisfied: wasabi<1.1.0,>=0.8.1 in /opt/conda/lib/python3.9/site-packages (from spacy) (0.10.1)\n",
      "Requirement already satisfied: preshed<3.1.0,>=3.0.2 in /opt/conda/lib/python3.9/site-packages (from spacy) (3.0.7)\n",
      "Requirement already satisfied: pydantic!=1.8,!=1.8.1,<1.9.0,>=1.7.4 in /opt/conda/lib/python3.9/site-packages (from spacy) (1.8.2)\n",
      "Requirement already satisfied: cymem<2.1.0,>=2.0.2 in /opt/conda/lib/python3.9/site-packages (from spacy) (2.0.6)\n",
      "Requirement already satisfied: packaging>=20.0 in /opt/conda/lib/python3.9/site-packages (from spacy) (21.3)\n",
      "Requirement already satisfied: spacy-legacy<3.1.0,>=3.0.8 in /opt/conda/lib/python3.9/site-packages (from spacy) (3.0.10)\n",
      "Requirement already satisfied: tqdm<5.0.0,>=4.38.0 in /opt/conda/lib/python3.9/site-packages (from spacy) (4.66.1)\n",
      "Requirement already satisfied: setuptools in /opt/conda/lib/python3.9/site-packages (from spacy) (49.6.0.post20210108)\n",
      "Requirement already satisfied: numpy>=1.15.0 in /opt/conda/lib/python3.9/site-packages (from spacy) (1.21.1)\n",
      "Requirement already satisfied: typer<0.5.0,>=0.3.0 in /opt/conda/lib/python3.9/site-packages (from spacy) (0.4.2)\n",
      "Requirement already satisfied: langcodes<4.0.0,>=3.2.0 in /opt/conda/lib/python3.9/site-packages (from spacy) (3.3.0)\n",
      "Requirement already satisfied: srsly<3.0.0,>=2.4.1 in /opt/conda/lib/python3.9/site-packages (from spacy) (2.4.4)\n",
      "Requirement already satisfied: murmurhash<1.1.0,>=0.28.0 in /opt/conda/lib/python3.9/site-packages (from spacy) (1.0.8)\n",
      "Requirement already satisfied: thinc<8.1.0,>=8.0.12 in /opt/conda/lib/python3.9/site-packages (from spacy) (8.0.17)\n",
      "Requirement already satisfied: blis<0.8.0,>=0.4.0 in /opt/conda/lib/python3.9/site-packages (from spacy) (0.7.8)\n",
      "Requirement already satisfied: requests<3.0.0,>=2.13.0 in /opt/conda/lib/python3.9/site-packages (from spacy) (2.25.1)\n",
      "Requirement already satisfied: pyparsing!=3.0.5,>=2.0.2 in /opt/conda/lib/python3.9/site-packages (from packaging>=20.0->spacy) (2.4.7)\n",
      "Requirement already satisfied: smart-open<6.0.0,>=5.2.1 in /opt/conda/lib/python3.9/site-packages (from pathy>=0.3.5->spacy) (5.2.1)\n",
      "Requirement already satisfied: typing-extensions>=3.7.4.3 in /opt/conda/lib/python3.9/site-packages (from pydantic!=1.8,!=1.8.1,<1.9.0,>=1.7.4->spacy) (4.3.0)\n",
      "Requirement already satisfied: chardet<5,>=3.0.2 in /opt/conda/lib/python3.9/site-packages (from requests<3.0.0,>=2.13.0->spacy) (4.0.0)\n",
      "Requirement already satisfied: idna<3,>=2.5 in /opt/conda/lib/python3.9/site-packages (from requests<3.0.0,>=2.13.0->spacy) (2.10)\n",
      "Requirement already satisfied: certifi>=2017.4.17 in /opt/conda/lib/python3.9/site-packages (from requests<3.0.0,>=2.13.0->spacy) (2022.6.15)\n",
      "Requirement already satisfied: urllib3<1.27,>=1.21.1 in /opt/conda/lib/python3.9/site-packages (from requests<3.0.0,>=2.13.0->spacy) (1.26.6)\n",
      "Requirement already satisfied: click<9.0.0,>=7.1.1 in /opt/conda/lib/python3.9/site-packages (from typer<0.5.0,>=0.3.0->spacy) (8.1.3)\n",
      "Requirement already satisfied: MarkupSafe>=2.0 in /opt/conda/lib/python3.9/site-packages (from jinja2->spacy) (2.1.1)\n",
      "Collecting en-core-web-sm==3.2.0\n",
      "  Downloading https://github.com/explosion/spacy-models/releases/download/en_core_web_sm-3.2.0/en_core_web_sm-3.2.0-py3-none-any.whl (13.9 MB)\n",
      "\u001b[K     |████████████████████████████████| 13.9 MB 2.6 MB/s eta 0:00:01\n",
      "\u001b[?25hRequirement already satisfied: spacy<3.3.0,>=3.2.0 in /opt/conda/lib/python3.9/site-packages (from en-core-web-sm==3.2.0) (3.2.0)\n",
      "Requirement already satisfied: requests<3.0.0,>=2.13.0 in /opt/conda/lib/python3.9/site-packages (from spacy<3.3.0,>=3.2.0->en-core-web-sm==3.2.0) (2.25.1)\n",
      "Requirement already satisfied: langcodes<4.0.0,>=3.2.0 in /opt/conda/lib/python3.9/site-packages (from spacy<3.3.0,>=3.2.0->en-core-web-sm==3.2.0) (3.3.0)\n",
      "Requirement already satisfied: pathy>=0.3.5 in /opt/conda/lib/python3.9/site-packages (from spacy<3.3.0,>=3.2.0->en-core-web-sm==3.2.0) (0.6.2)\n",
      "Requirement already satisfied: spacy-legacy<3.1.0,>=3.0.8 in /opt/conda/lib/python3.9/site-packages (from spacy<3.3.0,>=3.2.0->en-core-web-sm==3.2.0) (3.0.10)\n",
      "Requirement already satisfied: typer<0.5.0,>=0.3.0 in /opt/conda/lib/python3.9/site-packages (from spacy<3.3.0,>=3.2.0->en-core-web-sm==3.2.0) (0.4.2)\n",
      "Requirement already satisfied: tqdm<5.0.0,>=4.38.0 in /opt/conda/lib/python3.9/site-packages (from spacy<3.3.0,>=3.2.0->en-core-web-sm==3.2.0) (4.66.1)\n",
      "Requirement already satisfied: numpy>=1.15.0 in /opt/conda/lib/python3.9/site-packages (from spacy<3.3.0,>=3.2.0->en-core-web-sm==3.2.0) (1.21.1)\n",
      "Requirement already satisfied: jinja2 in /opt/conda/lib/python3.9/site-packages (from spacy<3.3.0,>=3.2.0->en-core-web-sm==3.2.0) (3.0.1)\n",
      "Requirement already satisfied: srsly<3.0.0,>=2.4.1 in /opt/conda/lib/python3.9/site-packages (from spacy<3.3.0,>=3.2.0->en-core-web-sm==3.2.0) (2.4.4)\n",
      "Requirement already satisfied: spacy-loggers<2.0.0,>=1.0.0 in /opt/conda/lib/python3.9/site-packages (from spacy<3.3.0,>=3.2.0->en-core-web-sm==3.2.0) (1.0.3)\n",
      "Requirement already satisfied: preshed<3.1.0,>=3.0.2 in /opt/conda/lib/python3.9/site-packages (from spacy<3.3.0,>=3.2.0->en-core-web-sm==3.2.0) (3.0.7)\n",
      "Requirement already satisfied: cymem<2.1.0,>=2.0.2 in /opt/conda/lib/python3.9/site-packages (from spacy<3.3.0,>=3.2.0->en-core-web-sm==3.2.0) (2.0.6)\n",
      "Requirement already satisfied: thinc<8.1.0,>=8.0.12 in /opt/conda/lib/python3.9/site-packages (from spacy<3.3.0,>=3.2.0->en-core-web-sm==3.2.0) (8.0.17)\n",
      "Requirement already satisfied: murmurhash<1.1.0,>=0.28.0 in /opt/conda/lib/python3.9/site-packages (from spacy<3.3.0,>=3.2.0->en-core-web-sm==3.2.0) (1.0.8)\n",
      "Requirement already satisfied: catalogue<2.1.0,>=2.0.6 in /opt/conda/lib/python3.9/site-packages (from spacy<3.3.0,>=3.2.0->en-core-web-sm==3.2.0) (2.0.8)\n",
      "Requirement already satisfied: blis<0.8.0,>=0.4.0 in /opt/conda/lib/python3.9/site-packages (from spacy<3.3.0,>=3.2.0->en-core-web-sm==3.2.0) (0.7.8)\n",
      "Requirement already satisfied: packaging>=20.0 in /opt/conda/lib/python3.9/site-packages (from spacy<3.3.0,>=3.2.0->en-core-web-sm==3.2.0) (21.3)\n",
      "Requirement already satisfied: wasabi<1.1.0,>=0.8.1 in /opt/conda/lib/python3.9/site-packages (from spacy<3.3.0,>=3.2.0->en-core-web-sm==3.2.0) (0.10.1)\n",
      "Requirement already satisfied: pydantic!=1.8,!=1.8.1,<1.9.0,>=1.7.4 in /opt/conda/lib/python3.9/site-packages (from spacy<3.3.0,>=3.2.0->en-core-web-sm==3.2.0) (1.8.2)\n",
      "Requirement already satisfied: setuptools in /opt/conda/lib/python3.9/site-packages (from spacy<3.3.0,>=3.2.0->en-core-web-sm==3.2.0) (49.6.0.post20210108)\n",
      "Requirement already satisfied: pyparsing!=3.0.5,>=2.0.2 in /opt/conda/lib/python3.9/site-packages (from packaging>=20.0->spacy<3.3.0,>=3.2.0->en-core-web-sm==3.2.0) (2.4.7)\n",
      "Requirement already satisfied: smart-open<6.0.0,>=5.2.1 in /opt/conda/lib/python3.9/site-packages (from pathy>=0.3.5->spacy<3.3.0,>=3.2.0->en-core-web-sm==3.2.0) (5.2.1)\n",
      "Requirement already satisfied: typing-extensions>=3.7.4.3 in /opt/conda/lib/python3.9/site-packages (from pydantic!=1.8,!=1.8.1,<1.9.0,>=1.7.4->spacy<3.3.0,>=3.2.0->en-core-web-sm==3.2.0) (4.3.0)\n",
      "Requirement already satisfied: certifi>=2017.4.17 in /opt/conda/lib/python3.9/site-packages (from requests<3.0.0,>=2.13.0->spacy<3.3.0,>=3.2.0->en-core-web-sm==3.2.0) (2022.6.15)\n",
      "Requirement already satisfied: chardet<5,>=3.0.2 in /opt/conda/lib/python3.9/site-packages (from requests<3.0.0,>=2.13.0->spacy<3.3.0,>=3.2.0->en-core-web-sm==3.2.0) (4.0.0)\n",
      "Requirement already satisfied: idna<3,>=2.5 in /opt/conda/lib/python3.9/site-packages (from requests<3.0.0,>=2.13.0->spacy<3.3.0,>=3.2.0->en-core-web-sm==3.2.0) (2.10)\n",
      "Requirement already satisfied: urllib3<1.27,>=1.21.1 in /opt/conda/lib/python3.9/site-packages (from requests<3.0.0,>=2.13.0->spacy<3.3.0,>=3.2.0->en-core-web-sm==3.2.0) (1.26.6)\n",
      "Requirement already satisfied: click<9.0.0,>=7.1.1 in /opt/conda/lib/python3.9/site-packages (from typer<0.5.0,>=0.3.0->spacy<3.3.0,>=3.2.0->en-core-web-sm==3.2.0) (8.1.3)\n",
      "Requirement already satisfied: MarkupSafe>=2.0 in /opt/conda/lib/python3.9/site-packages (from jinja2->spacy<3.3.0,>=3.2.0->en-core-web-sm==3.2.0) (2.1.1)\n",
      "\u001b[38;5;2m✔ Download and installation successful\u001b[0m\n",
      "You can now load the package via spacy.load('en_core_web_sm')\n",
      "Requirement already satisfied: pandarallel in /opt/conda/lib/python3.9/site-packages (1.6.5)\n",
      "Requirement already satisfied: dill>=0.3.1 in /opt/conda/lib/python3.9/site-packages (from pandarallel) (0.3.7)\n",
      "Requirement already satisfied: pandas>=1 in /opt/conda/lib/python3.9/site-packages (from pandarallel) (1.2.4)\n",
      "Requirement already satisfied: psutil in /opt/conda/lib/python3.9/site-packages (from pandarallel) (5.9.5)\n",
      "Requirement already satisfied: python-dateutil>=2.7.3 in /opt/conda/lib/python3.9/site-packages (from pandas>=1->pandarallel) (2.8.1)\n",
      "Requirement already satisfied: pytz>=2017.3 in /opt/conda/lib/python3.9/site-packages (from pandas>=1->pandarallel) (2021.1)\n",
      "Requirement already satisfied: numpy>=1.16.5 in /opt/conda/lib/python3.9/site-packages (from pandas>=1->pandarallel) (1.21.1)\n",
      "Requirement already satisfied: six>=1.5 in /opt/conda/lib/python3.9/site-packages (from python-dateutil>=2.7.3->pandas>=1->pandarallel) (1.16.0)\n"
     ]
    }
   ],
   "source": [
    "!pip install --upgrade imbalanced-learn scikit-learn tqdm\n",
    "!pip install spacy\n",
    "!spacy download en_core_web_sm\n",
    "!pip install pandarallel\n"
   ]
  },
  {
   "cell_type": "code",
   "execution_count": 3,
   "metadata": {
    "scrolled": false
   },
   "outputs": [
    {
     "name": "stdout",
     "output_type": "stream",
     "text": [
      "Requirement already satisfied: wordcloud==1.8.2.2 in /opt/conda/lib/python3.9/site-packages (1.8.2.2)\n",
      "Requirement already satisfied: matplotlib in /opt/conda/lib/python3.9/site-packages (from wordcloud==1.8.2.2) (3.3.4)\n",
      "Requirement already satisfied: numpy>=1.6.1 in /opt/conda/lib/python3.9/site-packages (from wordcloud==1.8.2.2) (1.21.1)\n",
      "Requirement already satisfied: pillow in /opt/conda/lib/python3.9/site-packages (from wordcloud==1.8.2.2) (9.5.0)\n",
      "Requirement already satisfied: pyparsing!=2.0.4,!=2.1.2,!=2.1.6,>=2.0.3 in /opt/conda/lib/python3.9/site-packages (from matplotlib->wordcloud==1.8.2.2) (2.4.7)\n",
      "Requirement already satisfied: cycler>=0.10 in /opt/conda/lib/python3.9/site-packages (from matplotlib->wordcloud==1.8.2.2) (0.11.0)\n",
      "Requirement already satisfied: kiwisolver>=1.0.1 in /opt/conda/lib/python3.9/site-packages (from matplotlib->wordcloud==1.8.2.2) (1.4.4)\n",
      "Requirement already satisfied: python-dateutil>=2.1 in /opt/conda/lib/python3.9/site-packages (from matplotlib->wordcloud==1.8.2.2) (2.8.1)\n",
      "Requirement already satisfied: six>=1.5 in /opt/conda/lib/python3.9/site-packages (from python-dateutil>=2.1->matplotlib->wordcloud==1.8.2.2) (1.16.0)\n",
      "Requirement already satisfied: Pillow==9.5.0 in /opt/conda/lib/python3.9/site-packages (9.5.0)\n",
      "Requirement already satisfied: gdown in /opt/conda/lib/python3.9/site-packages (4.7.1)\n",
      "Requirement already satisfied: filelock in /opt/conda/lib/python3.9/site-packages (from gdown) (3.8.0)\n",
      "Requirement already satisfied: six in /opt/conda/lib/python3.9/site-packages (from gdown) (1.16.0)\n",
      "Requirement already satisfied: tqdm in /opt/conda/lib/python3.9/site-packages (from gdown) (4.66.1)\n",
      "Requirement already satisfied: beautifulsoup4 in /opt/conda/lib/python3.9/site-packages (from gdown) (4.9.3)\n",
      "Requirement already satisfied: requests[socks] in /opt/conda/lib/python3.9/site-packages (from gdown) (2.25.1)\n",
      "Requirement already satisfied: soupsieve>1.2 in /opt/conda/lib/python3.9/site-packages (from beautifulsoup4->gdown) (2.3.2.post1)\n",
      "Requirement already satisfied: chardet<5,>=3.0.2 in /opt/conda/lib/python3.9/site-packages (from requests[socks]->gdown) (4.0.0)\n",
      "Requirement already satisfied: urllib3<1.27,>=1.21.1 in /opt/conda/lib/python3.9/site-packages (from requests[socks]->gdown) (1.26.6)\n",
      "Requirement already satisfied: idna<3,>=2.5 in /opt/conda/lib/python3.9/site-packages (from requests[socks]->gdown) (2.10)\n",
      "Requirement already satisfied: certifi>=2017.4.17 in /opt/conda/lib/python3.9/site-packages (from requests[socks]->gdown) (2022.6.15)\n",
      "Requirement already satisfied: PySocks!=1.5.7,>=1.5.6 in /opt/conda/lib/python3.9/site-packages (from requests[socks]->gdown) (1.7.1)\n"
     ]
    }
   ],
   "source": [
    "!pip install wordcloud==1.8.2.2 \n",
    "!pip install Pillow==9.5.0\n",
    "!pip install gdown"
   ]
  },
  {
   "cell_type": "markdown",
   "metadata": {},
   "source": [
    "## Подготовка"
   ]
  },
  {
   "cell_type": "code",
   "execution_count": 4,
   "metadata": {
    "scrolled": true
   },
   "outputs": [],
   "source": [
    "import itertools\n",
    "import os\n",
    "import re\n",
    "\n",
    "import pandas as pd\n",
    "import numpy as np\n",
    "import plotly.express as px\n",
    "import matplotlib.pyplot as plt\n",
    "import seaborn as sns\n",
    "import spacy\n",
    "from pandarallel import pandarallel\n",
    "from wordcloud import WordCloud\n",
    "import gdown\n",
    "\n",
    "from tqdm import notebook\n",
    "from tqdm.notebook import tqdm\n",
    "tqdm.pandas()\n",
    "\n",
    "\n",
    "import nltk\n",
    "from nltk.stem import WordNetLemmatizer\n",
    "from nltk.tokenize import wordpunct_tokenize\n",
    "from nltk.corpus import stopwords \n",
    "from nltk.probability import FreqDist\n",
    "\n",
    "from imblearn.pipeline import Pipeline as imPipeline\n",
    "from imblearn.over_sampling import RandomOverSampler\n",
    "\n",
    "from sklearn.model_selection import train_test_split, StratifiedKFold, GridSearchCV\n",
    "from sklearn.metrics import accuracy_score, f1_score, roc_auc_score, roc_curve, confusion_matrix, recall_score, precision_score\n",
    "from sklearn.preprocessing import StandardScaler\n",
    "from sklearn.feature_extraction.text import TfidfVectorizer\n",
    "from sklearn.utils import resample, shuffle\n",
    "from sklearn.compose import ColumnTransformer\n",
    "from sklearn.pipeline import Pipeline\n",
    "\n",
    "from sklearn.linear_model import LogisticRegression\n",
    "from sklearn.ensemble import RandomForestClassifier\n",
    "from sklearn.linear_model import PassiveAggressiveClassifier\n",
    "import lightgbm as lgb\n",
    "\n",
    "import torch\n",
    "import transformers"
   ]
  },
  {
   "cell_type": "code",
   "execution_count": 5,
   "metadata": {},
   "outputs": [
    {
     "name": "stdout",
     "output_type": "stream",
     "text": [
      "INFO: Pandarallel will run on 4 workers.\n",
      "INFO: Pandarallel will use Memory file system to transfer data between the main process and workers.\n"
     ]
    },
    {
     "name": "stderr",
     "output_type": "stream",
     "text": [
      "[nltk_data] Downloading package wordnet to /home/jovyan/nltk_data...\n",
      "[nltk_data]   Package wordnet is already up-to-date!\n",
      "[nltk_data] Downloading package punkt to /home/jovyan/nltk_data...\n",
      "[nltk_data]   Package punkt is already up-to-date!\n",
      "[nltk_data] Downloading package stopwords to /home/jovyan/nltk_data...\n",
      "[nltk_data]   Package stopwords is already up-to-date!\n"
     ]
    }
   ],
   "source": [
    "nltk.download('wordnet')\n",
    "nltk.download('punkt')\n",
    "nltk.download('stopwords');\n",
    "pandarallel.initialize(progress_bar=True);"
   ]
  },
  {
   "cell_type": "code",
   "execution_count": 6,
   "metadata": {},
   "outputs": [],
   "source": [
    "pth1 = 'toxic_comments.csv'\n",
    "pth2 = '/datasets/toxic_comments.csv'\n",
    "\n",
    "if os.path.exists(pth1):\n",
    "    df = pd.read_csv(pth1)\n",
    "elif os.path.exists(pth2):\n",
    "    df = pd.read_csv(pth2)\n",
    "else:\n",
    "    print('Something is wrong')"
   ]
  },
  {
   "cell_type": "code",
   "execution_count": 7,
   "metadata": {
    "scrolled": true
   },
   "outputs": [
    {
     "name": "stdout",
     "output_type": "stream",
     "text": [
      "<class 'pandas.core.frame.DataFrame'>\n",
      "RangeIndex: 159292 entries, 0 to 159291\n",
      "Data columns (total 3 columns):\n",
      " #   Column      Non-Null Count   Dtype \n",
      "---  ------      --------------   ----- \n",
      " 0   Unnamed: 0  159292 non-null  int64 \n",
      " 1   text        159292 non-null  object\n",
      " 2   toxic       159292 non-null  int64 \n",
      "dtypes: int64(2), object(1)\n",
      "memory usage: 3.6+ MB\n"
     ]
    }
   ],
   "source": [
    "df.info()"
   ]
  },
  {
   "cell_type": "code",
   "execution_count": 8,
   "metadata": {
    "scrolled": false
   },
   "outputs": [
    {
     "data": {
      "text/html": [
       "<div>\n",
       "<style scoped>\n",
       "    .dataframe tbody tr th:only-of-type {\n",
       "        vertical-align: middle;\n",
       "    }\n",
       "\n",
       "    .dataframe tbody tr th {\n",
       "        vertical-align: top;\n",
       "    }\n",
       "\n",
       "    .dataframe thead th {\n",
       "        text-align: right;\n",
       "    }\n",
       "</style>\n",
       "<table border=\"1\" class=\"dataframe\">\n",
       "  <thead>\n",
       "    <tr style=\"text-align: right;\">\n",
       "      <th></th>\n",
       "      <th>Unnamed: 0</th>\n",
       "      <th>text</th>\n",
       "      <th>toxic</th>\n",
       "    </tr>\n",
       "  </thead>\n",
       "  <tbody>\n",
       "    <tr>\n",
       "      <th>75545</th>\n",
       "      <td>75621</td>\n",
       "      <td>\"\\n\\nAs per NP:OR. \"\"Self-published expert sou...</td>\n",
       "      <td>0</td>\n",
       "    </tr>\n",
       "    <tr>\n",
       "      <th>136917</th>\n",
       "      <td>137055</td>\n",
       "      <td>Probably that Grace Ho is the daughter. They a...</td>\n",
       "      <td>0</td>\n",
       "    </tr>\n",
       "    <tr>\n",
       "      <th>124805</th>\n",
       "      <td>124934</td>\n",
       "      <td>. PLEASE do it. You are powerless without it</td>\n",
       "      <td>0</td>\n",
       "    </tr>\n",
       "    <tr>\n",
       "      <th>43076</th>\n",
       "      <td>43126</td>\n",
       "      <td>removal of Original Research \\n\\nthis is getti...</td>\n",
       "      <td>0</td>\n",
       "    </tr>\n",
       "    <tr>\n",
       "      <th>43953</th>\n",
       "      <td>44006</td>\n",
       "      <td>, as it deals with the company's chairman</td>\n",
       "      <td>0</td>\n",
       "    </tr>\n",
       "    <tr>\n",
       "      <th>149695</th>\n",
       "      <td>149851</td>\n",
       "      <td>\"\\nSome of the recent edits to the history sec...</td>\n",
       "      <td>0</td>\n",
       "    </tr>\n",
       "    <tr>\n",
       "      <th>53640</th>\n",
       "      <td>53701</td>\n",
       "      <td>Support. Seems obvious and intuitive.  (talk)</td>\n",
       "      <td>0</td>\n",
       "    </tr>\n",
       "    <tr>\n",
       "      <th>37590</th>\n",
       "      <td>37636</td>\n",
       "      <td>I have a hard time seeing how a cited quote is...</td>\n",
       "      <td>0</td>\n",
       "    </tr>\n",
       "    <tr>\n",
       "      <th>148569</th>\n",
       "      <td>148725</td>\n",
       "      <td>You are a Putz just because you do not know ab...</td>\n",
       "      <td>1</td>\n",
       "    </tr>\n",
       "    <tr>\n",
       "      <th>114690</th>\n",
       "      <td>114789</td>\n",
       "      <td>Moving on \\n\\nBefore I pop off to bed and befo...</td>\n",
       "      <td>0</td>\n",
       "    </tr>\n",
       "  </tbody>\n",
       "</table>\n",
       "</div>"
      ],
      "text/plain": [
       "        Unnamed: 0                                               text  toxic\n",
       "75545        75621  \"\\n\\nAs per NP:OR. \"\"Self-published expert sou...      0\n",
       "136917      137055  Probably that Grace Ho is the daughter. They a...      0\n",
       "124805      124934       . PLEASE do it. You are powerless without it      0\n",
       "43076        43126  removal of Original Research \\n\\nthis is getti...      0\n",
       "43953        44006          , as it deals with the company's chairman      0\n",
       "149695      149851  \"\\nSome of the recent edits to the history sec...      0\n",
       "53640        53701      Support. Seems obvious and intuitive.  (talk)      0\n",
       "37590        37636  I have a hard time seeing how a cited quote is...      0\n",
       "148569      148725  You are a Putz just because you do not know ab...      1\n",
       "114690      114789  Moving on \\n\\nBefore I pop off to bed and befo...      0"
      ]
     },
     "execution_count": 8,
     "metadata": {},
     "output_type": "execute_result"
    }
   ],
   "source": [
    "df.sample(10)"
   ]
  },
  {
   "cell_type": "markdown",
   "metadata": {},
   "source": [
    "Удалим столбец индексов"
   ]
  },
  {
   "cell_type": "code",
   "execution_count": 9,
   "metadata": {},
   "outputs": [],
   "source": [
    "df = df.drop('Unnamed: 0',axis=1)"
   ]
  },
  {
   "cell_type": "markdown",
   "metadata": {},
   "source": [
    "Проверим дубликаты"
   ]
  },
  {
   "cell_type": "code",
   "execution_count": 10,
   "metadata": {},
   "outputs": [
    {
     "data": {
      "text/plain": [
       "0"
      ]
     },
     "execution_count": 10,
     "metadata": {},
     "output_type": "execute_result"
    }
   ],
   "source": [
    "df.duplicated().sum()"
   ]
  },
  {
   "cell_type": "markdown",
   "metadata": {},
   "source": [
    "Посмотрим на баланс классов"
   ]
  },
  {
   "cell_type": "code",
   "execution_count": 11,
   "metadata": {},
   "outputs": [
    {
     "data": {
      "text/plain": [
       "0    143106\n",
       "1     16186\n",
       "Name: toxic, dtype: int64"
      ]
     },
     "execution_count": 11,
     "metadata": {},
     "output_type": "execute_result"
    }
   ],
   "source": [
    "df['toxic'].value_counts()"
   ]
  },
  {
   "cell_type": "code",
   "execution_count": 12,
   "metadata": {
    "scrolled": false
   },
   "outputs": [
    {
     "data": {
      "image/png": "[encoded data removed]",
      "text/plain": [
       "<Figure size 432x432 with 1 Axes>"
      ]
     },
     "metadata": {},
     "output_type": "display_data"
    }
   ],
   "source": [
    "value_counts = df['toxic'].value_counts()\n",
    "fig, ax = plt.subplots(figsize=(6, 6))\n",
    "ax.pie(value_counts, labels=('nontoxic','toxic'),pctdistance=0.8, autopct='%1.1f%%', wedgeprops=dict(width=0.4)) \n",
    "circle = plt.Circle((0, 0), 0.5, color='white')\n",
    "ax.add_artist(circle)\n",
    "ax.set_title(\"соотношение таргета\")\n",
    "plt.show()"
   ]
  },
  {
   "cell_type": "markdown",
   "metadata": {},
   "source": [
    "<div style=\"border: 3px solid blue; border-radius: 5px; padding: 10px;\">\n",
    "    \n",
    "Вывод:\n",
    "    \n",
    "Данные были загружены и изучены.\n",
    "    \n",
    "Виден явный дисбаланс классов."
   ]
  },
  {
   "cell_type": "markdown",
   "metadata": {},
   "source": [
    "## Анализ"
   ]
  },
  {
   "cell_type": "code",
   "execution_count": 13,
   "metadata": {},
   "outputs": [],
   "source": [
    "def preprocessing(val):\n",
    "    val = ' '.join(re.sub(r'[^a-z\\' ]', ' ', val).split())\n",
    "    val = [lemmatizer.lemmatize(word) for word in wordpunct_tokenize(val)]\n",
    "    val = re.sub(r'(\\s\\'\\s)', '\\'', ' '.join(val))\n",
    "    return val\n",
    " \n",
    "def preprocessing_spacy(val):\n",
    "    val = ' '.join(re.sub(r'[^a-zA-Z\\' ]', ' ', val).split())\n",
    "    val = lemmatizer_spycy(val)\n",
    "    return \" \".join([token.lemma_.lower() for token in val if token.lemma_.lower() not in stopwords_set])\n",
    "\n",
    "def add_features(val):\n",
    "    lemma = val['lemma']\n",
    "    text = val['text']\n",
    "    \n",
    "    split = lemma.split()\n",
    "    count_words = len(split)\n",
    "    mean_word_len = 0\n",
    "    for word in split:\n",
    "        mean_word_len += len(word)\n",
    "    try:\n",
    "        mean_word_len = mean_word_len / count_words\n",
    "    except:\n",
    "        mean_word_len = 0\n",
    "    special_symbols = len([x for x in text if x == '?' or x == '!']) \n",
    "    \n",
    "    return count_words, mean_word_len, special_symbols"
   ]
  },
  {
   "cell_type": "code",
   "execution_count": 14,
   "metadata": {},
   "outputs": [],
   "source": [
    "random_seed = 42\n",
    "stopwords_set = set(stopwords.words('english'))\n",
    "lemmatizer_spycy = spacy.load('en_core_web_sm', disable=['parser', 'ner'])"
   ]
  },
  {
   "cell_type": "code",
   "execution_count": 15,
   "metadata": {},
   "outputs": [
    {
     "data": {
      "text/html": [
       "<div>\n",
       "<style scoped>\n",
       "    .dataframe tbody tr th:only-of-type {\n",
       "        vertical-align: middle;\n",
       "    }\n",
       "\n",
       "    .dataframe tbody tr th {\n",
       "        vertical-align: top;\n",
       "    }\n",
       "\n",
       "    .dataframe thead th {\n",
       "        text-align: right;\n",
       "    }\n",
       "</style>\n",
       "<table border=\"1\" class=\"dataframe\">\n",
       "  <thead>\n",
       "    <tr style=\"text-align: right;\">\n",
       "      <th></th>\n",
       "      <th>text</th>\n",
       "      <th>toxic</th>\n",
       "      <th>lemma</th>\n",
       "      <th>count_words</th>\n",
       "      <th>mean_word_len</th>\n",
       "      <th>special_symbols</th>\n",
       "    </tr>\n",
       "  </thead>\n",
       "  <tbody>\n",
       "    <tr>\n",
       "      <th>0</th>\n",
       "      <td>Explanation\\nWhy the edits made under my usern...</td>\n",
       "      <td>0</td>\n",
       "      <td>explanation edit make username hardcore metall...</td>\n",
       "      <td>23.0</td>\n",
       "      <td>5.652174</td>\n",
       "      <td>1.0</td>\n",
       "    </tr>\n",
       "    <tr>\n",
       "      <th>1</th>\n",
       "      <td>D'aww! He matches this background colour I'm s...</td>\n",
       "      <td>0</td>\n",
       "      <td>d'aww match background colour seemingly stuck ...</td>\n",
       "      <td>10.0</td>\n",
       "      <td>5.900000</td>\n",
       "      <td>1.0</td>\n",
       "    </tr>\n",
       "    <tr>\n",
       "      <th>2</th>\n",
       "      <td>Hey man, I'm really not trying to edit war. It...</td>\n",
       "      <td>0</td>\n",
       "      <td>hey man really try edit war guy constantly rem...</td>\n",
       "      <td>21.0</td>\n",
       "      <td>5.285714</td>\n",
       "      <td>0.0</td>\n",
       "    </tr>\n",
       "    <tr>\n",
       "      <th>3</th>\n",
       "      <td>\"\\nMore\\nI can't make any real suggestions on ...</td>\n",
       "      <td>0</td>\n",
       "      <td>make real suggestion improvement wonder sectio...</td>\n",
       "      <td>52.0</td>\n",
       "      <td>5.846154</td>\n",
       "      <td>0.0</td>\n",
       "    </tr>\n",
       "    <tr>\n",
       "      <th>4</th>\n",
       "      <td>You, sir, are my hero. Any chance you remember...</td>\n",
       "      <td>0</td>\n",
       "      <td>sir hero chance remember page</td>\n",
       "      <td>5.0</td>\n",
       "      <td>5.000000</td>\n",
       "      <td>1.0</td>\n",
       "    </tr>\n",
       "  </tbody>\n",
       "</table>\n",
       "</div>"
      ],
      "text/plain": [
       "                                                text  toxic  \\\n",
       "0  Explanation\\nWhy the edits made under my usern...      0   \n",
       "1  D'aww! He matches this background colour I'm s...      0   \n",
       "2  Hey man, I'm really not trying to edit war. It...      0   \n",
       "3  \"\\nMore\\nI can't make any real suggestions on ...      0   \n",
       "4  You, sir, are my hero. Any chance you remember...      0   \n",
       "\n",
       "                                               lemma  count_words  \\\n",
       "0  explanation edit make username hardcore metall...         23.0   \n",
       "1  d'aww match background colour seemingly stuck ...         10.0   \n",
       "2  hey man really try edit war guy constantly rem...         21.0   \n",
       "3  make real suggestion improvement wonder sectio...         52.0   \n",
       "4                      sir hero chance remember page          5.0   \n",
       "\n",
       "   mean_word_len  special_symbols  \n",
       "0       5.652174              1.0  \n",
       "1       5.900000              1.0  \n",
       "2       5.285714              0.0  \n",
       "3       5.846154              0.0  \n",
       "4       5.000000              1.0  "
      ]
     },
     "metadata": {},
     "output_type": "display_data"
    }
   ],
   "source": [
    "pth3 = 'full_toxic.csv'\n",
    "if os.path.exists(pth3):\n",
    "    df_lemma = pd.read_csv(pth3,index_col=0)\n",
    "    display(df_lemma.head())\n",
    "    dataset_is_ready = True\n",
    "else:\n",
    "    try:  \n",
    "        url = 'https://drive.google.com/uc?id=1KU7sxhN83gsVh10Rc4SDxDlQxkGqbdy5'\n",
    "        output = 'full_toxic.csv'\n",
    "        gdown.download(url, output, quiet=False)\n",
    "        dataset_is_ready = True\n",
    "    except:\n",
    "        dataset_is_ready = False\n",
    "        df_lemma = df.copy()\n",
    "        dataset_is_ready = False\n",
    "        print('DataSet is ready')"
   ]
  },
  {
   "cell_type": "code",
   "execution_count": 16,
   "metadata": {},
   "outputs": [
    {
     "data": {
      "text/html": [
       "<div>\n",
       "<style scoped>\n",
       "    .dataframe tbody tr th:only-of-type {\n",
       "        vertical-align: middle;\n",
       "    }\n",
       "\n",
       "    .dataframe tbody tr th {\n",
       "        vertical-align: top;\n",
       "    }\n",
       "\n",
       "    .dataframe thead th {\n",
       "        text-align: right;\n",
       "    }\n",
       "</style>\n",
       "<table border=\"1\" class=\"dataframe\">\n",
       "  <thead>\n",
       "    <tr style=\"text-align: right;\">\n",
       "      <th></th>\n",
       "      <th>text</th>\n",
       "      <th>toxic</th>\n",
       "      <th>lemma</th>\n",
       "      <th>count_words</th>\n",
       "      <th>mean_word_len</th>\n",
       "      <th>special_symbols</th>\n",
       "    </tr>\n",
       "  </thead>\n",
       "  <tbody>\n",
       "    <tr>\n",
       "      <th>0</th>\n",
       "      <td>Explanation\\nWhy the edits made under my usern...</td>\n",
       "      <td>0</td>\n",
       "      <td>explanation edit make username hardcore metall...</td>\n",
       "      <td>23.0</td>\n",
       "      <td>5.652174</td>\n",
       "      <td>1.0</td>\n",
       "    </tr>\n",
       "    <tr>\n",
       "      <th>1</th>\n",
       "      <td>D'aww! He matches this background colour I'm s...</td>\n",
       "      <td>0</td>\n",
       "      <td>d'aww match background colour seemingly stuck ...</td>\n",
       "      <td>10.0</td>\n",
       "      <td>5.900000</td>\n",
       "      <td>1.0</td>\n",
       "    </tr>\n",
       "    <tr>\n",
       "      <th>2</th>\n",
       "      <td>Hey man, I'm really not trying to edit war. It...</td>\n",
       "      <td>0</td>\n",
       "      <td>hey man really try edit war guy constantly rem...</td>\n",
       "      <td>21.0</td>\n",
       "      <td>5.285714</td>\n",
       "      <td>0.0</td>\n",
       "    </tr>\n",
       "    <tr>\n",
       "      <th>3</th>\n",
       "      <td>\"\\nMore\\nI can't make any real suggestions on ...</td>\n",
       "      <td>0</td>\n",
       "      <td>make real suggestion improvement wonder sectio...</td>\n",
       "      <td>52.0</td>\n",
       "      <td>5.846154</td>\n",
       "      <td>0.0</td>\n",
       "    </tr>\n",
       "    <tr>\n",
       "      <th>4</th>\n",
       "      <td>You, sir, are my hero. Any chance you remember...</td>\n",
       "      <td>0</td>\n",
       "      <td>sir hero chance remember page</td>\n",
       "      <td>5.0</td>\n",
       "      <td>5.000000</td>\n",
       "      <td>1.0</td>\n",
       "    </tr>\n",
       "  </tbody>\n",
       "</table>\n",
       "</div>"
      ],
      "text/plain": [
       "                                                text  toxic  \\\n",
       "0  Explanation\\nWhy the edits made under my usern...      0   \n",
       "1  D'aww! He matches this background colour I'm s...      0   \n",
       "2  Hey man, I'm really not trying to edit war. It...      0   \n",
       "3  \"\\nMore\\nI can't make any real suggestions on ...      0   \n",
       "4  You, sir, are my hero. Any chance you remember...      0   \n",
       "\n",
       "                                               lemma  count_words  \\\n",
       "0  explanation edit make username hardcore metall...         23.0   \n",
       "1  d'aww match background colour seemingly stuck ...         10.0   \n",
       "2  hey man really try edit war guy constantly rem...         21.0   \n",
       "3  make real suggestion improvement wonder sectio...         52.0   \n",
       "4                      sir hero chance remember page          5.0   \n",
       "\n",
       "   mean_word_len  special_symbols  \n",
       "0       5.652174              1.0  \n",
       "1       5.900000              1.0  \n",
       "2       5.285714              0.0  \n",
       "3       5.846154              0.0  \n",
       "4       5.000000              1.0  "
      ]
     },
     "execution_count": 16,
     "metadata": {},
     "output_type": "execute_result"
    }
   ],
   "source": [
    "df_lemma.head()"
   ]
  },
  {
   "cell_type": "markdown",
   "metadata": {},
   "source": [
    "Проверим как работает препроцессинг"
   ]
  },
  {
   "cell_type": "code",
   "execution_count": 17,
   "metadata": {},
   "outputs": [
    {
     "name": "stdout",
     "output_type": "stream",
     "text": [
      "ORIG TEXT:\n",
      "\t Sometime back, I just happened to log on to www.izoom.in with a friend’s reference and I was amazed to see the concept Fresh Ideas Entertainment has come up with. So many deals… all under one roof. This website is very user friendly and easy to use and is fun to be on.\n",
      "You have Gossip, Games, Facts… Another exciting feature to add to it is Face of the Week… Every week, 4 new faces are selected and put up as izoom faces. It’s great to have been selected in four out of a group of millions. \n",
      "This new start up has already got many a deals in its kitty. Few of them being TheFortune Hotel, The Beach… are my personal favorites. izoom.in has a USP of mobile coupons. Coupons are available even when a user cannot access internet. You just need to SMS izoom support to 56767 and you get attended immediately.\n",
      "All I can say is izoom.in is a must visit website for everyone before they go out for shopping or dining or for outing.\n",
      "Cheers!!!\n",
      "\n",
      "PREPROC TEXT:\n",
      "\t sometime back happen log www izoom friend reference amazed see concept fresh ideas entertainment come many deal one roof website user friendly easy use fun gossip games fact another exciting feature add face week every week new face select put izoom face great select four group million new start already get many deal kitty thefortune hotel beach personal favorite izoom usp mobile coupon coupon available even user access internet need sms izoom support get attend say izoom must visit website everyone go shopping dining cheer\n",
      "\n",
      "ORIG TEXT:\n",
      "\t \"\n",
      "\n",
      "The latest edit is much better, don't make this article state \"\"super.\"\" at all. 71.237.70.49  \"\n",
      "\n",
      "PREPROC TEXT:\n",
      "\t late edit much well make article state super\n",
      "\n",
      "ORIG TEXT:\n",
      "\t \" October 2007 (UTC)\n",
      "\n",
      "I would think you'd be able to get your point across, and be immune to any objections, were you to simply embellish the second sentence of the article by changing \"\"he was schooled at Thornleigh Salesian College\"\" to \"\"he was schooled at (the then all-Catholic) Thornleigh Salesian College\"\".   \n",
      "\n",
      "Good suggestion from an Anon - what do you think? Rgds, -  07:53, 5\"\n",
      "\n",
      "PREPROC TEXT:\n",
      "\t october utc would think would able get point across immune objection simply embellish second sentence article change school thornleigh salesian college school catholic thornleigh salesian college good suggestion anon think rgds\n",
      "\n"
     ]
    }
   ],
   "source": [
    "for text in df_lemma.sample(3,random_state=random_seed).loc[:,'text']:\n",
    "    print(f'ORIG TEXT:\\n\\t {text}\\n')\n",
    "    print(f'PREPROC TEXT:\\n\\t {preprocessing_spacy(text)}')\n",
    "    print()"
   ]
  },
  {
   "cell_type": "markdown",
   "metadata": {},
   "source": [
    "Подготовим данные: Чистим, лемматизируем, убираем стоп слова"
   ]
  },
  {
   "cell_type": "code",
   "execution_count": 18,
   "metadata": {
    "scrolled": true
   },
   "outputs": [
    {
     "name": "stdout",
     "output_type": "stream",
     "text": [
      "DataSet is ready\n"
     ]
    }
   ],
   "source": [
    "if not dataset_is_ready:\n",
    "    df_lemma['lemma'] = df_lemma['text'].parallel_apply(preprocessing_spacy)\n",
    "else:\n",
    "    print('DataSet is ready')"
   ]
  },
  {
   "cell_type": "code",
   "execution_count": 19,
   "metadata": {},
   "outputs": [
    {
     "name": "stdout",
     "output_type": "stream",
     "text": [
      "ORIG TEXT:\n",
      "\t Explanation\n",
      "Why the edits made under my username Hardcore Metallica Fan were reverted? They weren't vandalisms, just closure on some GAs after I voted at New York Dolls FAC. And please don't remove the template from the talk page since I'm retired now.89.205.38.27\n",
      "\n",
      "PREPROC TEXT:\n",
      "\t explanation edit make username hardcore metallica fan revert vandalism closure gas vote new york dolls fac please remove template talk page since retire\n"
     ]
    }
   ],
   "source": [
    "print(f'ORIG TEXT:\\n\\t {df_lemma.loc[:,\"text\"][0]}\\n')\n",
    "print(f'PREPROC TEXT:\\n\\t {df_lemma.loc[:,\"lemma\"][0]}')"
   ]
  },
  {
   "cell_type": "markdown",
   "metadata": {},
   "source": [
    "Добавим дополнителные признаки: количество слов, среднюю динну слов, количество знаков \"!?\""
   ]
  },
  {
   "cell_type": "code",
   "execution_count": 20,
   "metadata": {
    "scrolled": false
   },
   "outputs": [
    {
     "name": "stdout",
     "output_type": "stream",
     "text": [
      "DataSet is ready\n"
     ]
    }
   ],
   "source": [
    "if not dataset_is_ready:\n",
    "    df_lemma[['count_words','mean_word_len','special_symbols']] = df_lemma.parallel_apply(add_features,axis=1).apply(pd.Series)\n",
    "else:\n",
    "    print('DataSet is ready')"
   ]
  },
  {
   "cell_type": "markdown",
   "metadata": {},
   "source": [
    "Проверим на наличие пропусков"
   ]
  },
  {
   "cell_type": "code",
   "execution_count": 21,
   "metadata": {
    "scrolled": true
   },
   "outputs": [
    {
     "data": {
      "text/plain": [
       "text                0\n",
       "toxic               0\n",
       "lemma              64\n",
       "count_words         0\n",
       "mean_word_len       0\n",
       "special_symbols     0\n",
       "dtype: int64"
      ]
     },
     "execution_count": 21,
     "metadata": {},
     "output_type": "execute_result"
    }
   ],
   "source": [
    "df_lemma.isna().sum()"
   ]
  },
  {
   "cell_type": "markdown",
   "metadata": {},
   "source": [
    "Пропуски возможно появились при чистке и лемматизации"
   ]
  },
  {
   "cell_type": "code",
   "execution_count": 22,
   "metadata": {},
   "outputs": [],
   "source": [
    "df_lemma = df_lemma.dropna()"
   ]
  },
  {
   "cell_type": "markdown",
   "metadata": {},
   "source": [
    "Сохраним датасет"
   ]
  },
  {
   "cell_type": "code",
   "execution_count": 23,
   "metadata": {},
   "outputs": [
    {
     "name": "stdout",
     "output_type": "stream",
     "text": [
      "DataSet is ready\n"
     ]
    }
   ],
   "source": [
    "if not dataset_is_ready:\n",
    "    df_lemma.to_csv('full_toxic.csv')\n",
    "else:\n",
    "    print('DataSet is ready')"
   ]
  },
  {
   "cell_type": "markdown",
   "metadata": {},
   "source": [
    "Взглянем на распределения новых признаков по классам"
   ]
  },
  {
   "cell_type": "code",
   "execution_count": 24,
   "metadata": {
    "scrolled": false
   },
   "outputs": [
    {
     "data": {
      "text/html": [
       "<div>\n",
       "<style scoped>\n",
       "    .dataframe tbody tr th:only-of-type {\n",
       "        vertical-align: middle;\n",
       "    }\n",
       "\n",
       "    .dataframe tbody tr th {\n",
       "        vertical-align: top;\n",
       "    }\n",
       "\n",
       "    .dataframe thead th {\n",
       "        text-align: right;\n",
       "    }\n",
       "</style>\n",
       "<table border=\"1\" class=\"dataframe\">\n",
       "  <thead>\n",
       "    <tr style=\"text-align: right;\">\n",
       "      <th></th>\n",
       "      <th>toxic</th>\n",
       "      <th>count_words</th>\n",
       "      <th>mean_word_len</th>\n",
       "      <th>special_symbols</th>\n",
       "    </tr>\n",
       "  </thead>\n",
       "  <tbody>\n",
       "    <tr>\n",
       "      <th>0</th>\n",
       "      <td>0</td>\n",
       "      <td>35.763484</td>\n",
       "      <td>5.721492</td>\n",
       "      <td>0.776724</td>\n",
       "    </tr>\n",
       "    <tr>\n",
       "      <th>1</th>\n",
       "      <td>1</td>\n",
       "      <td>28.779116</td>\n",
       "      <td>5.696252</td>\n",
       "      <td>4.062898</td>\n",
       "    </tr>\n",
       "  </tbody>\n",
       "</table>\n",
       "</div>"
      ],
      "text/plain": [
       "   toxic  count_words  mean_word_len  special_symbols\n",
       "0      0    35.763484       5.721492         0.776724\n",
       "1      1    28.779116       5.696252         4.062898"
      ]
     },
     "execution_count": 24,
     "metadata": {},
     "output_type": "execute_result"
    }
   ],
   "source": [
    "pivot_table = df_lemma.groupby(['toxic']).agg({\n",
    "    'count_words': 'mean',\n",
    "    'mean_word_len': 'mean',\n",
    "    'special_symbols': 'mean'\n",
    "}).reset_index()\n",
    "pivot_table"
   ]
  },
  {
   "cell_type": "markdown",
   "metadata": {},
   "source": [
    "Можно заметить, что в токсичных комментариях в среднем больше используют специальных символов и используют меньше слов"
   ]
  },
  {
   "cell_type": "code",
   "execution_count": 25,
   "metadata": {
    "scrolled": false
   },
   "outputs": [
    {
     "data": {
      "image/png": "[encoded data removed]",
      "text/plain": [
       "<Figure size 1080x360 with 3 Axes>"
      ]
     },
     "metadata": {
      "needs_background": "light"
     },
     "output_type": "display_data"
    },
    {
     "data": {
      "image/png": "[encoded data removed]",
      "text/plain": [
       "<Figure size 1080x360 with 3 Axes>"
      ]
     },
     "metadata": {
      "needs_background": "light"
     },
     "output_type": "display_data"
    }
   ],
   "source": [
    "for i in range(0,2):\n",
    "    plt.figure(figsize=(15, 5)) \n",
    "    plt.subplot(2, 3, 1)\n",
    "    df_lemma[df_lemma['toxic'] == i]['count_words'].hist(bins=100, range=(0,584))\n",
    "    plt.title('Количество слов')\n",
    "    plt.xlabel(\"Количество\")\n",
    "    plt.ylabel(\"Частота\")\n",
    "\n",
    "    plt.subplot(2, 3, 2)\n",
    "    df_lemma[df_lemma['toxic'] == i]['mean_word_len'].hist(bins=100, range=(0,10))\n",
    "    plt.title('средняя длинна слов')\n",
    "    plt.xlabel(\"Количество\")\n",
    "    plt.ylabel(\"Частота\")\n",
    "\n",
    "    plt.subplot(2, 3, 3)\n",
    "    df_lemma[df_lemma['toxic'] == i]['special_symbols'].hist(bins=30, range=(0,10))\n",
    "    plt.title('Специальные символы')\n",
    "    plt.xlabel(\"Количество\")\n",
    "    plt.ylabel(\"Частота\")\n",
    "    plt.suptitle(f'Класс {i}')\n",
    "    plt.tight_layout() \n",
    "    plt.show()"
   ]
  },
  {
   "cell_type": "markdown",
   "metadata": {},
   "source": [
    "Распределения по классам схожи"
   ]
  },
  {
   "cell_type": "markdown",
   "metadata": {},
   "source": [
    "Посмотрим на облако слов"
   ]
  },
  {
   "cell_type": "code",
   "execution_count": 26,
   "metadata": {},
   "outputs": [],
   "source": [
    "text_cloud_0 = ''\n",
    "text_cloud_1 = ''\n",
    "all_text = ''\n",
    "for text in df_lemma.values:\n",
    "    try:\n",
    "        all_text+= ' '+text[2]\n",
    "        if text[1] == 0:\n",
    "            text_cloud_0+= ' '+text[2]\n",
    "        else:\n",
    "            text_cloud_1+= ' '+text[2]\n",
    "    except:\n",
    "        print(text)"
   ]
  },
  {
   "cell_type": "code",
   "execution_count": 27,
   "metadata": {},
   "outputs": [],
   "source": [
    "wordcloud = WordCloud().generate(all_text)\n",
    "wordcloud_0 = WordCloud().generate(text_cloud_0)\n",
    "wordcloud_1 = WordCloud().generate(text_cloud_1)"
   ]
  },
  {
   "cell_type": "code",
   "execution_count": 28,
   "metadata": {},
   "outputs": [
    {
     "data": {
      "image/png": "[encoded data removed]",
      "text/plain": [
       "<Figure size 1080x360 with 3 Axes>"
      ]
     },
     "metadata": {
      "needs_background": "light"
     },
     "output_type": "display_data"
    }
   ],
   "source": [
    "plt.figure(figsize=(15, 5)) \n",
    "plt.subplot(1, 3, 1)\n",
    "plt.imshow(wordcloud, interpolation='bilinear')\n",
    "plt.title('all words')\n",
    "plt.axis(\"off\")\n",
    "plt.subplot(1, 3, 2)\n",
    "plt.imshow(wordcloud_0, interpolation='bilinear')\n",
    "plt.title('class 0')\n",
    "plt.axis(\"off\")\n",
    "plt.subplot(1, 3, 3)\n",
    "plt.imshow(wordcloud_1, interpolation='bilinear')\n",
    "plt.title('class 1')\n",
    "plt.axis(\"off\")\n",
    "plt.tight_layout() \n",
    "plt.show()"
   ]
  },
  {
   "cell_type": "code",
   "execution_count": 29,
   "metadata": {},
   "outputs": [],
   "source": [
    "del all_text\n",
    "del text_cloud_0\n",
    "del text_cloud_1\n",
    "del wordcloud\n",
    "del wordcloud_0\n",
    "del wordcloud_1\n"
   ]
  },
  {
   "cell_type": "markdown",
   "metadata": {},
   "source": [
    "Видим явные непотребства, но мы же приличные датасаентисты и не будем хаострать на этом внимание.\n",
    "\n",
    "Облака слов по всем комментариям и только по нетоксичным очень похожи, это связано с опять же с дисбалансом"
   ]
  },
  {
   "cell_type": "markdown",
   "metadata": {},
   "source": [
    "<div style=\"border: 3px solid blue; border-radius: 5px; padding: 10px;\">\n",
    "    \n",
    "Вывод:\n",
    "\n",
    "Распределения внутри классов по количеству слов, средней длинне слов и колву спец символов схожи\n",
    "    \n",
    "В токсичных комментариях в среднем больше используют специальных символов и используют меньше слов"
   ]
  },
  {
   "cell_type": "markdown",
   "metadata": {},
   "source": [
    "## Обучение"
   ]
  },
  {
   "cell_type": "code",
   "execution_count": 30,
   "metadata": {},
   "outputs": [],
   "source": [
    "X = df_lemma.drop(['toxic','text'],axis=1)\n",
    "y = df_lemma['toxic']"
   ]
  },
  {
   "cell_type": "markdown",
   "metadata": {},
   "source": [
    "Разделим на выборки с учетом дизбаланса"
   ]
  },
  {
   "cell_type": "code",
   "execution_count": 31,
   "metadata": {},
   "outputs": [],
   "source": [
    "X_train, X_test, y_train, y_test = train_test_split(X, y, test_size=0.2, random_state = random_seed, stratify=y)"
   ]
  },
  {
   "cell_type": "markdown",
   "metadata": {},
   "source": [
    "Зададим трансформер столбцов для конвеера"
   ]
  },
  {
   "cell_type": "code",
   "execution_count": 32,
   "metadata": {},
   "outputs": [],
   "source": [
    "transform_col = ColumnTransformer([\n",
    "    (\"vectorize\", TfidfVectorizer(), 0),\n",
    "    (\"scaler\", StandardScaler(), [1, 2, 3])\n",
    "])"
   ]
  },
  {
   "cell_type": "markdown",
   "metadata": {},
   "source": [
    "Зададим фолды для кроссвалидации с учетом страт"
   ]
  },
  {
   "cell_type": "code",
   "execution_count": 33,
   "metadata": {},
   "outputs": [],
   "source": [
    "stratified_kfold = StratifiedKFold(n_splits = 3, shuffle = True, random_state = random_seed)"
   ]
  },
  {
   "cell_type": "markdown",
   "metadata": {},
   "source": [
    "Для борьбы с дисбаланса будем использовать апсемплинг. Но если применять его ко всей обучающей выборке использование кроссвалидации будет некорректным, так как валидация будет так же содежать апсемплированные данные. Во избежание утечки данных будем использовать `RandomOverSampler` и `Pipeline` из библиотеки imblearn"
   ]
  },
  {
   "cell_type": "markdown",
   "metadata": {},
   "source": [
    "### PassiveAggressiveClassifier"
   ]
  },
  {
   "cell_type": "code",
   "execution_count": 34,
   "metadata": {},
   "outputs": [
    {
     "name": "stdout",
     "output_type": "stream",
     "text": [
      "Best Parameters: {'classifier__C': 0.1, 'classifier__max_iter': 100}\n",
      "Best F1: 0.7499320450334136\n",
      "CPU times: user 3min 22s, sys: 5.67 s, total: 3min 28s\n",
      "Wall time: 3min 28s\n"
     ]
    }
   ],
   "source": [
    "%%time\n",
    "pipe = imPipeline(steps=[\n",
    "    (\"upsampler\", RandomOverSampler(random_state = random_seed)),\n",
    "    ('transformer',transform_col),\n",
    "    ('classifier', PassiveAggressiveClassifier(class_weight='balanced')),\n",
    "]) \n",
    "\n",
    "params_rougher = {\n",
    "        'classifier__max_iter': [50, 100, 200],\n",
    "        'classifier__C': [0.1, 1, 10], \n",
    "}\n",
    "\n",
    "grid_rougher = GridSearchCV(pipe, param_grid=params_rougher, cv=stratified_kfold, n_jobs=-1,scoring='f1')\n",
    "pac_model = grid_rougher.fit(X_train, y_train)\n",
    "best_params = grid_rougher.best_params_\n",
    "best_score = grid_rougher.best_score_\n",
    "print(\"Best Parameters:\", best_params)\n",
    "print(\"Best F1:\", best_score)"
   ]
  },
  {
   "cell_type": "markdown",
   "metadata": {},
   "source": [
    "### Logistic Regression"
   ]
  },
  {
   "cell_type": "code",
   "execution_count": 35,
   "metadata": {},
   "outputs": [
    {
     "name": "stdout",
     "output_type": "stream",
     "text": [
      "Best Parameters: {'classifier__C': 10, 'classifier__max_iter': 200}\n",
      "Best F1: 0.7582891319883821\n",
      "CPU times: user 4min 7s, sys: 2min 36s, total: 6min 44s\n",
      "Wall time: 6min 44s\n"
     ]
    }
   ],
   "source": [
    "%%time\n",
    "pipe = imPipeline(steps=[\n",
    "    (\"upsampler\", RandomOverSampler(random_state = random_seed)),\n",
    "    ('transformer',transform_col),\n",
    "    ('classifier', LogisticRegression(random_state = random_seed, solver=\"liblinear\", class_weight='balanced')),\n",
    "]) \n",
    "\n",
    "params_rougher = {\n",
    "        'classifier__max_iter': [200, 500],\n",
    "        'classifier__C': [1, 10], \n",
    "}\n",
    "\n",
    "grid_rougher = GridSearchCV(pipe, param_grid=params_rougher, cv=stratified_kfold, n_jobs=-1,scoring='f1')\n",
    "reg_model = grid_rougher.fit(X_train, y_train)\n",
    "best_params = grid_rougher.best_params_\n",
    "best_score = grid_rougher.best_score_\n",
    "print(\"Best Parameters:\", best_params)\n",
    "print(\"Best F1:\", best_score)"
   ]
  },
  {
   "cell_type": "markdown",
   "metadata": {},
   "source": [
    "### Random Forest"
   ]
  },
  {
   "cell_type": "code",
   "execution_count": 36,
   "metadata": {
    "scrolled": true
   },
   "outputs": [
    {
     "name": "stdout",
     "output_type": "stream",
     "text": [
      "Best Parameters: {'classifier__max_depth': 9, 'classifier__n_estimators': 150}\n",
      "Best F1: 0.352273733304995\n",
      "CPU times: user 9min 45s, sys: 6.36 s, total: 9min 51s\n",
      "Wall time: 9min 52s\n"
     ]
    }
   ],
   "source": [
    "%%time\n",
    "pipe = imPipeline(steps=[\n",
    "    (\"upsampler\", RandomOverSampler(random_state = random_seed)),\n",
    "    ('transformer',transform_col),\n",
    "    ('classifier', RandomForestClassifier(n_jobs = -1, random_state = random_seed, class_weight = 'balanced'))\n",
    "])\n",
    "\n",
    "params_rougher = {\n",
    "        'classifier__max_depth': range(1,10),\n",
    "        'classifier__n_estimators': [100,150]\n",
    "}\n",
    "\n",
    "grid_rougher = GridSearchCV(pipe, param_grid=params_rougher, cv=stratified_kfold, n_jobs=-1,scoring='f1')\n",
    "forest_model = grid_rougher.fit(X_train, y_train)\n",
    "best_params = grid_rougher.best_params_\n",
    "best_score = grid_rougher.best_score_\n",
    "print(\"Best Parameters:\", best_params)\n",
    "print(\"Best F1:\", best_score)"
   ]
  },
  {
   "cell_type": "markdown",
   "metadata": {},
   "source": [
    "### LightGBM"
   ]
  },
  {
   "cell_type": "code",
   "execution_count": null,
   "metadata": {},
   "outputs": [],
   "source": [
    "%%time\n",
    "pipe = imPipeline(steps=[\n",
    "    (\"upsampler\", RandomOverSampler(random_state = random_seed)),\n",
    "    ('transformer',transform_col),\n",
    "    ('classifier', lgb.LGBMClassifier(random_state = random_seed,\n",
    "                                        force_row_wise = True,\n",
    "                                        class_weight = 'balanced',\n",
    "                                        verbose = 0))\n",
    "])\n",
    "\n",
    "params_rougher = {\n",
    "        'classifier__learning_rate': [0.1],\n",
    "        'classifier__n_estimators': [150],\n",
    "        'classifier__max_depth':[9],\n",
    "        'classifier__num_leaves': [30]\n",
    "}\n",
    "\n",
    "grid_rougher = GridSearchCV(pipe, param_grid=params_rougher, cv=stratified_kfold, n_jobs=-1,scoring='f1')\n",
    "lgb_model = grid_rougher.fit(X_train, y_train)\n",
    "best_params = grid_rougher.best_params_\n",
    "best_score = grid_rougher.best_score_\n",
    "print(\"Best Parameters:\", best_params)\n",
    "print(\"Best F1:\", best_score)"
   ]
  },
  {
   "cell_type": "markdown",
   "metadata": {},
   "source": [
    "<div class=\"alert alert-warning\">\n",
    "<font size=\"5\"><b>Комментарий ревьюера</b></font>\n",
    "\n",
    "\n",
    "\n",
    "Совет 🤔:\n",
    "\n",
    "\n",
    "\n",
    "Логистическая\n"
   ]
  },
  {
   "cell_type": "markdown",
   "metadata": {},
   "source": [
    "### Bert"
   ]
  },
  {
   "cell_type": "markdown",
   "metadata": {},
   "source": [
    "BERT будет работать если `get_embedings = True`"
   ]
  },
  {
   "cell_type": "code",
   "execution_count": 37,
   "metadata": {},
   "outputs": [],
   "source": [
    "get_embedings = False"
   ]
  },
  {
   "cell_type": "code",
   "execution_count": 38,
   "metadata": {},
   "outputs": [],
   "source": [
    "def preprocess_for_bert(val):\n",
    "    val = re.sub(r'[^a-z\\'\\s]', ' ', val.lower())  \n",
    "    val = re.sub(r'\\s+', ' ', val).strip()\n",
    "    return val"
   ]
  },
  {
   "cell_type": "code",
   "execution_count": 39,
   "metadata": {},
   "outputs": [],
   "source": [
    "if get_embedings:\n",
    "    print(torch.__version__)\n",
    "    print(torch.version.cuda)\n",
    "    print(torch.backends.cudnn.version())\n",
    "    torch.cuda.is_available()"
   ]
  },
  {
   "cell_type": "code",
   "execution_count": 40,
   "metadata": {
    "scrolled": false
   },
   "outputs": [],
   "source": [
    "if get_embedings:  \n",
    "    tokenizer = transformers.AutoTokenizer.from_pretrained('unitary/toxic-bert')\n",
    "\n",
    "    clear_corpus = df['text'].apply(preprocess_for_bert)\n",
    "    max_length = 512\n",
    "\n",
    "    tokenized = clear_corpus.apply(lambda x: tokenizer.encode(x, add_special_tokens=True, \n",
    "                                                              truncation=True, max_length=max_length))\n",
    "    padded = np.array([i + [0] * (max_length - len(i)) for i in tokenized.values])\n",
    "    attention_mask = np.where(padded != 0, 1, 0)\n",
    "    attention_mask.shape"
   ]
  },
  {
   "cell_type": "code",
   "execution_count": 41,
   "metadata": {},
   "outputs": [],
   "source": [
    "if get_embedings: \n",
    "    model = transformers.AutoModel.from_pretrained('unitary/toxic-bert')\n",
    "    torch.cuda.empty_cache()\n",
    "    model.to('cuda')\n",
    "\n",
    "    batch_size = 36\n",
    "    embeddings = []\n",
    "    for i in notebook.tqdm(range(padded.shape[0] // batch_size)):\n",
    "        batch = torch.LongTensor(padded[batch_size*i:batch_size*(i+1)]).to('cuda:0')\n",
    "        attention_mask_batch = torch.LongTensor(attention_mask[batch_size*i:batch_size*(i+1)]).to('cuda:0')\n",
    "\n",
    "        with torch.no_grad():\n",
    "            batch_embeddings = model(batch, attention_mask=attention_mask_batch)\n",
    "        embeddings.append(batch_embeddings[0][:,0,:].cpu().numpy())"
   ]
  },
  {
   "cell_type": "code",
   "execution_count": 42,
   "metadata": {},
   "outputs": [],
   "source": [
    "if get_embedings: \n",
    "    features = np.concatenate(embeddings)\n",
    "    target = df['toxic']"
   ]
  },
  {
   "cell_type": "markdown",
   "metadata": {},
   "source": [
    "Эмбеддинги загружаются с гугл диска"
   ]
  },
  {
   "cell_type": "code",
   "execution_count": 43,
   "metadata": {},
   "outputs": [
    {
     "name": "stderr",
     "output_type": "stream",
     "text": [
      "Downloading...\n",
      "From (uriginal): https://drive.google.com/uc?id=1ef95rpK6-IXvzy3QzjGyLqPa8BtJxrdU\n",
      "From (redirected): https://drive.google.com/uc?id=1ef95rpK6-IXvzy3QzjGyLqPa8BtJxrdU&confirm=t&uuid=8410e630-52a3-4e9a-9ae8-dbb9e0445ec3\n",
      "To: /home/jovyan/work/embeddings2.csv\n",
      "100%|██████████| 406M/406M [00:06<00:00, 67.4MB/s] \n"
     ]
    }
   ],
   "source": [
    "try:  \n",
    "    url = 'https://drive.google.com/uc?id=1ef95rpK6-IXvzy3QzjGyLqPa8BtJxrdU'\n",
    "    output = 'embeddings2.csv'\n",
    "    gdown.download(url, output, quiet=False)\n",
    "    embeddings_is_ready = True\n",
    "except:\n",
    "    embeddings_is_ready = False"
   ]
  },
  {
   "cell_type": "code",
   "execution_count": 44,
   "metadata": {},
   "outputs": [
    {
     "data": {
      "text/html": [
       "<div>\n",
       "<style scoped>\n",
       "    .dataframe tbody tr th:only-of-type {\n",
       "        vertical-align: middle;\n",
       "    }\n",
       "\n",
       "    .dataframe tbody tr th {\n",
       "        vertical-align: top;\n",
       "    }\n",
       "\n",
       "    .dataframe thead th {\n",
       "        text-align: right;\n",
       "    }\n",
       "</style>\n",
       "<table border=\"1\" class=\"dataframe\">\n",
       "  <thead>\n",
       "    <tr style=\"text-align: right;\">\n",
       "      <th></th>\n",
       "      <th>0</th>\n",
       "      <th>1</th>\n",
       "      <th>2</th>\n",
       "      <th>3</th>\n",
       "      <th>4</th>\n",
       "      <th>5</th>\n",
       "      <th>6</th>\n",
       "      <th>7</th>\n",
       "      <th>8</th>\n",
       "      <th>9</th>\n",
       "      <th>...</th>\n",
       "      <th>759</th>\n",
       "      <th>760</th>\n",
       "      <th>761</th>\n",
       "      <th>762</th>\n",
       "      <th>763</th>\n",
       "      <th>764</th>\n",
       "      <th>765</th>\n",
       "      <th>766</th>\n",
       "      <th>767</th>\n",
       "      <th>toxic</th>\n",
       "    </tr>\n",
       "  </thead>\n",
       "  <tbody>\n",
       "    <tr>\n",
       "      <th>0</th>\n",
       "      <td>-0.410114</td>\n",
       "      <td>-0.574026</td>\n",
       "      <td>0.552566</td>\n",
       "      <td>-0.329281</td>\n",
       "      <td>0.503032</td>\n",
       "      <td>0.557430</td>\n",
       "      <td>0.449303</td>\n",
       "      <td>0.863161</td>\n",
       "      <td>-0.545769</td>\n",
       "      <td>0.064551</td>\n",
       "      <td>...</td>\n",
       "      <td>-0.116926</td>\n",
       "      <td>0.044172</td>\n",
       "      <td>-0.232025</td>\n",
       "      <td>-0.621440</td>\n",
       "      <td>-0.010264</td>\n",
       "      <td>-0.340152</td>\n",
       "      <td>-0.298527</td>\n",
       "      <td>0.680317</td>\n",
       "      <td>0.458641</td>\n",
       "      <td>0</td>\n",
       "    </tr>\n",
       "    <tr>\n",
       "      <th>1</th>\n",
       "      <td>-0.469945</td>\n",
       "      <td>-0.711501</td>\n",
       "      <td>0.701949</td>\n",
       "      <td>-0.502460</td>\n",
       "      <td>0.930603</td>\n",
       "      <td>0.147373</td>\n",
       "      <td>0.057881</td>\n",
       "      <td>0.128479</td>\n",
       "      <td>-0.185314</td>\n",
       "      <td>-0.620135</td>\n",
       "      <td>...</td>\n",
       "      <td>-1.242557</td>\n",
       "      <td>0.385753</td>\n",
       "      <td>-0.622624</td>\n",
       "      <td>0.094880</td>\n",
       "      <td>0.744254</td>\n",
       "      <td>-0.452926</td>\n",
       "      <td>-0.820508</td>\n",
       "      <td>0.501201</td>\n",
       "      <td>0.339160</td>\n",
       "      <td>0</td>\n",
       "    </tr>\n",
       "    <tr>\n",
       "      <th>2</th>\n",
       "      <td>-0.667718</td>\n",
       "      <td>-0.684393</td>\n",
       "      <td>0.536912</td>\n",
       "      <td>-0.591069</td>\n",
       "      <td>0.919971</td>\n",
       "      <td>0.203211</td>\n",
       "      <td>-0.154008</td>\n",
       "      <td>-0.070888</td>\n",
       "      <td>-0.395312</td>\n",
       "      <td>-0.880162</td>\n",
       "      <td>...</td>\n",
       "      <td>-1.135108</td>\n",
       "      <td>0.355430</td>\n",
       "      <td>-0.579971</td>\n",
       "      <td>0.182408</td>\n",
       "      <td>0.969917</td>\n",
       "      <td>-0.391041</td>\n",
       "      <td>-0.764151</td>\n",
       "      <td>0.404184</td>\n",
       "      <td>0.045387</td>\n",
       "      <td>0</td>\n",
       "    </tr>\n",
       "    <tr>\n",
       "      <th>3</th>\n",
       "      <td>-0.514496</td>\n",
       "      <td>-0.689825</td>\n",
       "      <td>0.546250</td>\n",
       "      <td>-0.650981</td>\n",
       "      <td>1.028187</td>\n",
       "      <td>0.312727</td>\n",
       "      <td>-0.014700</td>\n",
       "      <td>0.080402</td>\n",
       "      <td>-0.151741</td>\n",
       "      <td>-0.703108</td>\n",
       "      <td>...</td>\n",
       "      <td>-1.142287</td>\n",
       "      <td>0.416394</td>\n",
       "      <td>-0.558779</td>\n",
       "      <td>0.177051</td>\n",
       "      <td>0.702899</td>\n",
       "      <td>-0.542271</td>\n",
       "      <td>-0.849251</td>\n",
       "      <td>0.724656</td>\n",
       "      <td>0.183037</td>\n",
       "      <td>0</td>\n",
       "    </tr>\n",
       "    <tr>\n",
       "      <th>4</th>\n",
       "      <td>-0.811589</td>\n",
       "      <td>-1.059367</td>\n",
       "      <td>0.398525</td>\n",
       "      <td>-0.655374</td>\n",
       "      <td>0.852994</td>\n",
       "      <td>0.183408</td>\n",
       "      <td>-0.205789</td>\n",
       "      <td>-0.095525</td>\n",
       "      <td>-0.511504</td>\n",
       "      <td>-0.914529</td>\n",
       "      <td>...</td>\n",
       "      <td>-1.184565</td>\n",
       "      <td>0.262721</td>\n",
       "      <td>-0.678346</td>\n",
       "      <td>0.192726</td>\n",
       "      <td>0.892908</td>\n",
       "      <td>-0.371416</td>\n",
       "      <td>-0.779445</td>\n",
       "      <td>0.353674</td>\n",
       "      <td>0.144474</td>\n",
       "      <td>0</td>\n",
       "    </tr>\n",
       "  </tbody>\n",
       "</table>\n",
       "<p>5 rows × 769 columns</p>\n",
       "</div>"
      ],
      "text/plain": [
       "          0         1         2         3         4         5         6  \\\n",
       "0 -0.410114 -0.574026  0.552566 -0.329281  0.503032  0.557430  0.449303   \n",
       "1 -0.469945 -0.711501  0.701949 -0.502460  0.930603  0.147373  0.057881   \n",
       "2 -0.667718 -0.684393  0.536912 -0.591069  0.919971  0.203211 -0.154008   \n",
       "3 -0.514496 -0.689825  0.546250 -0.650981  1.028187  0.312727 -0.014700   \n",
       "4 -0.811589 -1.059367  0.398525 -0.655374  0.852994  0.183408 -0.205789   \n",
       "\n",
       "          7         8         9  ...       759       760       761       762  \\\n",
       "0  0.863161 -0.545769  0.064551  ... -0.116926  0.044172 -0.232025 -0.621440   \n",
       "1  0.128479 -0.185314 -0.620135  ... -1.242557  0.385753 -0.622624  0.094880   \n",
       "2 -0.070888 -0.395312 -0.880162  ... -1.135108  0.355430 -0.579971  0.182408   \n",
       "3  0.080402 -0.151741 -0.703108  ... -1.142287  0.416394 -0.558779  0.177051   \n",
       "4 -0.095525 -0.511504 -0.914529  ... -1.184565  0.262721 -0.678346  0.192726   \n",
       "\n",
       "        763       764       765       766       767  toxic  \n",
       "0 -0.010264 -0.340152 -0.298527  0.680317  0.458641      0  \n",
       "1  0.744254 -0.452926 -0.820508  0.501201  0.339160      0  \n",
       "2  0.969917 -0.391041 -0.764151  0.404184  0.045387      0  \n",
       "3  0.702899 -0.542271 -0.849251  0.724656  0.183037      0  \n",
       "4  0.892908 -0.371416 -0.779445  0.353674  0.144474      0  \n",
       "\n",
       "[5 rows x 769 columns]"
      ]
     },
     "metadata": {},
     "output_type": "display_data"
    },
    {
     "name": "stdout",
     "output_type": "stream",
     "text": [
      "<class 'pandas.core.frame.DataFrame'>\n",
      "Int64Index: 47772 entries, 0 to 47771\n",
      "Columns: 769 entries, 0 to toxic\n",
      "dtypes: float64(768), int64(1)\n",
      "memory usage: 280.6 MB\n",
      "nan: 0\n"
     ]
    }
   ],
   "source": [
    "if embeddings_is_ready:\n",
    "    embeddings = pd.read_csv('embeddings2.csv',index_col=0)\n",
    "    display(embeddings.head())\n",
    "    embeddings.info()\n",
    "    print(f'nan: {embeddings.isna().sum().sum()}')\n",
    "    X_BERT = embeddings.drop(['toxic'],axis=1)\n",
    "    y_BERT = embeddings['toxic']\n",
    "    \n",
    "    X_train_BERT, X_test_BERT, y_train_BERT, y_test_BERT = train_test_split(X_BERT, y_BERT, test_size=0.2, \n",
    "                                                                            random_state = random_seed, stratify=y_BERT)"
   ]
  },
  {
   "cell_type": "markdown",
   "metadata": {},
   "source": [
    "### PassiveAggressive on BERT"
   ]
  },
  {
   "cell_type": "code",
   "execution_count": 45,
   "metadata": {
    "scrolled": true
   },
   "outputs": [
    {
     "name": "stdout",
     "output_type": "stream",
     "text": [
      "Best Parameters: {'classifier__C': 10, 'classifier__max_iter': 100}\n",
      "Best F1: 0.8784429192882269\n",
      "CPU times: user 14.5 s, sys: 2.4 s, total: 17 s\n",
      "Wall time: 17 s\n"
     ]
    }
   ],
   "source": [
    "%%time\n",
    "if embeddings_is_ready:\n",
    "    pipe = imPipeline(steps=[\n",
    "        (\"upsampler\", RandomOverSampler(random_state = random_seed)),\n",
    "        ('classifier', PassiveAggressiveClassifier(class_weight='balanced')),\n",
    "    ]) \n",
    "\n",
    "    params_rougher = {\n",
    "            'classifier__max_iter': [100],\n",
    "            'classifier__C': [10], \n",
    "    }\n",
    "\n",
    "    grid_rougher = GridSearchCV(pipe, param_grid=params_rougher, cv=stratified_kfold, n_jobs=-1,scoring='f1')\n",
    "    pac_bert_model = grid_rougher.fit(X_train_BERT, y_train_BERT)\n",
    "    best_params = grid_rougher.best_params_\n",
    "    best_score = grid_rougher.best_score_\n",
    "    print(\"Best Parameters:\", best_params)\n",
    "    print(\"Best F1:\", best_score)"
   ]
  },
  {
   "cell_type": "markdown",
   "metadata": {},
   "source": [
    "<div style=\"border: 3px solid blue; border-radius: 5px; padding: 10px;\">\n",
    "    \n",
    "Вывод:\n",
    "    \n",
    "Были проверены модели PassiveAggressiveClassifier, Логистическая регрессия, Случайный лес и LightGBM на данных векторизированных через TF-IDF\n",
    "    \n",
    "Наилучший результат показала линейная регрессия:**F1 - 0.7582301**\n",
    "\n",
    "И PassiveAggressiveClassifier: **F1 -  0.7505263**\n",
    "    \n",
    "Так же отдельно была опробована PassiveAggressiveClassifier обученная на эмбеддингах, полученных через BERT: **F1 - 0.8811035**"
   ]
  },
  {
   "cell_type": "markdown",
   "metadata": {},
   "source": [
    "## Тестирование"
   ]
  },
  {
   "cell_type": "code",
   "execution_count": 46,
   "metadata": {},
   "outputs": [],
   "source": [
    "def train_valid_predict(model, plot=False, features=X_test, target=y_test, sample_type='test', threshold = None):\n",
    "    if threshold is None:\n",
    "        predict = model.predict(features)\n",
    "    else:\n",
    "        predict = (model.predict_proba(features)[:, 1] > threshold).astype(int)\n",
    "    accuracy_valid = accuracy_score(target, predict)\n",
    "    f1 = f1_score(target, predict)\n",
    "    \n",
    "    precision = precision_score(target, predict, average=None)\n",
    "    recall = recall_score(target, predict, average=None)\n",
    "    \n",
    "    if threshold is not None:\n",
    "        proba = model.predict_proba(features)\n",
    "        roc_auc = roc_auc_score(target, proba[:, 1])\n",
    "    \n",
    "    print(f'Metrics on {sample_type}')\n",
    "    print(\"----------------------------------------------------------\")\n",
    "    print(f'Accuracy ___________: {accuracy_valid:.4f}')\n",
    "    print(f'F1 _________________: {f1:.4f}')\n",
    "    if threshold is not None:\n",
    "        print(f'ROC-AUC ____________: {roc_auc:.4f}')\n",
    "    print()\n",
    "    print(f'{\"\":<21}Class {0}:{\"\":<8}Class {1}:')\n",
    "    print()\n",
    "    print(f'Precision :{\"\":<10} {precision[0]:.4f}{\"\":<10}{precision[1]:.4f}')\n",
    "    print(f'Recall    :{\"\":<10} {recall[0]:.4f}{\"\":<10}{recall[1]:.4f}')\n",
    "    print(\"----------------------------------------------------------\")\n",
    "    \n",
    "    if plot and threshold is not None:\n",
    "        fpr, tpr, thresholds = roc_curve(target,  proba[:, 1])\n",
    "\n",
    "        fig = plt.figure(figsize=(8, 4))\n",
    "        ax1 = fig.add_subplot(1, 2, 1)\n",
    "        ax2 = fig.add_subplot(1, 2, 2)\n",
    "\n",
    "        ax1.plot(fpr, tpr)\n",
    "        ax1.set_xlabel('False Positive Rate')\n",
    "        ax1.set_ylabel('True Positive Rate')\n",
    "        ax1.set_title('ROC Curve')\n",
    "\n",
    "        group_names = ['True Neg','False Pos','False Neg','True Pos']\n",
    "        cm = confusion_matrix(target, predict)\n",
    "        group_counts = [\"{0:0.0f}\".format(value) for value in cm.flatten()]\n",
    "        group_percentages = [\"{0:.2%}\".format(value) for value in cm.flatten()/np.sum(cm)]\n",
    "        labels = [f\"{v1}\\n{v2}\\n{v3}\" for v1, v2, v3 in zip(group_names,group_counts,group_percentages)]\n",
    "        labels = np.asarray(labels).reshape(2,2)\n",
    "        sns.heatmap(cm, annot=labels, fmt='', cmap='Blues',ax=ax2);\n",
    "\n",
    "\n",
    "        plt.show()"
   ]
  },
  {
   "cell_type": "markdown",
   "metadata": {},
   "source": [
    "Посмотрим на результат на тесте и изменим порог"
   ]
  },
  {
   "cell_type": "markdown",
   "metadata": {},
   "source": [
    "**PassiveAggressive on BERT**"
   ]
  },
  {
   "cell_type": "code",
   "execution_count": 47,
   "metadata": {
    "scrolled": true
   },
   "outputs": [
    {
     "name": "stdout",
     "output_type": "stream",
     "text": [
      "Metrics on test\n",
      "----------------------------------------------------------\n",
      "Accuracy ___________: 0.9766\n",
      "F1 _________________: 0.8942\n",
      "\n",
      "                     Class 0:        Class 1:\n",
      "\n",
      "Precision :           0.9971          0.8256\n",
      "Recall    :           0.9767          0.9753\n",
      "----------------------------------------------------------\n"
     ]
    }
   ],
   "source": [
    "if embeddings_is_ready:    \n",
    "    train_valid_predict(pac_bert_model,features=X_test_BERT, target=y_test_BERT, plot = True)"
   ]
  },
  {
   "cell_type": "markdown",
   "metadata": {},
   "source": [
    "**PassiveAggressive on TF-IDF**"
   ]
  },
  {
   "cell_type": "code",
   "execution_count": 48,
   "metadata": {
    "scrolled": true
   },
   "outputs": [
    {
     "name": "stdout",
     "output_type": "stream",
     "text": [
      "Metrics on test\n",
      "----------------------------------------------------------\n",
      "Accuracy ___________: 0.9493\n",
      "F1 _________________: 0.7555\n",
      "\n",
      "                     Class 0:        Class 1:\n",
      "\n",
      "Precision :           0.9738          0.7417\n",
      "Recall    :           0.9697          0.7698\n",
      "----------------------------------------------------------\n"
     ]
    }
   ],
   "source": [
    "train_valid_predict(pac_model, plot = True)"
   ]
  },
  {
   "cell_type": "markdown",
   "metadata": {},
   "source": [
    "**Logistic Regression on TF-IDF**"
   ]
  },
  {
   "cell_type": "code",
   "execution_count": 49,
   "metadata": {
    "scrolled": false
   },
   "outputs": [
    {
     "name": "stdout",
     "output_type": "stream",
     "text": [
      "Metrics on test\n",
      "----------------------------------------------------------\n",
      "Accuracy ___________: 0.9561\n",
      "F1 _________________: 0.7760\n",
      "ROC-AUC ____________: 0.9629\n",
      "\n",
      "                     Class 0:        Class 1:\n",
      "\n",
      "Precision :           0.9717          0.8062\n",
      "Recall    :           0.9797          0.7479\n",
      "----------------------------------------------------------\n"
     ]
    },
    {
     "data": {
      "image/png": "[encoded data removed]",
      "text/plain": [
       "<Figure size 576x288 with 3 Axes>"
      ]
     },
     "metadata": {
      "needs_background": "light"
     },
     "output_type": "display_data"
    }
   ],
   "source": [
    "train_valid_predict(reg_model, plot = True, threshold = 0.7)"
   ]
  },
  {
   "cell_type": "code",
   "execution_count": 52,
   "metadata": {},
   "outputs": [
    {
     "data": {
      "image/png": "[encoded data removed]",
      "text/plain": [
       "<Figure size 1080x576 with 1 Axes>"
      ]
     },
     "metadata": {
      "needs_background": "light"
     },
     "output_type": "display_data"
    }
   ],
   "source": [
    "reg_vectorize = reg_model.best_estimator_.named_steps['transformer'].named_transformers_['vectorize']\n",
    "voc = reg_vectorize.get_feature_names_out()\n",
    "coefficients = reg_model.best_estimator_.named_steps['classifier'].coef_[0]\n",
    "\n",
    "word_importance = [(word, coef) for word, coef in zip(voc, coefficients)]\n",
    "word_importance.sort(key=lambda x: abs(x[1]), reverse=True)\n",
    "x = [x[0] for x in word_importance[:30]]\n",
    "y = [x[1] for x in word_importance[:30]]\n",
    "plt.figure(figsize=(15, 8))\n",
    "plt.barh(range(len(x)), y, align='center')\n",
    "plt.yticks(range(len(x)), x)\n",
    "plt.xlabel('Важность слова для модели')\n",
    "plt.ylabel('Слова')\n",
    "plt.gca().invert_yaxis()\n",
    "plt.show()"
   ]
  },
  {
   "cell_type": "markdown",
   "metadata": {},
   "source": [
    "<div style=\"border: 3px solid blue; border-radius: 5px; padding: 10px;\">\n",
    "    \n",
    "Вывод:\n",
    "    \n",
    "Логистическая регрессия и PassiveAggressive показали хороший результат на тестовой выборке без переобучения.\n",
    "    \n",
    "Изменения порога логистической регрессии (до 0.7) позволило немного поднять метрику\n",
    "    \n",
    "Наилучший результат показал PassiveAggressive обученная не эмбеддингах BERT: F1 - 0.8942\n"
   ]
  },
  {
   "cell_type": "markdown",
   "metadata": {},
   "source": [
    "## Выводы"
   ]
  },
  {
   "cell_type": "markdown",
   "metadata": {},
   "source": [
    "Был проведен подбор моделей для решения задачи определения токсичности комментариев.\n",
    "\n",
    "Было сделано:\n",
    "\n",
    "- Данные были загружены и изучены: пропусков и дубликатов нет, удален столбец индексов\n",
    "\n",
    "- Определен дисбаланс\n",
    "\n",
    "- проведен чатотный анализ текстов\n",
    "\n",
    "- Данные были подготовлены к обучению: тексты были очищены, лемматизированы и отчисщены от стоп слов, были добавлены новые признаки\n",
    "\n",
    "- Были обучены модели: PassiveAggressive, Логистическая регрессия, случайный лес, LightGBM\n",
    "\n",
    "    - во время обучения использовалась кроссвалидация\n",
    "    - перед обучении на каждом фолде данные преобразовались: апсемплинг, TF-IDF, скалирование\n",
    "    - для предотвращния утечки данных использовался конвеер\n",
    "    \n",
    "    \n",
    "- Лучший результат показалb:\n",
    "    - логистическая регрессии: F1 - 0.7582301\n",
    "    - PassiveAggressive: F1 - 0.7505263\n",
    "    \n",
    "- Так же была обучена PassiveAggressive на эмбеддингах с BERT\n",
    "    - PassiveAggressiveClassifier on BERT: F1 - 0.8811035\n",
    "\n",
    "\n",
    "- Лучший результа на тесте: \n",
    "    - PassiveAggressiveClassifier on BERT: F1 - 0.8942"
   ]
  },
  {
   "cell_type": "markdown",
   "metadata": {},
   "source": [
    "Для лучших результат рекомендуется расширить датасет, добавив токсичные тексты"
   ]
  }
 ],
 "metadata": {
  "ExecuteTimeLog": [
   {
    "duration": 122,
    "start_time": "2023-09-25T23:14:09.147Z"
   },
   {
    "duration": 7008,
    "start_time": "2023-09-25T23:14:09.271Z"
   },
   {
    "duration": 3857,
    "start_time": "2023-09-25T23:14:16.281Z"
   },
   {
    "duration": 178,
    "start_time": "2023-09-25T23:14:20.140Z"
   },
   {
    "duration": 2437,
    "start_time": "2023-09-25T23:14:20.320Z"
   },
   {
    "duration": 33,
    "start_time": "2023-09-25T23:14:22.759Z"
   },
   {
    "duration": 9,
    "start_time": "2023-09-25T23:14:22.794Z"
   },
   {
    "duration": 17,
    "start_time": "2023-09-25T23:14:22.805Z"
   },
   {
    "duration": 225,
    "start_time": "2023-09-25T23:14:22.824Z"
   },
   {
    "duration": 6,
    "start_time": "2023-09-25T23:14:23.051Z"
   },
   {
    "duration": 124,
    "start_time": "2023-09-25T23:14:23.059Z"
   },
   {
    "duration": 5,
    "start_time": "2023-09-25T23:14:23.186Z"
   },
   {
    "duration": 11,
    "start_time": "2023-09-25T23:14:23.202Z"
   },
   {
    "duration": 16,
    "start_time": "2023-09-25T23:14:23.216Z"
   },
   {
    "duration": 41764,
    "start_time": "2023-09-25T23:14:23.233Z"
   },
   {
    "duration": 30961,
    "start_time": "2023-09-25T23:15:04.999Z"
   },
   {
    "duration": 11,
    "start_time": "2023-09-25T23:15:35.962Z"
   },
   {
    "duration": 130,
    "start_time": "2023-09-25T23:15:35.975Z"
   },
   {
    "duration": 3,
    "start_time": "2023-09-25T23:15:36.107Z"
   },
   {
    "duration": 15,
    "start_time": "2023-09-25T23:15:36.112Z"
   },
   {
    "duration": 426124,
    "start_time": "2023-09-25T23:15:36.129Z"
   },
   {
    "duration": 953823,
    "start_time": "2023-09-25T23:22:42.255Z"
   },
   {
    "duration": 4720763,
    "start_time": "2023-09-25T23:38:36.080Z"
   },
   {
    "duration": 3,
    "start_time": "2023-09-26T00:57:16.845Z"
   },
   {
    "duration": 15,
    "start_time": "2023-09-26T00:57:16.850Z"
   },
   {
    "duration": 35,
    "start_time": "2023-09-26T00:57:16.867Z"
   },
   {
    "duration": 9,
    "start_time": "2023-09-26T00:57:16.905Z"
   },
   {
    "duration": 8,
    "start_time": "2023-09-26T00:57:16.916Z"
   },
   {
    "duration": 13,
    "start_time": "2023-09-26T00:57:16.925Z"
   },
   {
    "duration": 28,
    "start_time": "2023-09-26T00:57:16.940Z"
   },
   {
    "duration": 3356,
    "start_time": "2023-09-26T00:57:16.970Z"
   },
   {
    "duration": 2661,
    "start_time": "2023-09-26T11:44:16.116Z"
   },
   {
    "duration": 10354,
    "start_time": "2023-09-26T11:44:25.220Z"
   },
   {
    "duration": 44,
    "start_time": "2023-09-26T11:44:36.783Z"
   },
   {
    "duration": 3750,
    "start_time": "2023-09-26T11:44:56.611Z"
   },
   {
    "duration": 50,
    "start_time": "2023-09-26T11:45:06.634Z"
   },
   {
    "duration": 290,
    "start_time": "2023-09-26T11:47:09.302Z"
   },
   {
    "duration": 151,
    "start_time": "2023-09-26T11:47:12.425Z"
   },
   {
    "duration": 2410,
    "start_time": "2023-09-26T11:47:47.178Z"
   },
   {
    "duration": 33,
    "start_time": "2023-09-26T11:47:53.351Z"
   },
   {
    "duration": 17,
    "start_time": "2023-09-26T11:47:55.090Z"
   },
   {
    "duration": 13,
    "start_time": "2023-09-26T11:48:15.646Z"
   },
   {
    "duration": 227,
    "start_time": "2023-09-26T11:48:16.699Z"
   },
   {
    "duration": 7,
    "start_time": "2023-09-26T11:48:18.003Z"
   },
   {
    "duration": 119,
    "start_time": "2023-09-26T11:48:18.936Z"
   },
   {
    "duration": 6112,
    "start_time": "2023-09-26T12:03:39.873Z"
   },
   {
    "duration": 2825,
    "start_time": "2023-09-26T12:04:11.873Z"
   },
   {
    "duration": 543,
    "start_time": "2023-09-26T12:04:33.206Z"
   },
   {
    "duration": 14542,
    "start_time": "2023-09-26T12:04:56.607Z"
   },
   {
    "duration": 96,
    "start_time": "2023-09-26T12:05:20.863Z"
   },
   {
    "duration": 821,
    "start_time": "2023-09-26T12:05:35.699Z"
   },
   {
    "duration": 587,
    "start_time": "2023-09-26T12:06:15.896Z"
   },
   {
    "duration": 786,
    "start_time": "2023-09-26T12:06:34.265Z"
   },
   {
    "duration": 770,
    "start_time": "2023-09-26T12:06:47.561Z"
   },
   {
    "duration": 748,
    "start_time": "2023-09-26T12:07:05.310Z"
   },
   {
    "duration": 653,
    "start_time": "2023-09-26T12:10:05.739Z"
   },
   {
    "duration": 9,
    "start_time": "2023-09-26T12:12:47.482Z"
   },
   {
    "duration": 6,
    "start_time": "2023-09-26T12:12:50.045Z"
   },
   {
    "duration": 1627,
    "start_time": "2023-09-26T12:12:50.480Z"
   },
   {
    "duration": 45,
    "start_time": "2023-09-26T12:12:53.473Z"
   },
   {
    "duration": 16,
    "start_time": "2023-09-26T12:12:53.732Z"
   },
   {
    "duration": 14,
    "start_time": "2023-09-26T12:12:54.463Z"
   },
   {
    "duration": 257,
    "start_time": "2023-09-26T12:12:54.990Z"
   },
   {
    "duration": 7,
    "start_time": "2023-09-26T12:12:55.515Z"
   },
   {
    "duration": 124,
    "start_time": "2023-09-26T12:12:55.919Z"
   },
   {
    "duration": 9,
    "start_time": "2023-09-26T12:12:58.786Z"
   },
   {
    "duration": 92,
    "start_time": "2023-09-26T12:13:00.235Z"
   },
   {
    "duration": 493,
    "start_time": "2023-09-26T12:13:08.739Z"
   },
   {
    "duration": 640,
    "start_time": "2023-09-26T12:13:31.924Z"
   },
   {
    "duration": 786,
    "start_time": "2023-09-26T12:14:18.250Z"
   },
   {
    "duration": 6,
    "start_time": "2023-09-26T12:14:50.322Z"
   },
   {
    "duration": 16,
    "start_time": "2023-09-26T12:15:12.716Z"
   },
   {
    "duration": 6,
    "start_time": "2023-09-26T12:15:53.674Z"
   },
   {
    "duration": 16,
    "start_time": "2023-09-26T12:15:59.762Z"
   },
   {
    "duration": 13,
    "start_time": "2023-09-26T12:16:12.962Z"
   },
   {
    "duration": 605,
    "start_time": "2023-09-26T12:16:19.636Z"
   },
   {
    "duration": 17,
    "start_time": "2023-09-26T12:16:20.930Z"
   },
   {
    "duration": 10,
    "start_time": "2023-09-26T12:17:45.337Z"
   },
   {
    "duration": 932,
    "start_time": "2023-09-26T12:17:49.606Z"
   },
   {
    "duration": 13,
    "start_time": "2023-09-26T12:17:50.540Z"
   },
   {
    "duration": 49,
    "start_time": "2023-09-26T12:18:00.318Z"
   },
   {
    "duration": 13,
    "start_time": "2023-09-26T12:18:06.584Z"
   },
   {
    "duration": 6,
    "start_time": "2023-09-26T12:18:53.229Z"
   },
   {
    "duration": 16,
    "start_time": "2023-09-26T12:20:19.655Z"
   },
   {
    "duration": 8,
    "start_time": "2023-09-26T12:20:28.120Z"
   },
   {
    "duration": 8,
    "start_time": "2023-09-26T12:20:34.764Z"
   },
   {
    "duration": 17,
    "start_time": "2023-09-26T12:20:53.386Z"
   },
   {
    "duration": 15,
    "start_time": "2023-09-26T12:21:07.509Z"
   },
   {
    "duration": 17,
    "start_time": "2023-09-26T12:21:08.633Z"
   },
   {
    "duration": 11,
    "start_time": "2023-09-26T12:21:10.024Z"
   },
   {
    "duration": 2717,
    "start_time": "2023-09-26T12:21:39.261Z"
   },
   {
    "duration": 1895,
    "start_time": "2023-09-26T12:21:47.601Z"
   },
   {
    "duration": 1198,
    "start_time": "2023-09-26T12:21:52.083Z"
   },
   {
    "duration": 14,
    "start_time": "2023-09-26T12:22:03.162Z"
   },
   {
    "duration": 9,
    "start_time": "2023-09-26T12:22:11.548Z"
   },
   {
    "duration": 72,
    "start_time": "2023-09-26T12:22:37.855Z"
   },
   {
    "duration": 60,
    "start_time": "2023-09-26T12:23:32.606Z"
   },
   {
    "duration": 28,
    "start_time": "2023-09-26T12:23:40.736Z"
   },
   {
    "duration": 21,
    "start_time": "2023-09-26T12:23:54.807Z"
   },
   {
    "duration": 668,
    "start_time": "2023-09-26T12:23:58.552Z"
   },
   {
    "duration": 46,
    "start_time": "2023-09-26T12:24:00.827Z"
   },
   {
    "duration": 44,
    "start_time": "2023-09-26T12:24:05.457Z"
   },
   {
    "duration": 52,
    "start_time": "2023-09-26T12:24:33.535Z"
   },
   {
    "duration": 1255058,
    "start_time": "2023-09-26T12:25:08.665Z"
   },
   {
    "duration": 52,
    "start_time": "2023-09-26T21:51:54.336Z"
   },
   {
    "duration": 44241,
    "start_time": "2023-09-26T21:51:54.390Z"
   },
   {
    "duration": 10568,
    "start_time": "2023-09-26T21:52:38.634Z"
   },
   {
    "duration": 8735,
    "start_time": "2023-09-26T21:52:49.204Z"
   },
   {
    "duration": 536,
    "start_time": "2023-09-26T21:52:57.942Z"
   },
   {
    "duration": 2621,
    "start_time": "2023-09-26T21:52:58.479Z"
   },
   {
    "duration": 36,
    "start_time": "2023-09-26T21:53:01.102Z"
   },
   {
    "duration": 103,
    "start_time": "2023-09-26T21:53:01.140Z"
   },
   {
    "duration": 61,
    "start_time": "2023-09-26T21:53:01.245Z"
   },
   {
    "duration": 352,
    "start_time": "2023-09-26T21:53:01.309Z"
   },
   {
    "duration": 6,
    "start_time": "2023-09-26T21:53:01.663Z"
   },
   {
    "duration": 359,
    "start_time": "2023-09-26T21:53:01.671Z"
   },
   {
    "duration": 7,
    "start_time": "2023-09-26T21:53:02.032Z"
   },
   {
    "duration": 878,
    "start_time": "2023-09-26T21:53:02.042Z"
   },
   {
    "duration": 43,
    "start_time": "2023-09-26T21:53:02.922Z"
   },
   {
    "duration": 107,
    "start_time": "2023-09-26T21:53:02.967Z"
   },
   {
    "duration": 114,
    "start_time": "2023-09-26T21:53:03.076Z"
   },
   {
    "duration": 226145,
    "start_time": "2023-09-26T21:53:03.192Z"
   },
   {
    "duration": 0,
    "start_time": "2023-09-26T21:56:49.340Z"
   },
   {
    "duration": 0,
    "start_time": "2023-09-26T21:56:49.342Z"
   },
   {
    "duration": 0,
    "start_time": "2023-09-26T21:56:49.344Z"
   },
   {
    "duration": 0,
    "start_time": "2023-09-26T21:56:49.345Z"
   },
   {
    "duration": 0,
    "start_time": "2023-09-26T21:56:49.346Z"
   },
   {
    "duration": 0,
    "start_time": "2023-09-26T21:56:49.347Z"
   },
   {
    "duration": 0,
    "start_time": "2023-09-26T21:56:49.348Z"
   },
   {
    "duration": 0,
    "start_time": "2023-09-26T21:56:49.350Z"
   },
   {
    "duration": 0,
    "start_time": "2023-09-26T21:56:49.351Z"
   },
   {
    "duration": 0,
    "start_time": "2023-09-26T21:56:49.352Z"
   },
   {
    "duration": 0,
    "start_time": "2023-09-26T21:56:49.353Z"
   },
   {
    "duration": 0,
    "start_time": "2023-09-26T21:56:49.354Z"
   },
   {
    "duration": 0,
    "start_time": "2023-09-26T21:56:49.356Z"
   },
   {
    "duration": 0,
    "start_time": "2023-09-26T21:56:49.357Z"
   },
   {
    "duration": 0,
    "start_time": "2023-09-26T21:56:49.358Z"
   },
   {
    "duration": 0,
    "start_time": "2023-09-26T21:56:49.359Z"
   },
   {
    "duration": 0,
    "start_time": "2023-09-26T21:56:49.360Z"
   },
   {
    "duration": 0,
    "start_time": "2023-09-26T21:56:49.362Z"
   },
   {
    "duration": 0,
    "start_time": "2023-09-26T21:56:49.363Z"
   },
   {
    "duration": 0,
    "start_time": "2023-09-26T21:56:49.364Z"
   },
   {
    "duration": 0,
    "start_time": "2023-09-26T21:56:49.365Z"
   },
   {
    "duration": 0,
    "start_time": "2023-09-26T21:56:49.366Z"
   },
   {
    "duration": 0,
    "start_time": "2023-09-26T21:56:49.368Z"
   },
   {
    "duration": 0,
    "start_time": "2023-09-26T21:56:49.369Z"
   },
   {
    "duration": 0,
    "start_time": "2023-09-26T21:56:49.370Z"
   },
   {
    "duration": 0,
    "start_time": "2023-09-26T21:56:49.371Z"
   },
   {
    "duration": 0,
    "start_time": "2023-09-26T21:56:49.371Z"
   },
   {
    "duration": 0,
    "start_time": "2023-09-26T21:56:49.372Z"
   },
   {
    "duration": 0,
    "start_time": "2023-09-26T21:56:49.373Z"
   },
   {
    "duration": 0,
    "start_time": "2023-09-26T21:56:49.373Z"
   },
   {
    "duration": 0,
    "start_time": "2023-09-26T21:56:49.410Z"
   },
   {
    "duration": 10419,
    "start_time": "2023-09-26T22:03:09.030Z"
   },
   {
    "duration": 12,
    "start_time": "2023-09-26T22:03:36.023Z"
   },
   {
    "duration": 42,
    "start_time": "2023-09-26T22:03:38.097Z"
   },
   {
    "duration": 47,
    "start_time": "2023-09-26T22:03:49.069Z"
   },
   {
    "duration": 17097,
    "start_time": "2023-09-26T22:03:49.119Z"
   },
   {
    "duration": 7211,
    "start_time": "2023-09-26T22:04:06.218Z"
   },
   {
    "duration": 7436,
    "start_time": "2023-09-26T22:04:13.432Z"
   },
   {
    "duration": 191,
    "start_time": "2023-09-26T22:04:20.870Z"
   },
   {
    "duration": 994,
    "start_time": "2023-09-26T22:04:21.062Z"
   },
   {
    "duration": 36,
    "start_time": "2023-09-26T22:04:22.058Z"
   },
   {
    "duration": 27,
    "start_time": "2023-09-26T22:04:22.096Z"
   },
   {
    "duration": 15,
    "start_time": "2023-09-26T22:04:22.125Z"
   },
   {
    "duration": 264,
    "start_time": "2023-09-26T22:04:22.143Z"
   },
   {
    "duration": 8,
    "start_time": "2023-09-26T22:04:22.409Z"
   },
   {
    "duration": 160,
    "start_time": "2023-09-26T22:04:22.420Z"
   },
   {
    "duration": 9,
    "start_time": "2023-09-26T22:04:22.582Z"
   },
   {
    "duration": 771,
    "start_time": "2023-09-26T22:04:22.593Z"
   },
   {
    "duration": 2626,
    "start_time": "2023-09-26T22:04:23.366Z"
   },
   {
    "duration": 19,
    "start_time": "2023-09-26T22:04:25.994Z"
   },
   {
    "duration": 125,
    "start_time": "2023-09-26T22:04:26.014Z"
   },
   {
    "duration": 3,
    "start_time": "2023-09-26T22:04:26.141Z"
   },
   {
    "duration": 27,
    "start_time": "2023-09-26T22:04:26.146Z"
   },
   {
    "duration": 25,
    "start_time": "2023-09-26T22:04:26.175Z"
   },
   {
    "duration": 64,
    "start_time": "2023-09-26T22:04:26.202Z"
   },
   {
    "duration": 65,
    "start_time": "2023-09-26T22:04:26.268Z"
   },
   {
    "duration": 170,
    "start_time": "2023-09-26T22:04:26.335Z"
   },
   {
    "duration": 93,
    "start_time": "2023-09-26T22:04:26.507Z"
   },
   {
    "duration": 1618,
    "start_time": "2023-09-26T22:04:26.602Z"
   },
   {
    "duration": 400,
    "start_time": "2023-09-26T22:04:28.222Z"
   },
   {
    "duration": 66167,
    "start_time": "2023-09-26T22:04:28.624Z"
   },
   {
    "duration": 570,
    "start_time": "2023-09-26T22:05:34.794Z"
   },
   {
    "duration": 12,
    "start_time": "2023-09-26T22:05:35.367Z"
   },
   {
    "duration": 16,
    "start_time": "2023-09-26T22:05:35.381Z"
   },
   {
    "duration": 85,
    "start_time": "2023-09-26T22:05:35.399Z"
   },
   {
    "duration": 3,
    "start_time": "2023-09-26T22:05:35.486Z"
   },
   {
    "duration": 12,
    "start_time": "2023-09-26T22:05:35.491Z"
   },
   {
    "duration": 208898,
    "start_time": "2023-09-26T22:05:35.505Z"
   },
   {
    "duration": 404761,
    "start_time": "2023-09-26T22:09:04.405Z"
   },
   {
    "duration": 592279,
    "start_time": "2023-09-26T22:15:49.168Z"
   },
   {
    "duration": 2,
    "start_time": "2023-09-26T22:25:41.449Z"
   },
   {
    "duration": 7,
    "start_time": "2023-09-26T22:25:41.453Z"
   },
   {
    "duration": 13,
    "start_time": "2023-09-26T22:25:41.461Z"
   },
   {
    "duration": 8,
    "start_time": "2023-09-26T22:25:41.475Z"
   },
   {
    "duration": 16,
    "start_time": "2023-09-26T22:25:41.485Z"
   },
   {
    "duration": 8,
    "start_time": "2023-09-26T22:25:41.503Z"
   },
   {
    "duration": 32895,
    "start_time": "2023-09-26T22:25:41.512Z"
   },
   {
    "duration": 10044,
    "start_time": "2023-09-26T22:26:14.410Z"
   },
   {
    "duration": 16967,
    "start_time": "2023-09-26T22:26:24.456Z"
   },
   {
    "duration": 11,
    "start_time": "2023-09-26T22:26:41.425Z"
   },
   {
    "duration": 183,
    "start_time": "2023-09-26T22:26:41.439Z"
   },
   {
    "duration": 1211,
    "start_time": "2023-09-26T22:26:41.623Z"
   },
   {
    "duration": 2473,
    "start_time": "2023-09-26T22:26:42.836Z"
   },
   {
    "duration": 586,
    "start_time": "2023-09-26T22:28:27.010Z"
   },
   {
    "duration": 643,
    "start_time": "2023-09-26T22:28:33.825Z"
   },
   {
    "duration": 898,
    "start_time": "2023-09-26T22:28:38.124Z"
   }
  ],
  "kernelspec": {
   "display_name": "Python 3 (ipykernel)",
   "language": "python",
   "name": "python3"
  },
  "language_info": {
   "codemirror_mode": {
    "name": "ipython",
    "version": 3
   },
   "file_extension": ".py",
   "mimetype": "text/x-python",
   "name": "python",
   "nbconvert_exporter": "python",
   "pygments_lexer": "ipython3",
   "version": "3.8.5"
  },
  "toc": {
   "base_numbering": 1,
   "nav_menu": {},
   "number_sections": true,
   "sideBar": true,
   "skip_h1_title": true,
   "title_cell": "Содержание",
   "title_sidebar": "Contents",
   "toc_cell": true,
   "toc_position": {
    "height": "calc(100% - 180px)",
    "left": "10px",
    "top": "150px",
    "width": "302.391px"
   },
   "toc_section_display": true,
   "toc_window_display": false
  }
 },
 "nbformat": 4,
 "nbformat_minor": 2
}
