{
 "cells": [
  {
   "cell_type": "markdown",
   "metadata": {},
   "source": [
    "# Выбор локации для скважины"
   ]
  },
  {
   "cell_type": "markdown",
   "metadata": {},
   "source": [
    "Допустим, вы работаете в добывающей компании «ГлавРосГосНефть». Нужно решить, где бурить новую скважину.\n",
    "\n",
    "Вам предоставлены пробы нефти в трёх регионах: в каждом 10 000 месторождений, где измерили качество нефти и объём её запасов. Постройте модель машинного обучения, которая поможет определить регион, где добыча принесёт наибольшую прибыль. Проанализируйте возможную прибыль и риски техникой *Bootstrap.*\n",
    "\n",
    "Шаги для выбора локации:\n",
    "\n",
    "- В избранном регионе ищут месторождения, для каждого определяют значения признаков;\n",
    "- Строят модель и оценивают объём запасов;\n",
    "- Выбирают месторождения с самым высокими оценками значений. Количество месторождений зависит от бюджета компании и стоимости разработки одной скважины;\n",
    "- Прибыль равна суммарной прибыли отобранных месторождений."
   ]
  },
  {
   "cell_type": "markdown",
   "metadata": {},
   "source": [
    "`geo_data`:\n",
    "- `id` — уникальный идентификатор скважины;\n",
    "- `f0`, `f1`, `f2` — три признака точек;\n",
    "- `product` — объём запасов в скважине (тыс. баррелей)."
   ]
  },
  {
   "cell_type": "markdown",
   "metadata": {},
   "source": [
    "## Загрузка и подготовка данных"
   ]
  },
  {
   "cell_type": "code",
   "execution_count": 1,
   "metadata": {},
   "outputs": [],
   "source": [
    "import pandas as pd\n",
    "import matplotlib.pyplot as plt\n",
    "import seaborn as sns\n",
    "import numpy as np\n",
    "from numpy.random import RandomState\n",
    "from tqdm.notebook import trange\n",
    "\n",
    "from sklearn.model_selection import train_test_split\n",
    "from sklearn.preprocessing import StandardScaler\n",
    "from sklearn.linear_model import LinearRegression\n",
    "from sklearn.metrics import mean_squared_error"
   ]
  },
  {
   "cell_type": "code",
   "execution_count": 3,
   "metadata": {},
   "outputs": [],
   "source": [
    "try:\n",
    "    geo_data_0 = pd.read_csv('geo_data_0.csv')\n",
    "    geo_data_1 = pd.read_csv('geo_data_1.csv')\n",
    "    geo_data_2 = pd.read_csv('geo_data_2.csv')\n",
    "except:\n",
    "    geo_data_0 = pd.read_csv('/datasets/geo_data_0.csv')\n",
    "    geo_data_1 = pd.read_csv('/datasets/geo_data_1.csv')\n",
    "    geo_data_2 = pd.read_csv('/datasets/geo_data_2.csv')"
   ]
  },
  {
   "cell_type": "markdown",
   "metadata": {},
   "source": [
    "Работа построена так, что ее межно быстро адаптировать для подобной задачи, но для новых регионов"
   ]
  },
  {
   "cell_type": "code",
   "execution_count": 4,
   "metadata": {},
   "outputs": [],
   "source": [
    "geo_data = [geo_data_0, geo_data_1, geo_data_2]"
   ]
  },
  {
   "cell_type": "markdown",
   "metadata": {},
   "source": [
    "<div class=\"alert alert-success\">\n",
    "<h2> Комментарий ревьюера ✔️ <a class=\"tocSkip\"> </h2>\n",
    "\n",
    "Здорово, что ты используешь конструкцию `try-except`, это повышает отказоустойчивость кода\n",
    "\n",
    "</div>\n"
   ]
  },
  {
   "cell_type": "markdown",
   "metadata": {},
   "source": [
    "**Изучим данные**"
   ]
  },
  {
   "cell_type": "code",
   "execution_count": 6,
   "metadata": {
    "scrolled": false
   },
   "outputs": [
    {
     "data": {
      "text/html": [
       "<div>\n",
       "<style scoped>\n",
       "    .dataframe tbody tr th:only-of-type {\n",
       "        vertical-align: middle;\n",
       "    }\n",
       "\n",
       "    .dataframe tbody tr th {\n",
       "        vertical-align: top;\n",
       "    }\n",
       "\n",
       "    .dataframe thead th {\n",
       "        text-align: right;\n",
       "    }\n",
       "</style>\n",
       "<table border=\"1\" class=\"dataframe\">\n",
       "  <thead>\n",
       "    <tr style=\"text-align: right;\">\n",
       "      <th></th>\n",
       "      <th>id</th>\n",
       "      <th>f0</th>\n",
       "      <th>f1</th>\n",
       "      <th>f2</th>\n",
       "      <th>product</th>\n",
       "    </tr>\n",
       "  </thead>\n",
       "  <tbody>\n",
       "    <tr>\n",
       "      <th>0</th>\n",
       "      <td>txEyH</td>\n",
       "      <td>0.705745</td>\n",
       "      <td>-0.497823</td>\n",
       "      <td>1.221170</td>\n",
       "      <td>105.280062</td>\n",
       "    </tr>\n",
       "    <tr>\n",
       "      <th>1</th>\n",
       "      <td>2acmU</td>\n",
       "      <td>1.334711</td>\n",
       "      <td>-0.340164</td>\n",
       "      <td>4.365080</td>\n",
       "      <td>73.037750</td>\n",
       "    </tr>\n",
       "    <tr>\n",
       "      <th>2</th>\n",
       "      <td>409Wp</td>\n",
       "      <td>1.022732</td>\n",
       "      <td>0.151990</td>\n",
       "      <td>1.419926</td>\n",
       "      <td>85.265647</td>\n",
       "    </tr>\n",
       "    <tr>\n",
       "      <th>3</th>\n",
       "      <td>iJLyR</td>\n",
       "      <td>-0.032172</td>\n",
       "      <td>0.139033</td>\n",
       "      <td>2.978566</td>\n",
       "      <td>168.620776</td>\n",
       "    </tr>\n",
       "    <tr>\n",
       "      <th>4</th>\n",
       "      <td>Xdl7t</td>\n",
       "      <td>1.988431</td>\n",
       "      <td>0.155413</td>\n",
       "      <td>4.751769</td>\n",
       "      <td>154.036647</td>\n",
       "    </tr>\n",
       "  </tbody>\n",
       "</table>\n",
       "</div>"
      ],
      "text/plain": [
       "      id        f0        f1        f2     product\n",
       "0  txEyH  0.705745 -0.497823  1.221170  105.280062\n",
       "1  2acmU  1.334711 -0.340164  4.365080   73.037750\n",
       "2  409Wp  1.022732  0.151990  1.419926   85.265647\n",
       "3  iJLyR -0.032172  0.139033  2.978566  168.620776\n",
       "4  Xdl7t  1.988431  0.155413  4.751769  154.036647"
      ]
     },
     "metadata": {},
     "output_type": "display_data"
    },
    {
     "data": {
      "text/html": [
       "<div>\n",
       "<style scoped>\n",
       "    .dataframe tbody tr th:only-of-type {\n",
       "        vertical-align: middle;\n",
       "    }\n",
       "\n",
       "    .dataframe tbody tr th {\n",
       "        vertical-align: top;\n",
       "    }\n",
       "\n",
       "    .dataframe thead th {\n",
       "        text-align: right;\n",
       "    }\n",
       "</style>\n",
       "<table border=\"1\" class=\"dataframe\">\n",
       "  <thead>\n",
       "    <tr style=\"text-align: right;\">\n",
       "      <th></th>\n",
       "      <th>id</th>\n",
       "      <th>f0</th>\n",
       "      <th>f1</th>\n",
       "      <th>f2</th>\n",
       "      <th>product</th>\n",
       "    </tr>\n",
       "  </thead>\n",
       "  <tbody>\n",
       "    <tr>\n",
       "      <th>0</th>\n",
       "      <td>kBEdx</td>\n",
       "      <td>-15.001348</td>\n",
       "      <td>-8.276000</td>\n",
       "      <td>-0.005876</td>\n",
       "      <td>3.179103</td>\n",
       "    </tr>\n",
       "    <tr>\n",
       "      <th>1</th>\n",
       "      <td>62mP7</td>\n",
       "      <td>14.272088</td>\n",
       "      <td>-3.475083</td>\n",
       "      <td>0.999183</td>\n",
       "      <td>26.953261</td>\n",
       "    </tr>\n",
       "    <tr>\n",
       "      <th>2</th>\n",
       "      <td>vyE1P</td>\n",
       "      <td>6.263187</td>\n",
       "      <td>-5.948386</td>\n",
       "      <td>5.001160</td>\n",
       "      <td>134.766305</td>\n",
       "    </tr>\n",
       "    <tr>\n",
       "      <th>3</th>\n",
       "      <td>KcrkZ</td>\n",
       "      <td>-13.081196</td>\n",
       "      <td>-11.506057</td>\n",
       "      <td>4.999415</td>\n",
       "      <td>137.945408</td>\n",
       "    </tr>\n",
       "    <tr>\n",
       "      <th>4</th>\n",
       "      <td>AHL4O</td>\n",
       "      <td>12.702195</td>\n",
       "      <td>-8.147433</td>\n",
       "      <td>5.004363</td>\n",
       "      <td>134.766305</td>\n",
       "    </tr>\n",
       "  </tbody>\n",
       "</table>\n",
       "</div>"
      ],
      "text/plain": [
       "      id         f0         f1        f2     product\n",
       "0  kBEdx -15.001348  -8.276000 -0.005876    3.179103\n",
       "1  62mP7  14.272088  -3.475083  0.999183   26.953261\n",
       "2  vyE1P   6.263187  -5.948386  5.001160  134.766305\n",
       "3  KcrkZ -13.081196 -11.506057  4.999415  137.945408\n",
       "4  AHL4O  12.702195  -8.147433  5.004363  134.766305"
      ]
     },
     "metadata": {},
     "output_type": "display_data"
    },
    {
     "data": {
      "text/html": [
       "<div>\n",
       "<style scoped>\n",
       "    .dataframe tbody tr th:only-of-type {\n",
       "        vertical-align: middle;\n",
       "    }\n",
       "\n",
       "    .dataframe tbody tr th {\n",
       "        vertical-align: top;\n",
       "    }\n",
       "\n",
       "    .dataframe thead th {\n",
       "        text-align: right;\n",
       "    }\n",
       "</style>\n",
       "<table border=\"1\" class=\"dataframe\">\n",
       "  <thead>\n",
       "    <tr style=\"text-align: right;\">\n",
       "      <th></th>\n",
       "      <th>id</th>\n",
       "      <th>f0</th>\n",
       "      <th>f1</th>\n",
       "      <th>f2</th>\n",
       "      <th>product</th>\n",
       "    </tr>\n",
       "  </thead>\n",
       "  <tbody>\n",
       "    <tr>\n",
       "      <th>0</th>\n",
       "      <td>fwXo0</td>\n",
       "      <td>-1.146987</td>\n",
       "      <td>0.963328</td>\n",
       "      <td>-0.828965</td>\n",
       "      <td>27.758673</td>\n",
       "    </tr>\n",
       "    <tr>\n",
       "      <th>1</th>\n",
       "      <td>WJtFt</td>\n",
       "      <td>0.262778</td>\n",
       "      <td>0.269839</td>\n",
       "      <td>-2.530187</td>\n",
       "      <td>56.069697</td>\n",
       "    </tr>\n",
       "    <tr>\n",
       "      <th>2</th>\n",
       "      <td>ovLUW</td>\n",
       "      <td>0.194587</td>\n",
       "      <td>0.289035</td>\n",
       "      <td>-5.586433</td>\n",
       "      <td>62.871910</td>\n",
       "    </tr>\n",
       "    <tr>\n",
       "      <th>3</th>\n",
       "      <td>q6cA6</td>\n",
       "      <td>2.236060</td>\n",
       "      <td>-0.553760</td>\n",
       "      <td>0.930038</td>\n",
       "      <td>114.572842</td>\n",
       "    </tr>\n",
       "    <tr>\n",
       "      <th>4</th>\n",
       "      <td>WPMUX</td>\n",
       "      <td>-0.515993</td>\n",
       "      <td>1.716266</td>\n",
       "      <td>5.899011</td>\n",
       "      <td>149.600746</td>\n",
       "    </tr>\n",
       "  </tbody>\n",
       "</table>\n",
       "</div>"
      ],
      "text/plain": [
       "      id        f0        f1        f2     product\n",
       "0  fwXo0 -1.146987  0.963328 -0.828965   27.758673\n",
       "1  WJtFt  0.262778  0.269839 -2.530187   56.069697\n",
       "2  ovLUW  0.194587  0.289035 -5.586433   62.871910\n",
       "3  q6cA6  2.236060 -0.553760  0.930038  114.572842\n",
       "4  WPMUX -0.515993  1.716266  5.899011  149.600746"
      ]
     },
     "metadata": {},
     "output_type": "display_data"
    }
   ],
   "source": [
    "for geo in geo_data:\n",
    "    display(geo.head())"
   ]
  },
  {
   "cell_type": "code",
   "execution_count": 9,
   "metadata": {
    "scrolled": false
   },
   "outputs": [
    {
     "name": "stdout",
     "output_type": "stream",
     "text": [
      "<class 'pandas.core.frame.DataFrame'>\n",
      "RangeIndex: 100000 entries, 0 to 99999\n",
      "Data columns (total 5 columns):\n",
      " #   Column   Non-Null Count   Dtype  \n",
      "---  ------   --------------   -----  \n",
      " 0   id       100000 non-null  object \n",
      " 1   f0       100000 non-null  float64\n",
      " 2   f1       100000 non-null  float64\n",
      " 3   f2       100000 non-null  float64\n",
      " 4   product  100000 non-null  float64\n",
      "dtypes: float64(4), object(1)\n",
      "memory usage: 3.8+ MB\n"
     ]
    },
    {
     "data": {
      "text/plain": [
       "None"
      ]
     },
     "metadata": {},
     "output_type": "display_data"
    },
    {
     "name": "stdout",
     "output_type": "stream",
     "text": [
      "<class 'pandas.core.frame.DataFrame'>\n",
      "RangeIndex: 100000 entries, 0 to 99999\n",
      "Data columns (total 5 columns):\n",
      " #   Column   Non-Null Count   Dtype  \n",
      "---  ------   --------------   -----  \n",
      " 0   id       100000 non-null  object \n",
      " 1   f0       100000 non-null  float64\n",
      " 2   f1       100000 non-null  float64\n",
      " 3   f2       100000 non-null  float64\n",
      " 4   product  100000 non-null  float64\n",
      "dtypes: float64(4), object(1)\n",
      "memory usage: 3.8+ MB\n"
     ]
    },
    {
     "data": {
      "text/plain": [
       "None"
      ]
     },
     "metadata": {},
     "output_type": "display_data"
    },
    {
     "name": "stdout",
     "output_type": "stream",
     "text": [
      "<class 'pandas.core.frame.DataFrame'>\n",
      "RangeIndex: 100000 entries, 0 to 99999\n",
      "Data columns (total 5 columns):\n",
      " #   Column   Non-Null Count   Dtype  \n",
      "---  ------   --------------   -----  \n",
      " 0   id       100000 non-null  object \n",
      " 1   f0       100000 non-null  float64\n",
      " 2   f1       100000 non-null  float64\n",
      " 3   f2       100000 non-null  float64\n",
      " 4   product  100000 non-null  float64\n",
      "dtypes: float64(4), object(1)\n",
      "memory usage: 3.8+ MB\n"
     ]
    },
    {
     "data": {
      "text/plain": [
       "None"
      ]
     },
     "metadata": {},
     "output_type": "display_data"
    }
   ],
   "source": [
    "for geo in geo_data:\n",
    "    display(geo.info())"
   ]
  },
  {
   "cell_type": "markdown",
   "metadata": {},
   "source": [
    "Пропусков нет"
   ]
  },
  {
   "cell_type": "code",
   "execution_count": 10,
   "metadata": {
    "scrolled": false
   },
   "outputs": [
    {
     "data": {
      "text/html": [
       "<div>\n",
       "<style scoped>\n",
       "    .dataframe tbody tr th:only-of-type {\n",
       "        vertical-align: middle;\n",
       "    }\n",
       "\n",
       "    .dataframe tbody tr th {\n",
       "        vertical-align: top;\n",
       "    }\n",
       "\n",
       "    .dataframe thead th {\n",
       "        text-align: right;\n",
       "    }\n",
       "</style>\n",
       "<table border=\"1\" class=\"dataframe\">\n",
       "  <thead>\n",
       "    <tr style=\"text-align: right;\">\n",
       "      <th></th>\n",
       "      <th>f0</th>\n",
       "      <th>f1</th>\n",
       "      <th>f2</th>\n",
       "      <th>product</th>\n",
       "    </tr>\n",
       "  </thead>\n",
       "  <tbody>\n",
       "    <tr>\n",
       "      <th>count</th>\n",
       "      <td>100000.000000</td>\n",
       "      <td>100000.000000</td>\n",
       "      <td>100000.000000</td>\n",
       "      <td>100000.000000</td>\n",
       "    </tr>\n",
       "    <tr>\n",
       "      <th>mean</th>\n",
       "      <td>0.500419</td>\n",
       "      <td>0.250143</td>\n",
       "      <td>2.502647</td>\n",
       "      <td>92.500000</td>\n",
       "    </tr>\n",
       "    <tr>\n",
       "      <th>std</th>\n",
       "      <td>0.871832</td>\n",
       "      <td>0.504433</td>\n",
       "      <td>3.248248</td>\n",
       "      <td>44.288691</td>\n",
       "    </tr>\n",
       "    <tr>\n",
       "      <th>min</th>\n",
       "      <td>-1.408605</td>\n",
       "      <td>-0.848218</td>\n",
       "      <td>-12.088328</td>\n",
       "      <td>0.000000</td>\n",
       "    </tr>\n",
       "    <tr>\n",
       "      <th>25%</th>\n",
       "      <td>-0.072580</td>\n",
       "      <td>-0.200881</td>\n",
       "      <td>0.287748</td>\n",
       "      <td>56.497507</td>\n",
       "    </tr>\n",
       "    <tr>\n",
       "      <th>50%</th>\n",
       "      <td>0.502360</td>\n",
       "      <td>0.250252</td>\n",
       "      <td>2.515969</td>\n",
       "      <td>91.849972</td>\n",
       "    </tr>\n",
       "    <tr>\n",
       "      <th>75%</th>\n",
       "      <td>1.073581</td>\n",
       "      <td>0.700646</td>\n",
       "      <td>4.715088</td>\n",
       "      <td>128.564089</td>\n",
       "    </tr>\n",
       "    <tr>\n",
       "      <th>max</th>\n",
       "      <td>2.362331</td>\n",
       "      <td>1.343769</td>\n",
       "      <td>16.003790</td>\n",
       "      <td>185.364347</td>\n",
       "    </tr>\n",
       "  </tbody>\n",
       "</table>\n",
       "</div>"
      ],
      "text/plain": [
       "                  f0             f1             f2        product\n",
       "count  100000.000000  100000.000000  100000.000000  100000.000000\n",
       "mean        0.500419       0.250143       2.502647      92.500000\n",
       "std         0.871832       0.504433       3.248248      44.288691\n",
       "min        -1.408605      -0.848218     -12.088328       0.000000\n",
       "25%        -0.072580      -0.200881       0.287748      56.497507\n",
       "50%         0.502360       0.250252       2.515969      91.849972\n",
       "75%         1.073581       0.700646       4.715088     128.564089\n",
       "max         2.362331       1.343769      16.003790     185.364347"
      ]
     },
     "metadata": {},
     "output_type": "display_data"
    },
    {
     "data": {
      "text/html": [
       "<div>\n",
       "<style scoped>\n",
       "    .dataframe tbody tr th:only-of-type {\n",
       "        vertical-align: middle;\n",
       "    }\n",
       "\n",
       "    .dataframe tbody tr th {\n",
       "        vertical-align: top;\n",
       "    }\n",
       "\n",
       "    .dataframe thead th {\n",
       "        text-align: right;\n",
       "    }\n",
       "</style>\n",
       "<table border=\"1\" class=\"dataframe\">\n",
       "  <thead>\n",
       "    <tr style=\"text-align: right;\">\n",
       "      <th></th>\n",
       "      <th>f0</th>\n",
       "      <th>f1</th>\n",
       "      <th>f2</th>\n",
       "      <th>product</th>\n",
       "    </tr>\n",
       "  </thead>\n",
       "  <tbody>\n",
       "    <tr>\n",
       "      <th>count</th>\n",
       "      <td>100000.000000</td>\n",
       "      <td>100000.000000</td>\n",
       "      <td>100000.000000</td>\n",
       "      <td>100000.000000</td>\n",
       "    </tr>\n",
       "    <tr>\n",
       "      <th>mean</th>\n",
       "      <td>1.141296</td>\n",
       "      <td>-4.796579</td>\n",
       "      <td>2.494541</td>\n",
       "      <td>68.825000</td>\n",
       "    </tr>\n",
       "    <tr>\n",
       "      <th>std</th>\n",
       "      <td>8.965932</td>\n",
       "      <td>5.119872</td>\n",
       "      <td>1.703572</td>\n",
       "      <td>45.944423</td>\n",
       "    </tr>\n",
       "    <tr>\n",
       "      <th>min</th>\n",
       "      <td>-31.609576</td>\n",
       "      <td>-26.358598</td>\n",
       "      <td>-0.018144</td>\n",
       "      <td>0.000000</td>\n",
       "    </tr>\n",
       "    <tr>\n",
       "      <th>25%</th>\n",
       "      <td>-6.298551</td>\n",
       "      <td>-8.267985</td>\n",
       "      <td>1.000021</td>\n",
       "      <td>26.953261</td>\n",
       "    </tr>\n",
       "    <tr>\n",
       "      <th>50%</th>\n",
       "      <td>1.153055</td>\n",
       "      <td>-4.813172</td>\n",
       "      <td>2.011479</td>\n",
       "      <td>57.085625</td>\n",
       "    </tr>\n",
       "    <tr>\n",
       "      <th>75%</th>\n",
       "      <td>8.621015</td>\n",
       "      <td>-1.332816</td>\n",
       "      <td>3.999904</td>\n",
       "      <td>107.813044</td>\n",
       "    </tr>\n",
       "    <tr>\n",
       "      <th>max</th>\n",
       "      <td>29.421755</td>\n",
       "      <td>18.734063</td>\n",
       "      <td>5.019721</td>\n",
       "      <td>137.945408</td>\n",
       "    </tr>\n",
       "  </tbody>\n",
       "</table>\n",
       "</div>"
      ],
      "text/plain": [
       "                  f0             f1             f2        product\n",
       "count  100000.000000  100000.000000  100000.000000  100000.000000\n",
       "mean        1.141296      -4.796579       2.494541      68.825000\n",
       "std         8.965932       5.119872       1.703572      45.944423\n",
       "min       -31.609576     -26.358598      -0.018144       0.000000\n",
       "25%        -6.298551      -8.267985       1.000021      26.953261\n",
       "50%         1.153055      -4.813172       2.011479      57.085625\n",
       "75%         8.621015      -1.332816       3.999904     107.813044\n",
       "max        29.421755      18.734063       5.019721     137.945408"
      ]
     },
     "metadata": {},
     "output_type": "display_data"
    },
    {
     "data": {
      "text/html": [
       "<div>\n",
       "<style scoped>\n",
       "    .dataframe tbody tr th:only-of-type {\n",
       "        vertical-align: middle;\n",
       "    }\n",
       "\n",
       "    .dataframe tbody tr th {\n",
       "        vertical-align: top;\n",
       "    }\n",
       "\n",
       "    .dataframe thead th {\n",
       "        text-align: right;\n",
       "    }\n",
       "</style>\n",
       "<table border=\"1\" class=\"dataframe\">\n",
       "  <thead>\n",
       "    <tr style=\"text-align: right;\">\n",
       "      <th></th>\n",
       "      <th>f0</th>\n",
       "      <th>f1</th>\n",
       "      <th>f2</th>\n",
       "      <th>product</th>\n",
       "    </tr>\n",
       "  </thead>\n",
       "  <tbody>\n",
       "    <tr>\n",
       "      <th>count</th>\n",
       "      <td>100000.000000</td>\n",
       "      <td>100000.000000</td>\n",
       "      <td>100000.000000</td>\n",
       "      <td>100000.000000</td>\n",
       "    </tr>\n",
       "    <tr>\n",
       "      <th>mean</th>\n",
       "      <td>0.002023</td>\n",
       "      <td>-0.002081</td>\n",
       "      <td>2.495128</td>\n",
       "      <td>95.000000</td>\n",
       "    </tr>\n",
       "    <tr>\n",
       "      <th>std</th>\n",
       "      <td>1.732045</td>\n",
       "      <td>1.730417</td>\n",
       "      <td>3.473445</td>\n",
       "      <td>44.749921</td>\n",
       "    </tr>\n",
       "    <tr>\n",
       "      <th>min</th>\n",
       "      <td>-8.760004</td>\n",
       "      <td>-7.084020</td>\n",
       "      <td>-11.970335</td>\n",
       "      <td>0.000000</td>\n",
       "    </tr>\n",
       "    <tr>\n",
       "      <th>25%</th>\n",
       "      <td>-1.162288</td>\n",
       "      <td>-1.174820</td>\n",
       "      <td>0.130359</td>\n",
       "      <td>59.450441</td>\n",
       "    </tr>\n",
       "    <tr>\n",
       "      <th>50%</th>\n",
       "      <td>0.009424</td>\n",
       "      <td>-0.009482</td>\n",
       "      <td>2.484236</td>\n",
       "      <td>94.925613</td>\n",
       "    </tr>\n",
       "    <tr>\n",
       "      <th>75%</th>\n",
       "      <td>1.158535</td>\n",
       "      <td>1.163678</td>\n",
       "      <td>4.858794</td>\n",
       "      <td>130.595027</td>\n",
       "    </tr>\n",
       "    <tr>\n",
       "      <th>max</th>\n",
       "      <td>7.238262</td>\n",
       "      <td>7.844801</td>\n",
       "      <td>16.739402</td>\n",
       "      <td>190.029838</td>\n",
       "    </tr>\n",
       "  </tbody>\n",
       "</table>\n",
       "</div>"
      ],
      "text/plain": [
       "                  f0             f1             f2        product\n",
       "count  100000.000000  100000.000000  100000.000000  100000.000000\n",
       "mean        0.002023      -0.002081       2.495128      95.000000\n",
       "std         1.732045       1.730417       3.473445      44.749921\n",
       "min        -8.760004      -7.084020     -11.970335       0.000000\n",
       "25%        -1.162288      -1.174820       0.130359      59.450441\n",
       "50%         0.009424      -0.009482       2.484236      94.925613\n",
       "75%         1.158535       1.163678       4.858794     130.595027\n",
       "max         7.238262       7.844801      16.739402     190.029838"
      ]
     },
     "metadata": {},
     "output_type": "display_data"
    }
   ],
   "source": [
    "for geo in geo_data:\n",
    "    display(geo.describe())"
   ]
  },
  {
   "cell_type": "markdown",
   "metadata": {},
   "source": [
    "Все признаки примерно одного порядка и разбросаны в малом диапазоне"
   ]
  },
  {
   "cell_type": "markdown",
   "metadata": {},
   "source": [
    "**Взглянем на взаимосвязи между столбцами**"
   ]
  },
  {
   "cell_type": "code",
   "execution_count": 11,
   "metadata": {
    "scrolled": false
   },
   "outputs": [
    {
     "data": {
      "image/png": "[encoded data removed]",
      "text/plain": [
       "<Figure size 720x720 with 16 Axes>"
      ]
     },
     "metadata": {
      "needs_background": "light"
     },
     "output_type": "display_data"
    },
    {
     "data": {
      "image/png": "[encoded data removed]",
      "text/plain": [
       "<Figure size 720x720 with 16 Axes>"
      ]
     },
     "metadata": {
      "needs_background": "light"
     },
     "output_type": "display_data"
    },
    {
     "data": {
      "image/png": "[encoded data removed]",
      "text/plain": [
       "<Figure size 720x720 with 16 Axes>"
      ]
     },
     "metadata": {
      "needs_background": "light"
     },
     "output_type": "display_data"
    }
   ],
   "source": [
    "for i,geo in enumerate(geo_data):\n",
    "    pd.plotting.scatter_matrix(geo, alpha=0.8, figsize=(10, 10), diagonal='hist')\n",
    "    plt.suptitle(f'Визуальная сводка по взаимосвязям между столбцами в geo_data_{i}', fontsize=16)\n",
    "    plt.show()"
   ]
  },
  {
   "cell_type": "markdown",
   "metadata": {},
   "source": [
    "В каждом датасете проглядываются определенные паттерны взаимодествия между столбцами"
   ]
  },
  {
   "cell_type": "markdown",
   "metadata": {},
   "source": [
    "**Посмотрим на корреляцию между столбцами**"
   ]
  },
  {
   "cell_type": "code",
   "execution_count": 12,
   "metadata": {
    "scrolled": false
   },
   "outputs": [
    {
     "data": {
      "image/png": "[encoded data removed]",
      "text/plain": [
       "<Figure size 1080x288 with 3 Axes>"
      ]
     },
     "metadata": {
      "needs_background": "light"
     },
     "output_type": "display_data"
    }
   ],
   "source": [
    "fig, axes = plt.subplots(nrows=1, ncols=3, figsize=(15, 4))\n",
    "for i, geo in enumerate(geo_data):\n",
    "    geo_corr = geo.drop(['id'],axis=1).corr()\n",
    "    sns.heatmap(geo_corr, annot=True, cmap='coolwarm', fmt='.2f', \n",
    "                linewidths=0.5,ax=axes[i], square=True, cbar=False)\n",
    "    axes[i].set_title(f'geo_corr {i}', fontsize=16)\n",
    "\n",
    "plt.show()"
   ]
  },
  {
   "cell_type": "markdown",
   "metadata": {},
   "source": [
    "Видно, что вторая и третья матрица имеют странные зависимости между столбцами(корреляция 0 и 1)"
   ]
  },
  {
   "cell_type": "markdown",
   "metadata": {},
   "source": [
    "**Посмотрим на распределение столбцов `product`**"
   ]
  },
  {
   "cell_type": "code",
   "execution_count": 13,
   "metadata": {
    "scrolled": false
   },
   "outputs": [
    {
     "data": {
      "image/png": "[encoded data removed]",
      "text/plain": [
       "<Figure size 576x360 with 1 Axes>"
      ]
     },
     "metadata": {
      "needs_background": "light"
     },
     "output_type": "display_data"
    }
   ],
   "source": [
    "fig, ax = plt.subplots(figsize=(8, 5))\n",
    "for i,geo in enumerate(geo_data):\n",
    "    ax.hist(geo['product'], bins=30, alpha=0.7, label=f'geo_data_{i}')\n",
    "\n",
    "ax.legend()\n",
    "plt.title('Распределение product по всем месторождениям')\n",
    "plt.xlabel('Значения')\n",
    "plt.ylabel('Частота')\n",
    "plt.show()"
   ]
  },
  {
   "cell_type": "markdown",
   "metadata": {},
   "source": [
    "Распределение столбцов `product` так же немного странное (особенность синтетических данных)"
   ]
  },
  {
   "cell_type": "markdown",
   "metadata": {},
   "source": [
    "**Проверим наличие дубликатов**"
   ]
  },
  {
   "cell_type": "code",
   "execution_count": 14,
   "metadata": {
    "scrolled": false
   },
   "outputs": [
    {
     "name": "stdout",
     "output_type": "stream",
     "text": [
      "10\n",
      "4\n",
      "4\n"
     ]
    }
   ],
   "source": [
    "for geo in geo_data:\n",
    "    print(geo.duplicated(subset=['id']).sum())"
   ]
  },
  {
   "cell_type": "code",
   "execution_count": 15,
   "metadata": {
    "scrolled": true
   },
   "outputs": [
    {
     "name": "stdout",
     "output_type": "stream",
     "text": [
      "0\n",
      "0\n",
      "0\n"
     ]
    }
   ],
   "source": [
    "for geo in geo_data:\n",
    "    print(geo.duplicated(subset=['f0','f1','f2']).sum())"
   ]
  },
  {
   "cell_type": "markdown",
   "metadata": {},
   "source": [
    "**Удалим столбец `id`**"
   ]
  },
  {
   "cell_type": "code",
   "execution_count": 16,
   "metadata": {},
   "outputs": [],
   "source": [
    "for i,geo in enumerate(geo_data):\n",
    "    geo_data[i] = geo.drop (['id'],axis=1)"
   ]
  },
  {
   "cell_type": "markdown",
   "metadata": {},
   "source": [
    "<div style=\"border: 3px solid blue; border-radius: 5px; padding: 10px;\">\n",
    "Вывод:\n",
    "    \n",
    "    Были изучены данные.\n",
    "    Предоставлено 3 датасета с набором 10000 строк.\n",
    "    1) Пропусков нет\n",
    "    2) Есть особенность в корреляции между столбцами в некоторых датасетах (корреляция 0 и 1), а так же особенность в распределении столбцов product и взяимосвязях между столбцами. Вероятно это связано с тем, что данные синтетические\n",
    "    3) Есть дубликаты в индексах, но нет дубликатов по самим данным. В дальнейшей работе это не помешает\n",
    "    4) Удалены столбцы id\n",
    "    5) Преподготова данных не требуется\n",
    "    6) Необходимости в стандартизации данных нет\n",
    "    "
   ]
  },
  {
   "cell_type": "markdown",
   "metadata": {},
   "source": [
    "___"
   ]
  },
  {
   "cell_type": "markdown",
   "metadata": {},
   "source": [
    "## Обучение и проверка модели"
   ]
  },
  {
   "cell_type": "code",
   "execution_count": 17,
   "metadata": {},
   "outputs": [],
   "source": [
    "random_seed = 12345\n",
    "np.random.seed(random_seed)"
   ]
  },
  {
   "cell_type": "markdown",
   "metadata": {},
   "source": [
    "### Разобъем на выборки"
   ]
  },
  {
   "cell_type": "markdown",
   "metadata": {},
   "source": [
    "Разделяем на признаки и таргет"
   ]
  },
  {
   "cell_type": "code",
   "execution_count": 18,
   "metadata": {},
   "outputs": [
    {
     "name": "stdout",
     "output_type": "stream",
     "text": [
      "geo_data_0: X: (100000, 3), y: (100000,)\n",
      "geo_data_1: X: (100000, 3), y: (100000,)\n",
      "geo_data_2: X: (100000, 3), y: (100000,)\n"
     ]
    }
   ],
   "source": [
    "X_list = []\n",
    "y_list = []\n",
    "for geo in geo_data:\n",
    "    X_list.append(geo.drop (['product'],axis=1))\n",
    "    y_list.append(geo['product'])\n",
    "    \n",
    "for i in range(len(geo_data)):\n",
    "    print(f'geo_data_{i}: X: {X_list[i].shape}, y: {y_list[i].shape}')"
   ]
  },
  {
   "cell_type": "markdown",
   "metadata": {},
   "source": [
    "Разделяем на обучающую и валидационную выборки"
   ]
  },
  {
   "cell_type": "code",
   "execution_count": 19,
   "metadata": {},
   "outputs": [
    {
     "name": "stdout",
     "output_type": "stream",
     "text": [
      "geo_data_0: X_train: (75000, 3), X_valid: (25000, 3),y_train: (75000,), y_valid: (25000,)\n",
      "geo_data_1: X_train: (75000, 3), X_valid: (25000, 3),y_train: (75000,), y_valid: (25000,)\n",
      "geo_data_2: X_train: (75000, 3), X_valid: (25000, 3),y_train: (75000,), y_valid: (25000,)\n"
     ]
    }
   ],
   "source": [
    "X_train_list = []\n",
    "X_valid_list = []\n",
    "y_train_list = []\n",
    "y_valid_list = []\n",
    "for i in range(len(geo_data)):\n",
    "    X_train, X_valid, y_train, y_valid = train_test_split(X_list[i], y_list[i], \n",
    "                                                          test_size=0.25)\n",
    "    X_train_list.append(X_train)\n",
    "    X_valid_list.append(X_valid)\n",
    "    y_train_list.append(y_train)\n",
    "    y_valid_list.append(y_valid)\n",
    "    \n",
    "for i in range(len(geo_data)):\n",
    "    print(f'geo_data_{i}: X_train: {X_train_list[i].shape}, X_valid: {X_valid_list[i].shape},\\\n",
    "y_train: {y_train_list[i].shape}, y_valid: {y_valid_list[i].shape}')"
   ]
  },
  {
   "cell_type": "markdown",
   "metadata": {},
   "source": [
    "Стандартизируем признаки"
   ]
  },
  {
   "cell_type": "code",
   "execution_count": 20,
   "metadata": {},
   "outputs": [],
   "source": [
    "X_train_scaled_list = []\n",
    "X_valid_scaled_list = []\n",
    "scaler_list = []\n",
    "\n",
    "for i in range(len(X_train_list)):\n",
    "    X_train_scaled_list.append(X_train_list[i].copy())\n",
    "    X_valid_scaled_list.append(X_valid_list[i].copy())\n",
    "    \n",
    "\n",
    "\n",
    "for i in range(len(geo_data)):\n",
    "    scaler_list.append(StandardScaler())\n",
    "    \n",
    "    X_train_scaled_list[i][:] =  scaler_list[i].fit_transform(X_train_scaled_list[i])\n",
    "    X_valid_scaled_list[i][:] = scaler_list[i].transform(X_valid_scaled_list[i])"
   ]
  },
  {
   "cell_type": "markdown",
   "metadata": {},
   "source": [
    "### Обучим модели"
   ]
  },
  {
   "cell_type": "markdown",
   "metadata": {},
   "source": [
    "**На обычных данных**"
   ]
  },
  {
   "cell_type": "code",
   "execution_count": 21,
   "metadata": {},
   "outputs": [
    {
     "name": "stdout",
     "output_type": "stream",
     "text": [
      "len of models list: 3\n"
     ]
    }
   ],
   "source": [
    "linear_models = []\n",
    "for i in range(len(geo_data)):\n",
    "    model = LinearRegression()\n",
    "    model.fit(X_train_list[i], y_train_list[i])\n",
    "    linear_models.append(model)\n",
    "print(f'len of models list: {len(linear_models)}')"
   ]
  },
  {
   "cell_type": "markdown",
   "metadata": {},
   "source": [
    "**На скалированных данных**"
   ]
  },
  {
   "cell_type": "code",
   "execution_count": 22,
   "metadata": {},
   "outputs": [
    {
     "name": "stdout",
     "output_type": "stream",
     "text": [
      "len of models list: 3\n"
     ]
    }
   ],
   "source": [
    "linear_models_on_scaled = []\n",
    "for i in range(len(geo_data)):\n",
    "    model = LinearRegression()\n",
    "    model.fit(X_train_scaled_list[i], y_train_list[i])\n",
    "    linear_models_on_scaled.append(model)\n",
    "print(f'len of models list: {len(linear_models_on_scaled)}')"
   ]
  },
  {
   "cell_type": "markdown",
   "metadata": {},
   "source": [
    "**Получим предсказание на валидационной выборке**"
   ]
  },
  {
   "cell_type": "code",
   "execution_count": 23,
   "metadata": {},
   "outputs": [],
   "source": [
    "summary = pd.DataFrame(columns=['real_mean','pred_mean','rmse'])\n",
    "summary_scaled = pd.DataFrame(columns=['real_mean','pred_mean','rmse'])"
   ]
  },
  {
   "cell_type": "code",
   "execution_count": 24,
   "metadata": {},
   "outputs": [],
   "source": [
    "def add_result(row_name, pred, target, table):\n",
    "    rmse = mean_squared_error(target, pred, squared=False)\n",
    "    table.loc[row_name, ['real_mean','pred_mean','rmse']] = [target.mean(), pred.mean(),rmse]"
   ]
  },
  {
   "cell_type": "code",
   "execution_count": 25,
   "metadata": {
    "scrolled": false
   },
   "outputs": [
    {
     "data": {
      "text/html": [
       "<div>\n",
       "<style scoped>\n",
       "    .dataframe tbody tr th:only-of-type {\n",
       "        vertical-align: middle;\n",
       "    }\n",
       "\n",
       "    .dataframe tbody tr th {\n",
       "        vertical-align: top;\n",
       "    }\n",
       "\n",
       "    .dataframe thead th {\n",
       "        text-align: right;\n",
       "    }\n",
       "</style>\n",
       "<table border=\"1\" class=\"dataframe\">\n",
       "  <thead>\n",
       "    <tr style=\"text-align: right;\">\n",
       "      <th></th>\n",
       "      <th>real_mean</th>\n",
       "      <th>pred_mean</th>\n",
       "      <th>rmse</th>\n",
       "    </tr>\n",
       "  </thead>\n",
       "  <tbody>\n",
       "    <tr>\n",
       "      <th>geo_data_0</th>\n",
       "      <td>92.078597</td>\n",
       "      <td>92.592568</td>\n",
       "      <td>37.579422</td>\n",
       "    </tr>\n",
       "    <tr>\n",
       "      <th>geo_data_1</th>\n",
       "      <td>68.771624</td>\n",
       "      <td>68.769951</td>\n",
       "      <td>0.889737</td>\n",
       "    </tr>\n",
       "    <tr>\n",
       "      <th>geo_data_2</th>\n",
       "      <td>94.748959</td>\n",
       "      <td>95.087528</td>\n",
       "      <td>39.958042</td>\n",
       "    </tr>\n",
       "  </tbody>\n",
       "</table>\n",
       "</div>"
      ],
      "text/plain": [
       "            real_mean  pred_mean       rmse\n",
       "geo_data_0  92.078597  92.592568  37.579422\n",
       "geo_data_1  68.771624  68.769951   0.889737\n",
       "geo_data_2  94.748959  95.087528  39.958042"
      ]
     },
     "execution_count": 25,
     "metadata": {},
     "output_type": "execute_result"
    }
   ],
   "source": [
    "prediction_list = []\n",
    "for i in range(len(geo_data)):\n",
    "        prediction_list.append(pd.Series(linear_models[i].predict(X_valid_list[i])))\n",
    "        add_result(f'geo_data_{i}', prediction_list[i], y_valid_list[i], summary)\n",
    "summary"
   ]
  },
  {
   "cell_type": "code",
   "execution_count": 26,
   "metadata": {
    "scrolled": true
   },
   "outputs": [
    {
     "data": {
      "text/html": [
       "<div>\n",
       "<style scoped>\n",
       "    .dataframe tbody tr th:only-of-type {\n",
       "        vertical-align: middle;\n",
       "    }\n",
       "\n",
       "    .dataframe tbody tr th {\n",
       "        vertical-align: top;\n",
       "    }\n",
       "\n",
       "    .dataframe thead th {\n",
       "        text-align: right;\n",
       "    }\n",
       "</style>\n",
       "<table border=\"1\" class=\"dataframe\">\n",
       "  <thead>\n",
       "    <tr style=\"text-align: right;\">\n",
       "      <th></th>\n",
       "      <th>real_mean</th>\n",
       "      <th>pred_mean</th>\n",
       "      <th>rmse</th>\n",
       "    </tr>\n",
       "  </thead>\n",
       "  <tbody>\n",
       "    <tr>\n",
       "      <th>geo_data_0</th>\n",
       "      <td>92.078597</td>\n",
       "      <td>92.592568</td>\n",
       "      <td>37.579422</td>\n",
       "    </tr>\n",
       "    <tr>\n",
       "      <th>geo_data_1</th>\n",
       "      <td>68.771624</td>\n",
       "      <td>68.769951</td>\n",
       "      <td>0.889737</td>\n",
       "    </tr>\n",
       "    <tr>\n",
       "      <th>geo_data_2</th>\n",
       "      <td>94.748959</td>\n",
       "      <td>95.087528</td>\n",
       "      <td>39.958042</td>\n",
       "    </tr>\n",
       "  </tbody>\n",
       "</table>\n",
       "</div>"
      ],
      "text/plain": [
       "            real_mean  pred_mean       rmse\n",
       "geo_data_0  92.078597  92.592568  37.579422\n",
       "geo_data_1  68.771624  68.769951   0.889737\n",
       "geo_data_2  94.748959  95.087528  39.958042"
      ]
     },
     "execution_count": 26,
     "metadata": {},
     "output_type": "execute_result"
    }
   ],
   "source": [
    "prediction_scaled_list = []\n",
    "for i in range(len(geo_data)):\n",
    "        prediction_scaled_list.append(pd.Series(linear_models_on_scaled[i].predict(X_valid_scaled_list[i])))\n",
    "        add_result(f'geo_data_{i}', prediction_scaled_list[i], y_valid_list[i], summary_scaled)\n",
    "summary_scaled"
   ]
  },
  {
   "cell_type": "markdown",
   "metadata": {},
   "source": [
    "Результаты обычных и скалированных данных совпадают"
   ]
  },
  {
   "cell_type": "markdown",
   "metadata": {},
   "source": [
    "<div style=\"border: 3px solid blue; border-radius: 5px; padding: 10px;\">\n",
    "Вывод:\n",
    "    \n",
    "    Данные трех регионов были разделены на обучающую и валидационную выборки.\n",
    "    На этих данных были обучены модели линейной регресии и получены предсказания на валидационных выборках.\n",
    "    Так же дополнительно те же шаги были проведены на скалированных данных для сравнения. Результаты совпали, в дальнейшем будем использовать обычные данные.\n",
    "    \n",
    "    Наилучший показатель rmse у региона geo_data_1: 0.889737, что намного меньше остальных \n",
    "    регионов (37.579422 и 39.958042 для geo_data_0 и geo_data_2 соответственно), то есть модель предсказывает \n",
    "    лучше\n",
    "    \n",
    "    Однако у региона geo_data_1 наименьший средний объем запасов: 68.723136 \n",
    "    (92.078597 и 94.884233 для geo_data_0 и geo_data_2 соответственно)\n",
    "    "
   ]
  },
  {
   "cell_type": "markdown",
   "metadata": {},
   "source": [
    "___"
   ]
  },
  {
   "cell_type": "markdown",
   "metadata": {},
   "source": [
    "## Подготовка к расчёту прибыли"
   ]
  },
  {
   "cell_type": "markdown",
   "metadata": {},
   "source": [
    "- при разведке изучаются 500 точек, выбираются 200 для разработки\n",
    "\n",
    "- бюджет на разработку: 10 млрд\n",
    "\n",
    "- доход с единицы продукта: 450 тыс.р.\n",
    "\n",
    "- После оценки рисков нужно оставить лишь те регионы, в которых вероятность убытков меньше 2.5%. Среди них выбирают регион с наибольшей средней прибылью."
   ]
  },
  {
   "cell_type": "markdown",
   "metadata": {},
   "source": [
    "###  Константы для подсчета прибыли"
   ]
  },
  {
   "cell_type": "code",
   "execution_count": 27,
   "metadata": {
    "scrolled": true
   },
   "outputs": [],
   "source": [
    "BUDGET = 10e+9\n",
    "COUNT_WELL = 500\n",
    "TARGET_HOLE = 200\n",
    "REVENUE_PER_UNIT = 450e+3\n",
    "\n"
   ]
  },
  {
   "cell_type": "markdown",
   "metadata": {},
   "source": [
    "### Достаточный объем сырья"
   ]
  },
  {
   "cell_type": "code",
   "execution_count": 28,
   "metadata": {},
   "outputs": [
    {
     "name": "stdout",
     "output_type": "stream",
     "text": [
      "Достаточный объём сырья для безубыточной разработки новой скважины: 111.11 тыс.баррелей\n"
     ]
    }
   ],
   "source": [
    "print(f'Достаточный объём сырья для безубыточной разработки новой скважины: \\\n",
    "{BUDGET/ (REVENUE_PER_UNIT * TARGET_HOLE):.2f} тыс.баррелей')"
   ]
  },
  {
   "cell_type": "code",
   "execution_count": 29,
   "metadata": {
    "scrolled": true
   },
   "outputs": [
    {
     "data": {
      "text/html": [
       "<style  type=\"text/css\" >\n",
       "</style><table id=\"T_169a8_\" ><thead>    <tr>        <th class=\"blank level0\" ></th>        <th class=\"col_heading level0 col0\" >real_mean</th>    </tr></thead><tbody>\n",
       "                <tr>\n",
       "                        <th id=\"T_169a8_level0_row0\" class=\"row_heading level0 row0\" >geo_data_0</th>\n",
       "                        <td id=\"T_169a8_row0_col0\" class=\"data row0 col0\" >92.08</td>\n",
       "            </tr>\n",
       "            <tr>\n",
       "                        <th id=\"T_169a8_level0_row1\" class=\"row_heading level0 row1\" >geo_data_1</th>\n",
       "                        <td id=\"T_169a8_row1_col0\" class=\"data row1 col0\" >68.77</td>\n",
       "            </tr>\n",
       "            <tr>\n",
       "                        <th id=\"T_169a8_level0_row2\" class=\"row_heading level0 row2\" >geo_data_2</th>\n",
       "                        <td id=\"T_169a8_row2_col0\" class=\"data row2 col0\" >94.75</td>\n",
       "            </tr>\n",
       "    </tbody></table>"
      ],
      "text/plain": [
       "<pandas.io.formats.style.Styler at 0x7f5c9fc01580>"
      ]
     },
     "execution_count": 29,
     "metadata": {},
     "output_type": "execute_result"
    }
   ],
   "source": [
    "pd.DataFrame(summary['real_mean']).style.format('{:.2f}')"
   ]
  },
  {
   "cell_type": "markdown",
   "metadata": {},
   "source": [
    "<div style=\"border: 3px solid blue; border-radius: 5px; padding: 10px;\">\n",
    "Вывод:\n",
    "    \n",
    "    Для безубыточной разработки новой скажины, объем добычи должен составлять не менее 111 тыс. баррелей.\n",
    "    Это больше, чем средний объем запасов по трем представленным регионам(92.08, 68.72 и 94.88).\n",
    "    Нужно рассматривать избранные скажины с большим запасом сырья, превышающим средние показатели по региону\n",
    "\n",
    "    "
   ]
  },
  {
   "cell_type": "markdown",
   "metadata": {},
   "source": [
    "___"
   ]
  },
  {
   "cell_type": "markdown",
   "metadata": {},
   "source": [
    "## Расчёт прибыли и рисков "
   ]
  },
  {
   "cell_type": "markdown",
   "metadata": {},
   "source": [
    "**Функция для подсчета прибыли**"
   ]
  },
  {
   "cell_type": "code",
   "execution_count": 30,
   "metadata": {},
   "outputs": [],
   "source": [
    "def calculate_revenue(target, \n",
    "                      pred, \n",
    "                      count, \n",
    "                      revenue_per_barrel = REVENUE_PER_UNIT, \n",
    "                      budget = BUDGET):\n",
    "    \n",
    "    sort_pred = pred.sort_values(ascending=False)\n",
    "    volume = target[sort_pred.index][:count].sum()\n",
    "    return volume * revenue_per_barrel - budget"
   ]
  },
  {
   "cell_type": "markdown",
   "metadata": {},
   "source": [
    "**Функция для реализации техники bootstrep**"
   ]
  },
  {
   "cell_type": "code",
   "execution_count": 31,
   "metadata": {},
   "outputs": [],
   "source": [
    "def bootstrep(target, \n",
    "              pred, \n",
    "              state, \n",
    "              iterations = 1000, \n",
    "              interval = 0.95, \n",
    "              n = COUNT_WELL, \n",
    "              n_sample = TARGET_HOLE, \n",
    "              name = ''):\n",
    "    \n",
    "    revenue_list = []\n",
    "    counter = 0\n",
    "    alpha = (1 - interval) / 2\n",
    "    temp_target = target.reset_index(drop=True)\n",
    "    for i in range(1000):\n",
    "        target_subsample = temp_target.sample(n=n,replace=True,random_state=state)\n",
    "        pred_subsample = pred[target_subsample.index]\n",
    "        revenue_list.append(calculate_revenue(target_subsample,pred_subsample,n_sample))\n",
    "        \n",
    "    revenue_list = pd.Series(revenue_list)\n",
    "    risk = (revenue_list < 0).mean()\n",
    "    values = revenue_list.copy()\n",
    "    if name != '':\n",
    "        print(f'geo_data_{name}:')\n",
    "    print(f'    Средняя прибыль: {revenue_list.mean() / 1e+6 :.2f} млн.р.')\n",
    "    print(f'    95% доверительный интервал: ({revenue_list.quantile(alpha)/ 1e+6 :.2f}, \\\n",
    "{revenue_list.quantile(1 - alpha)/ 1e+6 :.2f}) млн.р.')\n",
    "    print(f'    Риск убытков: {risk * 100}%')\n",
    "    print(\"_____________________________________________\")\n",
    "    print()\n",
    "    \n",
    "    return values"
   ]
  },
  {
   "cell_type": "code",
   "execution_count": 32,
   "metadata": {},
   "outputs": [],
   "source": [
    "def plot_hist(rev_list,bins=100,interval=0.95):\n",
    "    alpha = (1 - interval) / 2\n",
    "    fig, axes = plt.subplots(nrows=1, ncols=len(rev_list), figsize=(15, 4))\n",
    "    for i, revenue in enumerate(revenue_list):\n",
    "        revenue.hist(bins=bins,ax=axes[i],range=(-0.5*1e+9,1.5*1e+9))\n",
    "        axes[i].axvline(x = revenue.quantile(alpha), linestyle = '-',color = 'b',label='0.025%')\n",
    "        axes[i].axvline(x = revenue.quantile(1 - alpha), linestyle = '-',color = 'r',label='0.975')\n",
    "        axes[i].axvline(x = revenue.mean(), linestyle = '--',color = 'y',label='mean')\n",
    "        axes[i].grid(linewidth=0.5)\n",
    "        axes[i].set_title(f'распределение прибыли geo_data_{i}:')\n",
    "        axes[i].legend(loc='upper right')\n",
    "    plt.show()"
   ]
  },
  {
   "cell_type": "markdown",
   "metadata": {},
   "source": [
    "### Изучение регионов с помощьютехники bootstrep"
   ]
  },
  {
   "cell_type": "code",
   "execution_count": 33,
   "metadata": {
    "scrolled": false
   },
   "outputs": [
    {
     "data": {
      "application/vnd.jupyter.widget-view+json": {
       "model_id": "2866f7dad1ce44b2b73625ab930220e5",
       "version_major": 2,
       "version_minor": 0
      },
      "text/plain": [
       "  0%|          | 0/3 [00:00<?, ?it/s]"
      ]
     },
     "metadata": {},
     "output_type": "display_data"
    },
    {
     "name": "stdout",
     "output_type": "stream",
     "text": [
      "geo_data_0:\n",
      "    Средняя прибыль: 425.94 млн.р.\n",
      "    95% доверительный интервал: (-102.09, 947.98) млн.р.\n",
      "    Риск убытков: 6.0%\n",
      "_____________________________________________\n",
      "\n",
      "geo_data_1:\n",
      "    Средняя прибыль: 501.33 млн.р.\n",
      "    95% доверительный интервал: (100.15, 925.05) млн.р.\n",
      "    Риск убытков: 1.3%\n",
      "_____________________________________________\n",
      "\n",
      "geo_data_2:\n",
      "    Средняя прибыль: 370.89 млн.р.\n",
      "    95% доверительный интервал: (-194.36, 893.74) млн.р.\n",
      "    Риск убытков: 10.6%\n",
      "_____________________________________________\n",
      "\n"
     ]
    },
    {
     "data": {
      "image/png": "[encoded data removed]",
      "text/plain": [
       "<Figure size 1080x288 with 3 Axes>"
      ]
     },
     "metadata": {
      "needs_background": "light"
     },
     "output_type": "display_data"
    }
   ],
   "source": [
    "state = np.random.RandomState(random_seed)\n",
    "\n",
    "revenue_list = []\n",
    "for i in trange(len(geo_data)):\n",
    "    revenue_list.append(bootstrep(y_valid_list[i], prediction_list[i], state = state, name=i))\n",
    "\n",
    "plot_hist(revenue_list,bins=100)"
   ]
  },
  {
   "cell_type": "markdown",
   "metadata": {},
   "source": [
    "<div style=\"border: 3px solid blue; border-radius: 5px; padding: 10px;\">\n",
    "Вывод:\n",
    "    \n",
    "    При использовании метода бутстреп регион geo_data_1 показал наименьший риск убытков (1.3%) \n",
    "    и наибольшую среднюю прибыль (501.33 млн.р.)\n",
    "    "
   ]
  },
  {
   "cell_type": "markdown",
   "metadata": {},
   "source": [
    "___"
   ]
  },
  {
   "cell_type": "markdown",
   "metadata": {},
   "source": [
    "## Вывод"
   ]
  },
  {
   "cell_type": "markdown",
   "metadata": {},
   "source": [
    "Был произведен выбор локации для скважины.\n",
    "\n",
    "Было сделано:\n",
    "\n",
    "- Изучение предоставленных данных: данные не требовали преподготовки\n",
    "\n",
    "- Обучены модели линейной регрессии для трех регионов и сравнены полученные результаты:\n",
    "\n",
    "\n",
    "| регион | mean | rmse |\n",
    "|:----------:|:----------:|:----------:|\n",
    "| geo_data_0  | 92.078597  | 37.579422  |\n",
    "| geo_data_1 | 68.723136  | 0.889737 |\n",
    "| geo_data_2  | 94.884233  | 39.958042  \n",
    "\n",
    "\n",
    "\n",
    "- Подготовлены кконстанты и функции для подсчета вероятной прибыли\n",
    "\n",
    "- Использована техника Bootstrep для подбора наилучшего региона\n"
   ]
  },
  {
   "cell_type": "markdown",
   "metadata": {},
   "source": [
    "**Итоговый регион: geo_data_1**\n",
    "\n",
    "- Средняя прибыль: 501.33 млн.р.\n",
    "- 95% доверительный интервал: (100.15, 925.05) млн.р.\n",
    "- Риск убытков: 1.3%"
   ]
  }
 ],
 "metadata": {
  "ExecuteTimeLog": [
   {
    "duration": 1808,
    "start_time": "2023-07-26T18:38:59.331Z"
   },
   {
    "duration": 2608,
    "start_time": "2023-07-26T18:39:01.142Z"
   },
   {
    "duration": 40,
    "start_time": "2023-07-26T18:39:03.752Z"
   },
   {
    "duration": 44,
    "start_time": "2023-07-26T18:39:03.793Z"
   },
   {
    "duration": 147,
    "start_time": "2023-07-26T18:39:03.840Z"
   },
   {
    "duration": 726,
    "start_time": "2023-07-26T18:39:03.989Z"
   },
   {
    "duration": 390,
    "start_time": "2023-07-26T18:39:04.717Z"
   },
   {
    "duration": 79,
    "start_time": "2023-07-26T18:39:05.109Z"
   },
   {
    "duration": 57,
    "start_time": "2023-07-26T18:39:05.190Z"
   },
   {
    "duration": 39,
    "start_time": "2023-07-26T18:39:05.249Z"
   },
   {
    "duration": 3,
    "start_time": "2023-07-26T18:39:05.289Z"
   },
   {
    "duration": 14,
    "start_time": "2023-07-26T18:39:05.294Z"
   },
   {
    "duration": 17,
    "start_time": "2023-07-26T18:39:05.309Z"
   },
   {
    "duration": 49,
    "start_time": "2023-07-26T18:39:05.329Z"
   },
   {
    "duration": 29,
    "start_time": "2023-07-26T18:39:05.380Z"
   },
   {
    "duration": 92,
    "start_time": "2023-07-26T18:39:05.410Z"
   },
   {
    "duration": 17,
    "start_time": "2023-07-26T18:39:05.504Z"
   },
   {
    "duration": 150,
    "start_time": "2023-07-26T18:39:05.523Z"
   },
   {
    "duration": 7,
    "start_time": "2023-07-26T18:39:05.676Z"
   },
   {
    "duration": 141,
    "start_time": "2023-07-26T18:39:05.685Z"
   },
   {
    "duration": 4,
    "start_time": "2023-07-26T18:39:05.828Z"
   },
   {
    "duration": 23,
    "start_time": "2023-07-26T18:39:05.833Z"
   },
   {
    "duration": 4093,
    "start_time": "2023-07-26T18:39:05.857Z"
   },
   {
    "duration": 1626,
    "start_time": "2023-07-26T18:46:17.193Z"
   },
   {
    "duration": 548,
    "start_time": "2023-07-26T18:46:18.822Z"
   },
   {
    "duration": 38,
    "start_time": "2023-07-26T18:46:19.373Z"
   },
   {
    "duration": 79,
    "start_time": "2023-07-26T18:46:19.413Z"
   },
   {
    "duration": 140,
    "start_time": "2023-07-26T18:46:19.495Z"
   },
   {
    "duration": 672,
    "start_time": "2023-07-26T18:46:19.637Z"
   },
   {
    "duration": 442,
    "start_time": "2023-07-26T18:46:20.311Z"
   },
   {
    "duration": 74,
    "start_time": "2023-07-26T18:46:20.755Z"
   },
   {
    "duration": 81,
    "start_time": "2023-07-26T18:46:20.830Z"
   },
   {
    "duration": 17,
    "start_time": "2023-07-26T18:46:20.913Z"
   },
   {
    "duration": 47,
    "start_time": "2023-07-26T18:46:20.932Z"
   },
   {
    "duration": 31,
    "start_time": "2023-07-26T18:46:20.981Z"
   },
   {
    "duration": 18,
    "start_time": "2023-07-26T18:46:21.014Z"
   },
   {
    "duration": 82,
    "start_time": "2023-07-26T18:46:21.036Z"
   },
   {
    "duration": 30,
    "start_time": "2023-07-26T18:46:21.120Z"
   },
   {
    "duration": 131,
    "start_time": "2023-07-26T18:46:21.152Z"
   },
   {
    "duration": 25,
    "start_time": "2023-07-26T18:46:21.284Z"
   },
   {
    "duration": 185,
    "start_time": "2023-07-26T18:46:21.311Z"
   },
   {
    "duration": 76,
    "start_time": "2023-07-26T18:46:21.499Z"
   },
   {
    "duration": 26,
    "start_time": "2023-07-26T18:46:21.578Z"
   },
   {
    "duration": 100,
    "start_time": "2023-07-26T18:46:21.606Z"
   },
   {
    "duration": 5,
    "start_time": "2023-07-26T18:46:21.708Z"
   },
   {
    "duration": 23,
    "start_time": "2023-07-26T18:46:21.715Z"
   },
   {
    "duration": 4280,
    "start_time": "2023-07-26T18:46:21.740Z"
   },
   {
    "duration": 5,
    "start_time": "2023-07-26T18:46:28.140Z"
   },
   {
    "duration": 4,
    "start_time": "2023-07-26T18:46:40.852Z"
   },
   {
    "duration": 1814,
    "start_time": "2023-07-26T18:51:12.803Z"
   },
   {
    "duration": 560,
    "start_time": "2023-07-26T18:51:14.619Z"
   },
   {
    "duration": 40,
    "start_time": "2023-07-26T18:51:15.185Z"
   },
   {
    "duration": 70,
    "start_time": "2023-07-26T18:51:15.227Z"
   },
   {
    "duration": 138,
    "start_time": "2023-07-26T18:51:15.301Z"
   },
   {
    "duration": 793,
    "start_time": "2023-07-26T18:51:15.441Z"
   },
   {
    "duration": 393,
    "start_time": "2023-07-26T18:51:16.236Z"
   },
   {
    "duration": 85,
    "start_time": "2023-07-26T18:51:16.631Z"
   },
   {
    "duration": 77,
    "start_time": "2023-07-26T18:51:16.718Z"
   },
   {
    "duration": 18,
    "start_time": "2023-07-26T18:51:16.797Z"
   },
   {
    "duration": 5,
    "start_time": "2023-07-26T18:51:16.817Z"
   },
   {
    "duration": 14,
    "start_time": "2023-07-26T18:51:16.825Z"
   },
   {
    "duration": 36,
    "start_time": "2023-07-26T18:51:16.841Z"
   },
   {
    "duration": 43,
    "start_time": "2023-07-26T18:51:16.880Z"
   },
   {
    "duration": 52,
    "start_time": "2023-07-26T18:51:16.925Z"
   },
   {
    "duration": 106,
    "start_time": "2023-07-26T18:51:16.979Z"
   },
   {
    "duration": 59,
    "start_time": "2023-07-26T18:51:17.090Z"
   },
   {
    "duration": 125,
    "start_time": "2023-07-26T18:51:17.151Z"
   },
   {
    "duration": 6,
    "start_time": "2023-07-26T18:51:17.280Z"
   },
   {
    "duration": 8,
    "start_time": "2023-07-26T18:51:17.288Z"
   },
   {
    "duration": 139,
    "start_time": "2023-07-26T18:51:17.298Z"
   },
   {
    "duration": 4,
    "start_time": "2023-07-26T18:51:17.440Z"
   },
   {
    "duration": 25,
    "start_time": "2023-07-26T18:51:17.446Z"
   },
   {
    "duration": 4300,
    "start_time": "2023-07-26T18:51:17.481Z"
   },
   {
    "duration": 146,
    "start_time": "2023-07-26T18:52:35.690Z"
   },
   {
    "duration": 5,
    "start_time": "2023-07-26T18:52:57.808Z"
   },
   {
    "duration": 586,
    "start_time": "2023-07-26T18:52:57.816Z"
   },
   {
    "duration": 37,
    "start_time": "2023-07-26T18:52:58.404Z"
   },
   {
    "duration": 71,
    "start_time": "2023-07-26T18:52:58.444Z"
   },
   {
    "duration": 158,
    "start_time": "2023-07-26T18:52:58.517Z"
   },
   {
    "duration": 766,
    "start_time": "2023-07-26T18:53:11.803Z"
   },
   {
    "duration": 747,
    "start_time": "2023-07-26T18:53:22.349Z"
   },
   {
    "duration": 634,
    "start_time": "2023-07-26T18:53:28.134Z"
   },
   {
    "duration": 1596,
    "start_time": "2023-07-26T18:53:33.834Z"
   },
   {
    "duration": 451,
    "start_time": "2023-07-26T18:53:35.432Z"
   },
   {
    "duration": 31,
    "start_time": "2023-07-26T18:53:35.885Z"
   },
   {
    "duration": 77,
    "start_time": "2023-07-26T18:53:35.918Z"
   },
   {
    "duration": 129,
    "start_time": "2023-07-26T18:53:35.997Z"
   },
   {
    "duration": 649,
    "start_time": "2023-07-26T18:53:36.128Z"
   },
   {
    "duration": 409,
    "start_time": "2023-07-26T18:53:36.779Z"
   },
   {
    "duration": 89,
    "start_time": "2023-07-26T18:53:37.191Z"
   },
   {
    "duration": 87,
    "start_time": "2023-07-26T18:53:37.287Z"
   },
   {
    "duration": 20,
    "start_time": "2023-07-26T18:53:37.380Z"
   },
   {
    "duration": 4,
    "start_time": "2023-07-26T18:53:37.403Z"
   },
   {
    "duration": 15,
    "start_time": "2023-07-26T18:53:37.409Z"
   },
   {
    "duration": 21,
    "start_time": "2023-07-26T18:53:37.426Z"
   },
   {
    "duration": 52,
    "start_time": "2023-07-26T18:53:37.451Z"
   },
   {
    "duration": 30,
    "start_time": "2023-07-26T18:53:37.505Z"
   },
   {
    "duration": 112,
    "start_time": "2023-07-26T18:53:37.537Z"
   },
   {
    "duration": 10,
    "start_time": "2023-07-26T18:53:37.651Z"
   },
   {
    "duration": 204,
    "start_time": "2023-07-26T18:53:37.671Z"
   },
   {
    "duration": 3,
    "start_time": "2023-07-26T18:53:37.877Z"
   },
   {
    "duration": 12,
    "start_time": "2023-07-26T18:53:37.882Z"
   },
   {
    "duration": 49,
    "start_time": "2023-07-26T18:53:37.896Z"
   },
   {
    "duration": 3,
    "start_time": "2023-07-26T18:53:37.947Z"
   },
   {
    "duration": 21,
    "start_time": "2023-07-26T18:53:37.953Z"
   },
   {
    "duration": 4212,
    "start_time": "2023-07-26T18:53:37.976Z"
   },
   {
    "duration": 2126,
    "start_time": "2023-07-26T22:06:14.345Z"
   },
   {
    "duration": 1780,
    "start_time": "2023-07-26T22:06:16.473Z"
   },
   {
    "duration": 30,
    "start_time": "2023-07-26T22:06:18.255Z"
   },
   {
    "duration": 37,
    "start_time": "2023-07-26T22:06:18.287Z"
   },
   {
    "duration": 134,
    "start_time": "2023-07-26T22:06:18.326Z"
   },
   {
    "duration": 967,
    "start_time": "2023-07-26T22:06:18.470Z"
   },
   {
    "duration": 326,
    "start_time": "2023-07-26T22:06:19.438Z"
   },
   {
    "duration": 50,
    "start_time": "2023-07-26T22:06:19.770Z"
   },
   {
    "duration": 66,
    "start_time": "2023-07-26T22:06:19.822Z"
   },
   {
    "duration": 14,
    "start_time": "2023-07-26T22:06:19.891Z"
   },
   {
    "duration": 7,
    "start_time": "2023-07-26T22:06:19.907Z"
   },
   {
    "duration": 6,
    "start_time": "2023-07-26T22:06:19.915Z"
   },
   {
    "duration": 16,
    "start_time": "2023-07-26T22:06:19.923Z"
   },
   {
    "duration": 129,
    "start_time": "2023-07-26T22:06:19.942Z"
   },
   {
    "duration": 29,
    "start_time": "2023-07-26T22:06:20.073Z"
   },
   {
    "duration": 4,
    "start_time": "2023-07-26T22:06:20.104Z"
   },
   {
    "duration": 12,
    "start_time": "2023-07-26T22:06:20.109Z"
   },
   {
    "duration": 251,
    "start_time": "2023-07-26T22:06:20.123Z"
   },
   {
    "duration": 3,
    "start_time": "2023-07-26T22:06:20.376Z"
   },
   {
    "duration": 12,
    "start_time": "2023-07-26T22:06:20.381Z"
   },
   {
    "duration": 44,
    "start_time": "2023-07-26T22:06:20.395Z"
   },
   {
    "duration": 4,
    "start_time": "2023-07-26T22:06:20.441Z"
   },
   {
    "duration": 25,
    "start_time": "2023-07-26T22:06:20.446Z"
   },
   {
    "duration": 3502,
    "start_time": "2023-07-26T22:06:20.473Z"
   },
   {
    "duration": 108,
    "start_time": "2023-07-27T06:45:16.335Z"
   },
   {
    "duration": 522,
    "start_time": "2023-07-27T06:45:39.848Z"
   },
   {
    "duration": 477,
    "start_time": "2023-07-27T06:50:29.254Z"
   },
   {
    "duration": 9,
    "start_time": "2023-07-27T06:50:48.321Z"
   },
   {
    "duration": 17842,
    "start_time": "2023-07-27T06:51:04.630Z"
   },
   {
    "duration": 2093,
    "start_time": "2023-07-27T06:51:59.718Z"
   },
   {
    "duration": 224,
    "start_time": "2023-07-27T06:52:16.131Z"
   },
   {
    "duration": 133,
    "start_time": "2023-07-27T06:52:30.043Z"
   },
   {
    "duration": 50,
    "start_time": "2023-07-27T06:52:36.582Z"
   },
   {
    "duration": 1166,
    "start_time": "2023-07-27T06:52:40.143Z"
   },
   {
    "duration": 27,
    "start_time": "2023-07-27T06:52:43.716Z"
   },
   {
    "duration": 7129,
    "start_time": "2023-07-27T06:52:46.860Z"
   },
   {
    "duration": 9,
    "start_time": "2023-07-27T06:56:08.692Z"
   },
   {
    "duration": 6567,
    "start_time": "2023-07-27T06:56:12.901Z"
   },
   {
    "duration": 551,
    "start_time": "2023-07-27T06:56:29.428Z"
   },
   {
    "duration": 3,
    "start_time": "2023-07-27T07:01:50.011Z"
   },
   {
    "duration": 6812,
    "start_time": "2023-07-27T07:01:52.653Z"
   },
   {
    "duration": 5,
    "start_time": "2023-07-27T07:03:27.698Z"
   },
   {
    "duration": 6565,
    "start_time": "2023-07-27T07:03:28.457Z"
   },
   {
    "duration": 241,
    "start_time": "2023-07-27T07:06:54.104Z"
   },
   {
    "duration": 6368,
    "start_time": "2023-07-27T07:07:01.386Z"
   },
   {
    "duration": 2314,
    "start_time": "2023-07-27T07:07:22.434Z"
   },
   {
    "duration": 475,
    "start_time": "2023-07-27T07:07:29.522Z"
   },
   {
    "duration": 6776,
    "start_time": "2023-07-27T07:07:37.490Z"
   },
   {
    "duration": 3160,
    "start_time": "2023-07-27T07:08:33.308Z"
   },
   {
    "duration": 2286,
    "start_time": "2023-07-27T07:08:36.470Z"
   },
   {
    "duration": 89,
    "start_time": "2023-07-27T07:08:38.758Z"
   },
   {
    "duration": 500,
    "start_time": "2023-07-27T07:08:38.850Z"
   },
   {
    "duration": 26,
    "start_time": "2023-07-27T07:08:39.353Z"
   },
   {
    "duration": 22,
    "start_time": "2023-07-27T07:08:39.380Z"
   },
   {
    "duration": 6802,
    "start_time": "2023-07-27T07:08:39.404Z"
   },
   {
    "duration": 40,
    "start_time": "2023-07-27T07:08:46.207Z"
   },
   {
    "duration": 129,
    "start_time": "2023-07-27T07:08:46.249Z"
   },
   {
    "duration": 707,
    "start_time": "2023-07-27T07:08:46.379Z"
   },
   {
    "duration": 421,
    "start_time": "2023-07-27T07:08:47.092Z"
   },
   {
    "duration": 92,
    "start_time": "2023-07-27T07:08:47.515Z"
   },
   {
    "duration": 58,
    "start_time": "2023-07-27T07:08:47.610Z"
   },
   {
    "duration": 32,
    "start_time": "2023-07-27T07:08:47.671Z"
   },
   {
    "duration": 4,
    "start_time": "2023-07-27T07:08:47.708Z"
   },
   {
    "duration": 3,
    "start_time": "2023-07-27T07:08:47.715Z"
   },
   {
    "duration": 18,
    "start_time": "2023-07-27T07:08:47.721Z"
   },
   {
    "duration": 60,
    "start_time": "2023-07-27T07:08:47.741Z"
   },
   {
    "duration": 33,
    "start_time": "2023-07-27T07:08:47.803Z"
   },
   {
    "duration": 7,
    "start_time": "2023-07-27T07:08:47.838Z"
   },
   {
    "duration": 16,
    "start_time": "2023-07-27T07:08:47.848Z"
   },
   {
    "duration": 133,
    "start_time": "2023-07-27T07:08:47.866Z"
   },
   {
    "duration": 8,
    "start_time": "2023-07-27T07:08:48.001Z"
   },
   {
    "duration": 92,
    "start_time": "2023-07-27T07:08:48.012Z"
   },
   {
    "duration": 39,
    "start_time": "2023-07-27T07:08:48.107Z"
   },
   {
    "duration": 63,
    "start_time": "2023-07-27T07:08:48.147Z"
   },
   {
    "duration": 32,
    "start_time": "2023-07-27T07:08:48.213Z"
   },
   {
    "duration": 3885,
    "start_time": "2023-07-27T07:08:48.247Z"
   },
   {
    "duration": 2534,
    "start_time": "2023-07-27T07:20:35.699Z"
   },
   {
    "duration": 2031,
    "start_time": "2023-07-27T07:20:38.236Z"
   },
   {
    "duration": 44,
    "start_time": "2023-07-27T07:20:40.269Z"
   },
   {
    "duration": 446,
    "start_time": "2023-07-27T07:20:40.315Z"
   },
   {
    "duration": 34,
    "start_time": "2023-07-27T07:20:40.764Z"
   },
   {
    "duration": 4,
    "start_time": "2023-07-27T07:20:40.800Z"
   },
   {
    "duration": 6844,
    "start_time": "2023-07-27T07:20:43.922Z"
   },
   {
    "duration": 5,
    "start_time": "2023-07-27T07:23:13.759Z"
   },
   {
    "duration": 3337,
    "start_time": "2023-07-27T07:23:31.764Z"
   },
   {
    "duration": 3139,
    "start_time": "2023-07-27T07:23:35.103Z"
   },
   {
    "duration": 27,
    "start_time": "2023-07-27T07:23:38.244Z"
   },
   {
    "duration": 534,
    "start_time": "2023-07-27T07:23:38.273Z"
   },
   {
    "duration": 24,
    "start_time": "2023-07-27T07:23:38.809Z"
   },
   {
    "duration": 5,
    "start_time": "2023-07-27T07:23:43.910Z"
   },
   {
    "duration": 57,
    "start_time": "2023-07-27T07:23:46.801Z"
   },
   {
    "duration": 3,
    "start_time": "2023-07-27T07:24:10.699Z"
   },
   {
    "duration": 316,
    "start_time": "2023-07-27T07:24:21.637Z"
   },
   {
    "duration": 277,
    "start_time": "2023-07-27T07:24:25.826Z"
   },
   {
    "duration": 210,
    "start_time": "2023-07-27T07:24:33.554Z"
   },
   {
    "duration": 369,
    "start_time": "2023-07-27T07:24:41.980Z"
   },
   {
    "duration": 2784,
    "start_time": "2023-07-27T10:27:21.039Z"
   },
   {
    "duration": 2183,
    "start_time": "2023-07-27T10:27:23.825Z"
   },
   {
    "duration": 139,
    "start_time": "2023-07-27T10:27:26.010Z"
   },
   {
    "duration": 621,
    "start_time": "2023-07-27T10:27:26.150Z"
   },
   {
    "duration": 31,
    "start_time": "2023-07-27T10:27:26.774Z"
   },
   {
    "duration": 2,
    "start_time": "2023-07-27T10:27:26.807Z"
   },
   {
    "duration": 64,
    "start_time": "2023-07-27T10:27:26.811Z"
   },
   {
    "duration": 123,
    "start_time": "2023-07-27T10:27:26.876Z"
   },
   {
    "duration": 764,
    "start_time": "2023-07-27T10:27:27.000Z"
   },
   {
    "duration": 357,
    "start_time": "2023-07-27T10:27:27.765Z"
   },
   {
    "duration": 63,
    "start_time": "2023-07-27T10:27:28.124Z"
   },
   {
    "duration": 61,
    "start_time": "2023-07-27T10:27:28.189Z"
   },
   {
    "duration": 14,
    "start_time": "2023-07-27T10:27:28.252Z"
   },
   {
    "duration": 5,
    "start_time": "2023-07-27T10:27:28.269Z"
   },
   {
    "duration": 22,
    "start_time": "2023-07-27T10:27:28.289Z"
   },
   {
    "duration": 25,
    "start_time": "2023-07-27T10:27:28.313Z"
   },
   {
    "duration": 42,
    "start_time": "2023-07-27T10:27:28.340Z"
   },
   {
    "duration": 31,
    "start_time": "2023-07-27T10:27:28.384Z"
   },
   {
    "duration": 5,
    "start_time": "2023-07-27T10:27:28.417Z"
   },
   {
    "duration": 16,
    "start_time": "2023-07-27T10:27:28.424Z"
   },
   {
    "duration": 153,
    "start_time": "2023-07-27T10:27:28.442Z"
   },
   {
    "duration": 101,
    "start_time": "2023-07-27T10:27:28.597Z"
   },
   {
    "duration": 26,
    "start_time": "2023-07-27T10:27:28.700Z"
   },
   {
    "duration": 40,
    "start_time": "2023-07-27T10:27:28.728Z"
   },
   {
    "duration": 3,
    "start_time": "2023-07-27T10:27:28.770Z"
   },
   {
    "duration": 8,
    "start_time": "2023-07-27T10:27:28.775Z"
   },
   {
    "duration": 3676,
    "start_time": "2023-07-27T10:27:28.785Z"
   },
   {
    "duration": 2804,
    "start_time": "2023-07-27T10:32:41.942Z"
   },
   {
    "duration": 5,
    "start_time": "2023-07-27T10:32:44.748Z"
   },
   {
    "duration": 171,
    "start_time": "2023-07-27T10:32:44.755Z"
   },
   {
    "duration": 525,
    "start_time": "2023-07-27T10:32:44.928Z"
   },
   {
    "duration": 32,
    "start_time": "2023-07-27T10:32:45.455Z"
   },
   {
    "duration": 46,
    "start_time": "2023-07-27T10:32:45.489Z"
   },
   {
    "duration": 81,
    "start_time": "2023-07-27T10:32:45.537Z"
   },
   {
    "duration": 127,
    "start_time": "2023-07-27T10:32:45.620Z"
   },
   {
    "duration": 680,
    "start_time": "2023-07-27T10:32:45.749Z"
   },
   {
    "duration": 375,
    "start_time": "2023-07-27T10:32:46.431Z"
   },
   {
    "duration": 58,
    "start_time": "2023-07-27T10:32:46.808Z"
   },
   {
    "duration": 82,
    "start_time": "2023-07-27T10:32:46.868Z"
   },
   {
    "duration": 12,
    "start_time": "2023-07-27T10:32:46.951Z"
   },
   {
    "duration": 30,
    "start_time": "2023-07-27T10:32:46.965Z"
   },
   {
    "duration": 7,
    "start_time": "2023-07-27T10:32:46.997Z"
   },
   {
    "duration": 25,
    "start_time": "2023-07-27T10:32:47.007Z"
   },
   {
    "duration": 76,
    "start_time": "2023-07-27T10:32:47.034Z"
   },
   {
    "duration": 82,
    "start_time": "2023-07-27T10:32:47.112Z"
   },
   {
    "duration": 95,
    "start_time": "2023-07-27T10:32:47.196Z"
   },
   {
    "duration": 22,
    "start_time": "2023-07-27T10:32:47.296Z"
   },
   {
    "duration": 175,
    "start_time": "2023-07-27T10:32:47.320Z"
   },
   {
    "duration": 2605,
    "start_time": "2023-07-27T10:33:05.262Z"
   },
   {
    "duration": 2575,
    "start_time": "2023-07-27T10:33:07.869Z"
   },
   {
    "duration": 180,
    "start_time": "2023-07-27T10:33:10.446Z"
   },
   {
    "duration": 495,
    "start_time": "2023-07-27T10:33:10.628Z"
   },
   {
    "duration": 23,
    "start_time": "2023-07-27T10:33:11.126Z"
   },
   {
    "duration": 2,
    "start_time": "2023-07-27T10:33:11.151Z"
   },
   {
    "duration": 60,
    "start_time": "2023-07-27T10:33:11.154Z"
   },
   {
    "duration": 126,
    "start_time": "2023-07-27T10:33:11.215Z"
   },
   {
    "duration": 690,
    "start_time": "2023-07-27T10:33:11.343Z"
   },
   {
    "duration": 343,
    "start_time": "2023-07-27T10:33:12.034Z"
   },
   {
    "duration": 56,
    "start_time": "2023-07-27T10:33:12.378Z"
   },
   {
    "duration": 67,
    "start_time": "2023-07-27T10:33:12.436Z"
   },
   {
    "duration": 16,
    "start_time": "2023-07-27T10:33:12.504Z"
   },
   {
    "duration": 36,
    "start_time": "2023-07-27T10:33:12.524Z"
   },
   {
    "duration": 29,
    "start_time": "2023-07-27T10:33:12.563Z"
   },
   {
    "duration": 24,
    "start_time": "2023-07-27T10:33:12.594Z"
   },
   {
    "duration": 56,
    "start_time": "2023-07-27T10:33:12.620Z"
   },
   {
    "duration": 25,
    "start_time": "2023-07-27T10:33:12.677Z"
   },
   {
    "duration": 5,
    "start_time": "2023-07-27T10:33:12.703Z"
   },
   {
    "duration": 35,
    "start_time": "2023-07-27T10:33:12.709Z"
   },
   {
    "duration": 51,
    "start_time": "2023-07-27T10:33:12.745Z"
   },
   {
    "duration": 90,
    "start_time": "2023-07-27T10:33:12.798Z"
   },
   {
    "duration": 5,
    "start_time": "2023-07-27T10:33:12.890Z"
   },
   {
    "duration": 111,
    "start_time": "2023-07-27T10:33:12.897Z"
   },
   {
    "duration": 4,
    "start_time": "2023-07-27T10:33:13.009Z"
   },
   {
    "duration": 27,
    "start_time": "2023-07-27T10:33:13.015Z"
   },
   {
    "duration": 3635,
    "start_time": "2023-07-27T10:33:13.044Z"
   },
   {
    "duration": 6,
    "start_time": "2023-07-27T10:44:20.847Z"
   },
   {
    "duration": 1397,
    "start_time": "2023-07-27T10:44:22.310Z"
   },
   {
    "duration": 6,
    "start_time": "2023-07-27T10:44:38.356Z"
   },
   {
    "duration": 3718,
    "start_time": "2023-07-27T10:44:39.687Z"
   },
   {
    "duration": 4,
    "start_time": "2023-07-27T10:46:27.701Z"
   },
   {
    "duration": 7,
    "start_time": "2023-07-27T10:46:29.147Z"
   },
   {
    "duration": 4120,
    "start_time": "2023-07-27T10:46:31.061Z"
   },
   {
    "duration": 651,
    "start_time": "2023-07-27T10:58:00.159Z"
   },
   {
    "duration": 4,
    "start_time": "2023-07-27T10:59:32.247Z"
   },
   {
    "duration": 53,
    "start_time": "2023-07-27T11:06:32.299Z"
   },
   {
    "duration": 8,
    "start_time": "2023-07-27T11:07:21.448Z"
   },
   {
    "duration": 36,
    "start_time": "2023-07-27T11:07:22.987Z"
   },
   {
    "duration": 47,
    "start_time": "2023-07-27T11:07:26.001Z"
   },
   {
    "duration": 52,
    "start_time": "2023-07-27T11:20:22.266Z"
   },
   {
    "duration": 54,
    "start_time": "2023-07-27T11:20:35.958Z"
   },
   {
    "duration": 53,
    "start_time": "2023-07-27T11:20:57.794Z"
   },
   {
    "duration": 38,
    "start_time": "2023-07-27T11:21:58.022Z"
   },
   {
    "duration": 30,
    "start_time": "2023-07-27T11:24:03.154Z"
   },
   {
    "duration": 166,
    "start_time": "2023-07-27T11:30:12.621Z"
   },
   {
    "duration": 6,
    "start_time": "2023-07-27T11:30:16.446Z"
   },
   {
    "duration": 4,
    "start_time": "2023-07-27T11:30:17.104Z"
   },
   {
    "duration": 48,
    "start_time": "2023-07-27T11:30:18.650Z"
   },
   {
    "duration": 137,
    "start_time": "2023-07-27T11:30:19.261Z"
   },
   {
    "duration": 3,
    "start_time": "2023-07-27T11:30:40.174Z"
   },
   {
    "duration": 241,
    "start_time": "2023-07-27T11:30:43.746Z"
   },
   {
    "duration": 139,
    "start_time": "2023-07-27T11:30:44.550Z"
   },
   {
    "duration": 7,
    "start_time": "2023-07-27T11:30:50.652Z"
   },
   {
    "duration": 3,
    "start_time": "2023-07-27T11:30:51.001Z"
   },
   {
    "duration": 115,
    "start_time": "2023-07-27T11:30:52.180Z"
   },
   {
    "duration": 97,
    "start_time": "2023-07-27T11:30:52.593Z"
   },
   {
    "duration": 36,
    "start_time": "2023-07-27T11:32:53.411Z"
   },
   {
    "duration": 32,
    "start_time": "2023-07-27T11:33:08.630Z"
   },
   {
    "duration": 7,
    "start_time": "2023-07-27T11:34:12.562Z"
   },
   {
    "duration": 4,
    "start_time": "2023-07-27T11:34:13.458Z"
   },
   {
    "duration": 83,
    "start_time": "2023-07-27T11:34:15.409Z"
   },
   {
    "duration": 35,
    "start_time": "2023-07-27T11:34:16.554Z"
   },
   {
    "duration": 7,
    "start_time": "2023-07-27T11:36:39.768Z"
   },
   {
    "duration": 6,
    "start_time": "2023-07-27T11:36:42.620Z"
   },
   {
    "duration": 5,
    "start_time": "2023-07-27T11:36:49.345Z"
   },
   {
    "duration": 6,
    "start_time": "2023-07-27T11:36:52.442Z"
   },
   {
    "duration": 11,
    "start_time": "2023-07-27T11:38:41.457Z"
   },
   {
    "duration": 17,
    "start_time": "2023-07-27T11:38:46.594Z"
   },
   {
    "duration": 2680,
    "start_time": "2023-07-27T11:45:47.950Z"
   },
   {
    "duration": 2499,
    "start_time": "2023-07-27T11:45:50.633Z"
   },
   {
    "duration": 186,
    "start_time": "2023-07-27T11:45:53.134Z"
   },
   {
    "duration": 751,
    "start_time": "2023-07-27T11:45:53.322Z"
   },
   {
    "duration": 26,
    "start_time": "2023-07-27T11:45:54.075Z"
   },
   {
    "duration": 3,
    "start_time": "2023-07-27T11:45:54.103Z"
   },
   {
    "duration": 44,
    "start_time": "2023-07-27T11:45:54.107Z"
   },
   {
    "duration": 127,
    "start_time": "2023-07-27T11:45:54.153Z"
   },
   {
    "duration": 751,
    "start_time": "2023-07-27T11:45:54.288Z"
   },
   {
    "duration": 363,
    "start_time": "2023-07-27T11:45:55.041Z"
   },
   {
    "duration": 54,
    "start_time": "2023-07-27T11:45:55.406Z"
   },
   {
    "duration": 72,
    "start_time": "2023-07-27T11:45:55.462Z"
   },
   {
    "duration": 16,
    "start_time": "2023-07-27T11:45:55.535Z"
   },
   {
    "duration": 40,
    "start_time": "2023-07-27T11:45:55.554Z"
   },
   {
    "duration": 26,
    "start_time": "2023-07-27T11:45:55.596Z"
   },
   {
    "duration": 24,
    "start_time": "2023-07-27T11:45:55.623Z"
   },
   {
    "duration": 47,
    "start_time": "2023-07-27T11:45:55.649Z"
   },
   {
    "duration": 37,
    "start_time": "2023-07-27T11:45:55.698Z"
   },
   {
    "duration": 21,
    "start_time": "2023-07-27T11:45:55.737Z"
   },
   {
    "duration": 43,
    "start_time": "2023-07-27T11:45:55.760Z"
   },
   {
    "duration": 15,
    "start_time": "2023-07-27T11:45:55.805Z"
   },
   {
    "duration": 29,
    "start_time": "2023-07-27T11:45:55.822Z"
   },
   {
    "duration": 139,
    "start_time": "2023-07-27T11:45:55.852Z"
   },
   {
    "duration": 301,
    "start_time": "2023-07-27T11:45:55.993Z"
   },
   {
    "duration": 92,
    "start_time": "2023-07-27T11:45:56.296Z"
   },
   {
    "duration": 6,
    "start_time": "2023-07-27T11:45:56.390Z"
   },
   {
    "duration": 4648,
    "start_time": "2023-07-27T11:45:56.397Z"
   },
   {
    "duration": 0,
    "start_time": "2023-07-27T11:46:01.046Z"
   },
   {
    "duration": 0,
    "start_time": "2023-07-27T11:46:01.048Z"
   },
   {
    "duration": 0,
    "start_time": "2023-07-27T11:46:01.049Z"
   },
   {
    "duration": 2862,
    "start_time": "2023-07-27T11:47:43.950Z"
   },
   {
    "duration": 2302,
    "start_time": "2023-07-27T11:47:46.815Z"
   },
   {
    "duration": 189,
    "start_time": "2023-07-27T11:47:49.118Z"
   },
   {
    "duration": 599,
    "start_time": "2023-07-27T11:47:49.309Z"
   },
   {
    "duration": 24,
    "start_time": "2023-07-27T11:47:49.911Z"
   },
   {
    "duration": 3,
    "start_time": "2023-07-27T11:47:49.936Z"
   },
   {
    "duration": 59,
    "start_time": "2023-07-27T11:47:49.940Z"
   },
   {
    "duration": 120,
    "start_time": "2023-07-27T11:47:50.001Z"
   },
   {
    "duration": 717,
    "start_time": "2023-07-27T11:47:50.122Z"
   },
   {
    "duration": 334,
    "start_time": "2023-07-27T11:47:50.841Z"
   },
   {
    "duration": 65,
    "start_time": "2023-07-27T11:47:51.177Z"
   },
   {
    "duration": 61,
    "start_time": "2023-07-27T11:47:51.243Z"
   },
   {
    "duration": 15,
    "start_time": "2023-07-27T11:47:51.306Z"
   },
   {
    "duration": 5,
    "start_time": "2023-07-27T11:47:51.324Z"
   },
   {
    "duration": 8,
    "start_time": "2023-07-27T11:47:51.330Z"
   },
   {
    "duration": 20,
    "start_time": "2023-07-27T11:47:51.340Z"
   },
   {
    "duration": 49,
    "start_time": "2023-07-27T11:47:51.362Z"
   },
   {
    "duration": 41,
    "start_time": "2023-07-27T11:47:51.413Z"
   },
   {
    "duration": 41,
    "start_time": "2023-07-27T11:47:51.455Z"
   },
   {
    "duration": 153,
    "start_time": "2023-07-27T11:47:51.497Z"
   },
   {
    "duration": 83,
    "start_time": "2023-07-27T11:47:51.651Z"
   },
   {
    "duration": 26,
    "start_time": "2023-07-27T11:47:51.735Z"
   },
   {
    "duration": 35,
    "start_time": "2023-07-27T11:47:51.763Z"
   },
   {
    "duration": 291,
    "start_time": "2023-07-27T11:47:51.800Z"
   },
   {
    "duration": 94,
    "start_time": "2023-07-27T11:47:52.093Z"
   },
   {
    "duration": 4,
    "start_time": "2023-07-27T11:47:52.189Z"
   },
   {
    "duration": 4603,
    "start_time": "2023-07-27T11:47:52.194Z"
   },
   {
    "duration": 0,
    "start_time": "2023-07-27T11:47:56.799Z"
   },
   {
    "duration": 0,
    "start_time": "2023-07-27T11:47:56.800Z"
   },
   {
    "duration": 0,
    "start_time": "2023-07-27T11:47:56.801Z"
   },
   {
    "duration": 22,
    "start_time": "2023-07-27T11:49:02.196Z"
   },
   {
    "duration": 2698,
    "start_time": "2023-07-27T11:49:27.812Z"
   },
   {
    "duration": 2393,
    "start_time": "2023-07-27T11:49:30.512Z"
   },
   {
    "duration": 61,
    "start_time": "2023-07-27T11:49:32.906Z"
   },
   {
    "duration": 432,
    "start_time": "2023-07-27T11:49:32.969Z"
   },
   {
    "duration": 24,
    "start_time": "2023-07-27T11:49:33.403Z"
   },
   {
    "duration": 15,
    "start_time": "2023-07-27T11:49:33.428Z"
   },
   {
    "duration": 54,
    "start_time": "2023-07-27T11:49:33.444Z"
   },
   {
    "duration": 116,
    "start_time": "2023-07-27T11:49:33.500Z"
   },
   {
    "duration": 710,
    "start_time": "2023-07-27T11:49:33.618Z"
   },
   {
    "duration": 338,
    "start_time": "2023-07-27T11:49:34.330Z"
   },
   {
    "duration": 68,
    "start_time": "2023-07-27T11:49:34.671Z"
   },
   {
    "duration": 69,
    "start_time": "2023-07-27T11:49:34.741Z"
   },
   {
    "duration": 16,
    "start_time": "2023-07-27T11:49:34.811Z"
   },
   {
    "duration": 29,
    "start_time": "2023-07-27T11:49:34.830Z"
   },
   {
    "duration": 23,
    "start_time": "2023-07-27T11:49:34.861Z"
   },
   {
    "duration": 38,
    "start_time": "2023-07-27T11:49:34.886Z"
   },
   {
    "duration": 76,
    "start_time": "2023-07-27T11:49:34.926Z"
   },
   {
    "duration": 43,
    "start_time": "2023-07-27T11:49:35.004Z"
   },
   {
    "duration": 38,
    "start_time": "2023-07-27T11:49:35.049Z"
   },
   {
    "duration": 27,
    "start_time": "2023-07-27T11:49:35.090Z"
   },
   {
    "duration": 10,
    "start_time": "2023-07-27T11:49:35.119Z"
   },
   {
    "duration": 19,
    "start_time": "2023-07-27T11:49:35.131Z"
   },
   {
    "duration": 236,
    "start_time": "2023-07-27T11:49:35.152Z"
   },
   {
    "duration": 109,
    "start_time": "2023-07-27T11:49:35.391Z"
   },
   {
    "duration": 3,
    "start_time": "2023-07-27T11:49:35.588Z"
   },
   {
    "duration": 6,
    "start_time": "2023-07-27T11:49:35.593Z"
   },
   {
    "duration": 23,
    "start_time": "2023-07-27T11:49:35.600Z"
   },
   {
    "duration": 3,
    "start_time": "2023-07-27T11:49:35.625Z"
   },
   {
    "duration": 60,
    "start_time": "2023-07-27T11:49:35.630Z"
   },
   {
    "duration": 4158,
    "start_time": "2023-07-27T11:49:35.692Z"
   },
   {
    "duration": 9,
    "start_time": "2023-07-27T11:51:12.798Z"
   },
   {
    "duration": 4251,
    "start_time": "2023-07-27T11:51:18.902Z"
   },
   {
    "duration": 4126,
    "start_time": "2023-07-27T11:51:25.673Z"
   },
   {
    "duration": 4238,
    "start_time": "2023-07-27T11:51:32.091Z"
   },
   {
    "duration": 4138,
    "start_time": "2023-07-27T11:51:40.198Z"
   },
   {
    "duration": 6,
    "start_time": "2023-07-27T11:52:00.162Z"
   },
   {
    "duration": 4279,
    "start_time": "2023-07-27T11:52:02.865Z"
   },
   {
    "duration": 4265,
    "start_time": "2023-07-27T11:52:11.249Z"
   },
   {
    "duration": 2628,
    "start_time": "2023-07-27T11:53:35.089Z"
   },
   {
    "duration": 2227,
    "start_time": "2023-07-27T11:53:37.720Z"
   },
   {
    "duration": 38,
    "start_time": "2023-07-27T11:53:39.950Z"
   },
   {
    "duration": 484,
    "start_time": "2023-07-27T11:53:39.990Z"
   },
   {
    "duration": 25,
    "start_time": "2023-07-27T11:53:40.477Z"
   },
   {
    "duration": 6,
    "start_time": "2023-07-27T11:53:40.504Z"
   },
   {
    "duration": 76,
    "start_time": "2023-07-27T11:53:40.511Z"
   },
   {
    "duration": 118,
    "start_time": "2023-07-27T11:53:40.589Z"
   },
   {
    "duration": 714,
    "start_time": "2023-07-27T11:53:40.709Z"
   },
   {
    "duration": 328,
    "start_time": "2023-07-27T11:53:41.424Z"
   },
   {
    "duration": 60,
    "start_time": "2023-07-27T11:53:41.754Z"
   },
   {
    "duration": 53,
    "start_time": "2023-07-27T11:53:41.816Z"
   },
   {
    "duration": 30,
    "start_time": "2023-07-27T11:53:41.871Z"
   },
   {
    "duration": 25,
    "start_time": "2023-07-27T11:53:41.905Z"
   },
   {
    "duration": 49,
    "start_time": "2023-07-27T11:53:41.932Z"
   },
   {
    "duration": 45,
    "start_time": "2023-07-27T11:53:41.983Z"
   },
   {
    "duration": 45,
    "start_time": "2023-07-27T11:53:42.030Z"
   },
   {
    "duration": 40,
    "start_time": "2023-07-27T11:53:42.077Z"
   },
   {
    "duration": 24,
    "start_time": "2023-07-27T11:53:42.118Z"
   },
   {
    "duration": 21,
    "start_time": "2023-07-27T11:53:42.144Z"
   },
   {
    "duration": 13,
    "start_time": "2023-07-27T11:53:42.188Z"
   },
   {
    "duration": 11,
    "start_time": "2023-07-27T11:53:42.203Z"
   },
   {
    "duration": 173,
    "start_time": "2023-07-27T11:53:42.216Z"
   },
   {
    "duration": 198,
    "start_time": "2023-07-27T11:53:42.391Z"
   },
   {
    "duration": 4,
    "start_time": "2023-07-27T11:53:42.591Z"
   },
   {
    "duration": 12,
    "start_time": "2023-07-27T11:53:42.686Z"
   },
   {
    "duration": 31,
    "start_time": "2023-07-27T11:53:42.700Z"
   },
   {
    "duration": 4,
    "start_time": "2023-07-27T11:53:42.732Z"
   },
   {
    "duration": 19,
    "start_time": "2023-07-27T11:53:42.737Z"
   },
   {
    "duration": 249,
    "start_time": "2023-07-27T11:53:42.758Z"
   },
   {
    "duration": 6,
    "start_time": "2023-07-27T11:53:54.488Z"
   },
   {
    "duration": 4199,
    "start_time": "2023-07-27T11:53:55.957Z"
   },
   {
    "duration": 9,
    "start_time": "2023-07-27T11:56:10.701Z"
   },
   {
    "duration": 5196,
    "start_time": "2023-07-27T11:56:12.307Z"
   },
   {
    "duration": 8,
    "start_time": "2023-07-27T12:00:08.177Z"
   },
   {
    "duration": 4207,
    "start_time": "2023-07-27T12:00:10.066Z"
   },
   {
    "duration": 5,
    "start_time": "2023-07-27T12:05:49.180Z"
   },
   {
    "duration": 3,
    "start_time": "2023-07-27T12:06:13.382Z"
   },
   {
    "duration": 4084,
    "start_time": "2023-07-27T12:06:45.613Z"
   },
   {
    "duration": 4,
    "start_time": "2023-07-27T12:06:57.989Z"
   },
   {
    "duration": 4522,
    "start_time": "2023-07-27T12:07:00.087Z"
   },
   {
    "duration": 4,
    "start_time": "2023-07-27T12:07:15.766Z"
   },
   {
    "duration": 4410,
    "start_time": "2023-07-27T12:07:18.485Z"
   },
   {
    "duration": 5,
    "start_time": "2023-07-27T12:08:19.265Z"
   },
   {
    "duration": 4814,
    "start_time": "2023-07-27T12:08:21.549Z"
   },
   {
    "duration": 5,
    "start_time": "2023-07-27T12:09:29.949Z"
   },
   {
    "duration": 5082,
    "start_time": "2023-07-27T12:09:32.549Z"
   },
   {
    "duration": 5,
    "start_time": "2023-07-27T12:09:45.649Z"
   },
   {
    "duration": 4817,
    "start_time": "2023-07-27T12:09:49.116Z"
   },
   {
    "duration": 6,
    "start_time": "2023-07-27T12:11:00.817Z"
   },
   {
    "duration": 6297,
    "start_time": "2023-07-27T12:11:06.293Z"
   },
   {
    "duration": 5,
    "start_time": "2023-07-27T12:11:47.345Z"
   },
   {
    "duration": 4639,
    "start_time": "2023-07-27T12:11:48.919Z"
   },
   {
    "duration": 711,
    "start_time": "2023-07-27T12:12:05.374Z"
   },
   {
    "duration": 359,
    "start_time": "2023-07-27T12:12:09.983Z"
   },
   {
    "duration": 5,
    "start_time": "2023-07-27T12:13:21.413Z"
   },
   {
    "duration": 428,
    "start_time": "2023-07-27T12:13:26.673Z"
   },
   {
    "duration": 126,
    "start_time": "2023-07-27T12:13:45.011Z"
   },
   {
    "duration": 425,
    "start_time": "2023-07-27T12:14:01.967Z"
   },
   {
    "duration": 4,
    "start_time": "2023-07-27T12:16:06.668Z"
   },
   {
    "duration": 255,
    "start_time": "2023-07-27T12:16:10.956Z"
   },
   {
    "duration": 5,
    "start_time": "2023-07-27T12:17:09.316Z"
   },
   {
    "duration": 591,
    "start_time": "2023-07-27T12:17:15.165Z"
   },
   {
    "duration": 12,
    "start_time": "2023-07-27T12:17:48.948Z"
   },
   {
    "duration": 4115,
    "start_time": "2023-07-27T12:18:20.614Z"
   },
   {
    "duration": 11,
    "start_time": "2023-07-27T12:18:29.210Z"
   },
   {
    "duration": 177,
    "start_time": "2023-07-27T12:18:49.649Z"
   },
   {
    "duration": 473,
    "start_time": "2023-07-27T12:18:55.408Z"
   },
   {
    "duration": 585,
    "start_time": "2023-07-27T12:19:44.649Z"
   },
   {
    "duration": 5,
    "start_time": "2023-07-27T12:20:42.873Z"
   },
   {
    "duration": 5,
    "start_time": "2023-07-27T12:20:44.349Z"
   },
   {
    "duration": 4625,
    "start_time": "2023-07-27T12:20:46.460Z"
   },
   {
    "duration": 284,
    "start_time": "2023-07-27T12:20:55.569Z"
   },
   {
    "duration": 351,
    "start_time": "2023-07-27T12:21:02.997Z"
   },
   {
    "duration": 4,
    "start_time": "2023-07-27T12:21:20.270Z"
   },
   {
    "duration": 430,
    "start_time": "2023-07-27T12:21:29.883Z"
   },
   {
    "duration": 689,
    "start_time": "2023-07-27T12:21:35.434Z"
   },
   {
    "duration": 5,
    "start_time": "2023-07-27T12:22:42.396Z"
   },
   {
    "duration": 650,
    "start_time": "2023-07-27T12:22:45.907Z"
   },
   {
    "duration": 6,
    "start_time": "2023-07-27T12:24:57.869Z"
   },
   {
    "duration": 420,
    "start_time": "2023-07-27T12:25:01.716Z"
   },
   {
    "duration": 6,
    "start_time": "2023-07-27T12:25:31.851Z"
   },
   {
    "duration": 409,
    "start_time": "2023-07-27T12:25:35.591Z"
   },
   {
    "duration": 6,
    "start_time": "2023-07-27T12:25:51.887Z"
   },
   {
    "duration": 1193,
    "start_time": "2023-07-27T12:25:54.846Z"
   },
   {
    "duration": 5284,
    "start_time": "2023-07-27T12:26:18.776Z"
   },
   {
    "duration": 6,
    "start_time": "2023-07-27T12:28:24.450Z"
   },
   {
    "duration": 5542,
    "start_time": "2023-07-27T12:28:26.462Z"
   },
   {
    "duration": 6,
    "start_time": "2023-07-27T12:29:17.311Z"
   },
   {
    "duration": 5381,
    "start_time": "2023-07-27T12:29:19.345Z"
   },
   {
    "duration": 9,
    "start_time": "2023-07-27T12:29:34.245Z"
   },
   {
    "duration": 5325,
    "start_time": "2023-07-27T12:29:35.358Z"
   },
   {
    "duration": 6,
    "start_time": "2023-07-27T12:31:14.479Z"
   },
   {
    "duration": 4849,
    "start_time": "2023-07-27T12:31:15.941Z"
   },
   {
    "duration": 6,
    "start_time": "2023-07-27T12:31:30.270Z"
   },
   {
    "duration": 5723,
    "start_time": "2023-07-27T12:31:31.506Z"
   },
   {
    "duration": 6,
    "start_time": "2023-07-27T12:32:00.965Z"
   },
   {
    "duration": 6,
    "start_time": "2023-07-27T12:32:09.945Z"
   },
   {
    "duration": 4,
    "start_time": "2023-07-27T12:36:51.349Z"
   },
   {
    "duration": 14478,
    "start_time": "2023-07-27T12:36:57.750Z"
   },
   {
    "duration": 4,
    "start_time": "2023-07-27T12:37:36.569Z"
   },
   {
    "duration": 14526,
    "start_time": "2023-07-27T12:37:37.049Z"
   },
   {
    "duration": 202,
    "start_time": "2023-07-27T12:42:29.709Z"
   },
   {
    "duration": 14190,
    "start_time": "2023-07-27T12:48:37.777Z"
   },
   {
    "duration": 14779,
    "start_time": "2023-07-27T12:50:24.876Z"
   },
   {
    "duration": 14492,
    "start_time": "2023-07-27T12:51:35.949Z"
   },
   {
    "duration": 14114,
    "start_time": "2023-07-27T12:52:03.706Z"
   },
   {
    "duration": 14404,
    "start_time": "2023-07-27T12:53:08.857Z"
   },
   {
    "duration": 2,
    "start_time": "2023-07-27T12:59:20.457Z"
   },
   {
    "duration": 2,
    "start_time": "2023-07-27T12:59:29.445Z"
   },
   {
    "duration": 24,
    "start_time": "2023-07-27T13:00:30.710Z"
   },
   {
    "duration": 28,
    "start_time": "2023-07-27T13:00:46.397Z"
   },
   {
    "duration": 107,
    "start_time": "2023-07-27T13:01:02.504Z"
   },
   {
    "duration": 280,
    "start_time": "2023-07-27T13:02:00.015Z"
   },
   {
    "duration": 3652,
    "start_time": "2023-07-27T13:02:30.894Z"
   },
   {
    "duration": 2803,
    "start_time": "2023-07-27T13:02:34.548Z"
   },
   {
    "duration": 45,
    "start_time": "2023-07-27T13:02:37.353Z"
   },
   {
    "duration": 484,
    "start_time": "2023-07-27T13:02:37.399Z"
   },
   {
    "duration": 3,
    "start_time": "2023-07-27T13:02:37.886Z"
   },
   {
    "duration": 13,
    "start_time": "2023-07-27T13:02:37.890Z"
   },
   {
    "duration": 35,
    "start_time": "2023-07-27T13:02:37.905Z"
   },
   {
    "duration": 3,
    "start_time": "2023-07-27T13:02:37.942Z"
   },
   {
    "duration": 96,
    "start_time": "2023-07-27T13:02:37.947Z"
   },
   {
    "duration": 155,
    "start_time": "2023-07-27T13:02:38.046Z"
   },
   {
    "duration": 15002,
    "start_time": "2023-07-27T13:02:38.204Z"
   },
   {
    "duration": 613,
    "start_time": "2023-07-27T13:02:59.848Z"
   },
   {
    "duration": 329,
    "start_time": "2023-07-27T13:03:26.158Z"
   },
   {
    "duration": 69,
    "start_time": "2023-07-27T13:04:11.215Z"
   },
   {
    "duration": 57,
    "start_time": "2023-07-27T13:04:26.996Z"
   },
   {
    "duration": 10,
    "start_time": "2023-07-27T13:05:15.665Z"
   },
   {
    "duration": 2821,
    "start_time": "2023-07-27T13:05:23.153Z"
   },
   {
    "duration": 2180,
    "start_time": "2023-07-27T13:05:25.976Z"
   },
   {
    "duration": 103,
    "start_time": "2023-07-27T13:05:28.158Z"
   },
   {
    "duration": 458,
    "start_time": "2023-07-27T13:05:28.263Z"
   },
   {
    "duration": 2,
    "start_time": "2023-07-27T13:05:28.724Z"
   },
   {
    "duration": 14,
    "start_time": "2023-07-27T13:05:28.728Z"
   },
   {
    "duration": 42,
    "start_time": "2023-07-27T13:05:28.744Z"
   },
   {
    "duration": 3,
    "start_time": "2023-07-27T13:05:28.787Z"
   },
   {
    "duration": 69,
    "start_time": "2023-07-27T13:05:28.791Z"
   },
   {
    "duration": 105,
    "start_time": "2023-07-27T13:05:28.862Z"
   },
   {
    "duration": 14771,
    "start_time": "2023-07-27T13:05:28.969Z"
   },
   {
    "duration": 621,
    "start_time": "2023-07-27T13:05:43.742Z"
   },
   {
    "duration": 343,
    "start_time": "2023-07-27T13:05:44.364Z"
   },
   {
    "duration": 78,
    "start_time": "2023-07-27T13:05:44.710Z"
   },
   {
    "duration": 67,
    "start_time": "2023-07-27T13:05:44.791Z"
   },
   {
    "duration": 33,
    "start_time": "2023-07-27T13:05:44.861Z"
   },
   {
    "duration": 4,
    "start_time": "2023-07-27T13:05:44.896Z"
   },
   {
    "duration": 43,
    "start_time": "2023-07-27T13:05:44.902Z"
   },
   {
    "duration": 71,
    "start_time": "2023-07-27T13:05:44.947Z"
   },
   {
    "duration": 90,
    "start_time": "2023-07-27T13:05:45.020Z"
   },
   {
    "duration": 26,
    "start_time": "2023-07-27T13:05:45.112Z"
   },
   {
    "duration": 30,
    "start_time": "2023-07-27T13:05:45.140Z"
   },
   {
    "duration": 17,
    "start_time": "2023-07-27T13:05:45.172Z"
   },
   {
    "duration": 36,
    "start_time": "2023-07-27T13:05:45.191Z"
   },
   {
    "duration": 164,
    "start_time": "2023-07-27T13:05:45.229Z"
   },
   {
    "duration": 194,
    "start_time": "2023-07-27T13:05:45.395Z"
   },
   {
    "duration": 98,
    "start_time": "2023-07-27T13:05:45.591Z"
   },
   {
    "duration": 32,
    "start_time": "2023-07-27T13:05:45.690Z"
   },
   {
    "duration": 32,
    "start_time": "2023-07-27T13:05:45.723Z"
   },
   {
    "duration": 3,
    "start_time": "2023-07-27T13:05:45.757Z"
   },
   {
    "duration": 29,
    "start_time": "2023-07-27T13:05:45.762Z"
   },
   {
    "duration": 34,
    "start_time": "2023-07-27T13:05:45.793Z"
   },
   {
    "duration": 5534,
    "start_time": "2023-07-27T13:05:45.829Z"
   },
   {
    "duration": 17854,
    "start_time": "2023-07-28T10:25:55.857Z"
   },
   {
    "duration": 3753,
    "start_time": "2023-07-28T10:26:13.713Z"
   },
   {
    "duration": 160,
    "start_time": "2023-07-28T10:26:17.468Z"
   },
   {
    "duration": 1270,
    "start_time": "2023-07-28T10:26:31.618Z"
   },
   {
    "duration": 8006,
    "start_time": "2023-07-28T10:26:39.762Z"
   },
   {
    "duration": 8437,
    "start_time": "2023-07-28T10:28:11.311Z"
   },
   {
    "duration": 7159,
    "start_time": "2023-07-28T10:28:36.616Z"
   },
   {
    "duration": 4,
    "start_time": "2023-07-28T10:29:10.503Z"
   },
   {
    "duration": 3571,
    "start_time": "2023-07-28T10:29:10.509Z"
   },
   {
    "duration": 170,
    "start_time": "2023-07-28T10:29:14.082Z"
   },
   {
    "duration": 1417,
    "start_time": "2023-07-28T10:29:14.253Z"
   },
   {
    "duration": 3,
    "start_time": "2023-07-28T10:29:15.671Z"
   },
   {
    "duration": 10,
    "start_time": "2023-07-28T10:29:15.675Z"
   },
   {
    "duration": 42,
    "start_time": "2023-07-28T10:29:15.686Z"
   },
   {
    "duration": 18,
    "start_time": "2023-07-28T10:29:15.729Z"
   },
   {
    "duration": 7631,
    "start_time": "2023-07-28T10:29:15.748Z"
   },
   {
    "duration": 33,
    "start_time": "2023-07-28T10:29:23.399Z"
   },
   {
    "duration": 114,
    "start_time": "2023-07-28T10:29:23.434Z"
   },
   {
    "duration": 1364,
    "start_time": "2023-07-28T10:29:23.550Z"
   },
   {
    "duration": 0,
    "start_time": "2023-07-28T10:29:24.915Z"
   },
   {
    "duration": 0,
    "start_time": "2023-07-28T10:29:24.916Z"
   },
   {
    "duration": 0,
    "start_time": "2023-07-28T10:29:24.918Z"
   },
   {
    "duration": 0,
    "start_time": "2023-07-28T10:29:24.919Z"
   },
   {
    "duration": 0,
    "start_time": "2023-07-28T10:29:24.920Z"
   },
   {
    "duration": 0,
    "start_time": "2023-07-28T10:29:24.921Z"
   },
   {
    "duration": 0,
    "start_time": "2023-07-28T10:29:24.922Z"
   },
   {
    "duration": 0,
    "start_time": "2023-07-28T10:29:24.922Z"
   },
   {
    "duration": 0,
    "start_time": "2023-07-28T10:29:24.923Z"
   },
   {
    "duration": 0,
    "start_time": "2023-07-28T10:29:24.924Z"
   },
   {
    "duration": 0,
    "start_time": "2023-07-28T10:29:24.925Z"
   },
   {
    "duration": 0,
    "start_time": "2023-07-28T10:29:24.927Z"
   },
   {
    "duration": 0,
    "start_time": "2023-07-28T10:29:24.928Z"
   },
   {
    "duration": 0,
    "start_time": "2023-07-28T10:29:24.929Z"
   },
   {
    "duration": 0,
    "start_time": "2023-07-28T10:29:24.930Z"
   },
   {
    "duration": 0,
    "start_time": "2023-07-28T10:29:24.931Z"
   },
   {
    "duration": 0,
    "start_time": "2023-07-28T10:29:24.932Z"
   },
   {
    "duration": 0,
    "start_time": "2023-07-28T10:29:24.933Z"
   },
   {
    "duration": 0,
    "start_time": "2023-07-28T10:29:24.934Z"
   },
   {
    "duration": 0,
    "start_time": "2023-07-28T10:29:24.935Z"
   },
   {
    "duration": 0,
    "start_time": "2023-07-28T10:29:24.936Z"
   },
   {
    "duration": 0,
    "start_time": "2023-07-28T10:29:24.937Z"
   },
   {
    "duration": 6406,
    "start_time": "2023-07-28T10:29:35.207Z"
   },
   {
    "duration": 2470,
    "start_time": "2023-07-28T10:32:07.403Z"
   },
   {
    "duration": 17,
    "start_time": "2023-07-28T10:32:24.054Z"
   },
   {
    "duration": 6973,
    "start_time": "2023-07-28T10:32:27.613Z"
   },
   {
    "duration": 3000,
    "start_time": "2023-07-28T10:33:16.913Z"
   },
   {
    "duration": 3730,
    "start_time": "2023-07-28T10:33:19.915Z"
   },
   {
    "duration": 2,
    "start_time": "2023-07-28T10:33:23.647Z"
   },
   {
    "duration": 1274,
    "start_time": "2023-07-28T10:33:23.650Z"
   },
   {
    "duration": 3,
    "start_time": "2023-07-28T10:33:24.925Z"
   },
   {
    "duration": 26,
    "start_time": "2023-07-28T10:33:24.929Z"
   },
   {
    "duration": 36,
    "start_time": "2023-07-28T10:33:24.956Z"
   },
   {
    "duration": 2797,
    "start_time": "2023-07-28T10:33:24.994Z"
   },
   {
    "duration": 7019,
    "start_time": "2023-07-28T10:33:27.793Z"
   },
   {
    "duration": 31,
    "start_time": "2023-07-28T10:33:34.814Z"
   },
   {
    "duration": 113,
    "start_time": "2023-07-28T10:33:34.847Z"
   },
   {
    "duration": 1462,
    "start_time": "2023-07-28T10:33:34.962Z"
   },
   {
    "duration": 1,
    "start_time": "2023-07-28T10:33:36.425Z"
   },
   {
    "duration": 0,
    "start_time": "2023-07-28T10:33:36.427Z"
   },
   {
    "duration": 0,
    "start_time": "2023-07-28T10:33:36.428Z"
   },
   {
    "duration": 0,
    "start_time": "2023-07-28T10:33:36.429Z"
   },
   {
    "duration": 0,
    "start_time": "2023-07-28T10:33:36.429Z"
   },
   {
    "duration": 0,
    "start_time": "2023-07-28T10:33:36.430Z"
   },
   {
    "duration": 0,
    "start_time": "2023-07-28T10:33:36.431Z"
   },
   {
    "duration": 0,
    "start_time": "2023-07-28T10:33:36.432Z"
   },
   {
    "duration": 0,
    "start_time": "2023-07-28T10:33:36.432Z"
   },
   {
    "duration": 0,
    "start_time": "2023-07-28T10:33:36.433Z"
   },
   {
    "duration": 0,
    "start_time": "2023-07-28T10:33:36.434Z"
   },
   {
    "duration": 0,
    "start_time": "2023-07-28T10:33:36.435Z"
   },
   {
    "duration": 0,
    "start_time": "2023-07-28T10:33:36.436Z"
   },
   {
    "duration": 0,
    "start_time": "2023-07-28T10:33:36.436Z"
   },
   {
    "duration": 0,
    "start_time": "2023-07-28T10:33:36.437Z"
   },
   {
    "duration": 0,
    "start_time": "2023-07-28T10:33:36.438Z"
   },
   {
    "duration": 0,
    "start_time": "2023-07-28T10:33:36.438Z"
   },
   {
    "duration": 0,
    "start_time": "2023-07-28T10:33:36.439Z"
   },
   {
    "duration": 0,
    "start_time": "2023-07-28T10:33:36.440Z"
   },
   {
    "duration": 0,
    "start_time": "2023-07-28T10:33:36.441Z"
   },
   {
    "duration": 0,
    "start_time": "2023-07-28T10:33:36.441Z"
   },
   {
    "duration": 0,
    "start_time": "2023-07-28T10:33:36.442Z"
   },
   {
    "duration": 2914,
    "start_time": "2023-07-28T10:35:09.249Z"
   },
   {
    "duration": 3450,
    "start_time": "2023-07-28T10:35:12.166Z"
   },
   {
    "duration": 3,
    "start_time": "2023-07-28T10:35:15.618Z"
   },
   {
    "duration": 1208,
    "start_time": "2023-07-28T10:35:15.622Z"
   },
   {
    "duration": 3,
    "start_time": "2023-07-28T10:35:16.831Z"
   },
   {
    "duration": 7,
    "start_time": "2023-07-28T10:35:16.835Z"
   },
   {
    "duration": 25,
    "start_time": "2023-07-28T10:35:16.843Z"
   },
   {
    "duration": 2,
    "start_time": "2023-07-28T10:35:16.870Z"
   },
   {
    "duration": 20,
    "start_time": "2023-07-28T10:35:16.873Z"
   },
   {
    "duration": 33,
    "start_time": "2023-07-28T10:35:16.895Z"
   },
   {
    "duration": 103,
    "start_time": "2023-07-28T10:35:16.929Z"
   },
   {
    "duration": 1416,
    "start_time": "2023-07-28T10:35:17.034Z"
   },
   {
    "duration": 0,
    "start_time": "2023-07-28T10:35:18.452Z"
   },
   {
    "duration": 0,
    "start_time": "2023-07-28T10:35:18.453Z"
   },
   {
    "duration": 0,
    "start_time": "2023-07-28T10:35:18.454Z"
   },
   {
    "duration": 0,
    "start_time": "2023-07-28T10:35:18.455Z"
   },
   {
    "duration": 0,
    "start_time": "2023-07-28T10:35:18.456Z"
   },
   {
    "duration": 0,
    "start_time": "2023-07-28T10:35:18.456Z"
   },
   {
    "duration": 0,
    "start_time": "2023-07-28T10:35:18.457Z"
   },
   {
    "duration": 0,
    "start_time": "2023-07-28T10:35:18.458Z"
   },
   {
    "duration": 0,
    "start_time": "2023-07-28T10:35:18.459Z"
   },
   {
    "duration": 0,
    "start_time": "2023-07-28T10:35:18.460Z"
   },
   {
    "duration": 0,
    "start_time": "2023-07-28T10:35:18.461Z"
   },
   {
    "duration": 0,
    "start_time": "2023-07-28T10:35:18.462Z"
   },
   {
    "duration": 0,
    "start_time": "2023-07-28T10:35:18.463Z"
   },
   {
    "duration": 0,
    "start_time": "2023-07-28T10:35:18.465Z"
   },
   {
    "duration": 0,
    "start_time": "2023-07-28T10:35:18.466Z"
   },
   {
    "duration": 0,
    "start_time": "2023-07-28T10:35:18.467Z"
   },
   {
    "duration": 0,
    "start_time": "2023-07-28T10:35:18.468Z"
   },
   {
    "duration": 0,
    "start_time": "2023-07-28T10:35:18.503Z"
   },
   {
    "duration": 0,
    "start_time": "2023-07-28T10:35:18.504Z"
   },
   {
    "duration": 0,
    "start_time": "2023-07-28T10:35:18.505Z"
   },
   {
    "duration": 0,
    "start_time": "2023-07-28T10:35:18.507Z"
   },
   {
    "duration": 0,
    "start_time": "2023-07-28T10:35:18.508Z"
   },
   {
    "duration": 8262,
    "start_time": "2023-10-20T15:21:34.680Z"
   },
   {
    "duration": 501,
    "start_time": "2023-10-20T15:21:42.945Z"
   },
   {
    "duration": 0,
    "start_time": "2023-10-20T15:21:43.449Z"
   },
   {
    "duration": 0,
    "start_time": "2023-10-20T15:21:43.450Z"
   },
   {
    "duration": 0,
    "start_time": "2023-10-20T15:21:43.451Z"
   },
   {
    "duration": 0,
    "start_time": "2023-10-20T15:21:43.453Z"
   },
   {
    "duration": 0,
    "start_time": "2023-10-20T15:21:43.454Z"
   },
   {
    "duration": 0,
    "start_time": "2023-10-20T15:21:43.456Z"
   },
   {
    "duration": 0,
    "start_time": "2023-10-20T15:21:43.457Z"
   },
   {
    "duration": 0,
    "start_time": "2023-10-20T15:21:43.458Z"
   },
   {
    "duration": 0,
    "start_time": "2023-10-20T15:21:43.459Z"
   },
   {
    "duration": 0,
    "start_time": "2023-10-20T15:21:43.461Z"
   },
   {
    "duration": 0,
    "start_time": "2023-10-20T15:21:43.468Z"
   },
   {
    "duration": 0,
    "start_time": "2023-10-20T15:21:43.469Z"
   },
   {
    "duration": 0,
    "start_time": "2023-10-20T15:21:43.471Z"
   },
   {
    "duration": 0,
    "start_time": "2023-10-20T15:21:43.472Z"
   },
   {
    "duration": 0,
    "start_time": "2023-10-20T15:21:43.474Z"
   },
   {
    "duration": 0,
    "start_time": "2023-10-20T15:21:43.475Z"
   },
   {
    "duration": 0,
    "start_time": "2023-10-20T15:21:43.507Z"
   },
   {
    "duration": 0,
    "start_time": "2023-10-20T15:21:43.509Z"
   },
   {
    "duration": 0,
    "start_time": "2023-10-20T15:21:43.510Z"
   },
   {
    "duration": 0,
    "start_time": "2023-10-20T15:21:43.511Z"
   },
   {
    "duration": 0,
    "start_time": "2023-10-20T15:21:43.512Z"
   },
   {
    "duration": 0,
    "start_time": "2023-10-20T15:21:43.513Z"
   },
   {
    "duration": 0,
    "start_time": "2023-10-20T15:21:43.514Z"
   },
   {
    "duration": 0,
    "start_time": "2023-10-20T15:21:43.516Z"
   },
   {
    "duration": 0,
    "start_time": "2023-10-20T15:21:43.517Z"
   },
   {
    "duration": 0,
    "start_time": "2023-10-20T15:21:43.518Z"
   },
   {
    "duration": 0,
    "start_time": "2023-10-20T15:21:43.519Z"
   },
   {
    "duration": 0,
    "start_time": "2023-10-20T15:21:43.520Z"
   },
   {
    "duration": 0,
    "start_time": "2023-10-20T15:21:43.522Z"
   },
   {
    "duration": 0,
    "start_time": "2023-10-20T15:21:43.523Z"
   },
   {
    "duration": 0,
    "start_time": "2023-10-20T15:21:43.525Z"
   },
   {
    "duration": 0,
    "start_time": "2023-10-20T15:21:43.526Z"
   },
   {
    "duration": 553,
    "start_time": "2023-10-20T15:21:48.008Z"
   },
   {
    "duration": 0,
    "start_time": "2023-10-20T15:21:48.564Z"
   },
   {
    "duration": 0,
    "start_time": "2023-10-20T15:21:48.567Z"
   },
   {
    "duration": 0,
    "start_time": "2023-10-20T15:21:48.569Z"
   },
   {
    "duration": 0,
    "start_time": "2023-10-20T15:21:48.571Z"
   },
   {
    "duration": 0,
    "start_time": "2023-10-20T15:21:48.572Z"
   },
   {
    "duration": 0,
    "start_time": "2023-10-20T15:21:48.573Z"
   },
   {
    "duration": 0,
    "start_time": "2023-10-20T15:21:48.575Z"
   },
   {
    "duration": 0,
    "start_time": "2023-10-20T15:21:48.577Z"
   },
   {
    "duration": 0,
    "start_time": "2023-10-20T15:21:48.578Z"
   },
   {
    "duration": 0,
    "start_time": "2023-10-20T15:21:48.579Z"
   },
   {
    "duration": 0,
    "start_time": "2023-10-20T15:21:48.581Z"
   },
   {
    "duration": 0,
    "start_time": "2023-10-20T15:21:48.609Z"
   },
   {
    "duration": 0,
    "start_time": "2023-10-20T15:21:48.617Z"
   },
   {
    "duration": 0,
    "start_time": "2023-10-20T15:21:48.619Z"
   },
   {
    "duration": 0,
    "start_time": "2023-10-20T15:21:48.621Z"
   },
   {
    "duration": 0,
    "start_time": "2023-10-20T15:21:48.629Z"
   },
   {
    "duration": 0,
    "start_time": "2023-10-20T15:21:48.630Z"
   },
   {
    "duration": 0,
    "start_time": "2023-10-20T15:21:48.631Z"
   },
   {
    "duration": 0,
    "start_time": "2023-10-20T15:21:48.633Z"
   },
   {
    "duration": 0,
    "start_time": "2023-10-20T15:21:48.634Z"
   },
   {
    "duration": 0,
    "start_time": "2023-10-20T15:21:48.635Z"
   },
   {
    "duration": 0,
    "start_time": "2023-10-20T15:21:48.637Z"
   },
   {
    "duration": 0,
    "start_time": "2023-10-20T15:21:48.638Z"
   },
   {
    "duration": 0,
    "start_time": "2023-10-20T15:21:48.640Z"
   },
   {
    "duration": 0,
    "start_time": "2023-10-20T15:21:48.641Z"
   },
   {
    "duration": 0,
    "start_time": "2023-10-20T15:21:48.642Z"
   },
   {
    "duration": 0,
    "start_time": "2023-10-20T15:21:48.643Z"
   },
   {
    "duration": 0,
    "start_time": "2023-10-20T15:21:48.645Z"
   },
   {
    "duration": 0,
    "start_time": "2023-10-20T15:21:48.645Z"
   },
   {
    "duration": 0,
    "start_time": "2023-10-20T15:21:48.647Z"
   },
   {
    "duration": 0,
    "start_time": "2023-10-20T15:21:48.648Z"
   },
   {
    "duration": 0,
    "start_time": "2023-10-20T15:21:48.649Z"
   },
   {
    "duration": 1585,
    "start_time": "2023-10-20T15:22:00.940Z"
   },
   {
    "duration": 3,
    "start_time": "2023-10-20T15:22:02.529Z"
   },
   {
    "duration": 986,
    "start_time": "2023-10-20T15:22:02.534Z"
   },
   {
    "duration": 4,
    "start_time": "2023-10-20T15:22:03.523Z"
   },
   {
    "duration": 18,
    "start_time": "2023-10-20T15:22:03.530Z"
   },
   {
    "duration": 46,
    "start_time": "2023-10-20T15:22:03.550Z"
   },
   {
    "duration": 3,
    "start_time": "2023-10-20T15:22:03.597Z"
   },
   {
    "duration": 25,
    "start_time": "2023-10-20T15:22:03.601Z"
   },
   {
    "duration": 56,
    "start_time": "2023-10-20T15:22:03.628Z"
   },
   {
    "duration": 136,
    "start_time": "2023-10-20T15:22:03.687Z"
   },
   {
    "duration": 17344,
    "start_time": "2023-10-20T15:22:03.825Z"
   },
   {
    "duration": 759,
    "start_time": "2023-10-20T15:22:21.171Z"
   },
   {
    "duration": 523,
    "start_time": "2023-10-20T15:22:21.933Z"
   },
   {
    "duration": 100,
    "start_time": "2023-10-20T15:22:22.458Z"
   },
   {
    "duration": 92,
    "start_time": "2023-10-20T15:22:22.560Z"
   },
   {
    "duration": 15,
    "start_time": "2023-10-20T15:22:22.654Z"
   },
   {
    "duration": 38,
    "start_time": "2023-10-20T15:22:22.671Z"
   },
   {
    "duration": 45,
    "start_time": "2023-10-20T15:22:22.712Z"
   },
   {
    "duration": 69,
    "start_time": "2023-10-20T15:22:22.759Z"
   },
   {
    "duration": 58,
    "start_time": "2023-10-20T15:22:22.830Z"
   },
   {
    "duration": 36,
    "start_time": "2023-10-20T15:22:22.890Z"
   },
   {
    "duration": 31,
    "start_time": "2023-10-20T15:22:22.928Z"
   },
   {
    "duration": 9,
    "start_time": "2023-10-20T15:22:22.961Z"
   },
   {
    "duration": 13,
    "start_time": "2023-10-20T15:22:22.972Z"
   },
   {
    "duration": 221,
    "start_time": "2023-10-20T15:22:22.988Z"
   },
   {
    "duration": 202,
    "start_time": "2023-10-20T15:22:23.212Z"
   },
   {
    "duration": 7,
    "start_time": "2023-10-20T15:22:23.422Z"
   },
   {
    "duration": 6,
    "start_time": "2023-10-20T15:22:23.508Z"
   },
   {
    "duration": 89,
    "start_time": "2023-10-20T15:22:23.515Z"
   },
   {
    "duration": 4,
    "start_time": "2023-10-20T15:22:23.606Z"
   },
   {
    "duration": 15,
    "start_time": "2023-10-20T15:22:23.612Z"
   },
   {
    "duration": 24,
    "start_time": "2023-10-20T15:22:23.629Z"
   },
   {
    "duration": 8179,
    "start_time": "2023-10-20T15:22:23.655Z"
   }
  ],
  "kernelspec": {
   "display_name": "Python 3 (ipykernel)",
   "language": "python",
   "name": "python3"
  },
  "language_info": {
   "codemirror_mode": {
    "name": "ipython",
    "version": 3
   },
   "file_extension": ".py",
   "mimetype": "text/x-python",
   "name": "python",
   "nbconvert_exporter": "python",
   "pygments_lexer": "ipython3",
   "version": "3.8.5"
  },
  "toc": {
   "base_numbering": 1,
   "nav_menu": {},
   "number_sections": true,
   "sideBar": true,
   "skip_h1_title": true,
   "title_cell": "Table of Contents",
   "title_sidebar": "Contents",
   "toc_cell": false,
   "toc_position": {},
   "toc_section_display": true,
   "toc_window_display": true
  }
 },
 "nbformat": 4,
 "nbformat_minor": 2
}
