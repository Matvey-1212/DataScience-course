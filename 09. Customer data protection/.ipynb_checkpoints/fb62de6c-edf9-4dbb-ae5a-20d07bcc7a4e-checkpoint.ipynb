{
 "cells": [
  {
   "cell_type": "markdown",
   "metadata": {
    "toc": true
   },
   "source": [
    "<h1>Содержание<span class=\"tocSkip\"></span></h1>\n",
    "<div class=\"toc\"><ul class=\"toc-item\"><li><span><a href=\"#Загрузка-данных\" data-toc-modified-id=\"Загрузка-данных-1\"><span class=\"toc-item-num\">1&nbsp;&nbsp;</span>Загрузка данных</a></span><ul class=\"toc-item\"><li><span><a href=\"#Изучим-данные\" data-toc-modified-id=\"Изучим-данные-1.1\"><span class=\"toc-item-num\">1.1&nbsp;&nbsp;</span>Изучим данные</a></span></li></ul></li><li><span><a href=\"#Умножение-матриц\" data-toc-modified-id=\"Умножение-матриц-2\"><span class=\"toc-item-num\">2&nbsp;&nbsp;</span>Умножение матриц</a></span></li><li><span><a href=\"#Алгоритм-преобразования\" data-toc-modified-id=\"Алгоритм-преобразования-3\"><span class=\"toc-item-num\">3&nbsp;&nbsp;</span>Алгоритм преобразования</a></span></li><li><span><a href=\"#Проверка-алгоритма\" data-toc-modified-id=\"Проверка-алгоритма-4\"><span class=\"toc-item-num\">4&nbsp;&nbsp;</span>Проверка алгоритма</a></span><ul class=\"toc-item\"><li><span><a href=\"#Разделим-на-признаки-и-таргет\" data-toc-modified-id=\"Разделим-на-признаки-и-таргет-4.1\"><span class=\"toc-item-num\">4.1&nbsp;&nbsp;</span>Разделим на признаки и таргет</a></span></li><li><span><a href=\"#Разделим-на-тестовую-и-обучающую\" data-toc-modified-id=\"Разделим-на-тестовую-и-обучающую-4.2\"><span class=\"toc-item-num\">4.2&nbsp;&nbsp;</span>Разделим на тестовую и обучающую</a></span><ul class=\"toc-item\"><li><span><a href=\"#Проверим-качество-до-изменения-данных\" data-toc-modified-id=\"Проверим-качество-до-изменения-данных-4.2.1\"><span class=\"toc-item-num\">4.2.1&nbsp;&nbsp;</span>Проверим качество до изменения данных</a></span></li></ul></li><li><span><a href=\"#Проверим-качество-после-изменений\" data-toc-modified-id=\"Проверим-качество-после-изменений-4.3\"><span class=\"toc-item-num\">4.3&nbsp;&nbsp;</span>Проверим качество после изменений</a></span></li></ul></li><li><span><a href=\"#Вывод\" data-toc-modified-id=\"Вывод-5\"><span class=\"toc-item-num\">5&nbsp;&nbsp;</span>Вывод</a></span></li><li><span><a href=\"#Чек-лист-проверки\" data-toc-modified-id=\"Чек-лист-проверки-6\"><span class=\"toc-item-num\">6&nbsp;&nbsp;</span>Чек-лист проверки</a></span></li></ul></div>"
   ]
  },
  {
   "cell_type": "markdown",
   "metadata": {},
   "source": [
    "# Защита персональных данных клиентов"
   ]
  },
  {
   "cell_type": "markdown",
   "metadata": {},
   "source": [
    "Вам нужно защитить данные клиентов страховой компании «Хоть потоп». Разработайте такой метод преобразования данных, чтобы по ним было сложно восстановить персональную информацию. Обоснуйте корректность его работы.\n",
    "\n",
    "Нужно защитить данные, чтобы при преобразовании качество моделей машинного обучения не ухудшилось. Подбирать наилучшую модель не требуется."
   ]
  },
  {
   "cell_type": "markdown",
   "metadata": {},
   "source": [
    "`insurance.csv`:\n",
    "- **Признаки**: пол, возраст и зарплата застрахованного, количество членов его семьи.\n",
    "- **Целевой признак**: количество страховых выплат клиенту за последние 5 лет."
   ]
  },
  {
   "cell_type": "markdown",
   "metadata": {},
   "source": [
    "## Загрузка данных"
   ]
  },
  {
   "cell_type": "code",
   "execution_count": 1,
   "metadata": {},
   "outputs": [
    {
     "data": {
      "text/html": [
       "<style>.container { width:90% !important; }</style>"
      ],
      "text/plain": [
       "<IPython.core.display.HTML object>"
      ]
     },
     "metadata": {},
     "output_type": "display_data"
    }
   ],
   "source": [
    "from IPython.display import display, HTML\n",
    "display(HTML(\"<style>.container { width:90% !important; }</style>\"))"
   ]
  },
  {
   "cell_type": "code",
   "execution_count": 2,
   "metadata": {},
   "outputs": [],
   "source": [
    "import pandas as pd\n",
    "import numpy as np\n",
    "import matplotlib.pyplot as plt\n",
    "import seaborn as sns\n",
    "\n",
    "from sklearn.model_selection import train_test_split\n",
    "from sklearn.preprocessing import StandardScaler\n",
    "from sklearn.linear_model import LinearRegression\n",
    "from sklearn.metrics import mean_absolute_error, mean_squared_error,r2_score\n",
    "from sklearn.pipeline import Pipeline"
   ]
  },
  {
   "cell_type": "code",
   "execution_count": 3,
   "metadata": {},
   "outputs": [],
   "source": [
    "try:\n",
    "    df = pd.read_csv('insurance.csv')\n",
    "except:\n",
    "    df = pd.read_csv('/datasets/insurance.csv')"
   ]
  },
  {
   "cell_type": "code",
   "execution_count": 4,
   "metadata": {},
   "outputs": [],
   "source": [
    "random_seed = 42"
   ]
  },
  {
   "cell_type": "markdown",
   "metadata": {},
   "source": [
    "### Изучим данные"
   ]
  },
  {
   "cell_type": "code",
   "execution_count": 5,
   "metadata": {},
   "outputs": [
    {
     "data": {
      "text/html": [
       "<div>\n",
       "<style scoped>\n",
       "    .dataframe tbody tr th:only-of-type {\n",
       "        vertical-align: middle;\n",
       "    }\n",
       "\n",
       "    .dataframe tbody tr th {\n",
       "        vertical-align: top;\n",
       "    }\n",
       "\n",
       "    .dataframe thead th {\n",
       "        text-align: right;\n",
       "    }\n",
       "</style>\n",
       "<table border=\"1\" class=\"dataframe\">\n",
       "  <thead>\n",
       "    <tr style=\"text-align: right;\">\n",
       "      <th></th>\n",
       "      <th>Пол</th>\n",
       "      <th>Возраст</th>\n",
       "      <th>Зарплата</th>\n",
       "      <th>Члены семьи</th>\n",
       "      <th>Страховые выплаты</th>\n",
       "    </tr>\n",
       "  </thead>\n",
       "  <tbody>\n",
       "    <tr>\n",
       "      <th>0</th>\n",
       "      <td>1</td>\n",
       "      <td>41.0</td>\n",
       "      <td>49600.0</td>\n",
       "      <td>1</td>\n",
       "      <td>0</td>\n",
       "    </tr>\n",
       "    <tr>\n",
       "      <th>1</th>\n",
       "      <td>0</td>\n",
       "      <td>46.0</td>\n",
       "      <td>38000.0</td>\n",
       "      <td>1</td>\n",
       "      <td>1</td>\n",
       "    </tr>\n",
       "    <tr>\n",
       "      <th>2</th>\n",
       "      <td>0</td>\n",
       "      <td>29.0</td>\n",
       "      <td>21000.0</td>\n",
       "      <td>0</td>\n",
       "      <td>0</td>\n",
       "    </tr>\n",
       "    <tr>\n",
       "      <th>3</th>\n",
       "      <td>0</td>\n",
       "      <td>21.0</td>\n",
       "      <td>41700.0</td>\n",
       "      <td>2</td>\n",
       "      <td>0</td>\n",
       "    </tr>\n",
       "    <tr>\n",
       "      <th>4</th>\n",
       "      <td>1</td>\n",
       "      <td>28.0</td>\n",
       "      <td>26100.0</td>\n",
       "      <td>0</td>\n",
       "      <td>0</td>\n",
       "    </tr>\n",
       "  </tbody>\n",
       "</table>\n",
       "</div>"
      ],
      "text/plain": [
       "   Пол  Возраст  Зарплата  Члены семьи  Страховые выплаты\n",
       "0    1     41.0   49600.0            1                  0\n",
       "1    0     46.0   38000.0            1                  1\n",
       "2    0     29.0   21000.0            0                  0\n",
       "3    0     21.0   41700.0            2                  0\n",
       "4    1     28.0   26100.0            0                  0"
      ]
     },
     "execution_count": 5,
     "metadata": {},
     "output_type": "execute_result"
    }
   ],
   "source": [
    "df.head()"
   ]
  },
  {
   "cell_type": "code",
   "execution_count": 6,
   "metadata": {
    "scrolled": true
   },
   "outputs": [
    {
     "name": "stdout",
     "output_type": "stream",
     "text": [
      "<class 'pandas.core.frame.DataFrame'>\n",
      "RangeIndex: 5000 entries, 0 to 4999\n",
      "Data columns (total 5 columns):\n",
      " #   Column             Non-Null Count  Dtype  \n",
      "---  ------             --------------  -----  \n",
      " 0   Пол                5000 non-null   int64  \n",
      " 1   Возраст            5000 non-null   float64\n",
      " 2   Зарплата           5000 non-null   float64\n",
      " 3   Члены семьи        5000 non-null   int64  \n",
      " 4   Страховые выплаты  5000 non-null   int64  \n",
      "dtypes: float64(2), int64(3)\n",
      "memory usage: 195.4 KB\n"
     ]
    }
   ],
   "source": [
    "df.info()"
   ]
  },
  {
   "cell_type": "code",
   "execution_count": 7,
   "metadata": {
    "scrolled": false
   },
   "outputs": [
    {
     "data": {
      "text/html": [
       "<div>\n",
       "<style scoped>\n",
       "    .dataframe tbody tr th:only-of-type {\n",
       "        vertical-align: middle;\n",
       "    }\n",
       "\n",
       "    .dataframe tbody tr th {\n",
       "        vertical-align: top;\n",
       "    }\n",
       "\n",
       "    .dataframe thead th {\n",
       "        text-align: right;\n",
       "    }\n",
       "</style>\n",
       "<table border=\"1\" class=\"dataframe\">\n",
       "  <thead>\n",
       "    <tr style=\"text-align: right;\">\n",
       "      <th></th>\n",
       "      <th>Пол</th>\n",
       "      <th>Возраст</th>\n",
       "      <th>Зарплата</th>\n",
       "      <th>Члены семьи</th>\n",
       "      <th>Страховые выплаты</th>\n",
       "    </tr>\n",
       "  </thead>\n",
       "  <tbody>\n",
       "    <tr>\n",
       "      <th>count</th>\n",
       "      <td>5000.000000</td>\n",
       "      <td>5000.000000</td>\n",
       "      <td>5000.000000</td>\n",
       "      <td>5000.000000</td>\n",
       "      <td>5000.000000</td>\n",
       "    </tr>\n",
       "    <tr>\n",
       "      <th>mean</th>\n",
       "      <td>0.499000</td>\n",
       "      <td>30.952800</td>\n",
       "      <td>39916.360000</td>\n",
       "      <td>1.194200</td>\n",
       "      <td>0.148000</td>\n",
       "    </tr>\n",
       "    <tr>\n",
       "      <th>std</th>\n",
       "      <td>0.500049</td>\n",
       "      <td>8.440807</td>\n",
       "      <td>9900.083569</td>\n",
       "      <td>1.091387</td>\n",
       "      <td>0.463183</td>\n",
       "    </tr>\n",
       "    <tr>\n",
       "      <th>min</th>\n",
       "      <td>0.000000</td>\n",
       "      <td>18.000000</td>\n",
       "      <td>5300.000000</td>\n",
       "      <td>0.000000</td>\n",
       "      <td>0.000000</td>\n",
       "    </tr>\n",
       "    <tr>\n",
       "      <th>25%</th>\n",
       "      <td>0.000000</td>\n",
       "      <td>24.000000</td>\n",
       "      <td>33300.000000</td>\n",
       "      <td>0.000000</td>\n",
       "      <td>0.000000</td>\n",
       "    </tr>\n",
       "    <tr>\n",
       "      <th>50%</th>\n",
       "      <td>0.000000</td>\n",
       "      <td>30.000000</td>\n",
       "      <td>40200.000000</td>\n",
       "      <td>1.000000</td>\n",
       "      <td>0.000000</td>\n",
       "    </tr>\n",
       "    <tr>\n",
       "      <th>75%</th>\n",
       "      <td>1.000000</td>\n",
       "      <td>37.000000</td>\n",
       "      <td>46600.000000</td>\n",
       "      <td>2.000000</td>\n",
       "      <td>0.000000</td>\n",
       "    </tr>\n",
       "    <tr>\n",
       "      <th>max</th>\n",
       "      <td>1.000000</td>\n",
       "      <td>65.000000</td>\n",
       "      <td>79000.000000</td>\n",
       "      <td>6.000000</td>\n",
       "      <td>5.000000</td>\n",
       "    </tr>\n",
       "  </tbody>\n",
       "</table>\n",
       "</div>"
      ],
      "text/plain": [
       "               Пол      Возраст      Зарплата  Члены семьи  Страховые выплаты\n",
       "count  5000.000000  5000.000000   5000.000000  5000.000000        5000.000000\n",
       "mean      0.499000    30.952800  39916.360000     1.194200           0.148000\n",
       "std       0.500049     8.440807   9900.083569     1.091387           0.463183\n",
       "min       0.000000    18.000000   5300.000000     0.000000           0.000000\n",
       "25%       0.000000    24.000000  33300.000000     0.000000           0.000000\n",
       "50%       0.000000    30.000000  40200.000000     1.000000           0.000000\n",
       "75%       1.000000    37.000000  46600.000000     2.000000           0.000000\n",
       "max       1.000000    65.000000  79000.000000     6.000000           5.000000"
      ]
     },
     "execution_count": 7,
     "metadata": {},
     "output_type": "execute_result"
    }
   ],
   "source": [
    "df.describe()"
   ]
  },
  {
   "cell_type": "code",
   "execution_count": 8,
   "metadata": {},
   "outputs": [
    {
     "data": {
      "image/png": "[encoded data removed]",
      "text/plain": [
       "<Figure size 720x720 with 25 Axes>"
      ]
     },
     "metadata": {
      "needs_background": "light"
     },
     "output_type": "display_data"
    }
   ],
   "source": [
    "pd.plotting.scatter_matrix(df, figsize=(10, 10));"
   ]
  },
  {
   "cell_type": "code",
   "execution_count": 9,
   "metadata": {
    "scrolled": false
   },
   "outputs": [
    {
     "data": {
      "image/png": "[encoded data removed]",
      "text/plain": [
       "<Figure size 432x288 with 2 Axes>"
      ]
     },
     "metadata": {
      "needs_background": "light"
     },
     "output_type": "display_data"
    }
   ],
   "source": [
    "sns.heatmap(df.corr(), annot=True, cmap='coolwarm', fmt='.2f', linewidths=0.5, square=True);"
   ]
  },
  {
   "cell_type": "markdown",
   "metadata": {},
   "source": [
    "**Проверим на дубликаты**"
   ]
  },
  {
   "cell_type": "code",
   "execution_count": 10,
   "metadata": {
    "scrolled": false
   },
   "outputs": [
    {
     "data": {
      "text/plain": [
       "153"
      ]
     },
     "execution_count": 10,
     "metadata": {},
     "output_type": "execute_result"
    }
   ],
   "source": [
    "df.duplicated().sum()"
   ]
  },
  {
   "cell_type": "markdown",
   "metadata": {},
   "source": [
    "есть 153 полных дубликата. Учитывая, что полное совпадение по всем параметрам маловероятно, удалим дубликаты"
   ]
  },
  {
   "cell_type": "code",
   "execution_count": 11,
   "metadata": {},
   "outputs": [
    {
     "data": {
      "text/plain": [
       "0"
      ]
     },
     "execution_count": 11,
     "metadata": {},
     "output_type": "execute_result"
    }
   ],
   "source": [
    "df = df.drop_duplicates()\n",
    "df.duplicated().sum()"
   ]
  },
  {
   "cell_type": "markdown",
   "metadata": {},
   "source": [
    "**Заменим столбцы**"
   ]
  },
  {
   "cell_type": "code",
   "execution_count": 12,
   "metadata": {},
   "outputs": [
    {
     "data": {
      "text/plain": [
       "Index(['Пол', 'Возраст', 'Зарплата', 'Члены семьи', 'Страховые выплаты'], dtype='object')"
      ]
     },
     "execution_count": 12,
     "metadata": {},
     "output_type": "execute_result"
    }
   ],
   "source": [
    "df.columns"
   ]
  },
  {
   "cell_type": "code",
   "execution_count": 13,
   "metadata": {},
   "outputs": [],
   "source": [
    "df.columns = ['gender', 'age', 'salary', 'family_members', 'insurance_claims']"
   ]
  },
  {
   "cell_type": "code",
   "execution_count": 14,
   "metadata": {},
   "outputs": [
    {
     "data": {
      "text/plain": [
       "Index(['gender', 'age', 'salary', 'family_members', 'insurance_claims'], dtype='object')"
      ]
     },
     "execution_count": 14,
     "metadata": {},
     "output_type": "execute_result"
    }
   ],
   "source": [
    "df.columns"
   ]
  },
  {
   "cell_type": "markdown",
   "metadata": {},
   "source": [
    "<div style=\"border: 3px solid blue; border-radius: 5px; padding: 10px;\">\n",
    "Вывод:\n",
    "    \n",
    "    Были изучены данные.\n",
    "    1) пропусков нет\n",
    "    2) явных аномалий не обнаружено\n",
    "    3) столбцы слабо коррелируют между собой. Исключение составляет зависимость столбцов возраст-выплаты\n",
    "    4) удалено 153 дубликата\n",
    "    5) исправлены названия столбцов\n",
    "    "
   ]
  },
  {
   "cell_type": "markdown",
   "metadata": {},
   "source": [
    "## Умножение матриц"
   ]
  },
  {
   "cell_type": "markdown",
   "metadata": {},
   "source": [
    "Обозначения:\n",
    "\n",
    "- $X$ — матрица признаков (нулевой столбец состоит из единиц)\n",
    "\n",
    "- $y$ — вектор целевого признака\n",
    "\n",
    "- $P$ — матрица, на которую умножаются признаки\n",
    "\n",
    "- $w$ — вектор весов линейной регрессии (нулевой элемент равен сдвигу)"
   ]
  },
  {
   "cell_type": "markdown",
   "metadata": {},
   "source": [
    "Предсказания:\n",
    "\n",
    "$$\n",
    "a = Xw\n",
    "$$\n",
    "\n",
    "Задача обучения:\n",
    "\n",
    "$$\n",
    "w = \\arg\\min_w MSE(Xw, y)\n",
    "$$\n",
    "\n",
    "Формула обучения:\n",
    "\n",
    "$$\n",
    "w = (X^T X)^{-1} X^T y\n",
    "$$"
   ]
  },
  {
   "cell_type": "markdown",
   "metadata": {},
   "source": [
    "___"
   ]
  },
  {
   "cell_type": "markdown",
   "metadata": {},
   "source": [
    "<a id=\"matrix\"></a>\n",
    "\n",
    "**Вопрос:** Признаки умножают на обратимую матрицу. Изменится ли качество линейной регрессии? \n",
    "\n",
    "**Ответ:** <u>Не изменится</u> \n",
    "\n",
    "**Обоснование:** "
   ]
  },
  {
   "cell_type": "markdown",
   "metadata": {},
   "source": [
    "Матрица признаков домножается на обратимую матрицу:\n",
    "$$B = XP \\quad (1)$$\n",
    "\n",
    "$$w_1 = (B^TB)^{-1}B^Ty \\quad (2)$$ \n",
    "\n",
    "Предположим, что домножение на матрицу $P$ влияет на предсказания, тогда:\n",
    "$$a_1 = Bw_1 = XPw_1 \\quad (3)$$\n",
    "\n",
    "Преобразуем выражение и подставим в (3) значение из (2):\n",
    "\n",
    "$$a_1 = B (B^TB)^{-1}B^Ty$$\n",
    "\n",
    "$$a_1 = XP ((XP)^TXP)^{-1}(XP)^Ty$$\n",
    "\n",
    "Раскроем скобки с транспонированием:\n",
    "\n",
    "\n",
    "$$a_1 =   XP (P^TX^TXP)^{-1}P^TX^T y $$\n",
    "\n",
    "Раскроем скобки обратной матрицы:\n",
    "\n",
    "$$a_1 =   XP P^{-1}(X^TX)^{-1}(P^{T})^{-1}P^TX^T y $$\n",
    "\n",
    "$$a_1 =   XE(X^TX)^{-1}EX^T y $$\n",
    "раскрывать скобки  $(X^TX)^{-1}$ нельзя, тк как $X$ не квадратная и обратной матрицы у нее не существует. После домножение $X^TX$ форма матрицы приводится к квадратной\n",
    "\n",
    "$$a_1 =   X(X^TX)^{-1}X^T y = a$$\n",
    "\n",
    "$$a_1 = a$$\n",
    "\n",
    "Тогда:\n",
    "\n",
    "$$Bw_1= Xw$$\n",
    "\n",
    "$$XPw_1= Xw$$\n",
    "\n",
    "$$w_1= P^{-1}w$$"
   ]
  },
  {
   "cell_type": "markdown",
   "metadata": {},
   "source": [
    "<div style=\"border: 3px solid blue; border-radius: 5px; padding: 10px;\">\n",
    "Вывод:\n",
    "    \n",
    "    При умножении признаков на обратимую матрицу качество модели линейной регресии не изменится.\n",
    "    \n",
    "    Параметры линейной регресии связаны следующим образом: \n",
    "$$w_1= P^{-1}w$$, где $P$ - это обратимая матрица"
   ]
  },
  {
   "cell_type": "markdown",
   "metadata": {},
   "source": [
    "## Алгоритм преобразования"
   ]
  },
  {
   "cell_type": "markdown",
   "metadata": {},
   "source": [
    "**Алгоритм**\n",
    "\n",
    "Основываясь на выводах полученных в [пунктe выше](#matrix), для защиты данных пользователей предлагается использовать домножение на обратимую матрицу полученную рандомно.\n",
    "\n",
    "- разделяем данные на признаки и таргет. Получаем матрицу $X$ размером $(m,n)$ и вектор $y$ длины $m$\n",
    "- рандомно создаем матрицу $P$ размером $(n,n)$, где $n$- количество признаков\n",
    "- проверяем обратима ли матрица $P$. Если нет, создаем матрицу заново с новыми значениями\n",
    "- домножаем матрицу $X$ на полученную матрицу $P$ \n",
    "- сохраняем $P$ для дальнейшего использования\n",
    "\n",
    "<!-- <img src=\"diagram_scrambler.png\" alt=\"diagram_scrambler\" width=\"300\" height=\"200\"> -->\n",
    "\n",
    "\n"
   ]
  },
  {
   "cell_type": "markdown",
   "metadata": {},
   "source": [
    "<img src=\"https://drive.google.com/uc?export=view&id=18DHnhGWwOH0abuEf8pRtNM3EgynN5hBD\" width=\"300\" />"
   ]
  },
  {
   "cell_type": "markdown",
   "metadata": {},
   "source": [
    "**Минусы:**\n",
    "\n",
    "Для изменения или добавления новых признаков необходимо сначала восстановить исходные признаки и только потом производить изменения.\n",
    "Для использования данного метода необходимо хранить матрицу $P$ для обратного восстановления личных данных."
   ]
  },
  {
   "cell_type": "markdown",
   "metadata": {},
   "source": [
    "**Обоснование:**\n",
    "\n",
    "Основываясь на выводах [пункта выше](#matrix), домножение на обратимую матрицу не влияет на качество работы линейной регресии, потому этот метод можно использовать для защиты личных данных. \n",
    "\n",
    "$$a_1 = XPw_1 = Xw = a$$, где $a$ - предсказание модели\n"
   ]
  },
  {
   "cell_type": "markdown",
   "metadata": {},
   "source": [
    "$$\n",
    "w = (X^T X)^{-1} X^T y\n",
    "$$"
   ]
  },
  {
   "cell_type": "code",
   "execution_count": 15,
   "metadata": {},
   "outputs": [],
   "source": [
    "X_examp = df.drop(['insurance_claims'],axis=1).values\n",
    "y_examp = df['insurance_claims'].values"
   ]
  },
  {
   "cell_type": "code",
   "execution_count": 16,
   "metadata": {},
   "outputs": [],
   "source": [
    "w = np.linalg.inv(X_examp.T @ X_examp) @ X_examp.T @ y_examp\n",
    "a = X_examp @ w"
   ]
  },
  {
   "cell_type": "code",
   "execution_count": 17,
   "metadata": {},
   "outputs": [],
   "source": [
    "P = np.random.RandomState(random_seed).rand(X_examp.shape[1], X_examp.shape[1])\n",
    "X_transformed_examp = X_examp @ P\n",
    "w_1 = np.linalg.inv(X_transformed_examp.T @ X_transformed_examp) @ X_transformed_examp.T @ y_examp\n",
    "a_1 = X_transformed_examp @ w_1"
   ]
  },
  {
   "cell_type": "code",
   "execution_count": 18,
   "metadata": {},
   "outputs": [
    {
     "data": {
      "text/plain": [
       "1.5171878075856125e-06"
      ]
     },
     "execution_count": 18,
     "metadata": {},
     "output_type": "execute_result"
    }
   ],
   "source": [
    "np.linalg.norm(a - a_1)"
   ]
  },
  {
   "cell_type": "markdown",
   "metadata": {},
   "source": [
    "Норма разницы векторов невелика и вероятно связана с машинной погрешностью.\n",
    "Можно считать вектора одинаковыми"
   ]
  },
  {
   "cell_type": "markdown",
   "metadata": {},
   "source": [
    "$$a_1 = XPw_1 = Xw = a$$"
   ]
  },
  {
   "cell_type": "markdown",
   "metadata": {},
   "source": [
    "<div style=\"border: 3px solid blue; border-radius: 5px; padding: 10px;\">\n",
    "Вывод:\n",
    "    \n",
    "    Алгоритм защиты данных подразумевает домножение матрицы признаков на рандомно составленную обратимую матрицу."
   ]
  },
  {
   "cell_type": "markdown",
   "metadata": {},
   "source": [
    "## Проверка алгоритма"
   ]
  },
  {
   "cell_type": "markdown",
   "metadata": {},
   "source": [
    "Напишем класс для удобно использования вышеописанного метода.\n",
    "\n",
    "Класс имеет стандартные методы fit и transform"
   ]
  },
  {
   "cell_type": "code",
   "execution_count": 19,
   "metadata": {
    "scrolled": true
   },
   "outputs": [],
   "source": [
    "class Scrambler():\n",
    "    \"\"\"\n",
    "    A class for scrambling data using a random matrix transformation.\n",
    "\n",
    "    Attributes:\n",
    "        __scrambler (numpy.ndarray or None): The random matrix used for scrambling.\n",
    "        shape_of_origin_data (tuple or None): The shape of the original data.\n",
    "        __isFitted (bool): Indicates whether the scrambler has been fitted.\n",
    "\n",
    "    Methods:\n",
    "        fit(features, random_state=None, cols=10):\n",
    "            Fits the scrambler to the provided data.\n",
    "            \n",
    "        transform(features):\n",
    "            Transforms the provided data using the fitted scrambler.\n",
    "    \"\"\"\n",
    "    def __init__(self, random_state=None):\n",
    "        \"\"\"\n",
    "        Initializes the Scrambler instance.\n",
    "        \"\"\"\n",
    "        self.__scrambler = None\n",
    "        self.__inv_scrambler = None\n",
    "        self.shape_of_origin_data = None\n",
    "        self.__isFitted = False\n",
    "        self.random_state = random_state\n",
    "        \n",
    "    def fit(self, X, y = None):\n",
    "        \"\"\"\n",
    "        Fits the scrambler to the provided data.\n",
    "\n",
    "        Args:\n",
    "            features (pd.DataFrame or np.ndarray): The data to fit the scrambler on.\n",
    "            random_state (int or None): The random seed for reproducibility.\n",
    "        \"\"\" \n",
    "        try:\n",
    "            shape = X.shape[1]\n",
    "            self.shape_of_origin_data = X.shape\n",
    "        except (AttributeError, IndexError):\n",
    "            print('Error: check if your object contains a field \"shape\"')\n",
    "            return\n",
    "\n",
    "        try:\n",
    "            if self.random_state is not None:\n",
    "                self.__scrambler = np.random.RandomState(self.random_state).rand(shape, shape)\n",
    "                try:\n",
    "                    self.__inv_scrambler = np.linalg.inv(self.__scrambler)\n",
    "                except np.linalg.LinAlgError:\n",
    "                    self.__scrambler = None\n",
    "                    print('Error: can not find inverse matrix, try another random_state')\n",
    "                    return\n",
    "            else:\n",
    "                self.__scrambler, self.__inv_scrambler = self.__get_matrix(shape)\n",
    "            self.__isFitted = True\n",
    "        except:\n",
    "            self.scrambler = None\n",
    "            self.shape_of_origin_data = None\n",
    "            self.__isFitted = False\n",
    "            print('Error: check if your working space contains \"Numpy\"')\n",
    "            return\n",
    "        return self\n",
    "        \n",
    "    \n",
    "    def transform(self, X, y = None):\n",
    "        \"\"\"\n",
    "        Transforms the provided data using the fitted scrambler.\n",
    "\n",
    "        Args:\n",
    "            features (pd.DataFrame or np.ndarray): The data to be transformed.\n",
    "\n",
    "        Raises:\n",
    "            ValueError: If the scrambler is not fitted or if there are issues with data.\n",
    "\n",
    "        Returns:\n",
    "            pd.DataFrame or np.ndarray: The transformed data.\n",
    "        \"\"\"\n",
    "        if(self.__isFitted):\n",
    "            if X.shape[1] == self.shape_of_origin_data[1]:\n",
    "                try:\n",
    "                    return pd.DataFrame(data = (X.values @ self.__scrambler), columns=X.columns)\n",
    "                except AttributeError:\n",
    "                    raise ValueError('The given data does not support matrix multiplication')\n",
    "            else:\n",
    "                raise ValueError(f'Shape of given data{X.shape} \\\n",
    "does not macth with shape of fitted data {self.shape_of_origin_data}')\n",
    "        else:\n",
    "            raise ValueError('The Scrambler is not fitted yet')\n",
    "            \n",
    "    def __get_matrix(self,dim):\n",
    "        transform_matrix = np.random.rand(dim, dim)\n",
    "        try: \n",
    "            inv = np.linalg.inv(transform_matrix)\n",
    "            return transform_matrix, inv\n",
    "        except:\n",
    "            __get_matrix(dim)  "
   ]
  },
  {
   "cell_type": "code",
   "execution_count": 20,
   "metadata": {},
   "outputs": [],
   "source": [
    "def print_all_metrics(true, pred, mode = ''):\n",
    "    rmse = mean_squared_error(true,pred,squared = False)\n",
    "    mae = mean_absolute_error(true,pred)\n",
    "    r2 = r2_score(true,pred)\n",
    "    print()\n",
    "    print(f'Metrics {mode+\":\" if mode == \"\" else \" on \"+mode +\":\"}')\n",
    "    print(\"------------------------------------------\")\n",
    "    print(f'RMSE _____: {rmse:.6f}')\n",
    "    print(f'MAE ______: {mae:.6f}')\n",
    "    print(f'R2 _______: {r2:.6f}')\n",
    "    print()"
   ]
  },
  {
   "cell_type": "markdown",
   "metadata": {},
   "source": [
    "### Разделим на признаки и таргет"
   ]
  },
  {
   "cell_type": "code",
   "execution_count": 21,
   "metadata": {},
   "outputs": [],
   "source": [
    "X = df.drop(['insurance_claims'],axis=1)\n",
    "y = df['insurance_claims']"
   ]
  },
  {
   "cell_type": "markdown",
   "metadata": {},
   "source": [
    "### Разделим на тестовую и обучающую"
   ]
  },
  {
   "cell_type": "code",
   "execution_count": 22,
   "metadata": {},
   "outputs": [],
   "source": [
    "X_train, X_test, y_train, y_test = train_test_split(X, y, test_size=0.25, random_state=random_seed)"
   ]
  },
  {
   "cell_type": "markdown",
   "metadata": {},
   "source": [
    "#### Проверим качество до изменения данных"
   ]
  },
  {
   "cell_type": "code",
   "execution_count": 23,
   "metadata": {},
   "outputs": [],
   "source": [
    "pipe = Pipeline([\n",
    "        ('model', LinearRegression())\n",
    "    ])\n"
   ]
  },
  {
   "cell_type": "code",
   "execution_count": 24,
   "metadata": {},
   "outputs": [
    {
     "name": "stdout",
     "output_type": "stream",
     "text": [
      "\n",
      "Metrics  on on train:\n",
      "------------------------------------------\n",
      "RMSE _____: 0.349915\n",
      "MAE ______: 0.254463\n",
      "R2 _______: 0.424583\n",
      "\n",
      "\n",
      "Metrics  on on test:\n",
      "------------------------------------------\n",
      "RMSE _____: 0.366266\n",
      "MAE ______: 0.253429\n",
      "R2 _______: 0.443463\n",
      "\n"
     ]
    }
   ],
   "source": [
    "pipe.fit(X_train,y_train)\n",
    "print_all_metrics(y_train, pipe.predict(X_train), mode='on train')\n",
    "\n",
    "print_all_metrics(y_test,pipe.predict(X_test), mode='on test')"
   ]
  },
  {
   "cell_type": "markdown",
   "metadata": {},
   "source": [
    "### Проверим качество после изменений"
   ]
  },
  {
   "cell_type": "code",
   "execution_count": 25,
   "metadata": {},
   "outputs": [],
   "source": [
    "pipe_cripto = Pipeline([\n",
    "        ('transformer', Scrambler()),\n",
    "        ('model', LinearRegression())\n",
    "    ])\n"
   ]
  },
  {
   "cell_type": "code",
   "execution_count": 26,
   "metadata": {},
   "outputs": [
    {
     "name": "stdout",
     "output_type": "stream",
     "text": [
      "\n",
      "Metrics  on on train:\n",
      "------------------------------------------\n",
      "RMSE _____: 0.349915\n",
      "MAE ______: 0.254463\n",
      "R2 _______: 0.424583\n",
      "\n",
      "\n",
      "Metrics  on on test:\n",
      "------------------------------------------\n",
      "RMSE _____: 0.366266\n",
      "MAE ______: 0.253429\n",
      "R2 _______: 0.443463\n",
      "\n"
     ]
    }
   ],
   "source": [
    "pipe_cripto.fit(X_train,y_train)\n",
    "print_all_metrics(y_train, pipe_cripto.predict(X_train), mode='on train')\n",
    "\n",
    "print_all_metrics(y_test,pipe_cripto.predict(X_test), mode='on test')"
   ]
  },
  {
   "cell_type": "markdown",
   "metadata": {},
   "source": [
    "<div style=\"border: 3px solid blue; border-radius: 5px; padding: 10px;\">\n",
    "Вывод:\n",
    "    \n",
    "    Результат работы модели на исходных данных и преобразованных совпадает"
   ]
  },
  {
   "cell_type": "markdown",
   "metadata": {},
   "source": [
    "___"
   ]
  },
  {
   "cell_type": "markdown",
   "metadata": {},
   "source": [
    "## Вывод"
   ]
  },
  {
   "cell_type": "markdown",
   "metadata": {},
   "source": [
    "Был произведен выбор метода для защиты данных пользователей\n",
    "\n",
    "Было сделано:\n",
    "\n",
    "- загрузка и изучение данных: пропусков и аномалий нет, удалены 153 дубликата, переименованы столбцы\n",
    "\n",
    "- дан ответ на вопрос \"Влияет ли домножение матрицы признаков на обратимую матрицу на качествто модели\" - не влияет\n",
    "\n",
    "- предложен метод защиты данных: домножение матрицы признаков на обратимую матрицу полученную рандомно\n",
    "\n",
    "\n",
    "$$B = XP $$\n",
    "\n",
    "$$w_1 = \\arg\\min_{w_1} MSE(Bw_1, y)$$, где  $X$ — матрица признаков (нулевой столбец состоит из единиц)\n",
    "\n",
    " $y$ — вектор целевого признака\n",
    "\n",
    " $P$ — матрица, на которую умножаются признаки\n",
    "\n",
    " $w$ — вектор весов линейной регрессии (нулевой элемент равен сдвигу)\n",
    "\n",
    "- проверена работа модели линейной регресии на исходных и измененных данных: результат не изменился\n"
   ]
  }
 ],
 "metadata": {
  "ExecuteTimeLog": [
   {
    "duration": 349,
    "start_time": "2023-08-14T08:31:25.879Z"
   },
   {
    "duration": 84,
    "start_time": "2023-08-14T08:31:52.376Z"
   },
   {
    "duration": 15,
    "start_time": "2023-08-14T08:32:01.764Z"
   },
   {
    "duration": 8,
    "start_time": "2023-08-14T08:32:27.968Z"
   },
   {
    "duration": 11,
    "start_time": "2023-08-14T08:32:40.548Z"
   },
   {
    "duration": 66,
    "start_time": "2023-08-14T09:14:35.466Z"
   },
   {
    "duration": 9,
    "start_time": "2023-08-14T09:14:38.549Z"
   },
   {
    "duration": 20,
    "start_time": "2023-08-14T09:14:40.762Z"
   },
   {
    "duration": 446,
    "start_time": "2023-08-16T09:39:54.229Z"
   },
   {
    "duration": 92,
    "start_time": "2023-08-16T09:39:54.678Z"
   },
   {
    "duration": 19,
    "start_time": "2023-08-16T09:39:55.050Z"
   },
   {
    "duration": 13,
    "start_time": "2023-08-16T09:39:55.373Z"
   },
   {
    "duration": 26,
    "start_time": "2023-08-16T09:39:55.744Z"
   },
   {
    "duration": 6,
    "start_time": "2023-08-16T09:40:15.218Z"
   },
   {
    "duration": 8,
    "start_time": "2023-08-16T09:52:30.591Z"
   },
   {
    "duration": 6,
    "start_time": "2023-08-16T09:52:37.408Z"
   },
   {
    "duration": 9,
    "start_time": "2023-08-16T09:52:47.265Z"
   },
   {
    "duration": 10,
    "start_time": "2023-08-16T09:53:03.667Z"
   },
   {
    "duration": 38,
    "start_time": "2023-08-16T18:02:36.231Z"
   },
   {
    "duration": 1577,
    "start_time": "2023-08-16T18:02:36.271Z"
   },
   {
    "duration": 113,
    "start_time": "2023-08-16T18:02:37.850Z"
   },
   {
    "duration": 3,
    "start_time": "2023-08-16T18:02:37.965Z"
   },
   {
    "duration": 37,
    "start_time": "2023-08-16T18:02:37.969Z"
   },
   {
    "duration": 17,
    "start_time": "2023-08-16T18:02:38.007Z"
   },
   {
    "duration": 57,
    "start_time": "2023-08-16T18:02:38.026Z"
   },
   {
    "duration": 1522,
    "start_time": "2023-08-16T18:02:38.084Z"
   },
   {
    "duration": 371,
    "start_time": "2023-08-16T18:02:39.608Z"
   },
   {
    "duration": 6,
    "start_time": "2023-08-16T18:02:39.986Z"
   },
   {
    "duration": 54,
    "start_time": "2023-08-16T18:02:39.994Z"
   },
   {
    "duration": 6,
    "start_time": "2023-08-16T18:02:40.049Z"
   },
   {
    "duration": 34,
    "start_time": "2023-08-16T18:02:40.056Z"
   },
   {
    "duration": 14,
    "start_time": "2023-08-16T18:02:40.092Z"
   },
   {
    "duration": 12,
    "start_time": "2023-08-16T18:02:40.107Z"
   },
   {
    "duration": 16,
    "start_time": "2023-08-16T18:02:40.120Z"
   },
   {
    "duration": 149,
    "start_time": "2023-08-16T18:02:40.139Z"
   },
   {
    "duration": 6,
    "start_time": "2023-08-16T18:02:40.290Z"
   },
   {
    "duration": 8,
    "start_time": "2023-08-16T18:02:40.388Z"
   },
   {
    "duration": 23,
    "start_time": "2023-08-16T18:02:40.398Z"
   },
   {
    "duration": 48,
    "start_time": "2023-08-16T18:02:40.422Z"
   },
   {
    "duration": 86,
    "start_time": "2023-08-16T18:02:40.471Z"
   },
   {
    "duration": 33,
    "start_time": "2023-08-16T18:02:40.564Z"
   },
   {
    "duration": 14,
    "start_time": "2023-08-16T18:02:40.689Z"
   },
   {
    "duration": 6,
    "start_time": "2023-08-16T18:06:27.202Z"
   },
   {
    "duration": 7,
    "start_time": "2023-08-16T18:06:31.548Z"
   },
   {
    "duration": 32,
    "start_time": "2023-08-16T18:06:36.624Z"
   },
   {
    "duration": 1359,
    "start_time": "2023-08-16T18:06:36.658Z"
   },
   {
    "duration": 56,
    "start_time": "2023-08-16T18:06:38.019Z"
   },
   {
    "duration": 3,
    "start_time": "2023-08-16T18:06:38.077Z"
   },
   {
    "duration": 58,
    "start_time": "2023-08-16T18:06:38.081Z"
   },
   {
    "duration": 52,
    "start_time": "2023-08-16T18:06:38.140Z"
   },
   {
    "duration": 72,
    "start_time": "2023-08-16T18:06:38.194Z"
   },
   {
    "duration": 1526,
    "start_time": "2023-08-16T18:06:38.268Z"
   },
   {
    "duration": 341,
    "start_time": "2023-08-16T18:06:39.797Z"
   },
   {
    "duration": 6,
    "start_time": "2023-08-16T18:06:40.141Z"
   },
   {
    "duration": 38,
    "start_time": "2023-08-16T18:06:40.148Z"
   },
   {
    "duration": 21,
    "start_time": "2023-08-16T18:06:40.188Z"
   },
   {
    "duration": 19,
    "start_time": "2023-08-16T18:06:40.210Z"
   },
   {
    "duration": 25,
    "start_time": "2023-08-16T18:06:40.231Z"
   },
   {
    "duration": 27,
    "start_time": "2023-08-16T18:06:40.258Z"
   },
   {
    "duration": 27,
    "start_time": "2023-08-16T18:06:40.287Z"
   },
   {
    "duration": 174,
    "start_time": "2023-08-16T18:06:40.316Z"
   },
   {
    "duration": 196,
    "start_time": "2023-08-16T18:06:40.492Z"
   },
   {
    "duration": 8,
    "start_time": "2023-08-16T18:06:40.690Z"
   },
   {
    "duration": 48,
    "start_time": "2023-08-16T18:06:40.699Z"
   },
   {
    "duration": 39,
    "start_time": "2023-08-16T18:06:40.749Z"
   },
   {
    "duration": 43,
    "start_time": "2023-08-16T18:06:40.790Z"
   },
   {
    "duration": 155,
    "start_time": "2023-08-16T18:06:40.835Z"
   },
   {
    "duration": 101,
    "start_time": "2023-08-16T18:06:40.993Z"
   },
   {
    "duration": 3,
    "start_time": "2023-08-16T18:07:19.337Z"
   },
   {
    "duration": 3,
    "start_time": "2023-08-16T18:09:05.563Z"
   },
   {
    "duration": 13,
    "start_time": "2023-08-16T18:09:16.774Z"
   },
   {
    "duration": 260,
    "start_time": "2023-08-16T18:09:37.078Z"
   },
   {
    "duration": 15,
    "start_time": "2023-08-16T18:09:46.140Z"
   },
   {
    "duration": 38,
    "start_time": "2023-08-16T18:10:44.251Z"
   },
   {
    "duration": 1476,
    "start_time": "2023-08-16T18:10:44.290Z"
   },
   {
    "duration": 102,
    "start_time": "2023-08-16T18:10:45.767Z"
   },
   {
    "duration": 3,
    "start_time": "2023-08-16T18:10:45.870Z"
   },
   {
    "duration": 45,
    "start_time": "2023-08-16T18:10:45.875Z"
   },
   {
    "duration": 25,
    "start_time": "2023-08-16T18:10:45.922Z"
   },
   {
    "duration": 48,
    "start_time": "2023-08-16T18:10:45.948Z"
   },
   {
    "duration": 1509,
    "start_time": "2023-08-16T18:10:45.997Z"
   },
   {
    "duration": 343,
    "start_time": "2023-08-16T18:10:47.508Z"
   },
   {
    "duration": 6,
    "start_time": "2023-08-16T18:10:47.853Z"
   },
   {
    "duration": 34,
    "start_time": "2023-08-16T18:10:47.860Z"
   },
   {
    "duration": 16,
    "start_time": "2023-08-16T18:10:47.895Z"
   },
   {
    "duration": 25,
    "start_time": "2023-08-16T18:10:47.913Z"
   },
   {
    "duration": 18,
    "start_time": "2023-08-16T18:10:47.940Z"
   },
   {
    "duration": 27,
    "start_time": "2023-08-16T18:10:47.960Z"
   },
   {
    "duration": 33,
    "start_time": "2023-08-16T18:10:47.989Z"
   },
   {
    "duration": 67,
    "start_time": "2023-08-16T18:10:48.024Z"
   },
   {
    "duration": 197,
    "start_time": "2023-08-16T18:10:48.093Z"
   },
   {
    "duration": 20,
    "start_time": "2023-08-16T18:10:48.291Z"
   },
   {
    "duration": 32,
    "start_time": "2023-08-16T18:10:48.312Z"
   },
   {
    "duration": 26,
    "start_time": "2023-08-16T18:10:48.346Z"
   },
   {
    "duration": 27,
    "start_time": "2023-08-16T18:10:48.374Z"
   },
   {
    "duration": 185,
    "start_time": "2023-08-16T18:10:48.403Z"
   },
   {
    "duration": 102,
    "start_time": "2023-08-16T18:10:48.591Z"
   },
   {
    "duration": 84,
    "start_time": "2023-08-16T18:11:57.301Z"
   },
   {
    "duration": 1347,
    "start_time": "2023-08-16T18:11:57.387Z"
   },
   {
    "duration": 57,
    "start_time": "2023-08-16T18:11:58.735Z"
   },
   {
    "duration": 3,
    "start_time": "2023-08-16T18:11:58.795Z"
   },
   {
    "duration": 19,
    "start_time": "2023-08-16T18:11:58.799Z"
   },
   {
    "duration": 11,
    "start_time": "2023-08-16T18:11:58.819Z"
   },
   {
    "duration": 27,
    "start_time": "2023-08-16T18:11:58.831Z"
   },
   {
    "duration": 1590,
    "start_time": "2023-08-16T18:11:58.860Z"
   },
   {
    "duration": 392,
    "start_time": "2023-08-16T18:12:00.452Z"
   },
   {
    "duration": 6,
    "start_time": "2023-08-16T18:12:00.847Z"
   },
   {
    "duration": 62,
    "start_time": "2023-08-16T18:12:00.855Z"
   },
   {
    "duration": 27,
    "start_time": "2023-08-16T18:12:00.919Z"
   },
   {
    "duration": 48,
    "start_time": "2023-08-16T18:12:00.948Z"
   },
   {
    "duration": 47,
    "start_time": "2023-08-16T18:12:00.997Z"
   },
   {
    "duration": 50,
    "start_time": "2023-08-16T18:12:01.045Z"
   },
   {
    "duration": 222,
    "start_time": "2023-08-16T18:12:01.096Z"
   },
   {
    "duration": 253,
    "start_time": "2023-08-16T18:12:01.320Z"
   },
   {
    "duration": 176,
    "start_time": "2023-08-16T18:12:01.575Z"
   },
   {
    "duration": 150,
    "start_time": "2023-08-16T18:12:01.787Z"
   },
   {
    "duration": 63,
    "start_time": "2023-08-16T18:12:01.939Z"
   },
   {
    "duration": 34,
    "start_time": "2023-08-16T18:12:02.004Z"
   },
   {
    "duration": 62,
    "start_time": "2023-08-16T18:12:02.039Z"
   },
   {
    "duration": 94,
    "start_time": "2023-08-16T18:12:02.103Z"
   },
   {
    "duration": 196,
    "start_time": "2023-08-16T18:12:02.199Z"
   },
   {
    "duration": 50,
    "start_time": "2023-08-16T19:22:05.717Z"
   },
   {
    "duration": 2868,
    "start_time": "2023-08-16T19:22:05.769Z"
   },
   {
    "duration": 72,
    "start_time": "2023-08-16T19:22:08.638Z"
   },
   {
    "duration": 2,
    "start_time": "2023-08-16T19:22:08.713Z"
   },
   {
    "duration": 14,
    "start_time": "2023-08-16T19:22:08.717Z"
   },
   {
    "duration": 10,
    "start_time": "2023-08-16T19:22:08.733Z"
   },
   {
    "duration": 21,
    "start_time": "2023-08-16T19:22:08.744Z"
   },
   {
    "duration": 1546,
    "start_time": "2023-08-16T19:22:08.767Z"
   },
   {
    "duration": 349,
    "start_time": "2023-08-16T19:22:10.315Z"
   },
   {
    "duration": 5,
    "start_time": "2023-08-16T19:22:10.666Z"
   },
   {
    "duration": 15,
    "start_time": "2023-08-16T19:22:10.672Z"
   },
   {
    "duration": 21,
    "start_time": "2023-08-16T19:22:10.689Z"
   },
   {
    "duration": 5,
    "start_time": "2023-08-16T19:22:10.712Z"
   },
   {
    "duration": 16,
    "start_time": "2023-08-16T19:22:10.719Z"
   },
   {
    "duration": 6,
    "start_time": "2023-08-16T19:22:10.736Z"
   },
   {
    "duration": 7,
    "start_time": "2023-08-16T19:22:10.744Z"
   },
   {
    "duration": 67,
    "start_time": "2023-08-16T19:22:10.752Z"
   },
   {
    "duration": 5,
    "start_time": "2023-08-16T19:22:10.901Z"
   },
   {
    "duration": 91,
    "start_time": "2023-08-16T19:22:10.914Z"
   },
   {
    "duration": 8,
    "start_time": "2023-08-16T19:22:11.007Z"
   },
   {
    "duration": 5,
    "start_time": "2023-08-16T19:22:11.017Z"
   },
   {
    "duration": 12,
    "start_time": "2023-08-16T19:22:11.024Z"
   },
   {
    "duration": 67,
    "start_time": "2023-08-16T19:22:11.038Z"
   },
   {
    "duration": 106,
    "start_time": "2023-08-16T19:22:11.107Z"
   },
   {
    "duration": 60,
    "start_time": "2023-08-17T12:48:43.270Z"
   },
   {
    "duration": 1864,
    "start_time": "2023-08-17T12:48:43.333Z"
   },
   {
    "duration": 174,
    "start_time": "2023-08-17T12:48:45.201Z"
   },
   {
    "duration": 4,
    "start_time": "2023-08-17T12:48:45.379Z"
   },
   {
    "duration": 28,
    "start_time": "2023-08-17T12:48:45.385Z"
   },
   {
    "duration": 25,
    "start_time": "2023-08-17T12:48:45.416Z"
   },
   {
    "duration": 45,
    "start_time": "2023-08-17T12:48:45.443Z"
   },
   {
    "duration": 1827,
    "start_time": "2023-08-17T12:48:45.491Z"
   },
   {
    "duration": 458,
    "start_time": "2023-08-17T12:48:47.321Z"
   },
   {
    "duration": 7,
    "start_time": "2023-08-17T12:48:47.782Z"
   },
   {
    "duration": 14,
    "start_time": "2023-08-17T12:48:47.790Z"
   },
   {
    "duration": 5,
    "start_time": "2023-08-17T12:48:47.806Z"
   },
   {
    "duration": 8,
    "start_time": "2023-08-17T12:48:47.812Z"
   },
   {
    "duration": 8,
    "start_time": "2023-08-17T12:48:47.823Z"
   },
   {
    "duration": 6,
    "start_time": "2023-08-17T12:48:47.860Z"
   },
   {
    "duration": 19,
    "start_time": "2023-08-17T12:48:47.868Z"
   },
   {
    "duration": 74,
    "start_time": "2023-08-17T12:48:47.889Z"
   },
   {
    "duration": 5,
    "start_time": "2023-08-17T12:48:47.965Z"
   },
   {
    "duration": 105,
    "start_time": "2023-08-17T12:48:47.972Z"
   },
   {
    "duration": 85,
    "start_time": "2023-08-17T12:48:48.080Z"
   },
   {
    "duration": 14,
    "start_time": "2023-08-17T12:48:48.167Z"
   },
   {
    "duration": 10,
    "start_time": "2023-08-17T12:48:48.182Z"
   },
   {
    "duration": 73,
    "start_time": "2023-08-17T12:48:48.194Z"
   },
   {
    "duration": 48,
    "start_time": "2023-08-17T12:48:48.269Z"
   },
   {
    "duration": 4,
    "start_time": "2023-08-17T12:48:48.319Z"
   },
   {
    "duration": 105,
    "start_time": "2023-08-17T12:48:48.359Z"
   },
   {
    "duration": 62,
    "start_time": "2023-08-17T12:54:16.245Z"
   },
   {
    "duration": 1440,
    "start_time": "2023-08-17T12:54:16.310Z"
   },
   {
    "duration": 66,
    "start_time": "2023-08-17T12:54:17.754Z"
   },
   {
    "duration": 3,
    "start_time": "2023-08-17T12:54:17.822Z"
   },
   {
    "duration": 28,
    "start_time": "2023-08-17T12:54:17.828Z"
   },
   {
    "duration": 20,
    "start_time": "2023-08-17T12:54:17.858Z"
   },
   {
    "duration": 31,
    "start_time": "2023-08-17T12:54:17.880Z"
   },
   {
    "duration": 1712,
    "start_time": "2023-08-17T12:54:17.913Z"
   },
   {
    "duration": 382,
    "start_time": "2023-08-17T12:54:19.628Z"
   },
   {
    "duration": 8,
    "start_time": "2023-08-17T12:54:20.013Z"
   },
   {
    "duration": 49,
    "start_time": "2023-08-17T12:54:20.023Z"
   },
   {
    "duration": 35,
    "start_time": "2023-08-17T12:54:20.075Z"
   },
   {
    "duration": 46,
    "start_time": "2023-08-17T12:54:20.113Z"
   },
   {
    "duration": 40,
    "start_time": "2023-08-17T12:54:20.163Z"
   },
   {
    "duration": 29,
    "start_time": "2023-08-17T12:54:20.205Z"
   },
   {
    "duration": 23,
    "start_time": "2023-08-17T12:54:20.236Z"
   },
   {
    "duration": 97,
    "start_time": "2023-08-17T12:54:20.261Z"
   },
   {
    "duration": 10,
    "start_time": "2023-08-17T12:54:20.361Z"
   },
   {
    "duration": 94,
    "start_time": "2023-08-17T12:54:20.373Z"
   },
   {
    "duration": 17,
    "start_time": "2023-08-17T12:54:20.470Z"
   },
   {
    "duration": 48,
    "start_time": "2023-08-17T12:54:20.489Z"
   },
   {
    "duration": 11,
    "start_time": "2023-08-17T12:54:20.539Z"
   },
   {
    "duration": 13,
    "start_time": "2023-08-17T12:54:20.552Z"
   },
   {
    "duration": 194,
    "start_time": "2023-08-17T12:54:20.567Z"
   },
   {
    "duration": 4,
    "start_time": "2023-08-17T12:54:20.763Z"
   },
   {
    "duration": 91,
    "start_time": "2023-08-17T12:54:20.769Z"
   },
   {
    "duration": 59,
    "start_time": "2023-08-17T13:08:56.746Z"
   },
   {
    "duration": 1504,
    "start_time": "2023-08-17T13:08:56.809Z"
   },
   {
    "duration": 72,
    "start_time": "2023-08-17T13:08:58.318Z"
   },
   {
    "duration": 3,
    "start_time": "2023-08-17T13:08:58.392Z"
   },
   {
    "duration": 29,
    "start_time": "2023-08-17T13:08:58.398Z"
   },
   {
    "duration": 12,
    "start_time": "2023-08-17T13:08:58.428Z"
   },
   {
    "duration": 42,
    "start_time": "2023-08-17T13:08:58.443Z"
   },
   {
    "duration": 1717,
    "start_time": "2023-08-17T13:08:58.488Z"
   },
   {
    "duration": 405,
    "start_time": "2023-08-17T13:09:00.207Z"
   },
   {
    "duration": 7,
    "start_time": "2023-08-17T13:09:00.614Z"
   },
   {
    "duration": 45,
    "start_time": "2023-08-17T13:09:00.623Z"
   },
   {
    "duration": 40,
    "start_time": "2023-08-17T13:09:00.670Z"
   },
   {
    "duration": 66,
    "start_time": "2023-08-17T13:09:00.712Z"
   },
   {
    "duration": 53,
    "start_time": "2023-08-17T13:09:00.781Z"
   },
   {
    "duration": 47,
    "start_time": "2023-08-17T13:09:00.836Z"
   },
   {
    "duration": 48,
    "start_time": "2023-08-17T13:09:00.885Z"
   },
   {
    "duration": 153,
    "start_time": "2023-08-17T13:09:00.934Z"
   },
   {
    "duration": 172,
    "start_time": "2023-08-17T13:09:01.089Z"
   },
   {
    "duration": 31,
    "start_time": "2023-08-17T13:09:01.263Z"
   },
   {
    "duration": 54,
    "start_time": "2023-08-17T13:09:01.296Z"
   },
   {
    "duration": 44,
    "start_time": "2023-08-17T13:09:01.352Z"
   },
   {
    "duration": 37,
    "start_time": "2023-08-17T13:09:01.399Z"
   },
   {
    "duration": 45,
    "start_time": "2023-08-17T13:09:01.439Z"
   },
   {
    "duration": 50,
    "start_time": "2023-08-17T13:09:01.487Z"
   },
   {
    "duration": 35,
    "start_time": "2023-08-17T13:09:01.538Z"
   },
   {
    "duration": 57,
    "start_time": "2023-08-17T13:09:01.661Z"
   }
  ],
  "kernelspec": {
   "display_name": "Python 3 (ipykernel)",
   "language": "python",
   "name": "python3"
  },
  "language_info": {
   "codemirror_mode": {
    "name": "ipython",
    "version": 3
   },
   "file_extension": ".py",
   "mimetype": "text/x-python",
   "name": "python",
   "nbconvert_exporter": "python",
   "pygments_lexer": "ipython3",
   "version": "3.8.5"
  },
  "toc": {
   "base_numbering": 1,
   "nav_menu": {},
   "number_sections": true,
   "sideBar": true,
   "skip_h1_title": true,
   "title_cell": "Содержание",
   "title_sidebar": "Contents",
   "toc_cell": true,
   "toc_position": {
    "height": "calc(100% - 180px)",
    "left": "10px",
    "top": "150px",
    "width": "359px"
   },
   "toc_section_display": true,
   "toc_window_display": false
  }
 },
 "nbformat": 4,
 "nbformat_minor": 2
}
